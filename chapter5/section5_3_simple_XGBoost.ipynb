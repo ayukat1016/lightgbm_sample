{
 "cells": [
  {
   "cell_type": "markdown",
   "metadata": {
    "id": "SaesAuqXnLys"
   },
   "source": [
    "# XGBoostの可視化"
   ]
  },
  {
   "cell_type": "code",
   "execution_count": null,
   "metadata": {
    "id": "ZLijJ84jWcro"
   },
   "outputs": [],
   "source": [
    "# # Colabでバージョンを変更するとき、コメントアウトして実行してください\n",
    "# !pip install numpy==1.22.4\n",
    "# !pip install matplotlib==3.7.1\n",
    "# !pip install graphviz==0.20.1\n",
    "# !pip install scikit-learn==1.2.2\n",
    "# !pip install xgboost==1.7.5"
   ]
  },
  {
   "cell_type": "code",
   "execution_count": 1,
   "metadata": {
    "id": "q2p1g_5H7CeY"
   },
   "outputs": [],
   "source": [
    "# ライブラリのインポート\n",
    "%matplotlib inline\n",
    "import matplotlib.pyplot as plt\n",
    "import numpy as np\n",
    "import pandas as pd\n",
    "from sklearn.metrics import mean_squared_error\n",
    "import xgboost as xgb"
   ]
  },
  {
   "cell_type": "code",
   "execution_count": 2,
   "metadata": {
    "colab": {
     "base_uri": "https://localhost:8080/"
    },
    "executionInfo": {
     "elapsed": 4,
     "status": "ok",
     "timestamp": 1685452600820,
     "user": {
      "displayName": "毛利拓也",
      "userId": "17854120745961292401"
     },
     "user_tz": -540
    },
    "id": "gIcKXLisXAgJ",
    "outputId": "73a477cf-9078-453a-c6eb-7d1e37565ab6"
   },
   "outputs": [
    {
     "name": "stdout",
     "output_type": "stream",
     "text": [
      "1.22.4\n",
      "3.7.1\n",
      "1.2.2\n",
      "1.7.5\n"
     ]
    }
   ],
   "source": [
    "# バージョンの確認\n",
    "import matplotlib\n",
    "import sklearn\n",
    "print(np.__version__)\n",
    "print(matplotlib.__version__)\n",
    "print(sklearn.__version__)\n",
    "print(xgb.__version__)"
   ]
  },
  {
   "cell_type": "code",
   "execution_count": 3,
   "metadata": {
    "id": "R8FMeyxQHR3c"
   },
   "outputs": [],
   "source": [
    "# 特徴量と目的変数の設定\n",
    "X_train = np.array([[10], [20], [30], [40], [50], [60], [70], [80]])\n",
    "y_train = np.array([6, 5, 7, 1, 2, 1, 6, 4])"
   ]
  },
  {
   "cell_type": "code",
   "execution_count": 4,
   "metadata": {
    "id": "r6p2KvvSIXy0"
   },
   "outputs": [],
   "source": [
    "# ハイパーパラメータの設定\n",
    "\n",
    "xgb_train = xgb.DMatrix(X_train, label=y_train)\n",
    "\n",
    "params = {\n",
    "    'objective': 'reg:squarederror', # 損失関数\n",
    "    'eval_metric': 'rmse', # 評価指標\n",
    "    'max_depth': 2, # 深さの最大値\n",
    "    'learning_rate': 0.8, # 学習率\n",
    "    'base_score': 4, # 予測の初期値\n",
    "    'min_split_loss': 0, # 枝刈り\n",
    "    'reg_lambda': 0, # L2正則化\n",
    "    'reg_alpha': 0, # L1正則化\n",
    "    'seed': 0, # 乱数\n",
    "}"
   ]
  },
  {
   "cell_type": "code",
   "execution_count": 5,
   "metadata": {
    "colab": {
     "base_uri": "https://localhost:8080/"
    },
    "executionInfo": {
     "elapsed": 377,
     "status": "ok",
     "timestamp": 1685452615244,
     "user": {
      "displayName": "毛利拓也",
      "userId": "17854120745961292401"
     },
     "user_tz": -540
    },
    "id": "9fDhhbhwtJLn",
    "outputId": "762e89eb-b527-49a8-b2a0-2e421850a7f8"
   },
   "outputs": [
    {
     "name": "stdout",
     "output_type": "stream",
     "text": [
      "[0]\ttrain-rmse:0.76158\n",
      "[1]\ttrain-rmse:0.61774\n"
     ]
    }
   ],
   "source": [
    "# XGBoostの学習\n",
    "model = xgb.train(params,\n",
    "                  xgb_train,\n",
    "                  evals=[(xgb_train, 'train')],\n",
    "                  num_boost_round=2)"
   ]
  },
  {
   "cell_type": "code",
   "execution_count": 6,
   "metadata": {
    "colab": {
     "base_uri": "https://localhost:8080/"
    },
    "executionInfo": {
     "elapsed": 4,
     "status": "ok",
     "timestamp": 1685452620178,
     "user": {
      "displayName": "毛利拓也",
      "userId": "17854120745961292401"
     },
     "user_tz": -540
    },
    "id": "4YA6mof5z4Yf",
    "outputId": "36329f2c-6907-474a-9c44-d6e2e186dcd5"
   },
   "outputs": [
    {
     "data": {
      "text/plain": [
       "array([5.84     , 5.3599997, 6.56     , 1.4399999, 1.4399999, 1.4399999,\n",
       "       4.96     , 4.96     ], dtype=float32)"
      ]
     },
     "execution_count": 6,
     "metadata": {},
     "output_type": "execute_result"
    }
   ],
   "source": [
    "# XGBoostの予測\n",
    "model.predict(xgb.DMatrix(X_train))"
   ]
  },
  {
   "cell_type": "code",
   "execution_count": 7,
   "metadata": {
    "colab": {
     "base_uri": "https://localhost:8080/",
     "height": 312
    },
    "executionInfo": {
     "elapsed": 5,
     "status": "ok",
     "timestamp": 1685452625857,
     "user": {
      "displayName": "毛利拓也",
      "userId": "17854120745961292401"
     },
     "user_tz": -540
    },
    "id": "g-1JV2vUeybQ",
    "outputId": "197d8527-d006-4f72-ed85-ab03dcf359fc"
   },
   "outputs": [
    {
     "data": {
      "image/svg+xml": [
       "<?xml version=\"1.0\" encoding=\"UTF-8\" standalone=\"no\"?>\n",
       "<!DOCTYPE svg PUBLIC \"-//W3C//DTD SVG 1.1//EN\"\n",
       " \"http://www.w3.org/Graphics/SVG/1.1/DTD/svg11.dtd\">\n",
       "<!-- Generated by graphviz version 2.43.0 (0)\n",
       " -->\n",
       "<!-- Title: %3 Pages: 1 -->\n",
       "<svg width=\"796pt\" height=\"218pt\"\n",
       " viewBox=\"0.00 0.00 795.83 218.00\" xmlns=\"http://www.w3.org/2000/svg\" xmlns:xlink=\"http://www.w3.org/1999/xlink\">\n",
       "<g id=\"graph0\" class=\"graph\" transform=\"scale(1 1) rotate(0) translate(4 214)\">\n",
       "<title>%3</title>\n",
       "<polygon fill=\"white\" stroke=\"transparent\" points=\"-4,4 -4,-214 791.83,-214 791.83,4 -4,4\"/>\n",
       "<!-- 0 -->\n",
       "<g id=\"node1\" class=\"node\">\n",
       "<title>0</title>\n",
       "<ellipse fill=\"none\" stroke=\"black\" cx=\"362.99\" cy=\"-192\" rx=\"39.79\" ry=\"18\"/>\n",
       "<text text-anchor=\"middle\" x=\"362.99\" y=\"-188.3\" font-family=\"Times,serif\" font-size=\"14.00\">f0&lt;35</text>\n",
       "</g>\n",
       "<!-- 1 -->\n",
       "<g id=\"node2\" class=\"node\">\n",
       "<title>1</title>\n",
       "<ellipse fill=\"none\" stroke=\"black\" cx=\"284.99\" cy=\"-105\" rx=\"39.79\" ry=\"18\"/>\n",
       "<text text-anchor=\"middle\" x=\"284.99\" y=\"-101.3\" font-family=\"Times,serif\" font-size=\"14.00\">f0&lt;25</text>\n",
       "</g>\n",
       "<!-- 0&#45;&gt;1 -->\n",
       "<g id=\"edge1\" class=\"edge\">\n",
       "<title>0&#45;&gt;1</title>\n",
       "<path fill=\"none\" stroke=\"#0000ff\" d=\"M348.32,-175.01C336.55,-162.19 319.87,-144.01 306.58,-129.52\"/>\n",
       "<polygon fill=\"#0000ff\" stroke=\"#0000ff\" points=\"308.94,-126.92 299.6,-121.92 303.78,-131.65 308.94,-126.92\"/>\n",
       "<text text-anchor=\"middle\" x=\"373.49\" y=\"-144.8\" font-family=\"Times,serif\" font-size=\"14.00\">yes, missing</text>\n",
       "</g>\n",
       "<!-- 2 -->\n",
       "<g id=\"node3\" class=\"node\">\n",
       "<title>2</title>\n",
       "<ellipse fill=\"none\" stroke=\"black\" cx=\"481.99\" cy=\"-105\" rx=\"39.79\" ry=\"18\"/>\n",
       "<text text-anchor=\"middle\" x=\"481.99\" y=\"-101.3\" font-family=\"Times,serif\" font-size=\"14.00\">f0&lt;65</text>\n",
       "</g>\n",
       "<!-- 0&#45;&gt;2 -->\n",
       "<g id=\"edge2\" class=\"edge\">\n",
       "<title>0&#45;&gt;2</title>\n",
       "<path fill=\"none\" stroke=\"#ff0000\" d=\"M387.36,-177.71C398.22,-171.5 411,-163.77 421.99,-156 434.08,-147.46 446.77,-137.11 457.35,-128.05\"/>\n",
       "<polygon fill=\"#ff0000\" stroke=\"#ff0000\" points=\"459.73,-130.62 464.99,-121.42 455.14,-125.33 459.73,-130.62\"/>\n",
       "<text text-anchor=\"middle\" x=\"448.99\" y=\"-144.8\" font-family=\"Times,serif\" font-size=\"14.00\">no</text>\n",
       "</g>\n",
       "<!-- 3 -->\n",
       "<g id=\"node4\" class=\"node\">\n",
       "<title>3</title>\n",
       "<ellipse fill=\"none\" stroke=\"black\" cx=\"90.99\" cy=\"-18\" rx=\"90.98\" ry=\"18\"/>\n",
       "<text text-anchor=\"middle\" x=\"90.99\" y=\"-14.3\" font-family=\"Times,serif\" font-size=\"14.00\">leaf=1.20000005</text>\n",
       "</g>\n",
       "<!-- 1&#45;&gt;3 -->\n",
       "<g id=\"edge3\" class=\"edge\">\n",
       "<title>1&#45;&gt;3</title>\n",
       "<path fill=\"none\" stroke=\"#0000ff\" d=\"M254.53,-93.4C236.22,-86.82 212.56,-77.94 191.99,-69 171.42,-60.06 149.02,-49.1 130.55,-39.73\"/>\n",
       "<polygon fill=\"#0000ff\" stroke=\"#0000ff\" points=\"132.06,-36.56 121.56,-35.13 128.87,-42.8 132.06,-36.56\"/>\n",
       "<text text-anchor=\"middle\" x=\"236.49\" y=\"-57.8\" font-family=\"Times,serif\" font-size=\"14.00\">yes, missing</text>\n",
       "</g>\n",
       "<!-- 4 -->\n",
       "<g id=\"node5\" class=\"node\">\n",
       "<title>4</title>\n",
       "<ellipse fill=\"none\" stroke=\"black\" cx=\"284.99\" cy=\"-18\" rx=\"85.29\" ry=\"18\"/>\n",
       "<text text-anchor=\"middle\" x=\"284.99\" y=\"-14.3\" font-family=\"Times,serif\" font-size=\"14.00\">leaf=2.4000001</text>\n",
       "</g>\n",
       "<!-- 1&#45;&gt;4 -->\n",
       "<g id=\"edge4\" class=\"edge\">\n",
       "<title>1&#45;&gt;4</title>\n",
       "<path fill=\"none\" stroke=\"#ff0000\" d=\"M284.99,-86.8C284.99,-75.16 284.99,-59.55 284.99,-46.24\"/>\n",
       "<polygon fill=\"#ff0000\" stroke=\"#ff0000\" points=\"288.49,-46.18 284.99,-36.18 281.49,-46.18 288.49,-46.18\"/>\n",
       "<text text-anchor=\"middle\" x=\"293.99\" y=\"-57.8\" font-family=\"Times,serif\" font-size=\"14.00\">no</text>\n",
       "</g>\n",
       "<!-- 5 -->\n",
       "<g id=\"node6\" class=\"node\">\n",
       "<title>5</title>\n",
       "<ellipse fill=\"none\" stroke=\"black\" cx=\"481.99\" cy=\"-18\" rx=\"94.48\" ry=\"18\"/>\n",
       "<text text-anchor=\"middle\" x=\"481.99\" y=\"-14.3\" font-family=\"Times,serif\" font-size=\"14.00\">leaf=&#45;2.13333344</text>\n",
       "</g>\n",
       "<!-- 2&#45;&gt;5 -->\n",
       "<g id=\"edge5\" class=\"edge\">\n",
       "<title>2&#45;&gt;5</title>\n",
       "<path fill=\"none\" stroke=\"#0000ff\" d=\"M481.99,-86.8C481.99,-75.16 481.99,-59.55 481.99,-46.24\"/>\n",
       "<polygon fill=\"#0000ff\" stroke=\"#0000ff\" points=\"485.49,-46.18 481.99,-36.18 478.49,-46.18 485.49,-46.18\"/>\n",
       "<text text-anchor=\"middle\" x=\"526.49\" y=\"-57.8\" font-family=\"Times,serif\" font-size=\"14.00\">yes, missing</text>\n",
       "</g>\n",
       "<!-- 6 -->\n",
       "<g id=\"node7\" class=\"node\">\n",
       "<title>6</title>\n",
       "<ellipse fill=\"none\" stroke=\"black\" cx=\"690.99\" cy=\"-18\" rx=\"96.68\" ry=\"18\"/>\n",
       "<text text-anchor=\"middle\" x=\"690.99\" y=\"-14.3\" font-family=\"Times,serif\" font-size=\"14.00\">leaf=0.800000012</text>\n",
       "</g>\n",
       "<!-- 2&#45;&gt;6 -->\n",
       "<g id=\"edge6\" class=\"edge\">\n",
       "<title>2&#45;&gt;6</title>\n",
       "<path fill=\"none\" stroke=\"#ff0000\" d=\"M511.87,-93.16C530.17,-86.42 554.03,-77.46 574.99,-69 598.64,-59.46 624.74,-48.27 646.19,-38.9\"/>\n",
       "<polygon fill=\"#ff0000\" stroke=\"#ff0000\" points=\"647.63,-42.09 655.38,-34.87 644.81,-35.68 647.63,-42.09\"/>\n",
       "<text text-anchor=\"middle\" x=\"618.99\" y=\"-57.8\" font-family=\"Times,serif\" font-size=\"14.00\">no</text>\n",
       "</g>\n",
       "</g>\n",
       "</svg>\n"
      ],
      "text/plain": [
       "<graphviz.sources.Source at 0x7fdfab863880>"
      ]
     },
     "execution_count": 7,
     "metadata": {},
     "output_type": "execute_result"
    }
   ],
   "source": [
    "# 1本目の木の可視化\n",
    "xgb.to_graphviz(model, num_trees=0)"
   ]
  },
  {
   "cell_type": "code",
   "execution_count": 8,
   "metadata": {
    "colab": {
     "base_uri": "https://localhost:8080/",
     "height": 312
    },
    "executionInfo": {
     "elapsed": 7,
     "status": "ok",
     "timestamp": 1685452628594,
     "user": {
      "displayName": "毛利拓也",
      "userId": "17854120745961292401"
     },
     "user_tz": -540
    },
    "id": "GzkTNElC4G8W",
    "outputId": "4dfefa74-91e0-4b9c-9cb7-30a39234861b"
   },
   "outputs": [
    {
     "data": {
      "image/svg+xml": [
       "<?xml version=\"1.0\" encoding=\"UTF-8\" standalone=\"no\"?>\n",
       "<!DOCTYPE svg PUBLIC \"-//W3C//DTD SVG 1.1//EN\"\n",
       " \"http://www.w3.org/Graphics/SVG/1.1/DTD/svg11.dtd\">\n",
       "<!-- Generated by graphviz version 2.43.0 (0)\n",
       " -->\n",
       "<!-- Title: %3 Pages: 1 -->\n",
       "<svg width=\"844pt\" height=\"218pt\"\n",
       " viewBox=\"0.00 0.00 843.68 218.00\" xmlns=\"http://www.w3.org/2000/svg\" xmlns:xlink=\"http://www.w3.org/1999/xlink\">\n",
       "<g id=\"graph0\" class=\"graph\" transform=\"scale(1 1) rotate(0) translate(4 214)\">\n",
       "<title>%3</title>\n",
       "<polygon fill=\"white\" stroke=\"transparent\" points=\"-4,4 -4,-214 839.68,-214 839.68,4 -4,4\"/>\n",
       "<!-- 0 -->\n",
       "<g id=\"node1\" class=\"node\">\n",
       "<title>0</title>\n",
       "<ellipse fill=\"none\" stroke=\"black\" cx=\"390.84\" cy=\"-192\" rx=\"39.79\" ry=\"18\"/>\n",
       "<text text-anchor=\"middle\" x=\"390.84\" y=\"-188.3\" font-family=\"Times,serif\" font-size=\"14.00\">f0&lt;35</text>\n",
       "</g>\n",
       "<!-- 1 -->\n",
       "<g id=\"node2\" class=\"node\">\n",
       "<title>1</title>\n",
       "<ellipse fill=\"none\" stroke=\"black\" cx=\"308.84\" cy=\"-105\" rx=\"39.79\" ry=\"18\"/>\n",
       "<text text-anchor=\"middle\" x=\"308.84\" y=\"-101.3\" font-family=\"Times,serif\" font-size=\"14.00\">f0&lt;15</text>\n",
       "</g>\n",
       "<!-- 0&#45;&gt;1 -->\n",
       "<g id=\"edge1\" class=\"edge\">\n",
       "<title>0&#45;&gt;1</title>\n",
       "<path fill=\"none\" stroke=\"#0000ff\" d=\"M375.42,-175.01C362.93,-162.07 345.18,-143.67 331.15,-129.12\"/>\n",
       "<polygon fill=\"#0000ff\" stroke=\"#0000ff\" points=\"333.66,-126.68 324.2,-121.92 328.62,-131.54 333.66,-126.68\"/>\n",
       "<text text-anchor=\"middle\" x=\"399.34\" y=\"-144.8\" font-family=\"Times,serif\" font-size=\"14.00\">yes, missing</text>\n",
       "</g>\n",
       "<!-- 2 -->\n",
       "<g id=\"node3\" class=\"node\">\n",
       "<title>2</title>\n",
       "<ellipse fill=\"none\" stroke=\"black\" cx=\"523.84\" cy=\"-105\" rx=\"39.79\" ry=\"18\"/>\n",
       "<text text-anchor=\"middle\" x=\"523.84\" y=\"-101.3\" font-family=\"Times,serif\" font-size=\"14.00\">f0&lt;65</text>\n",
       "</g>\n",
       "<!-- 0&#45;&gt;2 -->\n",
       "<g id=\"edge2\" class=\"edge\">\n",
       "<title>0&#45;&gt;2</title>\n",
       "<path fill=\"none\" stroke=\"#ff0000\" d=\"M413.69,-177.2C424.14,-170.82 436.67,-163.1 447.84,-156 463.04,-146.34 479.78,-135.36 493.67,-126.16\"/>\n",
       "<polygon fill=\"#ff0000\" stroke=\"#ff0000\" points=\"495.94,-128.85 502.34,-120.4 492.07,-123.02 495.94,-128.85\"/>\n",
       "<text text-anchor=\"middle\" x=\"480.84\" y=\"-144.8\" font-family=\"Times,serif\" font-size=\"14.00\">no</text>\n",
       "</g>\n",
       "<!-- 3 -->\n",
       "<g id=\"node4\" class=\"node\">\n",
       "<title>3</title>\n",
       "<ellipse fill=\"none\" stroke=\"black\" cx=\"96.84\" cy=\"-18\" rx=\"96.68\" ry=\"18\"/>\n",
       "<text text-anchor=\"middle\" x=\"96.84\" y=\"-14.3\" font-family=\"Times,serif\" font-size=\"14.00\">leaf=0.640000165</text>\n",
       "</g>\n",
       "<!-- 1&#45;&gt;3 -->\n",
       "<g id=\"edge3\" class=\"edge\">\n",
       "<title>1&#45;&gt;3</title>\n",
       "<path fill=\"none\" stroke=\"#0000ff\" d=\"M278.99,-93.09C260.7,-86.33 236.84,-77.36 215.84,-69 191.63,-59.36 164.86,-48.16 142.85,-38.81\"/>\n",
       "<polygon fill=\"#0000ff\" stroke=\"#0000ff\" points=\"143.99,-35.49 133.42,-34.79 141.24,-41.93 143.99,-35.49\"/>\n",
       "<text text-anchor=\"middle\" x=\"260.34\" y=\"-57.8\" font-family=\"Times,serif\" font-size=\"14.00\">yes, missing</text>\n",
       "</g>\n",
       "<!-- 4 -->\n",
       "<g id=\"node5\" class=\"node\">\n",
       "<title>4</title>\n",
       "<ellipse fill=\"none\" stroke=\"black\" cx=\"308.84\" cy=\"-18\" rx=\"96.68\" ry=\"18\"/>\n",
       "<text text-anchor=\"middle\" x=\"308.84\" y=\"-14.3\" font-family=\"Times,serif\" font-size=\"14.00\">leaf=0.160000041</text>\n",
       "</g>\n",
       "<!-- 1&#45;&gt;4 -->\n",
       "<g id=\"edge4\" class=\"edge\">\n",
       "<title>1&#45;&gt;4</title>\n",
       "<path fill=\"none\" stroke=\"#ff0000\" d=\"M308.84,-86.8C308.84,-75.16 308.84,-59.55 308.84,-46.24\"/>\n",
       "<polygon fill=\"#ff0000\" stroke=\"#ff0000\" points=\"312.34,-46.18 308.84,-36.18 305.34,-46.18 312.34,-46.18\"/>\n",
       "<text text-anchor=\"middle\" x=\"317.84\" y=\"-57.8\" font-family=\"Times,serif\" font-size=\"14.00\">no</text>\n",
       "</g>\n",
       "<!-- 5 -->\n",
       "<g id=\"node6\" class=\"node\">\n",
       "<title>5</title>\n",
       "<ellipse fill=\"none\" stroke=\"black\" cx=\"523.84\" cy=\"-18\" rx=\"100.18\" ry=\"18\"/>\n",
       "<text text-anchor=\"middle\" x=\"523.84\" y=\"-14.3\" font-family=\"Times,serif\" font-size=\"14.00\">leaf=&#45;0.426666588</text>\n",
       "</g>\n",
       "<!-- 2&#45;&gt;5 -->\n",
       "<g id=\"edge5\" class=\"edge\">\n",
       "<title>2&#45;&gt;5</title>\n",
       "<path fill=\"none\" stroke=\"#0000ff\" d=\"M523.84,-86.8C523.84,-75.16 523.84,-59.55 523.84,-46.24\"/>\n",
       "<polygon fill=\"#0000ff\" stroke=\"#0000ff\" points=\"527.34,-46.18 523.84,-36.18 520.34,-46.18 527.34,-46.18\"/>\n",
       "<text text-anchor=\"middle\" x=\"568.34\" y=\"-57.8\" font-family=\"Times,serif\" font-size=\"14.00\">yes, missing</text>\n",
       "</g>\n",
       "<!-- 6 -->\n",
       "<g id=\"node7\" class=\"node\">\n",
       "<title>6</title>\n",
       "<ellipse fill=\"none\" stroke=\"black\" cx=\"738.84\" cy=\"-18\" rx=\"96.68\" ry=\"18\"/>\n",
       "<text text-anchor=\"middle\" x=\"738.84\" y=\"-14.3\" font-family=\"Times,serif\" font-size=\"14.00\">leaf=0.159999847</text>\n",
       "</g>\n",
       "<!-- 2&#45;&gt;6 -->\n",
       "<g id=\"edge6\" class=\"edge\">\n",
       "<title>2&#45;&gt;6</title>\n",
       "<path fill=\"none\" stroke=\"#ff0000\" d=\"M553.66,-93.03C571.95,-86.24 595.81,-77.27 616.84,-69 641.73,-59.22 669.3,-47.95 691.93,-38.6\"/>\n",
       "<polygon fill=\"#ff0000\" stroke=\"#ff0000\" points=\"693.41,-41.77 701.31,-34.71 690.73,-35.31 693.41,-41.77\"/>\n",
       "<text text-anchor=\"middle\" x=\"662.84\" y=\"-57.8\" font-family=\"Times,serif\" font-size=\"14.00\">no</text>\n",
       "</g>\n",
       "</g>\n",
       "</svg>\n"
      ],
      "text/plain": [
       "<graphviz.sources.Source at 0x7fdfffbd8280>"
      ]
     },
     "execution_count": 8,
     "metadata": {},
     "output_type": "execute_result"
    }
   ],
   "source": [
    "# 2本目の木の可視化\n",
    "xgb.to_graphviz(model, num_trees=1)"
   ]
  },
  {
   "cell_type": "code",
   "execution_count": null,
   "metadata": {
    "id": "Z_qMCqGdLhSH"
   },
   "outputs": [],
   "source": []
  },
  {
   "cell_type": "code",
   "execution_count": null,
   "metadata": {
    "id": "NZGOHBRQLhVA"
   },
   "outputs": [],
   "source": []
  },
  {
   "cell_type": "markdown",
   "metadata": {
    "id": "Hg-ziyLlnHMt"
   },
   "source": [
    "# 予測値の検証"
   ]
  },
  {
   "cell_type": "code",
   "execution_count": 9,
   "metadata": {
    "id": "bdH46TolfiRo"
   },
   "outputs": [],
   "source": [
    "# 二乗誤差の重み\n",
    "def weight(res, lam=0):\n",
    "    if len(res)==0:\n",
    "        return 0\n",
    "    return sum(res)/(len(res)+lam)"
   ]
  },
  {
   "cell_type": "code",
   "execution_count": 10,
   "metadata": {
    "id": "UHLqgvyruAoS"
   },
   "outputs": [],
   "source": [
    "# 二乗誤差の類似度\n",
    "def similarity(res, lam=0):\n",
    "    if len(res)==0:\n",
    "        return 0\n",
    "    return  sum(res)**2/(len(res)+lam)"
   ]
  },
  {
   "cell_type": "code",
   "execution_count": 11,
   "metadata": {
    "id": "a_4o1KXovr6r"
   },
   "outputs": [],
   "source": [
    "# 分割点ごとの左葉類似度＋右葉類似度の計算\n",
    "def split(X_train, residual):\n",
    "  # プロット用のリスト\n",
    "  index_plt = []\n",
    "  similarity_plt = []\n",
    "  # L2正則化\n",
    "  lam = 0\n",
    "  # 2次元配列を1次元配列\n",
    "  X_train = X_train.flatten()\n",
    "  # 分割点ごとの重みと類似度を計算\n",
    "  for i in range(1, len(X_train)):\n",
    "      X_left = np.array(X_train[:i])\n",
    "      X_right = np.array(X_train[i:])\n",
    "      res_left = np.array(residual[:i])\n",
    "      res_right = np.array(residual[i:])\n",
    "      # 分割点のインデックス      \n",
    "      print('*****')\n",
    "      print('index', i)\n",
    "      index_plt.append(i)\n",
    "      # 分割後の配列\n",
    "      print('X_left:', X_left)\n",
    "      print('X_right:', X_right)\n",
    "      print('res_left:', res_left)\n",
    "      print('res_right:', res_right)\n",
    "      # 重み\n",
    "      print('res_weight_left:', weight(res_left, lam))\n",
    "      print('res_weight_right:', weight(res_right, lam))\n",
    "      # 類似度\n",
    "      print('similarity_left:', similarity(res_left, lam))\n",
    "      print('similarity_right:', similarity(res_right, lam))      \n",
    "      # 左葉類似度＋右葉類似度の合計\n",
    "      print('similarity_total:', similarity(res_left, lam) + similarity(res_right, lam))\n",
    "      similarity_plt.append(similarity(res_left, lam) + similarity(res_right, lam))     \n",
    "      print('')\n",
    "\n",
    "  # 1次元配列→2次元配列\n",
    "  index_plt = np.array(index_plt)\n",
    "  X_plt = index_plt[:, np.newaxis]\n",
    "  # 分割点ごとの類似度を可視化\n",
    "  plt.figure(figsize=(10, 4)) #プロットのサイズ指定  \n",
    "  plt.plot(X_plt, similarity_plt)\n",
    "  plt.xlabel('index')\n",
    "  plt.ylabel('Similarity Score')\n",
    "  plt.title('Similarity Score vs Split Point index')\n",
    "  plt.grid()\n",
    "  plt.show()"
   ]
  },
  {
   "cell_type": "code",
   "execution_count": 12,
   "metadata": {
    "colab": {
     "base_uri": "https://localhost:8080/"
    },
    "executionInfo": {
     "elapsed": 4,
     "status": "ok",
     "timestamp": 1685452642263,
     "user": {
      "displayName": "毛利拓也",
      "userId": "17854120745961292401"
     },
     "user_tz": -540
    },
    "id": "PZIF46hzwf1r",
    "outputId": "11bee755-2e94-4e94-e06e-431ab8743f1c"
   },
   "outputs": [
    {
     "data": {
      "text/plain": [
       "4.0"
      ]
     },
     "execution_count": 12,
     "metadata": {},
     "output_type": "execute_result"
    }
   ],
   "source": [
    "# 初期値の計算\n",
    "pred0 = np.mean(y_train)\n",
    "pred0"
   ]
  },
  {
   "cell_type": "code",
   "execution_count": 13,
   "metadata": {
    "colab": {
     "base_uri": "https://localhost:8080/"
    },
    "executionInfo": {
     "elapsed": 4,
     "status": "ok",
     "timestamp": 1685452644387,
     "user": {
      "displayName": "毛利拓也",
      "userId": "17854120745961292401"
     },
     "user_tz": -540
    },
    "id": "LkE12AcWwgQg",
    "outputId": "a0e1407f-8bc6-41d1-b0a3-f719f90e79eb"
   },
   "outputs": [
    {
     "data": {
      "text/plain": [
       "array([ 2.,  1.,  3., -3., -2., -3.,  2.,  0.])"
      ]
     },
     "execution_count": 13,
     "metadata": {},
     "output_type": "execute_result"
    }
   ],
   "source": [
    "# 残差1=正解値-初期値\n",
    "residual1 = y_train - pred0\n",
    "residual1"
   ]
  },
  {
   "cell_type": "code",
   "execution_count": 14,
   "metadata": {
    "colab": {
     "base_uri": "https://localhost:8080/",
     "height": 1000
    },
    "executionInfo": {
     "elapsed": 628,
     "status": "ok",
     "timestamp": 1685452647333,
     "user": {
      "displayName": "毛利拓也",
      "userId": "17854120745961292401"
     },
     "user_tz": -540
    },
    "id": "pQXpZblYwiSE",
    "outputId": "929bd4ed-301a-451f-a597-904791646c84"
   },
   "outputs": [
    {
     "name": "stdout",
     "output_type": "stream",
     "text": [
      "*****\n",
      "index 1\n",
      "X_left: [10]\n",
      "X_right: [20 30 40 50 60 70 80]\n",
      "res_left: [2.]\n",
      "res_right: [ 1.  3. -3. -2. -3.  2.  0.]\n",
      "res_weight_left: 2.0\n",
      "res_weight_right: -0.2857142857142857\n",
      "similarity_left: 4.0\n",
      "similarity_right: 0.5714285714285714\n",
      "similarity_total: 4.571428571428571\n",
      "\n",
      "*****\n",
      "index 2\n",
      "X_left: [10 20]\n",
      "X_right: [30 40 50 60 70 80]\n",
      "res_left: [2. 1.]\n",
      "res_right: [ 3. -3. -2. -3.  2.  0.]\n",
      "res_weight_left: 1.5\n",
      "res_weight_right: -0.5\n",
      "similarity_left: 4.5\n",
      "similarity_right: 1.5\n",
      "similarity_total: 6.0\n",
      "\n",
      "*****\n",
      "index 3\n",
      "X_left: [10 20 30]\n",
      "X_right: [40 50 60 70 80]\n",
      "res_left: [2. 1. 3.]\n",
      "res_right: [-3. -2. -3.  2.  0.]\n",
      "res_weight_left: 2.0\n",
      "res_weight_right: -1.2\n",
      "similarity_left: 12.0\n",
      "similarity_right: 7.2\n",
      "similarity_total: 19.2\n",
      "\n",
      "*****\n",
      "index 4\n",
      "X_left: [10 20 30 40]\n",
      "X_right: [50 60 70 80]\n",
      "res_left: [ 2.  1.  3. -3.]\n",
      "res_right: [-2. -3.  2.  0.]\n",
      "res_weight_left: 0.75\n",
      "res_weight_right: -0.75\n",
      "similarity_left: 2.25\n",
      "similarity_right: 2.25\n",
      "similarity_total: 4.5\n",
      "\n",
      "*****\n",
      "index 5\n",
      "X_left: [10 20 30 40 50]\n",
      "X_right: [60 70 80]\n",
      "res_left: [ 2.  1.  3. -3. -2.]\n",
      "res_right: [-3.  2.  0.]\n",
      "res_weight_left: 0.2\n",
      "res_weight_right: -0.3333333333333333\n",
      "similarity_left: 0.2\n",
      "similarity_right: 0.3333333333333333\n",
      "similarity_total: 0.5333333333333333\n",
      "\n",
      "*****\n",
      "index 6\n",
      "X_left: [10 20 30 40 50 60]\n",
      "X_right: [70 80]\n",
      "res_left: [ 2.  1.  3. -3. -2. -3.]\n",
      "res_right: [2. 0.]\n",
      "res_weight_left: -0.3333333333333333\n",
      "res_weight_right: 1.0\n",
      "similarity_left: 0.6666666666666666\n",
      "similarity_right: 2.0\n",
      "similarity_total: 2.6666666666666665\n",
      "\n",
      "*****\n",
      "index 7\n",
      "X_left: [10 20 30 40 50 60 70]\n",
      "X_right: [80]\n",
      "res_left: [ 2.  1.  3. -3. -2. -3.  2.]\n",
      "res_right: [0.]\n",
      "res_weight_left: 0.0\n",
      "res_weight_right: 0.0\n",
      "similarity_left: 0.0\n",
      "similarity_right: 0.0\n",
      "similarity_total: 0.0\n",
      "\n"
     ]
    },
    {
     "data": {
      "image/png": "[encoded data removed]",
      "text/plain": [
       "<Figure size 1000x400 with 1 Axes>"
      ]
     },
     "metadata": {},
     "output_type": "display_data"
    }
   ],
   "source": [
    "# 残差1の深さ1の分割点\n",
    "X_train = np.array([[10], [20], [30], [40], [50], [60], [70], [80]])\n",
    "split(X_train, residual1)"
   ]
  },
  {
   "cell_type": "code",
   "execution_count": 15,
   "metadata": {
    "colab": {
     "base_uri": "https://localhost:8080/",
     "height": 843
    },
    "executionInfo": {
     "elapsed": 662,
     "status": "ok",
     "timestamp": 1685452649460,
     "user": {
      "displayName": "毛利拓也",
      "userId": "17854120745961292401"
     },
     "user_tz": -540
    },
    "id": "bhXTTBSBuTwG",
    "outputId": "e813a20a-49fc-437e-dbf1-baf51134732d"
   },
   "outputs": [
    {
     "name": "stdout",
     "output_type": "stream",
     "text": [
      "*****\n",
      "index 1\n",
      "X_left: [10]\n",
      "X_right: [20 30]\n",
      "res_left: [2]\n",
      "res_right: [1 3]\n",
      "res_weight_left: 2.0\n",
      "res_weight_right: 2.0\n",
      "similarity_left: 4.0\n",
      "similarity_right: 8.0\n",
      "similarity_total: 12.0\n",
      "\n",
      "*****\n",
      "index 2\n",
      "X_left: [10 20]\n",
      "X_right: [30]\n",
      "res_left: [2 1]\n",
      "res_right: [3]\n",
      "res_weight_left: 1.5\n",
      "res_weight_right: 3.0\n",
      "similarity_left: 4.5\n",
      "similarity_right: 9.0\n",
      "similarity_total: 13.5\n",
      "\n"
     ]
    },
    {
     "data": {
      "image/png": "[encoded data removed]",
      "text/plain": [
       "<Figure size 1000x400 with 1 Axes>"
      ]
     },
     "metadata": {},
     "output_type": "display_data"
    }
   ],
   "source": [
    "# 左葉：残差1の深さ2の分割点\n",
    "X_train1_L = np.array([[10], [20], [30]])\n",
    "residual1_L = np.array([2, 1, 3])\n",
    "split(X_train1_L, residual1_L)"
   ]
  },
  {
   "cell_type": "code",
   "execution_count": 16,
   "metadata": {
    "colab": {
     "base_uri": "https://localhost:8080/",
     "height": 1000
    },
    "executionInfo": {
     "elapsed": 536,
     "status": "ok",
     "timestamp": 1685452652176,
     "user": {
      "displayName": "毛利拓也",
      "userId": "17854120745961292401"
     },
     "user_tz": -540
    },
    "id": "VEdqeuEszDWe",
    "outputId": "203a0765-0096-44f7-8fe3-e430459c7beb"
   },
   "outputs": [
    {
     "name": "stdout",
     "output_type": "stream",
     "text": [
      "*****\n",
      "index 1\n",
      "X_left: [40]\n",
      "X_right: [50 60 70 80]\n",
      "res_left: [-3]\n",
      "res_right: [-2 -3  2  0]\n",
      "res_weight_left: -3.0\n",
      "res_weight_right: -0.75\n",
      "similarity_left: 9.0\n",
      "similarity_right: 2.25\n",
      "similarity_total: 11.25\n",
      "\n",
      "*****\n",
      "index 2\n",
      "X_left: [40 50]\n",
      "X_right: [60 70 80]\n",
      "res_left: [-3 -2]\n",
      "res_right: [-3  2  0]\n",
      "res_weight_left: -2.5\n",
      "res_weight_right: -0.3333333333333333\n",
      "similarity_left: 12.5\n",
      "similarity_right: 0.3333333333333333\n",
      "similarity_total: 12.833333333333334\n",
      "\n",
      "*****\n",
      "index 3\n",
      "X_left: [40 50 60]\n",
      "X_right: [70 80]\n",
      "res_left: [-3 -2 -3]\n",
      "res_right: [2 0]\n",
      "res_weight_left: -2.6666666666666665\n",
      "res_weight_right: 1.0\n",
      "similarity_left: 21.333333333333332\n",
      "similarity_right: 2.0\n",
      "similarity_total: 23.333333333333332\n",
      "\n",
      "*****\n",
      "index 4\n",
      "X_left: [40 50 60 70]\n",
      "X_right: [80]\n",
      "res_left: [-3 -2 -3  2]\n",
      "res_right: [0]\n",
      "res_weight_left: -1.5\n",
      "res_weight_right: 0.0\n",
      "similarity_left: 9.0\n",
      "similarity_right: 0.0\n",
      "similarity_total: 9.0\n",
      "\n"
     ]
    },
    {
     "data": {
      "image/png": "[encoded data removed]",
      "text/plain": [
       "<Figure size 1000x400 with 1 Axes>"
      ]
     },
     "metadata": {},
     "output_type": "display_data"
    }
   ],
   "source": [
    "# 右葉：残差1の深さ2の分割点\n",
    "X_train1_R = np.array([[40], [50], [60], [70], [80]])\n",
    "residual1_R = np.array([-3, -2, -3,  2,  0])\n",
    "split(X_train1_R, residual1_R)"
   ]
  },
  {
   "cell_type": "code",
   "execution_count": 17,
   "metadata": {
    "colab": {
     "base_uri": "https://localhost:8080/"
    },
    "executionInfo": {
     "elapsed": 3,
     "status": "ok",
     "timestamp": 1685452653212,
     "user": {
      "displayName": "毛利拓也",
      "userId": "17854120745961292401"
     },
     "user_tz": -540
    },
    "id": "wwslxXjL2OVt",
    "outputId": "cd92e02e-af0e-4a36-ee3a-8ffa9ad7efb3"
   },
   "outputs": [
    {
     "data": {
      "text/plain": [
       "array([ 1.2       ,  1.2       ,  2.4       , -2.13333333, -2.13333333,\n",
       "       -2.13333333,  0.8       ,  0.8       ])"
      ]
     },
     "execution_count": 17,
     "metadata": {},
     "output_type": "execute_result"
    }
   ],
   "source": [
    "# 学習率×1回ブースティングした重み\n",
    "weight1 = np.array([1.5, 1.5, 3, -2.6666666666666665, -2.6666666666666665, -2.6666666666666665, 1, 1])\n",
    "0.8 * weight1"
   ]
  },
  {
   "cell_type": "code",
   "execution_count": 18,
   "metadata": {
    "colab": {
     "base_uri": "https://localhost:8080/"
    },
    "executionInfo": {
     "elapsed": 4,
     "status": "ok",
     "timestamp": 1685452654413,
     "user": {
      "displayName": "毛利拓也",
      "userId": "17854120745961292401"
     },
     "user_tz": -540
    },
    "id": "gDIDMOySzMpt",
    "outputId": "2e9a8a95-abb0-4bdb-b407-105dfcae19ec"
   },
   "outputs": [
    {
     "data": {
      "text/plain": [
       "array([5.2       , 5.2       , 6.4       , 1.86666667, 1.86666667,\n",
       "       1.86666667, 4.8       , 4.8       ])"
      ]
     },
     "execution_count": 18,
     "metadata": {},
     "output_type": "execute_result"
    }
   ],
   "source": [
    "# 予測値1=初期値+学習率×重み1\n",
    "pred1 = pred0 + 0.8 * weight1\n",
    "pred1"
   ]
  },
  {
   "cell_type": "code",
   "execution_count": 19,
   "metadata": {
    "colab": {
     "base_uri": "https://localhost:8080/"
    },
    "executionInfo": {
     "elapsed": 7,
     "status": "ok",
     "timestamp": 1685452657045,
     "user": {
      "displayName": "毛利拓也",
      "userId": "17854120745961292401"
     },
     "user_tz": -540
    },
    "id": "ttJykL2A773B",
    "outputId": "782f0f47-a23c-4ac9-fd59-83309e95890a"
   },
   "outputs": [
    {
     "name": "stdout",
     "output_type": "stream",
     "text": [
      "RMSE train: 0.76158\n"
     ]
    }
   ],
   "source": [
    "# 予測値1のRMSE\n",
    "print('RMSE train: %.5f' % (mean_squared_error(y_train, pred1) ** 0.5))"
   ]
  },
  {
   "cell_type": "code",
   "execution_count": 20,
   "metadata": {
    "colab": {
     "base_uri": "https://localhost:8080/"
    },
    "executionInfo": {
     "elapsed": 5,
     "status": "ok",
     "timestamp": 1685452657045,
     "user": {
      "displayName": "毛利拓也",
      "userId": "17854120745961292401"
     },
     "user_tz": -540
    },
    "id": "3KFoMOMZzuL4",
    "outputId": "489bc65b-38c3-4cf9-a931-a8f8117b00e0"
   },
   "outputs": [
    {
     "data": {
      "text/plain": [
       "array([ 0.8       , -0.2       ,  0.6       , -0.86666667,  0.13333333,\n",
       "       -0.86666667,  1.2       , -0.8       ])"
      ]
     },
     "execution_count": 20,
     "metadata": {},
     "output_type": "execute_result"
    }
   ],
   "source": [
    "# 残差2=正解値-予測値1\n",
    "residual2 = y_train - pred1\n",
    "residual2"
   ]
  },
  {
   "cell_type": "code",
   "execution_count": 21,
   "metadata": {
    "colab": {
     "base_uri": "https://localhost:8080/",
     "height": 1000
    },
    "executionInfo": {
     "elapsed": 769,
     "status": "ok",
     "timestamp": 1685452660244,
     "user": {
      "displayName": "毛利拓也",
      "userId": "17854120745961292401"
     },
     "user_tz": -540
    },
    "id": "-fOtHhpUzxzJ",
    "outputId": "e27f1f1e-68ce-4fde-c609-6366591b926e"
   },
   "outputs": [
    {
     "name": "stdout",
     "output_type": "stream",
     "text": [
      "*****\n",
      "index 1\n",
      "X_left: [10]\n",
      "X_right: [20 30 40 50 60 70 80]\n",
      "res_left: [0.8]\n",
      "res_right: [-0.2         0.6        -0.86666667  0.13333333 -0.86666667  1.2\n",
      " -0.8       ]\n",
      "res_weight_left: 0.7999999999999998\n",
      "res_weight_right: -0.11428571428571432\n",
      "similarity_left: 0.6399999999999997\n",
      "similarity_right: 0.0914285714285715\n",
      "similarity_total: 0.7314285714285712\n",
      "\n",
      "*****\n",
      "index 2\n",
      "X_left: [10 20]\n",
      "X_right: [30 40 50 60 70 80]\n",
      "res_left: [ 0.8 -0.2]\n",
      "res_right: [ 0.6        -0.86666667  0.13333333 -0.86666667  1.2        -0.8       ]\n",
      "res_weight_left: 0.2999999999999998\n",
      "res_weight_right: -0.10000000000000002\n",
      "similarity_left: 0.1799999999999998\n",
      "similarity_right: 0.06000000000000002\n",
      "similarity_total: 0.23999999999999982\n",
      "\n",
      "*****\n",
      "index 3\n",
      "X_left: [10 20 30]\n",
      "X_right: [40 50 60 70 80]\n",
      "res_left: [ 0.8 -0.2  0.6]\n",
      "res_right: [-0.86666667  0.13333333 -0.86666667  1.2        -0.8       ]\n",
      "res_weight_left: 0.39999999999999974\n",
      "res_weight_right: -0.23999999999999994\n",
      "similarity_left: 0.4799999999999995\n",
      "similarity_right: 0.28799999999999987\n",
      "similarity_total: 0.7679999999999993\n",
      "\n",
      "*****\n",
      "index 4\n",
      "X_left: [10 20 30 40]\n",
      "X_right: [50 60 70 80]\n",
      "res_left: [ 0.8        -0.2         0.6        -0.86666667]\n",
      "res_right: [ 0.13333333 -0.86666667  1.2        -0.8       ]\n",
      "res_weight_left: 0.08333333333333315\n",
      "res_weight_right: -0.08333333333333326\n",
      "similarity_left: 0.027777777777777655\n",
      "similarity_right: 0.027777777777777728\n",
      "similarity_total: 0.055555555555555386\n",
      "\n",
      "*****\n",
      "index 5\n",
      "X_left: [10 20 30 40 50]\n",
      "X_right: [60 70 80]\n",
      "res_left: [ 0.8        -0.2         0.6        -0.86666667  0.13333333]\n",
      "res_right: [-0.86666667  1.2        -0.8       ]\n",
      "res_weight_left: 0.09333333333333318\n",
      "res_weight_right: -0.15555555555555545\n",
      "similarity_left: 0.04355555555555542\n",
      "similarity_right: 0.0725925925925925\n",
      "similarity_total: 0.11614814814814792\n",
      "\n",
      "*****\n",
      "index 6\n",
      "X_left: [10 20 30 40 50 60]\n",
      "X_right: [70 80]\n",
      "res_left: [ 0.8        -0.2         0.6        -0.86666667  0.13333333 -0.86666667]\n",
      "res_right: [ 1.2 -0.8]\n",
      "res_weight_left: -0.0666666666666668\n",
      "res_weight_right: 0.20000000000000018\n",
      "similarity_left: 0.026666666666666772\n",
      "similarity_right: 0.08000000000000014\n",
      "similarity_total: 0.10666666666666691\n",
      "\n",
      "*****\n",
      "index 7\n",
      "X_left: [10 20 30 40 50 60 70]\n",
      "X_right: [80]\n",
      "res_left: [ 0.8        -0.2         0.6        -0.86666667  0.13333333 -0.86666667\n",
      "  1.2       ]\n",
      "res_right: [-0.8]\n",
      "res_weight_left: 0.1142857142857142\n",
      "res_weight_right: -0.7999999999999998\n",
      "similarity_left: 0.09142857142857129\n",
      "similarity_right: 0.6399999999999997\n",
      "similarity_total: 0.731428571428571\n",
      "\n"
     ]
    },
    {
     "data": {
      "image/png": "[encoded data removed]",
      "text/plain": [
       "<Figure size 1000x400 with 1 Axes>"
      ]
     },
     "metadata": {},
     "output_type": "display_data"
    }
   ],
   "source": [
    "# 残差2の深さ1の分割点\n",
    "X_train = np.array([[10], [20], [30], [40], [50], [60], [70], [80]])\n",
    "split(X_train, residual2)"
   ]
  },
  {
   "cell_type": "code",
   "execution_count": 22,
   "metadata": {
    "colab": {
     "base_uri": "https://localhost:8080/",
     "height": 843
    },
    "executionInfo": {
     "elapsed": 8,
     "status": "ok",
     "timestamp": 1685452660244,
     "user": {
      "displayName": "毛利拓也",
      "userId": "17854120745961292401"
     },
     "user_tz": -540
    },
    "id": "uj2NsCDVz4jc",
    "outputId": "2a11537b-dfa6-4fc8-a37a-dd32a1ff4f30"
   },
   "outputs": [
    {
     "name": "stdout",
     "output_type": "stream",
     "text": [
      "*****\n",
      "index 1\n",
      "X_left: [10]\n",
      "X_right: [20 30]\n",
      "res_left: [0.8]\n",
      "res_right: [-0.2  0.6]\n",
      "res_weight_left: 0.8\n",
      "res_weight_right: 0.19999999999999998\n",
      "similarity_left: 0.6400000000000001\n",
      "similarity_right: 0.07999999999999999\n",
      "similarity_total: 0.7200000000000001\n",
      "\n",
      "*****\n",
      "index 2\n",
      "X_left: [10 20]\n",
      "X_right: [30]\n",
      "res_left: [ 0.8 -0.2]\n",
      "res_right: [0.6]\n",
      "res_weight_left: 0.30000000000000004\n",
      "res_weight_right: 0.6\n",
      "similarity_left: 0.18000000000000005\n",
      "similarity_right: 0.36\n",
      "similarity_total: 0.54\n",
      "\n"
     ]
    },
    {
     "data": {
      "image/png": "[encoded data removed]",
      "text/plain": [
       "<Figure size 1000x400 with 1 Axes>"
      ]
     },
     "metadata": {},
     "output_type": "display_data"
    }
   ],
   "source": [
    "# 左葉：残差2の深さ2の分割点\n",
    "X_train2_L = np.array([[10], [20], [30]])\n",
    "residual2_L = np.array([ 0.8, -0.2, 0.6])\n",
    "split(X_train2_L, residual2_L)"
   ]
  },
  {
   "cell_type": "code",
   "execution_count": 23,
   "metadata": {
    "colab": {
     "base_uri": "https://localhost:8080/",
     "height": 1000
    },
    "executionInfo": {
     "elapsed": 1185,
     "status": "ok",
     "timestamp": 1685452661423,
     "user": {
      "displayName": "毛利拓也",
      "userId": "17854120745961292401"
     },
     "user_tz": -540
    },
    "id": "wsVxhE0t0B9j",
    "outputId": "57aa7ff4-c181-47db-f8bd-7be8fac0c14b"
   },
   "outputs": [
    {
     "name": "stdout",
     "output_type": "stream",
     "text": [
      "*****\n",
      "index 1\n",
      "X_left: [40]\n",
      "X_right: [50 60 70 80]\n",
      "res_left: [-0.86666667]\n",
      "res_right: [ 0.13333333 -0.86666667  1.2        -0.8       ]\n",
      "res_weight_left: -0.86666667\n",
      "res_weight_right: -0.08333333500000001\n",
      "similarity_left: 0.7511111168888889\n",
      "similarity_right: 0.027777778888888906\n",
      "similarity_total: 0.7788888957777778\n",
      "\n",
      "*****\n",
      "index 2\n",
      "X_left: [40 50]\n",
      "X_right: [60 70 80]\n",
      "res_left: [-0.86666667  0.13333333]\n",
      "res_right: [-0.86666667  1.2        -0.8       ]\n",
      "res_weight_left: -0.36666667\n",
      "res_weight_right: -0.15555555666666668\n",
      "similarity_left: 0.26888889377777775\n",
      "similarity_right: 0.07259259362962965\n",
      "similarity_total: 0.3414814874074074\n",
      "\n",
      "*****\n",
      "index 3\n",
      "X_left: [40 50 60]\n",
      "X_right: [70 80]\n",
      "res_left: [-0.86666667  0.13333333 -0.86666667]\n",
      "res_right: [ 1.2 -0.8]\n",
      "res_weight_left: -0.5333333366666667\n",
      "res_weight_right: 0.19999999999999996\n",
      "similarity_left: 0.853333344\n",
      "similarity_right: 0.07999999999999996\n",
      "similarity_total: 0.933333344\n",
      "\n",
      "*****\n",
      "index 4\n",
      "X_left: [40 50 60 70]\n",
      "X_right: [80]\n",
      "res_left: [-0.86666667  0.13333333 -0.86666667  1.2       ]\n",
      "res_right: [-0.8]\n",
      "res_weight_left: -0.10000000250000002\n",
      "res_weight_right: -0.8\n",
      "similarity_left: 0.04000000200000004\n",
      "similarity_right: 0.6400000000000001\n",
      "similarity_total: 0.6800000020000002\n",
      "\n"
     ]
    },
    {
     "data": {
      "image/png": "[encoded data removed]",
      "text/plain": [
       "<Figure size 1000x400 with 1 Axes>"
      ]
     },
     "metadata": {},
     "output_type": "display_data"
    }
   ],
   "source": [
    "# 右葉：残差2の深さ2の分割点\n",
    "X_train2_R = np.array([[40], [50], [60], [70], [80]])\n",
    "residual2_R  = np.array([-0.86666667, 0.13333333, -0.86666667, 1.2, -0.8])\n",
    "split(X_train2_R, residual2_R)"
   ]
  },
  {
   "cell_type": "code",
   "execution_count": 24,
   "metadata": {
    "colab": {
     "base_uri": "https://localhost:8080/"
    },
    "executionInfo": {
     "elapsed": 5,
     "status": "ok",
     "timestamp": 1685452661778,
     "user": {
      "displayName": "毛利拓也",
      "userId": "17854120745961292401"
     },
     "user_tz": -540
    },
    "id": "ZCRiIoZY22Az",
    "outputId": "a5beca42-b797-4926-921b-15f3011157db"
   },
   "outputs": [
    {
     "data": {
      "text/plain": [
       "array([ 0.64      ,  0.16      ,  0.16      , -0.42666667, -0.42666667,\n",
       "       -0.42666667,  0.16      ,  0.16      ])"
      ]
     },
     "execution_count": 24,
     "metadata": {},
     "output_type": "execute_result"
    }
   ],
   "source": [
    "# 学習率×2回ブースティングした重み\n",
    "weight2 = np.array([0.8, 0.2, 0.2, -0.5333333366666667, -0.5333333366666667, -0.5333333366666667, 0.19999999999999996, 0.19999999999999996])\n",
    "0.8 * weight2"
   ]
  },
  {
   "cell_type": "code",
   "execution_count": 25,
   "metadata": {
    "colab": {
     "base_uri": "https://localhost:8080/"
    },
    "executionInfo": {
     "elapsed": 4,
     "status": "ok",
     "timestamp": 1685452661779,
     "user": {
      "displayName": "毛利拓也",
      "userId": "17854120745961292401"
     },
     "user_tz": -540
    },
    "id": "wj_sqekv0GDH",
    "outputId": "6671c123-deb3-4566-e3b0-30656bc6595d"
   },
   "outputs": [
    {
     "data": {
      "text/plain": [
       "array([5.84, 5.36, 6.56, 1.44, 1.44, 1.44, 4.96, 4.96])"
      ]
     },
     "execution_count": 25,
     "metadata": {},
     "output_type": "execute_result"
    }
   ],
   "source": [
    "# 予測値2=予測値1+学習率×重み2\n",
    "pred2 = pred1 + 0.8 * weight2\n",
    "pred2"
   ]
  },
  {
   "cell_type": "code",
   "execution_count": 26,
   "metadata": {
    "colab": {
     "base_uri": "https://localhost:8080/"
    },
    "executionInfo": {
     "elapsed": 463,
     "status": "ok",
     "timestamp": 1685452664594,
     "user": {
      "displayName": "毛利拓也",
      "userId": "17854120745961292401"
     },
     "user_tz": -540
    },
    "id": "RWdee5w61MSb",
    "outputId": "d76c25a0-511c-44a7-d237-65d336c679fe"
   },
   "outputs": [
    {
     "name": "stdout",
     "output_type": "stream",
     "text": [
      "RMSE train: 0.61774\n"
     ]
    }
   ],
   "source": [
    "# 予測値2のRMSE\n",
    "print('RMSE train: %.5f' % (mean_squared_error(y_train, pred2) ** 0.5))"
   ]
  },
  {
   "cell_type": "code",
   "execution_count": null,
   "metadata": {
    "id": "buIHEvnpLbi6"
   },
   "outputs": [],
   "source": []
  },
  {
   "cell_type": "code",
   "execution_count": null,
   "metadata": {
    "id": "b0Ekc-zs7fOG"
   },
   "outputs": [],
   "source": []
  },
  {
   "cell_type": "markdown",
   "metadata": {
    "id": "1OfUtfmSm9YE"
   },
   "source": [
    "# 枝刈り"
   ]
  },
  {
   "cell_type": "code",
   "execution_count": 27,
   "metadata": {
    "id": "OEPMPLj-ISGF"
   },
   "outputs": [],
   "source": [
    "# ハイパーパラメータの設定\n",
    "params2 = {\n",
    "    'objective': 'reg:squarederror', # 損失関数\n",
    "    'eval_metric': 'rmse', # 評価指標\n",
    "    'max_depth': 2, # 深さの最大値\n",
    "    'learning_rate': 0.8, # 学習率\n",
    "    'base_score': 4, # 初期値\n",
    "    'min_split_loss': 1.51, # 枝刈り\n",
    "    'reg_lambda': 0, # L2正則化\n",
    "    'reg_alpha': 0, # L1正則化\n",
    "    'seed': 0\n",
    "    }"
   ]
  },
  {
   "cell_type": "code",
   "execution_count": 28,
   "metadata": {
    "colab": {
     "base_uri": "https://localhost:8080/"
    },
    "executionInfo": {
     "elapsed": 5,
     "status": "ok",
     "timestamp": 1685452683905,
     "user": {
      "displayName": "毛利拓也",
      "userId": "17854120745961292401"
     },
     "user_tz": -540
    },
    "id": "YIKmyCgQIUW6",
    "outputId": "07c44c9d-114d-44cf-af26-00996386ba53"
   },
   "outputs": [
    {
     "name": "stdout",
     "output_type": "stream",
     "text": [
      "[0]\ttrain-rmse:0.87178\n"
     ]
    }
   ],
   "source": [
    "# XGBoostの学習\n",
    "model2 = xgb.train(params2,\n",
    "                  xgb_train,\n",
    "                  evals=[(xgb_train, 'train')],\n",
    "                  num_boost_round=1)"
   ]
  },
  {
   "cell_type": "code",
   "execution_count": 29,
   "metadata": {
    "colab": {
     "base_uri": "https://localhost:8080/"
    },
    "executionInfo": {
     "elapsed": 5,
     "status": "ok",
     "timestamp": 1685452685999,
     "user": {
      "displayName": "毛利拓也",
      "userId": "17854120745961292401"
     },
     "user_tz": -540
    },
    "id": "K88T2ZvHIeLZ",
    "outputId": "69c89ab3-1a2d-40fb-c424-822e7faa9f70"
   },
   "outputs": [
    {
     "data": {
      "text/plain": [
       "array([5.6      , 5.6      , 5.6      , 1.8666666, 1.8666666, 1.8666666,\n",
       "       4.8      , 4.8      ], dtype=float32)"
      ]
     },
     "execution_count": 29,
     "metadata": {},
     "output_type": "execute_result"
    }
   ],
   "source": [
    "# XGBoostの予測\n",
    "model2.predict(xgb.DMatrix(X_train))"
   ]
  },
  {
   "cell_type": "code",
   "execution_count": 30,
   "metadata": {
    "colab": {
     "base_uri": "https://localhost:8080/",
     "height": 312
    },
    "executionInfo": {
     "elapsed": 14,
     "status": "ok",
     "timestamp": 1685452690794,
     "user": {
      "displayName": "毛利拓也",
      "userId": "17854120745961292401"
     },
     "user_tz": -540
    },
    "id": "gnDnViEOImzd",
    "outputId": "4dbf9655-49a5-4f40-8bbb-270bd687de1b"
   },
   "outputs": [
    {
     "data": {
      "image/svg+xml": [
       "<?xml version=\"1.0\" encoding=\"UTF-8\" standalone=\"no\"?>\n",
       "<!DOCTYPE svg PUBLIC \"-//W3C//DTD SVG 1.1//EN\"\n",
       " \"http://www.w3.org/Graphics/SVG/1.1/DTD/svg11.dtd\">\n",
       "<!-- Generated by graphviz version 2.43.0 (0)\n",
       " -->\n",
       "<!-- Title: %3 Pages: 1 -->\n",
       "<svg width=\"449pt\" height=\"218pt\"\n",
       " viewBox=\"0.00 0.00 448.83 218.00\" xmlns=\"http://www.w3.org/2000/svg\" xmlns:xlink=\"http://www.w3.org/1999/xlink\">\n",
       "<g id=\"graph0\" class=\"graph\" transform=\"scale(1 1) rotate(0) translate(4 214)\">\n",
       "<title>%3</title>\n",
       "<polygon fill=\"white\" stroke=\"transparent\" points=\"-4,4 -4,-214 444.83,-214 444.83,4 -4,4\"/>\n",
       "<!-- 0 -->\n",
       "<g id=\"node1\" class=\"node\">\n",
       "<title>0</title>\n",
       "<ellipse fill=\"none\" stroke=\"black\" cx=\"146.99\" cy=\"-192\" rx=\"39.79\" ry=\"18\"/>\n",
       "<text text-anchor=\"middle\" x=\"146.99\" y=\"-188.3\" font-family=\"Times,serif\" font-size=\"14.00\">f0&lt;35</text>\n",
       "</g>\n",
       "<!-- 1 -->\n",
       "<g id=\"node2\" class=\"node\">\n",
       "<title>1</title>\n",
       "<ellipse fill=\"none\" stroke=\"black\" cx=\"90.99\" cy=\"-105\" rx=\"90.98\" ry=\"18\"/>\n",
       "<text text-anchor=\"middle\" x=\"90.99\" y=\"-101.3\" font-family=\"Times,serif\" font-size=\"14.00\">leaf=1.60000002</text>\n",
       "</g>\n",
       "<!-- 0&#45;&gt;1 -->\n",
       "<g id=\"edge1\" class=\"edge\">\n",
       "<title>0&#45;&gt;1</title>\n",
       "<path fill=\"none\" stroke=\"#0000ff\" d=\"M127.98,-176.04C121.62,-170.31 114.9,-163.36 109.99,-156 105.28,-148.94 101.51,-140.54 98.61,-132.67\"/>\n",
       "<polygon fill=\"#0000ff\" stroke=\"#0000ff\" points=\"101.91,-131.48 95.4,-123.12 95.27,-133.71 101.91,-131.48\"/>\n",
       "<text text-anchor=\"middle\" x=\"154.49\" y=\"-144.8\" font-family=\"Times,serif\" font-size=\"14.00\">yes, missing</text>\n",
       "</g>\n",
       "<!-- 2 -->\n",
       "<g id=\"node3\" class=\"node\">\n",
       "<title>2</title>\n",
       "<ellipse fill=\"none\" stroke=\"black\" cx=\"239.99\" cy=\"-105\" rx=\"39.79\" ry=\"18\"/>\n",
       "<text text-anchor=\"middle\" x=\"239.99\" y=\"-101.3\" font-family=\"Times,serif\" font-size=\"14.00\">f0&lt;65</text>\n",
       "</g>\n",
       "<!-- 0&#45;&gt;2 -->\n",
       "<g id=\"edge2\" class=\"edge\">\n",
       "<title>0&#45;&gt;2</title>\n",
       "<path fill=\"none\" stroke=\"#ff0000\" d=\"M170.32,-177.36C179.69,-171.37 190.3,-163.91 198.99,-156 207.34,-148.41 215.45,-139.07 222.22,-130.53\"/>\n",
       "<polygon fill=\"#ff0000\" stroke=\"#ff0000\" points=\"225.19,-132.41 228.51,-122.35 219.64,-128.14 225.19,-132.41\"/>\n",
       "<text text-anchor=\"middle\" x=\"221.99\" y=\"-144.8\" font-family=\"Times,serif\" font-size=\"14.00\">no</text>\n",
       "</g>\n",
       "<!-- 5 -->\n",
       "<g id=\"node4\" class=\"node\">\n",
       "<title>5</title>\n",
       "<ellipse fill=\"none\" stroke=\"black\" cx=\"134.99\" cy=\"-18\" rx=\"94.48\" ry=\"18\"/>\n",
       "<text text-anchor=\"middle\" x=\"134.99\" y=\"-14.3\" font-family=\"Times,serif\" font-size=\"14.00\">leaf=&#45;2.13333344</text>\n",
       "</g>\n",
       "<!-- 2&#45;&gt;5 -->\n",
       "<g id=\"edge3\" class=\"edge\">\n",
       "<title>2&#45;&gt;5</title>\n",
       "<path fill=\"none\" stroke=\"#0000ff\" d=\"M219.13,-89.41C210.59,-83.28 200.69,-75.96 191.99,-69 181.64,-60.71 170.6,-51.2 161.02,-42.71\"/>\n",
       "<polygon fill=\"#0000ff\" stroke=\"#0000ff\" points=\"163.16,-39.93 153.37,-35.87 158.49,-45.14 163.16,-39.93\"/>\n",
       "<text text-anchor=\"middle\" x=\"236.49\" y=\"-57.8\" font-family=\"Times,serif\" font-size=\"14.00\">yes, missing</text>\n",
       "</g>\n",
       "<!-- 6 -->\n",
       "<g id=\"node5\" class=\"node\">\n",
       "<title>6</title>\n",
       "<ellipse fill=\"none\" stroke=\"black\" cx=\"343.99\" cy=\"-18\" rx=\"96.68\" ry=\"18\"/>\n",
       "<text text-anchor=\"middle\" x=\"343.99\" y=\"-14.3\" font-family=\"Times,serif\" font-size=\"14.00\">leaf=0.800000012</text>\n",
       "</g>\n",
       "<!-- 2&#45;&gt;6 -->\n",
       "<g id=\"edge4\" class=\"edge\">\n",
       "<title>2&#45;&gt;6</title>\n",
       "<path fill=\"none\" stroke=\"#ff0000\" d=\"M258.59,-88.8C274.39,-75.88 297.34,-57.13 315.47,-42.31\"/>\n",
       "<polygon fill=\"#ff0000\" stroke=\"#ff0000\" points=\"317.89,-44.85 323.42,-35.81 313.46,-39.43 317.89,-44.85\"/>\n",
       "<text text-anchor=\"middle\" x=\"306.99\" y=\"-57.8\" font-family=\"Times,serif\" font-size=\"14.00\">no</text>\n",
       "</g>\n",
       "</g>\n",
       "</svg>\n"
      ],
      "text/plain": [
       "<graphviz.sources.Source at 0x7fdf9730e530>"
      ]
     },
     "execution_count": 30,
     "metadata": {},
     "output_type": "execute_result"
    }
   ],
   "source": [
    "# 1本目の木の可視化\n",
    "xgb.to_graphviz(model2, num_trees=0)"
   ]
  },
  {
   "cell_type": "code",
   "execution_count": null,
   "metadata": {
    "id": "cZvRzeC-ItBg"
   },
   "outputs": [],
   "source": []
  }
 ],
 "metadata": {
  "colab": {
   "provenance": []
  },
  "kernelspec": {
   "display_name": "Python 3 (ipykernel)",
   "language": "python",
   "name": "python3"
  },
  "language_info": {
   "codemirror_mode": {
    "name": "ipython",
    "version": 3
   },
   "file_extension": ".py",
   "mimetype": "text/x-python",
   "name": "python",
   "nbconvert_exporter": "python",
   "pygments_lexer": "ipython3",
   "version": "3.10.11"
  }
 },
 "nbformat": 4,
 "nbformat_minor": 4
}
