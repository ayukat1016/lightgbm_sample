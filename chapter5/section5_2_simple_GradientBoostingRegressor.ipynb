{
 "cells": [
  {
   "cell_type": "markdown",
   "metadata": {
    "id": "P_OMbGljmBZQ"
   },
   "source": [
    "# GradientBoostingRegressorの可視化"
   ]
  },
  {
   "cell_type": "code",
   "execution_count": null,
   "metadata": {
    "id": "AxGY1cIMUBNj"
   },
   "outputs": [],
   "source": [
    "# # Colabでバージョンを変更するとき、コメントアウトして実行してください\n",
    "# !pip install numpy==1.22.4\n",
    "# !pip install matplotlib==3.7.1\n",
    "# !pip install graphviz==0.20.1\n",
    "# !pip install scikit-learn==1.2.2"
   ]
  },
  {
   "cell_type": "code",
   "execution_count": 1,
   "metadata": {
    "id": "q2p1g_5H7CeY"
   },
   "outputs": [],
   "source": [
    "# ライブラリのインポート\n",
    "%matplotlib inline\n",
    "import matplotlib.pyplot as plt\n",
    "import numpy as np\n",
    "import graphviz\n",
    "from sklearn.tree import DecisionTreeRegressor\n",
    "from sklearn.ensemble import GradientBoostingRegressor\n",
    "from sklearn import tree"
   ]
  },
  {
   "cell_type": "code",
   "execution_count": 2,
   "metadata": {
    "colab": {
     "base_uri": "https://localhost:8080/"
    },
    "executionInfo": {
     "elapsed": 6,
     "status": "ok",
     "timestamp": 1685452414896,
     "user": {
      "displayName": "毛利拓也",
      "userId": "17854120745961292401"
     },
     "user_tz": -540
    },
    "id": "4wxEYtbkUHaB",
    "outputId": "d2821c25-fc15-436e-9693-39a26cd61102"
   },
   "outputs": [
    {
     "name": "stdout",
     "output_type": "stream",
     "text": [
      "1.22.4\n",
      "3.7.1\n",
      "0.20.1\n",
      "1.2.2\n"
     ]
    }
   ],
   "source": [
    "# バージョンの確認\n",
    "import matplotlib\n",
    "import sklearn\n",
    "print(np.__version__)\n",
    "print(matplotlib.__version__)\n",
    "print(graphviz.__version__)\n",
    "print(sklearn.__version__)"
   ]
  },
  {
   "cell_type": "code",
   "execution_count": 3,
   "metadata": {
    "id": "R8FMeyxQHR3c"
   },
   "outputs": [],
   "source": [
    "# 特徴量と目的変数の設定\n",
    "X_train = np.array([[10], [20], [30], [40], [50], [60], [70], [80]])\n",
    "y_train = np.array([6, 5, 7, 1, 2, 1, 6, 4])"
   ]
  },
  {
   "cell_type": "code",
   "execution_count": 4,
   "metadata": {
    "colab": {
     "base_uri": "https://localhost:8080/"
    },
    "executionInfo": {
     "elapsed": 4,
     "status": "ok",
     "timestamp": 1685452417027,
     "user": {
      "displayName": "毛利拓也",
      "userId": "17854120745961292401"
     },
     "user_tz": -540
    },
    "id": "_vwqf5fEP10r",
    "outputId": "9f15711d-bd71-4d2d-9012-4141e2fcc4ca"
   },
   "outputs": [
    {
     "data": {
      "text/plain": [
       "array([5.84, 5.36, 6.56, 1.44, 1.44, 1.44, 4.96, 4.96])"
      ]
     },
     "execution_count": 4,
     "metadata": {},
     "output_type": "execute_result"
    }
   ],
   "source": [
    "# 勾配ブースティング回帰の学習と予測\n",
    "model = GradientBoostingRegressor(n_estimators=2, learning_rate=0.8, criterion='squared_error', loss ='squared_error', max_depth=2, min_samples_leaf=1, ccp_alpha=0, random_state=0)\n",
    "model.fit(X_train, y_train)\n",
    "model.predict(X_train)"
   ]
  },
  {
   "cell_type": "code",
   "execution_count": 5,
   "metadata": {
    "colab": {
     "base_uri": "https://localhost:8080/"
    },
    "executionInfo": {
     "elapsed": 4,
     "status": "ok",
     "timestamp": 1685452419670,
     "user": {
      "displayName": "毛利拓也",
      "userId": "17854120745961292401"
     },
     "user_tz": -540
    },
    "id": "zwrVAMLczinS",
    "outputId": "8465e78b-017c-4192-a010-02c4f9273c03"
   },
   "outputs": [
    {
     "data": {
      "text/plain": [
       "{'alpha': 0.9,\n",
       " 'ccp_alpha': 0,\n",
       " 'criterion': 'squared_error',\n",
       " 'init': None,\n",
       " 'learning_rate': 0.8,\n",
       " 'loss': 'squared_error',\n",
       " 'max_depth': 2,\n",
       " 'max_features': None,\n",
       " 'max_leaf_nodes': None,\n",
       " 'min_impurity_decrease': 0.0,\n",
       " 'min_samples_leaf': 1,\n",
       " 'min_samples_split': 2,\n",
       " 'min_weight_fraction_leaf': 0.0,\n",
       " 'n_estimators': 2,\n",
       " 'n_iter_no_change': None,\n",
       " 'random_state': 0,\n",
       " 'subsample': 1.0,\n",
       " 'tol': 0.0001,\n",
       " 'validation_fraction': 0.1,\n",
       " 'verbose': 0,\n",
       " 'warm_start': False}"
      ]
     },
     "execution_count": 5,
     "metadata": {},
     "output_type": "execute_result"
    }
   ],
   "source": [
    "# ハイパーパラメータの表示\n",
    "model.get_params()"
   ]
  },
  {
   "cell_type": "code",
   "execution_count": 6,
   "metadata": {
    "colab": {
     "base_uri": "https://localhost:8080/",
     "height": 410
    },
    "executionInfo": {
     "elapsed": 2196,
     "status": "ok",
     "timestamp": 1685452428985,
     "user": {
      "displayName": "毛利拓也",
      "userId": "17854120745961292401"
     },
     "user_tz": -540
    },
    "id": "xY3cf8BqgTNk",
    "outputId": "c028d9e1-31df-4dee-8d17-70f3db8cdb82"
   },
   "outputs": [
    {
     "data": {
      "image/png": "[encoded data removed]",
      "text/plain": [
       "<Figure size 800x400 with 1 Axes>"
      ]
     },
     "metadata": {},
     "output_type": "display_data"
    }
   ],
   "source": [
    "# データと予測値の可視化\n",
    "plt.figure(figsize=(8, 4)) #プロットのサイズ指定\n",
    "\n",
    "# 学習データの最小値から最大値まで0.01刻みのX_pltを作成し、予測\n",
    "X_plt = np.arange(X_train.min(), X_train.max(), 0.01)[:, np.newaxis]\n",
    "y_pred = model.predict(X_plt)\n",
    "\n",
    "# 学習データの散布図と予測値のプロット\n",
    "plt.scatter(X_train, y_train, color='blue', label='data')\n",
    "plt.plot(X_plt, y_pred, color='red', label='GradientBoostingRegressor')\n",
    "plt.ylabel('y')\n",
    "plt.xlabel('X')\n",
    "plt.title('simple data')\n",
    "plt.legend(loc='upper right')\n",
    "plt.show()"
   ]
  },
  {
   "cell_type": "code",
   "execution_count": 7,
   "metadata": {
    "colab": {
     "base_uri": "https://localhost:8080/",
     "height": 380
    },
    "executionInfo": {
     "elapsed": 408,
     "status": "ok",
     "timestamp": 1685452455904,
     "user": {
      "displayName": "毛利拓也",
      "userId": "17854120745961292401"
     },
     "user_tz": -540
    },
    "id": "yNHlUma8jvQL",
    "outputId": "64eeb5fa-cbb5-4444-afb8-8862c15daed7"
   },
   "outputs": [
    {
     "data": {
      "image/svg+xml": [
       "<?xml version=\"1.0\" encoding=\"UTF-8\" standalone=\"no\"?>\n",
       "<!DOCTYPE svg PUBLIC \"-//W3C//DTD SVG 1.1//EN\"\n",
       " \"http://www.w3.org/Graphics/SVG/1.1/DTD/svg11.dtd\">\n",
       "<!-- Generated by graphviz version 2.43.0 (0)\n",
       " -->\n",
       "<!-- Title: Tree Pages: 1 -->\n",
       "<svg width=\"716pt\" height=\"269pt\"\n",
       " viewBox=\"0.00 0.00 715.50 269.00\" xmlns=\"http://www.w3.org/2000/svg\" xmlns:xlink=\"http://www.w3.org/1999/xlink\">\n",
       "<g id=\"graph0\" class=\"graph\" transform=\"scale(1 1) rotate(0) translate(4 265)\">\n",
       "<title>Tree</title>\n",
       "<polygon fill=\"white\" stroke=\"transparent\" points=\"-4,4 -4,-265 711.5,-265 711.5,4 -4,4\"/>\n",
       "<!-- 0 -->\n",
       "<g id=\"node1\" class=\"node\">\n",
       "<title>0</title>\n",
       "<path fill=\"#f3c4a2\" stroke=\"black\" d=\"M419.5,-261C419.5,-261 287.5,-261 287.5,-261 281.5,-261 275.5,-255 275.5,-249 275.5,-249 275.5,-205 275.5,-205 275.5,-199 281.5,-193 287.5,-193 287.5,-193 419.5,-193 419.5,-193 425.5,-193 431.5,-199 431.5,-205 431.5,-205 431.5,-249 431.5,-249 431.5,-255 425.5,-261 419.5,-261\"/>\n",
       "<text text-anchor=\"middle\" x=\"353.5\" y=\"-245.8\" font-family=\"Helvetica,sans-Serif\" font-size=\"14.00\">X &lt;= 35.0</text>\n",
       "<text text-anchor=\"middle\" x=\"353.5\" y=\"-230.8\" font-family=\"Helvetica,sans-Serif\" font-size=\"14.00\">squared_error = 5.0</text>\n",
       "<text text-anchor=\"middle\" x=\"353.5\" y=\"-215.8\" font-family=\"Helvetica,sans-Serif\" font-size=\"14.00\">samples = 8</text>\n",
       "<text text-anchor=\"middle\" x=\"353.5\" y=\"-200.8\" font-family=\"Helvetica,sans-Serif\" font-size=\"14.00\">value = 0.0</text>\n",
       "</g>\n",
       "<!-- 1 -->\n",
       "<g id=\"node2\" class=\"node\">\n",
       "<title>1</title>\n",
       "<path fill=\"#ea975c\" stroke=\"black\" d=\"M334.5,-157C334.5,-157 184.5,-157 184.5,-157 178.5,-157 172.5,-151 172.5,-145 172.5,-145 172.5,-101 172.5,-101 172.5,-95 178.5,-89 184.5,-89 184.5,-89 334.5,-89 334.5,-89 340.5,-89 346.5,-95 346.5,-101 346.5,-101 346.5,-145 346.5,-145 346.5,-151 340.5,-157 334.5,-157\"/>\n",
       "<text text-anchor=\"middle\" x=\"259.5\" y=\"-141.8\" font-family=\"Helvetica,sans-Serif\" font-size=\"14.00\">X &lt;= 25.0</text>\n",
       "<text text-anchor=\"middle\" x=\"259.5\" y=\"-126.8\" font-family=\"Helvetica,sans-Serif\" font-size=\"14.00\">squared_error = 0.667</text>\n",
       "<text text-anchor=\"middle\" x=\"259.5\" y=\"-111.8\" font-family=\"Helvetica,sans-Serif\" font-size=\"14.00\">samples = 3</text>\n",
       "<text text-anchor=\"middle\" x=\"259.5\" y=\"-96.8\" font-family=\"Helvetica,sans-Serif\" font-size=\"14.00\">value = 2.0</text>\n",
       "</g>\n",
       "<!-- 0&#45;&gt;1 -->\n",
       "<g id=\"edge1\" class=\"edge\">\n",
       "<title>0&#45;&gt;1</title>\n",
       "<path fill=\"none\" stroke=\"black\" d=\"M322.98,-192.88C314.69,-183.89 305.62,-174.04 296.99,-164.68\"/>\n",
       "<polygon fill=\"black\" stroke=\"black\" points=\"299.54,-162.28 290.19,-157.3 294.39,-167.02 299.54,-162.28\"/>\n",
       "<text text-anchor=\"middle\" x=\"289.17\" y=\"-178.58\" font-family=\"Helvetica,sans-Serif\" font-size=\"14.00\">True</text>\n",
       "</g>\n",
       "<!-- 4 -->\n",
       "<g id=\"node5\" class=\"node\">\n",
       "<title>4</title>\n",
       "<path fill=\"#f8decc\" stroke=\"black\" d=\"M518,-157C518,-157 377,-157 377,-157 371,-157 365,-151 365,-145 365,-145 365,-101 365,-101 365,-95 371,-89 377,-89 377,-89 518,-89 518,-89 524,-89 530,-95 530,-101 530,-101 530,-145 530,-145 530,-151 524,-157 518,-157\"/>\n",
       "<text text-anchor=\"middle\" x=\"447.5\" y=\"-141.8\" font-family=\"Helvetica,sans-Serif\" font-size=\"14.00\">X &lt;= 65.0</text>\n",
       "<text text-anchor=\"middle\" x=\"447.5\" y=\"-126.8\" font-family=\"Helvetica,sans-Serif\" font-size=\"14.00\">squared_error = 3.76</text>\n",
       "<text text-anchor=\"middle\" x=\"447.5\" y=\"-111.8\" font-family=\"Helvetica,sans-Serif\" font-size=\"14.00\">samples = 5</text>\n",
       "<text text-anchor=\"middle\" x=\"447.5\" y=\"-96.8\" font-family=\"Helvetica,sans-Serif\" font-size=\"14.00\">value = &#45;1.2</text>\n",
       "</g>\n",
       "<!-- 0&#45;&gt;4 -->\n",
       "<g id=\"edge4\" class=\"edge\">\n",
       "<title>0&#45;&gt;4</title>\n",
       "<path fill=\"none\" stroke=\"black\" d=\"M384.02,-192.88C392.31,-183.89 401.38,-174.04 410.01,-164.68\"/>\n",
       "<polygon fill=\"black\" stroke=\"black\" points=\"412.61,-167.02 416.81,-157.3 407.46,-162.28 412.61,-167.02\"/>\n",
       "<text text-anchor=\"middle\" x=\"417.83\" y=\"-178.58\" font-family=\"Helvetica,sans-Serif\" font-size=\"14.00\">False</text>\n",
       "</g>\n",
       "<!-- 2 -->\n",
       "<g id=\"node3\" class=\"node\">\n",
       "<title>2</title>\n",
       "<path fill=\"#eca26d\" stroke=\"black\" d=\"M153,-53C153,-53 12,-53 12,-53 6,-53 0,-47 0,-41 0,-41 0,-12 0,-12 0,-6 6,0 12,0 12,0 153,0 153,0 159,0 165,-6 165,-12 165,-12 165,-41 165,-41 165,-47 159,-53 153,-53\"/>\n",
       "<text text-anchor=\"middle\" x=\"82.5\" y=\"-37.8\" font-family=\"Helvetica,sans-Serif\" font-size=\"14.00\">squared_error = 0.25</text>\n",
       "<text text-anchor=\"middle\" x=\"82.5\" y=\"-22.8\" font-family=\"Helvetica,sans-Serif\" font-size=\"14.00\">samples = 2</text>\n",
       "<text text-anchor=\"middle\" x=\"82.5\" y=\"-7.8\" font-family=\"Helvetica,sans-Serif\" font-size=\"14.00\">value = 1.5</text>\n",
       "</g>\n",
       "<!-- 1&#45;&gt;2 -->\n",
       "<g id=\"edge2\" class=\"edge\">\n",
       "<title>1&#45;&gt;2</title>\n",
       "<path fill=\"none\" stroke=\"black\" d=\"M197.59,-88.95C178.66,-78.84 157.94,-67.78 139.36,-57.86\"/>\n",
       "<polygon fill=\"black\" stroke=\"black\" points=\"140.89,-54.71 130.42,-53.09 137.6,-60.88 140.89,-54.71\"/>\n",
       "</g>\n",
       "<!-- 3 -->\n",
       "<g id=\"node4\" class=\"node\">\n",
       "<title>3</title>\n",
       "<path fill=\"#e58139\" stroke=\"black\" d=\"M327.5,-53C327.5,-53 195.5,-53 195.5,-53 189.5,-53 183.5,-47 183.5,-41 183.5,-41 183.5,-12 183.5,-12 183.5,-6 189.5,0 195.5,0 195.5,0 327.5,0 327.5,0 333.5,0 339.5,-6 339.5,-12 339.5,-12 339.5,-41 339.5,-41 339.5,-47 333.5,-53 327.5,-53\"/>\n",
       "<text text-anchor=\"middle\" x=\"261.5\" y=\"-37.8\" font-family=\"Helvetica,sans-Serif\" font-size=\"14.00\">squared_error = 0.0</text>\n",
       "<text text-anchor=\"middle\" x=\"261.5\" y=\"-22.8\" font-family=\"Helvetica,sans-Serif\" font-size=\"14.00\">samples = 1</text>\n",
       "<text text-anchor=\"middle\" x=\"261.5\" y=\"-7.8\" font-family=\"Helvetica,sans-Serif\" font-size=\"14.00\">value = 3.0</text>\n",
       "</g>\n",
       "<!-- 1&#45;&gt;3 -->\n",
       "<g id=\"edge3\" class=\"edge\">\n",
       "<title>1&#45;&gt;3</title>\n",
       "<path fill=\"none\" stroke=\"black\" d=\"M260.2,-88.95C260.37,-80.72 260.56,-71.85 260.74,-63.48\"/>\n",
       "<polygon fill=\"black\" stroke=\"black\" points=\"264.24,-63.31 260.96,-53.24 257.24,-63.16 264.24,-63.31\"/>\n",
       "</g>\n",
       "<!-- 5 -->\n",
       "<g id=\"node6\" class=\"node\">\n",
       "<title>5</title>\n",
       "<path fill=\"#ffffff\" stroke=\"black\" d=\"M521.5,-53C521.5,-53 371.5,-53 371.5,-53 365.5,-53 359.5,-47 359.5,-41 359.5,-41 359.5,-12 359.5,-12 359.5,-6 365.5,0 371.5,0 371.5,0 521.5,0 521.5,0 527.5,0 533.5,-6 533.5,-12 533.5,-12 533.5,-41 533.5,-41 533.5,-47 527.5,-53 521.5,-53\"/>\n",
       "<text text-anchor=\"middle\" x=\"446.5\" y=\"-37.8\" font-family=\"Helvetica,sans-Serif\" font-size=\"14.00\">squared_error = 0.222</text>\n",
       "<text text-anchor=\"middle\" x=\"446.5\" y=\"-22.8\" font-family=\"Helvetica,sans-Serif\" font-size=\"14.00\">samples = 3</text>\n",
       "<text text-anchor=\"middle\" x=\"446.5\" y=\"-7.8\" font-family=\"Helvetica,sans-Serif\" font-size=\"14.00\">value = &#45;2.667</text>\n",
       "</g>\n",
       "<!-- 4&#45;&gt;5 -->\n",
       "<g id=\"edge5\" class=\"edge\">\n",
       "<title>4&#45;&gt;5</title>\n",
       "<path fill=\"none\" stroke=\"black\" d=\"M447.15,-88.95C447.06,-80.72 446.97,-71.85 446.88,-63.48\"/>\n",
       "<polygon fill=\"black\" stroke=\"black\" points=\"450.38,-63.2 446.77,-53.24 443.38,-63.27 450.38,-63.2\"/>\n",
       "</g>\n",
       "<!-- 6 -->\n",
       "<g id=\"node7\" class=\"node\">\n",
       "<title>6</title>\n",
       "<path fill=\"#eead7f\" stroke=\"black\" d=\"M695.5,-53C695.5,-53 563.5,-53 563.5,-53 557.5,-53 551.5,-47 551.5,-41 551.5,-41 551.5,-12 551.5,-12 551.5,-6 557.5,0 563.5,0 563.5,0 695.5,0 695.5,0 701.5,0 707.5,-6 707.5,-12 707.5,-12 707.5,-41 707.5,-41 707.5,-47 701.5,-53 695.5,-53\"/>\n",
       "<text text-anchor=\"middle\" x=\"629.5\" y=\"-37.8\" font-family=\"Helvetica,sans-Serif\" font-size=\"14.00\">squared_error = 1.0</text>\n",
       "<text text-anchor=\"middle\" x=\"629.5\" y=\"-22.8\" font-family=\"Helvetica,sans-Serif\" font-size=\"14.00\">samples = 2</text>\n",
       "<text text-anchor=\"middle\" x=\"629.5\" y=\"-7.8\" font-family=\"Helvetica,sans-Serif\" font-size=\"14.00\">value = 1.0</text>\n",
       "</g>\n",
       "<!-- 4&#45;&gt;6 -->\n",
       "<g id=\"edge6\" class=\"edge\">\n",
       "<title>4&#45;&gt;6</title>\n",
       "<path fill=\"none\" stroke=\"black\" d=\"M511.15,-88.95C530.71,-78.79 552.13,-67.67 571.3,-57.72\"/>\n",
       "<polygon fill=\"black\" stroke=\"black\" points=\"572.96,-60.8 580.22,-53.09 569.73,-54.59 572.96,-60.8\"/>\n",
       "</g>\n",
       "</g>\n",
       "</svg>\n"
      ],
      "text/plain": [
       "<graphviz.sources.Source at 0x7fbf38373790>"
      ]
     },
     "execution_count": 7,
     "metadata": {},
     "output_type": "execute_result"
    }
   ],
   "source": [
    "# ブースティング1回目の木の可視化\n",
    "dot_data = tree.export_graphviz(model.estimators_[0, 0], out_file=None, rounded=True, feature_names=['X'], filled=True)\n",
    "graphviz.Source(dot_data, format='png')"
   ]
  },
  {
   "cell_type": "code",
   "execution_count": 8,
   "metadata": {
    "colab": {
     "base_uri": "https://localhost:8080/",
     "height": 380
    },
    "executionInfo": {
     "elapsed": 711,
     "status": "ok",
     "timestamp": 1685452466097,
     "user": {
      "displayName": "毛利拓也",
      "userId": "17854120745961292401"
     },
     "user_tz": -540
    },
    "id": "QYhaeyvzkmBz",
    "outputId": "e20b8b35-8e15-4da8-b15f-f706599935c0"
   },
   "outputs": [
    {
     "data": {
      "image/svg+xml": [
       "<?xml version=\"1.0\" encoding=\"UTF-8\" standalone=\"no\"?>\n",
       "<!DOCTYPE svg PUBLIC \"-//W3C//DTD SVG 1.1//EN\"\n",
       " \"http://www.w3.org/Graphics/SVG/1.1/DTD/svg11.dtd\">\n",
       "<!-- Generated by graphviz version 2.43.0 (0)\n",
       " -->\n",
       "<!-- Title: Tree Pages: 1 -->\n",
       "<svg width=\"716pt\" height=\"269pt\"\n",
       " viewBox=\"0.00 0.00 716.00 269.00\" xmlns=\"http://www.w3.org/2000/svg\" xmlns:xlink=\"http://www.w3.org/1999/xlink\">\n",
       "<g id=\"graph0\" class=\"graph\" transform=\"scale(1 1) rotate(0) translate(4 265)\">\n",
       "<title>Tree</title>\n",
       "<polygon fill=\"white\" stroke=\"transparent\" points=\"-4,4 -4,-265 712,-265 712,4 -4,4\"/>\n",
       "<!-- 0 -->\n",
       "<g id=\"node1\" class=\"node\">\n",
       "<title>0</title>\n",
       "<path fill=\"#f5cdb0\" stroke=\"black\" d=\"M422.5,-261C422.5,-261 281.5,-261 281.5,-261 275.5,-261 269.5,-255 269.5,-249 269.5,-249 269.5,-205 269.5,-205 269.5,-199 275.5,-193 281.5,-193 281.5,-193 422.5,-193 422.5,-193 428.5,-193 434.5,-199 434.5,-205 434.5,-205 434.5,-249 434.5,-249 434.5,-255 428.5,-261 422.5,-261\"/>\n",
       "<text text-anchor=\"middle\" x=\"352\" y=\"-245.8\" font-family=\"Helvetica,sans-Serif\" font-size=\"14.00\">X &lt;= 35.0</text>\n",
       "<text text-anchor=\"middle\" x=\"352\" y=\"-230.8\" font-family=\"Helvetica,sans-Serif\" font-size=\"14.00\">squared_error = 0.58</text>\n",
       "<text text-anchor=\"middle\" x=\"352\" y=\"-215.8\" font-family=\"Helvetica,sans-Serif\" font-size=\"14.00\">samples = 8</text>\n",
       "<text text-anchor=\"middle\" x=\"352\" y=\"-200.8\" font-family=\"Helvetica,sans-Serif\" font-size=\"14.00\">value = &#45;0.0</text>\n",
       "</g>\n",
       "<!-- 1 -->\n",
       "<g id=\"node2\" class=\"node\">\n",
       "<title>1</title>\n",
       "<path fill=\"#eda774\" stroke=\"black\" d=\"M331,-157C331,-157 181,-157 181,-157 175,-157 169,-151 169,-145 169,-145 169,-101 169,-101 169,-95 175,-89 181,-89 181,-89 331,-89 331,-89 337,-89 343,-95 343,-101 343,-101 343,-145 343,-145 343,-151 337,-157 331,-157\"/>\n",
       "<text text-anchor=\"middle\" x=\"256\" y=\"-141.8\" font-family=\"Helvetica,sans-Serif\" font-size=\"14.00\">X &lt;= 15.0</text>\n",
       "<text text-anchor=\"middle\" x=\"256\" y=\"-126.8\" font-family=\"Helvetica,sans-Serif\" font-size=\"14.00\">squared_error = 0.187</text>\n",
       "<text text-anchor=\"middle\" x=\"256\" y=\"-111.8\" font-family=\"Helvetica,sans-Serif\" font-size=\"14.00\">samples = 3</text>\n",
       "<text text-anchor=\"middle\" x=\"256\" y=\"-96.8\" font-family=\"Helvetica,sans-Serif\" font-size=\"14.00\">value = 0.4</text>\n",
       "</g>\n",
       "<!-- 0&#45;&gt;1 -->\n",
       "<g id=\"edge1\" class=\"edge\">\n",
       "<title>0&#45;&gt;1</title>\n",
       "<path fill=\"none\" stroke=\"black\" d=\"M320.83,-192.88C312.36,-183.89 303.1,-174.04 294.29,-164.68\"/>\n",
       "<polygon fill=\"black\" stroke=\"black\" points=\"296.74,-162.18 287.34,-157.3 291.65,-166.98 296.74,-162.18\"/>\n",
       "<text text-anchor=\"middle\" x=\"286.58\" y=\"-178.59\" font-family=\"Helvetica,sans-Serif\" font-size=\"14.00\">True</text>\n",
       "</g>\n",
       "<!-- 4 -->\n",
       "<g id=\"node5\" class=\"node\">\n",
       "<title>4</title>\n",
       "<path fill=\"#f9e3d3\" stroke=\"black\" d=\"M523,-157C523,-157 373,-157 373,-157 367,-157 361,-151 361,-145 361,-145 361,-101 361,-101 361,-95 367,-89 373,-89 373,-89 523,-89 523,-89 529,-89 535,-95 535,-101 535,-101 535,-145 535,-145 535,-151 529,-157 523,-157\"/>\n",
       "<text text-anchor=\"middle\" x=\"448\" y=\"-141.8\" font-family=\"Helvetica,sans-Serif\" font-size=\"14.00\">X &lt;= 65.0</text>\n",
       "<text text-anchor=\"middle\" x=\"448\" y=\"-126.8\" font-family=\"Helvetica,sans-Serif\" font-size=\"14.00\">squared_error = 0.662</text>\n",
       "<text text-anchor=\"middle\" x=\"448\" y=\"-111.8\" font-family=\"Helvetica,sans-Serif\" font-size=\"14.00\">samples = 5</text>\n",
       "<text text-anchor=\"middle\" x=\"448\" y=\"-96.8\" font-family=\"Helvetica,sans-Serif\" font-size=\"14.00\">value = &#45;0.24</text>\n",
       "</g>\n",
       "<!-- 0&#45;&gt;4 -->\n",
       "<g id=\"edge4\" class=\"edge\">\n",
       "<title>0&#45;&gt;4</title>\n",
       "<path fill=\"none\" stroke=\"black\" d=\"M383.17,-192.88C391.64,-183.89 400.9,-174.04 409.71,-164.68\"/>\n",
       "<polygon fill=\"black\" stroke=\"black\" points=\"412.35,-166.98 416.66,-157.3 407.26,-162.18 412.35,-166.98\"/>\n",
       "<text text-anchor=\"middle\" x=\"417.42\" y=\"-178.59\" font-family=\"Helvetica,sans-Serif\" font-size=\"14.00\">False</text>\n",
       "</g>\n",
       "<!-- 2 -->\n",
       "<g id=\"node3\" class=\"node\">\n",
       "<title>2</title>\n",
       "<path fill=\"#e58139\" stroke=\"black\" d=\"M144,-53C144,-53 12,-53 12,-53 6,-53 0,-47 0,-41 0,-41 0,-12 0,-12 0,-6 6,0 12,0 12,0 144,0 144,0 150,0 156,-6 156,-12 156,-12 156,-41 156,-41 156,-47 150,-53 144,-53\"/>\n",
       "<text text-anchor=\"middle\" x=\"78\" y=\"-37.8\" font-family=\"Helvetica,sans-Serif\" font-size=\"14.00\">squared_error = 0.0</text>\n",
       "<text text-anchor=\"middle\" x=\"78\" y=\"-22.8\" font-family=\"Helvetica,sans-Serif\" font-size=\"14.00\">samples = 1</text>\n",
       "<text text-anchor=\"middle\" x=\"78\" y=\"-7.8\" font-family=\"Helvetica,sans-Serif\" font-size=\"14.00\">value = 0.8</text>\n",
       "</g>\n",
       "<!-- 1&#45;&gt;2 -->\n",
       "<g id=\"edge2\" class=\"edge\">\n",
       "<title>1&#45;&gt;2</title>\n",
       "<path fill=\"none\" stroke=\"black\" d=\"M193.74,-88.95C174.7,-78.84 153.86,-67.78 135.18,-57.86\"/>\n",
       "<polygon fill=\"black\" stroke=\"black\" points=\"136.67,-54.68 126.2,-53.09 133.39,-60.87 136.67,-54.68\"/>\n",
       "</g>\n",
       "<!-- 3 -->\n",
       "<g id=\"node4\" class=\"node\">\n",
       "<title>3</title>\n",
       "<path fill=\"#f1ba92\" stroke=\"black\" d=\"M327.5,-53C327.5,-53 186.5,-53 186.5,-53 180.5,-53 174.5,-47 174.5,-41 174.5,-41 174.5,-12 174.5,-12 174.5,-6 180.5,0 186.5,0 186.5,0 327.5,0 327.5,0 333.5,0 339.5,-6 339.5,-12 339.5,-12 339.5,-41 339.5,-41 339.5,-47 333.5,-53 327.5,-53\"/>\n",
       "<text text-anchor=\"middle\" x=\"257\" y=\"-37.8\" font-family=\"Helvetica,sans-Serif\" font-size=\"14.00\">squared_error = 0.16</text>\n",
       "<text text-anchor=\"middle\" x=\"257\" y=\"-22.8\" font-family=\"Helvetica,sans-Serif\" font-size=\"14.00\">samples = 2</text>\n",
       "<text text-anchor=\"middle\" x=\"257\" y=\"-7.8\" font-family=\"Helvetica,sans-Serif\" font-size=\"14.00\">value = 0.2</text>\n",
       "</g>\n",
       "<!-- 1&#45;&gt;3 -->\n",
       "<g id=\"edge3\" class=\"edge\">\n",
       "<title>1&#45;&gt;3</title>\n",
       "<path fill=\"none\" stroke=\"black\" d=\"M256.35,-88.95C256.44,-80.72 256.53,-71.85 256.62,-63.48\"/>\n",
       "<polygon fill=\"black\" stroke=\"black\" points=\"260.12,-63.27 256.73,-53.24 253.12,-63.2 260.12,-63.27\"/>\n",
       "</g>\n",
       "<!-- 5 -->\n",
       "<g id=\"node6\" class=\"node\">\n",
       "<title>5</title>\n",
       "<path fill=\"#ffffff\" stroke=\"black\" d=\"M522,-53C522,-53 372,-53 372,-53 366,-53 360,-47 360,-41 360,-41 360,-12 360,-12 360,-6 366,0 372,0 372,0 522,0 522,0 528,0 534,-6 534,-12 534,-12 534,-41 534,-41 534,-47 528,-53 522,-53\"/>\n",
       "<text text-anchor=\"middle\" x=\"447\" y=\"-37.8\" font-family=\"Helvetica,sans-Serif\" font-size=\"14.00\">squared_error = 0.222</text>\n",
       "<text text-anchor=\"middle\" x=\"447\" y=\"-22.8\" font-family=\"Helvetica,sans-Serif\" font-size=\"14.00\">samples = 3</text>\n",
       "<text text-anchor=\"middle\" x=\"447\" y=\"-7.8\" font-family=\"Helvetica,sans-Serif\" font-size=\"14.00\">value = &#45;0.533</text>\n",
       "</g>\n",
       "<!-- 4&#45;&gt;5 -->\n",
       "<g id=\"edge5\" class=\"edge\">\n",
       "<title>4&#45;&gt;5</title>\n",
       "<path fill=\"none\" stroke=\"black\" d=\"M447.65,-88.95C447.56,-80.72 447.47,-71.85 447.38,-63.48\"/>\n",
       "<polygon fill=\"black\" stroke=\"black\" points=\"450.88,-63.2 447.27,-53.24 443.88,-63.27 450.88,-63.2\"/>\n",
       "</g>\n",
       "<!-- 6 -->\n",
       "<g id=\"node7\" class=\"node\">\n",
       "<title>6</title>\n",
       "<path fill=\"#f1ba92\" stroke=\"black\" d=\"M696,-53C696,-53 564,-53 564,-53 558,-53 552,-47 552,-41 552,-41 552,-12 552,-12 552,-6 558,0 564,0 564,0 696,0 696,0 702,0 708,-6 708,-12 708,-12 708,-41 708,-41 708,-47 702,-53 696,-53\"/>\n",
       "<text text-anchor=\"middle\" x=\"630\" y=\"-37.8\" font-family=\"Helvetica,sans-Serif\" font-size=\"14.00\">squared_error = 1.0</text>\n",
       "<text text-anchor=\"middle\" x=\"630\" y=\"-22.8\" font-family=\"Helvetica,sans-Serif\" font-size=\"14.00\">samples = 2</text>\n",
       "<text text-anchor=\"middle\" x=\"630\" y=\"-7.8\" font-family=\"Helvetica,sans-Serif\" font-size=\"14.00\">value = 0.2</text>\n",
       "</g>\n",
       "<!-- 4&#45;&gt;6 -->\n",
       "<g id=\"edge6\" class=\"edge\">\n",
       "<title>4&#45;&gt;6</title>\n",
       "<path fill=\"none\" stroke=\"black\" d=\"M511.65,-88.95C531.21,-78.79 552.63,-67.67 571.8,-57.72\"/>\n",
       "<polygon fill=\"black\" stroke=\"black\" points=\"573.46,-60.8 580.72,-53.09 570.23,-54.59 573.46,-60.8\"/>\n",
       "</g>\n",
       "</g>\n",
       "</svg>\n"
      ],
      "text/plain": [
       "<graphviz.sources.Source at 0x7fbee6e938b0>"
      ]
     },
     "execution_count": 8,
     "metadata": {},
     "output_type": "execute_result"
    }
   ],
   "source": [
    "# ブースティング2回目の木の可視化\n",
    "dot_data = tree.export_graphviz(model.estimators_[1, 0], out_file=None, rounded=True, feature_names=['X'], filled=True)\n",
    "graphviz.Source(dot_data, format='png')"
   ]
  },
  {
   "cell_type": "code",
   "execution_count": null,
   "metadata": {
    "id": "eTA8T3skDGpf"
   },
   "outputs": [],
   "source": []
  },
  {
   "cell_type": "code",
   "execution_count": null,
   "metadata": {
    "id": "4o8BrMFuDGsb"
   },
   "outputs": [],
   "source": []
  },
  {
   "cell_type": "markdown",
   "metadata": {
    "id": "Lc-WQpMOl3xa"
   },
   "source": [
    "# 予測値の検証"
   ]
  },
  {
   "cell_type": "code",
   "execution_count": 9,
   "metadata": {
    "colab": {
     "base_uri": "https://localhost:8080/"
    },
    "executionInfo": {
     "elapsed": 564,
     "status": "ok",
     "timestamp": 1685452471917,
     "user": {
      "displayName": "毛利拓也",
      "userId": "17854120745961292401"
     },
     "user_tz": -540
    },
    "id": "HGdTmxabK-8H",
    "outputId": "65890e32-de9c-4b3e-908b-39d9bbec9f03"
   },
   "outputs": [
    {
     "name": "stdout",
     "output_type": "stream",
     "text": [
      "4.0\n"
     ]
    }
   ],
   "source": [
    "# 初期値の計算\n",
    "pred0 = np.mean(y_train)\n",
    "print(pred0)"
   ]
  },
  {
   "cell_type": "code",
   "execution_count": 10,
   "metadata": {
    "colab": {
     "base_uri": "https://localhost:8080/"
    },
    "executionInfo": {
     "elapsed": 4,
     "status": "ok",
     "timestamp": 1685452472184,
     "user": {
      "displayName": "毛利拓也",
      "userId": "17854120745961292401"
     },
     "user_tz": -540
    },
    "id": "DZ_1lx06JH9Q",
    "outputId": "d6797deb-885f-4857-a493-fa449f524430"
   },
   "outputs": [
    {
     "name": "stdout",
     "output_type": "stream",
     "text": [
      "[ 2.  1.  3. -3. -2. -3.  2.  0.]\n"
     ]
    }
   ],
   "source": [
    "# 残差1=正解値-初期値\n",
    "residual1 = y_train - pred0\n",
    "print(residual1)"
   ]
  },
  {
   "cell_type": "code",
   "execution_count": 11,
   "metadata": {
    "colab": {
     "base_uri": "https://localhost:8080/"
    },
    "executionInfo": {
     "elapsed": 3,
     "status": "ok",
     "timestamp": 1685452474291,
     "user": {
      "displayName": "毛利拓也",
      "userId": "17854120745961292401"
     },
     "user_tz": -540
    },
    "id": "r6p2KvvSIXy0",
    "outputId": "6705c646-b6fa-45e6-9711-f05b2a768395"
   },
   "outputs": [
    {
     "name": "stdout",
     "output_type": "stream",
     "text": [
      "[ 1.5         1.5         3.         -2.66666667 -2.66666667 -2.66666667\n",
      "  1.          1.        ]\n"
     ]
    }
   ],
   "source": [
    "# 重み1の計算\n",
    "\n",
    "# 特徴量と残差1で回帰木1の学習\n",
    "model_tree = DecisionTreeRegressor(criterion='squared_error', max_depth=2, min_samples_leaf=1, ccp_alpha=0, random_state=0)\n",
    "model_tree.fit(X_train, residual1)\n",
    "\n",
    "# 重み1の予測値\n",
    "weight1 = model_tree.predict(X_train)\n",
    "print(weight1)"
   ]
  },
  {
   "cell_type": "code",
   "execution_count": 12,
   "metadata": {
    "colab": {
     "base_uri": "https://localhost:8080/",
     "height": 380
    },
    "executionInfo": {
     "elapsed": 7,
     "status": "ok",
     "timestamp": 1685452476579,
     "user": {
      "displayName": "毛利拓也",
      "userId": "17854120745961292401"
     },
     "user_tz": -540
    },
    "id": "mSZ1hsoEioGd",
    "outputId": "e4e3275a-ec30-4f24-8f3a-63ef0e06aae1"
   },
   "outputs": [
    {
     "data": {
      "image/svg+xml": [
       "<?xml version=\"1.0\" encoding=\"UTF-8\" standalone=\"no\"?>\n",
       "<!DOCTYPE svg PUBLIC \"-//W3C//DTD SVG 1.1//EN\"\n",
       " \"http://www.w3.org/Graphics/SVG/1.1/DTD/svg11.dtd\">\n",
       "<!-- Generated by graphviz version 2.43.0 (0)\n",
       " -->\n",
       "<!-- Title: Tree Pages: 1 -->\n",
       "<svg width=\"716pt\" height=\"269pt\"\n",
       " viewBox=\"0.00 0.00 715.50 269.00\" xmlns=\"http://www.w3.org/2000/svg\" xmlns:xlink=\"http://www.w3.org/1999/xlink\">\n",
       "<g id=\"graph0\" class=\"graph\" transform=\"scale(1 1) rotate(0) translate(4 265)\">\n",
       "<title>Tree</title>\n",
       "<polygon fill=\"white\" stroke=\"transparent\" points=\"-4,4 -4,-265 711.5,-265 711.5,4 -4,4\"/>\n",
       "<!-- 0 -->\n",
       "<g id=\"node1\" class=\"node\">\n",
       "<title>0</title>\n",
       "<path fill=\"#f3c4a2\" stroke=\"black\" d=\"M419.5,-261C419.5,-261 287.5,-261 287.5,-261 281.5,-261 275.5,-255 275.5,-249 275.5,-249 275.5,-205 275.5,-205 275.5,-199 281.5,-193 287.5,-193 287.5,-193 419.5,-193 419.5,-193 425.5,-193 431.5,-199 431.5,-205 431.5,-205 431.5,-249 431.5,-249 431.5,-255 425.5,-261 419.5,-261\"/>\n",
       "<text text-anchor=\"middle\" x=\"353.5\" y=\"-245.8\" font-family=\"Helvetica,sans-Serif\" font-size=\"14.00\">X &lt;= 35.0</text>\n",
       "<text text-anchor=\"middle\" x=\"353.5\" y=\"-230.8\" font-family=\"Helvetica,sans-Serif\" font-size=\"14.00\">squared_error = 5.0</text>\n",
       "<text text-anchor=\"middle\" x=\"353.5\" y=\"-215.8\" font-family=\"Helvetica,sans-Serif\" font-size=\"14.00\">samples = 8</text>\n",
       "<text text-anchor=\"middle\" x=\"353.5\" y=\"-200.8\" font-family=\"Helvetica,sans-Serif\" font-size=\"14.00\">value = 0.0</text>\n",
       "</g>\n",
       "<!-- 1 -->\n",
       "<g id=\"node2\" class=\"node\">\n",
       "<title>1</title>\n",
       "<path fill=\"#ea975c\" stroke=\"black\" d=\"M334.5,-157C334.5,-157 184.5,-157 184.5,-157 178.5,-157 172.5,-151 172.5,-145 172.5,-145 172.5,-101 172.5,-101 172.5,-95 178.5,-89 184.5,-89 184.5,-89 334.5,-89 334.5,-89 340.5,-89 346.5,-95 346.5,-101 346.5,-101 346.5,-145 346.5,-145 346.5,-151 340.5,-157 334.5,-157\"/>\n",
       "<text text-anchor=\"middle\" x=\"259.5\" y=\"-141.8\" font-family=\"Helvetica,sans-Serif\" font-size=\"14.00\">X &lt;= 25.0</text>\n",
       "<text text-anchor=\"middle\" x=\"259.5\" y=\"-126.8\" font-family=\"Helvetica,sans-Serif\" font-size=\"14.00\">squared_error = 0.667</text>\n",
       "<text text-anchor=\"middle\" x=\"259.5\" y=\"-111.8\" font-family=\"Helvetica,sans-Serif\" font-size=\"14.00\">samples = 3</text>\n",
       "<text text-anchor=\"middle\" x=\"259.5\" y=\"-96.8\" font-family=\"Helvetica,sans-Serif\" font-size=\"14.00\">value = 2.0</text>\n",
       "</g>\n",
       "<!-- 0&#45;&gt;1 -->\n",
       "<g id=\"edge1\" class=\"edge\">\n",
       "<title>0&#45;&gt;1</title>\n",
       "<path fill=\"none\" stroke=\"black\" d=\"M322.98,-192.88C314.69,-183.89 305.62,-174.04 296.99,-164.68\"/>\n",
       "<polygon fill=\"black\" stroke=\"black\" points=\"299.54,-162.28 290.19,-157.3 294.39,-167.02 299.54,-162.28\"/>\n",
       "<text text-anchor=\"middle\" x=\"289.17\" y=\"-178.58\" font-family=\"Helvetica,sans-Serif\" font-size=\"14.00\">True</text>\n",
       "</g>\n",
       "<!-- 4 -->\n",
       "<g id=\"node5\" class=\"node\">\n",
       "<title>4</title>\n",
       "<path fill=\"#f8decc\" stroke=\"black\" d=\"M518,-157C518,-157 377,-157 377,-157 371,-157 365,-151 365,-145 365,-145 365,-101 365,-101 365,-95 371,-89 377,-89 377,-89 518,-89 518,-89 524,-89 530,-95 530,-101 530,-101 530,-145 530,-145 530,-151 524,-157 518,-157\"/>\n",
       "<text text-anchor=\"middle\" x=\"447.5\" y=\"-141.8\" font-family=\"Helvetica,sans-Serif\" font-size=\"14.00\">X &lt;= 65.0</text>\n",
       "<text text-anchor=\"middle\" x=\"447.5\" y=\"-126.8\" font-family=\"Helvetica,sans-Serif\" font-size=\"14.00\">squared_error = 3.76</text>\n",
       "<text text-anchor=\"middle\" x=\"447.5\" y=\"-111.8\" font-family=\"Helvetica,sans-Serif\" font-size=\"14.00\">samples = 5</text>\n",
       "<text text-anchor=\"middle\" x=\"447.5\" y=\"-96.8\" font-family=\"Helvetica,sans-Serif\" font-size=\"14.00\">value = &#45;1.2</text>\n",
       "</g>\n",
       "<!-- 0&#45;&gt;4 -->\n",
       "<g id=\"edge4\" class=\"edge\">\n",
       "<title>0&#45;&gt;4</title>\n",
       "<path fill=\"none\" stroke=\"black\" d=\"M384.02,-192.88C392.31,-183.89 401.38,-174.04 410.01,-164.68\"/>\n",
       "<polygon fill=\"black\" stroke=\"black\" points=\"412.61,-167.02 416.81,-157.3 407.46,-162.28 412.61,-167.02\"/>\n",
       "<text text-anchor=\"middle\" x=\"417.83\" y=\"-178.58\" font-family=\"Helvetica,sans-Serif\" font-size=\"14.00\">False</text>\n",
       "</g>\n",
       "<!-- 2 -->\n",
       "<g id=\"node3\" class=\"node\">\n",
       "<title>2</title>\n",
       "<path fill=\"#eca26d\" stroke=\"black\" d=\"M153,-53C153,-53 12,-53 12,-53 6,-53 0,-47 0,-41 0,-41 0,-12 0,-12 0,-6 6,0 12,0 12,0 153,0 153,0 159,0 165,-6 165,-12 165,-12 165,-41 165,-41 165,-47 159,-53 153,-53\"/>\n",
       "<text text-anchor=\"middle\" x=\"82.5\" y=\"-37.8\" font-family=\"Helvetica,sans-Serif\" font-size=\"14.00\">squared_error = 0.25</text>\n",
       "<text text-anchor=\"middle\" x=\"82.5\" y=\"-22.8\" font-family=\"Helvetica,sans-Serif\" font-size=\"14.00\">samples = 2</text>\n",
       "<text text-anchor=\"middle\" x=\"82.5\" y=\"-7.8\" font-family=\"Helvetica,sans-Serif\" font-size=\"14.00\">value = 1.5</text>\n",
       "</g>\n",
       "<!-- 1&#45;&gt;2 -->\n",
       "<g id=\"edge2\" class=\"edge\">\n",
       "<title>1&#45;&gt;2</title>\n",
       "<path fill=\"none\" stroke=\"black\" d=\"M197.59,-88.95C178.66,-78.84 157.94,-67.78 139.36,-57.86\"/>\n",
       "<polygon fill=\"black\" stroke=\"black\" points=\"140.89,-54.71 130.42,-53.09 137.6,-60.88 140.89,-54.71\"/>\n",
       "</g>\n",
       "<!-- 3 -->\n",
       "<g id=\"node4\" class=\"node\">\n",
       "<title>3</title>\n",
       "<path fill=\"#e58139\" stroke=\"black\" d=\"M327.5,-53C327.5,-53 195.5,-53 195.5,-53 189.5,-53 183.5,-47 183.5,-41 183.5,-41 183.5,-12 183.5,-12 183.5,-6 189.5,0 195.5,0 195.5,0 327.5,0 327.5,0 333.5,0 339.5,-6 339.5,-12 339.5,-12 339.5,-41 339.5,-41 339.5,-47 333.5,-53 327.5,-53\"/>\n",
       "<text text-anchor=\"middle\" x=\"261.5\" y=\"-37.8\" font-family=\"Helvetica,sans-Serif\" font-size=\"14.00\">squared_error = 0.0</text>\n",
       "<text text-anchor=\"middle\" x=\"261.5\" y=\"-22.8\" font-family=\"Helvetica,sans-Serif\" font-size=\"14.00\">samples = 1</text>\n",
       "<text text-anchor=\"middle\" x=\"261.5\" y=\"-7.8\" font-family=\"Helvetica,sans-Serif\" font-size=\"14.00\">value = 3.0</text>\n",
       "</g>\n",
       "<!-- 1&#45;&gt;3 -->\n",
       "<g id=\"edge3\" class=\"edge\">\n",
       "<title>1&#45;&gt;3</title>\n",
       "<path fill=\"none\" stroke=\"black\" d=\"M260.2,-88.95C260.37,-80.72 260.56,-71.85 260.74,-63.48\"/>\n",
       "<polygon fill=\"black\" stroke=\"black\" points=\"264.24,-63.31 260.96,-53.24 257.24,-63.16 264.24,-63.31\"/>\n",
       "</g>\n",
       "<!-- 5 -->\n",
       "<g id=\"node6\" class=\"node\">\n",
       "<title>5</title>\n",
       "<path fill=\"#ffffff\" stroke=\"black\" d=\"M521.5,-53C521.5,-53 371.5,-53 371.5,-53 365.5,-53 359.5,-47 359.5,-41 359.5,-41 359.5,-12 359.5,-12 359.5,-6 365.5,0 371.5,0 371.5,0 521.5,0 521.5,0 527.5,0 533.5,-6 533.5,-12 533.5,-12 533.5,-41 533.5,-41 533.5,-47 527.5,-53 521.5,-53\"/>\n",
       "<text text-anchor=\"middle\" x=\"446.5\" y=\"-37.8\" font-family=\"Helvetica,sans-Serif\" font-size=\"14.00\">squared_error = 0.222</text>\n",
       "<text text-anchor=\"middle\" x=\"446.5\" y=\"-22.8\" font-family=\"Helvetica,sans-Serif\" font-size=\"14.00\">samples = 3</text>\n",
       "<text text-anchor=\"middle\" x=\"446.5\" y=\"-7.8\" font-family=\"Helvetica,sans-Serif\" font-size=\"14.00\">value = &#45;2.667</text>\n",
       "</g>\n",
       "<!-- 4&#45;&gt;5 -->\n",
       "<g id=\"edge5\" class=\"edge\">\n",
       "<title>4&#45;&gt;5</title>\n",
       "<path fill=\"none\" stroke=\"black\" d=\"M447.15,-88.95C447.06,-80.72 446.97,-71.85 446.88,-63.48\"/>\n",
       "<polygon fill=\"black\" stroke=\"black\" points=\"450.38,-63.2 446.77,-53.24 443.38,-63.27 450.38,-63.2\"/>\n",
       "</g>\n",
       "<!-- 6 -->\n",
       "<g id=\"node7\" class=\"node\">\n",
       "<title>6</title>\n",
       "<path fill=\"#eead7f\" stroke=\"black\" d=\"M695.5,-53C695.5,-53 563.5,-53 563.5,-53 557.5,-53 551.5,-47 551.5,-41 551.5,-41 551.5,-12 551.5,-12 551.5,-6 557.5,0 563.5,0 563.5,0 695.5,0 695.5,0 701.5,0 707.5,-6 707.5,-12 707.5,-12 707.5,-41 707.5,-41 707.5,-47 701.5,-53 695.5,-53\"/>\n",
       "<text text-anchor=\"middle\" x=\"629.5\" y=\"-37.8\" font-family=\"Helvetica,sans-Serif\" font-size=\"14.00\">squared_error = 1.0</text>\n",
       "<text text-anchor=\"middle\" x=\"629.5\" y=\"-22.8\" font-family=\"Helvetica,sans-Serif\" font-size=\"14.00\">samples = 2</text>\n",
       "<text text-anchor=\"middle\" x=\"629.5\" y=\"-7.8\" font-family=\"Helvetica,sans-Serif\" font-size=\"14.00\">value = 1.0</text>\n",
       "</g>\n",
       "<!-- 4&#45;&gt;6 -->\n",
       "<g id=\"edge6\" class=\"edge\">\n",
       "<title>4&#45;&gt;6</title>\n",
       "<path fill=\"none\" stroke=\"black\" d=\"M511.15,-88.95C530.71,-78.79 552.13,-67.67 571.3,-57.72\"/>\n",
       "<polygon fill=\"black\" stroke=\"black\" points=\"572.96,-60.8 580.22,-53.09 569.73,-54.59 572.96,-60.8\"/>\n",
       "</g>\n",
       "</g>\n",
       "</svg>\n"
      ],
      "text/plain": [
       "<graphviz.sources.Source at 0x7fbee6e32680>"
      ]
     },
     "execution_count": 12,
     "metadata": {},
     "output_type": "execute_result"
    }
   ],
   "source": [
    "# 1本目の回帰木の可視化\n",
    "dot_data = tree.export_graphviz(model_tree, out_file=None, rounded=True, feature_names=['X'], filled=True)\n",
    "graphviz.Source(dot_data, format='png')"
   ]
  },
  {
   "cell_type": "code",
   "execution_count": 13,
   "metadata": {
    "colab": {
     "base_uri": "https://localhost:8080/"
    },
    "executionInfo": {
     "elapsed": 4,
     "status": "ok",
     "timestamp": 1685452477759,
     "user": {
      "displayName": "毛利拓也",
      "userId": "17854120745961292401"
     },
     "user_tz": -540
    },
    "id": "XkvAqh7_L5GW",
    "outputId": "eed1ffb8-6a5c-4ea1-99ca-db80bd4b8ded"
   },
   "outputs": [
    {
     "name": "stdout",
     "output_type": "stream",
     "text": [
      "[5.2        5.2        6.4        1.86666667 1.86666667 1.86666667\n",
      " 4.8        4.8       ]\n"
     ]
    }
   ],
   "source": [
    "# 予測値1=初期値+学習率×重み1\n",
    "pred1 = pred0 + 0.8 * weight1\n",
    "print(pred1)"
   ]
  },
  {
   "cell_type": "code",
   "execution_count": 14,
   "metadata": {
    "colab": {
     "base_uri": "https://localhost:8080/"
    },
    "executionInfo": {
     "elapsed": 3,
     "status": "ok",
     "timestamp": 1685452479296,
     "user": {
      "displayName": "毛利拓也",
      "userId": "17854120745961292401"
     },
     "user_tz": -540
    },
    "id": "DB_C8lnKMO3W",
    "outputId": "05479811-15a5-4534-a10f-4439b553e22c"
   },
   "outputs": [
    {
     "name": "stdout",
     "output_type": "stream",
     "text": [
      "[ 0.8        -0.2         0.6        -0.86666667  0.13333333 -0.86666667\n",
      "  1.2        -0.8       ]\n"
     ]
    }
   ],
   "source": [
    "# 残差2=正解値-予測値1\n",
    "residual2 = y_train - pred1\n",
    "print(residual2)"
   ]
  },
  {
   "cell_type": "code",
   "execution_count": 15,
   "metadata": {
    "colab": {
     "base_uri": "https://localhost:8080/"
    },
    "executionInfo": {
     "elapsed": 4,
     "status": "ok",
     "timestamp": 1685452479908,
     "user": {
      "displayName": "毛利拓也",
      "userId": "17854120745961292401"
     },
     "user_tz": -540
    },
    "id": "dIp2f2pIN1Zp",
    "outputId": "b3e26e4b-0297-401f-aa2f-7bec14733a39"
   },
   "outputs": [
    {
     "name": "stdout",
     "output_type": "stream",
     "text": [
      "[ 0.8         0.2         0.2        -0.53333333 -0.53333333 -0.53333333\n",
      "  0.2         0.2       ]\n"
     ]
    }
   ],
   "source": [
    "# 重み2の計算\n",
    "\n",
    "# 特徴量と残差2で回帰木2の学習\n",
    "model_tree.fit(X_train, residual2)\n",
    "\n",
    "# 重み2の予測値\n",
    "weight2 = model_tree.predict(X_train)\n",
    "print(weight2)"
   ]
  },
  {
   "cell_type": "code",
   "execution_count": 16,
   "metadata": {
    "colab": {
     "base_uri": "https://localhost:8080/",
     "height": 380
    },
    "executionInfo": {
     "elapsed": 15,
     "status": "ok",
     "timestamp": 1685452484156,
     "user": {
      "displayName": "毛利拓也",
      "userId": "17854120745961292401"
     },
     "user_tz": -540
    },
    "id": "xw2UHUFxjJtB",
    "outputId": "9614ebce-b8f6-41ab-f5e6-0039577cbb29"
   },
   "outputs": [
    {
     "data": {
      "image/svg+xml": [
       "<?xml version=\"1.0\" encoding=\"UTF-8\" standalone=\"no\"?>\n",
       "<!DOCTYPE svg PUBLIC \"-//W3C//DTD SVG 1.1//EN\"\n",
       " \"http://www.w3.org/Graphics/SVG/1.1/DTD/svg11.dtd\">\n",
       "<!-- Generated by graphviz version 2.43.0 (0)\n",
       " -->\n",
       "<!-- Title: Tree Pages: 1 -->\n",
       "<svg width=\"716pt\" height=\"269pt\"\n",
       " viewBox=\"0.00 0.00 716.00 269.00\" xmlns=\"http://www.w3.org/2000/svg\" xmlns:xlink=\"http://www.w3.org/1999/xlink\">\n",
       "<g id=\"graph0\" class=\"graph\" transform=\"scale(1 1) rotate(0) translate(4 265)\">\n",
       "<title>Tree</title>\n",
       "<polygon fill=\"white\" stroke=\"transparent\" points=\"-4,4 -4,-265 712,-265 712,4 -4,4\"/>\n",
       "<!-- 0 -->\n",
       "<g id=\"node1\" class=\"node\">\n",
       "<title>0</title>\n",
       "<path fill=\"#f5cdb0\" stroke=\"black\" d=\"M422.5,-261C422.5,-261 281.5,-261 281.5,-261 275.5,-261 269.5,-255 269.5,-249 269.5,-249 269.5,-205 269.5,-205 269.5,-199 275.5,-193 281.5,-193 281.5,-193 422.5,-193 422.5,-193 428.5,-193 434.5,-199 434.5,-205 434.5,-205 434.5,-249 434.5,-249 434.5,-255 428.5,-261 422.5,-261\"/>\n",
       "<text text-anchor=\"middle\" x=\"352\" y=\"-245.8\" font-family=\"Helvetica,sans-Serif\" font-size=\"14.00\">X &lt;= 35.0</text>\n",
       "<text text-anchor=\"middle\" x=\"352\" y=\"-230.8\" font-family=\"Helvetica,sans-Serif\" font-size=\"14.00\">squared_error = 0.58</text>\n",
       "<text text-anchor=\"middle\" x=\"352\" y=\"-215.8\" font-family=\"Helvetica,sans-Serif\" font-size=\"14.00\">samples = 8</text>\n",
       "<text text-anchor=\"middle\" x=\"352\" y=\"-200.8\" font-family=\"Helvetica,sans-Serif\" font-size=\"14.00\">value = &#45;0.0</text>\n",
       "</g>\n",
       "<!-- 1 -->\n",
       "<g id=\"node2\" class=\"node\">\n",
       "<title>1</title>\n",
       "<path fill=\"#eda774\" stroke=\"black\" d=\"M331,-157C331,-157 181,-157 181,-157 175,-157 169,-151 169,-145 169,-145 169,-101 169,-101 169,-95 175,-89 181,-89 181,-89 331,-89 331,-89 337,-89 343,-95 343,-101 343,-101 343,-145 343,-145 343,-151 337,-157 331,-157\"/>\n",
       "<text text-anchor=\"middle\" x=\"256\" y=\"-141.8\" font-family=\"Helvetica,sans-Serif\" font-size=\"14.00\">X &lt;= 15.0</text>\n",
       "<text text-anchor=\"middle\" x=\"256\" y=\"-126.8\" font-family=\"Helvetica,sans-Serif\" font-size=\"14.00\">squared_error = 0.187</text>\n",
       "<text text-anchor=\"middle\" x=\"256\" y=\"-111.8\" font-family=\"Helvetica,sans-Serif\" font-size=\"14.00\">samples = 3</text>\n",
       "<text text-anchor=\"middle\" x=\"256\" y=\"-96.8\" font-family=\"Helvetica,sans-Serif\" font-size=\"14.00\">value = 0.4</text>\n",
       "</g>\n",
       "<!-- 0&#45;&gt;1 -->\n",
       "<g id=\"edge1\" class=\"edge\">\n",
       "<title>0&#45;&gt;1</title>\n",
       "<path fill=\"none\" stroke=\"black\" d=\"M320.83,-192.88C312.36,-183.89 303.1,-174.04 294.29,-164.68\"/>\n",
       "<polygon fill=\"black\" stroke=\"black\" points=\"296.74,-162.18 287.34,-157.3 291.65,-166.98 296.74,-162.18\"/>\n",
       "<text text-anchor=\"middle\" x=\"286.58\" y=\"-178.59\" font-family=\"Helvetica,sans-Serif\" font-size=\"14.00\">True</text>\n",
       "</g>\n",
       "<!-- 4 -->\n",
       "<g id=\"node5\" class=\"node\">\n",
       "<title>4</title>\n",
       "<path fill=\"#f9e3d3\" stroke=\"black\" d=\"M523,-157C523,-157 373,-157 373,-157 367,-157 361,-151 361,-145 361,-145 361,-101 361,-101 361,-95 367,-89 373,-89 373,-89 523,-89 523,-89 529,-89 535,-95 535,-101 535,-101 535,-145 535,-145 535,-151 529,-157 523,-157\"/>\n",
       "<text text-anchor=\"middle\" x=\"448\" y=\"-141.8\" font-family=\"Helvetica,sans-Serif\" font-size=\"14.00\">X &lt;= 65.0</text>\n",
       "<text text-anchor=\"middle\" x=\"448\" y=\"-126.8\" font-family=\"Helvetica,sans-Serif\" font-size=\"14.00\">squared_error = 0.662</text>\n",
       "<text text-anchor=\"middle\" x=\"448\" y=\"-111.8\" font-family=\"Helvetica,sans-Serif\" font-size=\"14.00\">samples = 5</text>\n",
       "<text text-anchor=\"middle\" x=\"448\" y=\"-96.8\" font-family=\"Helvetica,sans-Serif\" font-size=\"14.00\">value = &#45;0.24</text>\n",
       "</g>\n",
       "<!-- 0&#45;&gt;4 -->\n",
       "<g id=\"edge4\" class=\"edge\">\n",
       "<title>0&#45;&gt;4</title>\n",
       "<path fill=\"none\" stroke=\"black\" d=\"M383.17,-192.88C391.64,-183.89 400.9,-174.04 409.71,-164.68\"/>\n",
       "<polygon fill=\"black\" stroke=\"black\" points=\"412.35,-166.98 416.66,-157.3 407.26,-162.18 412.35,-166.98\"/>\n",
       "<text text-anchor=\"middle\" x=\"417.42\" y=\"-178.59\" font-family=\"Helvetica,sans-Serif\" font-size=\"14.00\">False</text>\n",
       "</g>\n",
       "<!-- 2 -->\n",
       "<g id=\"node3\" class=\"node\">\n",
       "<title>2</title>\n",
       "<path fill=\"#e58139\" stroke=\"black\" d=\"M144,-53C144,-53 12,-53 12,-53 6,-53 0,-47 0,-41 0,-41 0,-12 0,-12 0,-6 6,0 12,0 12,0 144,0 144,0 150,0 156,-6 156,-12 156,-12 156,-41 156,-41 156,-47 150,-53 144,-53\"/>\n",
       "<text text-anchor=\"middle\" x=\"78\" y=\"-37.8\" font-family=\"Helvetica,sans-Serif\" font-size=\"14.00\">squared_error = 0.0</text>\n",
       "<text text-anchor=\"middle\" x=\"78\" y=\"-22.8\" font-family=\"Helvetica,sans-Serif\" font-size=\"14.00\">samples = 1</text>\n",
       "<text text-anchor=\"middle\" x=\"78\" y=\"-7.8\" font-family=\"Helvetica,sans-Serif\" font-size=\"14.00\">value = 0.8</text>\n",
       "</g>\n",
       "<!-- 1&#45;&gt;2 -->\n",
       "<g id=\"edge2\" class=\"edge\">\n",
       "<title>1&#45;&gt;2</title>\n",
       "<path fill=\"none\" stroke=\"black\" d=\"M193.74,-88.95C174.7,-78.84 153.86,-67.78 135.18,-57.86\"/>\n",
       "<polygon fill=\"black\" stroke=\"black\" points=\"136.67,-54.68 126.2,-53.09 133.39,-60.87 136.67,-54.68\"/>\n",
       "</g>\n",
       "<!-- 3 -->\n",
       "<g id=\"node4\" class=\"node\">\n",
       "<title>3</title>\n",
       "<path fill=\"#f1ba92\" stroke=\"black\" d=\"M327.5,-53C327.5,-53 186.5,-53 186.5,-53 180.5,-53 174.5,-47 174.5,-41 174.5,-41 174.5,-12 174.5,-12 174.5,-6 180.5,0 186.5,0 186.5,0 327.5,0 327.5,0 333.5,0 339.5,-6 339.5,-12 339.5,-12 339.5,-41 339.5,-41 339.5,-47 333.5,-53 327.5,-53\"/>\n",
       "<text text-anchor=\"middle\" x=\"257\" y=\"-37.8\" font-family=\"Helvetica,sans-Serif\" font-size=\"14.00\">squared_error = 0.16</text>\n",
       "<text text-anchor=\"middle\" x=\"257\" y=\"-22.8\" font-family=\"Helvetica,sans-Serif\" font-size=\"14.00\">samples = 2</text>\n",
       "<text text-anchor=\"middle\" x=\"257\" y=\"-7.8\" font-family=\"Helvetica,sans-Serif\" font-size=\"14.00\">value = 0.2</text>\n",
       "</g>\n",
       "<!-- 1&#45;&gt;3 -->\n",
       "<g id=\"edge3\" class=\"edge\">\n",
       "<title>1&#45;&gt;3</title>\n",
       "<path fill=\"none\" stroke=\"black\" d=\"M256.35,-88.95C256.44,-80.72 256.53,-71.85 256.62,-63.48\"/>\n",
       "<polygon fill=\"black\" stroke=\"black\" points=\"260.12,-63.27 256.73,-53.24 253.12,-63.2 260.12,-63.27\"/>\n",
       "</g>\n",
       "<!-- 5 -->\n",
       "<g id=\"node6\" class=\"node\">\n",
       "<title>5</title>\n",
       "<path fill=\"#ffffff\" stroke=\"black\" d=\"M522,-53C522,-53 372,-53 372,-53 366,-53 360,-47 360,-41 360,-41 360,-12 360,-12 360,-6 366,0 372,0 372,0 522,0 522,0 528,0 534,-6 534,-12 534,-12 534,-41 534,-41 534,-47 528,-53 522,-53\"/>\n",
       "<text text-anchor=\"middle\" x=\"447\" y=\"-37.8\" font-family=\"Helvetica,sans-Serif\" font-size=\"14.00\">squared_error = 0.222</text>\n",
       "<text text-anchor=\"middle\" x=\"447\" y=\"-22.8\" font-family=\"Helvetica,sans-Serif\" font-size=\"14.00\">samples = 3</text>\n",
       "<text text-anchor=\"middle\" x=\"447\" y=\"-7.8\" font-family=\"Helvetica,sans-Serif\" font-size=\"14.00\">value = &#45;0.533</text>\n",
       "</g>\n",
       "<!-- 4&#45;&gt;5 -->\n",
       "<g id=\"edge5\" class=\"edge\">\n",
       "<title>4&#45;&gt;5</title>\n",
       "<path fill=\"none\" stroke=\"black\" d=\"M447.65,-88.95C447.56,-80.72 447.47,-71.85 447.38,-63.48\"/>\n",
       "<polygon fill=\"black\" stroke=\"black\" points=\"450.88,-63.2 447.27,-53.24 443.88,-63.27 450.88,-63.2\"/>\n",
       "</g>\n",
       "<!-- 6 -->\n",
       "<g id=\"node7\" class=\"node\">\n",
       "<title>6</title>\n",
       "<path fill=\"#f1ba92\" stroke=\"black\" d=\"M696,-53C696,-53 564,-53 564,-53 558,-53 552,-47 552,-41 552,-41 552,-12 552,-12 552,-6 558,0 564,0 564,0 696,0 696,0 702,0 708,-6 708,-12 708,-12 708,-41 708,-41 708,-47 702,-53 696,-53\"/>\n",
       "<text text-anchor=\"middle\" x=\"630\" y=\"-37.8\" font-family=\"Helvetica,sans-Serif\" font-size=\"14.00\">squared_error = 1.0</text>\n",
       "<text text-anchor=\"middle\" x=\"630\" y=\"-22.8\" font-family=\"Helvetica,sans-Serif\" font-size=\"14.00\">samples = 2</text>\n",
       "<text text-anchor=\"middle\" x=\"630\" y=\"-7.8\" font-family=\"Helvetica,sans-Serif\" font-size=\"14.00\">value = 0.2</text>\n",
       "</g>\n",
       "<!-- 4&#45;&gt;6 -->\n",
       "<g id=\"edge6\" class=\"edge\">\n",
       "<title>4&#45;&gt;6</title>\n",
       "<path fill=\"none\" stroke=\"black\" d=\"M511.65,-88.95C531.21,-78.79 552.63,-67.67 571.8,-57.72\"/>\n",
       "<polygon fill=\"black\" stroke=\"black\" points=\"573.46,-60.8 580.72,-53.09 570.23,-54.59 573.46,-60.8\"/>\n",
       "</g>\n",
       "</g>\n",
       "</svg>\n"
      ],
      "text/plain": [
       "<graphviz.sources.Source at 0x7fbf383a0940>"
      ]
     },
     "execution_count": 16,
     "metadata": {},
     "output_type": "execute_result"
    }
   ],
   "source": [
    "# 2本目の回帰木の可視化\n",
    "dot_data = tree.export_graphviz(model_tree, out_file=None, rounded=True, feature_names=['X'], filled=True)\n",
    "graphviz.Source(dot_data, format='png')"
   ]
  },
  {
   "cell_type": "code",
   "execution_count": 17,
   "metadata": {
    "colab": {
     "base_uri": "https://localhost:8080/"
    },
    "executionInfo": {
     "elapsed": 3,
     "status": "ok",
     "timestamp": 1685452486650,
     "user": {
      "displayName": "毛利拓也",
      "userId": "17854120745961292401"
     },
     "user_tz": -540
    },
    "id": "6NYorgrsOOq5",
    "outputId": "315a7d90-0304-433a-bed6-899053c792e3"
   },
   "outputs": [
    {
     "name": "stdout",
     "output_type": "stream",
     "text": [
      "[5.84 5.36 6.56 1.44 1.44 1.44 4.96 4.96]\n"
     ]
    }
   ],
   "source": [
    "# 予測値2=予測値1+学習率×重み2\n",
    "pred2 = pred1 + 0.8 * weight2\n",
    "print(pred2)"
   ]
  },
  {
   "cell_type": "code",
   "execution_count": null,
   "metadata": {
    "id": "aQLiggsfr4lP"
   },
   "outputs": [],
   "source": []
  },
  {
   "cell_type": "code",
   "execution_count": null,
   "metadata": {
    "id": "-tryZYAU8FAl"
   },
   "outputs": [],
   "source": []
  }
 ],
 "metadata": {
  "colab": {
   "provenance": []
  },
  "kernelspec": {
   "display_name": "Python 3 (ipykernel)",
   "language": "python",
   "name": "python3"
  },
  "language_info": {
   "codemirror_mode": {
    "name": "ipython",
    "version": 3
   },
   "file_extension": ".py",
   "mimetype": "text/x-python",
   "name": "python",
   "nbconvert_exporter": "python",
   "pygments_lexer": "ipython3",
   "version": "3.10.11"
  }
 },
 "nbformat": 4,
 "nbformat_minor": 4
}
