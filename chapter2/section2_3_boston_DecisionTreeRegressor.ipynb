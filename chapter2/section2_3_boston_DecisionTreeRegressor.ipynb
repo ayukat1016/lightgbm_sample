{
 "cells": [
  {
   "cell_type": "markdown",
   "metadata": {
    "id": "17jbiJgUIdVH"
   },
   "source": [
    "# 回帰木（特徴量：ALL、max_depth=4）の学習→予測→評価"
   ]
  },
  {
   "cell_type": "code",
   "execution_count": null,
   "metadata": {
    "id": "KjYDZ4IJ5445"
   },
   "outputs": [],
   "source": [
    "# # Colabでバージョンを変更するとき、コメントアウトして実行してください\n",
    "# !pip install pandas==1.5.3\n",
    "# !pip install numpy==1.22.4\n",
    "# !pip install matplotlib==3.7.1\n",
    "# !pip install graphviz==0.20.1\n",
    "# !pip install scikit-learn==1.2.2"
   ]
  },
  {
   "cell_type": "code",
   "execution_count": 1,
   "metadata": {
    "id": "q2p1g_5H7CeY"
   },
   "outputs": [],
   "source": [
    "# ライブラリのインポート\n",
    "%matplotlib inline\n",
    "import pandas as pd\n",
    "import numpy as np\n",
    "import matplotlib.pyplot as plt\n",
    "import graphviz\n",
    "from sklearn.model_selection import train_test_split\n",
    "from sklearn.metrics import mean_squared_error"
   ]
  },
  {
   "cell_type": "code",
   "execution_count": 2,
   "metadata": {
    "colab": {
     "base_uri": "https://localhost:8080/"
    },
    "executionInfo": {
     "elapsed": 7,
     "status": "ok",
     "timestamp": 1685443366632,
     "user": {
      "displayName": "毛利拓也",
      "userId": "17854120745961292401"
     },
     "user_tz": -540
    },
    "id": "25kqQ0VS54y_",
    "outputId": "ff14410e-f85a-48b8-c8c0-ab776df374a1"
   },
   "outputs": [
    {
     "name": "stdout",
     "output_type": "stream",
     "text": [
      "1.5.3\n",
      "1.22.4\n",
      "3.7.1\n",
      "0.20.1\n",
      "1.2.2\n"
     ]
    }
   ],
   "source": [
    "# バージョンの確認\n",
    "import matplotlib\n",
    "import sklearn\n",
    "print(pd.__version__) \n",
    "print(np.__version__)\n",
    "print(matplotlib.__version__)\n",
    "print(graphviz.__version__)\n",
    "print(sklearn.__version__) "
   ]
  },
  {
   "cell_type": "code",
   "execution_count": 3,
   "metadata": {
    "id": "V2Uq-vxd-n8G"
   },
   "outputs": [],
   "source": [
    "# データセットの読み込み\n",
    "df = pd.read_csv('https://archive.ics.uci.edu/ml/machine-learning-databases/housing/housing.data', header=None, sep='\\s+')\n",
    "df.columns=['CRIM', 'ZN', 'INDUS', 'CHAS', 'NOX', 'RM', 'AGE', 'DIS', 'RAD', 'TAX', 'PTRATIO', 'B', 'LSTAT', 'MEDV']\n",
    "#df.head()"
   ]
  },
  {
   "cell_type": "code",
   "execution_count": 4,
   "metadata": {
    "id": "8JSOrIFy--8e"
   },
   "outputs": [],
   "source": [
    "# 特徴量と目的変数の設定\n",
    "X = df.drop(['MEDV'], axis=1)\n",
    "y = df['MEDV']"
   ]
  },
  {
   "cell_type": "code",
   "execution_count": 5,
   "metadata": {
    "colab": {
     "base_uri": "https://localhost:8080/"
    },
    "executionInfo": {
     "elapsed": 4,
     "status": "ok",
     "timestamp": 1685443388507,
     "user": {
      "displayName": "毛利拓也",
      "userId": "17854120745961292401"
     },
     "user_tz": -540
    },
    "id": "InTlO8HO7Sq3",
    "outputId": "18d702d2-9023-43ff-c014-9c535fe055c1"
   },
   "outputs": [
    {
     "name": "stdout",
     "output_type": "stream",
     "text": [
      "X_trainの形状： (404, 13)  y_trainの形状： (404,)  X_testの形状： (102, 13)  y_testの形状： (102,)\n"
     ]
    }
   ],
   "source": [
    "# 学習データとテストデータに分割\n",
    "X_train, X_test, y_train, y_test = train_test_split(X, y, test_size=0.2, shuffle=True, random_state=0)\n",
    "print('X_trainの形状：', X_train.shape, ' y_trainの形状：', y_train.shape, ' X_testの形状：', X_test.shape, ' y_testの形状：', y_test.shape)"
   ]
  },
  {
   "cell_type": "code",
   "execution_count": 6,
   "metadata": {
    "colab": {
     "base_uri": "https://localhost:8080/"
    },
    "executionInfo": {
     "elapsed": 297,
     "status": "ok",
     "timestamp": 1685443391330,
     "user": {
      "displayName": "毛利拓也",
      "userId": "17854120745961292401"
     },
     "user_tz": -540
    },
    "id": "pANzCt3X-0_D",
    "outputId": "31068da0-2805-4d30-a548-db2affa67d2d"
   },
   "outputs": [
    {
     "data": {
      "text/plain": [
       "{'ccp_alpha': 5,\n",
       " 'criterion': 'squared_error',\n",
       " 'max_depth': 4,\n",
       " 'max_features': None,\n",
       " 'max_leaf_nodes': None,\n",
       " 'min_impurity_decrease': 0.0,\n",
       " 'min_samples_leaf': 10,\n",
       " 'min_samples_split': 2,\n",
       " 'min_weight_fraction_leaf': 0.0,\n",
       " 'random_state': 0,\n",
       " 'splitter': 'best'}"
      ]
     },
     "execution_count": 6,
     "metadata": {},
     "output_type": "execute_result"
    }
   ],
   "source": [
    " # モデルの学習\n",
    "from sklearn.tree import DecisionTreeRegressor\n",
    "\n",
    "model = DecisionTreeRegressor(criterion='squared_error', max_depth=4, min_samples_leaf=10, ccp_alpha=5, random_state=0)  # 深さ4の回帰木モデル\n",
    "model.fit(X_train, y_train)\n",
    "model.get_params()"
   ]
  },
  {
   "cell_type": "code",
   "execution_count": 7,
   "metadata": {
    "colab": {
     "base_uri": "https://localhost:8080/"
    },
    "executionInfo": {
     "elapsed": 260,
     "status": "ok",
     "timestamp": 1685443403984,
     "user": {
      "displayName": "毛利拓也",
      "userId": "17854120745961292401"
     },
     "user_tz": -540
    },
    "id": "1HEtv6wOjtdX",
    "outputId": "5fa07ef7-e58f-425a-cdbb-3f5af875b2b5"
   },
   "outputs": [
    {
     "name": "stdout",
     "output_type": "stream",
     "text": [
      "RMSE test: 5.95\n"
     ]
    }
   ],
   "source": [
    "# テストデータの予測と評価\n",
    "y_test_pred = model.predict(X_test)\n",
    "print('RMSE test: %.2f' % (mean_squared_error(y_test, y_test_pred) ** 0.5))"
   ]
  },
  {
   "cell_type": "code",
   "execution_count": 8,
   "metadata": {
    "colab": {
     "base_uri": "https://localhost:8080/"
    },
    "executionInfo": {
     "elapsed": 287,
     "status": "ok",
     "timestamp": 1685443409537,
     "user": {
      "displayName": "毛利拓也",
      "userId": "17854120745961292401"
     },
     "user_tz": -540
    },
    "id": "bOl9p69qHOM6",
    "outputId": "a8156867-1a29-44f6-a6a7-e53cdc92f4a9"
   },
   "outputs": [
    {
     "data": {
      "text/plain": [
       "array([28.55043478, 21.60075758, 21.60075758, 14.45338346, 21.60075758,\n",
       "       21.60075758, 21.60075758, 21.60075758, 21.60075758, 21.60075758,\n",
       "       14.45338346, 14.45338346, 14.45338346, 14.45338346, 44.92916667,\n",
       "       28.55043478, 21.60075758, 28.55043478, 28.55043478, 21.60075758,\n",
       "       28.55043478, 21.60075758, 21.60075758, 28.55043478, 21.60075758,\n",
       "       21.60075758, 21.60075758, 14.45338346, 44.92916667, 14.45338346,\n",
       "       14.45338346, 21.60075758, 21.60075758, 21.60075758, 21.60075758,\n",
       "       21.60075758, 14.45338346, 21.60075758, 14.45338346, 14.45338346,\n",
       "       21.60075758, 21.60075758, 21.60075758, 14.45338346, 21.60075758,\n",
       "       21.60075758, 14.45338346, 14.45338346, 14.45338346, 21.60075758,\n",
       "       14.45338346, 14.45338346, 21.60075758, 44.92916667, 14.45338346,\n",
       "       14.45338346, 21.60075758, 21.60075758, 21.60075758, 14.45338346,\n",
       "       28.55043478, 21.60075758, 28.55043478, 28.55043478, 21.60075758,\n",
       "       28.55043478, 14.45338346, 14.45338346, 14.45338346, 21.60075758,\n",
       "       21.60075758, 21.60075758, 28.55043478, 28.55043478, 28.55043478,\n",
       "       14.45338346, 44.92916667, 21.60075758, 21.60075758, 21.60075758,\n",
       "       28.55043478, 21.60075758, 21.60075758, 44.92916667, 44.92916667,\n",
       "       28.55043478, 21.60075758, 14.45338346, 28.55043478, 14.45338346,\n",
       "       21.60075758, 14.45338346, 28.55043478, 28.55043478, 28.55043478,\n",
       "       21.60075758, 14.45338346, 28.55043478, 14.45338346, 21.60075758,\n",
       "       21.60075758, 21.60075758])"
      ]
     },
     "execution_count": 8,
     "metadata": {},
     "output_type": "execute_result"
    }
   ],
   "source": [
    "# 予測値\n",
    "model.predict(X_test)"
   ]
  },
  {
   "cell_type": "code",
   "execution_count": 9,
   "metadata": {
    "colab": {
     "base_uri": "https://localhost:8080/",
     "height": 380
    },
    "executionInfo": {
     "elapsed": 287,
     "status": "ok",
     "timestamp": 1685443414672,
     "user": {
      "displayName": "毛利拓也",
      "userId": "17854120745961292401"
     },
     "user_tz": -540
    },
    "id": "ca1e0uWbhm-_",
    "outputId": "f22fb80e-74f0-4017-9cf8-f8c741b2a6bb"
   },
   "outputs": [
    {
     "data": {
      "image/svg+xml": [
       "<?xml version=\"1.0\" encoding=\"UTF-8\" standalone=\"no\"?>\n",
       "<!DOCTYPE svg PUBLIC \"-//W3C//DTD SVG 1.1//EN\"\n",
       " \"http://www.w3.org/Graphics/SVG/1.1/DTD/svg11.dtd\">\n",
       "<!-- Generated by graphviz version 2.43.0 (0)\n",
       " -->\n",
       "<!-- Title: Tree Pages: 1 -->\n",
       "<svg width=\"794pt\" height=\"269pt\"\n",
       " viewBox=\"0.00 0.00 794.00 269.00\" xmlns=\"http://www.w3.org/2000/svg\" xmlns:xlink=\"http://www.w3.org/1999/xlink\">\n",
       "<g id=\"graph0\" class=\"graph\" transform=\"scale(1 1) rotate(0) translate(4 265)\">\n",
       "<title>Tree</title>\n",
       "<polygon fill=\"white\" stroke=\"transparent\" points=\"-4,4 -4,-265 790,-265 790,4 -4,4\"/>\n",
       "<!-- 0 -->\n",
       "<g id=\"node1\" class=\"node\">\n",
       "<title>0</title>\n",
       "<path fill=\"#f8ddca\" stroke=\"black\" d=\"M472,-261C472,-261 313,-261 313,-261 307,-261 301,-255 301,-249 301,-249 301,-205 301,-205 301,-199 307,-193 313,-193 313,-193 472,-193 472,-193 478,-193 484,-199 484,-205 484,-205 484,-249 484,-249 484,-255 478,-261 472,-261\"/>\n",
       "<text text-anchor=\"middle\" x=\"392.5\" y=\"-245.8\" font-family=\"Helvetica,sans-Serif\" font-size=\"14.00\">LSTAT &lt;= 8.13</text>\n",
       "<text text-anchor=\"middle\" x=\"392.5\" y=\"-230.8\" font-family=\"Helvetica,sans-Serif\" font-size=\"14.00\">squared_error = 85.144</text>\n",
       "<text text-anchor=\"middle\" x=\"392.5\" y=\"-215.8\" font-family=\"Helvetica,sans-Serif\" font-size=\"14.00\">samples = 404</text>\n",
       "<text text-anchor=\"middle\" x=\"392.5\" y=\"-200.8\" font-family=\"Helvetica,sans-Serif\" font-size=\"14.00\">value = 22.612</text>\n",
       "</g>\n",
       "<!-- 1 -->\n",
       "<g id=\"node2\" class=\"node\">\n",
       "<title>1</title>\n",
       "<path fill=\"#f1b991\" stroke=\"black\" d=\"M372,-157C372,-157 213,-157 213,-157 207,-157 201,-151 201,-145 201,-145 201,-101 201,-101 201,-95 207,-89 213,-89 213,-89 372,-89 372,-89 378,-89 384,-95 384,-101 384,-101 384,-145 384,-145 384,-151 378,-157 372,-157\"/>\n",
       "<text text-anchor=\"middle\" x=\"292.5\" y=\"-141.8\" font-family=\"Helvetica,sans-Serif\" font-size=\"14.00\">RM &lt;= 7.437</text>\n",
       "<text text-anchor=\"middle\" x=\"292.5\" y=\"-126.8\" font-family=\"Helvetica,sans-Serif\" font-size=\"14.00\">squared_error = 76.701</text>\n",
       "<text text-anchor=\"middle\" x=\"292.5\" y=\"-111.8\" font-family=\"Helvetica,sans-Serif\" font-size=\"14.00\">samples = 139</text>\n",
       "<text text-anchor=\"middle\" x=\"292.5\" y=\"-96.8\" font-family=\"Helvetica,sans-Serif\" font-size=\"14.00\">value = 31.378</text>\n",
       "</g>\n",
       "<!-- 0&#45;&gt;1 -->\n",
       "<g id=\"edge1\" class=\"edge\">\n",
       "<title>0&#45;&gt;1</title>\n",
       "<path fill=\"none\" stroke=\"black\" d=\"M360.03,-192.88C351.21,-183.89 341.56,-174.04 332.38,-164.68\"/>\n",
       "<polygon fill=\"black\" stroke=\"black\" points=\"334.65,-161.99 325.15,-157.3 329.65,-166.89 334.65,-161.99\"/>\n",
       "<text text-anchor=\"middle\" x=\"324.9\" y=\"-178.6\" font-family=\"Helvetica,sans-Serif\" font-size=\"14.00\">True</text>\n",
       "</g>\n",
       "<!-- 4 -->\n",
       "<g id=\"node5\" class=\"node\">\n",
       "<title>4</title>\n",
       "<path fill=\"#fcf0e8\" stroke=\"black\" d=\"M573,-157C573,-157 414,-157 414,-157 408,-157 402,-151 402,-145 402,-145 402,-101 402,-101 402,-95 408,-89 414,-89 414,-89 573,-89 573,-89 579,-89 585,-95 585,-101 585,-101 585,-145 585,-145 585,-151 579,-157 573,-157\"/>\n",
       "<text text-anchor=\"middle\" x=\"493.5\" y=\"-141.8\" font-family=\"Helvetica,sans-Serif\" font-size=\"14.00\">LSTAT &lt;= 15.0</text>\n",
       "<text text-anchor=\"middle\" x=\"493.5\" y=\"-126.8\" font-family=\"Helvetica,sans-Serif\" font-size=\"14.00\">squared_error = 28.117</text>\n",
       "<text text-anchor=\"middle\" x=\"493.5\" y=\"-111.8\" font-family=\"Helvetica,sans-Serif\" font-size=\"14.00\">samples = 265</text>\n",
       "<text text-anchor=\"middle\" x=\"493.5\" y=\"-96.8\" font-family=\"Helvetica,sans-Serif\" font-size=\"14.00\">value = 18.014</text>\n",
       "</g>\n",
       "<!-- 0&#45;&gt;4 -->\n",
       "<g id=\"edge4\" class=\"edge\">\n",
       "<title>0&#45;&gt;4</title>\n",
       "<path fill=\"none\" stroke=\"black\" d=\"M425.29,-192.88C434.2,-183.89 443.95,-174.04 453.22,-164.68\"/>\n",
       "<polygon fill=\"black\" stroke=\"black\" points=\"455.98,-166.87 460.53,-157.3 451,-161.94 455.98,-166.87\"/>\n",
       "<text text-anchor=\"middle\" x=\"460.65\" y=\"-178.6\" font-family=\"Helvetica,sans-Serif\" font-size=\"14.00\">False</text>\n",
       "</g>\n",
       "<!-- 2 -->\n",
       "<g id=\"node3\" class=\"node\">\n",
       "<title>2</title>\n",
       "<path fill=\"#f3c5a3\" stroke=\"black\" d=\"M171,-53C171,-53 12,-53 12,-53 6,-53 0,-47 0,-41 0,-41 0,-12 0,-12 0,-6 6,0 12,0 12,0 171,0 171,0 177,0 183,-6 183,-12 183,-12 183,-41 183,-41 183,-47 177,-53 171,-53\"/>\n",
       "<text text-anchor=\"middle\" x=\"91.5\" y=\"-37.8\" font-family=\"Helvetica,sans-Serif\" font-size=\"14.00\">squared_error = 37.749</text>\n",
       "<text text-anchor=\"middle\" x=\"91.5\" y=\"-22.8\" font-family=\"Helvetica,sans-Serif\" font-size=\"14.00\">samples = 115</text>\n",
       "<text text-anchor=\"middle\" x=\"91.5\" y=\"-7.8\" font-family=\"Helvetica,sans-Serif\" font-size=\"14.00\">value = 28.55</text>\n",
       "</g>\n",
       "<!-- 1&#45;&gt;2 -->\n",
       "<g id=\"edge2\" class=\"edge\">\n",
       "<title>1&#45;&gt;2</title>\n",
       "<path fill=\"none\" stroke=\"black\" d=\"M222.2,-88.95C200.41,-78.7 176.52,-67.47 155.2,-57.45\"/>\n",
       "<polygon fill=\"black\" stroke=\"black\" points=\"156.46,-54.17 145.92,-53.09 153.48,-60.51 156.46,-54.17\"/>\n",
       "</g>\n",
       "<!-- 3 -->\n",
       "<g id=\"node4\" class=\"node\">\n",
       "<title>3</title>\n",
       "<path fill=\"#e58139\" stroke=\"black\" d=\"M372,-53C372,-53 213,-53 213,-53 207,-53 201,-47 201,-41 201,-41 201,-12 201,-12 201,-6 207,0 213,0 213,0 372,0 372,0 378,0 384,-6 384,-12 384,-12 384,-41 384,-41 384,-47 378,-53 372,-53\"/>\n",
       "<text text-anchor=\"middle\" x=\"292.5\" y=\"-37.8\" font-family=\"Helvetica,sans-Serif\" font-size=\"14.00\">squared_error = 41.398</text>\n",
       "<text text-anchor=\"middle\" x=\"292.5\" y=\"-22.8\" font-family=\"Helvetica,sans-Serif\" font-size=\"14.00\">samples = 24</text>\n",
       "<text text-anchor=\"middle\" x=\"292.5\" y=\"-7.8\" font-family=\"Helvetica,sans-Serif\" font-size=\"14.00\">value = 44.929</text>\n",
       "</g>\n",
       "<!-- 1&#45;&gt;3 -->\n",
       "<g id=\"edge3\" class=\"edge\">\n",
       "<title>1&#45;&gt;3</title>\n",
       "<path fill=\"none\" stroke=\"black\" d=\"M292.5,-88.95C292.5,-80.72 292.5,-71.85 292.5,-63.48\"/>\n",
       "<polygon fill=\"black\" stroke=\"black\" points=\"296,-63.24 292.5,-53.24 289,-63.24 296,-63.24\"/>\n",
       "</g>\n",
       "<!-- 5 -->\n",
       "<g id=\"node6\" class=\"node\">\n",
       "<title>5</title>\n",
       "<path fill=\"#f9e1d1\" stroke=\"black\" d=\"M573,-53C573,-53 414,-53 414,-53 408,-53 402,-47 402,-41 402,-41 402,-12 402,-12 402,-6 408,0 414,0 414,0 573,0 573,0 579,0 585,-6 585,-12 585,-12 585,-41 585,-41 585,-47 579,-53 573,-53\"/>\n",
       "<text text-anchor=\"middle\" x=\"493.5\" y=\"-37.8\" font-family=\"Helvetica,sans-Serif\" font-size=\"14.00\">squared_error = 13.419</text>\n",
       "<text text-anchor=\"middle\" x=\"493.5\" y=\"-22.8\" font-family=\"Helvetica,sans-Serif\" font-size=\"14.00\">samples = 132</text>\n",
       "<text text-anchor=\"middle\" x=\"493.5\" y=\"-7.8\" font-family=\"Helvetica,sans-Serif\" font-size=\"14.00\">value = 21.601</text>\n",
       "</g>\n",
       "<!-- 4&#45;&gt;5 -->\n",
       "<g id=\"edge5\" class=\"edge\">\n",
       "<title>4&#45;&gt;5</title>\n",
       "<path fill=\"none\" stroke=\"black\" d=\"M493.5,-88.95C493.5,-80.72 493.5,-71.85 493.5,-63.48\"/>\n",
       "<polygon fill=\"black\" stroke=\"black\" points=\"497,-63.24 493.5,-53.24 490,-63.24 497,-63.24\"/>\n",
       "</g>\n",
       "<!-- 6 -->\n",
       "<g id=\"node7\" class=\"node\">\n",
       "<title>6</title>\n",
       "<path fill=\"#ffffff\" stroke=\"black\" d=\"M774,-53C774,-53 615,-53 615,-53 609,-53 603,-47 603,-41 603,-41 603,-12 603,-12 603,-6 609,0 615,0 615,0 774,0 774,0 780,0 786,-6 786,-12 786,-12 786,-41 786,-41 786,-47 780,-53 774,-53\"/>\n",
       "<text text-anchor=\"middle\" x=\"694.5\" y=\"-37.8\" font-family=\"Helvetica,sans-Serif\" font-size=\"14.00\">squared_error = 17.259</text>\n",
       "<text text-anchor=\"middle\" x=\"694.5\" y=\"-22.8\" font-family=\"Helvetica,sans-Serif\" font-size=\"14.00\">samples = 133</text>\n",
       "<text text-anchor=\"middle\" x=\"694.5\" y=\"-7.8\" font-family=\"Helvetica,sans-Serif\" font-size=\"14.00\">value = 14.453</text>\n",
       "</g>\n",
       "<!-- 4&#45;&gt;6 -->\n",
       "<g id=\"edge6\" class=\"edge\">\n",
       "<title>4&#45;&gt;6</title>\n",
       "<path fill=\"none\" stroke=\"black\" d=\"M563.8,-88.95C585.59,-78.7 609.48,-67.47 630.8,-57.45\"/>\n",
       "<polygon fill=\"black\" stroke=\"black\" points=\"632.52,-60.51 640.08,-53.09 629.54,-54.17 632.52,-60.51\"/>\n",
       "</g>\n",
       "</g>\n",
       "</svg>\n"
      ],
      "text/plain": [
       "<graphviz.sources.Source at 0x7f4e2a4b9240>"
      ]
     },
     "execution_count": 9,
     "metadata": {},
     "output_type": "execute_result"
    }
   ],
   "source": [
    "# 木の可視化\n",
    "from sklearn import tree\n",
    "\n",
    "dot_data = tree.export_graphviz(model, out_file=None, rounded=True, feature_names=X.columns, filled=True)\n",
    "graphviz.Source(dot_data, format='png')"
   ]
  },
  {
   "cell_type": "code",
   "execution_count": 10,
   "metadata": {
    "colab": {
     "base_uri": "https://localhost:8080/",
     "height": 434
    },
    "executionInfo": {
     "elapsed": 611,
     "status": "ok",
     "timestamp": 1685443422431,
     "user": {
      "displayName": "毛利拓也",
      "userId": "17854120745961292401"
     },
     "user_tz": -540
    },
    "id": "3quZmrGfExZm",
    "outputId": "0b1e7b31-2e14-4cc4-d879-ea5bdd92a467"
   },
   "outputs": [
    {
     "data": {
      "image/png": "[encoded data removed]",
      "text/plain": [
       "<Figure size 800x400 with 1 Axes>"
      ]
     },
     "metadata": {},
     "output_type": "display_data"
    }
   ],
   "source": [
    "# 特徴量の重要度の可視化\n",
    "importances = model.feature_importances_ # 特徴量の重要度\n",
    "indices = np.argsort(importances)[::-1] # 特徴量の重要度を降順にソート\n",
    "\n",
    "plt.figure(figsize=(8, 4)) #プロットのサイズ指定\n",
    "plt.title('Feature Importance') # プロットのタイトルを作成\n",
    "plt.bar(range(len(indices)), importances[indices]) # 棒グラフを追加\n",
    "plt.xticks(range(len(indices)), X.columns[indices], rotation=90) # X軸に特徴量の名前を追加\n",
    "plt.show() # プロットを表示"
   ]
  },
  {
   "cell_type": "code",
   "execution_count": null,
   "metadata": {
    "id": "tS56rr9QcTrD"
   },
   "outputs": [],
   "source": []
  },
  {
   "cell_type": "code",
   "execution_count": null,
   "metadata": {
    "id": "otUra6pTbN16"
   },
   "outputs": [],
   "source": []
  },
  {
   "cell_type": "code",
   "execution_count": null,
   "metadata": {
    "id": "qoKZrpRhxYdE"
   },
   "outputs": [],
   "source": []
  }
 ],
 "metadata": {
  "colab": {
   "provenance": []
  },
  "kernelspec": {
   "display_name": "Python 3 (ipykernel)",
   "language": "python",
   "name": "python3"
  },
  "language_info": {
   "codemirror_mode": {
    "name": "ipython",
    "version": 3
   },
   "file_extension": ".py",
   "mimetype": "text/x-python",
   "name": "python",
   "nbconvert_exporter": "python",
   "pygments_lexer": "ipython3",
   "version": "3.10.11"
  }
 },
 "nbformat": 4,
 "nbformat_minor": 4
}
