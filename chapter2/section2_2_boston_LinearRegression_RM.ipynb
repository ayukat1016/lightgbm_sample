{
 "cells": [
  {
   "cell_type": "markdown",
   "metadata": {
    "id": "8Nts97RYEK8i"
   },
   "source": [
    "# 単回帰（特徴量：RM）の予測値の可視化"
   ]
  },
  {
   "cell_type": "code",
   "execution_count": null,
   "metadata": {
    "id": "oZ4_zmRNwFpc"
   },
   "outputs": [],
   "source": [
    "# # Colabでバージョンを変更するとき、コメントアウトして実行してください\n",
    "# !pip install pandas==1.5.3\n",
    "# !pip install numpy==1.22.4\n",
    "# !pip install matplotlib==3.7.1\n",
    "# !pip install scikit-learn==1.2.2"
   ]
  },
  {
   "cell_type": "code",
   "execution_count": 1,
   "metadata": {
    "id": "H3ZPVmgmMGHg"
   },
   "outputs": [],
   "source": [
    "# ライブラリのインポート\n",
    "%matplotlib inline\n",
    "import pandas as pd\n",
    "import numpy as np\n",
    "import matplotlib.pyplot as plt\n",
    "from sklearn.metrics import mean_squared_error"
   ]
  },
  {
   "cell_type": "code",
   "execution_count": 2,
   "metadata": {
    "colab": {
     "base_uri": "https://localhost:8080/"
    },
    "executionInfo": {
     "elapsed": 4,
     "status": "ok",
     "timestamp": 1685443279664,
     "user": {
      "displayName": "毛利拓也",
      "userId": "17854120745961292401"
     },
     "user_tz": -540
    },
    "id": "3zLlfc1IwZ0a",
    "outputId": "5d73e70d-548d-415d-ce99-9d11236b37e9"
   },
   "outputs": [
    {
     "name": "stdout",
     "output_type": "stream",
     "text": [
      "1.5.3\n",
      "1.22.4\n",
      "3.7.1\n",
      "1.2.2\n"
     ]
    }
   ],
   "source": [
    "# バージョンの確認\n",
    "import matplotlib\n",
    "import sklearn\n",
    "print(pd.__version__) \n",
    "print(np.__version__)\n",
    "print(matplotlib.__version__)\n",
    "print(sklearn.__version__) "
   ]
  },
  {
   "cell_type": "code",
   "execution_count": 3,
   "metadata": {
    "colab": {
     "base_uri": "https://localhost:8080/",
     "height": 206
    },
    "executionInfo": {
     "elapsed": 1609,
     "status": "ok",
     "timestamp": 1685443302023,
     "user": {
      "displayName": "毛利拓也",
      "userId": "17854120745961292401"
     },
     "user_tz": -540
    },
    "id": "U5DzjHXlZ6YJ",
    "outputId": "23744a18-a57f-4d8d-dc71-aa56528a0b38"
   },
   "outputs": [
    {
     "data": {
      "text/html": [
       "<div>\n",
       "<style scoped>\n",
       "    .dataframe tbody tr th:only-of-type {\n",
       "        vertical-align: middle;\n",
       "    }\n",
       "\n",
       "    .dataframe tbody tr th {\n",
       "        vertical-align: top;\n",
       "    }\n",
       "\n",
       "    .dataframe thead th {\n",
       "        text-align: right;\n",
       "    }\n",
       "</style>\n",
       "<table border=\"1\" class=\"dataframe\">\n",
       "  <thead>\n",
       "    <tr style=\"text-align: right;\">\n",
       "      <th></th>\n",
       "      <th>CRIM</th>\n",
       "      <th>ZN</th>\n",
       "      <th>INDUS</th>\n",
       "      <th>CHAS</th>\n",
       "      <th>NOX</th>\n",
       "      <th>RM</th>\n",
       "      <th>AGE</th>\n",
       "      <th>DIS</th>\n",
       "      <th>RAD</th>\n",
       "      <th>TAX</th>\n",
       "      <th>PTRATIO</th>\n",
       "      <th>B</th>\n",
       "      <th>LSTAT</th>\n",
       "      <th>MEDV</th>\n",
       "    </tr>\n",
       "  </thead>\n",
       "  <tbody>\n",
       "    <tr>\n",
       "      <th>0</th>\n",
       "      <td>0.00632</td>\n",
       "      <td>18.0</td>\n",
       "      <td>2.31</td>\n",
       "      <td>0</td>\n",
       "      <td>0.538</td>\n",
       "      <td>6.575</td>\n",
       "      <td>65.2</td>\n",
       "      <td>4.0900</td>\n",
       "      <td>1</td>\n",
       "      <td>296.0</td>\n",
       "      <td>15.3</td>\n",
       "      <td>396.90</td>\n",
       "      <td>4.98</td>\n",
       "      <td>24.0</td>\n",
       "    </tr>\n",
       "    <tr>\n",
       "      <th>1</th>\n",
       "      <td>0.02731</td>\n",
       "      <td>0.0</td>\n",
       "      <td>7.07</td>\n",
       "      <td>0</td>\n",
       "      <td>0.469</td>\n",
       "      <td>6.421</td>\n",
       "      <td>78.9</td>\n",
       "      <td>4.9671</td>\n",
       "      <td>2</td>\n",
       "      <td>242.0</td>\n",
       "      <td>17.8</td>\n",
       "      <td>396.90</td>\n",
       "      <td>9.14</td>\n",
       "      <td>21.6</td>\n",
       "    </tr>\n",
       "    <tr>\n",
       "      <th>2</th>\n",
       "      <td>0.02729</td>\n",
       "      <td>0.0</td>\n",
       "      <td>7.07</td>\n",
       "      <td>0</td>\n",
       "      <td>0.469</td>\n",
       "      <td>7.185</td>\n",
       "      <td>61.1</td>\n",
       "      <td>4.9671</td>\n",
       "      <td>2</td>\n",
       "      <td>242.0</td>\n",
       "      <td>17.8</td>\n",
       "      <td>392.83</td>\n",
       "      <td>4.03</td>\n",
       "      <td>34.7</td>\n",
       "    </tr>\n",
       "    <tr>\n",
       "      <th>3</th>\n",
       "      <td>0.03237</td>\n",
       "      <td>0.0</td>\n",
       "      <td>2.18</td>\n",
       "      <td>0</td>\n",
       "      <td>0.458</td>\n",
       "      <td>6.998</td>\n",
       "      <td>45.8</td>\n",
       "      <td>6.0622</td>\n",
       "      <td>3</td>\n",
       "      <td>222.0</td>\n",
       "      <td>18.7</td>\n",
       "      <td>394.63</td>\n",
       "      <td>2.94</td>\n",
       "      <td>33.4</td>\n",
       "    </tr>\n",
       "    <tr>\n",
       "      <th>4</th>\n",
       "      <td>0.06905</td>\n",
       "      <td>0.0</td>\n",
       "      <td>2.18</td>\n",
       "      <td>0</td>\n",
       "      <td>0.458</td>\n",
       "      <td>7.147</td>\n",
       "      <td>54.2</td>\n",
       "      <td>6.0622</td>\n",
       "      <td>3</td>\n",
       "      <td>222.0</td>\n",
       "      <td>18.7</td>\n",
       "      <td>396.90</td>\n",
       "      <td>5.33</td>\n",
       "      <td>36.2</td>\n",
       "    </tr>\n",
       "  </tbody>\n",
       "</table>\n",
       "</div>"
      ],
      "text/plain": [
       "      CRIM    ZN  INDUS  CHAS    NOX     RM   AGE     DIS  RAD    TAX  \\\n",
       "0  0.00632  18.0   2.31     0  0.538  6.575  65.2  4.0900    1  296.0   \n",
       "1  0.02731   0.0   7.07     0  0.469  6.421  78.9  4.9671    2  242.0   \n",
       "2  0.02729   0.0   7.07     0  0.469  7.185  61.1  4.9671    2  242.0   \n",
       "3  0.03237   0.0   2.18     0  0.458  6.998  45.8  6.0622    3  222.0   \n",
       "4  0.06905   0.0   2.18     0  0.458  7.147  54.2  6.0622    3  222.0   \n",
       "\n",
       "   PTRATIO       B  LSTAT  MEDV  \n",
       "0     15.3  396.90   4.98  24.0  \n",
       "1     17.8  396.90   9.14  21.6  \n",
       "2     17.8  392.83   4.03  34.7  \n",
       "3     18.7  394.63   2.94  33.4  \n",
       "4     18.7  396.90   5.33  36.2  "
      ]
     },
     "execution_count": 3,
     "metadata": {},
     "output_type": "execute_result"
    }
   ],
   "source": [
    "# データセットの読み込み\n",
    "df = pd.read_csv('https://archive.ics.uci.edu/ml/machine-learning-databases/housing/housing.data', header=None, sep='\\s+')\n",
    "df.columns=['CRIM', 'ZN', 'INDUS', 'CHAS', 'NOX', 'RM', 'AGE', 'DIS', 'RAD', 'TAX', 'PTRATIO', 'B', 'LSTAT', 'MEDV']\n",
    "df.head()"
   ]
  },
  {
   "cell_type": "code",
   "execution_count": 4,
   "metadata": {
    "colab": {
     "base_uri": "https://localhost:8080/"
    },
    "executionInfo": {
     "elapsed": 2,
     "status": "ok",
     "timestamp": 1685443304143,
     "user": {
      "displayName": "毛利拓也",
      "userId": "17854120745961292401"
     },
     "user_tz": -540
    },
    "id": "1dFw6_MqaMd1",
    "outputId": "00838d0b-1cfb-4e48-dea1-3e6824ab2bda"
   },
   "outputs": [
    {
     "name": "stdout",
     "output_type": "stream",
     "text": [
      "X_train:       RM\n",
      "0  6.575\n",
      "1  6.421\n",
      "2  7.185\n",
      "y_train: 0    24.0\n",
      "1    21.6\n",
      "2    34.7\n",
      "Name: MEDV, dtype: float64\n"
     ]
    }
   ],
   "source": [
    "# 特徴量と目的変数の設定\n",
    "X_train = df.loc[:99, ['RM']] # 特徴量にRM（平均部屋数）を設定\n",
    "y_train = df.loc[:99, 'MEDV'] # 正解値にMEDV（住宅価格）を設定\n",
    "print('X_train:', X_train[:3])\n",
    "print('y_train:', y_train[:3])"
   ]
  },
  {
   "cell_type": "code",
   "execution_count": 5,
   "metadata": {
    "colab": {
     "base_uri": "https://localhost:8080/"
    },
    "executionInfo": {
     "elapsed": 4,
     "status": "ok",
     "timestamp": 1685443308075,
     "user": {
      "displayName": "毛利拓也",
      "userId": "17854120745961292401"
     },
     "user_tz": -540
    },
    "id": "0w9jc7euMAGk",
    "outputId": "b2898249-adbc-4f21-84b9-3890e973cdfe"
   },
   "outputs": [
    {
     "data": {
      "text/plain": [
       "{'copy_X': True, 'fit_intercept': True, 'n_jobs': None, 'positive': False}"
      ]
     },
     "execution_count": 5,
     "metadata": {},
     "output_type": "execute_result"
    }
   ],
   "source": [
    "# モデルの学習\n",
    "from sklearn.linear_model import LinearRegression\n",
    "\n",
    "model = LinearRegression() # 線形回帰モデル\n",
    "model.fit(X_train, y_train)\n",
    "model.get_params()"
   ]
  },
  {
   "cell_type": "code",
   "execution_count": 6,
   "metadata": {
    "colab": {
     "base_uri": "https://localhost:8080/"
    },
    "executionInfo": {
     "elapsed": 4,
     "status": "ok",
     "timestamp": 1685443309937,
     "user": {
      "displayName": "毛利拓也",
      "userId": "17854120745961292401"
     },
     "user_tz": -540
    },
    "id": "sL9hMtotKqgF",
    "outputId": "35617b41-ace9-45d2-c2d8-8c61736d1be7"
   },
   "outputs": [
    {
     "data": {
      "text/plain": [
       "array([25.7910094 , 24.21659604, 32.02732208, 30.11553442, 31.63883047,\n",
       "       24.30860721, 20.0351995 , 21.67095365, 16.14005995, 19.9534118 ,\n",
       "       23.76676365, 20.00452911, 18.77771351, 19.39112131, 20.89397043,\n",
       "       18.21542302, 19.24799282, 19.81028331, 14.35095385, 17.12151244,\n",
       "       15.51642868, 19.55469672, 21.36424975, 18.00073029, 19.13553473,\n",
       "       15.81290912, 18.00073029, 20.39302072, 24.97313233, 26.80313228,\n",
       "       16.97838395, 20.64860731, 19.40134477, 16.85570239, 20.89397043,\n",
       "       19.2275459 , 18.28698726, 18.37899843, 19.56492019, 25.99547867,\n",
       "       30.38134447, 27.78458476, 21.64028326, 22.06966872, 20.61793692,\n",
       "       16.66145658, 17.72469678, 20.21922185, 13.76821644, 15.84357951,\n",
       "       19.5342498 , 21.08821624, 25.13670774, 19.89207102, 18.76749004,\n",
       "       32.68162373, 23.82810443, 28.25486408, 21.39492014, 19.16620512,\n",
       "       17.26464092, 19.56492019, 24.57441726, 27.70279706, 31.19922154,\n",
       "       22.87732233, 17.73492024, 18.66525541, 15.7617918 , 18.73681965,\n",
       "       24.17570218, 19.51380287, 20.57704307, 22.41726648, 22.70352345,\n",
       "       22.83642848, 22.76486423, 21.34380282, 22.28436145, 18.62436156,\n",
       "       27.34497584, 26.24084179, 23.00000389, 21.61983633, 23.88944521,\n",
       "       26.35329989, 20.0658699 , 21.14955702, 30.20754559, 30.94363495,\n",
       "       24.17570218, 24.05302062, 24.43128877, 22.06966872, 22.45816033,\n",
       "       26.30218257, 21.57894248, 41.06486372, 38.51922134, 34.38894212])"
      ]
     },
     "execution_count": 6,
     "metadata": {},
     "output_type": "execute_result"
    }
   ],
   "source": [
    "# 予測値\n",
    "model.predict(X_train)"
   ]
  },
  {
   "cell_type": "code",
   "execution_count": 7,
   "metadata": {
    "colab": {
     "base_uri": "https://localhost:8080/",
     "height": 466
    },
    "executionInfo": {
     "elapsed": 414,
     "status": "ok",
     "timestamp": 1685443312607,
     "user": {
      "displayName": "毛利拓也",
      "userId": "17854120745961292401"
     },
     "user_tz": -540
    },
    "id": "BTOo3xzfaD0C",
    "outputId": "c629c502-b4db-41bf-c4e4-a56a33e2313a"
   },
   "outputs": [
    {
     "name": "stderr",
     "output_type": "stream",
     "text": [
      "/usr/local/lib/python3.10/site-packages/sklearn/base.py:439: UserWarning: X does not have valid feature names, but LinearRegression was fitted with feature names\n",
      "  warnings.warn(\n"
     ]
    },
    {
     "data": {
      "image/png": "[encoded data removed]",
      "text/plain": [
       "<Figure size 800x400 with 1 Axes>"
      ]
     },
     "metadata": {},
     "output_type": "display_data"
    }
   ],
   "source": [
    "# データと予測値の可視化\n",
    "plt.figure(figsize=(8, 4)) #プロットのサイズ指定\n",
    "X = X_train.values.flatten() # numpy配列に変換し、1次元配列に変換\n",
    "y = y_train.values # numpy配列に変換\n",
    "\n",
    "# Xの最小値から最大値まで0.01刻みのX_pltを作成し、2次元配列に変換\n",
    "X_plt = np.arange(X.min(), X.max(), 0.01)[:, np.newaxis]\n",
    "y_pred = model.predict(X_plt) # 住宅価格を予測\n",
    "\n",
    "# 学習データ(平均部屋数と住宅価格)の散布図と予測値のプロット\n",
    "plt.scatter(X, y, color='blue', label='data')\n",
    "plt.plot(X_plt, y_pred, color='red', label='LinearRegression')\n",
    "plt.ylabel('Price in $1000s [MEDV]')\n",
    "plt.xlabel('average number of rooms [RM]')\n",
    "plt.title('Boston house-prices')\n",
    "plt.legend(loc='upper right')\n",
    "plt.show()"
   ]
  },
  {
   "cell_type": "code",
   "execution_count": 8,
   "metadata": {
    "colab": {
     "base_uri": "https://localhost:8080/"
    },
    "executionInfo": {
     "elapsed": 6,
     "status": "ok",
     "timestamp": 1685443312608,
     "user": {
      "displayName": "毛利拓也",
      "userId": "17854120745961292401"
     },
     "user_tz": -540
    },
    "id": "Qluk_qA1OUvZ",
    "outputId": "f6923d93-a112-4f58-e234-503f525a71b6"
   },
   "outputs": [
    {
     "name": "stdout",
     "output_type": "stream",
     "text": [
      "傾き w1: 10.223463401699545\n",
      "切片 w0: -41.42826246618968\n"
     ]
    }
   ],
   "source": [
    "# パラメータ\n",
    "print('傾き w1:', model.coef_[0])\n",
    "print('切片 w0:', model.intercept_) "
   ]
  },
  {
   "cell_type": "code",
   "execution_count": null,
   "metadata": {
    "id": "F3hg_xl0sxhj"
   },
   "outputs": [],
   "source": []
  }
 ],
 "metadata": {
  "colab": {
   "provenance": []
  },
  "kernelspec": {
   "display_name": "Python 3 (ipykernel)",
   "language": "python",
   "name": "python3"
  },
  "language_info": {
   "codemirror_mode": {
    "name": "ipython",
    "version": 3
   },
   "file_extension": ".py",
   "mimetype": "text/x-python",
   "name": "python",
   "nbconvert_exporter": "python",
   "pygments_lexer": "ipython3",
   "version": "3.10.11"
  }
 },
 "nbformat": 4,
 "nbformat_minor": 4
}
