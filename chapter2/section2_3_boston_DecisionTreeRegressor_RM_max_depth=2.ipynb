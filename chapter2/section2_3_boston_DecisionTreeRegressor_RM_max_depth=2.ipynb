{
 "cells": [
  {
   "cell_type": "markdown",
   "metadata": {
    "id": "RuKr1loFGwVm"
   },
   "source": [
    "# 回帰木（特徴量：RM、max_depth=2）の予測値の可視化"
   ]
  },
  {
   "cell_type": "code",
   "execution_count": null,
   "metadata": {
    "id": "Gjryh2w45d_-"
   },
   "outputs": [],
   "source": [
    "# # Colabでバージョンを変更するとき、コメントアウトして実行してください\n",
    "# !pip install pandas==1.5.3\n",
    "# !pip install numpy==1.22.4\n",
    "# !pip install matplotlib==3.7.1\n",
    "# !pip install graphviz==0.20.1\n",
    "# !pip install scikit-learn==1.2.2"
   ]
  },
  {
   "cell_type": "code",
   "execution_count": 1,
   "metadata": {
    "id": "H3ZPVmgmMGHg"
   },
   "outputs": [],
   "source": [
    "# ライブラリのインポート\n",
    "%matplotlib inline\n",
    "import pandas as pd\n",
    "import numpy as np\n",
    "import matplotlib.pyplot as plt\n",
    "import graphviz\n",
    "from sklearn.metrics import mean_squared_error"
   ]
  },
  {
   "cell_type": "code",
   "execution_count": 2,
   "metadata": {
    "colab": {
     "base_uri": "https://localhost:8080/"
    },
    "executionInfo": {
     "elapsed": 6,
     "status": "ok",
     "timestamp": 1685443543625,
     "user": {
      "displayName": "毛利拓也",
      "userId": "17854120745961292401"
     },
     "user_tz": -540
    },
    "id": "r8CZyuen5ddu",
    "outputId": "d9417d31-a55b-463c-877d-1b3e7e3ee212"
   },
   "outputs": [
    {
     "name": "stdout",
     "output_type": "stream",
     "text": [
      "1.5.3\n",
      "1.22.4\n",
      "3.7.1\n",
      "0.20.1\n",
      "1.2.2\n"
     ]
    }
   ],
   "source": [
    "# バージョンの確認\n",
    "import matplotlib\n",
    "import sklearn\n",
    "print(pd.__version__) \n",
    "print(np.__version__)\n",
    "print(matplotlib.__version__)\n",
    "print(graphviz.__version__)\n",
    "print(sklearn.__version__) "
   ]
  },
  {
   "cell_type": "code",
   "execution_count": 3,
   "metadata": {
    "id": "U5DzjHXlZ6YJ"
   },
   "outputs": [],
   "source": [
    "# データセットの読み込み\n",
    "df = pd.read_csv('https://archive.ics.uci.edu/ml/machine-learning-databases/housing/housing.data', header=None, sep='\\s+')\n",
    "df.columns=['CRIM', 'ZN', 'INDUS', 'CHAS', 'NOX', 'RM', 'AGE', 'DIS', 'RAD', 'TAX', 'PTRATIO', 'B', 'LSTAT', 'MEDV']\n",
    "#df.head()"
   ]
  },
  {
   "cell_type": "code",
   "execution_count": 4,
   "metadata": {
    "colab": {
     "base_uri": "https://localhost:8080/"
    },
    "executionInfo": {
     "elapsed": 8,
     "status": "ok",
     "timestamp": 1685443554217,
     "user": {
      "displayName": "毛利拓也",
      "userId": "17854120745961292401"
     },
     "user_tz": -540
    },
    "id": "1dFw6_MqaMd1",
    "outputId": "fc1489a7-2ea6-4bc3-a2ef-425c1c472715"
   },
   "outputs": [
    {
     "name": "stdout",
     "output_type": "stream",
     "text": [
      "X_train:       RM\n",
      "0  6.575\n",
      "1  6.421\n",
      "2  7.185\n",
      "y_train: 0    24.0\n",
      "1    21.6\n",
      "2    34.7\n",
      "Name: MEDV, dtype: float64\n"
     ]
    }
   ],
   "source": [
    "# 特徴量と目的変数の設定\n",
    "X_train = df.loc[:99, ['RM']] # 特徴量に100件のRM（平均部屋数）を設定\n",
    "y_train = df.loc[:99, 'MEDV'] # 正解値に100件のMEDV（住宅価格）を設定\n",
    "print('X_train:', X_train[:3])\n",
    "print('y_train:', y_train[:3])"
   ]
  },
  {
   "cell_type": "code",
   "execution_count": 5,
   "metadata": {
    "colab": {
     "base_uri": "https://localhost:8080/"
    },
    "executionInfo": {
     "elapsed": 389,
     "status": "ok",
     "timestamp": 1685443559797,
     "user": {
      "displayName": "毛利拓也",
      "userId": "17854120745961292401"
     },
     "user_tz": -540
    },
    "id": "lrY8TMglUGtE",
    "outputId": "e7f2b3a7-5efa-4711-8ba5-339e16eb0d30"
   },
   "outputs": [
    {
     "data": {
      "text/plain": [
       "{'ccp_alpha': 0,\n",
       " 'criterion': 'squared_error',\n",
       " 'max_depth': 2,\n",
       " 'max_features': None,\n",
       " 'max_leaf_nodes': None,\n",
       " 'min_impurity_decrease': 0.0,\n",
       " 'min_samples_leaf': 1,\n",
       " 'min_samples_split': 2,\n",
       " 'min_weight_fraction_leaf': 0.0,\n",
       " 'random_state': 0,\n",
       " 'splitter': 'best'}"
      ]
     },
     "execution_count": 5,
     "metadata": {},
     "output_type": "execute_result"
    }
   ],
   "source": [
    "# モデルの学習\n",
    "from sklearn.tree import DecisionTreeRegressor\n",
    "\n",
    "model = DecisionTreeRegressor(criterion='squared_error', max_depth=2, min_samples_leaf=1, ccp_alpha=0, random_state=0) # 深さ2の回帰木モデル\n",
    "model.fit(X_train, y_train)\n",
    "model.get_params()"
   ]
  },
  {
   "cell_type": "code",
   "execution_count": 6,
   "metadata": {
    "colab": {
     "base_uri": "https://localhost:8080/"
    },
    "executionInfo": {
     "elapsed": 4,
     "status": "ok",
     "timestamp": 1685443561255,
     "user": {
      "displayName": "毛利拓也",
      "userId": "17854120745961292401"
     },
     "user_tz": -540
    },
    "id": "9_MIy_vuHtCa",
    "outputId": "4ef2807f-2bdd-4eae-8af1-57721962c577"
   },
   "outputs": [
    {
     "data": {
      "text/plain": [
       "array([23.72777778, 23.72777778, 32.47      , 32.47      , 32.47      ,\n",
       "       23.72777778, 18.64423077, 23.72777778, 18.64423077, 18.64423077,\n",
       "       23.72777778, 18.64423077, 18.64423077, 18.64423077, 18.64423077,\n",
       "       18.64423077, 18.64423077, 18.64423077, 18.64423077, 18.64423077,\n",
       "       18.64423077, 18.64423077, 18.64423077, 18.64423077, 18.64423077,\n",
       "       18.64423077, 18.64423077, 18.64423077, 23.72777778, 23.72777778,\n",
       "       18.64423077, 18.64423077, 18.64423077, 18.64423077, 18.64423077,\n",
       "       18.64423077, 18.64423077, 18.64423077, 18.64423077, 23.72777778,\n",
       "       32.47      , 23.72777778, 23.72777778, 23.72777778, 18.64423077,\n",
       "       18.64423077, 18.64423077, 18.64423077, 18.64423077, 18.64423077,\n",
       "       18.64423077, 18.64423077, 23.72777778, 18.64423077, 18.64423077,\n",
       "       32.47      , 23.72777778, 32.47      , 23.72777778, 18.64423077,\n",
       "       18.64423077, 18.64423077, 23.72777778, 23.72777778, 32.47      ,\n",
       "       23.72777778, 18.64423077, 18.64423077, 18.64423077, 18.64423077,\n",
       "       23.72777778, 18.64423077, 18.64423077, 23.72777778, 23.72777778,\n",
       "       23.72777778, 23.72777778, 18.64423077, 23.72777778, 18.64423077,\n",
       "       23.72777778, 23.72777778, 23.72777778, 23.72777778, 23.72777778,\n",
       "       23.72777778, 18.64423077, 18.64423077, 32.47      , 32.47      ,\n",
       "       23.72777778, 23.72777778, 23.72777778, 23.72777778, 23.72777778,\n",
       "       23.72777778, 23.72777778, 41.25      , 41.25      , 32.47      ])"
      ]
     },
     "execution_count": 6,
     "metadata": {},
     "output_type": "execute_result"
    }
   ],
   "source": [
    "# 予測値\n",
    "model.predict(X_train)"
   ]
  },
  {
   "cell_type": "code",
   "execution_count": 7,
   "metadata": {
    "colab": {
     "base_uri": "https://localhost:8080/",
     "height": 380
    },
    "executionInfo": {
     "elapsed": 471,
     "status": "ok",
     "timestamp": 1685443566652,
     "user": {
      "displayName": "毛利拓也",
      "userId": "17854120745961292401"
     },
     "user_tz": -540
    },
    "id": "COfQtm5DVxwp",
    "outputId": "0ea06970-6d1d-4532-abd9-374e5e1498aa"
   },
   "outputs": [
    {
     "data": {
      "image/svg+xml": [
       "<?xml version=\"1.0\" encoding=\"UTF-8\" standalone=\"no\"?>\n",
       "<!DOCTYPE svg PUBLIC \"-//W3C//DTD SVG 1.1//EN\"\n",
       " \"http://www.w3.org/Graphics/SVG/1.1/DTD/svg11.dtd\">\n",
       "<!-- Generated by graphviz version 2.43.0 (0)\n",
       " -->\n",
       "<!-- Title: Tree Pages: 1 -->\n",
       "<svg width=\"754pt\" height=\"269pt\"\n",
       " viewBox=\"0.00 0.00 753.50 269.00\" xmlns=\"http://www.w3.org/2000/svg\" xmlns:xlink=\"http://www.w3.org/1999/xlink\">\n",
       "<g id=\"graph0\" class=\"graph\" transform=\"scale(1 1) rotate(0) translate(4 265)\">\n",
       "<title>Tree</title>\n",
       "<polygon fill=\"white\" stroke=\"transparent\" points=\"-4,4 -4,-265 749.5,-265 749.5,4 -4,4\"/>\n",
       "<!-- 0 -->\n",
       "<g id=\"node1\" class=\"node\">\n",
       "<title>0</title>\n",
       "<path fill=\"#fbebdf\" stroke=\"black\" d=\"M447,-261C447,-261 288,-261 288,-261 282,-261 276,-255 276,-249 276,-249 276,-205 276,-205 276,-199 282,-193 288,-193 288,-193 447,-193 447,-193 453,-193 459,-199 459,-205 459,-205 459,-249 459,-249 459,-255 453,-261 447,-261\"/>\n",
       "<text text-anchor=\"middle\" x=\"367.5\" y=\"-245.8\" font-family=\"Helvetica,sans-Serif\" font-size=\"14.00\">RM &lt;= 6.793</text>\n",
       "<text text-anchor=\"middle\" x=\"367.5\" y=\"-230.8\" font-family=\"Helvetica,sans-Serif\" font-size=\"14.00\">squared_error = 34.789</text>\n",
       "<text text-anchor=\"middle\" x=\"367.5\" y=\"-215.8\" font-family=\"Helvetica,sans-Serif\" font-size=\"14.00\">samples = 100</text>\n",
       "<text text-anchor=\"middle\" x=\"367.5\" y=\"-200.8\" font-family=\"Helvetica,sans-Serif\" font-size=\"14.00\">value = 22.309</text>\n",
       "</g>\n",
       "<!-- 1 -->\n",
       "<g id=\"node2\" class=\"node\">\n",
       "<title>1</title>\n",
       "<path fill=\"#fdf3ed\" stroke=\"black\" d=\"M347,-157C347,-157 188,-157 188,-157 182,-157 176,-151 176,-145 176,-145 176,-101 176,-101 176,-95 182,-89 188,-89 188,-89 347,-89 347,-89 353,-89 359,-95 359,-101 359,-101 359,-145 359,-145 359,-151 353,-157 347,-157\"/>\n",
       "<text text-anchor=\"middle\" x=\"267.5\" y=\"-141.8\" font-family=\"Helvetica,sans-Serif\" font-size=\"14.00\">RM &lt;= 6.144</text>\n",
       "<text text-anchor=\"middle\" x=\"267.5\" y=\"-126.8\" font-family=\"Helvetica,sans-Serif\" font-size=\"14.00\">squared_error = 15.524</text>\n",
       "<text text-anchor=\"middle\" x=\"267.5\" y=\"-111.8\" font-family=\"Helvetica,sans-Serif\" font-size=\"14.00\">samples = 88</text>\n",
       "<text text-anchor=\"middle\" x=\"267.5\" y=\"-96.8\" font-family=\"Helvetica,sans-Serif\" font-size=\"14.00\">value = 20.724</text>\n",
       "</g>\n",
       "<!-- 0&#45;&gt;1 -->\n",
       "<g id=\"edge1\" class=\"edge\">\n",
       "<title>0&#45;&gt;1</title>\n",
       "<path fill=\"none\" stroke=\"black\" d=\"M335.03,-192.88C326.21,-183.89 316.56,-174.04 307.38,-164.68\"/>\n",
       "<polygon fill=\"black\" stroke=\"black\" points=\"309.65,-161.99 300.15,-157.3 304.65,-166.89 309.65,-161.99\"/>\n",
       "<text text-anchor=\"middle\" x=\"299.9\" y=\"-178.6\" font-family=\"Helvetica,sans-Serif\" font-size=\"14.00\">True</text>\n",
       "</g>\n",
       "<!-- 4 -->\n",
       "<g id=\"node5\" class=\"node\">\n",
       "<title>4</title>\n",
       "<path fill=\"#edaa79\" stroke=\"black\" d=\"M548,-157C548,-157 389,-157 389,-157 383,-157 377,-151 377,-145 377,-145 377,-101 377,-101 377,-95 383,-89 389,-89 389,-89 548,-89 548,-89 554,-89 560,-95 560,-101 560,-101 560,-145 560,-145 560,-151 554,-157 548,-157\"/>\n",
       "<text text-anchor=\"middle\" x=\"468.5\" y=\"-141.8\" font-family=\"Helvetica,sans-Serif\" font-size=\"14.00\">RM &lt;= 7.618</text>\n",
       "<text text-anchor=\"middle\" x=\"468.5\" y=\"-126.8\" font-family=\"Helvetica,sans-Serif\" font-size=\"14.00\">squared_error = 22.516</text>\n",
       "<text text-anchor=\"middle\" x=\"468.5\" y=\"-111.8\" font-family=\"Helvetica,sans-Serif\" font-size=\"14.00\">samples = 12</text>\n",
       "<text text-anchor=\"middle\" x=\"468.5\" y=\"-96.8\" font-family=\"Helvetica,sans-Serif\" font-size=\"14.00\">value = 33.933</text>\n",
       "</g>\n",
       "<!-- 0&#45;&gt;4 -->\n",
       "<g id=\"edge4\" class=\"edge\">\n",
       "<title>0&#45;&gt;4</title>\n",
       "<path fill=\"none\" stroke=\"black\" d=\"M400.29,-192.88C409.2,-183.89 418.95,-174.04 428.22,-164.68\"/>\n",
       "<polygon fill=\"black\" stroke=\"black\" points=\"430.98,-166.87 435.53,-157.3 426,-161.94 430.98,-166.87\"/>\n",
       "<text text-anchor=\"middle\" x=\"435.65\" y=\"-178.6\" font-family=\"Helvetica,sans-Serif\" font-size=\"14.00\">False</text>\n",
       "</g>\n",
       "<!-- 2 -->\n",
       "<g id=\"node3\" class=\"node\">\n",
       "<title>2</title>\n",
       "<path fill=\"#ffffff\" stroke=\"black\" d=\"M153,-53C153,-53 12,-53 12,-53 6,-53 0,-47 0,-41 0,-41 0,-12 0,-12 0,-6 6,0 12,0 12,0 153,0 153,0 159,0 165,-6 165,-12 165,-12 165,-41 165,-41 165,-47 159,-53 153,-53\"/>\n",
       "<text text-anchor=\"middle\" x=\"82.5\" y=\"-37.8\" font-family=\"Helvetica,sans-Serif\" font-size=\"14.00\">squared_error = 9.56</text>\n",
       "<text text-anchor=\"middle\" x=\"82.5\" y=\"-22.8\" font-family=\"Helvetica,sans-Serif\" font-size=\"14.00\">samples = 52</text>\n",
       "<text text-anchor=\"middle\" x=\"82.5\" y=\"-7.8\" font-family=\"Helvetica,sans-Serif\" font-size=\"14.00\">value = 18.644</text>\n",
       "</g>\n",
       "<!-- 1&#45;&gt;2 -->\n",
       "<g id=\"edge2\" class=\"edge\">\n",
       "<title>1&#45;&gt;2</title>\n",
       "<path fill=\"none\" stroke=\"black\" d=\"M202.8,-88.95C182.92,-78.79 161.15,-67.67 141.66,-57.72\"/>\n",
       "<polygon fill=\"black\" stroke=\"black\" points=\"143.09,-54.52 132.59,-53.09 139.9,-60.75 143.09,-54.52\"/>\n",
       "</g>\n",
       "<!-- 3 -->\n",
       "<g id=\"node4\" class=\"node\">\n",
       "<title>3</title>\n",
       "<path fill=\"#f9e3d2\" stroke=\"black\" d=\"M345.5,-53C345.5,-53 195.5,-53 195.5,-53 189.5,-53 183.5,-47 183.5,-41 183.5,-41 183.5,-12 183.5,-12 183.5,-6 189.5,0 195.5,0 195.5,0 345.5,0 345.5,0 351.5,0 357.5,-6 357.5,-12 357.5,-12 357.5,-41 357.5,-41 357.5,-47 351.5,-53 345.5,-53\"/>\n",
       "<text text-anchor=\"middle\" x=\"270.5\" y=\"-37.8\" font-family=\"Helvetica,sans-Serif\" font-size=\"14.00\">squared_error = 8.869</text>\n",
       "<text text-anchor=\"middle\" x=\"270.5\" y=\"-22.8\" font-family=\"Helvetica,sans-Serif\" font-size=\"14.00\">samples = 36</text>\n",
       "<text text-anchor=\"middle\" x=\"270.5\" y=\"-7.8\" font-family=\"Helvetica,sans-Serif\" font-size=\"14.00\">value = 23.728</text>\n",
       "</g>\n",
       "<!-- 1&#45;&gt;3 -->\n",
       "<g id=\"edge3\" class=\"edge\">\n",
       "<title>1&#45;&gt;3</title>\n",
       "<path fill=\"none\" stroke=\"black\" d=\"M268.55,-88.95C268.81,-80.72 269.09,-71.85 269.36,-63.48\"/>\n",
       "<polygon fill=\"black\" stroke=\"black\" points=\"272.86,-63.34 269.68,-53.24 265.87,-63.12 272.86,-63.34\"/>\n",
       "</g>\n",
       "<!-- 5 -->\n",
       "<g id=\"node6\" class=\"node\">\n",
       "<title>5</title>\n",
       "<path fill=\"#efb286\" stroke=\"black\" d=\"M541.5,-53C541.5,-53 391.5,-53 391.5,-53 385.5,-53 379.5,-47 379.5,-41 379.5,-41 379.5,-12 379.5,-12 379.5,-6 385.5,0 391.5,0 391.5,0 541.5,0 541.5,0 547.5,0 553.5,-6 553.5,-12 553.5,-12 553.5,-41 553.5,-41 553.5,-47 547.5,-53 541.5,-53\"/>\n",
       "<text text-anchor=\"middle\" x=\"466.5\" y=\"-37.8\" font-family=\"Helvetica,sans-Serif\" font-size=\"14.00\">squared_error = 12.87</text>\n",
       "<text text-anchor=\"middle\" x=\"466.5\" y=\"-22.8\" font-family=\"Helvetica,sans-Serif\" font-size=\"14.00\">samples = 10</text>\n",
       "<text text-anchor=\"middle\" x=\"466.5\" y=\"-7.8\" font-family=\"Helvetica,sans-Serif\" font-size=\"14.00\">value = 32.47</text>\n",
       "</g>\n",
       "<!-- 4&#45;&gt;5 -->\n",
       "<g id=\"edge5\" class=\"edge\">\n",
       "<title>4&#45;&gt;5</title>\n",
       "<path fill=\"none\" stroke=\"black\" d=\"M467.8,-88.95C467.63,-80.72 467.44,-71.85 467.26,-63.48\"/>\n",
       "<polygon fill=\"black\" stroke=\"black\" points=\"470.76,-63.16 467.04,-53.24 463.76,-63.31 470.76,-63.16\"/>\n",
       "</g>\n",
       "<!-- 6 -->\n",
       "<g id=\"node7\" class=\"node\">\n",
       "<title>6</title>\n",
       "<path fill=\"#e58139\" stroke=\"black\" d=\"M733.5,-53C733.5,-53 583.5,-53 583.5,-53 577.5,-53 571.5,-47 571.5,-41 571.5,-41 571.5,-12 571.5,-12 571.5,-6 577.5,0 583.5,0 583.5,0 733.5,0 733.5,0 739.5,0 745.5,-6 745.5,-12 745.5,-12 745.5,-41 745.5,-41 745.5,-47 739.5,-53 733.5,-53\"/>\n",
       "<text text-anchor=\"middle\" x=\"658.5\" y=\"-37.8\" font-family=\"Helvetica,sans-Serif\" font-size=\"14.00\">squared_error = 6.502</text>\n",
       "<text text-anchor=\"middle\" x=\"658.5\" y=\"-22.8\" font-family=\"Helvetica,sans-Serif\" font-size=\"14.00\">samples = 2</text>\n",
       "<text text-anchor=\"middle\" x=\"658.5\" y=\"-7.8\" font-family=\"Helvetica,sans-Serif\" font-size=\"14.00\">value = 41.25</text>\n",
       "</g>\n",
       "<!-- 4&#45;&gt;6 -->\n",
       "<g id=\"edge6\" class=\"edge\">\n",
       "<title>4&#45;&gt;6</title>\n",
       "<path fill=\"none\" stroke=\"black\" d=\"M534.95,-88.95C555.46,-78.75 577.93,-67.57 598.01,-57.59\"/>\n",
       "<polygon fill=\"black\" stroke=\"black\" points=\"599.66,-60.67 607.06,-53.09 596.54,-54.41 599.66,-60.67\"/>\n",
       "</g>\n",
       "</g>\n",
       "</svg>\n"
      ],
      "text/plain": [
       "<graphviz.sources.Source at 0x7fe37cbd5de0>"
      ]
     },
     "execution_count": 7,
     "metadata": {},
     "output_type": "execute_result"
    }
   ],
   "source": [
    "# 木の可視化\n",
    "import graphviz\n",
    "from sklearn import tree\n",
    "dot_data = tree.export_graphviz(model, out_file=None, rounded=True, feature_names=['RM'], filled=True)\n",
    "graphviz.Source(dot_data, format='png')"
   ]
  },
  {
   "cell_type": "code",
   "execution_count": 8,
   "metadata": {
    "colab": {
     "base_uri": "https://localhost:8080/",
     "height": 466
    },
    "executionInfo": {
     "elapsed": 538,
     "status": "ok",
     "timestamp": 1685443571740,
     "user": {
      "displayName": "毛利拓也",
      "userId": "17854120745961292401"
     },
     "user_tz": -540
    },
    "id": "BTOo3xzfaD0C",
    "outputId": "36d2c979-765a-4a98-e1f5-7877e0b127e1"
   },
   "outputs": [
    {
     "name": "stderr",
     "output_type": "stream",
     "text": [
      "/usr/local/lib/python3.10/site-packages/sklearn/base.py:439: UserWarning: X does not have valid feature names, but DecisionTreeRegressor was fitted with feature names\n",
      "  warnings.warn(\n"
     ]
    },
    {
     "data": {
      "image/png": "[encoded data removed]",
      "text/plain": [
       "<Figure size 800x400 with 1 Axes>"
      ]
     },
     "metadata": {},
     "output_type": "display_data"
    }
   ],
   "source": [
    "# データと予測値の可視化\n",
    "plt.figure(figsize=(8, 4)) #プロットのサイズ指定\n",
    "X = X_train.values.flatten() # numpy配列に変換し、1次元配列に変換\n",
    "y = y_train.values # numpy配列に変換\n",
    "\n",
    "# Xの最小値から最大値まで0.01刻みのX_pltを作成し、2次元配列に変換\n",
    "X_plt = np.arange(X.min(), X.max(), 0.01)[:, np.newaxis]\n",
    "y_pred = model.predict(X_plt) # 住宅価格を予測\n",
    "\n",
    "# 学習データ(平均部屋数と住宅価格)の散布図と予測値のプロット\n",
    "plt.scatter(X, y, color='blue', label='data')\n",
    "plt.plot(X_plt, y_pred, color='red' ,label='DecisionTreeRegressor')\n",
    "plt.ylabel('Price in $1000s [MEDV]')\n",
    "plt.xlabel('average number of rooms [RM]')\n",
    "plt.title('Boston house-prices')\n",
    "plt.legend(loc='upper right')\n",
    "plt.show()"
   ]
  },
  {
   "cell_type": "code",
   "execution_count": null,
   "metadata": {
    "id": "dpGp0EQumeTT"
   },
   "outputs": [],
   "source": []
  }
 ],
 "metadata": {
  "colab": {
   "provenance": []
  },
  "kernelspec": {
   "display_name": "Python 3 (ipykernel)",
   "language": "python",
   "name": "python3"
  },
  "language_info": {
   "codemirror_mode": {
    "name": "ipython",
    "version": 3
   },
   "file_extension": ".py",
   "mimetype": "text/x-python",
   "name": "python",
   "nbconvert_exporter": "python",
   "pygments_lexer": "ipython3",
   "version": "3.10.11"
  }
 },
 "nbformat": 4,
 "nbformat_minor": 4
}
