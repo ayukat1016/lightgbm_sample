{
 "cells": [
  {
   "cell_type": "markdown",
   "metadata": {
    "id": "bTOIsKzkKlWI"
   },
   "source": [
    "# LightGBM（特徴量：RM）の予測値の可視化"
   ]
  },
  {
   "cell_type": "code",
   "execution_count": null,
   "metadata": {
    "id": "xkIesdNl6W1_"
   },
   "outputs": [],
   "source": [
    "# # Colabでバージョンを変更するとき、コメントアウトして実行してください\n",
    "# !pip install pandas==1.5.3\n",
    "# !pip install numpy==1.22.4\n",
    "# !pip install matplotlib==3.7.1\n",
    "# !pip install scikit-learn==1.2.2\n",
    "# !pip install lightgbm==3.3.5"
   ]
  },
  {
   "cell_type": "code",
   "execution_count": 1,
   "metadata": {
    "id": "H3ZPVmgmMGHg"
   },
   "outputs": [],
   "source": [
    "# ライブラリのインポート\n",
    "%matplotlib inline\n",
    "import pandas as pd\n",
    "import numpy as np\n",
    "import matplotlib.pyplot as plt\n",
    "from sklearn.metrics import mean_squared_error"
   ]
  },
  {
   "cell_type": "code",
   "execution_count": 2,
   "metadata": {
    "colab": {
     "base_uri": "https://localhost:8080/"
    },
    "executionInfo": {
     "elapsed": 2490,
     "status": "ok",
     "timestamp": 1685443858753,
     "user": {
      "displayName": "毛利拓也",
      "userId": "17854120745961292401"
     },
     "user_tz": -540
    },
    "id": "oHMfjx6w6qJc",
    "outputId": "fb1b3ca5-17ef-4cbf-e491-2fe05b9504d8"
   },
   "outputs": [
    {
     "name": "stdout",
     "output_type": "stream",
     "text": [
      "1.5.3\n",
      "1.22.4\n",
      "3.7.1\n",
      "1.2.2\n",
      "3.3.5\n"
     ]
    }
   ],
   "source": [
    "# バージョンの確認\n",
    "import matplotlib\n",
    "import sklearn\n",
    "import lightgbm as lgb\n",
    "print(pd.__version__) \n",
    "print(np.__version__)\n",
    "print(matplotlib.__version__)\n",
    "print(sklearn.__version__) \n",
    "print(lgb.__version__)"
   ]
  },
  {
   "cell_type": "code",
   "execution_count": 3,
   "metadata": {
    "id": "U5DzjHXlZ6YJ"
   },
   "outputs": [],
   "source": [
    "# データセットの読み込み\n",
    "df = pd.read_csv('https://archive.ics.uci.edu/ml/machine-learning-databases/housing/housing.data', header=None, sep='\\s+')\n",
    "df.columns=['CRIM', 'ZN', 'INDUS', 'CHAS', 'NOX', 'RM', 'AGE', 'DIS', 'RAD', 'TAX', 'PTRATIO', 'B', 'LSTAT', 'MEDV']\n",
    "#df.head()"
   ]
  },
  {
   "cell_type": "code",
   "execution_count": 4,
   "metadata": {
    "colab": {
     "base_uri": "https://localhost:8080/"
    },
    "executionInfo": {
     "elapsed": 1398,
     "status": "ok",
     "timestamp": 1685443876613,
     "user": {
      "displayName": "毛利拓也",
      "userId": "17854120745961292401"
     },
     "user_tz": -540
    },
    "id": "1dFw6_MqaMd1",
    "outputId": "ab97b256-90c3-49a4-8055-4c414559c618"
   },
   "outputs": [
    {
     "name": "stdout",
     "output_type": "stream",
     "text": [
      "X_train:       RM\n",
      "0  6.575\n",
      "1  6.421\n",
      "2  7.185\n",
      "y_train: 0    24.0\n",
      "1    21.6\n",
      "2    34.7\n",
      "Name: MEDV, dtype: float64\n"
     ]
    }
   ],
   "source": [
    "# 特徴量と目的変数の設定\n",
    "X_train = df.loc[:99, ['RM']] # 特徴量に100件のRM（平均部屋数）を設定\n",
    "y_train = df.loc[:99, 'MEDV'] # 正解値に100件のMEDV（住宅価格）を設定\n",
    "print('X_train:', X_train[:3])\n",
    "print('y_train:', y_train[:3])"
   ]
  },
  {
   "cell_type": "code",
   "execution_count": 5,
   "metadata": {
    "id": "lrY8TMglUGtE"
   },
   "outputs": [],
   "source": [
    "# ハイパーパラメータの設定\n",
    "import lightgbm as lgb\n",
    "\n",
    "lgb_train = lgb.Dataset(X_train, y_train)\n",
    "\n",
    "params = {\n",
    "    'objective': 'mse',\n",
    "    'metric': 'mse',\n",
    "    'learning_rate': 0.8,\n",
    "    'max_depth': 1,\n",
    "    'min_data_in_leaf': 1,\n",
    "    'min_data_in_bin': 1,\n",
    "    'max_bin': 100,\n",
    "    'seed': 0,\n",
    "    'verbose': -1,\n",
    "}"
   ]
  },
  {
   "cell_type": "code",
   "execution_count": 6,
   "metadata": {
    "colab": {
     "base_uri": "https://localhost:8080/"
    },
    "executionInfo": {
     "elapsed": 5,
     "status": "ok",
     "timestamp": 1685443878153,
     "user": {
      "displayName": "毛利拓也",
      "userId": "17854120745961292401"
     },
     "user_tz": -540
    },
    "id": "WPf042PbIO2-",
    "outputId": "fb74a887-5636-472f-d76c-77ffd8f84113"
   },
   "outputs": [
    {
     "name": "stdout",
     "output_type": "stream",
     "text": [
      "[1]\ttrain's l2: 17.1003\n"
     ]
    }
   ],
   "source": [
    "# モデルの学習\n",
    "model = lgb.train(params,\n",
    "                  lgb_train,\n",
    "                  num_boost_round=1,\n",
    "                  valid_sets=[lgb_train],\n",
    "                  valid_names=['train'])"
   ]
  },
  {
   "cell_type": "code",
   "execution_count": 7,
   "metadata": {
    "colab": {
     "base_uri": "https://localhost:8080/"
    },
    "executionInfo": {
     "elapsed": 4,
     "status": "ok",
     "timestamp": 1685443882100,
     "user": {
      "displayName": "毛利拓也",
      "userId": "17854120745961292401"
     },
     "user_tz": -540
    },
    "id": "FtAZa-0_Doab",
    "outputId": "5c4e3a71-9841-46d4-cbd5-32c387bc6dbe"
   },
   "outputs": [
    {
     "name": "stdout",
     "output_type": "stream",
     "text": [
      "MSE train: 17.10\n"
     ]
    }
   ],
   "source": [
    "# 学習データの予測と評価\n",
    "y_train_pred = model.predict(X_train)\n",
    "print('MSE train: %.2f' % (mean_squared_error(y_train, y_train_pred)))"
   ]
  },
  {
   "cell_type": "code",
   "execution_count": 8,
   "metadata": {
    "colab": {
     "base_uri": "https://localhost:8080/"
    },
    "executionInfo": {
     "elapsed": 5,
     "status": "ok",
     "timestamp": 1685443887270,
     "user": {
      "displayName": "毛利拓也",
      "userId": "17854120745961292401"
     },
     "user_tz": -540
    },
    "id": "gsUTnr89nrkK",
    "outputId": "7783223d-cb81-4a5b-89bf-85b50ddaefaf"
   },
   "outputs": [
    {
     "data": {
      "text/plain": [
       "array([21.040891  , 21.040891  , 31.60846732, 31.60846732, 31.60846732,\n",
       "       21.040891  , 21.040891  , 21.040891  , 21.040891  , 21.040891  ,\n",
       "       21.040891  , 21.040891  , 21.040891  , 21.040891  , 21.040891  ,\n",
       "       21.040891  , 21.040891  , 21.040891  , 21.040891  , 21.040891  ,\n",
       "       21.040891  , 21.040891  , 21.040891  , 21.040891  , 21.040891  ,\n",
       "       21.040891  , 21.040891  , 21.040891  , 21.040891  , 21.040891  ,\n",
       "       21.040891  , 21.040891  , 21.040891  , 21.040891  , 21.040891  ,\n",
       "       21.040891  , 21.040891  , 21.040891  , 21.040891  , 21.040891  ,\n",
       "       31.60846732, 21.040891  , 21.040891  , 21.040891  , 21.040891  ,\n",
       "       21.040891  , 21.040891  , 21.040891  , 21.040891  , 21.040891  ,\n",
       "       21.040891  , 21.040891  , 21.040891  , 21.040891  , 21.040891  ,\n",
       "       31.60846732, 21.040891  , 31.60846732, 21.040891  , 21.040891  ,\n",
       "       21.040891  , 21.040891  , 21.040891  , 21.040891  , 31.60846732,\n",
       "       21.040891  , 21.040891  , 21.040891  , 21.040891  , 21.040891  ,\n",
       "       21.040891  , 21.040891  , 21.040891  , 21.040891  , 21.040891  ,\n",
       "       21.040891  , 21.040891  , 21.040891  , 21.040891  , 21.040891  ,\n",
       "       21.040891  , 21.040891  , 21.040891  , 21.040891  , 21.040891  ,\n",
       "       21.040891  , 21.040891  , 21.040891  , 31.60846732, 31.60846732,\n",
       "       21.040891  , 21.040891  , 21.040891  , 21.040891  , 21.040891  ,\n",
       "       21.040891  , 21.040891  , 31.60846732, 31.60846732, 31.60846732])"
      ]
     },
     "execution_count": 8,
     "metadata": {},
     "output_type": "execute_result"
    }
   ],
   "source": [
    "# 予測値\n",
    "model.predict(X_train)"
   ]
  },
  {
   "cell_type": "code",
   "execution_count": 9,
   "metadata": {
    "colab": {
     "base_uri": "https://localhost:8080/",
     "height": 312
    },
    "executionInfo": {
     "elapsed": 839,
     "status": "ok",
     "timestamp": 1685443894940,
     "user": {
      "displayName": "毛利拓也",
      "userId": "17854120745961292401"
     },
     "user_tz": -540
    },
    "id": "COfQtm5DVxwp",
    "outputId": "0ae98e38-f489-47ea-874c-79bcb8a96ec4"
   },
   "outputs": [
    {
     "data": {
      "text/plain": [
       "<Axes: >"
      ]
     },
     "execution_count": 9,
     "metadata": {},
     "output_type": "execute_result"
    },
    {
     "data": {
      "image/png": "[encoded data removed]",
      "text/plain": [
       "<Figure size 1000x1000 with 1 Axes>"
      ]
     },
     "metadata": {},
     "output_type": "display_data"
    }
   ],
   "source": [
    "# 木の可視化\n",
    "lgb.plot_tree(model, tree_index=0, figsize=(10, 10))"
   ]
  },
  {
   "cell_type": "code",
   "execution_count": 10,
   "metadata": {
    "colab": {
     "base_uri": "https://localhost:8080/",
     "height": 410
    },
    "executionInfo": {
     "elapsed": 821,
     "status": "ok",
     "timestamp": 1685443907532,
     "user": {
      "displayName": "毛利拓也",
      "userId": "17854120745961292401"
     },
     "user_tz": -540
    },
    "id": "BTOo3xzfaD0C",
    "outputId": "a709ffe5-903f-4ded-8eb6-eec0a151b391"
   },
   "outputs": [
    {
     "data": {
      "image/png": "[encoded data removed]",
      "text/plain": [
       "<Figure size 800x400 with 1 Axes>"
      ]
     },
     "metadata": {},
     "output_type": "display_data"
    }
   ],
   "source": [
    "# データと予測値の可視化\n",
    "plt.figure(figsize=(8, 4)) #プロットのサイズ指定\n",
    "X = X_train.values.flatten() # numpy配列に変換し、1次元配列に変換\n",
    "y = y_train.values # numpy配列に変換\n",
    "\n",
    "# Xの最小値から最大値まで0.01刻みのX_pltを作成し、2次元配列に変換\n",
    "X_plt = np.arange(X.min(), X.max(), 0.01)[:, np.newaxis]\n",
    "y_pred = model.predict(X_plt) # 住宅価格を予測\n",
    "\n",
    "# 学習データ(平均部屋数と住宅価格)の散布図と予測値のプロット\n",
    "plt.scatter(X, y, color='blue', label='data')\n",
    "plt.plot(X_plt, y_pred, color='red', label='LightGBM')\n",
    "plt.ylabel('Price in $1000s [MEDV]')\n",
    "plt.xlabel('average number of rooms [RM]')\n",
    "plt.title('Boston house-prices')\n",
    "plt.legend(loc='upper right')\n",
    "plt.show()"
   ]
  },
  {
   "cell_type": "code",
   "execution_count": null,
   "metadata": {
    "id": "ZgBOqPzDMVrx"
   },
   "outputs": [],
   "source": []
  },
  {
   "cell_type": "markdown",
   "metadata": {
    "id": "5Uqw7laoKgHz"
   },
   "source": [
    "# 分割点と予測値の検証"
   ]
  },
  {
   "cell_type": "code",
   "execution_count": 11,
   "metadata": {
    "colab": {
     "base_uri": "https://localhost:8080/"
    },
    "executionInfo": {
     "elapsed": 2,
     "status": "ok",
     "timestamp": 1685443912342,
     "user": {
      "displayName": "毛利拓也",
      "userId": "17854120745961292401"
     },
     "user_tz": -540
    },
    "id": "JYYW7wrf50Dx",
    "outputId": "4ed40742-3635-4600-b902-f277fcaf3ff8"
   },
   "outputs": [
    {
     "name": "stdout",
     "output_type": "stream",
     "text": [
      "samples: 100\n",
      "pred0: 22.30900000000001\n"
     ]
    }
   ],
   "source": [
    "# 初期値\n",
    "print('samples:', len(y)) # レコード数\n",
    "pred0 = sum(y)/len(y) # 予測値（平均）\n",
    "print('pred0:', pred0)"
   ]
  },
  {
   "cell_type": "code",
   "execution_count": 12,
   "metadata": {
    "colab": {
     "base_uri": "https://localhost:8080/"
    },
    "executionInfo": {
     "elapsed": 5,
     "status": "ok",
     "timestamp": 1685443914701,
     "user": {
      "displayName": "毛利拓也",
      "userId": "17854120745961292401"
     },
     "user_tz": -540
    },
    "id": "86QuCiMH50JH",
    "outputId": "35aefe26-dfde-4b27-d27c-3aa6303ac2ef"
   },
   "outputs": [
    {
     "name": "stdout",
     "output_type": "stream",
     "text": [
      "X_left: [6.575 6.421 6.43  6.012 6.172 5.631 6.004 6.377 6.009 5.889 5.949 6.096\n",
      " 5.834 5.935 5.99  5.456 5.727 5.57  5.965 6.142 5.813 5.924 5.599 5.813\n",
      " 6.047 6.495 6.674 5.713 6.072 5.95  5.701 6.096 5.933 5.841 5.85  5.966\n",
      " 6.595 6.77  6.169 6.211 6.069 5.682 5.786 6.03  5.399 5.602 5.963 6.115\n",
      " 6.511 5.998 5.888 6.383 6.145 5.927 5.741 5.966 6.456 6.762 6.29  5.787\n",
      " 5.878 5.594 5.885 6.417 5.961 6.065 6.245 6.273 6.286 6.279 6.14  6.232\n",
      " 5.874 6.727 6.619 6.302 6.167 6.389 6.63  6.015 6.121 6.417 6.405 6.442\n",
      " 6.211 6.249 6.625 6.163]\n",
      "\n",
      "y_left: [24.  21.6 28.7 22.9 27.1 16.5 18.9 15.  18.9 21.7 20.4 18.2 19.9 23.1\n",
      " 17.5 20.2 18.2 13.6 19.6 15.2 14.5 15.6 13.9 16.6 14.8 18.4 21.  12.7\n",
      " 14.5 13.2 13.1 13.5 18.9 20.  21.  24.7 30.8 26.6 25.3 24.7 21.2 19.3\n",
      " 20.  16.6 14.4 19.4 19.7 20.5 25.  23.4 18.9 24.7 23.3 19.6 18.7 16.\n",
      " 22.2 25.  23.5 19.4 22.  17.4 20.9 24.2 21.7 22.8 23.4 24.1 21.4 20.\n",
      " 20.8 21.2 20.3 28.  23.9 24.8 22.9 23.9 26.6 22.5 22.2 22.6 22.  22.9\n",
      " 25.  20.6 28.4 21.4]\n"
     ]
    }
   ],
   "source": [
    "# 左葉のレコード\n",
    "threshold = 6.793 # 左右に分割する分割点\n",
    "X_left = X[X<=threshold] # 左葉の特徴量\n",
    "y_left = y[X<=threshold] # 左葉の正解値\n",
    "print('X_left:', X_left)\n",
    "print('')\n",
    "print('y_left:', y_left)"
   ]
  },
  {
   "cell_type": "code",
   "execution_count": 13,
   "metadata": {
    "colab": {
     "base_uri": "https://localhost:8080/"
    },
    "executionInfo": {
     "elapsed": 10,
     "status": "ok",
     "timestamp": 1685443917259,
     "user": {
      "displayName": "毛利拓也",
      "userId": "17854120745961292401"
     },
     "user_tz": -540
    },
    "id": "zMThiwQX50Ml",
    "outputId": "f41def4d-4c0a-42fa-8f2f-99d3253f86c3"
   },
   "outputs": [
    {
     "name": "stdout",
     "output_type": "stream",
     "text": [
      "samples_left: 88\n",
      "weight_left: -1.5851363636363767\n",
      "y_pred_left: 21.040890909090912\n"
     ]
    }
   ],
   "source": [
    "# 左葉の予測値\n",
    "print('samples_left:', len(y_left)) # 左葉のレコード数\n",
    "residual_left = y_left - pred0 # 残差\n",
    "weight_left = sum(residual_left)/len(y_left) # 重み\n",
    "print('weight_left:', weight_left)\n",
    "y_pred_left = pred0 + 0.8 * weight_left # 左葉の予測値\n",
    "print('y_pred_left:', y_pred_left)"
   ]
  },
  {
   "cell_type": "code",
   "execution_count": 14,
   "metadata": {
    "colab": {
     "base_uri": "https://localhost:8080/"
    },
    "executionInfo": {
     "elapsed": 3,
     "status": "ok",
     "timestamp": 1685443917759,
     "user": {
      "displayName": "毛利拓也",
      "userId": "17854120745961292401"
     },
     "user_tz": -540
    },
    "id": "sqQuFGIr87IY",
    "outputId": "76ac5cda-0e29-434c-91e4-092696a9dbb9"
   },
   "outputs": [
    {
     "name": "stdout",
     "output_type": "stream",
     "text": [
      "X_right: [7.185 6.998 7.147 7.024 7.249 6.816 7.104 7.007 7.079 8.069 7.82  7.416]\n",
      "y_right: [34.7 33.4 36.2 34.9 35.4 31.6 33.  23.6 28.7 38.7 43.8 33.2]\n"
     ]
    }
   ],
   "source": [
    "# 右葉のレコード\n",
    "X_right = X[threshold<X] # 右葉の特徴量\n",
    "y_right = y[threshold<X] # 右葉の正解値\n",
    "print('X_right:', X_right)\n",
    "print('y_right:', y_right)"
   ]
  },
  {
   "cell_type": "code",
   "execution_count": 15,
   "metadata": {
    "colab": {
     "base_uri": "https://localhost:8080/"
    },
    "executionInfo": {
     "elapsed": 4,
     "status": "ok",
     "timestamp": 1685443919503,
     "user": {
      "displayName": "毛利拓也",
      "userId": "17854120745961292401"
     },
     "user_tz": -540
    },
    "id": "JTEfonMS9BRQ",
    "outputId": "1c6f97cf-c54f-46be-d059-8b12ef7f38f2"
   },
   "outputs": [
    {
     "name": "stdout",
     "output_type": "stream",
     "text": [
      "samples_right: 12\n",
      "weight_right: 11.624333333333324\n",
      "y_pred_right: 31.608466666666672\n"
     ]
    }
   ],
   "source": [
    "# 右葉の予測値\n",
    "print('samples_right:', len(y_right)) # 右葉のレコード数\n",
    "residual_right = y_right - pred0 # 残差\n",
    "weight_right = sum(residual_right)/len(y_right) # 重み\n",
    "print('weight_right:', weight_right)\n",
    "y_pred_right = pred0 + 0.8 * weight_right # 右葉の予測値\n",
    "print('y_pred_right:', y_pred_right)"
   ]
  },
  {
   "cell_type": "code",
   "execution_count": null,
   "metadata": {
    "id": "sl6OPnTPBR9s"
   },
   "outputs": [],
   "source": []
  },
  {
   "cell_type": "code",
   "execution_count": null,
   "metadata": {
    "id": "VGGb6fMASgDr"
   },
   "outputs": [],
   "source": []
  },
  {
   "cell_type": "code",
   "execution_count": null,
   "metadata": {
    "id": "cX6NNgmvSZ3z"
   },
   "outputs": [],
   "source": []
  },
  {
   "cell_type": "markdown",
   "metadata": {
    "id": "NnkCNMBvKP6V"
   },
   "source": [
    "# 特徴量RMのヒストグラム(5.4節のLightGBMの説明で掲載)"
   ]
  },
  {
   "cell_type": "code",
   "execution_count": 16,
   "metadata": {
    "colab": {
     "base_uri": "https://localhost:8080/",
     "height": 470
    },
    "executionInfo": {
     "elapsed": 1686,
     "status": "ok",
     "timestamp": 1683888112405,
     "user": {
      "displayName": "毛利拓也",
      "userId": "17854120745961292401"
     },
     "user_tz": -540
    },
    "id": "kNAHXjmukwQf",
    "outputId": "84b0949f-31d7-42f2-ff51-13e6d67fab7e"
   },
   "outputs": [
    {
     "data": {
      "text/plain": [
       "array([[<Axes: title={'center': 'RM'}>]], dtype=object)"
      ]
     },
     "execution_count": 16,
     "metadata": {},
     "output_type": "execute_result"
    },
    {
     "data": {
      "image/png": "[encoded data removed]",
      "text/plain": [
       "<Figure size 640x480 with 1 Axes>"
      ]
     },
     "metadata": {},
     "output_type": "display_data"
    }
   ],
   "source": [
    "# max_bin=20\n",
    "X_train = df.loc[:99, ['RM']] # 特徴量に100件のRM（平均部屋数）を設定\n",
    "X_train.hist(bins=20) # 100件レコードに対してbinが20のヒストグラム"
   ]
  },
  {
   "cell_type": "code",
   "execution_count": 17,
   "metadata": {
    "colab": {
     "base_uri": "https://localhost:8080/",
     "height": 470
    },
    "executionInfo": {
     "elapsed": 1764,
     "status": "ok",
     "timestamp": 1683888119231,
     "user": {
      "displayName": "毛利拓也",
      "userId": "17854120745961292401"
     },
     "user_tz": -540
    },
    "id": "kJYv7zpxGiGD",
    "outputId": "4960508e-fac1-41a0-fafa-c388377fab4e"
   },
   "outputs": [
    {
     "data": {
      "text/plain": [
       "array([[<Axes: title={'center': 'RM'}>]], dtype=object)"
      ]
     },
     "execution_count": 17,
     "metadata": {},
     "output_type": "execute_result"
    },
    {
     "data": {
      "image/png": "[encoded data removed]",
      "text/plain": [
       "<Figure size 640x480 with 1 Axes>"
      ]
     },
     "metadata": {},
     "output_type": "display_data"
    }
   ],
   "source": [
    "# max_bin=10\n",
    "X_train.hist(bins=10) # 100件レコードに対してbinが10のヒストグラム"
   ]
  },
  {
   "cell_type": "code",
   "execution_count": null,
   "metadata": {
    "id": "prn3ySXpnzf0"
   },
   "outputs": [],
   "source": []
  }
 ],
 "metadata": {
  "colab": {
   "provenance": []
  },
  "kernelspec": {
   "display_name": "Python 3 (ipykernel)",
   "language": "python",
   "name": "python3"
  },
  "language_info": {
   "codemirror_mode": {
    "name": "ipython",
    "version": 3
   },
   "file_extension": ".py",
   "mimetype": "text/x-python",
   "name": "python",
   "nbconvert_exporter": "python",
   "pygments_lexer": "ipython3",
   "version": "3.10.11"
  }
 },
 "nbformat": 4,
 "nbformat_minor": 4
}
