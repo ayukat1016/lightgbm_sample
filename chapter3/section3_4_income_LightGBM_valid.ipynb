{
 "cells": [
  {
   "cell_type": "markdown",
   "metadata": {
    "id": "hNPpPwYZulel"
   },
   "source": [
    "# LightGBM（アーリーストッピング）の学習→予測→評価"
   ]
  },
  {
   "cell_type": "code",
   "execution_count": null,
   "metadata": {
    "id": "TlKkG_LlSt6m"
   },
   "outputs": [],
   "source": [
    "# # Colabでバージョンを変更するとき、コメントアウトして実行してください\n",
    "# !pip install pandas==1.5.3\n",
    "# !pip install numpy==1.22.4\n",
    "# !pip install matplotlib==3.7.1\n",
    "# !pip install seaborn==0.12.2\n",
    "# !pip install scikit-learn==1.2.2\n",
    "# !pip install lightgbm==3.3.5"
   ]
  },
  {
   "cell_type": "code",
   "execution_count": 1,
   "metadata": {
    "id": "YFStTcVyp_Uz"
   },
   "outputs": [],
   "source": [
    "# ライブラリのインポート\n",
    "%matplotlib inline\n",
    "import pandas as pd\n",
    "import numpy as np\n",
    "import matplotlib.pyplot as plt\n",
    "import seaborn as sns\n",
    "from sklearn.model_selection import train_test_split\n",
    "from sklearn.metrics import accuracy_score\n",
    "from sklearn.metrics import f1_score\n",
    "from sklearn.metrics import confusion_matrix\n",
    "import warnings\n",
    "warnings.filterwarnings('ignore', category=UserWarning)"
   ]
  },
  {
   "cell_type": "code",
   "execution_count": 2,
   "metadata": {
    "colab": {
     "base_uri": "https://localhost:8080/"
    },
    "executionInfo": {
     "elapsed": 4443,
     "status": "ok",
     "timestamp": 1685448228137,
     "user": {
      "displayName": "毛利拓也",
      "userId": "17854120745961292401"
     },
     "user_tz": -540
    },
    "id": "9ZNYYbczSw_m",
    "outputId": "b10c2e2f-60cd-45ee-84f3-8bf8532bf9f1"
   },
   "outputs": [
    {
     "name": "stdout",
     "output_type": "stream",
     "text": [
      "1.5.3\n",
      "1.22.4\n",
      "3.7.1\n",
      "0.12.2\n",
      "1.2.2\n",
      "3.3.5\n"
     ]
    }
   ],
   "source": [
    "# バージョンの確認\n",
    "import matplotlib\n",
    "import sklearn\n",
    "import lightgbm as lgb\n",
    "print(pd.__version__) \n",
    "print(np.__version__)\n",
    "print(matplotlib.__version__)\n",
    "print(sns.__version__)\n",
    "print(sklearn.__version__) \n",
    "print(lgb.__version__)"
   ]
  },
  {
   "cell_type": "code",
   "execution_count": 3,
   "metadata": {
    "id": "ofhUhtDjZn5O"
   },
   "outputs": [],
   "source": [
    "# データセットの読み込み\n",
    "df = pd.read_csv('https://archive.ics.uci.edu/ml/machine-learning-databases/adult/adult.data', header=None)\n",
    "df.columns =['age', 'workclass', 'fnlwgt', 'education', 'education-num', 'marital-status', 'occupation', 'relationship', 'race', 'gender', 'capital-gain', 'capital-loss', 'hours-per-week', 'native-country', 'income']\n",
    "#df.head()"
   ]
  },
  {
   "cell_type": "code",
   "execution_count": 4,
   "metadata": {
    "id": "l5h93GDvzX5I"
   },
   "outputs": [],
   "source": [
    "# 前処理\n",
    "\n",
    "# 文字列の半角スペース削除\n",
    "cat_cols = ['workclass', 'education', 'marital-status', 'occupation', 'relationship', 'race', 'gender', 'native-country', 'income']\n",
    "for s in cat_cols:\n",
    "  df[s] =df[s].str.replace(' ', '')\n",
    "\n",
    "# United-Statesのレコードに絞り特徴量native-countryを削除\n",
    "df = df[df['native-country'].isin(['United-States'])]\n",
    "df = df.drop(['native-country'], axis=1)\n",
    "df.reset_index(inplace=True, drop=True)\n",
    "\n",
    "# 正解ラベルの数値への置換\n",
    "df['income'] = df['income'].replace('<=50K', 0)\n",
    "df['income'] = df['income'].replace('>50K', 1)\n",
    "\n",
    "#print(df.shape)\n",
    "#df.head()"
   ]
  },
  {
   "cell_type": "code",
   "execution_count": 5,
   "metadata": {
    "id": "MDAMdk5PSKe9"
   },
   "outputs": [],
   "source": [
    "# 特徴量と目的変数の設定\n",
    "X = df.drop(['income'], axis=1)\n",
    "y = df['income']"
   ]
  },
  {
   "cell_type": "code",
   "execution_count": 6,
   "metadata": {
    "colab": {
     "base_uri": "https://localhost:8080/"
    },
    "executionInfo": {
     "elapsed": 903,
     "status": "ok",
     "timestamp": 1685448242253,
     "user": {
      "displayName": "毛利拓也",
      "userId": "17854120745961292401"
     },
     "user_tz": -540
    },
    "id": "18I_G4HP5Tfh",
    "outputId": "fea7a8bc-db29-4ddd-c197-5d9f9e034598"
   },
   "outputs": [
    {
     "name": "stdout",
     "output_type": "stream",
     "text": [
      "X_trainの形状： (23336, 13)  y_trainの形状： (23336,)  X_testの形状： (5834, 13)  y_testの形状： (5834,)\n"
     ]
    }
   ],
   "source": [
    "# 学習データとテストデータに分割\n",
    "X_train, X_test, y_train, y_test = train_test_split(X, y, test_size=0.2, shuffle=True, stratify=y, random_state=0)\n",
    "print('X_trainの形状：', X_train.shape, ' y_trainの形状：', y_train.shape, ' X_testの形状：', X_test.shape, ' y_testの形状：', y_test.shape)"
   ]
  },
  {
   "cell_type": "code",
   "execution_count": 7,
   "metadata": {
    "id": "PeRg4jFd3Zay"
   },
   "outputs": [],
   "source": [
    "# カテゴリ変数の前処理\n",
    "\n",
    "# カテゴリ変数のlabel encoding\n",
    "from sklearn.preprocessing import LabelEncoder\n",
    "\n",
    "cat_cols = ['workclass', 'education', 'marital-status', 'occupation', 'relationship', 'race', 'gender']\n",
    "\n",
    "for c in cat_cols:\n",
    "    le = LabelEncoder()\n",
    "    le.fit(X_train[c])\n",
    "    X_train[c] = le.transform(X_train[c])\n",
    "    X_test[c] = le.transform(X_test[c])\n",
    "\n",
    "    # データ型をcategory型に変換\n",
    "    X_train[c] = X_train[c].astype('category')\n",
    "    X_test[c] = X_test[c].astype('category')\n",
    "\n",
    "#X_train.info()"
   ]
  },
  {
   "cell_type": "code",
   "execution_count": 8,
   "metadata": {
    "colab": {
     "base_uri": "https://localhost:8080/"
    },
    "executionInfo": {
     "elapsed": 4,
     "status": "ok",
     "timestamp": 1685448253182,
     "user": {
      "displayName": "毛利拓也",
      "userId": "17854120745961292401"
     },
     "user_tz": -540
    },
    "id": "6MBCN65jqvNg",
    "outputId": "88b3a66b-6d89-4b6e-8e80-f58fbf045b11"
   },
   "outputs": [
    {
     "name": "stdout",
     "output_type": "stream",
     "text": [
      "X_trの形状： (18668, 13)  y_trの形状： (18668,)  X_vaの形状： (4668, 13)  y_vaの形状： (4668,)\n"
     ]
    }
   ],
   "source": [
    "# 学習データの20%を検証データに分割\n",
    "X_tr, X_va, y_tr, y_va = train_test_split(X_train, y_train, test_size=0.2, shuffle=True, stratify=y_train, random_state=0)\n",
    "print('X_trの形状：', X_tr.shape, ' y_trの形状：', y_tr.shape, ' X_vaの形状：', X_va.shape, ' y_vaの形状：', y_va.shape)"
   ]
  },
  {
   "cell_type": "code",
   "execution_count": 9,
   "metadata": {
    "id": "RaVXDbs0q2e7"
   },
   "outputs": [],
   "source": [
    "# ハイパーパラメータの設定\n",
    "import lightgbm as lgb\n",
    "\n",
    "lgb_train = lgb.Dataset(X_tr, y_tr)\n",
    "lgb_eval = lgb.Dataset(X_va, y_va, reference=lgb_train)\n",
    "\n",
    "params = {\n",
    "    'objective': 'binary',\n",
    "    'num_leaves': 5,\n",
    "    'seed': 0,\n",
    "    'verbose': -1,\n",
    "}\n",
    "\n",
    "# 誤差プロットの格納用データ\n",
    "evals_result = {} "
   ]
  },
  {
   "cell_type": "code",
   "execution_count": 10,
   "metadata": {
    "colab": {
     "base_uri": "https://localhost:8080/"
    },
    "executionInfo": {
     "elapsed": 411,
     "status": "ok",
     "timestamp": 1685448265988,
     "user": {
      "displayName": "毛利拓也",
      "userId": "17854120745961292401"
     },
     "user_tz": -540
    },
    "id": "SEqEL7p4Gdva",
    "outputId": "677330fc-2a91-4ef1-a300-c5918a2022e0"
   },
   "outputs": [
    {
     "name": "stdout",
     "output_type": "stream",
     "text": [
      "Training until validation scores don't improve for 10 rounds\n",
      "[100]\ttrain's binary_logloss: 0.285093\tvalid's binary_logloss: 0.297689\n",
      "[200]\ttrain's binary_logloss: 0.271357\tvalid's binary_logloss: 0.291118\n",
      "Early stopping, best iteration is:\n",
      "[200]\ttrain's binary_logloss: 0.271357\tvalid's binary_logloss: 0.291118\n"
     ]
    }
   ],
   "source": [
    "# モデルの学習\n",
    "model = lgb.train(params,\n",
    "                  lgb_train,\n",
    "                  num_boost_round=500,\n",
    "                  valid_sets=[lgb_train, lgb_eval],\n",
    "                  valid_names=['train', 'valid'],\n",
    "                  callbacks=[lgb.early_stopping(10),\n",
    "                             lgb.log_evaluation(100),\n",
    "                             lgb.record_evaluation(evals_result)])"
   ]
  },
  {
   "cell_type": "code",
   "execution_count": 11,
   "metadata": {
    "colab": {
     "base_uri": "https://localhost:8080/",
     "height": 490
    },
    "executionInfo": {
     "elapsed": 658,
     "status": "ok",
     "timestamp": 1685448274231,
     "user": {
      "displayName": "毛利拓也",
      "userId": "17854120745961292401"
     },
     "user_tz": -540
    },
    "id": "b0o7nEqhFu1Y",
    "outputId": "95b07504-2e4e-4145-975f-2f9c3a1ac165"
   },
   "outputs": [
    {
     "data": {
      "text/plain": [
       "<Axes: title={'center': 'Metric during training'}, xlabel='Iterations', ylabel='binary_logloss'>"
      ]
     },
     "execution_count": 11,
     "metadata": {},
     "output_type": "execute_result"
    },
    {
     "data": {
      "image/png": "[encoded data removed]",
      "text/plain": [
       "<Figure size 640x480 with 1 Axes>"
      ]
     },
     "metadata": {},
     "output_type": "display_data"
    }
   ],
   "source": [
    "# 学習データと検証データの誤差プロット\n",
    "lgb.plot_metric(evals_result)"
   ]
  },
  {
   "cell_type": "code",
   "execution_count": 12,
   "metadata": {
    "colab": {
     "base_uri": "https://localhost:8080/"
    },
    "executionInfo": {
     "elapsed": 3,
     "status": "ok",
     "timestamp": 1685448276166,
     "user": {
      "displayName": "毛利拓也",
      "userId": "17854120745961292401"
     },
     "user_tz": -540
    },
    "id": "Np-L0Y2AGecC",
    "outputId": "09ccab98-af44-4bd3-cc94-ba883d5e5c1b"
   },
   "outputs": [
    {
     "data": {
      "text/plain": [
       "200"
      ]
     },
     "execution_count": 12,
     "metadata": {},
     "output_type": "execute_result"
    }
   ],
   "source": [
    "# 学習が停止したブースティング回数\n",
    "model.best_iteration"
   ]
  },
  {
   "cell_type": "code",
   "execution_count": 13,
   "metadata": {
    "colab": {
     "base_uri": "https://localhost:8080/"
    },
    "executionInfo": {
     "elapsed": 4,
     "status": "ok",
     "timestamp": 1685448288722,
     "user": {
      "displayName": "毛利拓也",
      "userId": "17854120745961292401"
     },
     "user_tz": -540
    },
    "id": "tkg6cVH1RADN",
    "outputId": "645cc5e9-b2b5-4ec7-daa4-d9ce25850261"
   },
   "outputs": [
    {
     "name": "stdout",
     "output_type": "stream",
     "text": [
      "ラベル1の確率： [0.03758662 0.00051379 0.16303104 ... 0.00878358 0.07152312 0.41445192]\n",
      "予測ラベル値： [0. 0. 0. ... 0. 0. 0.]\n",
      "accuracy = 0.87\n",
      "F1-score = 0.70\n"
     ]
    }
   ],
   "source": [
    "# 検証データの予測と評価\n",
    "y_va_pred_proba = model.predict(X_va, num_iteration=model.best_iteration) # ラベル1の確率\n",
    "print('ラベル1の確率：', y_va_pred_proba)\n",
    "y_va_pred = np.round(y_va_pred_proba) # 確率をラベル0 or 1に変換\n",
    "print('予測ラベル値：', y_va_pred)\n",
    "\n",
    "ac_score = accuracy_score(y_va, y_va_pred)\n",
    "print('accuracy = %.2f' % (ac_score))\n",
    "\n",
    "f1 = f1_score(y_va, y_va_pred)\n",
    "print('F1-score = %.2f' % (f1))"
   ]
  },
  {
   "cell_type": "code",
   "execution_count": 14,
   "metadata": {
    "colab": {
     "base_uri": "https://localhost:8080/"
    },
    "executionInfo": {
     "elapsed": 5,
     "status": "ok",
     "timestamp": 1685448294334,
     "user": {
      "displayName": "毛利拓也",
      "userId": "17854120745961292401"
     },
     "user_tz": -540
    },
    "id": "EJoWRLsW6QuW",
    "outputId": "017131bc-7fb4-4599-abe4-f68c84b6a64a"
   },
   "outputs": [
    {
     "name": "stdout",
     "output_type": "stream",
     "text": [
      "ラベル1の確率： [0.02738649 0.1740557  0.19527131 ... 0.99293736 0.04875194 0.04739031]\n",
      "予測ラベル値： [0. 0. 0. ... 1. 0. 0.]\n",
      "accuracy = 0.86\n",
      "F1-score = 0.68\n"
     ]
    }
   ],
   "source": [
    "# テストデータの予測と評価\n",
    "y_test_pred_proba = model.predict(X_test, num_iteration=model.best_iteration) # ラベル1の確率\n",
    "print('ラベル1の確率：', y_test_pred_proba)\n",
    "y_test_pred = np.round(y_test_pred_proba) # 確率をラベル0 or 1に変換\n",
    "print('予測ラベル値：', y_test_pred)\n",
    "\n",
    "ac_score = accuracy_score(y_test, y_test_pred)\n",
    "print('accuracy = %.2f' % (ac_score))\n",
    "\n",
    "f1 = f1_score(y_test, y_test_pred)\n",
    "print('F1-score = %.2f' % (f1))"
   ]
  },
  {
   "cell_type": "code",
   "execution_count": 15,
   "metadata": {
    "colab": {
     "base_uri": "https://localhost:8080/",
     "height": 406
    },
    "executionInfo": {
     "elapsed": 1510,
     "status": "ok",
     "timestamp": 1685448300402,
     "user": {
      "displayName": "毛利拓也",
      "userId": "17854120745961292401"
     },
     "user_tz": -540
    },
    "id": "6UbksmdkgDGY",
    "outputId": "e5deb316-e05c-45bf-f37b-d030fb08959e"
   },
   "outputs": [
    {
     "data": {
      "text/plain": [
       "Text(45.722222222222214, 0.5, 'label')"
      ]
     },
     "execution_count": 15,
     "metadata": {},
     "output_type": "execute_result"
    },
    {
     "data": {
      "image/png": "[encoded data removed]",
      "text/plain": [
       "<Figure size 600x400 with 2 Axes>"
      ]
     },
     "metadata": {},
     "output_type": "display_data"
    }
   ],
   "source": [
    "# 混同行列\n",
    "cm = confusion_matrix(y_test, y_test_pred)\n",
    "plt.figure(figsize = (6, 4))\n",
    "sns.heatmap(cm, annot=True, fmt='d', cmap='Blues')\n",
    "plt.xlabel('pred')\n",
    "plt.ylabel('label')"
   ]
  },
  {
   "cell_type": "code",
   "execution_count": 16,
   "metadata": {
    "colab": {
     "base_uri": "https://localhost:8080/",
     "height": 484
    },
    "executionInfo": {
     "elapsed": 1673,
     "status": "ok",
     "timestamp": 1685448308041,
     "user": {
      "displayName": "毛利拓也",
      "userId": "17854120745961292401"
     },
     "user_tz": -540
    },
    "id": "reON0fJ57AIJ",
    "outputId": "73cec8e8-b248-4ed0-cd31-5fe64300ebad"
   },
   "outputs": [
    {
     "data": {
      "image/png": "[encoded data removed]",
      "text/plain": [
       "<Figure size 800x400 with 1 Axes>"
      ]
     },
     "metadata": {},
     "output_type": "display_data"
    }
   ],
   "source": [
    "# 特徴量重要度の可視化\n",
    "importances = model.feature_importance(importance_type='gain') # 特徴量重要度\n",
    "indices = np.argsort(importances)[::-1] # 特徴量重要度を降順にソート\n",
    "\n",
    "plt.figure(figsize=(8, 4)) #プロットのサイズ指定\n",
    "plt.title(\"Feature Importance\") # プロットのタイトルを作成\n",
    "plt.bar(range(len(indices)), importances[indices]) # 棒グラフを追加\n",
    "plt.xticks(range(len(indices)), X.columns[indices], rotation=90) # X軸に特徴量の名前を追加\n",
    "plt.show() # プロットを表示"
   ]
  },
  {
   "cell_type": "code",
   "execution_count": null,
   "metadata": {
    "id": "ddFW_9zS7NBn"
   },
   "outputs": [],
   "source": []
  },
  {
   "cell_type": "code",
   "execution_count": null,
   "metadata": {
    "id": "6xwPj3Ug7NF_"
   },
   "outputs": [],
   "source": []
  },
  {
   "cell_type": "markdown",
   "metadata": {
    "id": "pn2it7LnuhEU"
   },
   "source": [
    "# クロスバリデーション"
   ]
  },
  {
   "cell_type": "code",
   "execution_count": 17,
   "metadata": {
    "colab": {
     "base_uri": "https://localhost:8080/"
    },
    "executionInfo": {
     "elapsed": 4158,
     "status": "ok",
     "timestamp": 1685448337127,
     "user": {
      "displayName": "毛利拓也",
      "userId": "17854120745961292401"
     },
     "user_tz": -540
    },
    "id": "MF-0vD7bbhHO",
    "outputId": "529f41b0-3d1b-43c4-b134-34d14b88ce02"
   },
   "outputs": [
    {
     "name": "stdout",
     "output_type": "stream",
     "text": [
      "Training until validation scores don't improve for 10 rounds\n",
      "[100]\ttrain's binary_logloss: 0.288706\tvalid's binary_logloss: 0.287306\n",
      "[200]\ttrain's binary_logloss: 0.275793\tvalid's binary_logloss: 0.278749\n",
      "Early stopping, best iteration is:\n",
      "[278]\ttrain's binary_logloss: 0.268845\tvalid's binary_logloss: 0.275477\n",
      "fold 1 accuracy_score: 0.873179   logloss: 0.275477\n",
      "\n",
      "Training until validation scores don't improve for 10 rounds\n",
      "[100]\ttrain's binary_logloss: 0.287829\tvalid's binary_logloss: 0.29263\n",
      "[200]\ttrain's binary_logloss: 0.274043\tvalid's binary_logloss: 0.284794\n",
      "Early stopping, best iteration is:\n",
      "[212]\ttrain's binary_logloss: 0.272111\tvalid's binary_logloss: 0.283514\n",
      "fold 2 accuracy_score: 0.875509   logloss: 0.283514\n",
      "\n",
      "Training until validation scores don't improve for 10 rounds\n",
      "[100]\ttrain's binary_logloss: 0.286818\tvalid's binary_logloss: 0.29414\n",
      "[200]\ttrain's binary_logloss: 0.27296\tvalid's binary_logloss: 0.286963\n",
      "Early stopping, best iteration is:\n",
      "[243]\ttrain's binary_logloss: 0.268831\tvalid's binary_logloss: 0.284629\n",
      "fold 3 accuracy_score: 0.868867   logloss: 0.284629\n",
      "\n",
      "Training until validation scores don't improve for 10 rounds\n",
      "[100]\ttrain's binary_logloss: 0.285241\tvalid's binary_logloss: 0.299504\n",
      "[200]\ttrain's binary_logloss: 0.27159\tvalid's binary_logloss: 0.291395\n",
      "[300]\ttrain's binary_logloss: 0.263487\tvalid's binary_logloss: 0.288628\n",
      "Early stopping, best iteration is:\n",
      "[297]\ttrain's binary_logloss: 0.263727\tvalid's binary_logloss: 0.288521\n",
      "fold 4 accuracy_score: 0.874438   logloss: 0.288521\n",
      "\n",
      "Training until validation scores don't improve for 10 rounds\n",
      "[100]\ttrain's binary_logloss: 0.286321\tvalid's binary_logloss: 0.296634\n",
      "[200]\ttrain's binary_logloss: 0.271693\tvalid's binary_logloss: 0.289273\n",
      "Early stopping, best iteration is:\n",
      "[243]\ttrain's binary_logloss: 0.26774\tvalid's binary_logloss: 0.287875\n",
      "fold 5 accuracy_score: 0.864367   logloss: 0.287875\n",
      "\n",
      "CV accuracy score: 0.871272    CV logloss score: 0.284003 \n"
     ]
    }
   ],
   "source": [
    "# 層化分割のクロスバリデーション\n",
    "from sklearn.metrics import log_loss\n",
    "from sklearn.model_selection import StratifiedKFold\n",
    "\n",
    "params = {\n",
    "    'objective': 'binary',\n",
    "    'num_leaves': 5,\n",
    "    'seed': 0,\n",
    "    'verbose': -1,\n",
    "}\n",
    "\n",
    "# 格納用データの作成\n",
    "accuracy_scores = []\n",
    "logloss_scores = []\n",
    "models = []\n",
    "oof = np.zeros(len(X_train))\n",
    "\n",
    "# KFoldを用いて学習データを5分割してモデルを作成\n",
    "kf = StratifiedKFold(n_splits=5, shuffle=True, random_state=1)\n",
    "for fold, (tr_idx, va_idx) in enumerate(kf.split(X_train, y_train)):\n",
    "    X_tr = X_train.iloc[tr_idx]\n",
    "    X_va = X_train.iloc[va_idx]    \n",
    "    y_tr = y_train.iloc[tr_idx]\n",
    "    y_va = y_train.iloc[va_idx]\n",
    "\n",
    "    lgb_train = lgb.Dataset(X_tr, y_tr)\n",
    "    lgb_eval = lgb.Dataset(X_va, y_va, reference=lgb_train)\n",
    "\n",
    "    model = lgb.train(params,\n",
    "                      lgb_train,\n",
    "                      num_boost_round=500,\n",
    "                      valid_sets=[lgb_train, lgb_eval],\n",
    "                      valid_names=['train', 'valid'],\n",
    "                      callbacks=[lgb.early_stopping(10),\n",
    "                      lgb.log_evaluation(100)])\n",
    "\n",
    "    y_va_pred = model.predict(X_va, num_iteration=model.best_iteration) \n",
    "    accuracy = accuracy_score(y_va, np.round(y_va_pred))\n",
    "    logloss = log_loss(y_va, y_va_pred)\n",
    "    print(f'fold {fold+1} accuracy_score: {accuracy:4f}   logloss: {logloss:4f}')\n",
    "    print('')\n",
    "    \n",
    "    # スコア、モデル、予測値の格納\n",
    "    accuracy_scores.append(accuracy)\n",
    "    logloss_scores.append(logloss)\n",
    "    models.append(model)\n",
    "    oof[va_idx] = y_va_pred\n",
    "\n",
    "# クロスバリデーションの平均スコア\n",
    "cv_accuracy_score = np.mean(accuracy_scores)\n",
    "cv_logloss_score = np.mean(logloss_scores)\n",
    "\n",
    "print(f'CV accuracy score: {cv_accuracy_score:4f}    CV logloss score: {cv_logloss_score:4f} ')"
   ]
  },
  {
   "cell_type": "code",
   "execution_count": 18,
   "metadata": {
    "colab": {
     "base_uri": "https://localhost:8080/"
    },
    "executionInfo": {
     "elapsed": 271,
     "status": "ok",
     "timestamp": 1685448357802,
     "user": {
      "displayName": "毛利拓也",
      "userId": "17854120745961292401"
     },
     "user_tz": -540
    },
    "id": "O0W8Ttuz-iQ6",
    "outputId": "81288f38-8376-470e-e763-3cd0f9952fe8"
   },
   "outputs": [
    {
     "data": {
      "text/plain": [
       "[0.8731790916880892,\n",
       " 0.8755088922219841,\n",
       " 0.8688665095350332,\n",
       " 0.8744375401757017,\n",
       " 0.8643668309406471]"
      ]
     },
     "execution_count": 18,
     "metadata": {},
     "output_type": "execute_result"
    }
   ],
   "source": [
    "# foldごとの検証データの正解率\n",
    "accuracy_scores"
   ]
  },
  {
   "cell_type": "code",
   "execution_count": null,
   "metadata": {
    "id": "zYXhPNALpxVN"
   },
   "outputs": [],
   "source": []
  }
 ],
 "metadata": {
  "colab": {
   "provenance": []
  },
  "kernelspec": {
   "display_name": "Python 3 (ipykernel)",
   "language": "python",
   "name": "python3"
  },
  "language_info": {
   "codemirror_mode": {
    "name": "ipython",
    "version": 3
   },
   "file_extension": ".py",
   "mimetype": "text/x-python",
   "name": "python",
   "nbconvert_exporter": "python",
   "pygments_lexer": "ipython3",
   "version": "3.10.11"
  }
 },
 "nbformat": 4,
 "nbformat_minor": 4
}
