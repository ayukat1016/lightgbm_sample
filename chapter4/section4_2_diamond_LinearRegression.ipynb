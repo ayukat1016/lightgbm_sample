{
 "cells": [
  {
   "cell_type": "markdown",
   "metadata": {
    "id": "vZOanZ5JgejW"
   },
   "source": [
    "# 線形回帰"
   ]
  },
  {
   "cell_type": "code",
   "execution_count": null,
   "metadata": {
    "id": "Q481gKp_0FJV"
   },
   "outputs": [],
   "source": [
    "# # Colabでバージョンを変更するとき、コメントアウトして実行してください\n",
    "# !pip install pandas==1.5.3\n",
    "# !pip install numpy==1.22.4\n",
    "# !pip install matplotlib==3.7.1\n",
    "# !pip install seaborn==0.12.2\n",
    "# !pip install scikit-learn==1.2.2"
   ]
  },
  {
   "cell_type": "code",
   "execution_count": 1,
   "metadata": {
    "executionInfo": {
     "elapsed": 1239,
     "status": "ok",
     "timestamp": 1685694448791,
     "user": {
      "displayName": "毛利拓也",
      "userId": "17854120745961292401"
     },
     "user_tz": -540
    },
    "id": "H3ZPVmgmMGHg"
   },
   "outputs": [],
   "source": [
    "# ライブラリのインポート\n",
    "%matplotlib inline\n",
    "import pandas as pd\n",
    "import numpy as np\n",
    "import matplotlib.pyplot as plt\n",
    "import seaborn as sns\n",
    "from sklearn.model_selection import train_test_split\n",
    "from sklearn.metrics import mean_absolute_error"
   ]
  },
  {
   "cell_type": "code",
   "execution_count": 2,
   "metadata": {
    "colab": {
     "base_uri": "https://localhost:8080/"
    },
    "executionInfo": {
     "elapsed": 32,
     "status": "ok",
     "timestamp": 1685694448792,
     "user": {
      "displayName": "毛利拓也",
      "userId": "17854120745961292401"
     },
     "user_tz": -540
    },
    "id": "op9Vui6c0D1b",
    "outputId": "7aacafab-7bb1-494f-92d1-95137603b8fa"
   },
   "outputs": [
    {
     "name": "stdout",
     "output_type": "stream",
     "text": [
      "1.5.3\n",
      "1.22.4\n",
      "3.7.1\n",
      "0.12.2\n",
      "1.2.2\n"
     ]
    }
   ],
   "source": [
    "# バージョンの確認\n",
    "import matplotlib\n",
    "import sklearn\n",
    "print(pd.__version__) \n",
    "print(np.__version__)\n",
    "print(matplotlib.__version__)\n",
    "print(sns.__version__)\n",
    "print(sklearn.__version__) "
   ]
  },
  {
   "cell_type": "code",
   "execution_count": 3,
   "metadata": {
    "colab": {
     "base_uri": "https://localhost:8080/",
     "height": 224
    },
    "executionInfo": {
     "elapsed": 1040,
     "status": "ok",
     "timestamp": 1685694456782,
     "user": {
      "displayName": "毛利拓也",
      "userId": "17854120745961292401"
     },
     "user_tz": -540
    },
    "id": "cBS1Ze91xT5z",
    "outputId": "7bec182c-4457-43fd-d3cb-e573dd6c7273"
   },
   "outputs": [
    {
     "name": "stdout",
     "output_type": "stream",
     "text": [
      "(53911, 10)\n"
     ]
    },
    {
     "data": {
      "text/html": [
       "<div>\n",
       "<style scoped>\n",
       "    .dataframe tbody tr th:only-of-type {\n",
       "        vertical-align: middle;\n",
       "    }\n",
       "\n",
       "    .dataframe tbody tr th {\n",
       "        vertical-align: top;\n",
       "    }\n",
       "\n",
       "    .dataframe thead th {\n",
       "        text-align: right;\n",
       "    }\n",
       "</style>\n",
       "<table border=\"1\" class=\"dataframe\">\n",
       "  <thead>\n",
       "    <tr style=\"text-align: right;\">\n",
       "      <th></th>\n",
       "      <th>carat</th>\n",
       "      <th>cut</th>\n",
       "      <th>color</th>\n",
       "      <th>clarity</th>\n",
       "      <th>depth</th>\n",
       "      <th>table</th>\n",
       "      <th>price</th>\n",
       "      <th>x</th>\n",
       "      <th>y</th>\n",
       "      <th>z</th>\n",
       "    </tr>\n",
       "  </thead>\n",
       "  <tbody>\n",
       "    <tr>\n",
       "      <th>0</th>\n",
       "      <td>0.23</td>\n",
       "      <td>Ideal</td>\n",
       "      <td>E</td>\n",
       "      <td>SI2</td>\n",
       "      <td>61.5</td>\n",
       "      <td>55.0</td>\n",
       "      <td>326</td>\n",
       "      <td>3.95</td>\n",
       "      <td>3.98</td>\n",
       "      <td>2.43</td>\n",
       "    </tr>\n",
       "    <tr>\n",
       "      <th>1</th>\n",
       "      <td>0.21</td>\n",
       "      <td>Premium</td>\n",
       "      <td>E</td>\n",
       "      <td>SI1</td>\n",
       "      <td>59.8</td>\n",
       "      <td>61.0</td>\n",
       "      <td>326</td>\n",
       "      <td>3.89</td>\n",
       "      <td>3.84</td>\n",
       "      <td>2.31</td>\n",
       "    </tr>\n",
       "    <tr>\n",
       "      <th>2</th>\n",
       "      <td>0.23</td>\n",
       "      <td>Good</td>\n",
       "      <td>E</td>\n",
       "      <td>VS1</td>\n",
       "      <td>56.9</td>\n",
       "      <td>65.0</td>\n",
       "      <td>327</td>\n",
       "      <td>4.05</td>\n",
       "      <td>4.07</td>\n",
       "      <td>2.31</td>\n",
       "    </tr>\n",
       "    <tr>\n",
       "      <th>3</th>\n",
       "      <td>0.29</td>\n",
       "      <td>Premium</td>\n",
       "      <td>I</td>\n",
       "      <td>VS2</td>\n",
       "      <td>62.4</td>\n",
       "      <td>58.0</td>\n",
       "      <td>334</td>\n",
       "      <td>4.20</td>\n",
       "      <td>4.23</td>\n",
       "      <td>2.63</td>\n",
       "    </tr>\n",
       "    <tr>\n",
       "      <th>4</th>\n",
       "      <td>0.31</td>\n",
       "      <td>Good</td>\n",
       "      <td>J</td>\n",
       "      <td>SI2</td>\n",
       "      <td>63.3</td>\n",
       "      <td>58.0</td>\n",
       "      <td>335</td>\n",
       "      <td>4.34</td>\n",
       "      <td>4.35</td>\n",
       "      <td>2.75</td>\n",
       "    </tr>\n",
       "  </tbody>\n",
       "</table>\n",
       "</div>"
      ],
      "text/plain": [
       "   carat      cut color clarity  depth  table  price     x     y     z\n",
       "0   0.23    Ideal     E     SI2   61.5   55.0    326  3.95  3.98  2.43\n",
       "1   0.21  Premium     E     SI1   59.8   61.0    326  3.89  3.84  2.31\n",
       "2   0.23     Good     E     VS1   56.9   65.0    327  4.05  4.07  2.31\n",
       "3   0.29  Premium     I     VS2   62.4   58.0    334  4.20  4.23  2.63\n",
       "4   0.31     Good     J     SI2   63.3   58.0    335  4.34  4.35  2.75"
      ]
     },
     "execution_count": 3,
     "metadata": {},
     "output_type": "execute_result"
    }
   ],
   "source": [
    "# データ読み込み、外れ値の除外\n",
    "\n",
    "# データセットの読み込み\n",
    "df = sns.load_dataset('diamonds')\n",
    "\n",
    "# 外れ値除外の前処理\n",
    "df = df.drop(df[(df['x'] == 0) | (df['y'] == 0)| (df['z'] == 0)].index, axis=0)\n",
    "df = df.drop(df[(df['x'] >= 10) | (df['y'] >= 10) | (df['z'] >= 10)].index, axis=0)\n",
    "df.reset_index(inplace=True, drop=True)\n",
    "print(df.shape)\n",
    "df.head()"
   ]
  },
  {
   "cell_type": "code",
   "execution_count": 4,
   "metadata": {
    "executionInfo": {
     "elapsed": 9,
     "status": "ok",
     "timestamp": 1685694457234,
     "user": {
      "displayName": "毛利拓也",
      "userId": "17854120745961292401"
     },
     "user_tz": -540
    },
    "id": "CHAat1zur8J4"
   },
   "outputs": [],
   "source": [
    "# 特徴量と目的変数の設定\n",
    "X = df.drop(['price'], axis=1)\n",
    "y = df['price']"
   ]
  },
  {
   "cell_type": "code",
   "execution_count": 5,
   "metadata": {
    "colab": {
     "base_uri": "https://localhost:8080/",
     "height": 335
    },
    "executionInfo": {
     "elapsed": 717,
     "status": "ok",
     "timestamp": 1685694460716,
     "user": {
      "displayName": "毛利拓也",
      "userId": "17854120745961292401"
     },
     "user_tz": -540
    },
    "id": "tGcye8-MLuB5",
    "outputId": "971eae48-4c15-4bcf-8114-668e47f81eb6"
   },
   "outputs": [
    {
     "name": "stdout",
     "output_type": "stream",
     "text": [
      "(53911, 23)\n"
     ]
    },
    {
     "data": {
      "text/html": [
       "<div>\n",
       "<style scoped>\n",
       "    .dataframe tbody tr th:only-of-type {\n",
       "        vertical-align: middle;\n",
       "    }\n",
       "\n",
       "    .dataframe tbody tr th {\n",
       "        vertical-align: top;\n",
       "    }\n",
       "\n",
       "    .dataframe thead th {\n",
       "        text-align: right;\n",
       "    }\n",
       "</style>\n",
       "<table border=\"1\" class=\"dataframe\">\n",
       "  <thead>\n",
       "    <tr style=\"text-align: right;\">\n",
       "      <th></th>\n",
       "      <th>carat</th>\n",
       "      <th>depth</th>\n",
       "      <th>table</th>\n",
       "      <th>x</th>\n",
       "      <th>y</th>\n",
       "      <th>z</th>\n",
       "      <th>cut_Premium</th>\n",
       "      <th>cut_Very Good</th>\n",
       "      <th>cut_Good</th>\n",
       "      <th>cut_Fair</th>\n",
       "      <th>...</th>\n",
       "      <th>color_H</th>\n",
       "      <th>color_I</th>\n",
       "      <th>color_J</th>\n",
       "      <th>clarity_VVS1</th>\n",
       "      <th>clarity_VVS2</th>\n",
       "      <th>clarity_VS1</th>\n",
       "      <th>clarity_VS2</th>\n",
       "      <th>clarity_SI1</th>\n",
       "      <th>clarity_SI2</th>\n",
       "      <th>clarity_I1</th>\n",
       "    </tr>\n",
       "  </thead>\n",
       "  <tbody>\n",
       "    <tr>\n",
       "      <th>0</th>\n",
       "      <td>0.23</td>\n",
       "      <td>61.5</td>\n",
       "      <td>55.0</td>\n",
       "      <td>3.95</td>\n",
       "      <td>3.98</td>\n",
       "      <td>2.43</td>\n",
       "      <td>0</td>\n",
       "      <td>0</td>\n",
       "      <td>0</td>\n",
       "      <td>0</td>\n",
       "      <td>...</td>\n",
       "      <td>0</td>\n",
       "      <td>0</td>\n",
       "      <td>0</td>\n",
       "      <td>0</td>\n",
       "      <td>0</td>\n",
       "      <td>0</td>\n",
       "      <td>0</td>\n",
       "      <td>0</td>\n",
       "      <td>1</td>\n",
       "      <td>0</td>\n",
       "    </tr>\n",
       "    <tr>\n",
       "      <th>1</th>\n",
       "      <td>0.21</td>\n",
       "      <td>59.8</td>\n",
       "      <td>61.0</td>\n",
       "      <td>3.89</td>\n",
       "      <td>3.84</td>\n",
       "      <td>2.31</td>\n",
       "      <td>1</td>\n",
       "      <td>0</td>\n",
       "      <td>0</td>\n",
       "      <td>0</td>\n",
       "      <td>...</td>\n",
       "      <td>0</td>\n",
       "      <td>0</td>\n",
       "      <td>0</td>\n",
       "      <td>0</td>\n",
       "      <td>0</td>\n",
       "      <td>0</td>\n",
       "      <td>0</td>\n",
       "      <td>1</td>\n",
       "      <td>0</td>\n",
       "      <td>0</td>\n",
       "    </tr>\n",
       "    <tr>\n",
       "      <th>2</th>\n",
       "      <td>0.23</td>\n",
       "      <td>56.9</td>\n",
       "      <td>65.0</td>\n",
       "      <td>4.05</td>\n",
       "      <td>4.07</td>\n",
       "      <td>2.31</td>\n",
       "      <td>0</td>\n",
       "      <td>0</td>\n",
       "      <td>1</td>\n",
       "      <td>0</td>\n",
       "      <td>...</td>\n",
       "      <td>0</td>\n",
       "      <td>0</td>\n",
       "      <td>0</td>\n",
       "      <td>0</td>\n",
       "      <td>0</td>\n",
       "      <td>1</td>\n",
       "      <td>0</td>\n",
       "      <td>0</td>\n",
       "      <td>0</td>\n",
       "      <td>0</td>\n",
       "    </tr>\n",
       "    <tr>\n",
       "      <th>3</th>\n",
       "      <td>0.29</td>\n",
       "      <td>62.4</td>\n",
       "      <td>58.0</td>\n",
       "      <td>4.20</td>\n",
       "      <td>4.23</td>\n",
       "      <td>2.63</td>\n",
       "      <td>1</td>\n",
       "      <td>0</td>\n",
       "      <td>0</td>\n",
       "      <td>0</td>\n",
       "      <td>...</td>\n",
       "      <td>0</td>\n",
       "      <td>1</td>\n",
       "      <td>0</td>\n",
       "      <td>0</td>\n",
       "      <td>0</td>\n",
       "      <td>0</td>\n",
       "      <td>1</td>\n",
       "      <td>0</td>\n",
       "      <td>0</td>\n",
       "      <td>0</td>\n",
       "    </tr>\n",
       "    <tr>\n",
       "      <th>4</th>\n",
       "      <td>0.31</td>\n",
       "      <td>63.3</td>\n",
       "      <td>58.0</td>\n",
       "      <td>4.34</td>\n",
       "      <td>4.35</td>\n",
       "      <td>2.75</td>\n",
       "      <td>0</td>\n",
       "      <td>0</td>\n",
       "      <td>1</td>\n",
       "      <td>0</td>\n",
       "      <td>...</td>\n",
       "      <td>0</td>\n",
       "      <td>0</td>\n",
       "      <td>1</td>\n",
       "      <td>0</td>\n",
       "      <td>0</td>\n",
       "      <td>0</td>\n",
       "      <td>0</td>\n",
       "      <td>0</td>\n",
       "      <td>1</td>\n",
       "      <td>0</td>\n",
       "    </tr>\n",
       "  </tbody>\n",
       "</table>\n",
       "<p>5 rows × 23 columns</p>\n",
       "</div>"
      ],
      "text/plain": [
       "   carat  depth  table     x     y     z  cut_Premium  cut_Very Good  \\\n",
       "0   0.23   61.5   55.0  3.95  3.98  2.43            0              0   \n",
       "1   0.21   59.8   61.0  3.89  3.84  2.31            1              0   \n",
       "2   0.23   56.9   65.0  4.05  4.07  2.31            0              0   \n",
       "3   0.29   62.4   58.0  4.20  4.23  2.63            1              0   \n",
       "4   0.31   63.3   58.0  4.34  4.35  2.75            0              0   \n",
       "\n",
       "   cut_Good  cut_Fair  ...  color_H  color_I  color_J  clarity_VVS1  \\\n",
       "0         0         0  ...        0        0        0             0   \n",
       "1         0         0  ...        0        0        0             0   \n",
       "2         1         0  ...        0        0        0             0   \n",
       "3         0         0  ...        0        1        0             0   \n",
       "4         1         0  ...        0        0        1             0   \n",
       "\n",
       "   clarity_VVS2  clarity_VS1  clarity_VS2  clarity_SI1  clarity_SI2  \\\n",
       "0             0            0            0            0            1   \n",
       "1             0            0            0            1            0   \n",
       "2             0            1            0            0            0   \n",
       "3             0            0            1            0            0   \n",
       "4             0            0            0            0            1   \n",
       "\n",
       "   clarity_I1  \n",
       "0           0  \n",
       "1           0  \n",
       "2           0  \n",
       "3           0  \n",
       "4           0  \n",
       "\n",
       "[5 rows x 23 columns]"
      ]
     },
     "execution_count": 5,
     "metadata": {},
     "output_type": "execute_result"
    }
   ],
   "source": [
    "# one-hot encoding\n",
    "X = pd.concat([X, pd.get_dummies(X['cut'], prefix='cut', drop_first=True)], axis=1)\n",
    "X = pd.concat([X, pd.get_dummies(X['color'], prefix='color', drop_first=True)], axis=1)\n",
    "X = pd.concat([X, pd.get_dummies(X['clarity'], prefix='clarity', drop_first=True)], axis=1)\n",
    "X = X.drop(['cut', 'color', 'clarity'], axis=1)\n",
    "print(X.shape)\n",
    "X.head()"
   ]
  },
  {
   "cell_type": "code",
   "execution_count": 6,
   "metadata": {
    "colab": {
     "base_uri": "https://localhost:8080/"
    },
    "executionInfo": {
     "elapsed": 302,
     "status": "ok",
     "timestamp": 1685694468782,
     "user": {
      "displayName": "毛利拓也",
      "userId": "17854120745961292401"
     },
     "user_tz": -540
    },
    "id": "AcqeP2s6exzP",
    "outputId": "7dc9cfb2-38e7-46a7-b5e8-23529cd70030"
   },
   "outputs": [
    {
     "name": "stdout",
     "output_type": "stream",
     "text": [
      "X_trainの形状： (43128, 23)  y_trainの形状： (43128,)  X_testの形状： (10783, 23)  y_testの形状： (10783,)\n"
     ]
    }
   ],
   "source": [
    "# 学習データとテストデータに分割\n",
    "X_train, X_test, y_train, y_test = train_test_split(X, y, test_size=0.2, shuffle=True, random_state=0)\n",
    "print('X_trainの形状：', X_train.shape, ' y_trainの形状：', y_train.shape, ' X_testの形状：', X_test.shape, ' y_testの形状：', y_test.shape)"
   ]
  },
  {
   "cell_type": "code",
   "execution_count": 7,
   "metadata": {
    "colab": {
     "base_uri": "https://localhost:8080/"
    },
    "executionInfo": {
     "elapsed": 10,
     "status": "ok",
     "timestamp": 1685694470008,
     "user": {
      "displayName": "毛利拓也",
      "userId": "17854120745961292401"
     },
     "user_tz": -540
    },
    "id": "ocol0tB_4XtL",
    "outputId": "38490d96-341c-4e2d-9ebe-a90a8be255eb"
   },
   "outputs": [
    {
     "data": {
      "text/plain": [
       "Index(['carat', 'depth', 'table', 'x', 'y', 'z'], dtype='object')"
      ]
     },
     "execution_count": 7,
     "metadata": {},
     "output_type": "execute_result"
    }
   ],
   "source": [
    "# 数値の特徴量\n",
    "X.columns[0:6]"
   ]
  },
  {
   "cell_type": "code",
   "execution_count": 8,
   "metadata": {
    "colab": {
     "base_uri": "https://localhost:8080/",
     "height": 222
    },
    "executionInfo": {
     "elapsed": 15,
     "status": "ok",
     "timestamp": 1685694471387,
     "user": {
      "displayName": "毛利拓也",
      "userId": "17854120745961292401"
     },
     "user_tz": -540
    },
    "id": "h9auqr5MBPrD",
    "outputId": "c51b7dc6-8257-4db9-e65a-845e11b9260c"
   },
   "outputs": [
    {
     "data": {
      "text/html": [
       "<div>\n",
       "<style scoped>\n",
       "    .dataframe tbody tr th:only-of-type {\n",
       "        vertical-align: middle;\n",
       "    }\n",
       "\n",
       "    .dataframe tbody tr th {\n",
       "        vertical-align: top;\n",
       "    }\n",
       "\n",
       "    .dataframe thead th {\n",
       "        text-align: right;\n",
       "    }\n",
       "</style>\n",
       "<table border=\"1\" class=\"dataframe\">\n",
       "  <thead>\n",
       "    <tr style=\"text-align: right;\">\n",
       "      <th></th>\n",
       "      <th>carat</th>\n",
       "      <th>depth</th>\n",
       "      <th>table</th>\n",
       "      <th>x</th>\n",
       "      <th>y</th>\n",
       "      <th>z</th>\n",
       "      <th>cut_Premium</th>\n",
       "      <th>cut_Very Good</th>\n",
       "      <th>cut_Good</th>\n",
       "      <th>cut_Fair</th>\n",
       "      <th>...</th>\n",
       "      <th>color_H</th>\n",
       "      <th>color_I</th>\n",
       "      <th>color_J</th>\n",
       "      <th>clarity_VVS1</th>\n",
       "      <th>clarity_VVS2</th>\n",
       "      <th>clarity_VS1</th>\n",
       "      <th>clarity_VS2</th>\n",
       "      <th>clarity_SI1</th>\n",
       "      <th>clarity_SI2</th>\n",
       "      <th>clarity_I1</th>\n",
       "    </tr>\n",
       "  </thead>\n",
       "  <tbody>\n",
       "    <tr>\n",
       "      <th>2640</th>\n",
       "      <td>0.027560</td>\n",
       "      <td>-0.525191</td>\n",
       "      <td>0.690605</td>\n",
       "      <td>0.249983</td>\n",
       "      <td>0.232248</td>\n",
       "      <td>0.175521</td>\n",
       "      <td>1</td>\n",
       "      <td>0</td>\n",
       "      <td>0</td>\n",
       "      <td>0</td>\n",
       "      <td>...</td>\n",
       "      <td>0</td>\n",
       "      <td>0</td>\n",
       "      <td>0</td>\n",
       "      <td>0</td>\n",
       "      <td>0</td>\n",
       "      <td>0</td>\n",
       "      <td>0</td>\n",
       "      <td>1</td>\n",
       "      <td>0</td>\n",
       "      <td>0</td>\n",
       "    </tr>\n",
       "    <tr>\n",
       "      <th>18172</th>\n",
       "      <td>0.853757</td>\n",
       "      <td>0.946774</td>\n",
       "      <td>-0.205316</td>\n",
       "      <td>0.858637</td>\n",
       "      <td>0.908390</td>\n",
       "      <td>1.015857</td>\n",
       "      <td>0</td>\n",
       "      <td>1</td>\n",
       "      <td>0</td>\n",
       "      <td>0</td>\n",
       "      <td>...</td>\n",
       "      <td>0</td>\n",
       "      <td>0</td>\n",
       "      <td>0</td>\n",
       "      <td>0</td>\n",
       "      <td>0</td>\n",
       "      <td>0</td>\n",
       "      <td>1</td>\n",
       "      <td>0</td>\n",
       "      <td>0</td>\n",
       "      <td>0</td>\n",
       "    </tr>\n",
       "  </tbody>\n",
       "</table>\n",
       "<p>2 rows × 23 columns</p>\n",
       "</div>"
      ],
      "text/plain": [
       "          carat     depth     table         x         y         z  \\\n",
       "2640   0.027560 -0.525191  0.690605  0.249983  0.232248  0.175521   \n",
       "18172  0.853757  0.946774 -0.205316  0.858637  0.908390  1.015857   \n",
       "\n",
       "       cut_Premium  cut_Very Good  cut_Good  cut_Fair  ...  color_H  color_I  \\\n",
       "2640             1              0         0         0  ...        0        0   \n",
       "18172            0              1         0         0  ...        0        0   \n",
       "\n",
       "       color_J  clarity_VVS1  clarity_VVS2  clarity_VS1  clarity_VS2  \\\n",
       "2640         0             0             0            0            0   \n",
       "18172        0             0             0            0            1   \n",
       "\n",
       "       clarity_SI1  clarity_SI2  clarity_I1  \n",
       "2640             1            0           0  \n",
       "18172            0            0           0  \n",
       "\n",
       "[2 rows x 23 columns]"
      ]
     },
     "metadata": {},
     "output_type": "display_data"
    }
   ],
   "source": [
    "# 特徴量の標準化\n",
    "from sklearn.preprocessing import StandardScaler\n",
    "\n",
    "scaler = StandardScaler() # 変換器の作成\n",
    "num_cols =  X.columns[0:6] # 数値型の特徴量を取得\n",
    "scaler.fit(X_train[num_cols]) # 学習データでの標準化パラメータの計算\n",
    "X_train[num_cols] = scaler.transform(X_train[num_cols]) # 学習データの変換\n",
    "X_test[num_cols] = scaler.transform(X_test[num_cols]) # テストデータの変換\n",
    "\n",
    "display(X_train.iloc[:2]) # 標準化された学習データの特徴量"
   ]
  },
  {
   "cell_type": "code",
   "execution_count": 9,
   "metadata": {
    "colab": {
     "base_uri": "https://localhost:8080/"
    },
    "executionInfo": {
     "elapsed": 446,
     "status": "ok",
     "timestamp": 1685694475255,
     "user": {
      "displayName": "毛利拓也",
      "userId": "17854120745961292401"
     },
     "user_tz": -540
    },
    "id": "3f_sKHAq--1g",
    "outputId": "b725afb2-b4cc-43af-91da-21a113bb13f3"
   },
   "outputs": [
    {
     "name": "stdout",
     "output_type": "stream",
     "text": [
      "X_trの形状： (34502, 23)  y_trの形状： (34502,)  X_vaの形状： (8626, 23)  y_vaの形状： (8626,)\n"
     ]
    }
   ],
   "source": [
    "# 学習データの一部を検証データに分割\n",
    "X_tr, X_va, y_tr, y_va = train_test_split(X_train, y_train, test_size=0.2, shuffle=True, random_state=0)\n",
    "print('X_trの形状：', X_tr.shape, ' y_trの形状：', y_tr.shape, ' X_vaの形状：', X_va.shape, ' y_vaの形状：', y_va.shape)"
   ]
  },
  {
   "cell_type": "code",
   "execution_count": 10,
   "metadata": {
    "colab": {
     "base_uri": "https://localhost:8080/"
    },
    "executionInfo": {
     "elapsed": 318,
     "status": "ok",
     "timestamp": 1685694503739,
     "user": {
      "displayName": "毛利拓也",
      "userId": "17854120745961292401"
     },
     "user_tz": -540
    },
    "id": "sj40YexSVTpo",
    "outputId": "eb68e24c-f285-4858-d250-8b6cc9be94ad"
   },
   "outputs": [
    {
     "data": {
      "text/plain": [
       "{'copy_X': True, 'fit_intercept': True, 'n_jobs': None, 'positive': False}"
      ]
     },
     "execution_count": 10,
     "metadata": {},
     "output_type": "execute_result"
    }
   ],
   "source": [
    "# モデルの学習\n",
    "from sklearn.linear_model import LinearRegression\n",
    "\n",
    "model = LinearRegression() # 線形回帰モデル\n",
    "model.fit(X_tr, y_tr)\n",
    "model.get_params()"
   ]
  },
  {
   "cell_type": "code",
   "execution_count": 11,
   "metadata": {
    "colab": {
     "base_uri": "https://localhost:8080/"
    },
    "executionInfo": {
     "elapsed": 6,
     "status": "ok",
     "timestamp": 1685694506758,
     "user": {
      "displayName": "毛利拓也",
      "userId": "17854120745961292401"
     },
     "user_tz": -540
    },
    "id": "ohfqaZqT_08_",
    "outputId": "63c9e2c2-5f44-4946-f03b-7fb2ace5eb2c"
   },
   "outputs": [
    {
     "name": "stdout",
     "output_type": "stream",
     "text": [
      "MAE valid: 720.03\n"
     ]
    }
   ],
   "source": [
    "# 検証データの予測と評価\n",
    "y_va_pred = model.predict(X_va) \n",
    "print('MAE valid: %.2f' % (mean_absolute_error(y_va, y_va_pred)))"
   ]
  },
  {
   "cell_type": "code",
   "execution_count": 12,
   "metadata": {
    "colab": {
     "base_uri": "https://localhost:8080/"
    },
    "executionInfo": {
     "elapsed": 818,
     "status": "ok",
     "timestamp": 1685694512930,
     "user": {
      "displayName": "毛利拓也",
      "userId": "17854120745961292401"
     },
     "user_tz": -540
    },
    "id": "_rLTrtiwRkyp",
    "outputId": "cc622d19-e16e-4b84-caba-2f9a477e4909"
   },
   "outputs": [
    {
     "name": "stdout",
     "output_type": "stream",
     "text": [
      "MAE test: 733.72\n"
     ]
    }
   ],
   "source": [
    "# テストデータの予測と評価\n",
    "y_test_pred = model.predict(X_test) \n",
    "print('MAE test: %.2f' % (mean_absolute_error(y_test, y_test_pred)))"
   ]
  },
  {
   "cell_type": "code",
   "execution_count": 13,
   "metadata": {
    "colab": {
     "base_uri": "https://localhost:8080/"
    },
    "executionInfo": {
     "elapsed": 297,
     "status": "ok",
     "timestamp": 1685694537379,
     "user": {
      "displayName": "毛利拓也",
      "userId": "17854120745961292401"
     },
     "user_tz": -540
    },
    "id": "pT1kIhJsUlic",
    "outputId": "f454e17c-5f67-482d-f853-4576b7440fed"
   },
   "outputs": [
    {
     "data": {
      "text/plain": [
       "count    10783.000000\n",
       "mean      3942.890198\n",
       "std       4006.435145\n",
       "min        326.000000\n",
       "25%        950.500000\n",
       "50%       2399.000000\n",
       "75%       5315.500000\n",
       "max      18797.000000\n",
       "Name: price, dtype: float64"
      ]
     },
     "execution_count": 13,
     "metadata": {},
     "output_type": "execute_result"
    }
   ],
   "source": [
    "# テストデータの価格の統計情報\n",
    "y_test.describe()"
   ]
  },
  {
   "cell_type": "code",
   "execution_count": 14,
   "metadata": {
    "colab": {
     "base_uri": "https://localhost:8080/"
    },
    "executionInfo": {
     "elapsed": 278,
     "status": "ok",
     "timestamp": 1685694543081,
     "user": {
      "displayName": "毛利拓也",
      "userId": "17854120745961292401"
     },
     "user_tz": -540
    },
    "id": "Z1bBh2N1UllJ",
    "outputId": "650b3010-a27b-4921-9607-ac16aaa21d3a"
   },
   "outputs": [
    {
     "name": "stdout",
     "output_type": "stream",
     "text": [
      "正解値： [3353 2930 4155 2780  684]\n",
      "予測値： [3844.80018441 3729.41934145 5376.34814181 3775.17294117  201.09376212]\n",
      "残差=正解値-予測値： [ -491.80018441  -799.41934145 -1221.34814181  -995.17294117\n",
      "   482.90623788]\n"
     ]
    }
   ],
   "source": [
    "# テストデータの正解値と予測値の比較\n",
    "print('正解値：', y_test[:5].values)\n",
    "print('予測値：', y_test_pred[:5])\n",
    "print('残差=正解値-予測値：', y_test[:5].values - y_test_pred[:5])"
   ]
  },
  {
   "cell_type": "code",
   "execution_count": 15,
   "metadata": {
    "colab": {
     "base_uri": "https://localhost:8080/",
     "height": 417
    },
    "executionInfo": {
     "elapsed": 974,
     "status": "ok",
     "timestamp": 1685694552893,
     "user": {
      "displayName": "毛利拓也",
      "userId": "17854120745961292401"
     },
     "user_tz": -540
    },
    "id": "N4q107bPfaGh",
    "outputId": "0395e8ce-5e4c-4108-cb00-1eb0a8a97307"
   },
   "outputs": [
    {
     "data": {
      "image/png": "[encoded data removed]",
      "text/plain": [
       "<Figure size 800x400 with 1 Axes>"
      ]
     },
     "metadata": {},
     "output_type": "display_data"
    }
   ],
   "source": [
    "# 残差のプロット\n",
    "\n",
    "# 残差の計算\n",
    "residuals = y_test - y_test_pred\n",
    "# 残差と予測値の散布図\n",
    "plt.figure(figsize=(8, 4)) #プロットのサイズ指定\n",
    "plt.scatter(y_test_pred, residuals, s=3)\n",
    "plt.xlabel('Predicted values', fontsize=14)\n",
    "plt.ylabel('Residuals', fontsize=14)\n",
    "plt.title('Residuals vs Predicted values', fontsize=16)\n",
    "plt.grid()\n",
    "plt.show()"
   ]
  },
  {
   "cell_type": "code",
   "execution_count": null,
   "metadata": {
    "id": "yXmf-7P5UzJY"
   },
   "outputs": [],
   "source": []
  },
  {
   "cell_type": "code",
   "execution_count": 16,
   "metadata": {
    "colab": {
     "base_uri": "https://localhost:8080/"
    },
    "executionInfo": {
     "elapsed": 4,
     "status": "ok",
     "timestamp": 1685694556822,
     "user": {
      "displayName": "毛利拓也",
      "userId": "17854120745961292401"
     },
     "user_tz": -540
    },
    "id": "BsCGmqqHuiNC",
    "outputId": "26f16776-c2ea-40a2-eb27-534fefb2ba52"
   },
   "outputs": [
    {
     "name": "stdout",
     "output_type": "stream",
     "text": [
      "回帰係数 w = [w1, w2, … , w23]: [ 5494.60292099   114.61886806   -53.56242507 -1657.02211192\n",
      "  2112.95577393 -1804.48834467   -32.96160085  -134.70130152\n",
      "  -272.08191419  -719.8799218   -217.42260378  -275.24143348\n",
      "  -476.34287641  -984.03201496 -1474.24882975 -2376.88122936\n",
      "  -330.64786069  -368.84301816  -758.44861244 -1037.93424016\n",
      " -1648.79355643 -2595.88514062 -5223.64108892]\n",
      "\n",
      "定数項 w0: 5941.131152323243\n"
     ]
    }
   ],
   "source": [
    "# パラメータ\n",
    "print('回帰係数 w = [w1, w2, … , w23]:', model.coef_)\n",
    "print('')\n",
    "print('定数項 w0:', model.intercept_) "
   ]
  },
  {
   "cell_type": "code",
   "execution_count": 17,
   "metadata": {
    "colab": {
     "base_uri": "https://localhost:8080/"
    },
    "executionInfo": {
     "elapsed": 4,
     "status": "ok",
     "timestamp": 1685694558032,
     "user": {
      "displayName": "毛利拓也",
      "userId": "17854120745961292401"
     },
     "user_tz": -540
    },
    "id": "y0YBzrtFQHq5",
    "outputId": "6b377473-e498-41ee-ebef-1b11cd8d2fff"
   },
   "outputs": [
    {
     "data": {
      "text/plain": [
       "Index(['carat', 'depth', 'table', 'x', 'y', 'z', 'cut_Premium',\n",
       "       'cut_Very Good', 'cut_Good', 'cut_Fair', 'color_E', 'color_F',\n",
       "       'color_G', 'color_H', 'color_I', 'color_J', 'clarity_VVS1',\n",
       "       'clarity_VVS2', 'clarity_VS1', 'clarity_VS2', 'clarity_SI1',\n",
       "       'clarity_SI2', 'clarity_I1'],\n",
       "      dtype='object')"
      ]
     },
     "execution_count": 17,
     "metadata": {},
     "output_type": "execute_result"
    }
   ],
   "source": [
    "# 特徴量の列テキスト表示\n",
    "X.columns"
   ]
  },
  {
   "cell_type": "code",
   "execution_count": 18,
   "metadata": {
    "colab": {
     "base_uri": "https://localhost:8080/",
     "height": 477
    },
    "executionInfo": {
     "elapsed": 483,
     "status": "ok",
     "timestamp": 1685694567939,
     "user": {
      "displayName": "毛利拓也",
      "userId": "17854120745961292401"
     },
     "user_tz": -540
    },
    "id": "yzMaw7-jQjE2",
    "outputId": "04ac8bcf-b08f-464d-f212-594229d0983e"
   },
   "outputs": [
    {
     "data": {
      "image/png": "[encoded data removed]",
      "text/plain": [
       "<Figure size 800x400 with 1 Axes>"
      ]
     },
     "metadata": {},
     "output_type": "display_data"
    }
   ],
   "source": [
    "# 回帰係数の可視化\n",
    "importances = model.coef_ # 回帰係数\n",
    "indices = np.argsort(importances)[::-1] # 回帰係数を降順にソート\n",
    "\n",
    "plt.figure(figsize=(8, 4)) #プロットのサイズ指定\n",
    "plt.title('Regression coefficient') # プロットのタイトルを作成\n",
    "plt.bar(range(X.shape[1]), importances[indices]) # 棒グラフを追加\n",
    "plt.xticks(range(X.shape[1]), X.columns[indices], rotation=90) # X軸に特徴量の名前を追加\n",
    "plt.show() # プロットを表示"
   ]
  },
  {
   "cell_type": "code",
   "execution_count": null,
   "metadata": {
    "id": "FLLAT_E5gG4y"
   },
   "outputs": [],
   "source": []
  },
  {
   "cell_type": "markdown",
   "metadata": {
    "id": "ohm-zOH0gQNF"
   },
   "source": [
    "# Lasso回帰"
   ]
  },
  {
   "cell_type": "code",
   "execution_count": 19,
   "metadata": {
    "colab": {
     "base_uri": "https://localhost:8080/",
     "height": 473
    },
    "executionInfo": {
     "elapsed": 5110,
     "status": "ok",
     "timestamp": 1685694584849,
     "user": {
      "displayName": "毛利拓也",
      "userId": "17854120745961292401"
     },
     "user_tz": -540
    },
    "id": "IJ0OC1mid31c",
    "outputId": "ac29ae25-04b0-4a46-ea03-bab905a0ce51"
   },
   "outputs": [
    {
     "name": "stderr",
     "output_type": "stream",
     "text": [
      "/usr/local/lib/python3.10/site-packages/sklearn/linear_model/_coordinate_descent.py:631: ConvergenceWarning: Objective did not converge. You might want to increase the number of iterations, check the scale of the features or consider increasing regularisation. Duality gap: 9.348e+08, tolerance: 5.462e+07\n",
      "  model = cd_fast.enet_coordinate_descent(\n"
     ]
    },
    {
     "data": {
      "image/png": "[encoded data removed]",
      "text/plain": [
       "<Figure size 800x400 with 1 Axes>"
      ]
     },
     "metadata": {},
     "output_type": "display_data"
    }
   ],
   "source": [
    "# ハイパーパラメータalphaとMAEの可視化\n",
    "\n",
    "# ハイパーパラメータalphaとMAEの計算\n",
    "from sklearn.linear_model import Lasso\n",
    "\n",
    "params = np.arange(1, 10)\n",
    "mae_metrics = []\n",
    "\n",
    "for param in params:\n",
    "  model_l1 = Lasso(alpha = param)\n",
    "  model_l1.fit(X_tr, y_tr)\n",
    "  y_va_pred = model_l1.predict(X_va) \n",
    "  mae_metric = mean_absolute_error(y_va, y_va_pred)\n",
    "  mae_metrics.append(mae_metric)\n",
    "\n",
    "# ハイパーパラメータalphaとMAEのプロット\n",
    "plt.figure(figsize=(8, 4)) #プロットのサイズ指定\n",
    "plt.plot(params, mae_metrics)\n",
    "plt.xlabel('alpha', fontsize=14)\n",
    "plt.ylabel('MAE', fontsize=14)\n",
    "plt.title('MAE vs alpha', fontsize=16)\n",
    "plt.grid()\n",
    "plt.show()  "
   ]
  },
  {
   "cell_type": "code",
   "execution_count": null,
   "metadata": {
    "id": "mAOR-xhygxty"
   },
   "outputs": [],
   "source": []
  },
  {
   "cell_type": "code",
   "execution_count": 20,
   "metadata": {
    "colab": {
     "base_uri": "https://localhost:8080/"
    },
    "executionInfo": {
     "elapsed": 270,
     "status": "ok",
     "timestamp": 1685694624323,
     "user": {
      "displayName": "毛利拓也",
      "userId": "17854120745961292401"
     },
     "user_tz": -540
    },
    "id": "WSm_aDC4IFED",
    "outputId": "64ac0143-70e1-4b5f-e63d-ea59fc459433"
   },
   "outputs": [
    {
     "data": {
      "text/plain": [
       "{'alpha': 6.0,\n",
       " 'copy_X': True,\n",
       " 'fit_intercept': True,\n",
       " 'max_iter': 1000,\n",
       " 'positive': False,\n",
       " 'precompute': False,\n",
       " 'random_state': None,\n",
       " 'selection': 'cyclic',\n",
       " 'tol': 0.0001,\n",
       " 'warm_start': False}"
      ]
     },
     "execution_count": 20,
     "metadata": {},
     "output_type": "execute_result"
    }
   ],
   "source": [
    "# モデルの学習\n",
    "from sklearn.linear_model import Lasso\n",
    "\n",
    "model_l1 = Lasso(alpha=6.0) # Lasso回帰\n",
    "model_l1.fit(X_tr, y_tr)\n",
    "model_l1.get_params()"
   ]
  },
  {
   "cell_type": "code",
   "execution_count": 21,
   "metadata": {
    "colab": {
     "base_uri": "https://localhost:8080/"
    },
    "executionInfo": {
     "elapsed": 9,
     "status": "ok",
     "timestamp": 1685694625999,
     "user": {
      "displayName": "毛利拓也",
      "userId": "17854120745961292401"
     },
     "user_tz": -540
    },
    "id": "cREY2R4lAMaM",
    "outputId": "512a124d-ded2-48fd-ebf8-acd2adcdd493"
   },
   "outputs": [
    {
     "name": "stdout",
     "output_type": "stream",
     "text": [
      "MAE valid: 713.58\n"
     ]
    }
   ],
   "source": [
    "# 検証データの予測と評価\n",
    "y_va_pred = model_l1.predict(X_va) \n",
    "print('MAE valid: %.2f' % (mean_absolute_error(y_va, y_va_pred)))"
   ]
  },
  {
   "cell_type": "code",
   "execution_count": 22,
   "metadata": {
    "colab": {
     "base_uri": "https://localhost:8080/"
    },
    "executionInfo": {
     "elapsed": 290,
     "status": "ok",
     "timestamp": 1685694637090,
     "user": {
      "displayName": "毛利拓也",
      "userId": "17854120745961292401"
     },
     "user_tz": -540
    },
    "id": "Gro9A_2KPczI",
    "outputId": "8da3019f-b243-4045-94a5-729899c32c21"
   },
   "outputs": [
    {
     "name": "stdout",
     "output_type": "stream",
     "text": [
      "MAE test: 728.56\n"
     ]
    }
   ],
   "source": [
    "# テストデータの予測と評価\n",
    "y_test_pred = model_l1.predict(X_test) \n",
    "print('MAE test: %.2f' % (mean_absolute_error(y_test, y_test_pred)))"
   ]
  },
  {
   "cell_type": "code",
   "execution_count": 23,
   "metadata": {
    "colab": {
     "base_uri": "https://localhost:8080/"
    },
    "executionInfo": {
     "elapsed": 6,
     "status": "ok",
     "timestamp": 1685694638372,
     "user": {
      "displayName": "毛利拓也",
      "userId": "17854120745961292401"
     },
     "user_tz": -540
    },
    "id": "Dn-kGWjSPmQS",
    "outputId": "4861c1b7-2af9-4a16-bc29-7b05fa4dd1b1"
   },
   "outputs": [
    {
     "name": "stdout",
     "output_type": "stream",
     "text": [
      "回帰係数 w = [w1, w2 , … , w23]: [ 5209.5327419    -46.27375066   -99.58406609  -421.9822305\n",
      "    -0.          -689.75677424    -0.            -0.\n",
      "  -100.84196665  -539.48155995     0.            -0.\n",
      "  -170.96297477  -678.86922889 -1124.93361654 -1971.34791688\n",
      "   135.55629537   133.54045697  -164.80901254  -437.26205901\n",
      " -1044.44789869 -1963.84942103 -4255.2198358 ]\n",
      "\n",
      "定数項 w0: 5053.786238749789\n"
     ]
    }
   ],
   "source": [
    "# パラメータ\n",
    "print('回帰係数 w = [w1, w2 , … , w23]:', model_l1.coef_)\n",
    "print('')\n",
    "print('定数項 w0:', model_l1.intercept_) "
   ]
  },
  {
   "cell_type": "code",
   "execution_count": 24,
   "metadata": {
    "colab": {
     "base_uri": "https://localhost:8080/",
     "height": 477
    },
    "executionInfo": {
     "elapsed": 416,
     "status": "ok",
     "timestamp": 1685694648537,
     "user": {
      "displayName": "毛利拓也",
      "userId": "17854120745961292401"
     },
     "user_tz": -540
    },
    "id": "sfdzTCNbPufs",
    "outputId": "3611efcf-ed89-4def-9671-e3b6db98a6ab"
   },
   "outputs": [
    {
     "data": {
      "image/png": "[encoded data removed]",
      "text/plain": [
       "<Figure size 800x400 with 1 Axes>"
      ]
     },
     "metadata": {},
     "output_type": "display_data"
    }
   ],
   "source": [
    "# 回帰係数の可視化\n",
    "importances = model_l1.coef_ # 回帰係数\n",
    "indices = np.argsort(importances)[::-1] # 回帰係数を降順にソート\n",
    "\n",
    "plt.figure(figsize=(8, 4)) #プロットのサイズ指定\n",
    "plt.title('Regression coefficient') # プロットのタイトルを作成\n",
    "plt.bar(range(X.shape[1]), importances[indices]) # 棒グラフを追加\n",
    "plt.xticks(range(X.shape[1]), X.columns[indices], rotation=90) # X軸に特徴量の名前を追加\n",
    "plt.show() # プロットを表示"
   ]
  },
  {
   "cell_type": "code",
   "execution_count": null,
   "metadata": {
    "id": "NgC1Iqtq_qoq"
   },
   "outputs": [],
   "source": []
  }
 ],
 "metadata": {
  "colab": {
   "provenance": []
  },
  "kernelspec": {
   "display_name": "Python 3 (ipykernel)",
   "language": "python",
   "name": "python3"
  },
  "language_info": {
   "codemirror_mode": {
    "name": "ipython",
    "version": 3
   },
   "file_extension": ".py",
   "mimetype": "text/x-python",
   "name": "python",
   "nbconvert_exporter": "python",
   "pygments_lexer": "ipython3",
   "version": "3.10.11"
  }
 },
 "nbformat": 4,
 "nbformat_minor": 4
}
