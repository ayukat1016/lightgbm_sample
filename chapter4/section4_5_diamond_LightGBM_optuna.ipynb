{
 "cells": [
  {
   "cell_type": "markdown",
   "metadata": {
    "id": "6rVsov2zfFUC"
   },
   "source": [
    "# 前処理＋特徴量エンジアリング"
   ]
  },
  {
   "cell_type": "code",
   "execution_count": null,
   "metadata": {
    "id": "ENXinWNW0hs2"
   },
   "outputs": [],
   "source": [
    "# # Colabでバージョンを変更するとき、コメントアウトして実行してください\n",
    "# !pip install pandas==1.5.3\n",
    "# !pip install numpy==1.22.4\n",
    "# !pip install matplotlib==3.7.1\n",
    "# !pip install seaborn==0.12.2\n",
    "# !pip install scikit-learn==1.2.2\n",
    "# !pip install lightgbm==3.3.5\n",
    "# !pip install optuna==3.1.1\n",
    "# !pip install plotly==5.13.1"
   ]
  },
  {
   "cell_type": "code",
   "execution_count": null,
   "metadata": {
    "id": "q2p1g_5H7CeY"
   },
   "outputs": [],
   "source": [
    "# ライブラリのインポート\n",
    "%matplotlib inline\n",
    "import pandas as pd\n",
    "import numpy as np\n",
    "import matplotlib.pyplot as plt\n",
    "import seaborn as sns\n",
    "from sklearn.model_selection import train_test_split\n",
    "from sklearn.metrics import mean_absolute_error\n",
    "import warnings\n",
    "warnings.filterwarnings('ignore', category=UserWarning)"
   ]
  },
  {
   "cell_type": "code",
   "execution_count": null,
   "metadata": {
    "colab": {
     "base_uri": "https://localhost:8080/"
    },
    "executionInfo": {
     "elapsed": 1854,
     "status": "ok",
     "timestamp": 1685193582227,
     "user": {
      "displayName": "毛利拓也",
      "userId": "17854120745961292401"
     },
     "user_tz": -540
    },
    "id": "q9KE56dJ0h74",
    "outputId": "3d048be8-5617-48c0-dd2b-0cc18dd8a92c"
   },
   "outputs": [
    {
     "name": "stdout",
     "output_type": "stream",
     "text": [
      "1.5.3\n",
      "1.22.4\n",
      "3.7.1\n",
      "0.12.2\n",
      "1.2.2\n",
      "3.3.5\n"
     ]
    }
   ],
   "source": [
    "# バージョンの確認\n",
    "import matplotlib\n",
    "import sklearn\n",
    "import lightgbm as lgb\n",
    "print(pd.__version__) \n",
    "print(np.__version__)\n",
    "print(matplotlib.__version__)\n",
    "print(sns.__version__)\n",
    "print(sklearn.__version__) \n",
    "print(lgb.__version__)"
   ]
  },
  {
   "cell_type": "code",
   "execution_count": null,
   "metadata": {
    "colab": {
     "base_uri": "https://localhost:8080/",
     "height": 224
    },
    "executionInfo": {
     "elapsed": 2032,
     "status": "ok",
     "timestamp": 1685193609372,
     "user": {
      "displayName": "毛利拓也",
      "userId": "17854120745961292401"
     },
     "user_tz": -540
    },
    "id": "s_NCW1HmU9qN",
    "outputId": "e2b0d68e-01bf-475f-d989-076143908a9a"
   },
   "outputs": [
    {
     "name": "stdout",
     "output_type": "stream",
     "text": [
      "(53911, 10)\n"
     ]
    },
    {
     "data": {
      "text/html": [
       "\n",
       "  <div id=\"df-008fddfe-a835-42b8-86ec-db03c43436bb\">\n",
       "    <div class=\"colab-df-container\">\n",
       "      <div>\n",
       "<style scoped>\n",
       "    .dataframe tbody tr th:only-of-type {\n",
       "        vertical-align: middle;\n",
       "    }\n",
       "\n",
       "    .dataframe tbody tr th {\n",
       "        vertical-align: top;\n",
       "    }\n",
       "\n",
       "    .dataframe thead th {\n",
       "        text-align: right;\n",
       "    }\n",
       "</style>\n",
       "<table border=\"1\" class=\"dataframe\">\n",
       "  <thead>\n",
       "    <tr style=\"text-align: right;\">\n",
       "      <th></th>\n",
       "      <th>carat</th>\n",
       "      <th>cut</th>\n",
       "      <th>color</th>\n",
       "      <th>clarity</th>\n",
       "      <th>depth</th>\n",
       "      <th>table</th>\n",
       "      <th>price</th>\n",
       "      <th>x</th>\n",
       "      <th>y</th>\n",
       "      <th>z</th>\n",
       "    </tr>\n",
       "  </thead>\n",
       "  <tbody>\n",
       "    <tr>\n",
       "      <th>0</th>\n",
       "      <td>0.23</td>\n",
       "      <td>Ideal</td>\n",
       "      <td>E</td>\n",
       "      <td>SI2</td>\n",
       "      <td>61.5</td>\n",
       "      <td>55.0</td>\n",
       "      <td>326</td>\n",
       "      <td>3.95</td>\n",
       "      <td>3.98</td>\n",
       "      <td>2.43</td>\n",
       "    </tr>\n",
       "    <tr>\n",
       "      <th>1</th>\n",
       "      <td>0.21</td>\n",
       "      <td>Premium</td>\n",
       "      <td>E</td>\n",
       "      <td>SI1</td>\n",
       "      <td>59.8</td>\n",
       "      <td>61.0</td>\n",
       "      <td>326</td>\n",
       "      <td>3.89</td>\n",
       "      <td>3.84</td>\n",
       "      <td>2.31</td>\n",
       "    </tr>\n",
       "    <tr>\n",
       "      <th>2</th>\n",
       "      <td>0.23</td>\n",
       "      <td>Good</td>\n",
       "      <td>E</td>\n",
       "      <td>VS1</td>\n",
       "      <td>56.9</td>\n",
       "      <td>65.0</td>\n",
       "      <td>327</td>\n",
       "      <td>4.05</td>\n",
       "      <td>4.07</td>\n",
       "      <td>2.31</td>\n",
       "    </tr>\n",
       "    <tr>\n",
       "      <th>3</th>\n",
       "      <td>0.29</td>\n",
       "      <td>Premium</td>\n",
       "      <td>I</td>\n",
       "      <td>VS2</td>\n",
       "      <td>62.4</td>\n",
       "      <td>58.0</td>\n",
       "      <td>334</td>\n",
       "      <td>4.20</td>\n",
       "      <td>4.23</td>\n",
       "      <td>2.63</td>\n",
       "    </tr>\n",
       "    <tr>\n",
       "      <th>4</th>\n",
       "      <td>0.31</td>\n",
       "      <td>Good</td>\n",
       "      <td>J</td>\n",
       "      <td>SI2</td>\n",
       "      <td>63.3</td>\n",
       "      <td>58.0</td>\n",
       "      <td>335</td>\n",
       "      <td>4.34</td>\n",
       "      <td>4.35</td>\n",
       "      <td>2.75</td>\n",
       "    </tr>\n",
       "  </tbody>\n",
       "</table>\n",
       "</div>\n",
       "      <button class=\"colab-df-convert\" onclick=\"convertToInteractive('df-008fddfe-a835-42b8-86ec-db03c43436bb')\"\n",
       "              title=\"Convert this dataframe to an interactive table.\"\n",
       "              style=\"display:none;\">\n",
       "        \n",
       "  <svg xmlns=\"http://www.w3.org/2000/svg\" height=\"24px\"viewBox=\"0 0 24 24\"\n",
       "       width=\"24px\">\n",
       "    <path d=\"M0 0h24v24H0V0z\" fill=\"none\"/>\n",
       "    <path d=\"M18.56 5.44l.94 2.06.94-2.06 2.06-.94-2.06-.94-.94-2.06-.94 2.06-2.06.94zm-11 1L8.5 8.5l.94-2.06 2.06-.94-2.06-.94L8.5 2.5l-.94 2.06-2.06.94zm10 10l.94 2.06.94-2.06 2.06-.94-2.06-.94-.94-2.06-.94 2.06-2.06.94z\"/><path d=\"M17.41 7.96l-1.37-1.37c-.4-.4-.92-.59-1.43-.59-.52 0-1.04.2-1.43.59L10.3 9.45l-7.72 7.72c-.78.78-.78 2.05 0 2.83L4 21.41c.39.39.9.59 1.41.59.51 0 1.02-.2 1.41-.59l7.78-7.78 2.81-2.81c.8-.78.8-2.07 0-2.86zM5.41 20L4 18.59l7.72-7.72 1.47 1.35L5.41 20z\"/>\n",
       "  </svg>\n",
       "      </button>\n",
       "      \n",
       "  <style>\n",
       "    .colab-df-container {\n",
       "      display:flex;\n",
       "      flex-wrap:wrap;\n",
       "      gap: 12px;\n",
       "    }\n",
       "\n",
       "    .colab-df-convert {\n",
       "      background-color: #E8F0FE;\n",
       "      border: none;\n",
       "      border-radius: 50%;\n",
       "      cursor: pointer;\n",
       "      display: none;\n",
       "      fill: #1967D2;\n",
       "      height: 32px;\n",
       "      padding: 0 0 0 0;\n",
       "      width: 32px;\n",
       "    }\n",
       "\n",
       "    .colab-df-convert:hover {\n",
       "      background-color: #E2EBFA;\n",
       "      box-shadow: 0px 1px 2px rgba(60, 64, 67, 0.3), 0px 1px 3px 1px rgba(60, 64, 67, 0.15);\n",
       "      fill: #174EA6;\n",
       "    }\n",
       "\n",
       "    [theme=dark] .colab-df-convert {\n",
       "      background-color: #3B4455;\n",
       "      fill: #D2E3FC;\n",
       "    }\n",
       "\n",
       "    [theme=dark] .colab-df-convert:hover {\n",
       "      background-color: #434B5C;\n",
       "      box-shadow: 0px 1px 3px 1px rgba(0, 0, 0, 0.15);\n",
       "      filter: drop-shadow(0px 1px 2px rgba(0, 0, 0, 0.3));\n",
       "      fill: #FFFFFF;\n",
       "    }\n",
       "  </style>\n",
       "\n",
       "      <script>\n",
       "        const buttonEl =\n",
       "          document.querySelector('#df-008fddfe-a835-42b8-86ec-db03c43436bb button.colab-df-convert');\n",
       "        buttonEl.style.display =\n",
       "          google.colab.kernel.accessAllowed ? 'block' : 'none';\n",
       "\n",
       "        async function convertToInteractive(key) {\n",
       "          const element = document.querySelector('#df-008fddfe-a835-42b8-86ec-db03c43436bb');\n",
       "          const dataTable =\n",
       "            await google.colab.kernel.invokeFunction('convertToInteractive',\n",
       "                                                     [key], {});\n",
       "          if (!dataTable) return;\n",
       "\n",
       "          const docLinkHtml = 'Like what you see? Visit the ' +\n",
       "            '<a target=\"_blank\" href=https://colab.research.google.com/notebooks/data_table.ipynb>data table notebook</a>'\n",
       "            + ' to learn more about interactive tables.';\n",
       "          element.innerHTML = '';\n",
       "          dataTable['output_type'] = 'display_data';\n",
       "          await google.colab.output.renderOutput(dataTable, element);\n",
       "          const docLink = document.createElement('div');\n",
       "          docLink.innerHTML = docLinkHtml;\n",
       "          element.appendChild(docLink);\n",
       "        }\n",
       "      </script>\n",
       "    </div>\n",
       "  </div>\n",
       "  "
      ],
      "text/plain": [
       "   carat      cut color clarity  depth  table  price     x     y     z\n",
       "0   0.23    Ideal     E     SI2   61.5   55.0    326  3.95  3.98  2.43\n",
       "1   0.21  Premium     E     SI1   59.8   61.0    326  3.89  3.84  2.31\n",
       "2   0.23     Good     E     VS1   56.9   65.0    327  4.05  4.07  2.31\n",
       "3   0.29  Premium     I     VS2   62.4   58.0    334  4.20  4.23  2.63\n",
       "4   0.31     Good     J     SI2   63.3   58.0    335  4.34  4.35  2.75"
      ]
     },
     "execution_count": 3,
     "metadata": {},
     "output_type": "execute_result"
    }
   ],
   "source": [
    "# データ読み込み、外れ値の除外\n",
    "\n",
    "# データセットの読み込み\n",
    "df = sns.load_dataset('diamonds')\n",
    "\n",
    "# 外れ値除外の前処理\n",
    "df = df.drop(df[(df['x'] == 0) | (df['y'] == 0)| (df['z'] == 0)].index, axis=0)\n",
    "df = df.drop(df[(df['x'] >= 10) | (df['y'] >= 10) | (df['z'] >= 10)].index, axis=0)\n",
    "df.reset_index(inplace=True, drop=True)\n",
    "print(df.shape)\n",
    "df.head()"
   ]
  },
  {
   "cell_type": "code",
   "execution_count": null,
   "metadata": {
    "id": "Wnt0YvAZKega"
   },
   "outputs": [],
   "source": [
    "# 特徴量と目的変数の設定\n",
    "X = df.drop(['price'], axis=1)\n",
    "y = df['price']"
   ]
  },
  {
   "cell_type": "code",
   "execution_count": null,
   "metadata": {
    "colab": {
     "base_uri": "https://localhost:8080/",
     "height": 305
    },
    "executionInfo": {
     "elapsed": 4,
     "status": "ok",
     "timestamp": 1685193613463,
     "user": {
      "displayName": "毛利拓也",
      "userId": "17854120745961292401"
     },
     "user_tz": -540
    },
    "id": "pX-isuYXfnLf",
    "outputId": "e95b0f09-d6a9-4a6e-a325-1e230488292a"
   },
   "outputs": [
    {
     "name": "stdout",
     "output_type": "stream",
     "text": [
      "追加した特徴量\n"
     ]
    },
    {
     "data": {
      "text/html": [
       "\n",
       "  <div id=\"df-c5994278-7e28-426a-92d3-b8fd458340d9\">\n",
       "    <div class=\"colab-df-container\">\n",
       "      <div>\n",
       "<style scoped>\n",
       "    .dataframe tbody tr th:only-of-type {\n",
       "        vertical-align: middle;\n",
       "    }\n",
       "\n",
       "    .dataframe tbody tr th {\n",
       "        vertical-align: top;\n",
       "    }\n",
       "\n",
       "    .dataframe thead th {\n",
       "        text-align: right;\n",
       "    }\n",
       "</style>\n",
       "<table border=\"1\" class=\"dataframe\">\n",
       "  <thead>\n",
       "    <tr style=\"text-align: right;\">\n",
       "      <th></th>\n",
       "      <th>carat</th>\n",
       "      <th>cut</th>\n",
       "      <th>color</th>\n",
       "      <th>clarity</th>\n",
       "      <th>depth</th>\n",
       "      <th>table</th>\n",
       "      <th>x</th>\n",
       "      <th>y</th>\n",
       "      <th>z</th>\n",
       "      <th>density</th>\n",
       "      <th>x-y</th>\n",
       "      <th>y-z</th>\n",
       "      <th>z-x</th>\n",
       "      <th>x/y</th>\n",
       "      <th>y/z</th>\n",
       "      <th>z/x</th>\n",
       "      <th>x-median_x</th>\n",
       "      <th>y-median_y</th>\n",
       "      <th>z-median_z</th>\n",
       "    </tr>\n",
       "  </thead>\n",
       "  <tbody>\n",
       "    <tr>\n",
       "      <th>0</th>\n",
       "      <td>0.23</td>\n",
       "      <td>Ideal</td>\n",
       "      <td>E</td>\n",
       "      <td>SI2</td>\n",
       "      <td>61.5</td>\n",
       "      <td>55.0</td>\n",
       "      <td>3.95</td>\n",
       "      <td>3.98</td>\n",
       "      <td>2.43</td>\n",
       "      <td>0.006021</td>\n",
       "      <td>0.03</td>\n",
       "      <td>1.55</td>\n",
       "      <td>0.03</td>\n",
       "      <td>0.992462</td>\n",
       "      <td>1.637860</td>\n",
       "      <td>0.615190</td>\n",
       "      <td>1.75</td>\n",
       "      <td>1.73</td>\n",
       "      <td>1.10</td>\n",
       "    </tr>\n",
       "    <tr>\n",
       "      <th>1</th>\n",
       "      <td>0.21</td>\n",
       "      <td>Premium</td>\n",
       "      <td>E</td>\n",
       "      <td>SI1</td>\n",
       "      <td>59.8</td>\n",
       "      <td>61.0</td>\n",
       "      <td>3.89</td>\n",
       "      <td>3.84</td>\n",
       "      <td>2.31</td>\n",
       "      <td>0.006086</td>\n",
       "      <td>0.05</td>\n",
       "      <td>1.53</td>\n",
       "      <td>0.05</td>\n",
       "      <td>1.013021</td>\n",
       "      <td>1.662338</td>\n",
       "      <td>0.593830</td>\n",
       "      <td>1.81</td>\n",
       "      <td>1.87</td>\n",
       "      <td>1.22</td>\n",
       "    </tr>\n",
       "    <tr>\n",
       "      <th>2</th>\n",
       "      <td>0.23</td>\n",
       "      <td>Good</td>\n",
       "      <td>E</td>\n",
       "      <td>VS1</td>\n",
       "      <td>56.9</td>\n",
       "      <td>65.0</td>\n",
       "      <td>4.05</td>\n",
       "      <td>4.07</td>\n",
       "      <td>2.31</td>\n",
       "      <td>0.006040</td>\n",
       "      <td>0.02</td>\n",
       "      <td>1.76</td>\n",
       "      <td>0.02</td>\n",
       "      <td>0.995086</td>\n",
       "      <td>1.761905</td>\n",
       "      <td>0.570370</td>\n",
       "      <td>1.65</td>\n",
       "      <td>1.64</td>\n",
       "      <td>1.22</td>\n",
       "    </tr>\n",
       "    <tr>\n",
       "      <th>3</th>\n",
       "      <td>0.29</td>\n",
       "      <td>Premium</td>\n",
       "      <td>I</td>\n",
       "      <td>VS2</td>\n",
       "      <td>62.4</td>\n",
       "      <td>58.0</td>\n",
       "      <td>4.20</td>\n",
       "      <td>4.23</td>\n",
       "      <td>2.63</td>\n",
       "      <td>0.006207</td>\n",
       "      <td>0.03</td>\n",
       "      <td>1.60</td>\n",
       "      <td>0.03</td>\n",
       "      <td>0.992908</td>\n",
       "      <td>1.608365</td>\n",
       "      <td>0.626190</td>\n",
       "      <td>1.50</td>\n",
       "      <td>1.48</td>\n",
       "      <td>0.90</td>\n",
       "    </tr>\n",
       "    <tr>\n",
       "      <th>4</th>\n",
       "      <td>0.31</td>\n",
       "      <td>Good</td>\n",
       "      <td>J</td>\n",
       "      <td>SI2</td>\n",
       "      <td>63.3</td>\n",
       "      <td>58.0</td>\n",
       "      <td>4.34</td>\n",
       "      <td>4.35</td>\n",
       "      <td>2.75</td>\n",
       "      <td>0.005971</td>\n",
       "      <td>0.01</td>\n",
       "      <td>1.60</td>\n",
       "      <td>0.01</td>\n",
       "      <td>0.997701</td>\n",
       "      <td>1.581818</td>\n",
       "      <td>0.633641</td>\n",
       "      <td>1.36</td>\n",
       "      <td>1.36</td>\n",
       "      <td>0.78</td>\n",
       "    </tr>\n",
       "  </tbody>\n",
       "</table>\n",
       "</div>\n",
       "      <button class=\"colab-df-convert\" onclick=\"convertToInteractive('df-c5994278-7e28-426a-92d3-b8fd458340d9')\"\n",
       "              title=\"Convert this dataframe to an interactive table.\"\n",
       "              style=\"display:none;\">\n",
       "        \n",
       "  <svg xmlns=\"http://www.w3.org/2000/svg\" height=\"24px\"viewBox=\"0 0 24 24\"\n",
       "       width=\"24px\">\n",
       "    <path d=\"M0 0h24v24H0V0z\" fill=\"none\"/>\n",
       "    <path d=\"M18.56 5.44l.94 2.06.94-2.06 2.06-.94-2.06-.94-.94-2.06-.94 2.06-2.06.94zm-11 1L8.5 8.5l.94-2.06 2.06-.94-2.06-.94L8.5 2.5l-.94 2.06-2.06.94zm10 10l.94 2.06.94-2.06 2.06-.94-2.06-.94-.94-2.06-.94 2.06-2.06.94z\"/><path d=\"M17.41 7.96l-1.37-1.37c-.4-.4-.92-.59-1.43-.59-.52 0-1.04.2-1.43.59L10.3 9.45l-7.72 7.72c-.78.78-.78 2.05 0 2.83L4 21.41c.39.39.9.59 1.41.59.51 0 1.02-.2 1.41-.59l7.78-7.78 2.81-2.81c.8-.78.8-2.07 0-2.86zM5.41 20L4 18.59l7.72-7.72 1.47 1.35L5.41 20z\"/>\n",
       "  </svg>\n",
       "      </button>\n",
       "      \n",
       "  <style>\n",
       "    .colab-df-container {\n",
       "      display:flex;\n",
       "      flex-wrap:wrap;\n",
       "      gap: 12px;\n",
       "    }\n",
       "\n",
       "    .colab-df-convert {\n",
       "      background-color: #E8F0FE;\n",
       "      border: none;\n",
       "      border-radius: 50%;\n",
       "      cursor: pointer;\n",
       "      display: none;\n",
       "      fill: #1967D2;\n",
       "      height: 32px;\n",
       "      padding: 0 0 0 0;\n",
       "      width: 32px;\n",
       "    }\n",
       "\n",
       "    .colab-df-convert:hover {\n",
       "      background-color: #E2EBFA;\n",
       "      box-shadow: 0px 1px 2px rgba(60, 64, 67, 0.3), 0px 1px 3px 1px rgba(60, 64, 67, 0.15);\n",
       "      fill: #174EA6;\n",
       "    }\n",
       "\n",
       "    [theme=dark] .colab-df-convert {\n",
       "      background-color: #3B4455;\n",
       "      fill: #D2E3FC;\n",
       "    }\n",
       "\n",
       "    [theme=dark] .colab-df-convert:hover {\n",
       "      background-color: #434B5C;\n",
       "      box-shadow: 0px 1px 3px 1px rgba(0, 0, 0, 0.15);\n",
       "      filter: drop-shadow(0px 1px 2px rgba(0, 0, 0, 0.3));\n",
       "      fill: #FFFFFF;\n",
       "    }\n",
       "  </style>\n",
       "\n",
       "      <script>\n",
       "        const buttonEl =\n",
       "          document.querySelector('#df-c5994278-7e28-426a-92d3-b8fd458340d9 button.colab-df-convert');\n",
       "        buttonEl.style.display =\n",
       "          google.colab.kernel.accessAllowed ? 'block' : 'none';\n",
       "\n",
       "        async function convertToInteractive(key) {\n",
       "          const element = document.querySelector('#df-c5994278-7e28-426a-92d3-b8fd458340d9');\n",
       "          const dataTable =\n",
       "            await google.colab.kernel.invokeFunction('convertToInteractive',\n",
       "                                                     [key], {});\n",
       "          if (!dataTable) return;\n",
       "\n",
       "          const docLinkHtml = 'Like what you see? Visit the ' +\n",
       "            '<a target=\"_blank\" href=https://colab.research.google.com/notebooks/data_table.ipynb>data table notebook</a>'\n",
       "            + ' to learn more about interactive tables.';\n",
       "          element.innerHTML = '';\n",
       "          dataTable['output_type'] = 'display_data';\n",
       "          await google.colab.output.renderOutput(dataTable, element);\n",
       "          const docLink = document.createElement('div');\n",
       "          docLink.innerHTML = docLinkHtml;\n",
       "          element.appendChild(docLink);\n",
       "        }\n",
       "      </script>\n",
       "    </div>\n",
       "  </div>\n",
       "  "
      ],
      "text/plain": [
       "   carat      cut color clarity  depth  table     x     y     z   density  \\\n",
       "0   0.23    Ideal     E     SI2   61.5   55.0  3.95  3.98  2.43  0.006021   \n",
       "1   0.21  Premium     E     SI1   59.8   61.0  3.89  3.84  2.31  0.006086   \n",
       "2   0.23     Good     E     VS1   56.9   65.0  4.05  4.07  2.31  0.006040   \n",
       "3   0.29  Premium     I     VS2   62.4   58.0  4.20  4.23  2.63  0.006207   \n",
       "4   0.31     Good     J     SI2   63.3   58.0  4.34  4.35  2.75  0.005971   \n",
       "\n",
       "    x-y   y-z   z-x       x/y       y/z       z/x  x-median_x  y-median_y  \\\n",
       "0  0.03  1.55  0.03  0.992462  1.637860  0.615190        1.75        1.73   \n",
       "1  0.05  1.53  0.05  1.013021  1.662338  0.593830        1.81        1.87   \n",
       "2  0.02  1.76  0.02  0.995086  1.761905  0.570370        1.65        1.64   \n",
       "3  0.03  1.60  0.03  0.992908  1.608365  0.626190        1.50        1.48   \n",
       "4  0.01  1.60  0.01  0.997701  1.581818  0.633641        1.36        1.36   \n",
       "\n",
       "   z-median_z  \n",
       "0        1.10  \n",
       "1        1.22  \n",
       "2        1.22  \n",
       "3        0.90  \n",
       "4        0.78  "
      ]
     },
     "metadata": {},
     "output_type": "display_data"
    }
   ],
   "source": [
    "# 数値×数値の特徴量エンジニアリング\n",
    "\n",
    "# 密度（重さ/体積）\n",
    "X['density'] = X['carat'] / (X['x'] * X['y'] * X['z'])\n",
    "\n",
    "# 差分\n",
    "X['x-y'] = (X['x'] - X['y']).abs()\n",
    "X['y-z'] = (X['y'] - X['z']).abs()\n",
    "X['z-x'] = (X['x'] - X['y']).abs()\n",
    "\n",
    "# 比率\n",
    "X['x/y'] = X['x'] / X['y']\n",
    "X['y/z'] = X['y'] / X['z']\n",
    "X['z/x'] = X['z'] / X['x']\n",
    "\n",
    "# 中央値との差分\n",
    "X['x-median_x'] = (X['x'] - X['x'].median()).abs()\n",
    "X['y-median_y'] = (X['y'] - X['y'].median()).abs()\n",
    "X['z-median_z'] = (X['z'] - X['z'].median()).abs()\n",
    "\n",
    "print('追加した特徴量')\n",
    "display(X.head())"
   ]
  },
  {
   "cell_type": "code",
   "execution_count": null,
   "metadata": {
    "colab": {
     "base_uri": "https://localhost:8080/",
     "height": 1000
    },
    "executionInfo": {
     "elapsed": 291,
     "status": "ok",
     "timestamp": 1685193626772,
     "user": {
      "displayName": "毛利拓也",
      "userId": "17854120745961292401"
     },
     "user_tz": -540
    },
    "id": "raEB7lphf87B",
    "outputId": "accc4b42-02b6-447d-904f-754fe0a353f1"
   },
   "outputs": [
    {
     "name": "stdout",
     "output_type": "stream",
     "text": [
      "cutごとにcarat中央値を集計\n"
     ]
    },
    {
     "data": {
      "text/html": [
       "\n",
       "  <div id=\"df-3124f572-b5e5-42b6-af06-9e1b2c7ca3e5\">\n",
       "    <div class=\"colab-df-container\">\n",
       "      <div>\n",
       "<style scoped>\n",
       "    .dataframe tbody tr th:only-of-type {\n",
       "        vertical-align: middle;\n",
       "    }\n",
       "\n",
       "    .dataframe tbody tr th {\n",
       "        vertical-align: top;\n",
       "    }\n",
       "\n",
       "    .dataframe thead th {\n",
       "        text-align: right;\n",
       "    }\n",
       "</style>\n",
       "<table border=\"1\" class=\"dataframe\">\n",
       "  <thead>\n",
       "    <tr style=\"text-align: right;\">\n",
       "      <th></th>\n",
       "      <th>cut</th>\n",
       "      <th>median_carat_by_cut</th>\n",
       "    </tr>\n",
       "  </thead>\n",
       "  <tbody>\n",
       "    <tr>\n",
       "      <th>0</th>\n",
       "      <td>Ideal</td>\n",
       "      <td>0.54</td>\n",
       "    </tr>\n",
       "    <tr>\n",
       "      <th>1</th>\n",
       "      <td>Premium</td>\n",
       "      <td>0.85</td>\n",
       "    </tr>\n",
       "    <tr>\n",
       "      <th>2</th>\n",
       "      <td>Very Good</td>\n",
       "      <td>0.71</td>\n",
       "    </tr>\n",
       "    <tr>\n",
       "      <th>3</th>\n",
       "      <td>Good</td>\n",
       "      <td>0.82</td>\n",
       "    </tr>\n",
       "    <tr>\n",
       "      <th>4</th>\n",
       "      <td>Fair</td>\n",
       "      <td>1.00</td>\n",
       "    </tr>\n",
       "  </tbody>\n",
       "</table>\n",
       "</div>\n",
       "      <button class=\"colab-df-convert\" onclick=\"convertToInteractive('df-3124f572-b5e5-42b6-af06-9e1b2c7ca3e5')\"\n",
       "              title=\"Convert this dataframe to an interactive table.\"\n",
       "              style=\"display:none;\">\n",
       "        \n",
       "  <svg xmlns=\"http://www.w3.org/2000/svg\" height=\"24px\"viewBox=\"0 0 24 24\"\n",
       "       width=\"24px\">\n",
       "    <path d=\"M0 0h24v24H0V0z\" fill=\"none\"/>\n",
       "    <path d=\"M18.56 5.44l.94 2.06.94-2.06 2.06-.94-2.06-.94-.94-2.06-.94 2.06-2.06.94zm-11 1L8.5 8.5l.94-2.06 2.06-.94-2.06-.94L8.5 2.5l-.94 2.06-2.06.94zm10 10l.94 2.06.94-2.06 2.06-.94-2.06-.94-.94-2.06-.94 2.06-2.06.94z\"/><path d=\"M17.41 7.96l-1.37-1.37c-.4-.4-.92-.59-1.43-.59-.52 0-1.04.2-1.43.59L10.3 9.45l-7.72 7.72c-.78.78-.78 2.05 0 2.83L4 21.41c.39.39.9.59 1.41.59.51 0 1.02-.2 1.41-.59l7.78-7.78 2.81-2.81c.8-.78.8-2.07 0-2.86zM5.41 20L4 18.59l7.72-7.72 1.47 1.35L5.41 20z\"/>\n",
       "  </svg>\n",
       "      </button>\n",
       "      \n",
       "  <style>\n",
       "    .colab-df-container {\n",
       "      display:flex;\n",
       "      flex-wrap:wrap;\n",
       "      gap: 12px;\n",
       "    }\n",
       "\n",
       "    .colab-df-convert {\n",
       "      background-color: #E8F0FE;\n",
       "      border: none;\n",
       "      border-radius: 50%;\n",
       "      cursor: pointer;\n",
       "      display: none;\n",
       "      fill: #1967D2;\n",
       "      height: 32px;\n",
       "      padding: 0 0 0 0;\n",
       "      width: 32px;\n",
       "    }\n",
       "\n",
       "    .colab-df-convert:hover {\n",
       "      background-color: #E2EBFA;\n",
       "      box-shadow: 0px 1px 2px rgba(60, 64, 67, 0.3), 0px 1px 3px 1px rgba(60, 64, 67, 0.15);\n",
       "      fill: #174EA6;\n",
       "    }\n",
       "\n",
       "    [theme=dark] .colab-df-convert {\n",
       "      background-color: #3B4455;\n",
       "      fill: #D2E3FC;\n",
       "    }\n",
       "\n",
       "    [theme=dark] .colab-df-convert:hover {\n",
       "      background-color: #434B5C;\n",
       "      box-shadow: 0px 1px 3px 1px rgba(0, 0, 0, 0.15);\n",
       "      filter: drop-shadow(0px 1px 2px rgba(0, 0, 0, 0.3));\n",
       "      fill: #FFFFFF;\n",
       "    }\n",
       "  </style>\n",
       "\n",
       "      <script>\n",
       "        const buttonEl =\n",
       "          document.querySelector('#df-3124f572-b5e5-42b6-af06-9e1b2c7ca3e5 button.colab-df-convert');\n",
       "        buttonEl.style.display =\n",
       "          google.colab.kernel.accessAllowed ? 'block' : 'none';\n",
       "\n",
       "        async function convertToInteractive(key) {\n",
       "          const element = document.querySelector('#df-3124f572-b5e5-42b6-af06-9e1b2c7ca3e5');\n",
       "          const dataTable =\n",
       "            await google.colab.kernel.invokeFunction('convertToInteractive',\n",
       "                                                     [key], {});\n",
       "          if (!dataTable) return;\n",
       "\n",
       "          const docLinkHtml = 'Like what you see? Visit the ' +\n",
       "            '<a target=\"_blank\" href=https://colab.research.google.com/notebooks/data_table.ipynb>data table notebook</a>'\n",
       "            + ' to learn more about interactive tables.';\n",
       "          element.innerHTML = '';\n",
       "          dataTable['output_type'] = 'display_data';\n",
       "          await google.colab.output.renderOutput(dataTable, element);\n",
       "          const docLink = document.createElement('div');\n",
       "          docLink.innerHTML = docLinkHtml;\n",
       "          element.appendChild(docLink);\n",
       "        }\n",
       "      </script>\n",
       "    </div>\n",
       "  </div>\n",
       "  "
      ],
      "text/plain": [
       "         cut  median_carat_by_cut\n",
       "0      Ideal                 0.54\n",
       "1    Premium                 0.85\n",
       "2  Very Good                 0.71\n",
       "3       Good                 0.82\n",
       "4       Fair                 1.00"
      ]
     },
     "metadata": {},
     "output_type": "display_data"
    },
    {
     "name": "stdout",
     "output_type": "stream",
     "text": [
      "colorごとにcarat中央値を集計\n"
     ]
    },
    {
     "data": {
      "text/html": [
       "\n",
       "  <div id=\"df-661cdc69-a68b-4346-99fa-e62c1e472673\">\n",
       "    <div class=\"colab-df-container\">\n",
       "      <div>\n",
       "<style scoped>\n",
       "    .dataframe tbody tr th:only-of-type {\n",
       "        vertical-align: middle;\n",
       "    }\n",
       "\n",
       "    .dataframe tbody tr th {\n",
       "        vertical-align: top;\n",
       "    }\n",
       "\n",
       "    .dataframe thead th {\n",
       "        text-align: right;\n",
       "    }\n",
       "</style>\n",
       "<table border=\"1\" class=\"dataframe\">\n",
       "  <thead>\n",
       "    <tr style=\"text-align: right;\">\n",
       "      <th></th>\n",
       "      <th>color</th>\n",
       "      <th>median_carat_by_color</th>\n",
       "    </tr>\n",
       "  </thead>\n",
       "  <tbody>\n",
       "    <tr>\n",
       "      <th>0</th>\n",
       "      <td>D</td>\n",
       "      <td>0.53</td>\n",
       "    </tr>\n",
       "    <tr>\n",
       "      <th>1</th>\n",
       "      <td>E</td>\n",
       "      <td>0.53</td>\n",
       "    </tr>\n",
       "    <tr>\n",
       "      <th>2</th>\n",
       "      <td>F</td>\n",
       "      <td>0.70</td>\n",
       "    </tr>\n",
       "    <tr>\n",
       "      <th>3</th>\n",
       "      <td>G</td>\n",
       "      <td>0.70</td>\n",
       "    </tr>\n",
       "    <tr>\n",
       "      <th>4</th>\n",
       "      <td>H</td>\n",
       "      <td>0.90</td>\n",
       "    </tr>\n",
       "    <tr>\n",
       "      <th>5</th>\n",
       "      <td>I</td>\n",
       "      <td>1.00</td>\n",
       "    </tr>\n",
       "    <tr>\n",
       "      <th>6</th>\n",
       "      <td>J</td>\n",
       "      <td>1.11</td>\n",
       "    </tr>\n",
       "  </tbody>\n",
       "</table>\n",
       "</div>\n",
       "      <button class=\"colab-df-convert\" onclick=\"convertToInteractive('df-661cdc69-a68b-4346-99fa-e62c1e472673')\"\n",
       "              title=\"Convert this dataframe to an interactive table.\"\n",
       "              style=\"display:none;\">\n",
       "        \n",
       "  <svg xmlns=\"http://www.w3.org/2000/svg\" height=\"24px\"viewBox=\"0 0 24 24\"\n",
       "       width=\"24px\">\n",
       "    <path d=\"M0 0h24v24H0V0z\" fill=\"none\"/>\n",
       "    <path d=\"M18.56 5.44l.94 2.06.94-2.06 2.06-.94-2.06-.94-.94-2.06-.94 2.06-2.06.94zm-11 1L8.5 8.5l.94-2.06 2.06-.94-2.06-.94L8.5 2.5l-.94 2.06-2.06.94zm10 10l.94 2.06.94-2.06 2.06-.94-2.06-.94-.94-2.06-.94 2.06-2.06.94z\"/><path d=\"M17.41 7.96l-1.37-1.37c-.4-.4-.92-.59-1.43-.59-.52 0-1.04.2-1.43.59L10.3 9.45l-7.72 7.72c-.78.78-.78 2.05 0 2.83L4 21.41c.39.39.9.59 1.41.59.51 0 1.02-.2 1.41-.59l7.78-7.78 2.81-2.81c.8-.78.8-2.07 0-2.86zM5.41 20L4 18.59l7.72-7.72 1.47 1.35L5.41 20z\"/>\n",
       "  </svg>\n",
       "      </button>\n",
       "      \n",
       "  <style>\n",
       "    .colab-df-container {\n",
       "      display:flex;\n",
       "      flex-wrap:wrap;\n",
       "      gap: 12px;\n",
       "    }\n",
       "\n",
       "    .colab-df-convert {\n",
       "      background-color: #E8F0FE;\n",
       "      border: none;\n",
       "      border-radius: 50%;\n",
       "      cursor: pointer;\n",
       "      display: none;\n",
       "      fill: #1967D2;\n",
       "      height: 32px;\n",
       "      padding: 0 0 0 0;\n",
       "      width: 32px;\n",
       "    }\n",
       "\n",
       "    .colab-df-convert:hover {\n",
       "      background-color: #E2EBFA;\n",
       "      box-shadow: 0px 1px 2px rgba(60, 64, 67, 0.3), 0px 1px 3px 1px rgba(60, 64, 67, 0.15);\n",
       "      fill: #174EA6;\n",
       "    }\n",
       "\n",
       "    [theme=dark] .colab-df-convert {\n",
       "      background-color: #3B4455;\n",
       "      fill: #D2E3FC;\n",
       "    }\n",
       "\n",
       "    [theme=dark] .colab-df-convert:hover {\n",
       "      background-color: #434B5C;\n",
       "      box-shadow: 0px 1px 3px 1px rgba(0, 0, 0, 0.15);\n",
       "      filter: drop-shadow(0px 1px 2px rgba(0, 0, 0, 0.3));\n",
       "      fill: #FFFFFF;\n",
       "    }\n",
       "  </style>\n",
       "\n",
       "      <script>\n",
       "        const buttonEl =\n",
       "          document.querySelector('#df-661cdc69-a68b-4346-99fa-e62c1e472673 button.colab-df-convert');\n",
       "        buttonEl.style.display =\n",
       "          google.colab.kernel.accessAllowed ? 'block' : 'none';\n",
       "\n",
       "        async function convertToInteractive(key) {\n",
       "          const element = document.querySelector('#df-661cdc69-a68b-4346-99fa-e62c1e472673');\n",
       "          const dataTable =\n",
       "            await google.colab.kernel.invokeFunction('convertToInteractive',\n",
       "                                                     [key], {});\n",
       "          if (!dataTable) return;\n",
       "\n",
       "          const docLinkHtml = 'Like what you see? Visit the ' +\n",
       "            '<a target=\"_blank\" href=https://colab.research.google.com/notebooks/data_table.ipynb>data table notebook</a>'\n",
       "            + ' to learn more about interactive tables.';\n",
       "          element.innerHTML = '';\n",
       "          dataTable['output_type'] = 'display_data';\n",
       "          await google.colab.output.renderOutput(dataTable, element);\n",
       "          const docLink = document.createElement('div');\n",
       "          docLink.innerHTML = docLinkHtml;\n",
       "          element.appendChild(docLink);\n",
       "        }\n",
       "      </script>\n",
       "    </div>\n",
       "  </div>\n",
       "  "
      ],
      "text/plain": [
       "  color  median_carat_by_color\n",
       "0     D                   0.53\n",
       "1     E                   0.53\n",
       "2     F                   0.70\n",
       "3     G                   0.70\n",
       "4     H                   0.90\n",
       "5     I                   1.00\n",
       "6     J                   1.11"
      ]
     },
     "metadata": {},
     "output_type": "display_data"
    },
    {
     "name": "stdout",
     "output_type": "stream",
     "text": [
      "clarityごとにcarat中央値を集計\n"
     ]
    },
    {
     "data": {
      "text/html": [
       "\n",
       "  <div id=\"df-ff34c81f-5ba0-49c5-b9cb-42bddc5ae2a3\">\n",
       "    <div class=\"colab-df-container\">\n",
       "      <div>\n",
       "<style scoped>\n",
       "    .dataframe tbody tr th:only-of-type {\n",
       "        vertical-align: middle;\n",
       "    }\n",
       "\n",
       "    .dataframe tbody tr th {\n",
       "        vertical-align: top;\n",
       "    }\n",
       "\n",
       "    .dataframe thead th {\n",
       "        text-align: right;\n",
       "    }\n",
       "</style>\n",
       "<table border=\"1\" class=\"dataframe\">\n",
       "  <thead>\n",
       "    <tr style=\"text-align: right;\">\n",
       "      <th></th>\n",
       "      <th>clarity</th>\n",
       "      <th>median_carat_by_clarity</th>\n",
       "    </tr>\n",
       "  </thead>\n",
       "  <tbody>\n",
       "    <tr>\n",
       "      <th>0</th>\n",
       "      <td>IF</td>\n",
       "      <td>0.35</td>\n",
       "    </tr>\n",
       "    <tr>\n",
       "      <th>1</th>\n",
       "      <td>VVS1</td>\n",
       "      <td>0.39</td>\n",
       "    </tr>\n",
       "    <tr>\n",
       "      <th>2</th>\n",
       "      <td>VVS2</td>\n",
       "      <td>0.44</td>\n",
       "    </tr>\n",
       "    <tr>\n",
       "      <th>3</th>\n",
       "      <td>VS1</td>\n",
       "      <td>0.57</td>\n",
       "    </tr>\n",
       "    <tr>\n",
       "      <th>4</th>\n",
       "      <td>VS2</td>\n",
       "      <td>0.63</td>\n",
       "    </tr>\n",
       "    <tr>\n",
       "      <th>5</th>\n",
       "      <td>SI1</td>\n",
       "      <td>0.76</td>\n",
       "    </tr>\n",
       "    <tr>\n",
       "      <th>6</th>\n",
       "      <td>SI2</td>\n",
       "      <td>1.01</td>\n",
       "    </tr>\n",
       "    <tr>\n",
       "      <th>7</th>\n",
       "      <td>I1</td>\n",
       "      <td>1.11</td>\n",
       "    </tr>\n",
       "  </tbody>\n",
       "</table>\n",
       "</div>\n",
       "      <button class=\"colab-df-convert\" onclick=\"convertToInteractive('df-ff34c81f-5ba0-49c5-b9cb-42bddc5ae2a3')\"\n",
       "              title=\"Convert this dataframe to an interactive table.\"\n",
       "              style=\"display:none;\">\n",
       "        \n",
       "  <svg xmlns=\"http://www.w3.org/2000/svg\" height=\"24px\"viewBox=\"0 0 24 24\"\n",
       "       width=\"24px\">\n",
       "    <path d=\"M0 0h24v24H0V0z\" fill=\"none\"/>\n",
       "    <path d=\"M18.56 5.44l.94 2.06.94-2.06 2.06-.94-2.06-.94-.94-2.06-.94 2.06-2.06.94zm-11 1L8.5 8.5l.94-2.06 2.06-.94-2.06-.94L8.5 2.5l-.94 2.06-2.06.94zm10 10l.94 2.06.94-2.06 2.06-.94-2.06-.94-.94-2.06-.94 2.06-2.06.94z\"/><path d=\"M17.41 7.96l-1.37-1.37c-.4-.4-.92-.59-1.43-.59-.52 0-1.04.2-1.43.59L10.3 9.45l-7.72 7.72c-.78.78-.78 2.05 0 2.83L4 21.41c.39.39.9.59 1.41.59.51 0 1.02-.2 1.41-.59l7.78-7.78 2.81-2.81c.8-.78.8-2.07 0-2.86zM5.41 20L4 18.59l7.72-7.72 1.47 1.35L5.41 20z\"/>\n",
       "  </svg>\n",
       "      </button>\n",
       "      \n",
       "  <style>\n",
       "    .colab-df-container {\n",
       "      display:flex;\n",
       "      flex-wrap:wrap;\n",
       "      gap: 12px;\n",
       "    }\n",
       "\n",
       "    .colab-df-convert {\n",
       "      background-color: #E8F0FE;\n",
       "      border: none;\n",
       "      border-radius: 50%;\n",
       "      cursor: pointer;\n",
       "      display: none;\n",
       "      fill: #1967D2;\n",
       "      height: 32px;\n",
       "      padding: 0 0 0 0;\n",
       "      width: 32px;\n",
       "    }\n",
       "\n",
       "    .colab-df-convert:hover {\n",
       "      background-color: #E2EBFA;\n",
       "      box-shadow: 0px 1px 2px rgba(60, 64, 67, 0.3), 0px 1px 3px 1px rgba(60, 64, 67, 0.15);\n",
       "      fill: #174EA6;\n",
       "    }\n",
       "\n",
       "    [theme=dark] .colab-df-convert {\n",
       "      background-color: #3B4455;\n",
       "      fill: #D2E3FC;\n",
       "    }\n",
       "\n",
       "    [theme=dark] .colab-df-convert:hover {\n",
       "      background-color: #434B5C;\n",
       "      box-shadow: 0px 1px 3px 1px rgba(0, 0, 0, 0.15);\n",
       "      filter: drop-shadow(0px 1px 2px rgba(0, 0, 0, 0.3));\n",
       "      fill: #FFFFFF;\n",
       "    }\n",
       "  </style>\n",
       "\n",
       "      <script>\n",
       "        const buttonEl =\n",
       "          document.querySelector('#df-ff34c81f-5ba0-49c5-b9cb-42bddc5ae2a3 button.colab-df-convert');\n",
       "        buttonEl.style.display =\n",
       "          google.colab.kernel.accessAllowed ? 'block' : 'none';\n",
       "\n",
       "        async function convertToInteractive(key) {\n",
       "          const element = document.querySelector('#df-ff34c81f-5ba0-49c5-b9cb-42bddc5ae2a3');\n",
       "          const dataTable =\n",
       "            await google.colab.kernel.invokeFunction('convertToInteractive',\n",
       "                                                     [key], {});\n",
       "          if (!dataTable) return;\n",
       "\n",
       "          const docLinkHtml = 'Like what you see? Visit the ' +\n",
       "            '<a target=\"_blank\" href=https://colab.research.google.com/notebooks/data_table.ipynb>data table notebook</a>'\n",
       "            + ' to learn more about interactive tables.';\n",
       "          element.innerHTML = '';\n",
       "          dataTable['output_type'] = 'display_data';\n",
       "          await google.colab.output.renderOutput(dataTable, element);\n",
       "          const docLink = document.createElement('div');\n",
       "          docLink.innerHTML = docLinkHtml;\n",
       "          element.appendChild(docLink);\n",
       "        }\n",
       "      </script>\n",
       "    </div>\n",
       "  </div>\n",
       "  "
      ],
      "text/plain": [
       "  clarity  median_carat_by_clarity\n",
       "0      IF                     0.35\n",
       "1    VVS1                     0.39\n",
       "2    VVS2                     0.44\n",
       "3     VS1                     0.57\n",
       "4     VS2                     0.63\n",
       "5     SI1                     0.76\n",
       "6     SI2                     1.01\n",
       "7      I1                     1.11"
      ]
     },
     "metadata": {},
     "output_type": "display_data"
    },
    {
     "data": {
      "text/html": [
       "\n",
       "  <div id=\"df-e470ffa1-e066-458d-8a92-2bcaf36fd1ee\">\n",
       "    <div class=\"colab-df-container\">\n",
       "      <div>\n",
       "<style scoped>\n",
       "    .dataframe tbody tr th:only-of-type {\n",
       "        vertical-align: middle;\n",
       "    }\n",
       "\n",
       "    .dataframe tbody tr th {\n",
       "        vertical-align: top;\n",
       "    }\n",
       "\n",
       "    .dataframe thead th {\n",
       "        text-align: right;\n",
       "    }\n",
       "</style>\n",
       "<table border=\"1\" class=\"dataframe\">\n",
       "  <thead>\n",
       "    <tr style=\"text-align: right;\">\n",
       "      <th></th>\n",
       "      <th>carat</th>\n",
       "      <th>cut</th>\n",
       "      <th>color</th>\n",
       "      <th>clarity</th>\n",
       "      <th>depth</th>\n",
       "      <th>table</th>\n",
       "      <th>x</th>\n",
       "      <th>y</th>\n",
       "      <th>z</th>\n",
       "      <th>density</th>\n",
       "      <th>...</th>\n",
       "      <th>z-median_z</th>\n",
       "      <th>median_carat_by_cut</th>\n",
       "      <th>carat-median_carat_by_cut</th>\n",
       "      <th>carat/median_carat_by_cut</th>\n",
       "      <th>median_carat_by_color</th>\n",
       "      <th>carat-median_carat_by_color</th>\n",
       "      <th>carat/median_carat_by_color</th>\n",
       "      <th>median_carat_by_clarity</th>\n",
       "      <th>carat-median_carat_by_clarity</th>\n",
       "      <th>carat/median_carat_by_clarity</th>\n",
       "    </tr>\n",
       "  </thead>\n",
       "  <tbody>\n",
       "    <tr>\n",
       "      <th>0</th>\n",
       "      <td>0.23</td>\n",
       "      <td>Ideal</td>\n",
       "      <td>E</td>\n",
       "      <td>SI2</td>\n",
       "      <td>61.5</td>\n",
       "      <td>55.0</td>\n",
       "      <td>3.95</td>\n",
       "      <td>3.98</td>\n",
       "      <td>2.43</td>\n",
       "      <td>0.006021</td>\n",
       "      <td>...</td>\n",
       "      <td>1.10</td>\n",
       "      <td>0.54</td>\n",
       "      <td>-0.31</td>\n",
       "      <td>0.425926</td>\n",
       "      <td>0.53</td>\n",
       "      <td>-0.30</td>\n",
       "      <td>0.433962</td>\n",
       "      <td>1.01</td>\n",
       "      <td>-0.78</td>\n",
       "      <td>0.227723</td>\n",
       "    </tr>\n",
       "    <tr>\n",
       "      <th>1</th>\n",
       "      <td>0.21</td>\n",
       "      <td>Premium</td>\n",
       "      <td>E</td>\n",
       "      <td>SI1</td>\n",
       "      <td>59.8</td>\n",
       "      <td>61.0</td>\n",
       "      <td>3.89</td>\n",
       "      <td>3.84</td>\n",
       "      <td>2.31</td>\n",
       "      <td>0.006086</td>\n",
       "      <td>...</td>\n",
       "      <td>1.22</td>\n",
       "      <td>0.85</td>\n",
       "      <td>-0.64</td>\n",
       "      <td>0.247059</td>\n",
       "      <td>0.53</td>\n",
       "      <td>-0.32</td>\n",
       "      <td>0.396226</td>\n",
       "      <td>0.76</td>\n",
       "      <td>-0.55</td>\n",
       "      <td>0.276316</td>\n",
       "    </tr>\n",
       "    <tr>\n",
       "      <th>2</th>\n",
       "      <td>0.23</td>\n",
       "      <td>Good</td>\n",
       "      <td>E</td>\n",
       "      <td>VS1</td>\n",
       "      <td>56.9</td>\n",
       "      <td>65.0</td>\n",
       "      <td>4.05</td>\n",
       "      <td>4.07</td>\n",
       "      <td>2.31</td>\n",
       "      <td>0.006040</td>\n",
       "      <td>...</td>\n",
       "      <td>1.22</td>\n",
       "      <td>0.82</td>\n",
       "      <td>-0.59</td>\n",
       "      <td>0.280488</td>\n",
       "      <td>0.53</td>\n",
       "      <td>-0.30</td>\n",
       "      <td>0.433962</td>\n",
       "      <td>0.57</td>\n",
       "      <td>-0.34</td>\n",
       "      <td>0.403509</td>\n",
       "    </tr>\n",
       "    <tr>\n",
       "      <th>3</th>\n",
       "      <td>0.29</td>\n",
       "      <td>Premium</td>\n",
       "      <td>I</td>\n",
       "      <td>VS2</td>\n",
       "      <td>62.4</td>\n",
       "      <td>58.0</td>\n",
       "      <td>4.20</td>\n",
       "      <td>4.23</td>\n",
       "      <td>2.63</td>\n",
       "      <td>0.006207</td>\n",
       "      <td>...</td>\n",
       "      <td>0.90</td>\n",
       "      <td>0.85</td>\n",
       "      <td>-0.56</td>\n",
       "      <td>0.341176</td>\n",
       "      <td>1.00</td>\n",
       "      <td>-0.71</td>\n",
       "      <td>0.290000</td>\n",
       "      <td>0.63</td>\n",
       "      <td>-0.34</td>\n",
       "      <td>0.460317</td>\n",
       "    </tr>\n",
       "    <tr>\n",
       "      <th>4</th>\n",
       "      <td>0.31</td>\n",
       "      <td>Good</td>\n",
       "      <td>J</td>\n",
       "      <td>SI2</td>\n",
       "      <td>63.3</td>\n",
       "      <td>58.0</td>\n",
       "      <td>4.34</td>\n",
       "      <td>4.35</td>\n",
       "      <td>2.75</td>\n",
       "      <td>0.005971</td>\n",
       "      <td>...</td>\n",
       "      <td>0.78</td>\n",
       "      <td>0.82</td>\n",
       "      <td>-0.51</td>\n",
       "      <td>0.378049</td>\n",
       "      <td>1.11</td>\n",
       "      <td>-0.80</td>\n",
       "      <td>0.279279</td>\n",
       "      <td>1.01</td>\n",
       "      <td>-0.70</td>\n",
       "      <td>0.306931</td>\n",
       "    </tr>\n",
       "  </tbody>\n",
       "</table>\n",
       "<p>5 rows × 28 columns</p>\n",
       "</div>\n",
       "      <button class=\"colab-df-convert\" onclick=\"convertToInteractive('df-e470ffa1-e066-458d-8a92-2bcaf36fd1ee')\"\n",
       "              title=\"Convert this dataframe to an interactive table.\"\n",
       "              style=\"display:none;\">\n",
       "        \n",
       "  <svg xmlns=\"http://www.w3.org/2000/svg\" height=\"24px\"viewBox=\"0 0 24 24\"\n",
       "       width=\"24px\">\n",
       "    <path d=\"M0 0h24v24H0V0z\" fill=\"none\"/>\n",
       "    <path d=\"M18.56 5.44l.94 2.06.94-2.06 2.06-.94-2.06-.94-.94-2.06-.94 2.06-2.06.94zm-11 1L8.5 8.5l.94-2.06 2.06-.94-2.06-.94L8.5 2.5l-.94 2.06-2.06.94zm10 10l.94 2.06.94-2.06 2.06-.94-2.06-.94-.94-2.06-.94 2.06-2.06.94z\"/><path d=\"M17.41 7.96l-1.37-1.37c-.4-.4-.92-.59-1.43-.59-.52 0-1.04.2-1.43.59L10.3 9.45l-7.72 7.72c-.78.78-.78 2.05 0 2.83L4 21.41c.39.39.9.59 1.41.59.51 0 1.02-.2 1.41-.59l7.78-7.78 2.81-2.81c.8-.78.8-2.07 0-2.86zM5.41 20L4 18.59l7.72-7.72 1.47 1.35L5.41 20z\"/>\n",
       "  </svg>\n",
       "      </button>\n",
       "      \n",
       "  <style>\n",
       "    .colab-df-container {\n",
       "      display:flex;\n",
       "      flex-wrap:wrap;\n",
       "      gap: 12px;\n",
       "    }\n",
       "\n",
       "    .colab-df-convert {\n",
       "      background-color: #E8F0FE;\n",
       "      border: none;\n",
       "      border-radius: 50%;\n",
       "      cursor: pointer;\n",
       "      display: none;\n",
       "      fill: #1967D2;\n",
       "      height: 32px;\n",
       "      padding: 0 0 0 0;\n",
       "      width: 32px;\n",
       "    }\n",
       "\n",
       "    .colab-df-convert:hover {\n",
       "      background-color: #E2EBFA;\n",
       "      box-shadow: 0px 1px 2px rgba(60, 64, 67, 0.3), 0px 1px 3px 1px rgba(60, 64, 67, 0.15);\n",
       "      fill: #174EA6;\n",
       "    }\n",
       "\n",
       "    [theme=dark] .colab-df-convert {\n",
       "      background-color: #3B4455;\n",
       "      fill: #D2E3FC;\n",
       "    }\n",
       "\n",
       "    [theme=dark] .colab-df-convert:hover {\n",
       "      background-color: #434B5C;\n",
       "      box-shadow: 0px 1px 3px 1px rgba(0, 0, 0, 0.15);\n",
       "      filter: drop-shadow(0px 1px 2px rgba(0, 0, 0, 0.3));\n",
       "      fill: #FFFFFF;\n",
       "    }\n",
       "  </style>\n",
       "\n",
       "      <script>\n",
       "        const buttonEl =\n",
       "          document.querySelector('#df-e470ffa1-e066-458d-8a92-2bcaf36fd1ee button.colab-df-convert');\n",
       "        buttonEl.style.display =\n",
       "          google.colab.kernel.accessAllowed ? 'block' : 'none';\n",
       "\n",
       "        async function convertToInteractive(key) {\n",
       "          const element = document.querySelector('#df-e470ffa1-e066-458d-8a92-2bcaf36fd1ee');\n",
       "          const dataTable =\n",
       "            await google.colab.kernel.invokeFunction('convertToInteractive',\n",
       "                                                     [key], {});\n",
       "          if (!dataTable) return;\n",
       "\n",
       "          const docLinkHtml = 'Like what you see? Visit the ' +\n",
       "            '<a target=\"_blank\" href=https://colab.research.google.com/notebooks/data_table.ipynb>data table notebook</a>'\n",
       "            + ' to learn more about interactive tables.';\n",
       "          element.innerHTML = '';\n",
       "          dataTable['output_type'] = 'display_data';\n",
       "          await google.colab.output.renderOutput(dataTable, element);\n",
       "          const docLink = document.createElement('div');\n",
       "          docLink.innerHTML = docLinkHtml;\n",
       "          element.appendChild(docLink);\n",
       "        }\n",
       "      </script>\n",
       "    </div>\n",
       "  </div>\n",
       "  "
      ],
      "text/plain": [
       "   carat      cut color clarity  depth  table     x     y     z   density  \\\n",
       "0   0.23    Ideal     E     SI2   61.5   55.0  3.95  3.98  2.43  0.006021   \n",
       "1   0.21  Premium     E     SI1   59.8   61.0  3.89  3.84  2.31  0.006086   \n",
       "2   0.23     Good     E     VS1   56.9   65.0  4.05  4.07  2.31  0.006040   \n",
       "3   0.29  Premium     I     VS2   62.4   58.0  4.20  4.23  2.63  0.006207   \n",
       "4   0.31     Good     J     SI2   63.3   58.0  4.34  4.35  2.75  0.005971   \n",
       "\n",
       "   ...  z-median_z  median_carat_by_cut  carat-median_carat_by_cut  \\\n",
       "0  ...        1.10                 0.54                      -0.31   \n",
       "1  ...        1.22                 0.85                      -0.64   \n",
       "2  ...        1.22                 0.82                      -0.59   \n",
       "3  ...        0.90                 0.85                      -0.56   \n",
       "4  ...        0.78                 0.82                      -0.51   \n",
       "\n",
       "   carat/median_carat_by_cut  median_carat_by_color  \\\n",
       "0                   0.425926                   0.53   \n",
       "1                   0.247059                   0.53   \n",
       "2                   0.280488                   0.53   \n",
       "3                   0.341176                   1.00   \n",
       "4                   0.378049                   1.11   \n",
       "\n",
       "   carat-median_carat_by_color  carat/median_carat_by_color  \\\n",
       "0                        -0.30                     0.433962   \n",
       "1                        -0.32                     0.396226   \n",
       "2                        -0.30                     0.433962   \n",
       "3                        -0.71                     0.290000   \n",
       "4                        -0.80                     0.279279   \n",
       "\n",
       "   median_carat_by_clarity  carat-median_carat_by_clarity  \\\n",
       "0                     1.01                          -0.78   \n",
       "1                     0.76                          -0.55   \n",
       "2                     0.57                          -0.34   \n",
       "3                     0.63                          -0.34   \n",
       "4                     1.01                          -0.70   \n",
       "\n",
       "   carat/median_carat_by_clarity  \n",
       "0                       0.227723  \n",
       "1                       0.276316  \n",
       "2                       0.403509  \n",
       "3                       0.460317  \n",
       "4                       0.306931  \n",
       "\n",
       "[5 rows x 28 columns]"
      ]
     },
     "metadata": {},
     "output_type": "display_data"
    }
   ],
   "source": [
    "# カテゴリ変数×数値の特徴量エンジニアリング\n",
    "\n",
    "# カテゴリ変数cutごとにcarat中央値を集計\n",
    "X_carat_by_cut = X.groupby('cut')['carat'].agg('median').reset_index()\n",
    "X_carat_by_cut.columns = ['cut', 'median_carat_by_cut']\n",
    "print('cutごとにcarat中央値を集計')\n",
    "display(X_carat_by_cut)\n",
    "X = pd.merge(X, X_carat_by_cut, on='cut', how = 'left')\n",
    "X['carat-median_carat_by_cut'] = (X['carat'] - X['median_carat_by_cut'])\n",
    "X['carat/median_carat_by_cut'] = (X['carat'] / X['median_carat_by_cut'])\n",
    "\n",
    "# カテゴリ変数colorごとにcarat中央値を集計\n",
    "X_carat_by_color = X.groupby('color')['carat'].agg('median').reset_index()\n",
    "X_carat_by_color.columns = ['color', 'median_carat_by_color']\n",
    "print('colorごとにcarat中央値を集計')\n",
    "display(X_carat_by_color)\n",
    "X = pd.merge(X, X_carat_by_color, on='color', how = 'left')\n",
    "X['carat-median_carat_by_color'] = (X['carat'] - X['median_carat_by_color'])\n",
    "X['carat/median_carat_by_color'] = (X['carat'] / X['median_carat_by_color'])\n",
    "\n",
    "# カテゴリ変数clarityごとにcarat中央値を集計\n",
    "X_carat_by_clarity = X.groupby('clarity')['carat'].agg('median').reset_index()\n",
    "X_carat_by_clarity.columns = ['clarity', 'median_carat_by_clarity']\n",
    "print('clarityごとにcarat中央値を集計')\n",
    "display(X_carat_by_clarity)\n",
    "X = pd.merge(X, X_carat_by_clarity, on='clarity', how = 'left')\n",
    "X['carat-median_carat_by_clarity'] = (X['carat'] - X['median_carat_by_clarity'])\n",
    "X['carat/median_carat_by_clarity'] = (X['carat'] / X ['median_carat_by_clarity'])\n",
    "\n",
    "display(X.head())"
   ]
  },
  {
   "cell_type": "code",
   "execution_count": null,
   "metadata": {
    "colab": {
     "base_uri": "https://localhost:8080/",
     "height": 1000
    },
    "executionInfo": {
     "elapsed": 306,
     "status": "ok",
     "timestamp": 1685193628594,
     "user": {
      "displayName": "毛利拓也",
      "userId": "17854120745961292401"
     },
     "user_tz": -540
    },
    "id": "8ofQcvJ2Obyz",
    "outputId": "da6d0080-5f41-4d80-ab7e-4a148e438bc2"
   },
   "outputs": [
    {
     "name": "stdout",
     "output_type": "stream",
     "text": [
      "cut*colorの出現割合\n"
     ]
    },
    {
     "data": {
      "text/html": [
       "\n",
       "  <div id=\"df-2092ee02-0f6d-44d4-b46c-b2393dc25369\">\n",
       "    <div class=\"colab-df-container\">\n",
       "      <div>\n",
       "<style scoped>\n",
       "    .dataframe tbody tr th:only-of-type {\n",
       "        vertical-align: middle;\n",
       "    }\n",
       "\n",
       "    .dataframe tbody tr th {\n",
       "        vertical-align: top;\n",
       "    }\n",
       "\n",
       "    .dataframe thead th {\n",
       "        text-align: right;\n",
       "    }\n",
       "</style>\n",
       "<table border=\"1\" class=\"dataframe\">\n",
       "  <thead>\n",
       "    <tr style=\"text-align: right;\">\n",
       "      <th>color</th>\n",
       "      <th>cut</th>\n",
       "      <th>D</th>\n",
       "      <th>E</th>\n",
       "      <th>F</th>\n",
       "      <th>G</th>\n",
       "      <th>H</th>\n",
       "      <th>I</th>\n",
       "      <th>J</th>\n",
       "    </tr>\n",
       "  </thead>\n",
       "  <tbody>\n",
       "    <tr>\n",
       "      <th>0</th>\n",
       "      <td>Ideal</td>\n",
       "      <td>0.131526</td>\n",
       "      <td>0.181092</td>\n",
       "      <td>0.177519</td>\n",
       "      <td>0.226574</td>\n",
       "      <td>0.144568</td>\n",
       "      <td>0.097136</td>\n",
       "      <td>0.041584</td>\n",
       "    </tr>\n",
       "    <tr>\n",
       "      <th>1</th>\n",
       "      <td>Premium</td>\n",
       "      <td>0.116281</td>\n",
       "      <td>0.169631</td>\n",
       "      <td>0.169122</td>\n",
       "      <td>0.212020</td>\n",
       "      <td>0.170864</td>\n",
       "      <td>0.103506</td>\n",
       "      <td>0.058576</td>\n",
       "    </tr>\n",
       "    <tr>\n",
       "      <th>2</th>\n",
       "      <td>Very Good</td>\n",
       "      <td>0.125259</td>\n",
       "      <td>0.198609</td>\n",
       "      <td>0.179154</td>\n",
       "      <td>0.190330</td>\n",
       "      <td>0.150923</td>\n",
       "      <td>0.099594</td>\n",
       "      <td>0.056130</td>\n",
       "    </tr>\n",
       "    <tr>\n",
       "      <th>3</th>\n",
       "      <td>Good</td>\n",
       "      <td>0.135047</td>\n",
       "      <td>0.190330</td>\n",
       "      <td>0.185027</td>\n",
       "      <td>0.177275</td>\n",
       "      <td>0.143207</td>\n",
       "      <td>0.106487</td>\n",
       "      <td>0.062627</td>\n",
       "    </tr>\n",
       "    <tr>\n",
       "      <th>4</th>\n",
       "      <td>Fair</td>\n",
       "      <td>0.101494</td>\n",
       "      <td>0.139477</td>\n",
       "      <td>0.194271</td>\n",
       "      <td>0.194894</td>\n",
       "      <td>0.188045</td>\n",
       "      <td>0.108966</td>\n",
       "      <td>0.072852</td>\n",
       "    </tr>\n",
       "  </tbody>\n",
       "</table>\n",
       "</div>\n",
       "      <button class=\"colab-df-convert\" onclick=\"convertToInteractive('df-2092ee02-0f6d-44d4-b46c-b2393dc25369')\"\n",
       "              title=\"Convert this dataframe to an interactive table.\"\n",
       "              style=\"display:none;\">\n",
       "        \n",
       "  <svg xmlns=\"http://www.w3.org/2000/svg\" height=\"24px\"viewBox=\"0 0 24 24\"\n",
       "       width=\"24px\">\n",
       "    <path d=\"M0 0h24v24H0V0z\" fill=\"none\"/>\n",
       "    <path d=\"M18.56 5.44l.94 2.06.94-2.06 2.06-.94-2.06-.94-.94-2.06-.94 2.06-2.06.94zm-11 1L8.5 8.5l.94-2.06 2.06-.94-2.06-.94L8.5 2.5l-.94 2.06-2.06.94zm10 10l.94 2.06.94-2.06 2.06-.94-2.06-.94-.94-2.06-.94 2.06-2.06.94z\"/><path d=\"M17.41 7.96l-1.37-1.37c-.4-.4-.92-.59-1.43-.59-.52 0-1.04.2-1.43.59L10.3 9.45l-7.72 7.72c-.78.78-.78 2.05 0 2.83L4 21.41c.39.39.9.59 1.41.59.51 0 1.02-.2 1.41-.59l7.78-7.78 2.81-2.81c.8-.78.8-2.07 0-2.86zM5.41 20L4 18.59l7.72-7.72 1.47 1.35L5.41 20z\"/>\n",
       "  </svg>\n",
       "      </button>\n",
       "      \n",
       "  <style>\n",
       "    .colab-df-container {\n",
       "      display:flex;\n",
       "      flex-wrap:wrap;\n",
       "      gap: 12px;\n",
       "    }\n",
       "\n",
       "    .colab-df-convert {\n",
       "      background-color: #E8F0FE;\n",
       "      border: none;\n",
       "      border-radius: 50%;\n",
       "      cursor: pointer;\n",
       "      display: none;\n",
       "      fill: #1967D2;\n",
       "      height: 32px;\n",
       "      padding: 0 0 0 0;\n",
       "      width: 32px;\n",
       "    }\n",
       "\n",
       "    .colab-df-convert:hover {\n",
       "      background-color: #E2EBFA;\n",
       "      box-shadow: 0px 1px 2px rgba(60, 64, 67, 0.3), 0px 1px 3px 1px rgba(60, 64, 67, 0.15);\n",
       "      fill: #174EA6;\n",
       "    }\n",
       "\n",
       "    [theme=dark] .colab-df-convert {\n",
       "      background-color: #3B4455;\n",
       "      fill: #D2E3FC;\n",
       "    }\n",
       "\n",
       "    [theme=dark] .colab-df-convert:hover {\n",
       "      background-color: #434B5C;\n",
       "      box-shadow: 0px 1px 3px 1px rgba(0, 0, 0, 0.15);\n",
       "      filter: drop-shadow(0px 1px 2px rgba(0, 0, 0, 0.3));\n",
       "      fill: #FFFFFF;\n",
       "    }\n",
       "  </style>\n",
       "\n",
       "      <script>\n",
       "        const buttonEl =\n",
       "          document.querySelector('#df-2092ee02-0f6d-44d4-b46c-b2393dc25369 button.colab-df-convert');\n",
       "        buttonEl.style.display =\n",
       "          google.colab.kernel.accessAllowed ? 'block' : 'none';\n",
       "\n",
       "        async function convertToInteractive(key) {\n",
       "          const element = document.querySelector('#df-2092ee02-0f6d-44d4-b46c-b2393dc25369');\n",
       "          const dataTable =\n",
       "            await google.colab.kernel.invokeFunction('convertToInteractive',\n",
       "                                                     [key], {});\n",
       "          if (!dataTable) return;\n",
       "\n",
       "          const docLinkHtml = 'Like what you see? Visit the ' +\n",
       "            '<a target=\"_blank\" href=https://colab.research.google.com/notebooks/data_table.ipynb>data table notebook</a>'\n",
       "            + ' to learn more about interactive tables.';\n",
       "          element.innerHTML = '';\n",
       "          dataTable['output_type'] = 'display_data';\n",
       "          await google.colab.output.renderOutput(dataTable, element);\n",
       "          const docLink = document.createElement('div');\n",
       "          docLink.innerHTML = docLinkHtml;\n",
       "          element.appendChild(docLink);\n",
       "        }\n",
       "      </script>\n",
       "    </div>\n",
       "  </div>\n",
       "  "
      ],
      "text/plain": [
       "color        cut         D         E         F         G         H         I  \\\n",
       "0          Ideal  0.131526  0.181092  0.177519  0.226574  0.144568  0.097136   \n",
       "1        Premium  0.116281  0.169631  0.169122  0.212020  0.170864  0.103506   \n",
       "2      Very Good  0.125259  0.198609  0.179154  0.190330  0.150923  0.099594   \n",
       "3           Good  0.135047  0.190330  0.185027  0.177275  0.143207  0.106487   \n",
       "4           Fair  0.101494  0.139477  0.194271  0.194894  0.188045  0.108966   \n",
       "\n",
       "color         J  \n",
       "0      0.041584  \n",
       "1      0.058576  \n",
       "2      0.056130  \n",
       "3      0.062627  \n",
       "4      0.072852  "
      ]
     },
     "metadata": {},
     "output_type": "display_data"
    },
    {
     "name": "stdout",
     "output_type": "stream",
     "text": [
      "color*clarityの出現割合\n"
     ]
    },
    {
     "data": {
      "text/html": [
       "\n",
       "  <div id=\"df-ba1b894c-e543-4683-a227-acb5216ebdad\">\n",
       "    <div class=\"colab-df-container\">\n",
       "      <div>\n",
       "<style scoped>\n",
       "    .dataframe tbody tr th:only-of-type {\n",
       "        vertical-align: middle;\n",
       "    }\n",
       "\n",
       "    .dataframe tbody tr th {\n",
       "        vertical-align: top;\n",
       "    }\n",
       "\n",
       "    .dataframe thead th {\n",
       "        text-align: right;\n",
       "    }\n",
       "</style>\n",
       "<table border=\"1\" class=\"dataframe\">\n",
       "  <thead>\n",
       "    <tr style=\"text-align: right;\">\n",
       "      <th>clarity</th>\n",
       "      <th>color</th>\n",
       "      <th>IF</th>\n",
       "      <th>VVS1</th>\n",
       "      <th>VVS2</th>\n",
       "      <th>VS1</th>\n",
       "      <th>VS2</th>\n",
       "      <th>SI1</th>\n",
       "      <th>SI2</th>\n",
       "      <th>I1</th>\n",
       "    </tr>\n",
       "  </thead>\n",
       "  <tbody>\n",
       "    <tr>\n",
       "      <th>0</th>\n",
       "      <td>D</td>\n",
       "      <td>0.010776</td>\n",
       "      <td>0.037053</td>\n",
       "      <td>0.081636</td>\n",
       "      <td>0.104074</td>\n",
       "      <td>0.250517</td>\n",
       "      <td>0.307499</td>\n",
       "      <td>0.202244</td>\n",
       "      <td>0.006200</td>\n",
       "    </tr>\n",
       "    <tr>\n",
       "      <th>1</th>\n",
       "      <td>E</td>\n",
       "      <td>0.016131</td>\n",
       "      <td>0.066973</td>\n",
       "      <td>0.101174</td>\n",
       "      <td>0.130577</td>\n",
       "      <td>0.252169</td>\n",
       "      <td>0.247677</td>\n",
       "      <td>0.174885</td>\n",
       "      <td>0.010413</td>\n",
       "    </tr>\n",
       "    <tr>\n",
       "      <th>2</th>\n",
       "      <td>F</td>\n",
       "      <td>0.040365</td>\n",
       "      <td>0.076955</td>\n",
       "      <td>0.102223</td>\n",
       "      <td>0.143007</td>\n",
       "      <td>0.230761</td>\n",
       "      <td>0.223422</td>\n",
       "      <td>0.168274</td>\n",
       "      <td>0.014993</td>\n",
       "    </tr>\n",
       "    <tr>\n",
       "      <th>3</th>\n",
       "      <td>G</td>\n",
       "      <td>0.060351</td>\n",
       "      <td>0.088532</td>\n",
       "      <td>0.127880</td>\n",
       "      <td>0.190269</td>\n",
       "      <td>0.207816</td>\n",
       "      <td>0.175115</td>\n",
       "      <td>0.136920</td>\n",
       "      <td>0.013116</td>\n",
       "    </tr>\n",
       "    <tr>\n",
       "      <th>4</th>\n",
       "      <td>H</td>\n",
       "      <td>0.036041</td>\n",
       "      <td>0.070516</td>\n",
       "      <td>0.073288</td>\n",
       "      <td>0.140911</td>\n",
       "      <td>0.197806</td>\n",
       "      <td>0.274108</td>\n",
       "      <td>0.188042</td>\n",
       "      <td>0.019286</td>\n",
       "    </tr>\n",
       "    <tr>\n",
       "      <th>5</th>\n",
       "      <td>I</td>\n",
       "      <td>0.026389</td>\n",
       "      <td>0.065510</td>\n",
       "      <td>0.067356</td>\n",
       "      <td>0.177524</td>\n",
       "      <td>0.215722</td>\n",
       "      <td>0.262595</td>\n",
       "      <td>0.168297</td>\n",
       "      <td>0.016608</td>\n",
       "    </tr>\n",
       "    <tr>\n",
       "      <th>6</th>\n",
       "      <td>J</td>\n",
       "      <td>0.018182</td>\n",
       "      <td>0.026381</td>\n",
       "      <td>0.046702</td>\n",
       "      <td>0.193226</td>\n",
       "      <td>0.260606</td>\n",
       "      <td>0.267380</td>\n",
       "      <td>0.170766</td>\n",
       "      <td>0.016756</td>\n",
       "    </tr>\n",
       "  </tbody>\n",
       "</table>\n",
       "</div>\n",
       "      <button class=\"colab-df-convert\" onclick=\"convertToInteractive('df-ba1b894c-e543-4683-a227-acb5216ebdad')\"\n",
       "              title=\"Convert this dataframe to an interactive table.\"\n",
       "              style=\"display:none;\">\n",
       "        \n",
       "  <svg xmlns=\"http://www.w3.org/2000/svg\" height=\"24px\"viewBox=\"0 0 24 24\"\n",
       "       width=\"24px\">\n",
       "    <path d=\"M0 0h24v24H0V0z\" fill=\"none\"/>\n",
       "    <path d=\"M18.56 5.44l.94 2.06.94-2.06 2.06-.94-2.06-.94-.94-2.06-.94 2.06-2.06.94zm-11 1L8.5 8.5l.94-2.06 2.06-.94-2.06-.94L8.5 2.5l-.94 2.06-2.06.94zm10 10l.94 2.06.94-2.06 2.06-.94-2.06-.94-.94-2.06-.94 2.06-2.06.94z\"/><path d=\"M17.41 7.96l-1.37-1.37c-.4-.4-.92-.59-1.43-.59-.52 0-1.04.2-1.43.59L10.3 9.45l-7.72 7.72c-.78.78-.78 2.05 0 2.83L4 21.41c.39.39.9.59 1.41.59.51 0 1.02-.2 1.41-.59l7.78-7.78 2.81-2.81c.8-.78.8-2.07 0-2.86zM5.41 20L4 18.59l7.72-7.72 1.47 1.35L5.41 20z\"/>\n",
       "  </svg>\n",
       "      </button>\n",
       "      \n",
       "  <style>\n",
       "    .colab-df-container {\n",
       "      display:flex;\n",
       "      flex-wrap:wrap;\n",
       "      gap: 12px;\n",
       "    }\n",
       "\n",
       "    .colab-df-convert {\n",
       "      background-color: #E8F0FE;\n",
       "      border: none;\n",
       "      border-radius: 50%;\n",
       "      cursor: pointer;\n",
       "      display: none;\n",
       "      fill: #1967D2;\n",
       "      height: 32px;\n",
       "      padding: 0 0 0 0;\n",
       "      width: 32px;\n",
       "    }\n",
       "\n",
       "    .colab-df-convert:hover {\n",
       "      background-color: #E2EBFA;\n",
       "      box-shadow: 0px 1px 2px rgba(60, 64, 67, 0.3), 0px 1px 3px 1px rgba(60, 64, 67, 0.15);\n",
       "      fill: #174EA6;\n",
       "    }\n",
       "\n",
       "    [theme=dark] .colab-df-convert {\n",
       "      background-color: #3B4455;\n",
       "      fill: #D2E3FC;\n",
       "    }\n",
       "\n",
       "    [theme=dark] .colab-df-convert:hover {\n",
       "      background-color: #434B5C;\n",
       "      box-shadow: 0px 1px 3px 1px rgba(0, 0, 0, 0.15);\n",
       "      filter: drop-shadow(0px 1px 2px rgba(0, 0, 0, 0.3));\n",
       "      fill: #FFFFFF;\n",
       "    }\n",
       "  </style>\n",
       "\n",
       "      <script>\n",
       "        const buttonEl =\n",
       "          document.querySelector('#df-ba1b894c-e543-4683-a227-acb5216ebdad button.colab-df-convert');\n",
       "        buttonEl.style.display =\n",
       "          google.colab.kernel.accessAllowed ? 'block' : 'none';\n",
       "\n",
       "        async function convertToInteractive(key) {\n",
       "          const element = document.querySelector('#df-ba1b894c-e543-4683-a227-acb5216ebdad');\n",
       "          const dataTable =\n",
       "            await google.colab.kernel.invokeFunction('convertToInteractive',\n",
       "                                                     [key], {});\n",
       "          if (!dataTable) return;\n",
       "\n",
       "          const docLinkHtml = 'Like what you see? Visit the ' +\n",
       "            '<a target=\"_blank\" href=https://colab.research.google.com/notebooks/data_table.ipynb>data table notebook</a>'\n",
       "            + ' to learn more about interactive tables.';\n",
       "          element.innerHTML = '';\n",
       "          dataTable['output_type'] = 'display_data';\n",
       "          await google.colab.output.renderOutput(dataTable, element);\n",
       "          const docLink = document.createElement('div');\n",
       "          docLink.innerHTML = docLinkHtml;\n",
       "          element.appendChild(docLink);\n",
       "        }\n",
       "      </script>\n",
       "    </div>\n",
       "  </div>\n",
       "  "
      ],
      "text/plain": [
       "clarity color        IF      VVS1      VVS2       VS1       VS2       SI1  \\\n",
       "0           D  0.010776  0.037053  0.081636  0.104074  0.250517  0.307499   \n",
       "1           E  0.016131  0.066973  0.101174  0.130577  0.252169  0.247677   \n",
       "2           F  0.040365  0.076955  0.102223  0.143007  0.230761  0.223422   \n",
       "3           G  0.060351  0.088532  0.127880  0.190269  0.207816  0.175115   \n",
       "4           H  0.036041  0.070516  0.073288  0.140911  0.197806  0.274108   \n",
       "5           I  0.026389  0.065510  0.067356  0.177524  0.215722  0.262595   \n",
       "6           J  0.018182  0.026381  0.046702  0.193226  0.260606  0.267380   \n",
       "\n",
       "clarity       SI2        I1  \n",
       "0        0.202244  0.006200  \n",
       "1        0.174885  0.010413  \n",
       "2        0.168274  0.014993  \n",
       "3        0.136920  0.013116  \n",
       "4        0.188042  0.019286  \n",
       "5        0.168297  0.016608  \n",
       "6        0.170766  0.016756  "
      ]
     },
     "metadata": {},
     "output_type": "display_data"
    },
    {
     "name": "stdout",
     "output_type": "stream",
     "text": [
      "clarity*cutの出現割合\n"
     ]
    },
    {
     "data": {
      "text/html": [
       "\n",
       "  <div id=\"df-2cf473e3-db7c-4e15-86e5-1d782e97f6c3\">\n",
       "    <div class=\"colab-df-container\">\n",
       "      <div>\n",
       "<style scoped>\n",
       "    .dataframe tbody tr th:only-of-type {\n",
       "        vertical-align: middle;\n",
       "    }\n",
       "\n",
       "    .dataframe tbody tr th {\n",
       "        vertical-align: top;\n",
       "    }\n",
       "\n",
       "    .dataframe thead th {\n",
       "        text-align: right;\n",
       "    }\n",
       "</style>\n",
       "<table border=\"1\" class=\"dataframe\">\n",
       "  <thead>\n",
       "    <tr style=\"text-align: right;\">\n",
       "      <th>cut</th>\n",
       "      <th>clarity</th>\n",
       "      <th>Ideal</th>\n",
       "      <th>Premium</th>\n",
       "      <th>Very Good</th>\n",
       "      <th>Good</th>\n",
       "      <th>Fair</th>\n",
       "    </tr>\n",
       "  </thead>\n",
       "  <tbody>\n",
       "    <tr>\n",
       "      <th>0</th>\n",
       "      <td>I1</td>\n",
       "      <td>0.199454</td>\n",
       "      <td>0.274590</td>\n",
       "      <td>0.113388</td>\n",
       "      <td>0.129781</td>\n",
       "      <td>0.282787</td>\n",
       "    </tr>\n",
       "    <tr>\n",
       "      <th>1</th>\n",
       "      <td>IF</td>\n",
       "      <td>0.677095</td>\n",
       "      <td>0.128492</td>\n",
       "      <td>0.149721</td>\n",
       "      <td>0.039665</td>\n",
       "      <td>0.005028</td>\n",
       "    </tr>\n",
       "    <tr>\n",
       "      <th>2</th>\n",
       "      <td>SI1</td>\n",
       "      <td>0.327796</td>\n",
       "      <td>0.273521</td>\n",
       "      <td>0.248029</td>\n",
       "      <td>0.119421</td>\n",
       "      <td>0.031233</td>\n",
       "    </tr>\n",
       "    <tr>\n",
       "      <th>3</th>\n",
       "      <td>SI2</td>\n",
       "      <td>0.282774</td>\n",
       "      <td>0.320449</td>\n",
       "      <td>0.228659</td>\n",
       "      <td>0.117378</td>\n",
       "      <td>0.050740</td>\n",
       "    </tr>\n",
       "    <tr>\n",
       "      <th>4</th>\n",
       "      <td>VS1</td>\n",
       "      <td>0.439275</td>\n",
       "      <td>0.243511</td>\n",
       "      <td>0.217189</td>\n",
       "      <td>0.079334</td>\n",
       "      <td>0.020690</td>\n",
       "    </tr>\n",
       "    <tr>\n",
       "      <th>5</th>\n",
       "      <td>VS2</td>\n",
       "      <td>0.413661</td>\n",
       "      <td>0.273870</td>\n",
       "      <td>0.211360</td>\n",
       "      <td>0.079811</td>\n",
       "      <td>0.021299</td>\n",
       "    </tr>\n",
       "    <tr>\n",
       "      <th>6</th>\n",
       "      <td>VVS1</td>\n",
       "      <td>0.560208</td>\n",
       "      <td>0.168309</td>\n",
       "      <td>0.215928</td>\n",
       "      <td>0.050903</td>\n",
       "      <td>0.004652</td>\n",
       "    </tr>\n",
       "    <tr>\n",
       "      <th>7</th>\n",
       "      <td>VVS2</td>\n",
       "      <td>0.514410</td>\n",
       "      <td>0.171733</td>\n",
       "      <td>0.243782</td>\n",
       "      <td>0.056455</td>\n",
       "      <td>0.013620</td>\n",
       "    </tr>\n",
       "  </tbody>\n",
       "</table>\n",
       "</div>\n",
       "      <button class=\"colab-df-convert\" onclick=\"convertToInteractive('df-2cf473e3-db7c-4e15-86e5-1d782e97f6c3')\"\n",
       "              title=\"Convert this dataframe to an interactive table.\"\n",
       "              style=\"display:none;\">\n",
       "        \n",
       "  <svg xmlns=\"http://www.w3.org/2000/svg\" height=\"24px\"viewBox=\"0 0 24 24\"\n",
       "       width=\"24px\">\n",
       "    <path d=\"M0 0h24v24H0V0z\" fill=\"none\"/>\n",
       "    <path d=\"M18.56 5.44l.94 2.06.94-2.06 2.06-.94-2.06-.94-.94-2.06-.94 2.06-2.06.94zm-11 1L8.5 8.5l.94-2.06 2.06-.94-2.06-.94L8.5 2.5l-.94 2.06-2.06.94zm10 10l.94 2.06.94-2.06 2.06-.94-2.06-.94-.94-2.06-.94 2.06-2.06.94z\"/><path d=\"M17.41 7.96l-1.37-1.37c-.4-.4-.92-.59-1.43-.59-.52 0-1.04.2-1.43.59L10.3 9.45l-7.72 7.72c-.78.78-.78 2.05 0 2.83L4 21.41c.39.39.9.59 1.41.59.51 0 1.02-.2 1.41-.59l7.78-7.78 2.81-2.81c.8-.78.8-2.07 0-2.86zM5.41 20L4 18.59l7.72-7.72 1.47 1.35L5.41 20z\"/>\n",
       "  </svg>\n",
       "      </button>\n",
       "      \n",
       "  <style>\n",
       "    .colab-df-container {\n",
       "      display:flex;\n",
       "      flex-wrap:wrap;\n",
       "      gap: 12px;\n",
       "    }\n",
       "\n",
       "    .colab-df-convert {\n",
       "      background-color: #E8F0FE;\n",
       "      border: none;\n",
       "      border-radius: 50%;\n",
       "      cursor: pointer;\n",
       "      display: none;\n",
       "      fill: #1967D2;\n",
       "      height: 32px;\n",
       "      padding: 0 0 0 0;\n",
       "      width: 32px;\n",
       "    }\n",
       "\n",
       "    .colab-df-convert:hover {\n",
       "      background-color: #E2EBFA;\n",
       "      box-shadow: 0px 1px 2px rgba(60, 64, 67, 0.3), 0px 1px 3px 1px rgba(60, 64, 67, 0.15);\n",
       "      fill: #174EA6;\n",
       "    }\n",
       "\n",
       "    [theme=dark] .colab-df-convert {\n",
       "      background-color: #3B4455;\n",
       "      fill: #D2E3FC;\n",
       "    }\n",
       "\n",
       "    [theme=dark] .colab-df-convert:hover {\n",
       "      background-color: #434B5C;\n",
       "      box-shadow: 0px 1px 3px 1px rgba(0, 0, 0, 0.15);\n",
       "      filter: drop-shadow(0px 1px 2px rgba(0, 0, 0, 0.3));\n",
       "      fill: #FFFFFF;\n",
       "    }\n",
       "  </style>\n",
       "\n",
       "      <script>\n",
       "        const buttonEl =\n",
       "          document.querySelector('#df-2cf473e3-db7c-4e15-86e5-1d782e97f6c3 button.colab-df-convert');\n",
       "        buttonEl.style.display =\n",
       "          google.colab.kernel.accessAllowed ? 'block' : 'none';\n",
       "\n",
       "        async function convertToInteractive(key) {\n",
       "          const element = document.querySelector('#df-2cf473e3-db7c-4e15-86e5-1d782e97f6c3');\n",
       "          const dataTable =\n",
       "            await google.colab.kernel.invokeFunction('convertToInteractive',\n",
       "                                                     [key], {});\n",
       "          if (!dataTable) return;\n",
       "\n",
       "          const docLinkHtml = 'Like what you see? Visit the ' +\n",
       "            '<a target=\"_blank\" href=https://colab.research.google.com/notebooks/data_table.ipynb>data table notebook</a>'\n",
       "            + ' to learn more about interactive tables.';\n",
       "          element.innerHTML = '';\n",
       "          dataTable['output_type'] = 'display_data';\n",
       "          await google.colab.output.renderOutput(dataTable, element);\n",
       "          const docLink = document.createElement('div');\n",
       "          docLink.innerHTML = docLinkHtml;\n",
       "          element.appendChild(docLink);\n",
       "        }\n",
       "      </script>\n",
       "    </div>\n",
       "  </div>\n",
       "  "
      ],
      "text/plain": [
       "cut clarity     Ideal   Premium  Very Good      Good      Fair\n",
       "0        I1  0.199454  0.274590   0.113388  0.129781  0.282787\n",
       "1        IF  0.677095  0.128492   0.149721  0.039665  0.005028\n",
       "2       SI1  0.327796  0.273521   0.248029  0.119421  0.031233\n",
       "3       SI2  0.282774  0.320449   0.228659  0.117378  0.050740\n",
       "4       VS1  0.439275  0.243511   0.217189  0.079334  0.020690\n",
       "5       VS2  0.413661  0.273870   0.211360  0.079811  0.021299\n",
       "6      VVS1  0.560208  0.168309   0.215928  0.050903  0.004652\n",
       "7      VVS2  0.514410  0.171733   0.243782  0.056455  0.013620"
      ]
     },
     "metadata": {},
     "output_type": "display_data"
    },
    {
     "data": {
      "text/html": [
       "\n",
       "  <div id=\"df-21212444-a7de-4864-b51b-15d2f0891cc2\">\n",
       "    <div class=\"colab-df-container\">\n",
       "      <div>\n",
       "<style scoped>\n",
       "    .dataframe tbody tr th:only-of-type {\n",
       "        vertical-align: middle;\n",
       "    }\n",
       "\n",
       "    .dataframe tbody tr th {\n",
       "        vertical-align: top;\n",
       "    }\n",
       "\n",
       "    .dataframe thead th {\n",
       "        text-align: right;\n",
       "    }\n",
       "</style>\n",
       "<table border=\"1\" class=\"dataframe\">\n",
       "  <thead>\n",
       "    <tr style=\"text-align: right;\">\n",
       "      <th></th>\n",
       "      <th>carat</th>\n",
       "      <th>cut</th>\n",
       "      <th>color</th>\n",
       "      <th>clarity</th>\n",
       "      <th>depth</th>\n",
       "      <th>table</th>\n",
       "      <th>x</th>\n",
       "      <th>y</th>\n",
       "      <th>z</th>\n",
       "      <th>density</th>\n",
       "      <th>...</th>\n",
       "      <th>carat/median_carat_by_cut</th>\n",
       "      <th>median_carat_by_color</th>\n",
       "      <th>carat-median_carat_by_color</th>\n",
       "      <th>carat/median_carat_by_color</th>\n",
       "      <th>median_carat_by_clarity</th>\n",
       "      <th>carat-median_carat_by_clarity</th>\n",
       "      <th>carat/median_carat_by_clarity</th>\n",
       "      <th>rate_cut*color</th>\n",
       "      <th>rate_color*clarity</th>\n",
       "      <th>rate_clarity*cut</th>\n",
       "    </tr>\n",
       "  </thead>\n",
       "  <tbody>\n",
       "    <tr>\n",
       "      <th>0</th>\n",
       "      <td>0.23</td>\n",
       "      <td>Ideal</td>\n",
       "      <td>E</td>\n",
       "      <td>SI2</td>\n",
       "      <td>61.5</td>\n",
       "      <td>55.0</td>\n",
       "      <td>3.95</td>\n",
       "      <td>3.98</td>\n",
       "      <td>2.43</td>\n",
       "      <td>0.006021</td>\n",
       "      <td>...</td>\n",
       "      <td>0.425926</td>\n",
       "      <td>0.53</td>\n",
       "      <td>-0.30</td>\n",
       "      <td>0.433962</td>\n",
       "      <td>1.01</td>\n",
       "      <td>-0.78</td>\n",
       "      <td>0.227723</td>\n",
       "      <td>0.181092</td>\n",
       "      <td>0.174885</td>\n",
       "      <td>0.282774</td>\n",
       "    </tr>\n",
       "    <tr>\n",
       "      <th>1</th>\n",
       "      <td>0.21</td>\n",
       "      <td>Premium</td>\n",
       "      <td>E</td>\n",
       "      <td>SI1</td>\n",
       "      <td>59.8</td>\n",
       "      <td>61.0</td>\n",
       "      <td>3.89</td>\n",
       "      <td>3.84</td>\n",
       "      <td>2.31</td>\n",
       "      <td>0.006086</td>\n",
       "      <td>...</td>\n",
       "      <td>0.247059</td>\n",
       "      <td>0.53</td>\n",
       "      <td>-0.32</td>\n",
       "      <td>0.396226</td>\n",
       "      <td>0.76</td>\n",
       "      <td>-0.55</td>\n",
       "      <td>0.276316</td>\n",
       "      <td>0.169631</td>\n",
       "      <td>0.247677</td>\n",
       "      <td>0.273521</td>\n",
       "    </tr>\n",
       "    <tr>\n",
       "      <th>2</th>\n",
       "      <td>0.23</td>\n",
       "      <td>Good</td>\n",
       "      <td>E</td>\n",
       "      <td>VS1</td>\n",
       "      <td>56.9</td>\n",
       "      <td>65.0</td>\n",
       "      <td>4.05</td>\n",
       "      <td>4.07</td>\n",
       "      <td>2.31</td>\n",
       "      <td>0.006040</td>\n",
       "      <td>...</td>\n",
       "      <td>0.280488</td>\n",
       "      <td>0.53</td>\n",
       "      <td>-0.30</td>\n",
       "      <td>0.433962</td>\n",
       "      <td>0.57</td>\n",
       "      <td>-0.34</td>\n",
       "      <td>0.403509</td>\n",
       "      <td>0.190330</td>\n",
       "      <td>0.130577</td>\n",
       "      <td>0.079334</td>\n",
       "    </tr>\n",
       "    <tr>\n",
       "      <th>3</th>\n",
       "      <td>0.29</td>\n",
       "      <td>Premium</td>\n",
       "      <td>I</td>\n",
       "      <td>VS2</td>\n",
       "      <td>62.4</td>\n",
       "      <td>58.0</td>\n",
       "      <td>4.20</td>\n",
       "      <td>4.23</td>\n",
       "      <td>2.63</td>\n",
       "      <td>0.006207</td>\n",
       "      <td>...</td>\n",
       "      <td>0.341176</td>\n",
       "      <td>1.00</td>\n",
       "      <td>-0.71</td>\n",
       "      <td>0.290000</td>\n",
       "      <td>0.63</td>\n",
       "      <td>-0.34</td>\n",
       "      <td>0.460317</td>\n",
       "      <td>0.103506</td>\n",
       "      <td>0.215722</td>\n",
       "      <td>0.273870</td>\n",
       "    </tr>\n",
       "    <tr>\n",
       "      <th>4</th>\n",
       "      <td>0.31</td>\n",
       "      <td>Good</td>\n",
       "      <td>J</td>\n",
       "      <td>SI2</td>\n",
       "      <td>63.3</td>\n",
       "      <td>58.0</td>\n",
       "      <td>4.34</td>\n",
       "      <td>4.35</td>\n",
       "      <td>2.75</td>\n",
       "      <td>0.005971</td>\n",
       "      <td>...</td>\n",
       "      <td>0.378049</td>\n",
       "      <td>1.11</td>\n",
       "      <td>-0.80</td>\n",
       "      <td>0.279279</td>\n",
       "      <td>1.01</td>\n",
       "      <td>-0.70</td>\n",
       "      <td>0.306931</td>\n",
       "      <td>0.062627</td>\n",
       "      <td>0.170766</td>\n",
       "      <td>0.117378</td>\n",
       "    </tr>\n",
       "  </tbody>\n",
       "</table>\n",
       "<p>5 rows × 31 columns</p>\n",
       "</div>\n",
       "      <button class=\"colab-df-convert\" onclick=\"convertToInteractive('df-21212444-a7de-4864-b51b-15d2f0891cc2')\"\n",
       "              title=\"Convert this dataframe to an interactive table.\"\n",
       "              style=\"display:none;\">\n",
       "        \n",
       "  <svg xmlns=\"http://www.w3.org/2000/svg\" height=\"24px\"viewBox=\"0 0 24 24\"\n",
       "       width=\"24px\">\n",
       "    <path d=\"M0 0h24v24H0V0z\" fill=\"none\"/>\n",
       "    <path d=\"M18.56 5.44l.94 2.06.94-2.06 2.06-.94-2.06-.94-.94-2.06-.94 2.06-2.06.94zm-11 1L8.5 8.5l.94-2.06 2.06-.94-2.06-.94L8.5 2.5l-.94 2.06-2.06.94zm10 10l.94 2.06.94-2.06 2.06-.94-2.06-.94-.94-2.06-.94 2.06-2.06.94z\"/><path d=\"M17.41 7.96l-1.37-1.37c-.4-.4-.92-.59-1.43-.59-.52 0-1.04.2-1.43.59L10.3 9.45l-7.72 7.72c-.78.78-.78 2.05 0 2.83L4 21.41c.39.39.9.59 1.41.59.51 0 1.02-.2 1.41-.59l7.78-7.78 2.81-2.81c.8-.78.8-2.07 0-2.86zM5.41 20L4 18.59l7.72-7.72 1.47 1.35L5.41 20z\"/>\n",
       "  </svg>\n",
       "      </button>\n",
       "      \n",
       "  <style>\n",
       "    .colab-df-container {\n",
       "      display:flex;\n",
       "      flex-wrap:wrap;\n",
       "      gap: 12px;\n",
       "    }\n",
       "\n",
       "    .colab-df-convert {\n",
       "      background-color: #E8F0FE;\n",
       "      border: none;\n",
       "      border-radius: 50%;\n",
       "      cursor: pointer;\n",
       "      display: none;\n",
       "      fill: #1967D2;\n",
       "      height: 32px;\n",
       "      padding: 0 0 0 0;\n",
       "      width: 32px;\n",
       "    }\n",
       "\n",
       "    .colab-df-convert:hover {\n",
       "      background-color: #E2EBFA;\n",
       "      box-shadow: 0px 1px 2px rgba(60, 64, 67, 0.3), 0px 1px 3px 1px rgba(60, 64, 67, 0.15);\n",
       "      fill: #174EA6;\n",
       "    }\n",
       "\n",
       "    [theme=dark] .colab-df-convert {\n",
       "      background-color: #3B4455;\n",
       "      fill: #D2E3FC;\n",
       "    }\n",
       "\n",
       "    [theme=dark] .colab-df-convert:hover {\n",
       "      background-color: #434B5C;\n",
       "      box-shadow: 0px 1px 3px 1px rgba(0, 0, 0, 0.15);\n",
       "      filter: drop-shadow(0px 1px 2px rgba(0, 0, 0, 0.3));\n",
       "      fill: #FFFFFF;\n",
       "    }\n",
       "  </style>\n",
       "\n",
       "      <script>\n",
       "        const buttonEl =\n",
       "          document.querySelector('#df-21212444-a7de-4864-b51b-15d2f0891cc2 button.colab-df-convert');\n",
       "        buttonEl.style.display =\n",
       "          google.colab.kernel.accessAllowed ? 'block' : 'none';\n",
       "\n",
       "        async function convertToInteractive(key) {\n",
       "          const element = document.querySelector('#df-21212444-a7de-4864-b51b-15d2f0891cc2');\n",
       "          const dataTable =\n",
       "            await google.colab.kernel.invokeFunction('convertToInteractive',\n",
       "                                                     [key], {});\n",
       "          if (!dataTable) return;\n",
       "\n",
       "          const docLinkHtml = 'Like what you see? Visit the ' +\n",
       "            '<a target=\"_blank\" href=https://colab.research.google.com/notebooks/data_table.ipynb>data table notebook</a>'\n",
       "            + ' to learn more about interactive tables.';\n",
       "          element.innerHTML = '';\n",
       "          dataTable['output_type'] = 'display_data';\n",
       "          await google.colab.output.renderOutput(dataTable, element);\n",
       "          const docLink = document.createElement('div');\n",
       "          docLink.innerHTML = docLinkHtml;\n",
       "          element.appendChild(docLink);\n",
       "        }\n",
       "      </script>\n",
       "    </div>\n",
       "  </div>\n",
       "  "
      ],
      "text/plain": [
       "   carat      cut color clarity  depth  table     x     y     z   density  \\\n",
       "0   0.23    Ideal     E     SI2   61.5   55.0  3.95  3.98  2.43  0.006021   \n",
       "1   0.21  Premium     E     SI1   59.8   61.0  3.89  3.84  2.31  0.006086   \n",
       "2   0.23     Good     E     VS1   56.9   65.0  4.05  4.07  2.31  0.006040   \n",
       "3   0.29  Premium     I     VS2   62.4   58.0  4.20  4.23  2.63  0.006207   \n",
       "4   0.31     Good     J     SI2   63.3   58.0  4.34  4.35  2.75  0.005971   \n",
       "\n",
       "   ...  carat/median_carat_by_cut  median_carat_by_color  \\\n",
       "0  ...                   0.425926                   0.53   \n",
       "1  ...                   0.247059                   0.53   \n",
       "2  ...                   0.280488                   0.53   \n",
       "3  ...                   0.341176                   1.00   \n",
       "4  ...                   0.378049                   1.11   \n",
       "\n",
       "   carat-median_carat_by_color  carat/median_carat_by_color  \\\n",
       "0                        -0.30                     0.433962   \n",
       "1                        -0.32                     0.396226   \n",
       "2                        -0.30                     0.433962   \n",
       "3                        -0.71                     0.290000   \n",
       "4                        -0.80                     0.279279   \n",
       "\n",
       "   median_carat_by_clarity  carat-median_carat_by_clarity  \\\n",
       "0                     1.01                          -0.78   \n",
       "1                     0.76                          -0.55   \n",
       "2                     0.57                          -0.34   \n",
       "3                     0.63                          -0.34   \n",
       "4                     1.01                          -0.70   \n",
       "\n",
       "   carat/median_carat_by_clarity  rate_cut*color  rate_color*clarity  \\\n",
       "0                       0.227723        0.181092            0.174885   \n",
       "1                       0.276316        0.169631            0.247677   \n",
       "2                       0.403509        0.190330            0.130577   \n",
       "3                       0.460317        0.103506            0.215722   \n",
       "4                       0.306931        0.062627            0.170766   \n",
       "\n",
       "   rate_clarity*cut  \n",
       "0          0.282774  \n",
       "1          0.273521  \n",
       "2          0.079334  \n",
       "3          0.273870  \n",
       "4          0.117378  \n",
       "\n",
       "[5 rows x 31 columns]"
      ]
     },
     "metadata": {},
     "output_type": "display_data"
    }
   ],
   "source": [
    "# カテゴリ変数×カテゴリ変数の特徴量エンジニアリング\n",
    "\n",
    "# cut*colorの出現割合\n",
    "X_tbl = pd.crosstab(X['cut'], X['color'], normalize='index')\n",
    "X_tbl = X_tbl.reset_index()\n",
    "print('cut*colorの出現割合')\n",
    "display(X_tbl)\n",
    "X_tbl = pd.melt(X_tbl, id_vars='cut', value_name='rate_cut*color')\n",
    "X = pd.merge(X, X_tbl, on=['cut', 'color'], how='left' )\n",
    "\n",
    "# color*clarityの出現割合\n",
    "X_tbl = pd.crosstab(X['color'], X['clarity'], normalize='index')\n",
    "X_tbl = X_tbl.reset_index()\n",
    "print('color*clarityの出現割合')\n",
    "display(X_tbl)\n",
    "X_tbl = pd.melt(X_tbl, id_vars='color', value_name='rate_color*clarity')\n",
    "X = pd.merge(X, X_tbl, on=['color', 'clarity'], how='left' )\n",
    "\n",
    "# clarity*cutの出現割合\n",
    "X_tbl = pd.crosstab(X['clarity'], X['cut'], normalize='index')\n",
    "X_tbl = X_tbl.reset_index()\n",
    "print('clarity*cutの出現割合')\n",
    "display(X_tbl)\n",
    "X_tbl = pd.melt(X_tbl, id_vars='clarity', value_name='rate_clarity*cut')\n",
    "X = pd.merge(X, X_tbl, on=['clarity', 'cut'], how='left' )\n",
    "\n",
    "display(X.head())"
   ]
  },
  {
   "cell_type": "code",
   "execution_count": null,
   "metadata": {
    "colab": {
     "base_uri": "https://localhost:8080/"
    },
    "executionInfo": {
     "elapsed": 4,
     "status": "ok",
     "timestamp": 1685193630249,
     "user": {
      "displayName": "毛利拓也",
      "userId": "17854120745961292401"
     },
     "user_tz": -540
    },
    "id": "0Lwc5In9SqmH",
    "outputId": "bc8ad165-2519-40ab-da46-4be9d12888c5"
   },
   "outputs": [
    {
     "name": "stdout",
     "output_type": "stream",
     "text": [
      "X_trainの形状： (43128, 31)  y_trainの形状： (43128,)  X_testの形状： (10783, 31)  y_testの形状： (10783,)\n"
     ]
    }
   ],
   "source": [
    "# 学習データとテストデータに分割\n",
    "X_train, X_test, y_train, y_test = train_test_split(X, y, test_size=0.2, shuffle=True, random_state=0)\n",
    "print('X_trainの形状：', X_train.shape, ' y_trainの形状：', y_train.shape, ' X_testの形状：', X_test.shape, ' y_testの形状：', y_test.shape)"
   ]
  },
  {
   "cell_type": "code",
   "execution_count": null,
   "metadata": {
    "id": "xbVTn4O6pw_H"
   },
   "outputs": [],
   "source": [
    "# カテゴリ変数のlabel encoding\n",
    "from sklearn.preprocessing import LabelEncoder\n",
    "\n",
    "cat_cols = ['cut', 'color', 'clarity']\n",
    "\n",
    "for c in cat_cols:\n",
    "    le = LabelEncoder()\n",
    "    le.fit(X_train[c])\n",
    "    X_train[c] = le.transform(X_train[c])\n",
    "    X_test[c] = le.transform(X_test[c])"
   ]
  },
  {
   "cell_type": "code",
   "execution_count": null,
   "metadata": {
    "colab": {
     "base_uri": "https://localhost:8080/"
    },
    "executionInfo": {
     "elapsed": 4,
     "status": "ok",
     "timestamp": 1685193632804,
     "user": {
      "displayName": "毛利拓也",
      "userId": "17854120745961292401"
     },
     "user_tz": -540
    },
    "id": "kFxypoI-pxjZ",
    "outputId": "6a79b5fc-0522-425d-b014-7e392f08feac"
   },
   "outputs": [
    {
     "name": "stdout",
     "output_type": "stream",
     "text": [
      "<class 'pandas.core.frame.DataFrame'>\n",
      "Int64Index: 43128 entries, 2640 to 2732\n",
      "Data columns (total 31 columns):\n",
      " #   Column                         Non-Null Count  Dtype   \n",
      "---  ------                         --------------  -----   \n",
      " 0   carat                          43128 non-null  float64 \n",
      " 1   cut                            43128 non-null  category\n",
      " 2   color                          43128 non-null  category\n",
      " 3   clarity                        43128 non-null  category\n",
      " 4   depth                          43128 non-null  float64 \n",
      " 5   table                          43128 non-null  float64 \n",
      " 6   x                              43128 non-null  float64 \n",
      " 7   y                              43128 non-null  float64 \n",
      " 8   z                              43128 non-null  float64 \n",
      " 9   density                        43128 non-null  float64 \n",
      " 10  x-y                            43128 non-null  float64 \n",
      " 11  y-z                            43128 non-null  float64 \n",
      " 12  z-x                            43128 non-null  float64 \n",
      " 13  x/y                            43128 non-null  float64 \n",
      " 14  y/z                            43128 non-null  float64 \n",
      " 15  z/x                            43128 non-null  float64 \n",
      " 16  x-median_x                     43128 non-null  float64 \n",
      " 17  y-median_y                     43128 non-null  float64 \n",
      " 18  z-median_z                     43128 non-null  float64 \n",
      " 19  median_carat_by_cut            43128 non-null  float64 \n",
      " 20  carat-median_carat_by_cut      43128 non-null  float64 \n",
      " 21  carat/median_carat_by_cut      43128 non-null  float64 \n",
      " 22  median_carat_by_color          43128 non-null  float64 \n",
      " 23  carat-median_carat_by_color    43128 non-null  float64 \n",
      " 24  carat/median_carat_by_color    43128 non-null  float64 \n",
      " 25  median_carat_by_clarity        43128 non-null  float64 \n",
      " 26  carat-median_carat_by_clarity  43128 non-null  float64 \n",
      " 27  carat/median_carat_by_clarity  43128 non-null  float64 \n",
      " 28  rate_cut*color                 43128 non-null  float64 \n",
      " 29  rate_color*clarity             43128 non-null  float64 \n",
      " 30  rate_clarity*cut               43128 non-null  float64 \n",
      "dtypes: category(3), float64(28)\n",
      "memory usage: 9.7 MB\n"
     ]
    }
   ],
   "source": [
    "# カテゴリ変数のデータ型をcategoryに変換\n",
    "cat_cols = ['cut', 'color', 'clarity']\n",
    "\n",
    "for c in cat_cols:\n",
    "    X_train[c] = X_train[c].astype('category')\n",
    "    X_test[c] = X_test[c].astype('category')\n",
    "\n",
    "X_train.info()"
   ]
  },
  {
   "cell_type": "code",
   "execution_count": null,
   "metadata": {
    "colab": {
     "base_uri": "https://localhost:8080/"
    },
    "executionInfo": {
     "elapsed": 4,
     "status": "ok",
     "timestamp": 1685193634954,
     "user": {
      "displayName": "毛利拓也",
      "userId": "17854120745961292401"
     },
     "user_tz": -540
    },
    "id": "A3Dq-0zvSqqh",
    "outputId": "27d085fd-2648-4222-c7be-45f5fd976070"
   },
   "outputs": [
    {
     "name": "stdout",
     "output_type": "stream",
     "text": [
      "X_trの形状： (34502, 31)  y_trの形状： (34502,)  X_vaの形状： (8626, 31)  y_vaの形状： (8626,)\n"
     ]
    }
   ],
   "source": [
    "# 学習データの一部を検証データに分割\n",
    "X_tr, X_va, y_tr, y_va = train_test_split(X_train, y_train, test_size=0.2, shuffle=True, random_state=1)\n",
    "print('X_trの形状：', X_tr.shape, ' y_trの形状：', y_tr.shape, ' X_vaの形状：', X_va.shape, ' y_vaの形状：', y_va.shape)"
   ]
  },
  {
   "cell_type": "markdown",
   "metadata": {
    "id": "uzUtHmEhe4kf"
   },
   "source": [
    "# ハイパーパラメータ最適化"
   ]
  },
  {
   "cell_type": "code",
   "execution_count": null,
   "metadata": {
    "colab": {
     "base_uri": "https://localhost:8080/"
    },
    "executionInfo": {
     "elapsed": 6773,
     "status": "ok",
     "timestamp": 1685193643679,
     "user": {
      "displayName": "毛利拓也",
      "userId": "17854120745961292401"
     },
     "user_tz": -540
    },
    "id": "QU3jjg7jiMeq",
    "outputId": "a0015798-b6a8-4a82-ad87-23b829cf81cb"
   },
   "outputs": [
    {
     "name": "stdout",
     "output_type": "stream",
     "text": [
      "Looking in indexes: https://pypi.org/simple, https://us-python.pkg.dev/colab-wheels/public/simple/\n",
      "Collecting optuna\n",
      "  Downloading optuna-3.1.1-py3-none-any.whl (365 kB)\n",
      "\u001b[2K     \u001b[90m━━━━━━━━━━━━━━━━━━━━━━━━━━━━━━━━━━━━━━━\u001b[0m \u001b[32m365.7/365.7 kB\u001b[0m \u001b[31m9.6 MB/s\u001b[0m eta \u001b[36m0:00:00\u001b[0m\n",
      "\u001b[?25hCollecting alembic>=1.5.0 (from optuna)\n",
      "  Downloading alembic-1.11.1-py3-none-any.whl (224 kB)\n",
      "\u001b[2K     \u001b[90m━━━━━━━━━━━━━━━━━━━━━━━━━━━━━━━━━━━━━━\u001b[0m \u001b[32m224.5/224.5 kB\u001b[0m \u001b[31m23.1 MB/s\u001b[0m eta \u001b[36m0:00:00\u001b[0m\n",
      "\u001b[?25hCollecting cmaes>=0.9.1 (from optuna)\n",
      "  Downloading cmaes-0.9.1-py3-none-any.whl (21 kB)\n",
      "Collecting colorlog (from optuna)\n",
      "  Downloading colorlog-6.7.0-py2.py3-none-any.whl (11 kB)\n",
      "Requirement already satisfied: numpy in /usr/local/lib/python3.10/dist-packages (from optuna) (1.22.4)\n",
      "Requirement already satisfied: packaging>=20.0 in /usr/local/lib/python3.10/dist-packages (from optuna) (23.1)\n",
      "Requirement already satisfied: sqlalchemy>=1.3.0 in /usr/local/lib/python3.10/dist-packages (from optuna) (2.0.10)\n",
      "Requirement already satisfied: tqdm in /usr/local/lib/python3.10/dist-packages (from optuna) (4.65.0)\n",
      "Requirement already satisfied: PyYAML in /usr/local/lib/python3.10/dist-packages (from optuna) (6.0)\n",
      "Collecting Mako (from alembic>=1.5.0->optuna)\n",
      "  Downloading Mako-1.2.4-py3-none-any.whl (78 kB)\n",
      "\u001b[2K     \u001b[90m━━━━━━━━━━━━━━━━━━━━━━━━━━━━━━━━━━━━━━━━\u001b[0m \u001b[32m78.7/78.7 kB\u001b[0m \u001b[31m9.2 MB/s\u001b[0m eta \u001b[36m0:00:00\u001b[0m\n",
      "\u001b[?25hRequirement already satisfied: typing-extensions>=4 in /usr/local/lib/python3.10/dist-packages (from alembic>=1.5.0->optuna) (4.5.0)\n",
      "Requirement already satisfied: greenlet!=0.4.17 in /usr/local/lib/python3.10/dist-packages (from sqlalchemy>=1.3.0->optuna) (2.0.2)\n",
      "Requirement already satisfied: MarkupSafe>=0.9.2 in /usr/local/lib/python3.10/dist-packages (from Mako->alembic>=1.5.0->optuna) (2.1.2)\n",
      "Installing collected packages: Mako, colorlog, cmaes, alembic, optuna\n",
      "Successfully installed Mako-1.2.4 alembic-1.11.1 cmaes-0.9.1 colorlog-6.7.0 optuna-3.1.1\n"
     ]
    }
   ],
   "source": [
    "# ライブラリoptunaのインストール\n",
    "!pip install optuna"
   ]
  },
  {
   "cell_type": "code",
   "execution_count": null,
   "metadata": {
    "colab": {
     "base_uri": "https://localhost:8080/",
     "height": 36
    },
    "executionInfo": {
     "elapsed": 271,
     "status": "ok",
     "timestamp": 1685193647505,
     "user": {
      "displayName": "毛利拓也",
      "userId": "17854120745961292401"
     },
     "user_tz": -540
    },
    "id": "APdPJIwNZ1Pt",
    "outputId": "83d5bc4e-a1ed-4f98-c744-fbf16c83e74c"
   },
   "outputs": [
    {
     "data": {
      "application/vnd.google.colaboratory.intrinsic+json": {
       "type": "string"
      },
      "text/plain": [
       "'3.1.1'"
      ]
     },
     "execution_count": 13,
     "metadata": {},
     "output_type": "execute_result"
    }
   ],
   "source": [
    "# optunaのバージョン確認\n",
    "import optuna\n",
    "optuna.__version__"
   ]
  },
  {
   "cell_type": "code",
   "execution_count": null,
   "metadata": {
    "id": "FPvbXb5rKAI9"
   },
   "outputs": [],
   "source": [
    "# 固定値のハイパーパラメータ\n",
    "params_base = {\n",
    "    'objective': 'mae',\n",
    "    'random_seed': 1234,\n",
    "    'learning_rate': 0.02,\n",
    "    'min_data_in_bin': 3,\n",
    "    'bagging_freq': 1,\n",
    "    'bagging_seed': 0,\n",
    "    'verbose': -1,\n",
    "}"
   ]
  },
  {
   "cell_type": "code",
   "execution_count": null,
   "metadata": {
    "id": "1fVy4gsHiMhw"
   },
   "outputs": [],
   "source": [
    "# ハイパーパラメータ最適化\n",
    "\n",
    "# ハイパーパラメータの探索範囲\n",
    "def objective(trial):\n",
    "  params_tuning = {\n",
    "      'num_leaves': trial.suggest_int('num_leaves', 50, 200),\n",
    "      'min_data_in_leaf': trial.suggest_int('min_data_in_leaf', 2, 30),\n",
    "      'max_bin': trial.suggest_int('max_bin', 200, 400),\n",
    "      'bagging_fraction': trial.suggest_float('bagging_fraction', 0.8, 0.95),\n",
    "      'feature_fraction': trial.suggest_float('feature_fraction', 0.35, 0.65),\n",
    "      'min_gain_to_split': trial.suggest_float('min_gain_to_split', 0.01, 1, log=True),\n",
    "      'lambda_l1': trial.suggest_float('lambda_l1', 0.01, 1, log=True),\n",
    "      'lambda_l2': trial.suggest_float('lambda_l2', 0.01, 1, log=True),\n",
    "  }\n",
    "  \n",
    "  # 探索用ハイパーパラメータの設定\n",
    "  params_tuning.update(params_base)\n",
    "\n",
    "  lgb_train = lgb.Dataset(X_tr, y_tr)\n",
    "  lgb_eval = lgb.Dataset(X_va, y_va)\n",
    "  \n",
    "  # 探索用ハイパーパラメータで学習\n",
    "  model = lgb.train(params_tuning,\n",
    "                    lgb_train,\n",
    "                    num_boost_round=10000,\n",
    "                    valid_sets=[lgb_train, lgb_eval],\n",
    "                    valid_names=['train', 'valid'],\n",
    "                    callbacks=[lgb.early_stopping(100),\n",
    "                               lgb.log_evaluation(500)])\n",
    "  \n",
    "  y_va_pred = model.predict(X_va, num_iteration=model.best_iteration)\n",
    "  score =  mean_absolute_error(y_va, y_va_pred)\n",
    "  print('')\n",
    "\n",
    "  return score"
   ]
  },
  {
   "cell_type": "code",
   "execution_count": null,
   "metadata": {
    "colab": {
     "base_uri": "https://localhost:8080/"
    },
    "executionInfo": {
     "elapsed": 7027267,
     "status": "ok",
     "timestamp": 1685200679851,
     "user": {
      "displayName": "毛利拓也",
      "userId": "17854120745961292401"
     },
     "user_tz": -540
    },
    "id": "tT11YlvPkzjE",
    "outputId": "3b1da701-8673-4709-85c3-69c4555f4e39"
   },
   "outputs": [
    {
     "name": "stderr",
     "output_type": "stream",
     "text": [
      "\u001b[32m[I 2023-05-27 13:20:51,939]\u001b[0m A new study created in memory with name: no-name-823157ea-303c-44e4-b053-11413147b472\u001b[0m\n"
     ]
    },
    {
     "name": "stdout",
     "output_type": "stream",
     "text": [
      "Training until validation scores don't improve for 100 rounds\n",
      "[500]\ttrain's l1: 214.794\tvalid's l1: 240.975\n",
      "[1000]\ttrain's l1: 185.235\tvalid's l1: 237.404\n",
      "[1500]\ttrain's l1: 169.985\tvalid's l1: 236.718\n",
      "Early stopping, best iteration is:\n",
      "[1747]\ttrain's l1: 165.084\tvalid's l1: 236.395\n"
     ]
    },
    {
     "name": "stderr",
     "output_type": "stream",
     "text": [
      "\u001b[32m[I 2023-05-27 13:21:53,085]\u001b[0m Trial 0 finished with value: 236.3953978396676 and parameters: {'num_leaves': 132, 'min_data_in_leaf': 22, 'max_bin': 321, 'bagging_fraction': 0.8817324774495345, 'feature_fraction': 0.4770964398016714, 'min_gain_to_split': 0.19578897201213002, 'lambda_l1': 0.07501954443620121, 'lambda_l2': 0.6074996073425692}. Best is trial 0 with value: 236.3953978396676.\u001b[0m\n"
     ]
    },
    {
     "name": "stdout",
     "output_type": "stream",
     "text": [
      "\n",
      "Training until validation scores don't improve for 100 rounds\n",
      "[500]\ttrain's l1: 198.499\tvalid's l1: 240.151\n",
      "[1000]\ttrain's l1: 164.338\tvalid's l1: 237.211\n",
      "Early stopping, best iteration is:\n",
      "[1050]\ttrain's l1: 161.972\tvalid's l1: 237.084\n"
     ]
    },
    {
     "name": "stderr",
     "output_type": "stream",
     "text": [
      "\u001b[32m[I 2023-05-27 13:22:17,327]\u001b[0m Trial 1 finished with value: 237.08390346573412 and parameters: {'num_leaves': 195, 'min_data_in_leaf': 13, 'max_bin': 359, 'bagging_fraction': 0.8793342379629356, 'feature_fraction': 0.5204133683281797, 'min_gain_to_split': 0.70989362574059, 'lambda_l1': 0.013869861245357327, 'lambda_l2': 0.014936835544198456}. Best is trial 0 with value: 236.3953978396676.\u001b[0m\n"
     ]
    },
    {
     "name": "stdout",
     "output_type": "stream",
     "text": [
      "\n",
      "Training until validation scores don't improve for 100 rounds\n",
      "[500]\ttrain's l1: 238.391\tvalid's l1: 245.206\n",
      "[1000]\ttrain's l1: 220.304\tvalid's l1: 240.855\n",
      "[1500]\ttrain's l1: 207.881\tvalid's l1: 239.386\n",
      "[2000]\ttrain's l1: 198.399\tvalid's l1: 238.345\n",
      "[2500]\ttrain's l1: 192.781\tvalid's l1: 237.828\n",
      "[3000]\ttrain's l1: 187.799\tvalid's l1: 237.462\n",
      "Early stopping, best iteration is:\n",
      "[3155]\ttrain's l1: 185.873\tvalid's l1: 237.412\n"
     ]
    },
    {
     "name": "stderr",
     "output_type": "stream",
     "text": [
      "\u001b[32m[I 2023-05-27 13:22:53,545]\u001b[0m Trial 2 finished with value: 237.41216752547192 and parameters: {'num_leaves': 53, 'min_data_in_leaf': 26, 'max_bin': 356, 'bagging_fraction': 0.9305018222370228, 'feature_fraction': 0.6435855026698292, 'min_gain_to_split': 0.39656750817710085, 'lambda_l1': 0.08374496868436809, 'lambda_l2': 0.3639639356786389}. Best is trial 0 with value: 236.3953978396676.\u001b[0m\n"
     ]
    },
    {
     "name": "stdout",
     "output_type": "stream",
     "text": [
      "\n",
      "Training until validation scores don't improve for 100 rounds\n",
      "[500]\ttrain's l1: 233.757\tvalid's l1: 243.269\n",
      "[1000]\ttrain's l1: 210.193\tvalid's l1: 238.663\n",
      "[1500]\ttrain's l1: 196.532\tvalid's l1: 237.372\n",
      "[2000]\ttrain's l1: 186.194\tvalid's l1: 236.913\n",
      "Early stopping, best iteration is:\n",
      "[2034]\ttrain's l1: 185.763\tvalid's l1: 236.894\n"
     ]
    },
    {
     "name": "stderr",
     "output_type": "stream",
     "text": [
      "\u001b[32m[I 2023-05-27 13:23:16,073]\u001b[0m Trial 3 finished with value: 236.89405915464317 and parameters: {'num_leaves': 67, 'min_data_in_leaf': 20, 'max_bin': 228, 'bagging_fraction': 0.9417003375574375, 'feature_fraction': 0.5065544965250215, 'min_gain_to_split': 0.06750312521595925, 'lambda_l1': 0.0338151426782029, 'lambda_l2': 0.35356346291488117}. Best is trial 0 with value: 236.3953978396676.\u001b[0m\n"
     ]
    },
    {
     "name": "stdout",
     "output_type": "stream",
     "text": [
      "\n",
      "Training until validation scores don't improve for 100 rounds\n",
      "[500]\ttrain's l1: 218.974\tvalid's l1: 240.78\n",
      "[1000]\ttrain's l1: 189.871\tvalid's l1: 237.593\n",
      "[1500]\ttrain's l1: 174.181\tvalid's l1: 236.556\n",
      "[2000]\ttrain's l1: 164.279\tvalid's l1: 235.934\n",
      "[2500]\ttrain's l1: 155.636\tvalid's l1: 235.643\n",
      "Early stopping, best iteration is:\n",
      "[2610]\ttrain's l1: 154.231\tvalid's l1: 235.601\n"
     ]
    },
    {
     "name": "stderr",
     "output_type": "stream",
     "text": [
      "\u001b[32m[I 2023-05-27 13:23:54,328]\u001b[0m Trial 4 finished with value: 235.6009181590289 and parameters: {'num_leaves': 118, 'min_data_in_leaf': 18, 'max_bin': 203, 'bagging_fraction': 0.8926453245613816, 'feature_fraction': 0.5336287168167264, 'min_gain_to_split': 0.17134364197119656, 'lambda_l1': 0.7717846862118062, 'lambda_l2': 0.23101522250182369}. Best is trial 4 with value: 235.6009181590289.\u001b[0m\n"
     ]
    },
    {
     "name": "stdout",
     "output_type": "stream",
     "text": [
      "\n",
      "Training until validation scores don't improve for 100 rounds\n",
      "[500]\ttrain's l1: 220.468\tvalid's l1: 241.746\n",
      "[1000]\ttrain's l1: 192.622\tvalid's l1: 238.472\n",
      "[1500]\ttrain's l1: 175.797\tvalid's l1: 237.062\n",
      "[2000]\ttrain's l1: 165.327\tvalid's l1: 236.569\n",
      "Early stopping, best iteration is:\n",
      "[1985]\ttrain's l1: 165.615\tvalid's l1: 236.566\n"
     ]
    },
    {
     "name": "stderr",
     "output_type": "stream",
     "text": [
      "\u001b[32m[I 2023-05-27 13:24:26,242]\u001b[0m Trial 5 finished with value: 236.56553064240038 and parameters: {'num_leaves': 104, 'min_data_in_leaf': 14, 'max_bin': 340, 'bagging_fraction': 0.8090338207443906, 'feature_fraction': 0.5500300146337003, 'min_gain_to_split': 0.21941976179005757, 'lambda_l1': 0.02634905974115613, 'lambda_l2': 0.01810725406663109}. Best is trial 4 with value: 235.6009181590289.\u001b[0m\n"
     ]
    },
    {
     "name": "stdout",
     "output_type": "stream",
     "text": [
      "\n",
      "Training until validation scores don't improve for 100 rounds\n",
      "[500]\ttrain's l1: 221.96\tvalid's l1: 241.61\n",
      "[1000]\ttrain's l1: 192.155\tvalid's l1: 238.33\n",
      "[1500]\ttrain's l1: 178.584\tvalid's l1: 237.332\n",
      "[2000]\ttrain's l1: 167.479\tvalid's l1: 236.773\n",
      "[2500]\ttrain's l1: 157.094\tvalid's l1: 236.191\n",
      "Early stopping, best iteration is:\n",
      "[2631]\ttrain's l1: 155.13\tvalid's l1: 236.124\n"
     ]
    },
    {
     "name": "stderr",
     "output_type": "stream",
     "text": [
      "\u001b[32m[I 2023-05-27 13:25:06,195]\u001b[0m Trial 6 finished with value: 236.123526792667 and parameters: {'num_leaves': 97, 'min_data_in_leaf': 12, 'max_bin': 314, 'bagging_fraction': 0.865790227019348, 'feature_fraction': 0.6465121514177679, 'min_gain_to_split': 0.015998881492631498, 'lambda_l1': 0.02616697456085447, 'lambda_l2': 0.021019338091154416}. Best is trial 4 with value: 235.6009181590289.\u001b[0m\n"
     ]
    },
    {
     "name": "stdout",
     "output_type": "stream",
     "text": [
      "\n",
      "Training until validation scores don't improve for 100 rounds\n",
      "[500]\ttrain's l1: 210.939\tvalid's l1: 240.844\n",
      "[1000]\ttrain's l1: 178.555\tvalid's l1: 237.253\n",
      "[1500]\ttrain's l1: 159.209\tvalid's l1: 236.406\n",
      "Early stopping, best iteration is:\n",
      "[1895]\ttrain's l1: 148.122\tvalid's l1: 236.148\n"
     ]
    },
    {
     "name": "stderr",
     "output_type": "stream",
     "text": [
      "\u001b[32m[I 2023-05-27 13:25:39,392]\u001b[0m Trial 7 finished with value: 236.14758156608585 and parameters: {'num_leaves': 148, 'min_data_in_leaf': 9, 'max_bin': 293, 'bagging_fraction': 0.8366638388002404, 'feature_fraction': 0.3976908750936559, 'min_gain_to_split': 0.016624564693643644, 'lambda_l1': 0.20542778286285945, 'lambda_l2': 0.018895826938026012}. Best is trial 4 with value: 235.6009181590289.\u001b[0m\n"
     ]
    },
    {
     "name": "stdout",
     "output_type": "stream",
     "text": [
      "\n",
      "Training until validation scores don't improve for 100 rounds\n",
      "[500]\ttrain's l1: 227.883\tvalid's l1: 242.298\n",
      "[1000]\ttrain's l1: 203.695\tvalid's l1: 238.466\n",
      "[1500]\ttrain's l1: 190.018\tvalid's l1: 237.42\n",
      "[2000]\ttrain's l1: 180.115\tvalid's l1: 236.993\n",
      "Early stopping, best iteration is:\n",
      "[2379]\ttrain's l1: 173.571\tvalid's l1: 236.576\n"
     ]
    },
    {
     "name": "stderr",
     "output_type": "stream",
     "text": [
      "\u001b[32m[I 2023-05-27 13:26:11,961]\u001b[0m Trial 8 finished with value: 236.57602513147754 and parameters: {'num_leaves': 79, 'min_data_in_leaf': 12, 'max_bin': 365, 'bagging_fraction': 0.8145651913689592, 'feature_fraction': 0.6013834722496412, 'min_gain_to_split': 0.015566709318481201, 'lambda_l1': 0.8972612866432508, 'lambda_l2': 0.08655704137361815}. Best is trial 4 with value: 235.6009181590289.\u001b[0m\n"
     ]
    },
    {
     "name": "stdout",
     "output_type": "stream",
     "text": [
      "\n",
      "Training until validation scores don't improve for 100 rounds\n",
      "[500]\ttrain's l1: 201.772\tvalid's l1: 240.329\n",
      "[1000]\ttrain's l1: 169.899\tvalid's l1: 237.108\n",
      "[1500]\ttrain's l1: 154.233\tvalid's l1: 236.402\n",
      "Early stopping, best iteration is:\n",
      "[1417]\ttrain's l1: 156.273\tvalid's l1: 236.394\n"
     ]
    },
    {
     "name": "stderr",
     "output_type": "stream",
     "text": [
      "\u001b[32m[I 2023-05-27 13:26:42,879]\u001b[0m Trial 9 finished with value: 236.3942096446911 and parameters: {'num_leaves': 197, 'min_data_in_leaf': 19, 'max_bin': 348, 'bagging_fraction': 0.8058781688381481, 'feature_fraction': 0.43484208877292285, 'min_gain_to_split': 0.017393745944806985, 'lambda_l1': 0.0391093317225106, 'lambda_l2': 0.0172764870082179}. Best is trial 4 with value: 235.6009181590289.\u001b[0m\n"
     ]
    },
    {
     "name": "stdout",
     "output_type": "stream",
     "text": [
      "\n",
      "Training until validation scores don't improve for 100 rounds\n",
      "[500]\ttrain's l1: 211.076\tvalid's l1: 240.925\n",
      "[1000]\ttrain's l1: 175.684\tvalid's l1: 236.825\n",
      "[1500]\ttrain's l1: 155.785\tvalid's l1: 236.29\n",
      "Early stopping, best iteration is:\n",
      "[1817]\ttrain's l1: 146.881\tvalid's l1: 235.914\n"
     ]
    },
    {
     "name": "stderr",
     "output_type": "stream",
     "text": [
      "\u001b[32m[I 2023-05-27 13:27:08,127]\u001b[0m Trial 10 finished with value: 235.91394457126538 and parameters: {'num_leaves': 154, 'min_data_in_leaf': 4, 'max_bin': 204, 'bagging_fraction': 0.9086211983673774, 'feature_fraction': 0.3583168079743905, 'min_gain_to_split': 0.08252107415938004, 'lambda_l1': 0.5598399615905776, 'lambda_l2': 0.12445301121282816}. Best is trial 4 with value: 235.6009181590289.\u001b[0m\n"
     ]
    },
    {
     "name": "stdout",
     "output_type": "stream",
     "text": [
      "\n",
      "Training until validation scores don't improve for 100 rounds\n",
      "[500]\ttrain's l1: 209.392\tvalid's l1: 241.213\n",
      "[1000]\ttrain's l1: 174.307\tvalid's l1: 237.616\n",
      "[1500]\ttrain's l1: 153.869\tvalid's l1: 236.609\n",
      "[2000]\ttrain's l1: 141.929\tvalid's l1: 236.205\n",
      "Early stopping, best iteration is:\n",
      "[2027]\ttrain's l1: 141.268\tvalid's l1: 236.153\n"
     ]
    },
    {
     "name": "stderr",
     "output_type": "stream",
     "text": [
      "\u001b[32m[I 2023-05-27 13:27:37,292]\u001b[0m Trial 11 finished with value: 236.1528459013989 and parameters: {'num_leaves': 161, 'min_data_in_leaf': 3, 'max_bin': 200, 'bagging_fraction': 0.9120148167627737, 'feature_fraction': 0.37029317112273297, 'min_gain_to_split': 0.07815734384464, 'lambda_l1': 0.6726718629744891, 'lambda_l2': 0.12802682779428146}. Best is trial 4 with value: 235.6009181590289.\u001b[0m\n"
     ]
    },
    {
     "name": "stdout",
     "output_type": "stream",
     "text": [
      "\n",
      "Training until validation scores don't improve for 100 rounds\n",
      "[500]\ttrain's l1: 207.415\tvalid's l1: 240.6\n",
      "[1000]\ttrain's l1: 170.612\tvalid's l1: 236.735\n",
      "[1500]\ttrain's l1: 150.764\tvalid's l1: 235.978\n",
      "Early stopping, best iteration is:\n",
      "[1787]\ttrain's l1: 142.829\tvalid's l1: 235.686\n"
     ]
    },
    {
     "name": "stderr",
     "output_type": "stream",
     "text": [
      "\u001b[32m[I 2023-05-27 13:28:05,671]\u001b[0m Trial 12 finished with value: 235.68553113118287 and parameters: {'num_leaves': 164, 'min_data_in_leaf': 2, 'max_bin': 251, 'bagging_fraction': 0.9084389567643958, 'feature_fraction': 0.3521798778434926, 'min_gain_to_split': 0.045633217357811416, 'lambda_l1': 0.4346927884140068, 'lambda_l2': 0.1445025316423963}. Best is trial 4 with value: 235.6009181590289.\u001b[0m\n"
     ]
    },
    {
     "name": "stdout",
     "output_type": "stream",
     "text": [
      "\n",
      "Training until validation scores don't improve for 100 rounds\n",
      "[500]\ttrain's l1: 207.412\tvalid's l1: 240.63\n",
      "[1000]\ttrain's l1: 178.526\tvalid's l1: 237.941\n",
      "Early stopping, best iteration is:\n",
      "[1380]\ttrain's l1: 165.721\tvalid's l1: 237.39\n"
     ]
    },
    {
     "name": "stderr",
     "output_type": "stream",
     "text": [
      "\u001b[32m[I 2023-05-27 13:28:32,991]\u001b[0m Trial 13 finished with value: 237.3899085824166 and parameters: {'num_leaves': 172, 'min_data_in_leaf': 29, 'max_bin': 258, 'bagging_fraction': 0.9044426307401884, 'feature_fraction': 0.4474335292541353, 'min_gain_to_split': 0.040737968063305305, 'lambda_l1': 0.2798675701008754, 'lambda_l2': 0.19571069755873455}. Best is trial 4 with value: 235.6009181590289.\u001b[0m\n"
     ]
    },
    {
     "name": "stdout",
     "output_type": "stream",
     "text": [
      "\n",
      "Training until validation scores don't improve for 100 rounds\n",
      "[500]\ttrain's l1: 217.909\tvalid's l1: 242.529\n",
      "[1000]\ttrain's l1: 180.044\tvalid's l1: 238.938\n",
      "[1500]\ttrain's l1: 160.284\tvalid's l1: 238.202\n",
      "[2000]\ttrain's l1: 149.423\tvalid's l1: 237.546\n",
      "[2500]\ttrain's l1: 142.147\tvalid's l1: 237.295\n",
      "Early stopping, best iteration is:\n",
      "[2608]\ttrain's l1: 140.711\tvalid's l1: 237.274\n"
     ]
    },
    {
     "name": "stderr",
     "output_type": "stream",
     "text": [
      "\u001b[32m[I 2023-05-27 13:29:07,129]\u001b[0m Trial 14 finished with value: 237.27354021337538 and parameters: {'num_leaves': 120, 'min_data_in_leaf': 7, 'max_bin': 258, 'bagging_fraction': 0.9283676420226169, 'feature_fraction': 0.41516346028194895, 'min_gain_to_split': 0.1529220407506137, 'lambda_l1': 0.3779035671373287, 'lambda_l2': 0.05278815998892529}. Best is trial 4 with value: 235.6009181590289.\u001b[0m\n"
     ]
    },
    {
     "name": "stdout",
     "output_type": "stream",
     "text": [
      "\n",
      "Training until validation scores don't improve for 100 rounds\n",
      "[500]\ttrain's l1: 215.132\tvalid's l1: 240.587\n",
      "[1000]\ttrain's l1: 184.317\tvalid's l1: 237.48\n",
      "[1500]\ttrain's l1: 166.988\tvalid's l1: 236.577\n",
      "[2000]\ttrain's l1: 156.807\tvalid's l1: 236.261\n",
      "Early stopping, best iteration is:\n",
      "[2028]\ttrain's l1: 156.373\tvalid's l1: 236.237\n"
     ]
    },
    {
     "name": "stderr",
     "output_type": "stream",
     "text": [
      "\u001b[32m[I 2023-05-27 13:29:41,097]\u001b[0m Trial 15 finished with value: 236.23688167002803 and parameters: {'num_leaves': 130, 'min_data_in_leaf': 17, 'max_bin': 247, 'bagging_fraction': 0.8933430012731872, 'feature_fraction': 0.46965408751749665, 'min_gain_to_split': 0.047559629409628185, 'lambda_l1': 0.9911601661341324, 'lambda_l2': 0.8246121758434628}. Best is trial 4 with value: 235.6009181590289.\u001b[0m\n"
     ]
    },
    {
     "name": "stdout",
     "output_type": "stream",
     "text": [
      "\n",
      "Training until validation scores don't improve for 100 rounds\n",
      "[500]\ttrain's l1: 204.984\tvalid's l1: 239.524\n",
      "[1000]\ttrain's l1: 174.909\tvalid's l1: 236.898\n",
      "[1500]\ttrain's l1: 159.921\tvalid's l1: 236.054\n",
      "Early stopping, best iteration is:\n",
      "[1819]\ttrain's l1: 152.255\tvalid's l1: 235.699\n"
     ]
    },
    {
     "name": "stderr",
     "output_type": "stream",
     "text": [
      "\u001b[32m[I 2023-05-27 13:30:18,945]\u001b[0m Trial 16 finished with value: 235.69945903444273 and parameters: {'num_leaves': 175, 'min_data_in_leaf': 24, 'max_bin': 287, 'bagging_fraction': 0.8576893224108879, 'feature_fraction': 0.5469329207049305, 'min_gain_to_split': 0.13210830891978242, 'lambda_l1': 0.16886809576184567, 'lambda_l2': 0.2003439108428562}. Best is trial 4 with value: 235.6009181590289.\u001b[0m\n"
     ]
    },
    {
     "name": "stdout",
     "output_type": "stream",
     "text": [
      "\n",
      "Training until validation scores don't improve for 100 rounds\n",
      "[500]\ttrain's l1: 221.452\tvalid's l1: 242.308\n",
      "[1000]\ttrain's l1: 189.97\tvalid's l1: 238.14\n",
      "Early stopping, best iteration is:\n",
      "[1317]\ttrain's l1: 176.667\tvalid's l1: 237.393\n"
     ]
    },
    {
     "name": "stderr",
     "output_type": "stream",
     "text": [
      "\u001b[32m[I 2023-05-27 13:30:38,409]\u001b[0m Trial 17 finished with value: 237.39336158750473 and parameters: {'num_leaves': 105, 'min_data_in_leaf': 8, 'max_bin': 398, 'bagging_fraction': 0.8934927484849413, 'feature_fraction': 0.3933140908384598, 'min_gain_to_split': 0.0310126106429662, 'lambda_l1': 0.41501975738259267, 'lambda_l2': 0.061190967368831166}. Best is trial 4 with value: 235.6009181590289.\u001b[0m\n"
     ]
    },
    {
     "name": "stdout",
     "output_type": "stream",
     "text": [
      "\n",
      "Training until validation scores don't improve for 100 rounds\n",
      "[500]\ttrain's l1: 216.105\tvalid's l1: 241.238\n",
      "[1000]\ttrain's l1: 188.243\tvalid's l1: 237.81\n",
      "[1500]\ttrain's l1: 171.124\tvalid's l1: 236.658\n",
      "Early stopping, best iteration is:\n",
      "[1679]\ttrain's l1: 165.559\tvalid's l1: 236.402\n"
     ]
    },
    {
     "name": "stderr",
     "output_type": "stream",
     "text": [
      "\u001b[32m[I 2023-05-27 13:30:59,316]\u001b[0m Trial 18 finished with value: 236.40222841349112 and parameters: {'num_leaves': 139, 'min_data_in_leaf': 19, 'max_bin': 229, 'bagging_fraction': 0.9479002250665678, 'feature_fraction': 0.3562213984416137, 'min_gain_to_split': 0.11668351840179578, 'lambda_l1': 0.5078607604949326, 'lambda_l2': 0.27006978718199}. Best is trial 4 with value: 235.6009181590289.\u001b[0m\n"
     ]
    },
    {
     "name": "stdout",
     "output_type": "stream",
     "text": [
      "\n",
      "Training until validation scores don't improve for 100 rounds\n",
      "[500]\ttrain's l1: 215.801\tvalid's l1: 241.339\n",
      "[1000]\ttrain's l1: 177.16\tvalid's l1: 238.295\n",
      "[1500]\ttrain's l1: 157.925\tvalid's l1: 237.011\n",
      "Early stopping, best iteration is:\n",
      "[1719]\ttrain's l1: 153.049\tvalid's l1: 236.788\n"
     ]
    },
    {
     "name": "stderr",
     "output_type": "stream",
     "text": [
      "\u001b[32m[I 2023-05-27 13:31:28,703]\u001b[0m Trial 19 finished with value: 236.78755514565904 and parameters: {'num_leaves': 120, 'min_data_in_leaf': 2, 'max_bin': 276, 'bagging_fraction': 0.9210372782626467, 'feature_fraction': 0.4728075531086831, 'min_gain_to_split': 0.2582871168920084, 'lambda_l1': 0.29191412719171156, 'lambda_l2': 0.5619894231929886}. Best is trial 4 with value: 235.6009181590289.\u001b[0m\n"
     ]
    },
    {
     "name": "stdout",
     "output_type": "stream",
     "text": [
      "\n",
      "Training until validation scores don't improve for 100 rounds\n",
      "[500]\ttrain's l1: 206.297\tvalid's l1: 240.373\n",
      "[1000]\ttrain's l1: 176.189\tvalid's l1: 237.22\n",
      "[1500]\ttrain's l1: 158.034\tvalid's l1: 236.55\n",
      "[2000]\ttrain's l1: 147.838\tvalid's l1: 236.152\n",
      "[2500]\ttrain's l1: 139.824\tvalid's l1: 236.07\n",
      "Early stopping, best iteration is:\n",
      "[2437]\ttrain's l1: 140.823\tvalid's l1: 236.017\n"
     ]
    },
    {
     "name": "stderr",
     "output_type": "stream",
     "text": [
      "\u001b[32m[I 2023-05-27 13:32:07,926]\u001b[0m Trial 20 finished with value: 236.01696839322625 and parameters: {'num_leaves': 178, 'min_data_in_leaf': 17, 'max_bin': 224, 'bagging_fraction': 0.8952254346710644, 'feature_fraction': 0.43175242479942444, 'min_gain_to_split': 0.1023521311292633, 'lambda_l1': 0.6658789850898248, 'lambda_l2': 0.19984603613947474}. Best is trial 4 with value: 235.6009181590289.\u001b[0m\n"
     ]
    },
    {
     "name": "stdout",
     "output_type": "stream",
     "text": [
      "\n",
      "Training until validation scores don't improve for 100 rounds\n",
      "[500]\ttrain's l1: 204.674\tvalid's l1: 240.473\n",
      "[1000]\ttrain's l1: 175.787\tvalid's l1: 237.542\n",
      "[1500]\ttrain's l1: 158.452\tvalid's l1: 236.709\n",
      "Early stopping, best iteration is:\n",
      "[1802]\ttrain's l1: 151.957\tvalid's l1: 236.518\n"
     ]
    },
    {
     "name": "stderr",
     "output_type": "stream",
     "text": [
      "\u001b[32m[I 2023-05-27 13:32:45,016]\u001b[0m Trial 21 finished with value: 236.51771269205193 and parameters: {'num_leaves': 178, 'min_data_in_leaf': 23, 'max_bin': 283, 'bagging_fraction': 0.8552106717956344, 'feature_fraction': 0.539166653857351, 'min_gain_to_split': 0.1343243572313044, 'lambda_l1': 0.1896775427307254, 'lambda_l2': 0.1776719474424689}. Best is trial 4 with value: 235.6009181590289.\u001b[0m\n"
     ]
    },
    {
     "name": "stdout",
     "output_type": "stream",
     "text": [
      "\n",
      "Training until validation scores don't improve for 100 rounds\n",
      "[500]\ttrain's l1: 207.205\tvalid's l1: 240.767\n",
      "[1000]\ttrain's l1: 177.431\tvalid's l1: 237.652\n",
      "[1500]\ttrain's l1: 159.523\tvalid's l1: 236.74\n",
      "Early stopping, best iteration is:\n",
      "[1823]\ttrain's l1: 152.533\tvalid's l1: 236.467\n"
     ]
    },
    {
     "name": "stderr",
     "output_type": "stream",
     "text": [
      "\u001b[32m[I 2023-05-27 13:33:19,380]\u001b[0m Trial 22 finished with value: 236.46668748000158 and parameters: {'num_leaves': 166, 'min_data_in_leaf': 24, 'max_bin': 264, 'bagging_fraction': 0.862326173556545, 'feature_fraction': 0.5677552487259899, 'min_gain_to_split': 0.3025379820560162, 'lambda_l1': 0.15317741927382614, 'lambda_l2': 0.3182464855865804}. Best is trial 4 with value: 235.6009181590289.\u001b[0m\n"
     ]
    },
    {
     "name": "stdout",
     "output_type": "stream",
     "text": [
      "\n",
      "Training until validation scores don't improve for 100 rounds\n",
      "[500]\ttrain's l1: 213.192\tvalid's l1: 239.663\n",
      "[1000]\ttrain's l1: 185.91\tvalid's l1: 236.754\n",
      "[1500]\ttrain's l1: 168.631\tvalid's l1: 235.923\n",
      "Early stopping, best iteration is:\n",
      "[1548]\ttrain's l1: 167.382\tvalid's l1: 235.828\n"
     ]
    },
    {
     "name": "stderr",
     "output_type": "stream",
     "text": [
      "\u001b[32m[I 2023-05-27 13:33:48,135]\u001b[0m Trial 23 finished with value: 235.8282290356868 and parameters: {'num_leaves': 143, 'min_data_in_leaf': 30, 'max_bin': 304, 'bagging_fraction': 0.8762167362028344, 'feature_fraction': 0.5024731673800711, 'min_gain_to_split': 0.1442233766053911, 'lambda_l1': 0.3464376079237488, 'lambda_l2': 0.09348377646353946}. Best is trial 4 with value: 235.6009181590289.\u001b[0m\n"
     ]
    },
    {
     "name": "stdout",
     "output_type": "stream",
     "text": [
      "\n",
      "Training until validation scores don't improve for 100 rounds\n",
      "[500]\ttrain's l1: 204.72\tvalid's l1: 239.866\n",
      "[1000]\ttrain's l1: 174.715\tvalid's l1: 237.087\n",
      "Early stopping, best iteration is:\n",
      "[1388]\ttrain's l1: 162.304\tvalid's l1: 236.803\n"
     ]
    },
    {
     "name": "stderr",
     "output_type": "stream",
     "text": [
      "\u001b[32m[I 2023-05-27 13:34:15,603]\u001b[0m Trial 24 finished with value: 236.80326152629874 and parameters: {'num_leaves': 185, 'min_data_in_leaf': 26, 'max_bin': 240, 'bagging_fraction': 0.8507553850687664, 'feature_fraction': 0.5291115435163672, 'min_gain_to_split': 0.053198645348470325, 'lambda_l1': 0.13731223360419856, 'lambda_l2': 0.22790001981641927}. Best is trial 4 with value: 235.6009181590289.\u001b[0m\n"
     ]
    },
    {
     "name": "stdout",
     "output_type": "stream",
     "text": [
      "\n",
      "Training until validation scores don't improve for 100 rounds\n",
      "[500]\ttrain's l1: 210.143\tvalid's l1: 240.906\n",
      "[1000]\ttrain's l1: 180.964\tvalid's l1: 237.942\n",
      "[1500]\ttrain's l1: 165.909\tvalid's l1: 237.117\n",
      "Early stopping, best iteration is:\n",
      "[1817]\ttrain's l1: 159.279\tvalid's l1: 236.791\n"
     ]
    },
    {
     "name": "stderr",
     "output_type": "stream",
     "text": [
      "\u001b[32m[I 2023-05-27 13:34:48,402]\u001b[0m Trial 25 finished with value: 236.79136994999135 and parameters: {'num_leaves': 156, 'min_data_in_leaf': 27, 'max_bin': 214, 'bagging_fraction': 0.8835438057443663, 'feature_fraction': 0.566327980037316, 'min_gain_to_split': 0.02945350423286838, 'lambda_l1': 0.24733101820866787, 'lambda_l2': 0.15072430857308144}. Best is trial 4 with value: 235.6009181590289.\u001b[0m\n"
     ]
    },
    {
     "name": "stdout",
     "output_type": "stream",
     "text": [
      "\n",
      "Training until validation scores don't improve for 100 rounds\n",
      "[500]\ttrain's l1: 224.639\tvalid's l1: 242.116\n",
      "[1000]\ttrain's l1: 198.344\tvalid's l1: 238.342\n",
      "[1500]\ttrain's l1: 179.379\tvalid's l1: 237.025\n",
      "[2000]\ttrain's l1: 168.162\tvalid's l1: 236.449\n",
      "[2500]\ttrain's l1: 160.122\tvalid's l1: 236.17\n",
      "[3000]\ttrain's l1: 155.197\tvalid's l1: 236.001\n",
      "[3500]\ttrain's l1: 151.059\tvalid's l1: 235.921\n",
      "Early stopping, best iteration is:\n",
      "[3533]\ttrain's l1: 150.832\tvalid's l1: 235.9\n"
     ]
    },
    {
     "name": "stderr",
     "output_type": "stream",
     "text": [
      "\u001b[32m[I 2023-05-27 13:35:30,866]\u001b[0m Trial 26 finished with value: 235.90044337473424 and parameters: {'num_leaves': 92, 'min_data_in_leaf': 16, 'max_bin': 277, 'bagging_fraction': 0.8690899355080036, 'feature_fraction': 0.4938413605378538, 'min_gain_to_split': 0.0849881040071979, 'lambda_l1': 0.44191873709606294, 'lambda_l2': 0.25732798689552966}. Best is trial 4 with value: 235.6009181590289.\u001b[0m\n"
     ]
    },
    {
     "name": "stdout",
     "output_type": "stream",
     "text": [
      "\n",
      "Training until validation scores don't improve for 100 rounds\n",
      "[500]\ttrain's l1: 219.052\tvalid's l1: 241.037\n",
      "[1000]\ttrain's l1: 192.599\tvalid's l1: 237.768\n",
      "[1500]\ttrain's l1: 173.374\tvalid's l1: 236.656\n",
      "Early stopping, best iteration is:\n",
      "[1810]\ttrain's l1: 167.34\tvalid's l1: 236.415\n"
     ]
    },
    {
     "name": "stderr",
     "output_type": "stream",
     "text": [
      "\u001b[32m[I 2023-05-27 13:35:56,884]\u001b[0m Trial 27 finished with value: 236.4145270822498 and parameters: {'num_leaves': 117, 'min_data_in_leaf': 21, 'max_bin': 239, 'bagging_fraction': 0.9010607573290178, 'feature_fraction': 0.5165115058468236, 'min_gain_to_split': 0.17612756579151906, 'lambda_l1': 0.6738588062123299, 'lambda_l2': 0.1497631262722014}. Best is trial 4 with value: 235.6009181590289.\u001b[0m\n"
     ]
    },
    {
     "name": "stdout",
     "output_type": "stream",
     "text": [
      "\n",
      "Training until validation scores don't improve for 100 rounds\n",
      "[500]\ttrain's l1: 201.999\tvalid's l1: 239.923\n",
      "[1000]\ttrain's l1: 166.103\tvalid's l1: 237.278\n",
      "[1500]\ttrain's l1: 146.699\tvalid's l1: 236.36\n",
      "[2000]\ttrain's l1: 134.189\tvalid's l1: 235.569\n",
      "Early stopping, best iteration is:\n",
      "[2119]\ttrain's l1: 131.571\tvalid's l1: 235.488\n"
     ]
    },
    {
     "name": "stderr",
     "output_type": "stream",
     "text": [
      "\u001b[32m[I 2023-05-27 13:36:39,667]\u001b[0m Trial 28 finished with value: 235.48753634958118 and parameters: {'num_leaves': 165, 'min_data_in_leaf': 6, 'max_bin': 295, 'bagging_fraction': 0.9139953493523135, 'feature_fraction': 0.5520856297043926, 'min_gain_to_split': 0.10120622622408634, 'lambda_l1': 0.12012106552227265, 'lambda_l2': 0.44296903607547156}. Best is trial 28 with value: 235.48753634958118.\u001b[0m\n"
     ]
    },
    {
     "name": "stdout",
     "output_type": "stream",
     "text": [
      "\n",
      "Training until validation scores don't improve for 100 rounds\n",
      "[500]\ttrain's l1: 211.134\tvalid's l1: 240.106\n",
      "[1000]\ttrain's l1: 173.899\tvalid's l1: 236.605\n",
      "[1500]\ttrain's l1: 155.873\tvalid's l1: 235.347\n",
      "Early stopping, best iteration is:\n",
      "[1643]\ttrain's l1: 152.119\tvalid's l1: 235.177\n"
     ]
    },
    {
     "name": "stderr",
     "output_type": "stream",
     "text": [
      "\u001b[32m[I 2023-05-27 13:37:10,116]\u001b[0m Trial 29 finished with value: 235.17709720588138 and parameters: {'num_leaves': 135, 'min_data_in_leaf': 5, 'max_bin': 327, 'bagging_fraction': 0.9163117720883667, 'feature_fraction': 0.47856213986883034, 'min_gain_to_split': 0.06202766830060309, 'lambda_l1': 0.11323937682508285, 'lambda_l2': 0.48825038707469653}. Best is trial 29 with value: 235.17709720588138.\u001b[0m\n"
     ]
    },
    {
     "name": "stdout",
     "output_type": "stream",
     "text": [
      "\n",
      "Training until validation scores don't improve for 100 rounds\n",
      "[500]\ttrain's l1: 211.957\tvalid's l1: 240.921\n",
      "[1000]\ttrain's l1: 174.458\tvalid's l1: 238.076\n",
      "[1500]\ttrain's l1: 158.895\tvalid's l1: 237.109\n",
      "Early stopping, best iteration is:\n",
      "[1556]\ttrain's l1: 157.805\tvalid's l1: 237.044\n"
     ]
    },
    {
     "name": "stderr",
     "output_type": "stream",
     "text": [
      "\u001b[32m[I 2023-05-27 13:37:37,087]\u001b[0m Trial 30 finished with value: 237.04358990522704 and parameters: {'num_leaves': 131, 'min_data_in_leaf': 5, 'max_bin': 329, 'bagging_fraction': 0.9183437821555693, 'feature_fraction': 0.4915362802784666, 'min_gain_to_split': 0.10603692943911319, 'lambda_l1': 0.11490639381431361, 'lambda_l2': 0.5601482210847503}. Best is trial 29 with value: 235.17709720588138.\u001b[0m\n"
     ]
    },
    {
     "name": "stdout",
     "output_type": "stream",
     "text": [
      "\n",
      "Training until validation scores don't improve for 100 rounds\n",
      "[500]\ttrain's l1: 211.617\tvalid's l1: 240.704\n",
      "[1000]\ttrain's l1: 174.896\tvalid's l1: 237.795\n",
      "[1500]\ttrain's l1: 155.335\tvalid's l1: 237.065\n",
      "Early stopping, best iteration is:\n",
      "[1433]\ttrain's l1: 156.987\tvalid's l1: 237.039\n"
     ]
    },
    {
     "name": "stderr",
     "output_type": "stream",
     "text": [
      "\u001b[32m[I 2023-05-27 13:38:01,944]\u001b[0m Trial 31 finished with value: 237.03928275892304 and parameters: {'num_leaves': 139, 'min_data_in_leaf': 6, 'max_bin': 305, 'bagging_fraction': 0.917356959043202, 'feature_fraction': 0.4541942902080607, 'min_gain_to_split': 0.061477585565174256, 'lambda_l1': 0.09760359563050637, 'lambda_l2': 0.41719596274031034}. Best is trial 29 with value: 235.17709720588138.\u001b[0m\n"
     ]
    },
    {
     "name": "stdout",
     "output_type": "stream",
     "text": [
      "\n",
      "Training until validation scores don't improve for 100 rounds\n",
      "[500]\ttrain's l1: 207.349\tvalid's l1: 240.431\n",
      "[1000]\ttrain's l1: 171.682\tvalid's l1: 237.375\n",
      "[1500]\ttrain's l1: 150.89\tvalid's l1: 236.261\n",
      "Early stopping, best iteration is:\n",
      "[1619]\ttrain's l1: 147.643\tvalid's l1: 236.149\n"
     ]
    },
    {
     "name": "stderr",
     "output_type": "stream",
     "text": [
      "\u001b[32m[I 2023-05-27 13:38:31,802]\u001b[0m Trial 32 finished with value: 236.14949159391298 and parameters: {'num_leaves': 150, 'min_data_in_leaf': 9, 'max_bin': 317, 'bagging_fraction': 0.9053902161715692, 'feature_fraction': 0.4785073062812195, 'min_gain_to_split': 0.0627218569861772, 'lambda_l1': 0.07045093946703014, 'lambda_l2': 0.8213731940518559}. Best is trial 29 with value: 235.17709720588138.\u001b[0m\n"
     ]
    },
    {
     "name": "stdout",
     "output_type": "stream",
     "text": [
      "\n",
      "Training until validation scores don't improve for 100 rounds\n",
      "[500]\ttrain's l1: 197.931\tvalid's l1: 240.024\n",
      "[1000]\ttrain's l1: 153.96\tvalid's l1: 237.059\n",
      "Early stopping, best iteration is:\n",
      "[1195]\ttrain's l1: 145.521\tvalid's l1: 236.717\n"
     ]
    },
    {
     "name": "stderr",
     "output_type": "stream",
     "text": [
      "\u001b[32m[I 2023-05-27 13:39:03,485]\u001b[0m Trial 33 finished with value: 236.7165691174425 and parameters: {'num_leaves': 187, 'min_data_in_leaf': 2, 'max_bin': 374, 'bagging_fraction': 0.9252106774771798, 'feature_fraction': 0.5189324560255442, 'min_gain_to_split': 0.18665268890575423, 'lambda_l1': 0.2328205541084547, 'lambda_l2': 0.441702166310134}. Best is trial 29 with value: 235.17709720588138.\u001b[0m\n"
     ]
    },
    {
     "name": "stdout",
     "output_type": "stream",
     "text": [
      "\n",
      "Training until validation scores don't improve for 100 rounds\n",
      "[500]\ttrain's l1: 218.206\tvalid's l1: 240.484\n",
      "[1000]\ttrain's l1: 185.258\tvalid's l1: 237.321\n",
      "[1500]\ttrain's l1: 166.964\tvalid's l1: 236.221\n",
      "Early stopping, best iteration is:\n",
      "[1741]\ttrain's l1: 160.758\tvalid's l1: 235.916\n"
     ]
    },
    {
     "name": "stderr",
     "output_type": "stream",
     "text": [
      "\u001b[32m[I 2023-05-27 13:39:32,130]\u001b[0m Trial 34 finished with value: 235.9156451443252 and parameters: {'num_leaves': 111, 'min_data_in_leaf': 10, 'max_bin': 328, 'bagging_fraction': 0.9367997566583147, 'feature_fraction': 0.5750358931493015, 'min_gain_to_split': 0.09468446613394528, 'lambda_l1': 0.3035337051127354, 'lambda_l2': 0.326950323258154}. Best is trial 29 with value: 235.17709720588138.\u001b[0m\n"
     ]
    },
    {
     "name": "stdout",
     "output_type": "stream",
     "text": [
      "\n",
      "Training until validation scores don't improve for 100 rounds\n",
      "[500]\ttrain's l1: 205.045\tvalid's l1: 239.512\n",
      "[1000]\ttrain's l1: 163.669\tvalid's l1: 236.358\n",
      "[1500]\ttrain's l1: 147.837\tvalid's l1: 235.698\n",
      "Early stopping, best iteration is:\n",
      "[1847]\ttrain's l1: 138.017\tvalid's l1: 235.254\n"
     ]
    },
    {
     "name": "stderr",
     "output_type": "stream",
     "text": [
      "\u001b[32m[I 2023-05-27 13:40:07,442]\u001b[0m Trial 35 finished with value: 235.25408281519756 and parameters: {'num_leaves': 164, 'min_data_in_leaf': 5, 'max_bin': 267, 'bagging_fraction': 0.9318776444492488, 'feature_fraction': 0.509539913547553, 'min_gain_to_split': 0.6314531807446231, 'lambda_l1': 0.07969290948830793, 'lambda_l2': 0.47271904824597616}. Best is trial 29 with value: 235.17709720588138.\u001b[0m\n"
     ]
    },
    {
     "name": "stdout",
     "output_type": "stream",
     "text": [
      "\n",
      "Training until validation scores don't improve for 100 rounds\n",
      "[500]\ttrain's l1: 226.284\tvalid's l1: 241.784\n",
      "[1000]\ttrain's l1: 197.663\tvalid's l1: 238.545\n",
      "[1500]\ttrain's l1: 180.715\tvalid's l1: 237.416\n",
      "Early stopping, best iteration is:\n",
      "[1644]\ttrain's l1: 175.565\tvalid's l1: 237.147\n"
     ]
    },
    {
     "name": "stderr",
     "output_type": "stream",
     "text": [
      "\u001b[32m[I 2023-05-27 13:40:29,901]\u001b[0m Trial 36 finished with value: 237.14692436780257 and parameters: {'num_leaves': 85, 'min_data_in_leaf': 5, 'max_bin': 340, 'bagging_fraction': 0.9302593352723131, 'feature_fraction': 0.5128942301463881, 'min_gain_to_split': 0.7877627834111007, 'lambda_l1': 0.06574975751589127, 'lambda_l2': 0.47323588742168954}. Best is trial 29 with value: 235.17709720588138.\u001b[0m\n"
     ]
    },
    {
     "name": "stdout",
     "output_type": "stream",
     "text": [
      "\n",
      "Training until validation scores don't improve for 100 rounds\n",
      "[500]\ttrain's l1: 214.125\tvalid's l1: 239.459\n",
      "[1000]\ttrain's l1: 185.066\tvalid's l1: 236.169\n",
      "[1500]\ttrain's l1: 167.136\tvalid's l1: 234.973\n",
      "[2000]\ttrain's l1: 156.545\tvalid's l1: 234.527\n",
      "Early stopping, best iteration is:\n",
      "[2263]\ttrain's l1: 152.131\tvalid's l1: 234.413\n"
     ]
    },
    {
     "name": "stderr",
     "output_type": "stream",
     "text": [
      "\u001b[32m[I 2023-05-27 13:41:05,827]\u001b[0m Trial 37 finished with value: 234.41296880280794 and parameters: {'num_leaves': 127, 'min_data_in_leaf': 14, 'max_bin': 297, 'bagging_fraction': 0.9345596067832406, 'feature_fraction': 0.5302787935550751, 'min_gain_to_split': 0.5166029648484202, 'lambda_l1': 0.11716523412122254, 'lambda_l2': 0.6797911192146948}. Best is trial 37 with value: 234.41296880280794.\u001b[0m\n"
     ]
    },
    {
     "name": "stdout",
     "output_type": "stream",
     "text": [
      "\n",
      "Training until validation scores don't improve for 100 rounds\n",
      "[500]\ttrain's l1: 213.682\tvalid's l1: 241.285\n",
      "[1000]\ttrain's l1: 178.549\tvalid's l1: 237.553\n",
      "[1500]\ttrain's l1: 162.841\tvalid's l1: 236.646\n",
      "[2000]\ttrain's l1: 153.218\tvalid's l1: 236.196\n",
      "[2500]\ttrain's l1: 144.138\tvalid's l1: 235.869\n",
      "Early stopping, best iteration is:\n",
      "[2691]\ttrain's l1: 140.066\tvalid's l1: 235.772\n"
     ]
    },
    {
     "name": "stderr",
     "output_type": "stream",
     "text": [
      "\u001b[32m[I 2023-05-27 13:41:45,928]\u001b[0m Trial 38 finished with value: 235.77178891481037 and parameters: {'num_leaves': 136, 'min_data_in_leaf': 14, 'max_bin': 296, 'bagging_fraction': 0.9429977124167308, 'feature_fraction': 0.49847919145103275, 'min_gain_to_split': 0.6477692886767676, 'lambda_l1': 0.116231948103089, 'lambda_l2': 0.994266076117514}. Best is trial 37 with value: 234.41296880280794.\u001b[0m\n"
     ]
    },
    {
     "name": "stdout",
     "output_type": "stream",
     "text": [
      "\n",
      "Training until validation scores don't improve for 100 rounds\n",
      "[500]\ttrain's l1: 215.94\tvalid's l1: 240.826\n",
      "[1000]\ttrain's l1: 180.753\tvalid's l1: 237.315\n",
      "[1500]\ttrain's l1: 164.053\tvalid's l1: 235.977\n",
      "Early stopping, best iteration is:\n",
      "[1649]\ttrain's l1: 160.953\tvalid's l1: 235.764\n"
     ]
    },
    {
     "name": "stderr",
     "output_type": "stream",
     "text": [
      "\u001b[32m[I 2023-05-27 13:42:11,384]\u001b[0m Trial 39 finished with value: 235.7636199741035 and parameters: {'num_leaves': 125, 'min_data_in_leaf': 11, 'max_bin': 270, 'bagging_fraction': 0.9379487099652445, 'feature_fraction': 0.5283423593590241, 'min_gain_to_split': 0.5768765211947031, 'lambda_l1': 0.09416799203307273, 'lambda_l2': 0.6571573911930445}. Best is trial 37 with value: 234.41296880280794.\u001b[0m\n"
     ]
    },
    {
     "name": "stdout",
     "output_type": "stream",
     "text": [
      "\n",
      "Training until validation scores don't improve for 100 rounds\n",
      "[500]\ttrain's l1: 196.853\tvalid's l1: 239.339\n",
      "[1000]\ttrain's l1: 157.546\tvalid's l1: 236.347\n",
      "Early stopping, best iteration is:\n",
      "[1275]\ttrain's l1: 146.053\tvalid's l1: 235.964\n"
     ]
    },
    {
     "name": "stderr",
     "output_type": "stream",
     "text": [
      "\u001b[32m[I 2023-05-27 13:42:42,624]\u001b[0m Trial 40 finished with value: 235.96420144650077 and parameters: {'num_leaves': 189, 'min_data_in_leaf': 7, 'max_bin': 313, 'bagging_fraction': 0.9492228630003567, 'feature_fraction': 0.5506294667258881, 'min_gain_to_split': 0.4651994696603268, 'lambda_l1': 0.0576618838215508, 'lambda_l2': 0.36207209227152304}. Best is trial 37 with value: 234.41296880280794.\u001b[0m\n"
     ]
    },
    {
     "name": "stdout",
     "output_type": "stream",
     "text": [
      "\n",
      "Training until validation scores don't improve for 100 rounds\n",
      "[500]\ttrain's l1: 219.343\tvalid's l1: 241.883\n",
      "[1000]\ttrain's l1: 184.984\tvalid's l1: 238.573\n",
      "[1500]\ttrain's l1: 168.863\tvalid's l1: 237.282\n",
      "[2000]\ttrain's l1: 158.305\tvalid's l1: 236.791\n",
      "[2500]\ttrain's l1: 150.345\tvalid's l1: 236.52\n",
      "Early stopping, best iteration is:\n",
      "[2824]\ttrain's l1: 146.479\tvalid's l1: 236.349\n"
     ]
    },
    {
     "name": "stderr",
     "output_type": "stream",
     "text": [
      "\u001b[32m[I 2023-05-27 13:43:22,049]\u001b[0m Trial 41 finished with value: 236.3488006042655 and parameters: {'num_leaves': 111, 'min_data_in_leaf': 5, 'max_bin': 292, 'bagging_fraction': 0.9359939827568055, 'feature_fraction': 0.5324528821480918, 'min_gain_to_split': 0.9915981145945189, 'lambda_l1': 0.07975804736374541, 'lambda_l2': 0.49307358133880086}. Best is trial 37 with value: 234.41296880280794.\u001b[0m\n"
     ]
    },
    {
     "name": "stdout",
     "output_type": "stream",
     "text": [
      "\n",
      "Training until validation scores don't improve for 100 rounds\n",
      "[500]\ttrain's l1: 209.411\tvalid's l1: 240.727\n",
      "[1000]\ttrain's l1: 176.627\tvalid's l1: 237.997\n",
      "[1500]\ttrain's l1: 159.713\tvalid's l1: 237.092\n",
      "[2000]\ttrain's l1: 148.134\tvalid's l1: 236.619\n",
      "[2500]\ttrain's l1: 139.59\tvalid's l1: 236.314\n",
      "Early stopping, best iteration is:\n",
      "[2823]\ttrain's l1: 135.152\tvalid's l1: 236.23\n"
     ]
    },
    {
     "name": "stderr",
     "output_type": "stream",
     "text": [
      "\u001b[32m[I 2023-05-27 13:44:12,881]\u001b[0m Trial 42 finished with value: 236.2303634996909 and parameters: {'num_leaves': 149, 'min_data_in_leaf': 15, 'max_bin': 331, 'bagging_fraction': 0.9162209559645557, 'feature_fraction': 0.5157689794453436, 'min_gain_to_split': 0.36245838522129414, 'lambda_l1': 0.13639102226138564, 'lambda_l2': 0.6518136552864724}. Best is trial 37 with value: 234.41296880280794.\u001b[0m\n"
     ]
    },
    {
     "name": "stdout",
     "output_type": "stream",
     "text": [
      "\n",
      "Training until validation scores don't improve for 100 rounds\n",
      "[500]\ttrain's l1: 235.568\tvalid's l1: 242.95\n",
      "[1000]\ttrain's l1: 216.884\tvalid's l1: 238.779\n",
      "[1500]\ttrain's l1: 201.592\tvalid's l1: 237.293\n",
      "[2000]\ttrain's l1: 190.174\tvalid's l1: 236.432\n",
      "Early stopping, best iteration is:\n",
      "[1994]\ttrain's l1: 190.26\tvalid's l1: 236.418\n"
     ]
    },
    {
     "name": "stderr",
     "output_type": "stream",
     "text": [
      "\u001b[32m[I 2023-05-27 13:44:35,065]\u001b[0m Trial 43 finished with value: 236.41806652730392 and parameters: {'num_leaves': 60, 'min_data_in_leaf': 13, 'max_bin': 311, 'bagging_fraction': 0.9247986197439474, 'feature_fraction': 0.505721614750542, 'min_gain_to_split': 0.2502286185172951, 'lambda_l1': 0.19509398905005093, 'lambda_l2': 0.4176618580039829}. Best is trial 37 with value: 234.41296880280794.\u001b[0m\n"
     ]
    },
    {
     "name": "stdout",
     "output_type": "stream",
     "text": [
      "\n",
      "Training until validation scores don't improve for 100 rounds\n",
      "[500]\ttrain's l1: 220.653\tvalid's l1: 241.476\n",
      "[1000]\ttrain's l1: 189.262\tvalid's l1: 237.811\n",
      "[1500]\ttrain's l1: 170.585\tvalid's l1: 236.784\n",
      "Early stopping, best iteration is:\n",
      "[1686]\ttrain's l1: 165.125\tvalid's l1: 236.505\n"
     ]
    },
    {
     "name": "stderr",
     "output_type": "stream",
     "text": [
      "\u001b[32m[I 2023-05-27 13:45:01,687]\u001b[0m Trial 44 finished with value: 236.50509414661113 and parameters: {'num_leaves': 98, 'min_data_in_leaf': 4, 'max_bin': 346, 'bagging_fraction': 0.9126617701767394, 'feature_fraction': 0.5910457340276731, 'min_gain_to_split': 0.4572983613718482, 'lambda_l1': 0.04768209949353405, 'lambda_l2': 0.30815619635586944}. Best is trial 37 with value: 234.41296880280794.\u001b[0m\n"
     ]
    },
    {
     "name": "stdout",
     "output_type": "stream",
     "text": [
      "\n",
      "Training until validation scores don't improve for 100 rounds\n",
      "[500]\ttrain's l1: 206.518\tvalid's l1: 239.924\n",
      "[1000]\ttrain's l1: 174.659\tvalid's l1: 237.177\n",
      "[1500]\ttrain's l1: 158.207\tvalid's l1: 236.673\n",
      "Early stopping, best iteration is:\n",
      "[1416]\ttrain's l1: 160.626\tvalid's l1: 236.6\n"
     ]
    },
    {
     "name": "stderr",
     "output_type": "stream",
     "text": [
      "\u001b[32m[I 2023-05-27 13:45:29,279]\u001b[0m Trial 45 finished with value: 236.5996424821209 and parameters: {'num_leaves': 159, 'min_data_in_leaf': 19, 'max_bin': 299, 'bagging_fraction': 0.9324967526547067, 'feature_fraction': 0.5442383769223265, 'min_gain_to_split': 0.34541248265168645, 'lambda_l1': 0.09265434608850716, 'lambda_l2': 0.3700656839447752}. Best is trial 37 with value: 234.41296880280794.\u001b[0m\n"
     ]
    },
    {
     "name": "stdout",
     "output_type": "stream",
     "text": [
      "\n",
      "Training until validation scores don't improve for 100 rounds\n",
      "[500]\ttrain's l1: 204.031\tvalid's l1: 240.816\n",
      "[1000]\ttrain's l1: 164.971\tvalid's l1: 237.18\n",
      "[1500]\ttrain's l1: 147.306\tvalid's l1: 236.474\n",
      "Early stopping, best iteration is:\n",
      "[1550]\ttrain's l1: 145.776\tvalid's l1: 236.414\n"
     ]
    },
    {
     "name": "stderr",
     "output_type": "stream",
     "text": [
      "\u001b[32m[I 2023-05-27 13:46:02,304]\u001b[0m Trial 46 finished with value: 236.41350581202397 and parameters: {'num_leaves': 167, 'min_data_in_leaf': 9, 'max_bin': 369, 'bagging_fraction': 0.9221928707161064, 'feature_fraction': 0.4813389238242606, 'min_gain_to_split': 0.2085460377072825, 'lambda_l1': 0.11532220957487231, 'lambda_l2': 0.552392870644522}. Best is trial 37 with value: 234.41296880280794.\u001b[0m\n"
     ]
    },
    {
     "name": "stdout",
     "output_type": "stream",
     "text": [
      "\n",
      "Training until validation scores don't improve for 100 rounds\n",
      "[500]\ttrain's l1: 208.787\tvalid's l1: 240.216\n",
      "[1000]\ttrain's l1: 170.248\tvalid's l1: 236.956\n",
      "[1500]\ttrain's l1: 152.831\tvalid's l1: 236.085\n",
      "Early stopping, best iteration is:\n",
      "[1664]\ttrain's l1: 148.149\tvalid's l1: 235.909\n"
     ]
    },
    {
     "name": "stderr",
     "output_type": "stream",
     "text": [
      "\u001b[32m[I 2023-05-27 13:46:32,230]\u001b[0m Trial 47 finished with value: 235.90928319731995 and parameters: {'num_leaves': 143, 'min_data_in_leaf': 7, 'max_bin': 323, 'bagging_fraction': 0.9282366178868434, 'feature_fraction': 0.5242916123527519, 'min_gain_to_split': 0.5389345170821803, 'lambda_l1': 0.08042549874109639, 'lambda_l2': 0.7244510441752132}. Best is trial 37 with value: 234.41296880280794.\u001b[0m\n"
     ]
    },
    {
     "name": "stdout",
     "output_type": "stream",
     "text": [
      "\n",
      "Training until validation scores don't improve for 100 rounds\n",
      "[500]\ttrain's l1: 213.651\tvalid's l1: 240.411\n",
      "[1000]\ttrain's l1: 180.828\tvalid's l1: 237.61\n",
      "[1500]\ttrain's l1: 162.195\tvalid's l1: 236.332\n",
      "[2000]\ttrain's l1: 149.09\tvalid's l1: 235.933\n",
      "Early stopping, best iteration is:\n",
      "[2105]\ttrain's l1: 146.78\tvalid's l1: 235.836\n"
     ]
    },
    {
     "name": "stderr",
     "output_type": "stream",
     "text": [
      "\u001b[32m[I 2023-05-27 13:47:05,045]\u001b[0m Trial 48 finished with value: 235.83556200694437 and parameters: {'num_leaves': 127, 'min_data_in_leaf': 11, 'max_bin': 285, 'bagging_fraction': 0.9123622957110145, 'feature_fraction': 0.556614129825321, 'min_gain_to_split': 0.7388983006626217, 'lambda_l1': 0.05669907497044008, 'lambda_l2': 0.46755385021838786}. Best is trial 37 with value: 234.41296880280794.\u001b[0m\n"
     ]
    },
    {
     "name": "stdout",
     "output_type": "stream",
     "text": [
      "\n",
      "Training until validation scores don't improve for 100 rounds\n",
      "[500]\ttrain's l1: 196.964\tvalid's l1: 239.525\n",
      "[1000]\ttrain's l1: 154.57\tvalid's l1: 236.352\n",
      "[1500]\ttrain's l1: 135.462\tvalid's l1: 235.48\n",
      "Early stopping, best iteration is:\n",
      "[1501]\ttrain's l1: 135.434\tvalid's l1: 235.476\n"
     ]
    },
    {
     "name": "stderr",
     "output_type": "stream",
     "text": [
      "\u001b[32m[I 2023-05-27 13:47:36,522]\u001b[0m Trial 49 finished with value: 235.47594377980306 and parameters: {'num_leaves': 199, 'min_data_in_leaf': 4, 'max_bin': 213, 'bagging_fraction': 0.9396575769161083, 'feature_fraction': 0.5313459161263152, 'min_gain_to_split': 0.4093342355851561, 'lambda_l1': 0.16282888994522546, 'lambda_l2': 0.9937991051754348}. Best is trial 37 with value: 234.41296880280794.\u001b[0m\n"
     ]
    },
    {
     "name": "stdout",
     "output_type": "stream",
     "text": [
      "\n",
      "Training until validation scores don't improve for 100 rounds\n",
      "[500]\ttrain's l1: 196.568\tvalid's l1: 240.699\n",
      "[1000]\ttrain's l1: 156.023\tvalid's l1: 237.96\n",
      "[1500]\ttrain's l1: 136.865\tvalid's l1: 237.567\n",
      "Early stopping, best iteration is:\n",
      "[1645]\ttrain's l1: 133.125\tvalid's l1: 237.467\n"
     ]
    },
    {
     "name": "stderr",
     "output_type": "stream",
     "text": [
      "\u001b[32m[I 2023-05-27 13:48:08,256]\u001b[0m Trial 50 finished with value: 237.467489597021 and parameters: {'num_leaves': 200, 'min_data_in_leaf': 3, 'max_bin': 216, 'bagging_fraction': 0.9424561455493412, 'feature_fraction': 0.4897228750626488, 'min_gain_to_split': 0.45087375864532286, 'lambda_l1': 0.13169363278290963, 'lambda_l2': 0.8104578800922081}. Best is trial 37 with value: 234.41296880280794.\u001b[0m\n"
     ]
    },
    {
     "name": "stdout",
     "output_type": "stream",
     "text": [
      "\n",
      "Training until validation scores don't improve for 100 rounds\n",
      "[500]\ttrain's l1: 198.451\tvalid's l1: 240.201\n",
      "[1000]\ttrain's l1: 157.343\tvalid's l1: 236.673\n",
      "Early stopping, best iteration is:\n",
      "[1298]\ttrain's l1: 143.821\tvalid's l1: 236.386\n"
     ]
    },
    {
     "name": "stderr",
     "output_type": "stream",
     "text": [
      "\u001b[32m[I 2023-05-27 13:48:35,272]\u001b[0m Trial 51 finished with value: 236.38619844127527 and parameters: {'num_leaves': 192, 'min_data_in_leaf': 4, 'max_bin': 209, 'bagging_fraction': 0.9332800533162745, 'feature_fraction': 0.5369797820103986, 'min_gain_to_split': 0.29340499169955114, 'lambda_l1': 0.1724793087872038, 'lambda_l2': 0.631766518418124}. Best is trial 37 with value: 234.41296880280794.\u001b[0m\n"
     ]
    },
    {
     "name": "stdout",
     "output_type": "stream",
     "text": [
      "\n",
      "Training until validation scores don't improve for 100 rounds\n",
      "[500]\ttrain's l1: 204.553\tvalid's l1: 240.573\n",
      "[1000]\ttrain's l1: 166.995\tvalid's l1: 236.745\n",
      "[1500]\ttrain's l1: 148.733\tvalid's l1: 236.216\n",
      "Early stopping, best iteration is:\n",
      "[1790]\ttrain's l1: 140.897\tvalid's l1: 235.98\n"
     ]
    },
    {
     "name": "stderr",
     "output_type": "stream",
     "text": [
      "\u001b[32m[I 2023-05-27 13:49:08,108]\u001b[0m Trial 52 finished with value: 235.9797432700678 and parameters: {'num_leaves': 171, 'min_data_in_leaf': 6, 'max_bin': 201, 'bagging_fraction': 0.9256130577395421, 'feature_fraction': 0.5074381475090526, 'min_gain_to_split': 0.38001033123800787, 'lambda_l1': 0.15597861907956237, 'lambda_l2': 0.9371617585383798}. Best is trial 37 with value: 234.41296880280794.\u001b[0m\n"
     ]
    },
    {
     "name": "stdout",
     "output_type": "stream",
     "text": [
      "\n",
      "Training until validation scores don't improve for 100 rounds\n",
      "[500]\ttrain's l1: 218.42\tvalid's l1: 240.94\n",
      "[1000]\ttrain's l1: 187.426\tvalid's l1: 238.229\n",
      "[1500]\ttrain's l1: 165.535\tvalid's l1: 236.676\n",
      "[2000]\ttrain's l1: 154.049\tvalid's l1: 236.163\n",
      "[2500]\ttrain's l1: 145.924\tvalid's l1: 235.888\n",
      "Early stopping, best iteration is:\n",
      "[2402]\ttrain's l1: 147.539\tvalid's l1: 235.866\n"
     ]
    },
    {
     "name": "stderr",
     "output_type": "stream",
     "text": [
      "\u001b[32m[I 2023-05-27 13:49:42,296]\u001b[0m Trial 53 finished with value: 235.86569925835084 and parameters: {'num_leaves': 114, 'min_data_in_leaf': 8, 'max_bin': 222, 'bagging_fraction': 0.9409022046619588, 'feature_fraction': 0.5381503888915864, 'min_gain_to_split': 0.17057784266829054, 'lambda_l1': 0.21823841895975837, 'lambda_l2': 0.7484823361616656}. Best is trial 37 with value: 234.41296880280794.\u001b[0m\n"
     ]
    },
    {
     "name": "stdout",
     "output_type": "stream",
     "text": [
      "\n",
      "Training until validation scores don't improve for 100 rounds\n",
      "[500]\ttrain's l1: 202.265\tvalid's l1: 239.085\n",
      "[1000]\ttrain's l1: 167.888\tvalid's l1: 236.316\n",
      "[1500]\ttrain's l1: 150.603\tvalid's l1: 235.922\n",
      "[2000]\ttrain's l1: 139.434\tvalid's l1: 235.476\n",
      "Early stopping, best iteration is:\n",
      "[1971]\ttrain's l1: 139.929\tvalid's l1: 235.454\n"
     ]
    },
    {
     "name": "stderr",
     "output_type": "stream",
     "text": [
      "\u001b[32m[I 2023-05-27 13:50:20,833]\u001b[0m Trial 54 finished with value: 235.45446832223047 and parameters: {'num_leaves': 182, 'min_data_in_leaf': 18, 'max_bin': 253, 'bagging_fraction': 0.9206313297511809, 'feature_fraction': 0.5549014857746786, 'min_gain_to_split': 0.07777499993972242, 'lambda_l1': 0.09496357041775656, 'lambda_l2': 0.5464224327017554}. Best is trial 37 with value: 234.41296880280794.\u001b[0m\n"
     ]
    },
    {
     "name": "stdout",
     "output_type": "stream",
     "text": [
      "\n",
      "Training until validation scores don't improve for 100 rounds\n",
      "[500]\ttrain's l1: 197.451\tvalid's l1: 239.922\n",
      "[1000]\ttrain's l1: 156.094\tvalid's l1: 236.281\n",
      "Early stopping, best iteration is:\n",
      "[1071]\ttrain's l1: 152.091\tvalid's l1: 235.957\n"
     ]
    },
    {
     "name": "stderr",
     "output_type": "stream",
     "text": [
      "\u001b[32m[I 2023-05-27 13:50:45,597]\u001b[0m Trial 55 finished with value: 235.95720213340545 and parameters: {'num_leaves': 185, 'min_data_in_leaf': 3, 'max_bin': 257, 'bagging_fraction': 0.9316828648098506, 'feature_fraction': 0.5555813956531737, 'min_gain_to_split': 0.07320556160713743, 'lambda_l1': 0.10714020946773775, 'lambda_l2': 0.954463804014921}. Best is trial 37 with value: 234.41296880280794.\u001b[0m\n"
     ]
    },
    {
     "name": "stdout",
     "output_type": "stream",
     "text": [
      "\n",
      "Training until validation scores don't improve for 100 rounds\n",
      "[500]\ttrain's l1: 203.801\tvalid's l1: 239.744\n",
      "[1000]\ttrain's l1: 171.427\tvalid's l1: 236.658\n",
      "[1500]\ttrain's l1: 156.471\tvalid's l1: 235.759\n",
      "Early stopping, best iteration is:\n",
      "[1685]\ttrain's l1: 151.842\tvalid's l1: 235.626\n"
     ]
    },
    {
     "name": "stderr",
     "output_type": "stream",
     "text": [
      "\u001b[32m[I 2023-05-27 13:51:17,792]\u001b[0m Trial 56 finished with value: 235.62609790340434 and parameters: {'num_leaves': 179, 'min_data_in_leaf': 21, 'max_bin': 268, 'bagging_fraction': 0.9212432996017361, 'feature_fraction': 0.5201336732871154, 'min_gain_to_split': 0.11322778510258653, 'lambda_l1': 0.0815991590476476, 'lambda_l2': 0.6111254672582065}. Best is trial 37 with value: 234.41296880280794.\u001b[0m\n"
     ]
    },
    {
     "name": "stdout",
     "output_type": "stream",
     "text": [
      "\n",
      "Training until validation scores don't improve for 100 rounds\n",
      "[500]\ttrain's l1: 201.118\tvalid's l1: 240.421\n",
      "[1000]\ttrain's l1: 162.509\tvalid's l1: 237.636\n",
      "Early stopping, best iteration is:\n",
      "[1252]\ttrain's l1: 151.677\tvalid's l1: 237.17\n"
     ]
    },
    {
     "name": "stderr",
     "output_type": "stream",
     "text": [
      "\u001b[32m[I 2023-05-27 13:51:43,257]\u001b[0m Trial 57 finished with value: 237.1700300408721 and parameters: {'num_leaves': 182, 'min_data_in_leaf': 6, 'max_bin': 237, 'bagging_fraction': 0.9455215625928849, 'feature_fraction': 0.5300170587993217, 'min_gain_to_split': 0.08291624387901819, 'lambda_l1': 0.09150557228886856, 'lambda_l2': 0.5339734343409654}. Best is trial 37 with value: 234.41296880280794.\u001b[0m\n"
     ]
    },
    {
     "name": "stdout",
     "output_type": "stream",
     "text": [
      "\n",
      "Training until validation scores don't improve for 100 rounds\n",
      "[500]\ttrain's l1: 199.513\tvalid's l1: 239.9\n",
      "[1000]\ttrain's l1: 161.055\tvalid's l1: 237.358\n",
      "[1500]\ttrain's l1: 144.409\tvalid's l1: 236.821\n",
      "Early stopping, best iteration is:\n",
      "[1571]\ttrain's l1: 142.578\tvalid's l1: 236.789\n"
     ]
    },
    {
     "name": "stderr",
     "output_type": "stream",
     "text": [
      "\u001b[32m[I 2023-05-27 13:52:16,793]\u001b[0m Trial 58 finished with value: 236.78905592040462 and parameters: {'num_leaves': 194, 'min_data_in_leaf': 17, 'max_bin': 247, 'bagging_fraction': 0.9384647930073038, 'feature_fraction': 0.546876038861662, 'min_gain_to_split': 0.22576802160996834, 'lambda_l1': 0.1295224092392249, 'lambda_l2': 0.7073882845096596}. Best is trial 37 with value: 234.41296880280794.\u001b[0m\n"
     ]
    },
    {
     "name": "stdout",
     "output_type": "stream",
     "text": [
      "\n",
      "Training until validation scores don't improve for 100 rounds\n",
      "[500]\ttrain's l1: 203.131\tvalid's l1: 239.996\n",
      "[1000]\ttrain's l1: 165.831\tvalid's l1: 237.192\n",
      "[1500]\ttrain's l1: 146.511\tvalid's l1: 236.326\n",
      "[2000]\ttrain's l1: 133.081\tvalid's l1: 236.038\n",
      "[2500]\ttrain's l1: 124.075\tvalid's l1: 235.847\n",
      "Early stopping, best iteration is:\n",
      "[2440]\ttrain's l1: 125.006\tvalid's l1: 235.772\n"
     ]
    },
    {
     "name": "stderr",
     "output_type": "stream",
     "text": [
      "\u001b[32m[I 2023-05-27 13:53:06,546]\u001b[0m Trial 59 finished with value: 235.77190767166238 and parameters: {'num_leaves': 170, 'min_data_in_leaf': 8, 'max_bin': 290, 'bagging_fraction': 0.9290742527994809, 'feature_fraction': 0.5858110057728207, 'min_gain_to_split': 0.5572113108572773, 'lambda_l1': 0.17595746270698, 'lambda_l2': 0.8261862580691814}. Best is trial 37 with value: 234.41296880280794.\u001b[0m\n"
     ]
    },
    {
     "name": "stdout",
     "output_type": "stream",
     "text": [
      "\n",
      "Training until validation scores don't improve for 100 rounds\n",
      "[500]\ttrain's l1: 205.006\tvalid's l1: 240.641\n",
      "[1000]\ttrain's l1: 164.949\tvalid's l1: 237.387\n",
      "Early stopping, best iteration is:\n",
      "[1314]\ttrain's l1: 151.484\tvalid's l1: 237.053\n"
     ]
    },
    {
     "name": "stderr",
     "output_type": "stream",
     "text": [
      "\u001b[32m[I 2023-05-27 13:53:34,482]\u001b[0m Trial 60 finished with value: 237.05331148402425 and parameters: {'num_leaves': 162, 'min_data_in_leaf': 3, 'max_bin': 281, 'bagging_fraction': 0.9477428609129517, 'feature_fraction': 0.5624613334703814, 'min_gain_to_split': 0.126174254100528, 'lambda_l1': 0.1066217154876133, 'lambda_l2': 0.38265187922347993}. Best is trial 37 with value: 234.41296880280794.\u001b[0m\n"
     ]
    },
    {
     "name": "stdout",
     "output_type": "stream",
     "text": [
      "\n",
      "Training until validation scores don't improve for 100 rounds\n",
      "[500]\ttrain's l1: 216.778\tvalid's l1: 241.205\n",
      "[1000]\ttrain's l1: 191.478\tvalid's l1: 238.33\n",
      "[1500]\ttrain's l1: 172.407\tvalid's l1: 237.081\n",
      "[2000]\ttrain's l1: 160.424\tvalid's l1: 236.583\n",
      "Early stopping, best iteration is:\n",
      "[2093]\ttrain's l1: 158.379\tvalid's l1: 236.551\n"
     ]
    },
    {
     "name": "stderr",
     "output_type": "stream",
     "text": [
      "\u001b[32m[I 2023-05-27 13:54:06,103]\u001b[0m Trial 61 finished with value: 236.55078168235704 and parameters: {'num_leaves': 123, 'min_data_in_leaf': 18, 'max_bin': 234, 'bagging_fraction': 0.9093611988112353, 'feature_fraction': 0.5073898960543757, 'min_gain_to_split': 0.1505126828072653, 'lambda_l1': 0.15685280941105503, 'lambda_l2': 0.5312087770365671}. Best is trial 37 with value: 234.41296880280794.\u001b[0m\n"
     ]
    },
    {
     "name": "stdout",
     "output_type": "stream",
     "text": [
      "\n",
      "Training until validation scores don't improve for 100 rounds\n",
      "[500]\ttrain's l1: 222.376\tvalid's l1: 241.474\n",
      "[1000]\ttrain's l1: 195.56\tvalid's l1: 237.99\n",
      "[1500]\ttrain's l1: 178.377\tvalid's l1: 236.992\n",
      "[2000]\ttrain's l1: 171.111\tvalid's l1: 236.429\n",
      "[2500]\ttrain's l1: 163.847\tvalid's l1: 236.111\n",
      "Early stopping, best iteration is:\n",
      "[2422]\ttrain's l1: 164.894\tvalid's l1: 236.076\n"
     ]
    },
    {
     "name": "stderr",
     "output_type": "stream",
     "text": [
      "\u001b[32m[I 2023-05-27 13:54:37,008]\u001b[0m Trial 62 finished with value: 236.07574688343587 and parameters: {'num_leaves': 104, 'min_data_in_leaf': 18, 'max_bin': 216, 'bagging_fraction': 0.9012463115516147, 'feature_fraction': 0.5427282760466912, 'min_gain_to_split': 0.07428300208013808, 'lambda_l1': 0.06944528258215166, 'lambda_l2': 0.2786834323115021}. Best is trial 37 with value: 234.41296880280794.\u001b[0m\n"
     ]
    },
    {
     "name": "stdout",
     "output_type": "stream",
     "text": [
      "\n",
      "Training until validation scores don't improve for 100 rounds\n",
      "[500]\ttrain's l1: 199.004\tvalid's l1: 239.513\n",
      "[1000]\ttrain's l1: 164.268\tvalid's l1: 236.795\n",
      "[1500]\ttrain's l1: 148.152\tvalid's l1: 236.218\n",
      "Early stopping, best iteration is:\n",
      "[1689]\ttrain's l1: 142.994\tvalid's l1: 236.028\n"
     ]
    },
    {
     "name": "stderr",
     "output_type": "stream",
     "text": [
      "\u001b[32m[I 2023-05-27 13:55:12,261]\u001b[0m Trial 63 finished with value: 236.02754664417515 and parameters: {'num_leaves': 198, 'min_data_in_leaf': 15, 'max_bin': 228, 'bagging_fraction': 0.9161864688957234, 'feature_fraction': 0.5550631678969029, 'min_gain_to_split': 0.09857924927485572, 'lambda_l1': 0.25181715636876933, 'lambda_l2': 0.4104262342704583}. Best is trial 37 with value: 234.41296880280794.\u001b[0m\n"
     ]
    },
    {
     "name": "stdout",
     "output_type": "stream",
     "text": [
      "\n",
      "Training until validation scores don't improve for 100 rounds\n",
      "[500]\ttrain's l1: 208.619\tvalid's l1: 239.373\n",
      "[1000]\ttrain's l1: 176.971\tvalid's l1: 236.469\n",
      "[1500]\ttrain's l1: 158.942\tvalid's l1: 235.612\n",
      "[2000]\ttrain's l1: 148.701\tvalid's l1: 235.334\n",
      "Early stopping, best iteration is:\n",
      "[1996]\ttrain's l1: 148.754\tvalid's l1: 235.332\n"
     ]
    },
    {
     "name": "stderr",
     "output_type": "stream",
     "text": [
      "\u001b[32m[I 2023-05-27 13:55:47,660]\u001b[0m Trial 64 finished with value: 235.3316030258016 and parameters: {'num_leaves': 156, 'min_data_in_leaf': 20, 'max_bin': 252, 'bagging_fraction': 0.9227289501480012, 'feature_fraction': 0.5302974824098641, 'min_gain_to_split': 0.06659042740363115, 'lambda_l1': 0.21310680848617258, 'lambda_l2': 0.6112076575933905}. Best is trial 37 with value: 234.41296880280794.\u001b[0m\n"
     ]
    },
    {
     "name": "stdout",
     "output_type": "stream",
     "text": [
      "\n",
      "Training until validation scores don't improve for 100 rounds\n",
      "[500]\ttrain's l1: 205.076\tvalid's l1: 239.758\n",
      "[1000]\ttrain's l1: 171.207\tvalid's l1: 236.85\n",
      "[1500]\ttrain's l1: 154.95\tvalid's l1: 236.099\n",
      "Early stopping, best iteration is:\n",
      "[1682]\ttrain's l1: 151.162\tvalid's l1: 235.956\n"
     ]
    },
    {
     "name": "stderr",
     "output_type": "stream",
     "text": [
      "\u001b[32m[I 2023-05-27 13:56:21,552]\u001b[0m Trial 65 finished with value: 235.95594350095516 and parameters: {'num_leaves': 175, 'min_data_in_leaf': 20, 'max_bin': 258, 'bagging_fraction': 0.9218063156953519, 'feature_fraction': 0.5303348619870375, 'min_gain_to_split': 0.05405425704605733, 'lambda_l1': 0.14557375086196614, 'lambda_l2': 0.6127672864478076}. Best is trial 37 with value: 234.41296880280794.\u001b[0m\n"
     ]
    },
    {
     "name": "stdout",
     "output_type": "stream",
     "text": [
      "\n",
      "Training until validation scores don't improve for 100 rounds\n",
      "[500]\ttrain's l1: 212.127\tvalid's l1: 239.899\n",
      "[1000]\ttrain's l1: 179.576\tvalid's l1: 237.332\n",
      "[1500]\ttrain's l1: 163.967\tvalid's l1: 236.51\n",
      "Early stopping, best iteration is:\n",
      "[1752]\ttrain's l1: 158.57\tvalid's l1: 236.253\n"
     ]
    },
    {
     "name": "stderr",
     "output_type": "stream",
     "text": [
      "\u001b[32m[I 2023-05-27 13:56:51,014]\u001b[0m Trial 66 finished with value: 236.25280138451686 and parameters: {'num_leaves': 144, 'min_data_in_leaf': 22, 'max_bin': 272, 'bagging_fraction': 0.9346010997113515, 'feature_fraction': 0.5239760844070704, 'min_gain_to_split': 0.0664714311479451, 'lambda_l1': 0.2087151795983084, 'lambda_l2': 0.46106663285046595}. Best is trial 37 with value: 234.41296880280794.\u001b[0m\n"
     ]
    },
    {
     "name": "stdout",
     "output_type": "stream",
     "text": [
      "\n",
      "Training until validation scores don't improve for 100 rounds\n",
      "[500]\ttrain's l1: 207.68\tvalid's l1: 240.316\n",
      "[1000]\ttrain's l1: 169.678\tvalid's l1: 236.772\n",
      "Early stopping, best iteration is:\n",
      "[1116]\ttrain's l1: 163.976\tvalid's l1: 236.437\n"
     ]
    },
    {
     "name": "stderr",
     "output_type": "stream",
     "text": [
      "\u001b[32m[I 2023-05-27 13:57:12,632]\u001b[0m Trial 67 finished with value: 236.43656581331376 and parameters: {'num_leaves': 153, 'min_data_in_leaf': 5, 'max_bin': 249, 'bagging_fraction': 0.9281565145902311, 'feature_fraction': 0.49804442479822814, 'min_gain_to_split': 0.04141041094570072, 'lambda_l1': 0.18388207231199716, 'lambda_l2': 0.715797716706045}. Best is trial 37 with value: 234.41296880280794.\u001b[0m\n"
     ]
    },
    {
     "name": "stdout",
     "output_type": "stream",
     "text": [
      "\n",
      "Training until validation scores don't improve for 100 rounds\n",
      "[500]\ttrain's l1: 211.854\tvalid's l1: 240.336\n",
      "[1000]\ttrain's l1: 171.269\tvalid's l1: 236.38\n",
      "[1500]\ttrain's l1: 151.925\tvalid's l1: 235.661\n",
      "Early stopping, best iteration is:\n",
      "[1464]\ttrain's l1: 152.926\tvalid's l1: 235.595\n"
     ]
    },
    {
     "name": "stderr",
     "output_type": "stream",
     "text": [
      "\u001b[32m[I 2023-05-27 13:57:39,681]\u001b[0m Trial 68 finished with value: 235.59451295673952 and parameters: {'num_leaves': 135, 'min_data_in_leaf': 4, 'max_bin': 264, 'bagging_fraction': 0.9410562133785136, 'feature_fraction': 0.5683926655768982, 'min_gain_to_split': 0.09080835338941673, 'lambda_l1': 0.1253389861561017, 'lambda_l2': 0.5085727912650996}. Best is trial 37 with value: 234.41296880280794.\u001b[0m\n"
     ]
    },
    {
     "name": "stdout",
     "output_type": "stream",
     "text": [
      "\n",
      "Training until validation scores don't improve for 100 rounds\n",
      "[500]\ttrain's l1: 208.288\tvalid's l1: 240.537\n",
      "[1000]\ttrain's l1: 174.781\tvalid's l1: 237.152\n",
      "[1500]\ttrain's l1: 159.129\tvalid's l1: 236.393\n",
      "Early stopping, best iteration is:\n",
      "[1853]\ttrain's l1: 151.781\tvalid's l1: 236.208\n"
     ]
    },
    {
     "name": "stderr",
     "output_type": "stream",
     "text": [
      "\u001b[32m[I 2023-05-27 13:58:15,409]\u001b[0m Trial 69 finished with value: 236.2082561770278 and parameters: {'num_leaves': 158, 'min_data_in_leaf': 20, 'max_bin': 306, 'bagging_fraction': 0.9170722476785111, 'feature_fraction': 0.511155450946985, 'min_gain_to_split': 0.07833303490161096, 'lambda_l1': 0.09743173015973054, 'lambda_l2': 0.583558979719748}. Best is trial 37 with value: 234.41296880280794.\u001b[0m\n"
     ]
    },
    {
     "name": "stdout",
     "output_type": "stream",
     "text": [
      "\n",
      "Training until validation scores don't improve for 100 rounds\n",
      "[500]\ttrain's l1: 206.813\tvalid's l1: 239.815\n",
      "[1000]\ttrain's l1: 173.989\tvalid's l1: 236.884\n",
      "[1500]\ttrain's l1: 159.211\tvalid's l1: 236.268\n",
      "Early stopping, best iteration is:\n",
      "[1670]\ttrain's l1: 154.855\tvalid's l1: 236.13\n"
     ]
    },
    {
     "name": "stderr",
     "output_type": "stream",
     "text": [
      "\u001b[32m[I 2023-05-27 13:58:47,600]\u001b[0m Trial 70 finished with value: 236.13013217067413 and parameters: {'num_leaves': 168, 'min_data_in_leaf': 25, 'max_bin': 243, 'bagging_fraction': 0.9252330166271845, 'feature_fraction': 0.5421067742746162, 'min_gain_to_split': 0.12682524219523472, 'lambda_l1': 0.11264217832132328, 'lambda_l2': 0.8866496528058796}. Best is trial 37 with value: 234.41296880280794.\u001b[0m\n"
     ]
    },
    {
     "name": "stdout",
     "output_type": "stream",
     "text": [
      "\n",
      "Training until validation scores don't improve for 100 rounds\n",
      "[500]\ttrain's l1: 211.647\tvalid's l1: 240.511\n",
      "[1000]\ttrain's l1: 169.438\tvalid's l1: 237.19\n",
      "[1500]\ttrain's l1: 151.779\tvalid's l1: 236.411\n",
      "[2000]\ttrain's l1: 139.93\tvalid's l1: 235.904\n",
      "Early stopping, best iteration is:\n",
      "[2249]\ttrain's l1: 134.653\tvalid's l1: 235.604\n"
     ]
    },
    {
     "name": "stderr",
     "output_type": "stream",
     "text": [
      "\u001b[32m[I 2023-05-27 13:59:27,692]\u001b[0m Trial 71 finished with value: 235.60368722707753 and parameters: {'num_leaves': 135, 'min_data_in_leaf': 4, 'max_bin': 260, 'bagging_fraction': 0.9381439047595209, 'feature_fraction': 0.5694241530819248, 'min_gain_to_split': 0.09294737554401743, 'lambda_l1': 0.1260901877327898, 'lambda_l2': 0.4845251257110983}. Best is trial 37 with value: 234.41296880280794.\u001b[0m\n"
     ]
    },
    {
     "name": "stdout",
     "output_type": "stream",
     "text": [
      "\n",
      "Training until validation scores don't improve for 100 rounds\n",
      "[500]\ttrain's l1: 203.131\tvalid's l1: 240.2\n",
      "[1000]\ttrain's l1: 163.572\tvalid's l1: 237.218\n",
      "[1500]\ttrain's l1: 145.666\tvalid's l1: 236.461\n",
      "Early stopping, best iteration is:\n",
      "[1803]\ttrain's l1: 137.993\tvalid's l1: 236.325\n"
     ]
    },
    {
     "name": "stderr",
     "output_type": "stream",
     "text": [
      "\u001b[32m[I 2023-05-27 14:00:06,394]\u001b[0m Trial 72 finished with value: 236.32520517317303 and parameters: {'num_leaves': 163, 'min_data_in_leaf': 2, 'max_bin': 253, 'bagging_fraction': 0.9437727051349635, 'feature_fraction': 0.577995500504454, 'min_gain_to_split': 0.08738338112482244, 'lambda_l1': 0.14942311759207086, 'lambda_l2': 0.7539901311424566}. Best is trial 37 with value: 234.41296880280794.\u001b[0m\n"
     ]
    },
    {
     "name": "stdout",
     "output_type": "stream",
     "text": [
      "\n",
      "Training until validation scores don't improve for 100 rounds\n",
      "[500]\ttrain's l1: 207.65\tvalid's l1: 240.144\n",
      "[1000]\ttrain's l1: 168.513\tvalid's l1: 237.099\n",
      "[1500]\ttrain's l1: 150.18\tvalid's l1: 236.262\n",
      "[2000]\ttrain's l1: 137.683\tvalid's l1: 235.751\n",
      "Early stopping, best iteration is:\n",
      "[1947]\ttrain's l1: 138.617\tvalid's l1: 235.72\n"
     ]
    },
    {
     "name": "stderr",
     "output_type": "stream",
     "text": [
      "\u001b[32m[I 2023-05-27 14:00:43,746]\u001b[0m Trial 73 finished with value: 235.72049953936258 and parameters: {'num_leaves': 152, 'min_data_in_leaf': 7, 'max_bin': 276, 'bagging_fraction': 0.9337757264887728, 'feature_fraction': 0.562006347434518, 'min_gain_to_split': 0.05701816628918534, 'lambda_l1': 0.08460837208030907, 'lambda_l2': 0.5278139476408781}. Best is trial 37 with value: 234.41296880280794.\u001b[0m\n"
     ]
    },
    {
     "name": "stdout",
     "output_type": "stream",
     "text": [
      "\n",
      "Training until validation scores don't improve for 100 rounds\n",
      "[500]\ttrain's l1: 214.05\tvalid's l1: 241.432\n",
      "[1000]\ttrain's l1: 176.766\tvalid's l1: 238.032\n",
      "[1500]\ttrain's l1: 159.88\tvalid's l1: 236.933\n",
      "Early stopping, best iteration is:\n",
      "[1803]\ttrain's l1: 152.295\tvalid's l1: 236.576\n"
     ]
    },
    {
     "name": "stderr",
     "output_type": "stream",
     "text": [
      "\u001b[32m[I 2023-05-27 14:01:13,550]\u001b[0m Trial 74 finished with value: 236.57564374099408 and parameters: {'num_leaves': 129, 'min_data_in_leaf': 5, 'max_bin': 233, 'bagging_fraction': 0.9496289319040362, 'feature_fraction': 0.549276681440851, 'min_gain_to_split': 0.06888683148808972, 'lambda_l1': 0.12614073697956033, 'lambda_l2': 0.9989930058777192}. Best is trial 37 with value: 234.41296880280794.\u001b[0m\n"
     ]
    },
    {
     "name": "stdout",
     "output_type": "stream",
     "text": [
      "\n",
      "Training until validation scores don't improve for 100 rounds\n",
      "[500]\ttrain's l1: 209.018\tvalid's l1: 240.776\n",
      "[1000]\ttrain's l1: 168.575\tvalid's l1: 237.704\n",
      "Early stopping, best iteration is:\n",
      "[1074]\ttrain's l1: 165.537\tvalid's l1: 237.461\n"
     ]
    },
    {
     "name": "stderr",
     "output_type": "stream",
     "text": [
      "\u001b[32m[I 2023-05-27 14:01:34,601]\u001b[0m Trial 75 finished with value: 237.46148231105565 and parameters: {'num_leaves': 147, 'min_data_in_leaf': 4, 'max_bin': 265, 'bagging_fraction': 0.9387580268153912, 'feature_fraction': 0.5354894222697131, 'min_gain_to_split': 0.05015103691793913, 'lambda_l1': 0.1685808030174543, 'lambda_l2': 0.3446764221836932}. Best is trial 37 with value: 234.41296880280794.\u001b[0m\n"
     ]
    },
    {
     "name": "stdout",
     "output_type": "stream",
     "text": [
      "\n",
      "Training until validation scores don't improve for 100 rounds\n",
      "[500]\ttrain's l1: 212.333\tvalid's l1: 240.286\n",
      "[1000]\ttrain's l1: 177.347\tvalid's l1: 236.913\n",
      "[1500]\ttrain's l1: 160.981\tvalid's l1: 236.221\n",
      "Early stopping, best iteration is:\n",
      "[1690]\ttrain's l1: 156.022\tvalid's l1: 236.108\n"
     ]
    },
    {
     "name": "stderr",
     "output_type": "stream",
     "text": [
      "\u001b[32m[I 2023-05-27 14:02:05,884]\u001b[0m Trial 76 finished with value: 236.10789988192082 and parameters: {'num_leaves': 138, 'min_data_in_leaf': 22, 'max_bin': 263, 'bagging_fraction': 0.9428258300629961, 'feature_fraction': 0.6087436102700724, 'min_gain_to_split': 0.09899080921037137, 'lambda_l1': 0.10555039160411815, 'lambda_l2': 0.6701163457564199}. Best is trial 37 with value: 234.41296880280794.\u001b[0m\n"
     ]
    },
    {
     "name": "stdout",
     "output_type": "stream",
     "text": [
      "\n",
      "Training until validation scores don't improve for 100 rounds\n",
      "[500]\ttrain's l1: 202.6\tvalid's l1: 240.305\n",
      "[1000]\ttrain's l1: 162.094\tvalid's l1: 237.041\n",
      "[1500]\ttrain's l1: 144.896\tvalid's l1: 236.147\n",
      "Early stopping, best iteration is:\n",
      "[1688]\ttrain's l1: 138.901\tvalid's l1: 235.992\n"
     ]
    },
    {
     "name": "stderr",
     "output_type": "stream",
     "text": [
      "\u001b[32m[I 2023-05-27 14:02:39,909]\u001b[0m Trial 77 finished with value: 235.99173937996397 and parameters: {'num_leaves': 174, 'min_data_in_leaf': 6, 'max_bin': 301, 'bagging_fraction': 0.929609030295018, 'feature_fraction': 0.5215969416872762, 'min_gain_to_split': 0.06193446995939999, 'lambda_l1': 0.19792536076402414, 'lambda_l2': 0.4251607847230794}. Best is trial 37 with value: 234.41296880280794.\u001b[0m\n"
     ]
    },
    {
     "name": "stdout",
     "output_type": "stream",
     "text": [
      "\n",
      "Training until validation scores don't improve for 100 rounds\n",
      "[500]\ttrain's l1: 201.432\tvalid's l1: 240.128\n",
      "[1000]\ttrain's l1: 166.106\tvalid's l1: 236.956\n",
      "[1500]\ttrain's l1: 148.145\tvalid's l1: 236.324\n",
      "[2000]\ttrain's l1: 137.517\tvalid's l1: 236.026\n",
      "Early stopping, best iteration is:\n",
      "[2191]\ttrain's l1: 134.185\tvalid's l1: 235.946\n"
     ]
    },
    {
     "name": "stderr",
     "output_type": "stream",
     "text": [
      "\u001b[32m[I 2023-05-27 14:03:26,150]\u001b[0m Trial 78 finished with value: 235.94560019883963 and parameters: {'num_leaves': 190, 'min_data_in_leaf': 16, 'max_bin': 281, 'bagging_fraction': 0.9342832153628629, 'feature_fraction': 0.5033754193950054, 'min_gain_to_split': 0.11805533075374525, 'lambda_l1': 0.08961138523402191, 'lambda_l2': 0.826105128426872}. Best is trial 37 with value: 234.41296880280794.\u001b[0m\n"
     ]
    },
    {
     "name": "stdout",
     "output_type": "stream",
     "text": [
      "\n",
      "Training until validation scores don't improve for 100 rounds\n",
      "[500]\ttrain's l1: 212.598\tvalid's l1: 240.129\n",
      "[1000]\ttrain's l1: 178.643\tvalid's l1: 237.194\n",
      "[1500]\ttrain's l1: 157.515\tvalid's l1: 236.061\n",
      "[2000]\ttrain's l1: 145.775\tvalid's l1: 235.699\n",
      "Early stopping, best iteration is:\n",
      "[2231]\ttrain's l1: 142.052\tvalid's l1: 235.564\n"
     ]
    },
    {
     "name": "stderr",
     "output_type": "stream",
     "text": [
      "\u001b[32m[I 2023-05-27 14:04:05,585]\u001b[0m Trial 79 finished with value: 235.56380265951293 and parameters: {'num_leaves': 132, 'min_data_in_leaf': 8, 'max_bin': 355, 'bagging_fraction': 0.9211999710126189, 'feature_fraction': 0.5140929603676656, 'min_gain_to_split': 0.04515170750894194, 'lambda_l1': 0.07187296582706294, 'lambda_l2': 0.5977224599703806}. Best is trial 37 with value: 234.41296880280794.\u001b[0m\n"
     ]
    },
    {
     "name": "stdout",
     "output_type": "stream",
     "text": [
      "\n",
      "Training until validation scores don't improve for 100 rounds\n",
      "[500]\ttrain's l1: 209.929\tvalid's l1: 240.429\n",
      "[1000]\ttrain's l1: 171.669\tvalid's l1: 236.372\n",
      "[1500]\ttrain's l1: 155.829\tvalid's l1: 235.301\n",
      "Early stopping, best iteration is:\n",
      "[1792]\ttrain's l1: 148.436\tvalid's l1: 235.138\n"
     ]
    },
    {
     "name": "stderr",
     "output_type": "stream",
     "text": [
      "\u001b[32m[I 2023-05-27 14:04:38,257]\u001b[0m Trial 80 finished with value: 235.13847752443206 and parameters: {'num_leaves': 144, 'min_data_in_leaf': 10, 'max_bin': 359, 'bagging_fraction': 0.9135082355226031, 'feature_fraction': 0.4657833978167425, 'min_gain_to_split': 0.036674601848762665, 'lambda_l1': 0.06942225407139492, 'lambda_l2': 0.5916708209829082}. Best is trial 37 with value: 234.41296880280794.\u001b[0m\n"
     ]
    },
    {
     "name": "stdout",
     "output_type": "stream",
     "text": [
      "\n",
      "Training until validation scores don't improve for 100 rounds\n",
      "[500]\ttrain's l1: 210.297\tvalid's l1: 239.711\n",
      "[1000]\ttrain's l1: 173.819\tvalid's l1: 235.972\n",
      "[1500]\ttrain's l1: 157.047\tvalid's l1: 235.212\n",
      "Early stopping, best iteration is:\n",
      "[1840]\ttrain's l1: 147.667\tvalid's l1: 234.87\n"
     ]
    },
    {
     "name": "stderr",
     "output_type": "stream",
     "text": [
      "\u001b[32m[I 2023-05-27 14:05:11,711]\u001b[0m Trial 81 finished with value: 234.86954381280646 and parameters: {'num_leaves': 143, 'min_data_in_leaf': 11, 'max_bin': 356, 'bagging_fraction': 0.9140449024271587, 'feature_fraction': 0.48834584370381534, 'min_gain_to_split': 0.036715826491327326, 'lambda_l1': 0.06188793359830297, 'lambda_l2': 0.6134105147082113}. Best is trial 37 with value: 234.41296880280794.\u001b[0m\n"
     ]
    },
    {
     "name": "stdout",
     "output_type": "stream",
     "text": [
      "\n",
      "Training until validation scores don't improve for 100 rounds\n",
      "[500]\ttrain's l1: 207.818\tvalid's l1: 240.999\n",
      "[1000]\ttrain's l1: 171.253\tvalid's l1: 237.445\n",
      "[1500]\ttrain's l1: 154.787\tvalid's l1: 236.406\n",
      "[2000]\ttrain's l1: 142.537\tvalid's l1: 236.019\n",
      "Early stopping, best iteration is:\n",
      "[1925]\ttrain's l1: 144.054\tvalid's l1: 236.015\n"
     ]
    },
    {
     "name": "stderr",
     "output_type": "stream",
     "text": [
      "\u001b[32m[I 2023-05-27 14:05:48,245]\u001b[0m Trial 82 finished with value: 236.01520439619455 and parameters: {'num_leaves': 155, 'min_data_in_leaf': 12, 'max_bin': 364, 'bagging_fraction': 0.9126873041748984, 'feature_fraction': 0.47116720774317966, 'min_gain_to_split': 0.04005353473204588, 'lambda_l1': 0.0630037838764898, 'lambda_l2': 0.6285616689557156}. Best is trial 37 with value: 234.41296880280794.\u001b[0m\n"
     ]
    },
    {
     "name": "stdout",
     "output_type": "stream",
     "text": [
      "\n",
      "Training until validation scores don't improve for 100 rounds\n",
      "[500]\ttrain's l1: 210.369\tvalid's l1: 240.913\n",
      "[1000]\ttrain's l1: 175.866\tvalid's l1: 237.779\n",
      "[1500]\ttrain's l1: 158.123\tvalid's l1: 236.98\n",
      "[2000]\ttrain's l1: 145.569\tvalid's l1: 236.707\n",
      "Early stopping, best iteration is:\n",
      "[1919]\ttrain's l1: 147.324\tvalid's l1: 236.624\n"
     ]
    },
    {
     "name": "stderr",
     "output_type": "stream",
     "text": [
      "\u001b[32m[I 2023-05-27 14:06:21,020]\u001b[0m Trial 83 finished with value: 236.6236020430035 and parameters: {'num_leaves': 145, 'min_data_in_leaf': 13, 'max_bin': 375, 'bagging_fraction': 0.9085338366920012, 'feature_fraction': 0.46495396591294685, 'min_gain_to_split': 0.02391595665817192, 'lambda_l1': 0.07639224101332698, 'lambda_l2': 0.8517395050867785}. Best is trial 37 with value: 234.41296880280794.\u001b[0m\n"
     ]
    },
    {
     "name": "stdout",
     "output_type": "stream",
     "text": [
      "\n",
      "Training until validation scores don't improve for 100 rounds\n",
      "[500]\ttrain's l1: 208.531\tvalid's l1: 240.238\n",
      "[1000]\ttrain's l1: 170.399\tvalid's l1: 236.818\n",
      "[1500]\ttrain's l1: 151.635\tvalid's l1: 235.963\n",
      "[2000]\ttrain's l1: 140.934\tvalid's l1: 235.571\n",
      "Early stopping, best iteration is:\n",
      "[1938]\ttrain's l1: 142.121\tvalid's l1: 235.562\n"
     ]
    },
    {
     "name": "stderr",
     "output_type": "stream",
     "text": [
      "\u001b[32m[I 2023-05-27 14:06:57,416]\u001b[0m Trial 84 finished with value: 235.5624661691177 and parameters: {'num_leaves': 149, 'min_data_in_leaf': 10, 'max_bin': 353, 'bagging_fraction': 0.9052492992226165, 'feature_fraction': 0.48964211508090755, 'min_gain_to_split': 0.03499707335520646, 'lambda_l1': 0.10000839954777639, 'lambda_l2': 0.7011549504915408}. Best is trial 37 with value: 234.41296880280794.\u001b[0m\n"
     ]
    },
    {
     "name": "stdout",
     "output_type": "stream",
     "text": [
      "\n",
      "Training until validation scores don't improve for 100 rounds\n",
      "[500]\ttrain's l1: 210.311\tvalid's l1: 241.348\n",
      "[1000]\ttrain's l1: 174.756\tvalid's l1: 237.604\n",
      "[1500]\ttrain's l1: 156.704\tvalid's l1: 236.637\n",
      "[2000]\ttrain's l1: 145.123\tvalid's l1: 236.078\n",
      "Early stopping, best iteration is:\n",
      "[1986]\ttrain's l1: 145.352\tvalid's l1: 236.06\n"
     ]
    },
    {
     "name": "stderr",
     "output_type": "stream",
     "text": [
      "\u001b[32m[I 2023-05-27 14:07:34,122]\u001b[0m Trial 85 finished with value: 236.06034600913105 and parameters: {'num_leaves': 141, 'min_data_in_leaf': 10, 'max_bin': 399, 'bagging_fraction': 0.9184982198173612, 'feature_fraction': 0.4850261571315615, 'min_gain_to_split': 0.05685349343711253, 'lambda_l1': 0.04877770772704963, 'lambda_l2': 0.386338517135062}. Best is trial 37 with value: 234.41296880280794.\u001b[0m\n"
     ]
    },
    {
     "name": "stdout",
     "output_type": "stream",
     "text": [
      "\n",
      "Training until validation scores don't improve for 100 rounds\n",
      "[500]\ttrain's l1: 206.837\tvalid's l1: 240.343\n",
      "[1000]\ttrain's l1: 168.054\tvalid's l1: 236.587\n",
      "[1500]\ttrain's l1: 149.63\tvalid's l1: 235.851\n",
      "[2000]\ttrain's l1: 138.27\tvalid's l1: 235.619\n",
      "Early stopping, best iteration is:\n",
      "[2077]\ttrain's l1: 136.803\tvalid's l1: 235.525\n"
     ]
    },
    {
     "name": "stderr",
     "output_type": "stream",
     "text": [
      "\u001b[32m[I 2023-05-27 14:08:15,332]\u001b[0m Trial 86 finished with value: 235.52454093055346 and parameters: {'num_leaves': 159, 'min_data_in_leaf': 11, 'max_bin': 386, 'bagging_fraction': 0.9255637068271375, 'feature_fraction': 0.49645079078402277, 'min_gain_to_split': 0.04953862243009979, 'lambda_l1': 0.08406745660260703, 'lambda_l2': 0.47980310935498627}. Best is trial 37 with value: 234.41296880280794.\u001b[0m\n"
     ]
    },
    {
     "name": "stdout",
     "output_type": "stream",
     "text": [
      "\n",
      "Training until validation scores don't improve for 100 rounds\n",
      "[500]\ttrain's l1: 202.347\tvalid's l1: 240.12\n",
      "[1000]\ttrain's l1: 167.984\tvalid's l1: 237.145\n",
      "[1500]\ttrain's l1: 149.19\tvalid's l1: 236.349\n",
      "Early stopping, best iteration is:\n",
      "[1603]\ttrain's l1: 146.155\tvalid's l1: 236.206\n"
     ]
    },
    {
     "name": "stderr",
     "output_type": "stream",
     "text": [
      "\u001b[32m[I 2023-05-27 14:08:48,780]\u001b[0m Trial 87 finished with value: 236.20604798337914 and parameters: {'num_leaves': 179, 'min_data_in_leaf': 14, 'max_bin': 341, 'bagging_fraction': 0.9140747855512152, 'feature_fraction': 0.4809212677273023, 'min_gain_to_split': 0.06662398765167717, 'lambda_l1': 0.07297835658565534, 'lambda_l2': 0.5684407556505198}. Best is trial 37 with value: 234.41296880280794.\u001b[0m\n"
     ]
    },
    {
     "name": "stdout",
     "output_type": "stream",
     "text": [
      "\n",
      "Training until validation scores don't improve for 100 rounds\n",
      "[500]\ttrain's l1: 204.896\tvalid's l1: 240.082\n",
      "[1000]\ttrain's l1: 169.457\tvalid's l1: 236.967\n",
      "[1500]\ttrain's l1: 152.336\tvalid's l1: 236.25\n",
      "[2000]\ttrain's l1: 140.996\tvalid's l1: 235.929\n",
      "Early stopping, best iteration is:\n",
      "[1906]\ttrain's l1: 142.692\tvalid's l1: 235.899\n"
     ]
    },
    {
     "name": "stderr",
     "output_type": "stream",
     "text": [
      "\u001b[32m[I 2023-05-27 14:09:24,305]\u001b[0m Trial 88 finished with value: 235.8989260379897 and parameters: {'num_leaves': 165, 'min_data_in_leaf': 12, 'max_bin': 321, 'bagging_fraction': 0.8984483025880052, 'feature_fraction': 0.4753678683378159, 'min_gain_to_split': 0.6290566709890986, 'lambda_l1': 0.06454517495140112, 'lambda_l2': 0.7742472204704067}. Best is trial 37 with value: 234.41296880280794.\u001b[0m\n"
     ]
    },
    {
     "name": "stdout",
     "output_type": "stream",
     "text": [
      "\n",
      "Training until validation scores don't improve for 100 rounds\n",
      "[500]\ttrain's l1: 216.586\tvalid's l1: 241.033\n",
      "[1000]\ttrain's l1: 186.644\tvalid's l1: 237.725\n",
      "[1500]\ttrain's l1: 170.661\tvalid's l1: 236.878\n",
      "[2000]\ttrain's l1: 157.971\tvalid's l1: 236.288\n",
      "Early stopping, best iteration is:\n",
      "[2388]\ttrain's l1: 151.86\tvalid's l1: 236.057\n"
     ]
    },
    {
     "name": "stderr",
     "output_type": "stream",
     "text": [
      "\u001b[32m[I 2023-05-27 14:09:59,767]\u001b[0m Trial 89 finished with value: 236.0570530062523 and parameters: {'num_leaves': 121, 'min_data_in_leaf': 16, 'max_bin': 332, 'bagging_fraction': 0.9096842496530819, 'feature_fraction': 0.45486485767898693, 'min_gain_to_split': 0.4260519193990437, 'lambda_l1': 0.10087553038646979, 'lambda_l2': 0.8869235618812175}. Best is trial 37 with value: 234.41296880280794.\u001b[0m\n"
     ]
    },
    {
     "name": "stdout",
     "output_type": "stream",
     "text": [
      "\n",
      "Training until validation scores don't improve for 100 rounds\n",
      "[500]\ttrain's l1: 213.125\tvalid's l1: 240.462\n",
      "[1000]\ttrain's l1: 175.806\tvalid's l1: 236.554\n",
      "[1500]\ttrain's l1: 158.796\tvalid's l1: 235.648\n",
      "[2000]\ttrain's l1: 147.531\tvalid's l1: 235.228\n",
      "[2500]\ttrain's l1: 139.157\tvalid's l1: 234.896\n",
      "Early stopping, best iteration is:\n",
      "[2876]\ttrain's l1: 133.612\tvalid's l1: 234.69\n"
     ]
    },
    {
     "name": "stderr",
     "output_type": "stream",
     "text": [
      "\u001b[32m[I 2023-05-27 14:10:48,026]\u001b[0m Trial 90 finished with value: 234.69012692807635 and parameters: {'num_leaves': 132, 'min_data_in_leaf': 9, 'max_bin': 360, 'bagging_fraction': 0.9198170565047781, 'feature_fraction': 0.49954619013064055, 'min_gain_to_split': 0.028763819244545484, 'lambda_l1': 0.1436826287440217, 'lambda_l2': 0.42101903328213924}. Best is trial 37 with value: 234.41296880280794.\u001b[0m\n"
     ]
    },
    {
     "name": "stdout",
     "output_type": "stream",
     "text": [
      "\n",
      "Training until validation scores don't improve for 100 rounds\n",
      "[500]\ttrain's l1: 211.966\tvalid's l1: 240.034\n",
      "[1000]\ttrain's l1: 173.158\tvalid's l1: 236.803\n",
      "[1500]\ttrain's l1: 156.925\tvalid's l1: 235.807\n",
      "[2000]\ttrain's l1: 145.767\tvalid's l1: 235.487\n",
      "Early stopping, best iteration is:\n",
      "[2182]\ttrain's l1: 143.445\tvalid's l1: 235.427\n"
     ]
    },
    {
     "name": "stderr",
     "output_type": "stream",
     "text": [
      "\u001b[32m[I 2023-05-27 14:11:25,948]\u001b[0m Trial 91 finished with value: 235.42734372634052 and parameters: {'num_leaves': 134, 'min_data_in_leaf': 9, 'max_bin': 349, 'bagging_fraction': 0.9198278503839958, 'feature_fraction': 0.5003789540317495, 'min_gain_to_split': 0.025851016213443764, 'lambda_l1': 0.1421817167024058, 'lambda_l2': 0.4483748109313516}. Best is trial 37 with value: 234.41296880280794.\u001b[0m\n"
     ]
    },
    {
     "name": "stdout",
     "output_type": "stream",
     "text": [
      "\n",
      "Training until validation scores don't improve for 100 rounds\n",
      "[500]\ttrain's l1: 214.294\tvalid's l1: 239.765\n",
      "[1000]\ttrain's l1: 175.082\tvalid's l1: 236.389\n",
      "[1500]\ttrain's l1: 160.148\tvalid's l1: 235.399\n",
      "[2000]\ttrain's l1: 152.247\tvalid's l1: 235.124\n",
      "Early stopping, best iteration is:\n",
      "[2125]\ttrain's l1: 150.423\tvalid's l1: 235.041\n"
     ]
    },
    {
     "name": "stderr",
     "output_type": "stream",
     "text": [
      "\u001b[32m[I 2023-05-27 14:12:02,152]\u001b[0m Trial 92 finished with value: 235.04078297260943 and parameters: {'num_leaves': 126, 'min_data_in_leaf': 9, 'max_bin': 360, 'bagging_fraction': 0.9179926710184153, 'feature_fraction': 0.5022496293188852, 'min_gain_to_split': 0.025451147469958513, 'lambda_l1': 0.13881728886842962, 'lambda_l2': 0.6645850010332645}. Best is trial 37 with value: 234.41296880280794.\u001b[0m\n"
     ]
    },
    {
     "name": "stdout",
     "output_type": "stream",
     "text": [
      "\n",
      "Training until validation scores don't improve for 100 rounds\n",
      "[500]\ttrain's l1: 211.973\tvalid's l1: 240.484\n",
      "[1000]\ttrain's l1: 175.723\tvalid's l1: 236.913\n",
      "[1500]\ttrain's l1: 158.308\tvalid's l1: 235.949\n",
      "[2000]\ttrain's l1: 148.203\tvalid's l1: 235.632\n",
      "Early stopping, best iteration is:\n",
      "[1970]\ttrain's l1: 148.715\tvalid's l1: 235.612\n"
     ]
    },
    {
     "name": "stderr",
     "output_type": "stream",
     "text": [
      "\u001b[32m[I 2023-05-27 14:12:35,980]\u001b[0m Trial 93 finished with value: 235.61235089979186 and parameters: {'num_leaves': 132, 'min_data_in_leaf': 9, 'max_bin': 359, 'bagging_fraction': 0.9203013388408626, 'feature_fraction': 0.5006094055360084, 'min_gain_to_split': 0.02513745297158016, 'lambda_l1': 0.13980713470050982, 'lambda_l2': 0.534940468966033}. Best is trial 37 with value: 234.41296880280794.\u001b[0m\n"
     ]
    },
    {
     "name": "stdout",
     "output_type": "stream",
     "text": [
      "\n",
      "Training until validation scores don't improve for 100 rounds\n",
      "[500]\ttrain's l1: 214.899\tvalid's l1: 240.965\n",
      "[1000]\ttrain's l1: 177.616\tvalid's l1: 236.975\n",
      "[1500]\ttrain's l1: 159.449\tvalid's l1: 236.224\n",
      "[2000]\ttrain's l1: 147.725\tvalid's l1: 235.898\n",
      "Early stopping, best iteration is:\n",
      "[1949]\ttrain's l1: 148.609\tvalid's l1: 235.851\n"
     ]
    },
    {
     "name": "stderr",
     "output_type": "stream",
     "text": [
      "\u001b[32m[I 2023-05-27 14:13:08,792]\u001b[0m Trial 94 finished with value: 235.85146498113065 and parameters: {'num_leaves': 126, 'min_data_in_leaf': 10, 'max_bin': 348, 'bagging_fraction': 0.91683047894714, 'feature_fraction': 0.49558312335089294, 'min_gain_to_split': 0.033324707093159364, 'lambda_l1': 0.1456634542532695, 'lambda_l2': 0.4442312192163529}. Best is trial 37 with value: 234.41296880280794.\u001b[0m\n"
     ]
    },
    {
     "name": "stdout",
     "output_type": "stream",
     "text": [
      "\n",
      "Training until validation scores don't improve for 100 rounds\n",
      "[500]\ttrain's l1: 210.605\tvalid's l1: 240.597\n",
      "[1000]\ttrain's l1: 176.953\tvalid's l1: 237.029\n",
      "[1500]\ttrain's l1: 160.383\tvalid's l1: 236.076\n",
      "Early stopping, best iteration is:\n",
      "[1757]\ttrain's l1: 153.204\tvalid's l1: 235.765\n"
     ]
    },
    {
     "name": "stderr",
     "output_type": "stream",
     "text": [
      "\u001b[32m[I 2023-05-27 14:13:41,709]\u001b[0m Trial 95 finished with value: 235.76496773134295 and parameters: {'num_leaves': 140, 'min_data_in_leaf': 11, 'max_bin': 377, 'bagging_fraction': 0.9239025932929175, 'feature_fraction': 0.48705804386450025, 'min_gain_to_split': 0.026955497778317045, 'lambda_l1': 0.11605674531909461, 'lambda_l2': 0.34345065281511944}. Best is trial 37 with value: 234.41296880280794.\u001b[0m\n"
     ]
    },
    {
     "name": "stdout",
     "output_type": "stream",
     "text": [
      "\n",
      "Training until validation scores don't improve for 100 rounds\n",
      "[500]\ttrain's l1: 213.224\tvalid's l1: 240.166\n",
      "[1000]\ttrain's l1: 175.486\tvalid's l1: 236.427\n",
      "[1500]\ttrain's l1: 158.14\tvalid's l1: 235.512\n",
      "[2000]\ttrain's l1: 146.721\tvalid's l1: 235.114\n",
      "Early stopping, best iteration is:\n",
      "[2117]\ttrain's l1: 144.366\tvalid's l1: 235.093\n"
     ]
    },
    {
     "name": "stderr",
     "output_type": "stream",
     "text": [
      "\u001b[32m[I 2023-05-27 14:14:17,550]\u001b[0m Trial 96 finished with value: 235.09270459383734 and parameters: {'num_leaves': 129, 'min_data_in_leaf': 9, 'max_bin': 359, 'bagging_fraction': 0.9187222838969903, 'feature_fraction': 0.5119645558866412, 'min_gain_to_split': 0.021897976434116936, 'lambda_l1': 0.09077884304347525, 'lambda_l2': 0.650668869861866}. Best is trial 37 with value: 234.41296880280794.\u001b[0m\n"
     ]
    },
    {
     "name": "stdout",
     "output_type": "stream",
     "text": [
      "\n",
      "Training until validation scores don't improve for 100 rounds\n",
      "[500]\ttrain's l1: 216.898\tvalid's l1: 239.917\n",
      "[1000]\ttrain's l1: 181.479\tvalid's l1: 236.67\n",
      "[1500]\ttrain's l1: 164.25\tvalid's l1: 235.544\n",
      "Early stopping, best iteration is:\n",
      "[1759]\ttrain's l1: 159.432\tvalid's l1: 235.358\n"
     ]
    },
    {
     "name": "stderr",
     "output_type": "stream",
     "text": [
      "\u001b[32m[I 2023-05-27 14:14:47,386]\u001b[0m Trial 97 finished with value: 235.35774746066176 and parameters: {'num_leaves': 115, 'min_data_in_leaf': 9, 'max_bin': 361, 'bagging_fraction': 0.9059764874247065, 'feature_fraction': 0.5091150286211593, 'min_gain_to_split': 0.021814793129567342, 'lambda_l1': 0.0862865418212511, 'lambda_l2': 0.6491017159532547}. Best is trial 37 with value: 234.41296880280794.\u001b[0m\n"
     ]
    },
    {
     "name": "stdout",
     "output_type": "stream",
     "text": [
      "\n",
      "Training until validation scores don't improve for 100 rounds\n",
      "[500]\ttrain's l1: 216.943\tvalid's l1: 240.602\n",
      "[1000]\ttrain's l1: 184.14\tvalid's l1: 237.714\n",
      "[1500]\ttrain's l1: 163.955\tvalid's l1: 236.598\n",
      "Early stopping, best iteration is:\n",
      "[1587]\ttrain's l1: 161.378\tvalid's l1: 236.55\n"
     ]
    },
    {
     "name": "stderr",
     "output_type": "stream",
     "text": [
      "\u001b[32m[I 2023-05-27 14:15:14,372]\u001b[0m Trial 98 finished with value: 236.54960192104693 and parameters: {'num_leaves': 117, 'min_data_in_leaf': 13, 'max_bin': 361, 'bagging_fraction': 0.9106915142732448, 'feature_fraction': 0.5108838601799645, 'min_gain_to_split': 0.02151771176288619, 'lambda_l1': 0.0849791277869136, 'lambda_l2': 0.6682676793731975}. Best is trial 37 with value: 234.41296880280794.\u001b[0m\n"
     ]
    },
    {
     "name": "stdout",
     "output_type": "stream",
     "text": [
      "\n",
      "Training until validation scores don't improve for 100 rounds\n",
      "[500]\ttrain's l1: 219.224\tvalid's l1: 240.811\n",
      "[1000]\ttrain's l1: 187.15\tvalid's l1: 237.614\n",
      "[1500]\ttrain's l1: 168.211\tvalid's l1: 236.663\n",
      "[2000]\ttrain's l1: 154.973\tvalid's l1: 236.174\n",
      "[2500]\ttrain's l1: 148.762\tvalid's l1: 235.729\n",
      "Early stopping, best iteration is:\n",
      "[2756]\ttrain's l1: 146.222\tvalid's l1: 235.654\n"
     ]
    },
    {
     "name": "stderr",
     "output_type": "stream",
     "text": [
      "\u001b[32m[I 2023-05-27 14:15:55,608]\u001b[0m Trial 99 finished with value: 235.65369384337907 and parameters: {'num_leaves': 109, 'min_data_in_leaf': 8, 'max_bin': 368, 'bagging_fraction': 0.9063202766062499, 'feature_fraction': 0.4930610270285375, 'min_gain_to_split': 0.02185956535820035, 'lambda_l1': 0.058728534259476745, 'lambda_l2': 0.7571727543842045}. Best is trial 37 with value: 234.41296880280794.\u001b[0m\n"
     ]
    },
    {
     "name": "stdout",
     "output_type": "stream",
     "text": [
      "\n",
      "Training until validation scores don't improve for 100 rounds\n",
      "[500]\ttrain's l1: 213.347\tvalid's l1: 240.558\n",
      "[1000]\ttrain's l1: 178.804\tvalid's l1: 236.73\n",
      "[1500]\ttrain's l1: 161.039\tvalid's l1: 235.561\n",
      "[2000]\ttrain's l1: 149.984\tvalid's l1: 234.921\n",
      "[2500]\ttrain's l1: 143.242\tvalid's l1: 234.678\n",
      "[3000]\ttrain's l1: 136.823\tvalid's l1: 234.468\n",
      "Early stopping, best iteration is:\n",
      "[3096]\ttrain's l1: 135.462\tvalid's l1: 234.365\n"
     ]
    },
    {
     "name": "stderr",
     "output_type": "stream",
     "text": [
      "\u001b[32m[I 2023-05-27 14:16:51,358]\u001b[0m Trial 100 finished with value: 234.3653179309017 and parameters: {'num_leaves': 127, 'min_data_in_leaf': 7, 'max_bin': 382, 'bagging_fraction': 0.9156240372938954, 'feature_fraction': 0.5163304632500211, 'min_gain_to_split': 0.0189496047447567, 'lambda_l1': 0.1073434059557852, 'lambda_l2': 0.6591894323328803}. Best is trial 100 with value: 234.3653179309017.\u001b[0m\n"
     ]
    },
    {
     "name": "stdout",
     "output_type": "stream",
     "text": [
      "\n",
      "Training until validation scores don't improve for 100 rounds\n",
      "[500]\ttrain's l1: 215.165\tvalid's l1: 240.239\n",
      "[1000]\ttrain's l1: 177.086\tvalid's l1: 236.613\n",
      "[1500]\ttrain's l1: 157.89\tvalid's l1: 235.503\n",
      "[2000]\ttrain's l1: 146.412\tvalid's l1: 235.049\n",
      "[2500]\ttrain's l1: 138.062\tvalid's l1: 234.913\n",
      "Early stopping, best iteration is:\n",
      "[2479]\ttrain's l1: 138.363\tvalid's l1: 234.887\n"
     ]
    },
    {
     "name": "stderr",
     "output_type": "stream",
     "text": [
      "\u001b[32m[I 2023-05-27 14:17:32,928]\u001b[0m Trial 101 finished with value: 234.88664647829424 and parameters: {'num_leaves': 122, 'min_data_in_leaf': 7, 'max_bin': 388, 'bagging_fraction': 0.9158390929688238, 'feature_fraction': 0.5172245335935914, 'min_gain_to_split': 0.01873325752171942, 'lambda_l1': 0.10721074103435371, 'lambda_l2': 0.6389530878302974}. Best is trial 100 with value: 234.3653179309017.\u001b[0m\n"
     ]
    },
    {
     "name": "stdout",
     "output_type": "stream",
     "text": [
      "\n",
      "Training until validation scores don't improve for 100 rounds\n",
      "[500]\ttrain's l1: 213.096\tvalid's l1: 240.404\n",
      "[1000]\ttrain's l1: 177.404\tvalid's l1: 236.311\n",
      "[1500]\ttrain's l1: 159.223\tvalid's l1: 235.412\n",
      "[2000]\ttrain's l1: 148.728\tvalid's l1: 235.069\n",
      "Early stopping, best iteration is:\n",
      "[2147]\ttrain's l1: 146.038\tvalid's l1: 234.97\n"
     ]
    },
    {
     "name": "stderr",
     "output_type": "stream",
     "text": [
      "\u001b[32m[I 2023-05-27 14:18:11,523]\u001b[0m Trial 102 finished with value: 234.9695928609206 and parameters: {'num_leaves': 128, 'min_data_in_leaf': 8, 'max_bin': 390, 'bagging_fraction': 0.9155197333455705, 'feature_fraction': 0.5172788398276775, 'min_gain_to_split': 0.017811475581290204, 'lambda_l1': 0.11026961773997762, 'lambda_l2': 0.5045163366565252}. Best is trial 100 with value: 234.3653179309017.\u001b[0m\n"
     ]
    },
    {
     "name": "stdout",
     "output_type": "stream",
     "text": [
      "\n",
      "Training until validation scores don't improve for 100 rounds\n",
      "[500]\ttrain's l1: 215.519\tvalid's l1: 240.197\n",
      "[1000]\ttrain's l1: 183.163\tvalid's l1: 236.994\n",
      "[1500]\ttrain's l1: 162.773\tvalid's l1: 236.042\n",
      "Early stopping, best iteration is:\n",
      "[1814]\ttrain's l1: 155.116\tvalid's l1: 235.792\n"
     ]
    },
    {
     "name": "stderr",
     "output_type": "stream",
     "text": [
      "\u001b[32m[I 2023-05-27 14:18:44,682]\u001b[0m Trial 103 finished with value: 235.79192853126582 and parameters: {'num_leaves': 123, 'min_data_in_leaf': 7, 'max_bin': 382, 'bagging_fraction': 0.9144923953097016, 'feature_fraction': 0.5172969319728176, 'min_gain_to_split': 0.018729948855793432, 'lambda_l1': 0.10873770802825013, 'lambda_l2': 0.49688873205926665}. Best is trial 100 with value: 234.3653179309017.\u001b[0m\n"
     ]
    },
    {
     "name": "stdout",
     "output_type": "stream",
     "text": [
      "\n",
      "Training until validation scores don't improve for 100 rounds\n",
      "[500]\ttrain's l1: 213.332\tvalid's l1: 240.79\n",
      "[1000]\ttrain's l1: 180.417\tvalid's l1: 237.64\n",
      "[1500]\ttrain's l1: 163.793\tvalid's l1: 236.537\n",
      "Early stopping, best iteration is:\n",
      "[1652]\ttrain's l1: 160.319\tvalid's l1: 236.372\n"
     ]
    },
    {
     "name": "stderr",
     "output_type": "stream",
     "text": [
      "\u001b[32m[I 2023-05-27 14:19:16,002]\u001b[0m Trial 104 finished with value: 236.37202486605008 and parameters: {'num_leaves': 128, 'min_data_in_leaf': 8, 'max_bin': 393, 'bagging_fraction': 0.915260509116694, 'feature_fraction': 0.5245820251987235, 'min_gain_to_split': 0.015446569277888464, 'lambda_l1': 0.1180254134457969, 'lambda_l2': 0.567532146878547}. Best is trial 100 with value: 234.3653179309017.\u001b[0m\n"
     ]
    },
    {
     "name": "stdout",
     "output_type": "stream",
     "text": [
      "\n",
      "Training until validation scores don't improve for 100 rounds\n",
      "[500]\ttrain's l1: 214.213\tvalid's l1: 239.533\n",
      "[1000]\ttrain's l1: 180.515\tvalid's l1: 236.843\n",
      "Early stopping, best iteration is:\n",
      "[1336]\ttrain's l1: 168.413\tvalid's l1: 236.015\n"
     ]
    },
    {
     "name": "stderr",
     "output_type": "stream",
     "text": [
      "\u001b[32m[I 2023-05-27 14:19:39,567]\u001b[0m Trial 105 finished with value: 236.01474936092447 and parameters: {'num_leaves': 124, 'min_data_in_leaf': 7, 'max_bin': 390, 'bagging_fraction': 0.9117836563168955, 'feature_fraction': 0.5061859194293373, 'min_gain_to_split': 0.014378147388052733, 'lambda_l1': 0.07739991195557275, 'lambda_l2': 0.7031296910867809}. Best is trial 100 with value: 234.3653179309017.\u001b[0m\n"
     ]
    },
    {
     "name": "stdout",
     "output_type": "stream",
     "text": [
      "\n",
      "Training until validation scores don't improve for 100 rounds\n",
      "[500]\ttrain's l1: 216.286\tvalid's l1: 240.99\n",
      "[1000]\ttrain's l1: 179.879\tvalid's l1: 237.59\n",
      "[1500]\ttrain's l1: 162.801\tvalid's l1: 236.631\n",
      "[2000]\ttrain's l1: 150.654\tvalid's l1: 236.09\n",
      "[2500]\ttrain's l1: 142.498\tvalid's l1: 235.658\n",
      "Early stopping, best iteration is:\n",
      "[2570]\ttrain's l1: 141.39\tvalid's l1: 235.605\n"
     ]
    },
    {
     "name": "stderr",
     "output_type": "stream",
     "text": [
      "\u001b[32m[I 2023-05-27 14:20:20,809]\u001b[0m Trial 106 finished with value: 235.6052540920504 and parameters: {'num_leaves': 120, 'min_data_in_leaf': 10, 'max_bin': 370, 'bagging_fraction': 0.9180674926018292, 'feature_fraction': 0.48544431847267894, 'min_gain_to_split': 0.018400733521501126, 'lambda_l1': 0.09434099413094078, 'lambda_l2': 0.38467094684023906}. Best is trial 100 with value: 234.3653179309017.\u001b[0m\n"
     ]
    },
    {
     "name": "stdout",
     "output_type": "stream",
     "text": [
      "\n",
      "Training until validation scores don't improve for 100 rounds\n",
      "[500]\ttrain's l1: 211.801\tvalid's l1: 240.467\n",
      "[1000]\ttrain's l1: 176.419\tvalid's l1: 237.074\n",
      "[1500]\ttrain's l1: 157.491\tvalid's l1: 236.077\n",
      "[2000]\ttrain's l1: 149.321\tvalid's l1: 235.673\n",
      "Early stopping, best iteration is:\n",
      "[1924]\ttrain's l1: 150.442\tvalid's l1: 235.634\n"
     ]
    },
    {
     "name": "stderr",
     "output_type": "stream",
     "text": [
      "\u001b[32m[I 2023-05-27 14:20:55,246]\u001b[0m Trial 107 finished with value: 235.6341088407682 and parameters: {'num_leaves': 130, 'min_data_in_leaf': 6, 'max_bin': 383, 'bagging_fraction': 0.9280528581266766, 'feature_fraction': 0.5162092220458853, 'min_gain_to_split': 0.028781083471757226, 'lambda_l1': 0.10497220913656995, 'lambda_l2': 0.5786906724894164}. Best is trial 100 with value: 234.3653179309017.\u001b[0m\n"
     ]
    },
    {
     "name": "stdout",
     "output_type": "stream",
     "text": [
      "\n",
      "Training until validation scores don't improve for 100 rounds\n",
      "[500]\ttrain's l1: 212.392\tvalid's l1: 240.202\n",
      "[1000]\ttrain's l1: 178.163\tvalid's l1: 236.998\n",
      "[1500]\ttrain's l1: 159.274\tvalid's l1: 236.184\n",
      "[2000]\ttrain's l1: 146.071\tvalid's l1: 235.529\n",
      "Early stopping, best iteration is:\n",
      "[2133]\ttrain's l1: 143.139\tvalid's l1: 235.45\n"
     ]
    },
    {
     "name": "stderr",
     "output_type": "stream",
     "text": [
      "\u001b[32m[I 2023-05-27 14:21:33,129]\u001b[0m Trial 108 finished with value: 235.45011809624955 and parameters: {'num_leaves': 136, 'min_data_in_leaf': 9, 'max_bin': 336, 'bagging_fraction': 0.9027384275954047, 'feature_fraction': 0.5042738680429122, 'min_gain_to_split': 0.013023781993240115, 'lambda_l1': 0.1323583199441346, 'lambda_l2': 0.5020396846583386}. Best is trial 100 with value: 234.3653179309017.\u001b[0m\n"
     ]
    },
    {
     "name": "stdout",
     "output_type": "stream",
     "text": [
      "\n",
      "Training until validation scores don't improve for 100 rounds\n",
      "[500]\ttrain's l1: 214.448\tvalid's l1: 240.658\n",
      "[1000]\ttrain's l1: 180.566\tvalid's l1: 237.1\n",
      "[1500]\ttrain's l1: 160.296\tvalid's l1: 235.867\n",
      "[2000]\ttrain's l1: 148.433\tvalid's l1: 235.502\n",
      "Early stopping, best iteration is:\n",
      "[1929]\ttrain's l1: 150.148\tvalid's l1: 235.421\n"
     ]
    },
    {
     "name": "stderr",
     "output_type": "stream",
     "text": [
      "\u001b[32m[I 2023-05-27 14:22:05,700]\u001b[0m Trial 109 finished with value: 235.42076260380998 and parameters: {'num_leaves': 127, 'min_data_in_leaf': 11, 'max_bin': 378, 'bagging_fraction': 0.9085742879713489, 'feature_fraction': 0.49278829288723525, 'min_gain_to_split': 0.029140278455179885, 'lambda_l1': 0.11970219946353972, 'lambda_l2': 0.7775444966494808}. Best is trial 100 with value: 234.3653179309017.\u001b[0m\n"
     ]
    },
    {
     "name": "stdout",
     "output_type": "stream",
     "text": [
      "\n",
      "Training until validation scores don't improve for 100 rounds\n",
      "[500]\ttrain's l1: 217.44\tvalid's l1: 241.673\n",
      "[1000]\ttrain's l1: 183.127\tvalid's l1: 238.59\n",
      "[1500]\ttrain's l1: 165.667\tvalid's l1: 237.559\n",
      "Early stopping, best iteration is:\n",
      "[1627]\ttrain's l1: 163.014\tvalid's l1: 237.383\n"
     ]
    },
    {
     "name": "stderr",
     "output_type": "stream",
     "text": [
      "\u001b[32m[I 2023-05-27 14:22:33,370]\u001b[0m Trial 110 finished with value: 237.38309059214313 and parameters: {'num_leaves': 113, 'min_data_in_leaf': 7, 'max_bin': 393, 'bagging_fraction': 0.9240600786698977, 'feature_fraction': 0.5143599361691287, 'min_gain_to_split': 0.03199006856278138, 'lambda_l1': 0.07675703801296795, 'lambda_l2': 0.6741088006339195}. Best is trial 100 with value: 234.3653179309017.\u001b[0m\n"
     ]
    },
    {
     "name": "stdout",
     "output_type": "stream",
     "text": [
      "\n",
      "Training until validation scores don't improve for 100 rounds\n",
      "[500]\ttrain's l1: 209.859\tvalid's l1: 239.69\n",
      "[1000]\ttrain's l1: 170.763\tvalid's l1: 236.048\n",
      "[1500]\ttrain's l1: 152.986\tvalid's l1: 235.083\n",
      "Early stopping, best iteration is:\n",
      "[1637]\ttrain's l1: 150.609\tvalid's l1: 234.989\n"
     ]
    },
    {
     "name": "stderr",
     "output_type": "stream",
     "text": [
      "\u001b[32m[I 2023-05-27 14:23:05,755]\u001b[0m Trial 111 finished with value: 234.9889012267549 and parameters: {'num_leaves': 142, 'min_data_in_leaf': 8, 'max_bin': 353, 'bagging_fraction': 0.9150090170141486, 'feature_fraction': 0.5241745254078338, 'min_gain_to_split': 0.01947884673045323, 'lambda_l1': 0.15706634378845358, 'lambda_l2': 0.6205534036321724}. Best is trial 100 with value: 234.3653179309017.\u001b[0m\n"
     ]
    },
    {
     "name": "stdout",
     "output_type": "stream",
     "text": [
      "\n",
      "Training until validation scores don't improve for 100 rounds\n",
      "[500]\ttrain's l1: 212.259\tvalid's l1: 240.337\n",
      "[1000]\ttrain's l1: 174.524\tvalid's l1: 236.661\n",
      "Early stopping, best iteration is:\n",
      "[1326]\ttrain's l1: 163.335\tvalid's l1: 235.97\n"
     ]
    },
    {
     "name": "stderr",
     "output_type": "stream",
     "text": [
      "\u001b[32m[I 2023-05-27 14:23:30,601]\u001b[0m Trial 112 finished with value: 235.96982203803475 and parameters: {'num_leaves': 132, 'min_data_in_leaf': 8, 'max_bin': 344, 'bagging_fraction': 0.9185859037072097, 'feature_fraction': 0.5237936017920561, 'min_gain_to_split': 0.019781878425960797, 'lambda_l1': 0.15492584217199187, 'lambda_l2': 0.6363224628265582}. Best is trial 100 with value: 234.3653179309017.\u001b[0m\n"
     ]
    },
    {
     "name": "stdout",
     "output_type": "stream",
     "text": [
      "\n",
      "Training until validation scores don't improve for 100 rounds\n",
      "[500]\ttrain's l1: 209.976\tvalid's l1: 240.888\n",
      "[1000]\ttrain's l1: 171.024\tvalid's l1: 237.943\n",
      "[1500]\ttrain's l1: 153.105\tvalid's l1: 237.061\n",
      "[2000]\ttrain's l1: 142.893\tvalid's l1: 236.692\n",
      "[2500]\ttrain's l1: 137.155\tvalid's l1: 236.436\n",
      "Early stopping, best iteration is:\n",
      "[2773]\ttrain's l1: 132.533\tvalid's l1: 236.174\n"
     ]
    },
    {
     "name": "stderr",
     "output_type": "stream",
     "text": [
      "\u001b[32m[I 2023-05-27 14:24:20,651]\u001b[0m Trial 113 finished with value: 236.1742883840556 and parameters: {'num_leaves': 141, 'min_data_in_leaf': 5, 'max_bin': 352, 'bagging_fraction': 0.9314754032282313, 'feature_fraction': 0.48057194371917494, 'min_gain_to_split': 0.017077914914111536, 'lambda_l1': 0.09073522189043605, 'lambda_l2': 0.417946285904901}. Best is trial 100 with value: 234.3653179309017.\u001b[0m\n"
     ]
    },
    {
     "name": "stdout",
     "output_type": "stream",
     "text": [
      "\n",
      "Training until validation scores don't improve for 100 rounds\n",
      "[500]\ttrain's l1: 210.996\tvalid's l1: 239.812\n",
      "[1000]\ttrain's l1: 173.907\tvalid's l1: 236.167\n",
      "[1500]\ttrain's l1: 155.904\tvalid's l1: 235.642\n",
      "Early stopping, best iteration is:\n",
      "[1522]\ttrain's l1: 155.187\tvalid's l1: 235.604\n"
     ]
    },
    {
     "name": "stderr",
     "output_type": "stream",
     "text": [
      "\u001b[32m[I 2023-05-27 14:24:49,231]\u001b[0m Trial 114 finished with value: 235.60429545876138 and parameters: {'num_leaves': 137, 'min_data_in_leaf': 8, 'max_bin': 365, 'bagging_fraction': 0.9141021161972352, 'feature_fraction': 0.5199996764531247, 'min_gain_to_split': 0.023798460827929125, 'lambda_l1': 0.10857662247300072, 'lambda_l2': 0.9011598052018871}. Best is trial 100 with value: 234.3653179309017.\u001b[0m\n"
     ]
    },
    {
     "name": "stdout",
     "output_type": "stream",
     "text": [
      "\n",
      "Training until validation scores don't improve for 100 rounds\n",
      "[500]\ttrain's l1: 214.95\tvalid's l1: 240.217\n",
      "[1000]\ttrain's l1: 183.197\tvalid's l1: 236.775\n",
      "[1500]\ttrain's l1: 163.519\tvalid's l1: 235.384\n",
      "[2000]\ttrain's l1: 151.193\tvalid's l1: 235\n",
      "Early stopping, best iteration is:\n",
      "[1987]\ttrain's l1: 151.454\tvalid's l1: 234.967\n"
     ]
    },
    {
     "name": "stderr",
     "output_type": "stream",
     "text": [
      "\u001b[32m[I 2023-05-27 14:25:23,552]\u001b[0m Trial 115 finished with value: 234.96705478280433 and parameters: {'num_leaves': 120, 'min_data_in_leaf': 7, 'max_bin': 370, 'bagging_fraction': 0.9267413238649407, 'feature_fraction': 0.500664868190234, 'min_gain_to_split': 0.01645561247612155, 'lambda_l1': 0.1308828729114026, 'lambda_l2': 0.5864846360927767}. Best is trial 100 with value: 234.3653179309017.\u001b[0m\n"
     ]
    },
    {
     "name": "stdout",
     "output_type": "stream",
     "text": [
      "\n",
      "Training until validation scores don't improve for 100 rounds\n",
      "[500]\ttrain's l1: 216.817\tvalid's l1: 240.762\n",
      "[1000]\ttrain's l1: 182.476\tvalid's l1: 237.466\n",
      "[1500]\ttrain's l1: 164.095\tvalid's l1: 236.239\n",
      "[2000]\ttrain's l1: 154.626\tvalid's l1: 235.992\n",
      "[2500]\ttrain's l1: 147.067\tvalid's l1: 235.679\n",
      "Early stopping, best iteration is:\n",
      "[2872]\ttrain's l1: 142.506\tvalid's l1: 235.444\n"
     ]
    },
    {
     "name": "stderr",
     "output_type": "stream",
     "text": [
      "\u001b[32m[I 2023-05-27 14:26:07,929]\u001b[0m Trial 116 finished with value: 235.4435596188044 and parameters: {'num_leaves': 117, 'min_data_in_leaf': 12, 'max_bin': 357, 'bagging_fraction': 0.9113397096272803, 'feature_fraction': 0.49758281914268554, 'min_gain_to_split': 0.01654104667487885, 'lambda_l1': 0.16987660247892733, 'lambda_l2': 0.7878205502710935}. Best is trial 100 with value: 234.3653179309017.\u001b[0m\n"
     ]
    },
    {
     "name": "stdout",
     "output_type": "stream",
     "text": [
      "\n",
      "Training until validation scores don't improve for 100 rounds\n",
      "[500]\ttrain's l1: 218.675\tvalid's l1: 241.081\n",
      "[1000]\ttrain's l1: 181.712\tvalid's l1: 237.472\n",
      "[1500]\ttrain's l1: 164.709\tvalid's l1: 236.131\n",
      "[2000]\ttrain's l1: 157.76\tvalid's l1: 235.74\n",
      "[2500]\ttrain's l1: 149.361\tvalid's l1: 235.341\n",
      "Early stopping, best iteration is:\n",
      "[2894]\ttrain's l1: 144.038\tvalid's l1: 235.076\n"
     ]
    },
    {
     "name": "stderr",
     "output_type": "stream",
     "text": [
      "\u001b[32m[I 2023-05-27 14:26:50,862]\u001b[0m Trial 117 finished with value: 235.0764456425818 and parameters: {'num_leaves': 108, 'min_data_in_leaf': 9, 'max_bin': 369, 'bagging_fraction': 0.9263741713610358, 'feature_fraction': 0.5059828927331715, 'min_gain_to_split': 0.020358948841575214, 'lambda_l1': 0.13263790712507936, 'lambda_l2': 0.5890958716793793}. Best is trial 100 with value: 234.3653179309017.\u001b[0m\n"
     ]
    },
    {
     "name": "stdout",
     "output_type": "stream",
     "text": [
      "\n",
      "Training until validation scores don't improve for 100 rounds\n",
      "[500]\ttrain's l1: 219.618\tvalid's l1: 241.451\n",
      "[1000]\ttrain's l1: 188.596\tvalid's l1: 238.153\n",
      "Early stopping, best iteration is:\n",
      "[1380]\ttrain's l1: 175.576\tvalid's l1: 237.313\n"
     ]
    },
    {
     "name": "stderr",
     "output_type": "stream",
     "text": [
      "\u001b[32m[I 2023-05-27 14:27:14,275]\u001b[0m Trial 118 finished with value: 237.3130008076344 and parameters: {'num_leaves': 107, 'min_data_in_leaf': 9, 'max_bin': 380, 'bagging_fraction': 0.9275437745942999, 'feature_fraction': 0.5023854211478084, 'min_gain_to_split': 0.02050194361548721, 'lambda_l1': 0.13564753305355792, 'lambda_l2': 0.5866814863376774}. Best is trial 100 with value: 234.3653179309017.\u001b[0m\n"
     ]
    },
    {
     "name": "stdout",
     "output_type": "stream",
     "text": [
      "\n",
      "Training until validation scores don't improve for 100 rounds\n",
      "[500]\ttrain's l1: 222.709\tvalid's l1: 241.544\n",
      "[1000]\ttrain's l1: 196.105\tvalid's l1: 238.068\n",
      "[1500]\ttrain's l1: 179.761\tvalid's l1: 237.228\n",
      "[2000]\ttrain's l1: 167.047\tvalid's l1: 236.401\n",
      "[2500]\ttrain's l1: 159.079\tvalid's l1: 236.093\n",
      "Early stopping, best iteration is:\n",
      "[2787]\ttrain's l1: 154.714\tvalid's l1: 235.893\n"
     ]
    },
    {
     "name": "stderr",
     "output_type": "stream",
     "text": [
      "\u001b[32m[I 2023-05-27 14:27:53,960]\u001b[0m Trial 119 finished with value: 235.8927656880547 and parameters: {'num_leaves': 96, 'min_data_in_leaf': 10, 'max_bin': 371, 'bagging_fraction': 0.9260111162150141, 'feature_fraction': 0.5102062890941241, 'min_gain_to_split': 0.019062879806970738, 'lambda_l1': 0.1260004969997743, 'lambda_l2': 0.7385895176669159}. Best is trial 100 with value: 234.3653179309017.\u001b[0m\n"
     ]
    },
    {
     "name": "stdout",
     "output_type": "stream",
     "text": [
      "\n",
      "Training until validation scores don't improve for 100 rounds\n",
      "[500]\ttrain's l1: 221.53\tvalid's l1: 240.359\n",
      "[1000]\ttrain's l1: 195.351\tvalid's l1: 237.899\n",
      "[1500]\ttrain's l1: 179.724\tvalid's l1: 236.937\n",
      "[2000]\ttrain's l1: 165.184\tvalid's l1: 236.508\n",
      "[2500]\ttrain's l1: 155.106\tvalid's l1: 236.055\n",
      "Early stopping, best iteration is:\n",
      "[2711]\ttrain's l1: 152.112\tvalid's l1: 235.896\n"
     ]
    },
    {
     "name": "stderr",
     "output_type": "stream",
     "text": [
      "\u001b[32m[I 2023-05-27 14:28:35,404]\u001b[0m Trial 120 finished with value: 235.8957786788501 and parameters: {'num_leaves': 100, 'min_data_in_leaf': 7, 'max_bin': 385, 'bagging_fraction': 0.9204201165132417, 'feature_fraction': 0.5251926075764176, 'min_gain_to_split': 0.0181215524448023, 'lambda_l1': 0.1558701509736687, 'lambda_l2': 0.5367952243529571}. Best is trial 100 with value: 234.3653179309017.\u001b[0m\n"
     ]
    },
    {
     "name": "stdout",
     "output_type": "stream",
     "text": [
      "\n",
      "Training until validation scores don't improve for 100 rounds\n",
      "[500]\ttrain's l1: 215.474\tvalid's l1: 240.976\n",
      "[1000]\ttrain's l1: 177.217\tvalid's l1: 237.666\n",
      "[1500]\ttrain's l1: 160.329\tvalid's l1: 236.86\n",
      "Early stopping, best iteration is:\n",
      "[1751]\ttrain's l1: 153.224\tvalid's l1: 236.455\n"
     ]
    },
    {
     "name": "stderr",
     "output_type": "stream",
     "text": [
      "\u001b[32m[I 2023-05-27 14:29:04,314]\u001b[0m Trial 121 finished with value: 236.45494983716642 and parameters: {'num_leaves': 122, 'min_data_in_leaf': 6, 'max_bin': 365, 'bagging_fraction': 0.9228715099011189, 'feature_fraction': 0.49299675021582556, 'min_gain_to_split': 0.022953674203709588, 'lambda_l1': 0.17690178028964126, 'lambda_l2': 0.6810034059320115}. Best is trial 100 with value: 234.3653179309017.\u001b[0m\n"
     ]
    },
    {
     "name": "stdout",
     "output_type": "stream",
     "text": [
      "\n",
      "Training until validation scores don't improve for 100 rounds\n",
      "[500]\ttrain's l1: 213.861\tvalid's l1: 240.123\n",
      "[1000]\ttrain's l1: 182.452\tvalid's l1: 237.511\n",
      "[1500]\ttrain's l1: 162.131\tvalid's l1: 236.306\n",
      "[2000]\ttrain's l1: 150.655\tvalid's l1: 235.912\n",
      "Early stopping, best iteration is:\n",
      "[2001]\ttrain's l1: 150.631\tvalid's l1: 235.907\n"
     ]
    },
    {
     "name": "stderr",
     "output_type": "stream",
     "text": [
      "\u001b[32m[I 2023-05-27 14:29:41,480]\u001b[0m Trial 122 finished with value: 235.9069119624472 and parameters: {'num_leaves': 126, 'min_data_in_leaf': 8, 'max_bin': 372, 'bagging_fraction': 0.9178315284716871, 'feature_fraction': 0.536426175639666, 'min_gain_to_split': 0.020138971791654418, 'lambda_l1': 0.10188670528024457, 'lambda_l2': 0.5976808418265518}. Best is trial 100 with value: 234.3653179309017.\u001b[0m\n"
     ]
    },
    {
     "name": "stdout",
     "output_type": "stream",
     "text": [
      "\n",
      "Training until validation scores don't improve for 100 rounds\n",
      "[500]\ttrain's l1: 209.038\tvalid's l1: 239.958\n",
      "[1000]\ttrain's l1: 173.367\tvalid's l1: 236.79\n",
      "[1500]\ttrain's l1: 156.351\tvalid's l1: 235.95\n",
      "Early stopping, best iteration is:\n",
      "[1827]\ttrain's l1: 147.757\tvalid's l1: 235.706\n"
     ]
    },
    {
     "name": "stderr",
     "output_type": "stream",
     "text": [
      "\u001b[32m[I 2023-05-27 14:30:17,871]\u001b[0m Trial 123 finished with value: 235.70571430141078 and parameters: {'num_leaves': 146, 'min_data_in_leaf': 10, 'max_bin': 388, 'bagging_fraction': 0.914766837084161, 'feature_fraction': 0.5178610207937426, 'min_gain_to_split': 0.02548771472718914, 'lambda_l1': 0.11570131414451651, 'lambda_l2': 0.504405243234627}. Best is trial 100 with value: 234.3653179309017.\u001b[0m\n"
     ]
    },
    {
     "name": "stdout",
     "output_type": "stream",
     "text": [
      "\n",
      "Training until validation scores don't improve for 100 rounds\n",
      "[500]\ttrain's l1: 213.214\tvalid's l1: 240.697\n",
      "[1000]\ttrain's l1: 176.3\tvalid's l1: 237.25\n",
      "[1500]\ttrain's l1: 160.993\tvalid's l1: 236.408\n",
      "[2000]\ttrain's l1: 149.519\tvalid's l1: 235.844\n",
      "[2500]\ttrain's l1: 140.723\tvalid's l1: 235.558\n",
      "Early stopping, best iteration is:\n",
      "[2641]\ttrain's l1: 138.516\tvalid's l1: 235.478\n"
     ]
    },
    {
     "name": "stderr",
     "output_type": "stream",
     "text": [
      "\u001b[32m[I 2023-05-27 14:31:02,979]\u001b[0m Trial 124 finished with value: 235.47793789813315 and parameters: {'num_leaves': 130, 'min_data_in_leaf': 9, 'max_bin': 395, 'bagging_fraction': 0.929526004823274, 'feature_fraction': 0.4864542142329578, 'min_gain_to_split': 0.017018228483669164, 'lambda_l1': 0.13692960422783468, 'lambda_l2': 0.6293349396189558}. Best is trial 100 with value: 234.3653179309017.\u001b[0m\n"
     ]
    },
    {
     "name": "stdout",
     "output_type": "stream",
     "text": [
      "\n",
      "Training until validation scores don't improve for 100 rounds\n",
      "[500]\ttrain's l1: 215.722\tvalid's l1: 239.961\n",
      "[1000]\ttrain's l1: 178.369\tvalid's l1: 236.858\n",
      "[1500]\ttrain's l1: 161.363\tvalid's l1: 235.656\n",
      "Early stopping, best iteration is:\n",
      "[1664]\ttrain's l1: 156.583\tvalid's l1: 235.404\n"
     ]
    },
    {
     "name": "stderr",
     "output_type": "stream",
     "text": [
      "\u001b[32m[I 2023-05-27 14:31:30,220]\u001b[0m Trial 125 finished with value: 235.40449673348905 and parameters: {'num_leaves': 119, 'min_data_in_leaf': 11, 'max_bin': 352, 'bagging_fraction': 0.9227541812677391, 'feature_fraction': 0.5046548657726674, 'min_gain_to_split': 0.027508535636566116, 'lambda_l1': 0.12308016029781474, 'lambda_l2': 0.8315611452747934}. Best is trial 100 with value: 234.3653179309017.\u001b[0m\n"
     ]
    },
    {
     "name": "stdout",
     "output_type": "stream",
     "text": [
      "\n",
      "Training until validation scores don't improve for 100 rounds\n",
      "[500]\ttrain's l1: 211.728\tvalid's l1: 239.63\n",
      "[1000]\ttrain's l1: 172.554\tvalid's l1: 235.867\n",
      "[1500]\ttrain's l1: 154.988\tvalid's l1: 235.131\n",
      "[2000]\ttrain's l1: 143.984\tvalid's l1: 234.608\n",
      "[2500]\ttrain's l1: 135.752\tvalid's l1: 234.378\n",
      "Early stopping, best iteration is:\n",
      "[2665]\ttrain's l1: 133.454\tvalid's l1: 234.315\n"
     ]
    },
    {
     "name": "stderr",
     "output_type": "stream",
     "text": [
      "\u001b[32m[I 2023-05-27 14:32:15,198]\u001b[0m Trial 126 finished with value: 234.31528099473687 and parameters: {'num_leaves': 134, 'min_data_in_leaf': 7, 'max_bin': 367, 'bagging_fraction': 0.9070588052646318, 'feature_fraction': 0.4750198527703644, 'min_gain_to_split': 0.015431669799012589, 'lambda_l1': 0.19436911150369224, 'lambda_l2': 0.4700522911962741}. Best is trial 126 with value: 234.31528099473687.\u001b[0m\n"
     ]
    },
    {
     "name": "stdout",
     "output_type": "stream",
     "text": [
      "\n",
      "Training until validation scores don't improve for 100 rounds\n",
      "[500]\ttrain's l1: 212.096\tvalid's l1: 241.421\n",
      "[1000]\ttrain's l1: 176.945\tvalid's l1: 237.777\n",
      "[1500]\ttrain's l1: 157.798\tvalid's l1: 236.929\n",
      "[2000]\ttrain's l1: 145.436\tvalid's l1: 236.672\n",
      "Early stopping, best iteration is:\n",
      "[1923]\ttrain's l1: 147.079\tvalid's l1: 236.62\n"
     ]
    },
    {
     "name": "stderr",
     "output_type": "stream",
     "text": [
      "\u001b[32m[I 2023-05-27 14:32:48,785]\u001b[0m Trial 127 finished with value: 236.61952338810616 and parameters: {'num_leaves': 134, 'min_data_in_leaf': 7, 'max_bin': 360, 'bagging_fraction': 0.9071698784694755, 'feature_fraction': 0.4660495578956078, 'min_gain_to_split': 0.015057563236687794, 'lambda_l1': 0.19050651268838825, 'lambda_l2': 0.7116505873087976}. Best is trial 126 with value: 234.31528099473687.\u001b[0m\n"
     ]
    },
    {
     "name": "stdout",
     "output_type": "stream",
     "text": [
      "\n",
      "Training until validation scores don't improve for 100 rounds\n",
      "[500]\ttrain's l1: 209.217\tvalid's l1: 239.491\n",
      "[1000]\ttrain's l1: 170.849\tvalid's l1: 236.19\n",
      "[1500]\ttrain's l1: 153.61\tvalid's l1: 235.372\n",
      "[2000]\ttrain's l1: 143.277\tvalid's l1: 234.935\n",
      "Early stopping, best iteration is:\n",
      "[1959]\ttrain's l1: 144.035\tvalid's l1: 234.904\n"
     ]
    },
    {
     "name": "stderr",
     "output_type": "stream",
     "text": [
      "\u001b[32m[I 2023-05-27 14:33:26,293]\u001b[0m Trial 128 finished with value: 234.90373624090876 and parameters: {'num_leaves': 142, 'min_data_in_leaf': 8, 'max_bin': 365, 'bagging_fraction': 0.9036448237802567, 'feature_fraction': 0.5125162045874171, 'min_gain_to_split': 0.013556245041050114, 'lambda_l1': 0.1557033646236086, 'lambda_l2': 0.45502687625533705}. Best is trial 126 with value: 234.31528099473687.\u001b[0m\n"
     ]
    },
    {
     "name": "stdout",
     "output_type": "stream",
     "text": [
      "\n",
      "Training until validation scores don't improve for 100 rounds\n",
      "[500]\ttrain's l1: 210.212\tvalid's l1: 239.973\n",
      "[1000]\ttrain's l1: 174.512\tvalid's l1: 236.495\n",
      "[1500]\ttrain's l1: 155.13\tvalid's l1: 235.452\n",
      "[2000]\ttrain's l1: 144.36\tvalid's l1: 234.788\n",
      "[2500]\ttrain's l1: 134.228\tvalid's l1: 234.471\n",
      "Early stopping, best iteration is:\n",
      "[2465]\ttrain's l1: 134.947\tvalid's l1: 234.438\n"
     ]
    },
    {
     "name": "stderr",
     "output_type": "stream",
     "text": [
      "\u001b[32m[I 2023-05-27 14:34:12,200]\u001b[0m Trial 129 finished with value: 234.43815297047513 and parameters: {'num_leaves': 139, 'min_data_in_leaf': 8, 'max_bin': 376, 'bagging_fraction': 0.9038990954551257, 'feature_fraction': 0.5275286471882689, 'min_gain_to_split': 0.010856385771312057, 'lambda_l1': 0.1597280782737156, 'lambda_l2': 0.46388797535736187}. Best is trial 126 with value: 234.31528099473687.\u001b[0m\n"
     ]
    },
    {
     "name": "stdout",
     "output_type": "stream",
     "text": [
      "\n",
      "Training until validation scores don't improve for 100 rounds\n",
      "[500]\ttrain's l1: 210.552\tvalid's l1: 240.65\n",
      "[1000]\ttrain's l1: 172.573\tvalid's l1: 237.135\n",
      "[1500]\ttrain's l1: 155.533\tvalid's l1: 236.132\n",
      "Early stopping, best iteration is:\n",
      "[1771]\ttrain's l1: 149.089\tvalid's l1: 235.976\n"
     ]
    },
    {
     "name": "stderr",
     "output_type": "stream",
     "text": [
      "\u001b[32m[I 2023-05-27 14:34:45,080]\u001b[0m Trial 130 finished with value: 235.9758177833684 and parameters: {'num_leaves': 139, 'min_data_in_leaf': 6, 'max_bin': 375, 'bagging_fraction': 0.8987567041820881, 'feature_fraction': 0.5300520728516483, 'min_gain_to_split': 0.010173831481789701, 'lambda_l1': 0.16244273750307398, 'lambda_l2': 0.40399369444009064}. Best is trial 126 with value: 234.31528099473687.\u001b[0m\n"
     ]
    },
    {
     "name": "stdout",
     "output_type": "stream",
     "text": [
      "\n",
      "Training until validation scores don't improve for 100 rounds\n",
      "[500]\ttrain's l1: 212.897\tvalid's l1: 240.478\n",
      "[1000]\ttrain's l1: 177.159\tvalid's l1: 236.587\n",
      "[1500]\ttrain's l1: 156.821\tvalid's l1: 235.562\n",
      "[2000]\ttrain's l1: 145.79\tvalid's l1: 235.076\n",
      "Early stopping, best iteration is:\n",
      "[2242]\ttrain's l1: 142.81\tvalid's l1: 234.963\n"
     ]
    },
    {
     "name": "stderr",
     "output_type": "stream",
     "text": [
      "\u001b[32m[I 2023-05-27 14:35:26,053]\u001b[0m Trial 131 finished with value: 234.9627017577553 and parameters: {'num_leaves': 129, 'min_data_in_leaf': 8, 'max_bin': 370, 'bagging_fraction': 0.9020351822652066, 'feature_fraction': 0.5122550855764767, 'min_gain_to_split': 0.013530169258906627, 'lambda_l1': 0.14714381328528875, 'lambda_l2': 0.44661193694390894}. Best is trial 126 with value: 234.31528099473687.\u001b[0m\n"
     ]
    },
    {
     "name": "stdout",
     "output_type": "stream",
     "text": [
      "\n",
      "Training until validation scores don't improve for 100 rounds\n",
      "[500]\ttrain's l1: 215.537\tvalid's l1: 240.76\n",
      "[1000]\ttrain's l1: 182.54\tvalid's l1: 237.173\n",
      "[1500]\ttrain's l1: 166.839\tvalid's l1: 236.346\n",
      "[2000]\ttrain's l1: 154.575\tvalid's l1: 235.846\n",
      "[2500]\ttrain's l1: 145.363\tvalid's l1: 235.405\n",
      "Early stopping, best iteration is:\n",
      "[2589]\ttrain's l1: 144.104\tvalid's l1: 235.386\n"
     ]
    },
    {
     "name": "stderr",
     "output_type": "stream",
     "text": [
      "\u001b[32m[I 2023-05-27 14:36:09,273]\u001b[0m Trial 132 finished with value: 235.38587621641636 and parameters: {'num_leaves': 123, 'min_data_in_leaf': 8, 'max_bin': 366, 'bagging_fraction': 0.8919770142114658, 'feature_fraction': 0.5202754200006328, 'min_gain_to_split': 0.013697804704666519, 'lambda_l1': 0.18520649631425182, 'lambda_l2': 0.44154717448237146}. Best is trial 126 with value: 234.31528099473687.\u001b[0m\n"
     ]
    },
    {
     "name": "stdout",
     "output_type": "stream",
     "text": [
      "\n",
      "Training until validation scores don't improve for 100 rounds\n",
      "[500]\ttrain's l1: 209.427\tvalid's l1: 240.804\n",
      "[1000]\ttrain's l1: 171.345\tvalid's l1: 237.007\n",
      "[1500]\ttrain's l1: 151.622\tvalid's l1: 236.076\n",
      "[2000]\ttrain's l1: 138.935\tvalid's l1: 235.441\n",
      "Early stopping, best iteration is:\n",
      "[2198]\ttrain's l1: 135.746\tvalid's l1: 235.244\n"
     ]
    },
    {
     "name": "stderr",
     "output_type": "stream",
     "text": [
      "\u001b[32m[I 2023-05-27 14:36:51,909]\u001b[0m Trial 133 finished with value: 235.24388791030043 and parameters: {'num_leaves': 142, 'min_data_in_leaf': 7, 'max_bin': 379, 'bagging_fraction': 0.9047264289216088, 'feature_fraction': 0.5270605412533749, 'min_gain_to_split': 0.012391259308609388, 'lambda_l1': 0.1571924901755162, 'lambda_l2': 0.47852412609306094}. Best is trial 126 with value: 234.31528099473687.\u001b[0m\n"
     ]
    },
    {
     "name": "stdout",
     "output_type": "stream",
     "text": [
      "\n",
      "Training until validation scores don't improve for 100 rounds\n",
      "[500]\ttrain's l1: 211.913\tvalid's l1: 240.086\n",
      "[1000]\ttrain's l1: 173.621\tvalid's l1: 236.36\n",
      "[1500]\ttrain's l1: 158.122\tvalid's l1: 235.495\n",
      "Early stopping, best iteration is:\n",
      "[1634]\ttrain's l1: 154.069\tvalid's l1: 235.358\n"
     ]
    },
    {
     "name": "stderr",
     "output_type": "stream",
     "text": [
      "\u001b[32m[I 2023-05-27 14:37:22,722]\u001b[0m Trial 134 finished with value: 235.35834250829205 and parameters: {'num_leaves': 133, 'min_data_in_leaf': 8, 'max_bin': 372, 'bagging_fraction': 0.9098847805270662, 'feature_fraction': 0.5373338762801648, 'min_gain_to_split': 0.015582727723129368, 'lambda_l1': 0.1447260841107211, 'lambda_l2': 0.37069027161320917}. Best is trial 126 with value: 234.31528099473687.\u001b[0m\n"
     ]
    },
    {
     "name": "stdout",
     "output_type": "stream",
     "text": [
      "\n",
      "Training until validation scores don't improve for 100 rounds\n",
      "[500]\ttrain's l1: 210.555\tvalid's l1: 240.453\n",
      "[1000]\ttrain's l1: 171.781\tvalid's l1: 237.26\n",
      "[1500]\ttrain's l1: 153.661\tvalid's l1: 236.084\n",
      "Early stopping, best iteration is:\n",
      "[1725]\ttrain's l1: 148.313\tvalid's l1: 235.788\n"
     ]
    },
    {
     "name": "stderr",
     "output_type": "stream",
     "text": [
      "\u001b[32m[I 2023-05-27 14:37:56,155]\u001b[0m Trial 135 finished with value: 235.78786001959023 and parameters: {'num_leaves': 137, 'min_data_in_leaf': 7, 'max_bin': 389, 'bagging_fraction': 0.9022879381804768, 'feature_fraction': 0.5001807547905819, 'min_gain_to_split': 0.016416689694949298, 'lambda_l1': 0.2306129817712219, 'lambda_l2': 0.3089584060221835}. Best is trial 126 with value: 234.31528099473687.\u001b[0m\n"
     ]
    },
    {
     "name": "stdout",
     "output_type": "stream",
     "text": [
      "\n",
      "Training until validation scores don't improve for 100 rounds\n",
      "[500]\ttrain's l1: 229.93\tvalid's l1: 242.714\n",
      "[1000]\ttrain's l1: 205.621\tvalid's l1: 239.541\n",
      "[1500]\ttrain's l1: 191.912\tvalid's l1: 238.591\n",
      "[2000]\ttrain's l1: 182.242\tvalid's l1: 238.014\n",
      "[2500]\ttrain's l1: 173.195\tvalid's l1: 237.572\n",
      "[3000]\ttrain's l1: 168.433\tvalid's l1: 237.321\n",
      "Early stopping, best iteration is:\n",
      "[2908]\ttrain's l1: 169.034\tvalid's l1: 237.291\n"
     ]
    },
    {
     "name": "stderr",
     "output_type": "stream",
     "text": [
      "\u001b[32m[I 2023-05-27 14:38:30,481]\u001b[0m Trial 136 finished with value: 237.29082495558626 and parameters: {'num_leaves': 74, 'min_data_in_leaf': 6, 'max_bin': 368, 'bagging_fraction': 0.9082584332533145, 'feature_fraction': 0.5143583063128884, 'min_gain_to_split': 0.012309184499866519, 'lambda_l1': 0.1741488422441376, 'lambda_l2': 0.5283006656837023}. Best is trial 126 with value: 234.31528099473687.\u001b[0m\n"
     ]
    },
    {
     "name": "stdout",
     "output_type": "stream",
     "text": [
      "\n",
      "Training until validation scores don't improve for 100 rounds\n",
      "[500]\ttrain's l1: 214.138\tvalid's l1: 240.418\n",
      "[1000]\ttrain's l1: 184.12\tvalid's l1: 237.033\n",
      "[1500]\ttrain's l1: 161.694\tvalid's l1: 236.009\n",
      "[2000]\ttrain's l1: 148.936\tvalid's l1: 235.305\n",
      "[2500]\ttrain's l1: 139.51\tvalid's l1: 234.815\n",
      "Early stopping, best iteration is:\n",
      "[2491]\ttrain's l1: 139.648\tvalid's l1: 234.807\n"
     ]
    },
    {
     "name": "stderr",
     "output_type": "stream",
     "text": [
      "\u001b[32m[I 2023-05-27 14:39:13,959]\u001b[0m Trial 137 finished with value: 234.80686051592144 and parameters: {'num_leaves': 125, 'min_data_in_leaf': 9, 'max_bin': 376, 'bagging_fraction': 0.9034097418637818, 'feature_fraction': 0.5094275099302235, 'min_gain_to_split': 0.018055244529156605, 'lambda_l1': 0.20066843375037238, 'lambda_l2': 0.44468015702484}. Best is trial 126 with value: 234.31528099473687.\u001b[0m\n"
     ]
    },
    {
     "name": "stdout",
     "output_type": "stream",
     "text": [
      "\n",
      "Training until validation scores don't improve for 100 rounds\n",
      "[500]\ttrain's l1: 213.267\tvalid's l1: 240.451\n",
      "[1000]\ttrain's l1: 181.415\tvalid's l1: 237.257\n",
      "[1500]\ttrain's l1: 163.092\tvalid's l1: 236.002\n",
      "[2000]\ttrain's l1: 152.858\tvalid's l1: 235.593\n",
      "[2500]\ttrain's l1: 143.381\tvalid's l1: 235.396\n",
      "Early stopping, best iteration is:\n",
      "[2426]\ttrain's l1: 144.826\tvalid's l1: 235.344\n"
     ]
    },
    {
     "name": "stderr",
     "output_type": "stream",
     "text": [
      "\u001b[32m[I 2023-05-27 14:39:56,313]\u001b[0m Trial 138 finished with value: 235.34438877747462 and parameters: {'num_leaves': 126, 'min_data_in_leaf': 7, 'max_bin': 382, 'bagging_fraction': 0.8984705019763651, 'feature_fraction': 0.5215776017877138, 'min_gain_to_split': 0.014202121961551139, 'lambda_l1': 0.19406355638575562, 'lambda_l2': 0.3999661785080078}. Best is trial 126 with value: 234.31528099473687.\u001b[0m\n"
     ]
    },
    {
     "name": "stdout",
     "output_type": "stream",
     "text": [
      "\n",
      "Training until validation scores don't improve for 100 rounds\n",
      "[500]\ttrain's l1: 206.863\tvalid's l1: 239.792\n",
      "[1000]\ttrain's l1: 168.851\tvalid's l1: 236.281\n",
      "Early stopping, best iteration is:\n",
      "[1393]\ttrain's l1: 155.749\tvalid's l1: 235.645\n"
     ]
    },
    {
     "name": "stderr",
     "output_type": "stream",
     "text": [
      "\u001b[32m[I 2023-05-27 14:40:27,848]\u001b[0m Trial 139 finished with value: 235.64497091467356 and parameters: {'num_leaves': 151, 'min_data_in_leaf': 8, 'max_bin': 376, 'bagging_fraction': 0.9056180056039635, 'feature_fraction': 0.5323035384916004, 'min_gain_to_split': 0.017124211840916587, 'lambda_l1': 0.20927379933516685, 'lambda_l2': 0.35285898899604984}. Best is trial 126 with value: 234.31528099473687.\u001b[0m\n"
     ]
    },
    {
     "name": "stdout",
     "output_type": "stream",
     "text": [
      "\n",
      "Training until validation scores don't improve for 100 rounds\n",
      "[500]\ttrain's l1: 215.306\tvalid's l1: 240.118\n",
      "[1000]\ttrain's l1: 184.086\tvalid's l1: 236.502\n",
      "[1500]\ttrain's l1: 162.766\tvalid's l1: 235.562\n",
      "Early stopping, best iteration is:\n",
      "[1640]\ttrain's l1: 158.966\tvalid's l1: 235.35\n"
     ]
    },
    {
     "name": "stderr",
     "output_type": "stream",
     "text": [
      "\u001b[32m[I 2023-05-27 14:40:55,952]\u001b[0m Trial 140 finished with value: 235.34988927349443 and parameters: {'num_leaves': 119, 'min_data_in_leaf': 8, 'max_bin': 400, 'bagging_fraction': 0.9027141670917721, 'feature_fraction': 0.5119465258854723, 'min_gain_to_split': 0.011199063147690485, 'lambda_l1': 0.14836433459345022, 'lambda_l2': 0.4663707393124525}. Best is trial 126 with value: 234.31528099473687.\u001b[0m\n"
     ]
    },
    {
     "name": "stdout",
     "output_type": "stream",
     "text": [
      "\n",
      "Training until validation scores don't improve for 100 rounds\n",
      "[500]\ttrain's l1: 212.575\tvalid's l1: 240.92\n",
      "[1000]\ttrain's l1: 178.642\tvalid's l1: 237.519\n",
      "[1500]\ttrain's l1: 158.593\tvalid's l1: 236.638\n",
      "[2000]\ttrain's l1: 146.489\tvalid's l1: 236.241\n",
      "Early stopping, best iteration is:\n",
      "[2261]\ttrain's l1: 141.039\tvalid's l1: 235.995\n"
     ]
    },
    {
     "name": "stderr",
     "output_type": "stream",
     "text": [
      "\u001b[32m[I 2023-05-27 14:41:36,060]\u001b[0m Trial 141 finished with value: 235.99531679776695 and parameters: {'num_leaves': 130, 'min_data_in_leaf': 9, 'max_bin': 362, 'bagging_fraction': 0.9111836292674484, 'feature_fraction': 0.5061735135334087, 'min_gain_to_split': 0.01513098761795304, 'lambda_l1': 0.1281250577572384, 'lambda_l2': 0.5415259468549997}. Best is trial 126 with value: 234.31528099473687.\u001b[0m\n"
     ]
    },
    {
     "name": "stdout",
     "output_type": "stream",
     "text": [
      "\n",
      "Training until validation scores don't improve for 100 rounds\n",
      "[500]\ttrain's l1: 217.708\tvalid's l1: 241.186\n",
      "[1000]\ttrain's l1: 186.131\tvalid's l1: 237.782\n",
      "[1500]\ttrain's l1: 167.168\tvalid's l1: 236.461\n",
      "[2000]\ttrain's l1: 155.684\tvalid's l1: 235.865\n",
      "[2500]\ttrain's l1: 147.256\tvalid's l1: 235.603\n",
      "[3000]\ttrain's l1: 139.564\tvalid's l1: 235.277\n",
      "Early stopping, best iteration is:\n",
      "[3233]\ttrain's l1: 136.87\tvalid's l1: 235.193\n"
     ]
    },
    {
     "name": "stderr",
     "output_type": "stream",
     "text": [
      "\u001b[32m[I 2023-05-27 14:42:26,142]\u001b[0m Trial 142 finished with value: 235.19259771011573 and parameters: {'num_leaves': 115, 'min_data_in_leaf': 9, 'max_bin': 373, 'bagging_fraction': 0.8946334502195693, 'feature_fraction': 0.49620832977101675, 'min_gain_to_split': 0.013703980705399478, 'lambda_l1': 0.1408213760554385, 'lambda_l2': 0.4596801911611989}. Best is trial 126 with value: 234.31528099473687.\u001b[0m\n"
     ]
    },
    {
     "name": "stdout",
     "output_type": "stream",
     "text": [
      "\n",
      "Training until validation scores don't improve for 100 rounds\n",
      "[500]\ttrain's l1: 214.526\tvalid's l1: 240.107\n",
      "[1000]\ttrain's l1: 179.202\tvalid's l1: 236.774\n",
      "[1500]\ttrain's l1: 163.452\tvalid's l1: 235.952\n",
      "Early stopping, best iteration is:\n",
      "[1465]\ttrain's l1: 164.006\tvalid's l1: 235.914\n"
     ]
    },
    {
     "name": "stderr",
     "output_type": "stream",
     "text": [
      "\u001b[32m[I 2023-05-27 14:42:51,940]\u001b[0m Trial 143 finished with value: 235.91371391979115 and parameters: {'num_leaves': 124, 'min_data_in_leaf': 9, 'max_bin': 367, 'bagging_fraction': 0.9157579980341629, 'feature_fraction': 0.5078130575868085, 'min_gain_to_split': 0.018610100164297524, 'lambda_l1': 0.1670692605737401, 'lambda_l2': 0.3292357986216379}. Best is trial 126 with value: 234.31528099473687.\u001b[0m\n"
     ]
    },
    {
     "name": "stdout",
     "output_type": "stream",
     "text": [
      "\n",
      "Training until validation scores don't improve for 100 rounds\n",
      "[500]\ttrain's l1: 212.013\tvalid's l1: 240.101\n",
      "[1000]\ttrain's l1: 173.041\tvalid's l1: 237.781\n",
      "[1500]\ttrain's l1: 155.874\tvalid's l1: 236.698\n",
      "[2000]\ttrain's l1: 144.058\tvalid's l1: 236.198\n",
      "[2500]\ttrain's l1: 136.962\tvalid's l1: 235.983\n",
      "Early stopping, best iteration is:\n",
      "[2447]\ttrain's l1: 137.643\tvalid's l1: 235.955\n"
     ]
    },
    {
     "name": "stderr",
     "output_type": "stream",
     "text": [
      "\u001b[32m[I 2023-05-27 14:43:35,301]\u001b[0m Trial 144 finished with value: 235.9547337623743 and parameters: {'num_leaves': 128, 'min_data_in_leaf': 7, 'max_bin': 385, 'bagging_fraction': 0.9122112715761881, 'feature_fraction': 0.5181696782847962, 'min_gain_to_split': 0.01995164231628457, 'lambda_l1': 0.1795286894951943, 'lambda_l2': 0.42547016112302527}. Best is trial 126 with value: 234.31528099473687.\u001b[0m\n"
     ]
    },
    {
     "name": "stdout",
     "output_type": "stream",
     "text": [
      "\n",
      "Training until validation scores don't improve for 100 rounds\n",
      "[500]\ttrain's l1: 219.095\tvalid's l1: 241.627\n",
      "[1000]\ttrain's l1: 182.987\tvalid's l1: 237.96\n",
      "[1500]\ttrain's l1: 165.983\tvalid's l1: 236.484\n",
      "[2000]\ttrain's l1: 159.531\tvalid's l1: 236.262\n",
      "Early stopping, best iteration is:\n",
      "[2387]\ttrain's l1: 155.832\tvalid's l1: 236.089\n"
     ]
    },
    {
     "name": "stderr",
     "output_type": "stream",
     "text": [
      "\u001b[32m[I 2023-05-27 14:44:12,666]\u001b[0m Trial 145 finished with value: 236.08918826525078 and parameters: {'num_leaves': 111, 'min_data_in_leaf': 10, 'max_bin': 356, 'bagging_fraction': 0.9081450396791266, 'feature_fraction': 0.5262447207575689, 'min_gain_to_split': 0.01598523619480129, 'lambda_l1': 0.1318730725350629, 'lambda_l2': 0.5115739055094712}. Best is trial 126 with value: 234.31528099473687.\u001b[0m\n"
     ]
    },
    {
     "name": "stdout",
     "output_type": "stream",
     "text": [
      "\n",
      "Training until validation scores don't improve for 100 rounds\n",
      "[500]\ttrain's l1: 210.99\tvalid's l1: 240.106\n",
      "[1000]\ttrain's l1: 177.394\tvalid's l1: 237.186\n",
      "[1500]\ttrain's l1: 158.883\tvalid's l1: 235.929\n",
      "[2000]\ttrain's l1: 146.334\tvalid's l1: 235.402\n",
      "Early stopping, best iteration is:\n",
      "[2161]\ttrain's l1: 143.365\tvalid's l1: 235.226\n"
     ]
    },
    {
     "name": "stderr",
     "output_type": "stream",
     "text": [
      "\u001b[32m[I 2023-05-27 14:44:51,842]\u001b[0m Trial 146 finished with value: 235.22582821235503 and parameters: {'num_leaves': 139, 'min_data_in_leaf': 8, 'max_bin': 375, 'bagging_fraction': 0.9026406288259895, 'feature_fraction': 0.4909713690373425, 'min_gain_to_split': 0.01157428032890519, 'lambda_l1': 0.2526753784535592, 'lambda_l2': 0.5676012590963402}. Best is trial 126 with value: 234.31528099473687.\u001b[0m\n"
     ]
    },
    {
     "name": "stdout",
     "output_type": "stream",
     "text": [
      "\n",
      "Training until validation scores don't improve for 100 rounds\n",
      "[500]\ttrain's l1: 211.985\tvalid's l1: 241.112\n",
      "[1000]\ttrain's l1: 175.856\tvalid's l1: 237.536\n",
      "[1500]\ttrain's l1: 156.19\tvalid's l1: 236.449\n",
      "[2000]\ttrain's l1: 143.318\tvalid's l1: 235.844\n",
      "[2500]\ttrain's l1: 134.452\tvalid's l1: 235.584\n",
      "Early stopping, best iteration is:\n",
      "[2404]\ttrain's l1: 135.846\tvalid's l1: 235.556\n"
     ]
    },
    {
     "name": "stderr",
     "output_type": "stream",
     "text": [
      "\u001b[32m[I 2023-05-27 14:45:35,586]\u001b[0m Trial 147 finished with value: 235.5558501734134 and parameters: {'num_leaves': 133, 'min_data_in_leaf': 9, 'max_bin': 381, 'bagging_fraction': 0.920754846160054, 'feature_fraction': 0.5038113186779289, 'min_gain_to_split': 0.013768324434789026, 'lambda_l1': 0.15457925693863242, 'lambda_l2': 0.42631228885796907}. Best is trial 126 with value: 234.31528099473687.\u001b[0m\n"
     ]
    },
    {
     "name": "stdout",
     "output_type": "stream",
     "text": [
      "\n",
      "Training until validation scores don't improve for 100 rounds\n",
      "[500]\ttrain's l1: 239.148\tvalid's l1: 243.717\n",
      "[1000]\ttrain's l1: 220.301\tvalid's l1: 239.327\n",
      "[1500]\ttrain's l1: 204.988\tvalid's l1: 237.822\n",
      "[2000]\ttrain's l1: 196.884\tvalid's l1: 237.388\n",
      "Early stopping, best iteration is:\n",
      "[2276]\ttrain's l1: 193.429\tvalid's l1: 237.181\n"
     ]
    },
    {
     "name": "stderr",
     "output_type": "stream",
     "text": [
      "\u001b[32m[I 2023-05-27 14:45:56,845]\u001b[0m Trial 148 finished with value: 237.18089028470243 and parameters: {'num_leaves': 51, 'min_data_in_leaf': 6, 'max_bin': 370, 'bagging_fraction': 0.8993015956978346, 'feature_fraction': 0.49992825911442945, 'min_gain_to_split': 0.01775195537752298, 'lambda_l1': 0.1950805391748018, 'lambda_l2': 0.27014234846071494}. Best is trial 126 with value: 234.31528099473687.\u001b[0m\n"
     ]
    },
    {
     "name": "stdout",
     "output_type": "stream",
     "text": [
      "\n",
      "Training until validation scores don't improve for 100 rounds\n",
      "[500]\ttrain's l1: 208.756\tvalid's l1: 239.941\n",
      "[1000]\ttrain's l1: 174.102\tvalid's l1: 237.013\n",
      "[1500]\ttrain's l1: 155.286\tvalid's l1: 236.28\n",
      "Early stopping, best iteration is:\n",
      "[1459]\ttrain's l1: 156.7\tvalid's l1: 236.203\n"
     ]
    },
    {
     "name": "stderr",
     "output_type": "stream",
     "text": [
      "\u001b[32m[I 2023-05-27 14:46:28,602]\u001b[0m Trial 149 finished with value: 236.2032930588034 and parameters: {'num_leaves': 147, 'min_data_in_leaf': 11, 'max_bin': 390, 'bagging_fraction': 0.892046371943157, 'feature_fraction': 0.5421314610422918, 'min_gain_to_split': 0.023110458221018575, 'lambda_l1': 0.1116238872717833, 'lambda_l2': 0.36362765480808684}. Best is trial 126 with value: 234.31528099473687.\u001b[0m\n"
     ]
    },
    {
     "name": "stdout",
     "output_type": "stream",
     "text": [
      "\n",
      "Training until validation scores don't improve for 100 rounds\n",
      "[500]\ttrain's l1: 215.741\tvalid's l1: 241.914\n",
      "[1000]\ttrain's l1: 179.559\tvalid's l1: 238.377\n",
      "[1500]\ttrain's l1: 161.456\tvalid's l1: 237.044\n",
      "[2000]\ttrain's l1: 148.998\tvalid's l1: 236.56\n",
      "Early stopping, best iteration is:\n",
      "[2393]\ttrain's l1: 141.782\tvalid's l1: 236.303\n"
     ]
    },
    {
     "name": "stderr",
     "output_type": "stream",
     "text": [
      "\u001b[32m[I 2023-05-27 14:47:06,718]\u001b[0m Trial 150 finished with value: 236.30293336598143 and parameters: {'num_leaves': 120, 'min_data_in_leaf': 8, 'max_bin': 364, 'bagging_fraction': 0.9259393685029207, 'feature_fraction': 0.47802900279795235, 'min_gain_to_split': 0.020599542008835844, 'lambda_l1': 0.12283945086878241, 'lambda_l2': 0.6336694472332907}. Best is trial 126 with value: 234.31528099473687.\u001b[0m\n"
     ]
    },
    {
     "name": "stdout",
     "output_type": "stream",
     "text": [
      "\n",
      "Training until validation scores don't improve for 100 rounds\n",
      "[500]\ttrain's l1: 213.672\tvalid's l1: 241.009\n",
      "[1000]\ttrain's l1: 177.021\tvalid's l1: 237.172\n",
      "[1500]\ttrain's l1: 159.114\tvalid's l1: 236.103\n",
      "[2000]\ttrain's l1: 148.479\tvalid's l1: 235.821\n",
      "[2500]\ttrain's l1: 141.786\tvalid's l1: 235.543\n",
      "[3000]\ttrain's l1: 137.226\tvalid's l1: 235.248\n",
      "Early stopping, best iteration is:\n",
      "[3364]\ttrain's l1: 131.72\tvalid's l1: 235.112\n"
     ]
    },
    {
     "name": "stderr",
     "output_type": "stream",
     "text": [
      "\u001b[32m[I 2023-05-27 14:48:04,783]\u001b[0m Trial 151 finished with value: 235.11204227875493 and parameters: {'num_leaves': 129, 'min_data_in_leaf': 9, 'max_bin': 358, 'bagging_fraction': 0.9168191395584536, 'feature_fraction': 0.5128753320856851, 'min_gain_to_split': 0.023567226426266623, 'lambda_l1': 0.09952743886524955, 'lambda_l2': 0.6678024117843291}. Best is trial 126 with value: 234.31528099473687.\u001b[0m\n"
     ]
    },
    {
     "name": "stdout",
     "output_type": "stream",
     "text": [
      "\n",
      "Training until validation scores don't improve for 100 rounds\n",
      "[500]\ttrain's l1: 211.04\tvalid's l1: 239.816\n",
      "[1000]\ttrain's l1: 175.312\tvalid's l1: 236.341\n",
      "[1500]\ttrain's l1: 157.319\tvalid's l1: 235.41\n",
      "Early stopping, best iteration is:\n",
      "[1779]\ttrain's l1: 149.373\tvalid's l1: 235.318\n"
     ]
    },
    {
     "name": "stderr",
     "output_type": "stream",
     "text": [
      "\u001b[32m[I 2023-05-27 14:48:36,064]\u001b[0m Trial 152 finished with value: 235.31768292904854 and parameters: {'num_leaves': 136, 'min_data_in_leaf': 10, 'max_bin': 350, 'bagging_fraction': 0.9192601975995374, 'feature_fraction': 0.5110834666376209, 'min_gain_to_split': 0.03044764371601208, 'lambda_l1': 0.14328043167155444, 'lambda_l2': 0.5635571701816229}. Best is trial 126 with value: 234.31528099473687.\u001b[0m\n"
     ]
    },
    {
     "name": "stdout",
     "output_type": "stream",
     "text": [
      "\n",
      "Training until validation scores don't improve for 100 rounds\n",
      "[500]\ttrain's l1: 213.874\tvalid's l1: 240.864\n",
      "[1000]\ttrain's l1: 177.835\tvalid's l1: 237.413\n",
      "[1500]\ttrain's l1: 161.948\tvalid's l1: 236.47\n",
      "[2000]\ttrain's l1: 147.119\tvalid's l1: 236.155\n",
      "Early stopping, best iteration is:\n",
      "[2063]\ttrain's l1: 145.549\tvalid's l1: 236.115\n"
     ]
    },
    {
     "name": "stderr",
     "output_type": "stream",
     "text": [
      "\u001b[32m[I 2023-05-27 14:49:12,487]\u001b[0m Trial 153 finished with value: 236.11533509112132 and parameters: {'num_leaves': 126, 'min_data_in_leaf': 7, 'max_bin': 355, 'bagging_fraction': 0.9126577737007742, 'feature_fraction': 0.5171105562872768, 'min_gain_to_split': 0.022339607834582376, 'lambda_l1': 0.16851559589671156, 'lambda_l2': 0.5003878634139068}. Best is trial 126 with value: 234.31528099473687.\u001b[0m\n"
     ]
    },
    {
     "name": "stdout",
     "output_type": "stream",
     "text": [
      "\n",
      "Training until validation scores don't improve for 100 rounds\n",
      "[500]\ttrain's l1: 212.547\tvalid's l1: 240.534\n",
      "[1000]\ttrain's l1: 173.38\tvalid's l1: 237.341\n",
      "[1500]\ttrain's l1: 157.336\tvalid's l1: 236.413\n",
      "Early stopping, best iteration is:\n",
      "[1881]\ttrain's l1: 147.918\tvalid's l1: 236.048\n"
     ]
    },
    {
     "name": "stderr",
     "output_type": "stream",
     "text": [
      "\u001b[32m[I 2023-05-27 14:49:48,105]\u001b[0m Trial 154 finished with value: 236.04780967782702 and parameters: {'num_leaves': 131, 'min_data_in_leaf': 8, 'max_bin': 379, 'bagging_fraction': 0.923526839386924, 'feature_fraction': 0.5272771085725242, 'min_gain_to_split': 0.014690032813216581, 'lambda_l1': 0.13382739086750794, 'lambda_l2': 0.7334651243415429}. Best is trial 126 with value: 234.31528099473687.\u001b[0m\n"
     ]
    },
    {
     "name": "stdout",
     "output_type": "stream",
     "text": [
      "\n",
      "Training until validation scores don't improve for 100 rounds\n",
      "[500]\ttrain's l1: 214.499\tvalid's l1: 240.865\n",
      "[1000]\ttrain's l1: 177.651\tvalid's l1: 237.281\n",
      "[1500]\ttrain's l1: 161.045\tvalid's l1: 236.067\n",
      "Early stopping, best iteration is:\n",
      "[1792]\ttrain's l1: 153.892\tvalid's l1: 235.769\n"
     ]
    },
    {
     "name": "stderr",
     "output_type": "stream",
     "text": [
      "\u001b[32m[I 2023-05-27 14:50:20,179]\u001b[0m Trial 155 finished with value: 235.7690608571406 and parameters: {'num_leaves': 124, 'min_data_in_leaf': 9, 'max_bin': 362, 'bagging_fraction': 0.9099912778855292, 'feature_fraction': 0.5077381603924849, 'min_gain_to_split': 0.01881845546178387, 'lambda_l1': 0.10916321773539835, 'lambda_l2': 0.6293487639018692}. Best is trial 126 with value: 234.31528099473687.\u001b[0m\n"
     ]
    },
    {
     "name": "stdout",
     "output_type": "stream",
     "text": [
      "\n",
      "Training until validation scores don't improve for 100 rounds\n",
      "[500]\ttrain's l1: 210.128\tvalid's l1: 240.311\n",
      "[1000]\ttrain's l1: 175.61\tvalid's l1: 236.785\n",
      "[1500]\ttrain's l1: 158.573\tvalid's l1: 236.057\n",
      "[2000]\ttrain's l1: 146.326\tvalid's l1: 235.667\n",
      "Early stopping, best iteration is:\n",
      "[2102]\ttrain's l1: 143.544\tvalid's l1: 235.619\n"
     ]
    },
    {
     "name": "stderr",
     "output_type": "stream",
     "text": [
      "\u001b[32m[I 2023-05-27 14:50:59,257]\u001b[0m Trial 156 finished with value: 235.61864752824786 and parameters: {'num_leaves': 143, 'min_data_in_leaf': 10, 'max_bin': 368, 'bagging_fraction': 0.9154857420054286, 'feature_fraction': 0.522413445259488, 'min_gain_to_split': 0.02593158561594079, 'lambda_l1': 0.20917402447414538, 'lambda_l2': 0.4632558936293684}. Best is trial 126 with value: 234.31528099473687.\u001b[0m\n"
     ]
    },
    {
     "name": "stdout",
     "output_type": "stream",
     "text": [
      "\n",
      "Training until validation scores don't improve for 100 rounds\n",
      "[500]\ttrain's l1: 225.005\tvalid's l1: 241.741\n",
      "[1000]\ttrain's l1: 200.891\tvalid's l1: 238.809\n",
      "[1500]\ttrain's l1: 176.446\tvalid's l1: 237.567\n",
      "Early stopping, best iteration is:\n",
      "[1844]\ttrain's l1: 167.619\tvalid's l1: 236.885\n"
     ]
    },
    {
     "name": "stderr",
     "output_type": "stream",
     "text": [
      "\u001b[32m[I 2023-05-27 14:51:25,588]\u001b[0m Trial 157 finished with value: 236.884707527901 and parameters: {'num_leaves': 88, 'min_data_in_leaf': 7, 'max_bin': 345, 'bagging_fraction': 0.9356538537957383, 'feature_fraction': 0.5329716683785907, 'min_gain_to_split': 0.02129401853853333, 'lambda_l1': 0.15130740414243346, 'lambda_l2': 0.2258150185179562}. Best is trial 126 with value: 234.31528099473687.\u001b[0m\n"
     ]
    },
    {
     "name": "stdout",
     "output_type": "stream",
     "text": [
      "\n",
      "Training until validation scores don't improve for 100 rounds\n",
      "[500]\ttrain's l1: 213.41\tvalid's l1: 240.611\n",
      "[1000]\ttrain's l1: 176.419\tvalid's l1: 236.949\n",
      "[1500]\ttrain's l1: 156.453\tvalid's l1: 235.667\n",
      "[2000]\ttrain's l1: 146.284\tvalid's l1: 235.333\n",
      "Early stopping, best iteration is:\n",
      "[2339]\ttrain's l1: 139.846\tvalid's l1: 235.117\n"
     ]
    },
    {
     "name": "stderr",
     "output_type": "stream",
     "text": [
      "\u001b[32m[I 2023-05-27 14:52:05,422]\u001b[0m Trial 158 finished with value: 235.11671827232422 and parameters: {'num_leaves': 128, 'min_data_in_leaf': 8, 'max_bin': 373, 'bagging_fraction': 0.9066607679774046, 'feature_fraction': 0.48816415789959067, 'min_gain_to_split': 0.017055205533191845, 'lambda_l1': 0.12145019772899988, 'lambda_l2': 0.5944265909906549}. Best is trial 126 with value: 234.31528099473687.\u001b[0m\n"
     ]
    },
    {
     "name": "stdout",
     "output_type": "stream",
     "text": [
      "\n",
      "Training until validation scores don't improve for 100 rounds\n",
      "[500]\ttrain's l1: 211.36\tvalid's l1: 239.49\n",
      "[1000]\ttrain's l1: 171.727\tvalid's l1: 236.109\n",
      "[1500]\ttrain's l1: 156.032\tvalid's l1: 235.432\n",
      "[2000]\ttrain's l1: 143.717\tvalid's l1: 234.928\n",
      "Early stopping, best iteration is:\n",
      "[2379]\ttrain's l1: 136.548\tvalid's l1: 234.767\n"
     ]
    },
    {
     "name": "stderr",
     "output_type": "stream",
     "text": [
      "\u001b[32m[I 2023-05-27 14:52:49,720]\u001b[0m Trial 159 finished with value: 234.7665796581116 and parameters: {'num_leaves': 137, 'min_data_in_leaf': 6, 'max_bin': 395, 'bagging_fraction': 0.9307869495354698, 'feature_fraction': 0.49604330809891684, 'min_gain_to_split': 0.013243544006830765, 'lambda_l1': 0.09214679490015242, 'lambda_l2': 0.5419745286827817}. Best is trial 126 with value: 234.31528099473687.\u001b[0m\n"
     ]
    },
    {
     "name": "stdout",
     "output_type": "stream",
     "text": [
      "\n",
      "Training until validation scores don't improve for 100 rounds\n",
      "[500]\ttrain's l1: 210.641\tvalid's l1: 240.634\n",
      "[1000]\ttrain's l1: 174.967\tvalid's l1: 237.069\n",
      "[1500]\ttrain's l1: 159.805\tvalid's l1: 236.036\n",
      "[2000]\ttrain's l1: 149.056\tvalid's l1: 235.748\n",
      "Early stopping, best iteration is:\n",
      "[2221]\ttrain's l1: 146.438\tvalid's l1: 235.669\n"
     ]
    },
    {
     "name": "stderr",
     "output_type": "stream",
     "text": [
      "\u001b[32m[I 2023-05-27 14:53:28,527]\u001b[0m Trial 160 finished with value: 235.6692237103764 and parameters: {'num_leaves': 140, 'min_data_in_leaf': 15, 'max_bin': 394, 'bagging_fraction': 0.9313105580059411, 'feature_fraction': 0.49790105387921896, 'min_gain_to_split': 0.012950834629266727, 'lambda_l1': 0.16277762691450326, 'lambda_l2': 0.528620032012783}. Best is trial 126 with value: 234.31528099473687.\u001b[0m\n"
     ]
    },
    {
     "name": "stdout",
     "output_type": "stream",
     "text": [
      "\n",
      "Training until validation scores don't improve for 100 rounds\n",
      "[500]\ttrain's l1: 210.948\tvalid's l1: 240.243\n",
      "[1000]\ttrain's l1: 181.548\tvalid's l1: 237.065\n",
      "[1500]\ttrain's l1: 158.12\tvalid's l1: 235.524\n",
      "[2000]\ttrain's l1: 144.761\tvalid's l1: 235.044\n",
      "Early stopping, best iteration is:\n",
      "[2120]\ttrain's l1: 142.312\tvalid's l1: 234.978\n"
     ]
    },
    {
     "name": "stderr",
     "output_type": "stream",
     "text": [
      "\u001b[32m[I 2023-05-27 14:54:07,467]\u001b[0m Trial 161 finished with value: 234.97758247853835 and parameters: {'num_leaves': 135, 'min_data_in_leaf': 6, 'max_bin': 386, 'bagging_fraction': 0.9192469222868266, 'feature_fraction': 0.5024090568403093, 'min_gain_to_split': 0.015782325977123077, 'lambda_l1': 0.09388239546681033, 'lambda_l2': 0.6999744058185422}. Best is trial 126 with value: 234.31528099473687.\u001b[0m\n"
     ]
    },
    {
     "name": "stdout",
     "output_type": "stream",
     "text": [
      "\n",
      "Training until validation scores don't improve for 100 rounds\n",
      "[500]\ttrain's l1: 211.176\tvalid's l1: 240.3\n",
      "[1000]\ttrain's l1: 172.412\tvalid's l1: 237.009\n",
      "[1500]\ttrain's l1: 154.418\tvalid's l1: 236.135\n",
      "Early stopping, best iteration is:\n",
      "[1481]\ttrain's l1: 154.942\tvalid's l1: 236.12\n"
     ]
    },
    {
     "name": "stderr",
     "output_type": "stream",
     "text": [
      "\u001b[32m[I 2023-05-27 14:54:35,856]\u001b[0m Trial 162 finished with value: 236.11984730706382 and parameters: {'num_leaves': 134, 'min_data_in_leaf': 5, 'max_bin': 386, 'bagging_fraction': 0.928206149006828, 'feature_fraction': 0.5026432170957116, 'min_gain_to_split': 0.01566361485174779, 'lambda_l1': 0.09573087335456296, 'lambda_l2': 0.7875147987982278}. Best is trial 126 with value: 234.31528099473687.\u001b[0m\n"
     ]
    },
    {
     "name": "stdout",
     "output_type": "stream",
     "text": [
      "\n",
      "Training until validation scores don't improve for 100 rounds\n",
      "[500]\ttrain's l1: 210.521\tvalid's l1: 240.495\n",
      "[1000]\ttrain's l1: 173.776\tvalid's l1: 236.96\n",
      "Early stopping, best iteration is:\n",
      "[1118]\ttrain's l1: 169.749\tvalid's l1: 236.73\n"
     ]
    },
    {
     "name": "stderr",
     "output_type": "stream",
     "text": [
      "\u001b[32m[I 2023-05-27 14:54:58,372]\u001b[0m Trial 163 finished with value: 236.7296234523758 and parameters: {'num_leaves': 137, 'min_data_in_leaf': 7, 'max_bin': 391, 'bagging_fraction': 0.922111800707762, 'feature_fraction': 0.4940932588405077, 'min_gain_to_split': 0.011352702129277734, 'lambda_l1': 0.1033045289533138, 'lambda_l2': 0.7062262963927914}. Best is trial 126 with value: 234.31528099473687.\u001b[0m\n"
     ]
    },
    {
     "name": "stdout",
     "output_type": "stream",
     "text": [
      "\n",
      "Training until validation scores don't improve for 100 rounds\n",
      "[500]\ttrain's l1: 207.481\tvalid's l1: 240.621\n",
      "[1000]\ttrain's l1: 168.807\tvalid's l1: 236.947\n",
      "[1500]\ttrain's l1: 149.404\tvalid's l1: 235.905\n",
      "[2000]\ttrain's l1: 138.416\tvalid's l1: 235.498\n",
      "[2500]\ttrain's l1: 131.702\tvalid's l1: 235.107\n",
      "Early stopping, best iteration is:\n",
      "[2869]\ttrain's l1: 126.519\tvalid's l1: 234.943\n"
     ]
    },
    {
     "name": "stderr",
     "output_type": "stream",
     "text": [
      "\u001b[32m[I 2023-05-27 14:55:52,111]\u001b[0m Trial 164 finished with value: 234.9434418606933 and parameters: {'num_leaves': 145, 'min_data_in_leaf': 6, 'max_bin': 395, 'bagging_fraction': 0.9259133305036867, 'feature_fraction': 0.4866528948816523, 'min_gain_to_split': 0.0124770885382549, 'lambda_l1': 0.11686941057000942, 'lambda_l2': 0.5832978169014995}. Best is trial 126 with value: 234.31528099473687.\u001b[0m\n"
     ]
    },
    {
     "name": "stdout",
     "output_type": "stream",
     "text": [
      "\n",
      "Training until validation scores don't improve for 100 rounds\n",
      "[500]\ttrain's l1: 208.092\tvalid's l1: 240.518\n",
      "[1000]\ttrain's l1: 170.426\tvalid's l1: 237.26\n",
      "[1500]\ttrain's l1: 152.312\tvalid's l1: 236.291\n",
      "Early stopping, best iteration is:\n",
      "[1807]\ttrain's l1: 143.479\tvalid's l1: 236.135\n"
     ]
    },
    {
     "name": "stderr",
     "output_type": "stream",
     "text": [
      "\u001b[32m[I 2023-05-27 14:56:28,280]\u001b[0m Trial 165 finished with value: 236.13476107928523 and parameters: {'num_leaves': 148, 'min_data_in_leaf': 6, 'max_bin': 398, 'bagging_fraction': 0.9321289768591907, 'feature_fraction': 0.4735016082738555, 'min_gain_to_split': 0.01293363469633302, 'lambda_l1': 0.11783455100903796, 'lambda_l2': 0.8793141893882548}. Best is trial 126 with value: 234.31528099473687.\u001b[0m\n"
     ]
    },
    {
     "name": "stdout",
     "output_type": "stream",
     "text": [
      "\n",
      "Training until validation scores don't improve for 100 rounds\n",
      "[500]\ttrain's l1: 209.569\tvalid's l1: 240.043\n",
      "[1000]\ttrain's l1: 169.6\tvalid's l1: 236.185\n",
      "[1500]\ttrain's l1: 152.857\tvalid's l1: 235.432\n",
      "[2000]\ttrain's l1: 142.972\tvalid's l1: 234.935\n",
      "Early stopping, best iteration is:\n",
      "[2298]\ttrain's l1: 136.967\tvalid's l1: 234.787\n"
     ]
    },
    {
     "name": "stderr",
     "output_type": "stream",
     "text": [
      "\u001b[32m[I 2023-05-27 14:57:12,371]\u001b[0m Trial 166 finished with value: 234.78670292176471 and parameters: {'num_leaves': 143, 'min_data_in_leaf': 6, 'max_bin': 396, 'bagging_fraction': 0.9140231086846925, 'feature_fraction': 0.48598356637778656, 'min_gain_to_split': 0.014724732539526449, 'lambda_l1': 0.11158117427210808, 'lambda_l2': 0.39835534516715243}. Best is trial 126 with value: 234.31528099473687.\u001b[0m\n"
     ]
    },
    {
     "name": "stdout",
     "output_type": "stream",
     "text": [
      "\n",
      "Training until validation scores don't improve for 100 rounds\n",
      "[500]\ttrain's l1: 210.06\tvalid's l1: 239.961\n",
      "[1000]\ttrain's l1: 171.138\tvalid's l1: 237.158\n",
      "[1500]\ttrain's l1: 154.42\tvalid's l1: 236.096\n",
      "[2000]\ttrain's l1: 145.115\tvalid's l1: 235.808\n",
      "[2500]\ttrain's l1: 136.037\tvalid's l1: 235.353\n",
      "[3000]\ttrain's l1: 128.291\tvalid's l1: 235.15\n",
      "Early stopping, best iteration is:\n",
      "[2974]\ttrain's l1: 128.723\tvalid's l1: 235.11\n"
     ]
    },
    {
     "name": "stderr",
     "output_type": "stream",
     "text": [
      "\u001b[32m[I 2023-05-27 14:58:06,986]\u001b[0m Trial 167 finished with value: 235.11020929725106 and parameters: {'num_leaves': 141, 'min_data_in_leaf': 6, 'max_bin': 398, 'bagging_fraction': 0.9132524136314334, 'feature_fraction': 0.48911994039750983, 'min_gain_to_split': 0.010216100548077428, 'lambda_l1': 0.08577514001408437, 'lambda_l2': 0.42577997056487316}. Best is trial 126 with value: 234.31528099473687.\u001b[0m\n"
     ]
    },
    {
     "name": "stdout",
     "output_type": "stream",
     "text": [
      "\n",
      "Training until validation scores don't improve for 100 rounds\n",
      "[500]\ttrain's l1: 208.543\tvalid's l1: 240.028\n",
      "[1000]\ttrain's l1: 168.355\tvalid's l1: 236.398\n",
      "[1500]\ttrain's l1: 150.711\tvalid's l1: 235.245\n",
      "Early stopping, best iteration is:\n",
      "[1859]\ttrain's l1: 141.377\tvalid's l1: 234.998\n"
     ]
    },
    {
     "name": "stderr",
     "output_type": "stream",
     "text": [
      "\u001b[32m[I 2023-05-27 14:58:43,827]\u001b[0m Trial 168 finished with value: 234.99760268915085 and parameters: {'num_leaves': 145, 'min_data_in_leaf': 5, 'max_bin': 395, 'bagging_fraction': 0.9040023644404448, 'feature_fraction': 0.48774388154296067, 'min_gain_to_split': 0.01437372019653684, 'lambda_l1': 0.10728002691860915, 'lambda_l2': 0.3860975554351688}. Best is trial 126 with value: 234.31528099473687.\u001b[0m\n"
     ]
    },
    {
     "name": "stdout",
     "output_type": "stream",
     "text": [
      "\n",
      "Training until validation scores don't improve for 100 rounds\n",
      "[500]\ttrain's l1: 208.73\tvalid's l1: 240.335\n",
      "[1000]\ttrain's l1: 169.605\tvalid's l1: 236.872\n",
      "[1500]\ttrain's l1: 154.412\tvalid's l1: 235.897\n",
      "Early stopping, best iteration is:\n",
      "[1650]\ttrain's l1: 150.389\tvalid's l1: 235.68\n"
     ]
    },
    {
     "name": "stderr",
     "output_type": "stream",
     "text": [
      "\u001b[32m[I 2023-05-27 14:59:15,981]\u001b[0m Trial 169 finished with value: 235.67961049034665 and parameters: {'num_leaves': 142, 'min_data_in_leaf': 6, 'max_bin': 386, 'bagging_fraction': 0.9096339284822409, 'feature_fraction': 0.48580650613175524, 'min_gain_to_split': 0.012092860523963569, 'lambda_l1': 0.09330094022974067, 'lambda_l2': 0.2985975629454291}. Best is trial 126 with value: 234.31528099473687.\u001b[0m\n"
     ]
    },
    {
     "name": "stdout",
     "output_type": "stream",
     "text": [
      "\n",
      "Training until validation scores don't improve for 100 rounds\n",
      "[500]\ttrain's l1: 206.122\tvalid's l1: 240.348\n",
      "[1000]\ttrain's l1: 167.097\tvalid's l1: 237.227\n",
      "[1500]\ttrain's l1: 148.971\tvalid's l1: 236.316\n",
      "[2000]\ttrain's l1: 137.51\tvalid's l1: 236.024\n",
      "Early stopping, best iteration is:\n",
      "[2082]\ttrain's l1: 135.872\tvalid's l1: 235.938\n"
     ]
    },
    {
     "name": "stderr",
     "output_type": "stream",
     "text": [
      "\u001b[32m[I 2023-05-27 14:59:56,571]\u001b[0m Trial 170 finished with value: 235.93800289392675 and parameters: {'num_leaves': 150, 'min_data_in_leaf': 5, 'max_bin': 390, 'bagging_fraction': 0.9149841075571766, 'feature_fraction': 0.47912171540926146, 'min_gain_to_split': 0.012644873571500912, 'lambda_l1': 0.1169558690937859, 'lambda_l2': 0.5060636025492122}. Best is trial 126 with value: 234.31528099473687.\u001b[0m\n"
     ]
    },
    {
     "name": "stdout",
     "output_type": "stream",
     "text": [
      "\n",
      "Training until validation scores don't improve for 100 rounds\n",
      "[500]\ttrain's l1: 209.063\tvalid's l1: 239.959\n",
      "[1000]\ttrain's l1: 169.299\tvalid's l1: 236.211\n",
      "[1500]\ttrain's l1: 150.866\tvalid's l1: 235.241\n",
      "[2000]\ttrain's l1: 140.158\tvalid's l1: 234.779\n",
      "[2500]\ttrain's l1: 132.002\tvalid's l1: 234.597\n",
      "Early stopping, best iteration is:\n",
      "[2406]\ttrain's l1: 133.345\tvalid's l1: 234.564\n"
     ]
    },
    {
     "name": "stderr",
     "output_type": "stream",
     "text": [
      "\u001b[32m[I 2023-05-27 15:00:42,286]\u001b[0m Trial 171 finished with value: 234.56379789977896 and parameters: {'num_leaves': 144, 'min_data_in_leaf': 6, 'max_bin': 396, 'bagging_fraction': 0.8962227684800297, 'feature_fraction': 0.473540188575119, 'min_gain_to_split': 0.014567261652206178, 'lambda_l1': 0.10432710272459055, 'lambda_l2': 0.3813482339325881}. Best is trial 126 with value: 234.31528099473687.\u001b[0m\n"
     ]
    },
    {
     "name": "stdout",
     "output_type": "stream",
     "text": [
      "\n",
      "Training until validation scores don't improve for 100 rounds\n",
      "[500]\ttrain's l1: 209.076\tvalid's l1: 240.692\n",
      "[1000]\ttrain's l1: 169.981\tvalid's l1: 237.469\n",
      "[1500]\ttrain's l1: 152.538\tvalid's l1: 236.302\n",
      "[2000]\ttrain's l1: 142.119\tvalid's l1: 235.852\n",
      "[2500]\ttrain's l1: 133.607\tvalid's l1: 235.517\n",
      "Early stopping, best iteration is:\n",
      "[2519]\ttrain's l1: 133.281\tvalid's l1: 235.498\n"
     ]
    },
    {
     "name": "stderr",
     "output_type": "stream",
     "text": [
      "\u001b[32m[I 2023-05-27 15:01:28,373]\u001b[0m Trial 172 finished with value: 235.49840751128235 and parameters: {'num_leaves': 144, 'min_data_in_leaf': 6, 'max_bin': 392, 'bagging_fraction': 0.8968245474754863, 'feature_fraction': 0.4841779624972808, 'min_gain_to_split': 0.01545070556270015, 'lambda_l1': 0.10322536897163152, 'lambda_l2': 0.4039069929761203}. Best is trial 126 with value: 234.31528099473687.\u001b[0m\n"
     ]
    },
    {
     "name": "stdout",
     "output_type": "stream",
     "text": [
      "\n",
      "Training until validation scores don't improve for 100 rounds\n",
      "[500]\ttrain's l1: 209.182\tvalid's l1: 240.712\n",
      "[1000]\ttrain's l1: 172.02\tvalid's l1: 237.073\n",
      "[1500]\ttrain's l1: 154.645\tvalid's l1: 236.042\n",
      "[2000]\ttrain's l1: 140.842\tvalid's l1: 235.617\n",
      "Early stopping, best iteration is:\n",
      "[1984]\ttrain's l1: 141.189\tvalid's l1: 235.558\n"
     ]
    },
    {
     "name": "stderr",
     "output_type": "stream",
     "text": [
      "\u001b[32m[I 2023-05-27 15:02:05,359]\u001b[0m Trial 173 finished with value: 235.55788635508745 and parameters: {'num_leaves': 139, 'min_data_in_leaf': 7, 'max_bin': 397, 'bagging_fraction': 0.9008778919416097, 'feature_fraction': 0.4744091196387119, 'min_gain_to_split': 0.013629215728922475, 'lambda_l1': 0.08986819885369488, 'lambda_l2': 0.47580083757564284}. Best is trial 126 with value: 234.31528099473687.\u001b[0m\n"
     ]
    },
    {
     "name": "stdout",
     "output_type": "stream",
     "text": [
      "\n",
      "Training until validation scores don't improve for 100 rounds\n",
      "[500]\ttrain's l1: 208.822\tvalid's l1: 240.556\n",
      "[1000]\ttrain's l1: 169.144\tvalid's l1: 236.946\n",
      "[1500]\ttrain's l1: 148.839\tvalid's l1: 236.228\n",
      "[2000]\ttrain's l1: 136.466\tvalid's l1: 235.803\n",
      "Early stopping, best iteration is:\n",
      "[2047]\ttrain's l1: 135.298\tvalid's l1: 235.747\n"
     ]
    },
    {
     "name": "stderr",
     "output_type": "stream",
     "text": [
      "\u001b[32m[I 2023-05-27 15:02:45,025]\u001b[0m Trial 174 finished with value: 235.74662228459562 and parameters: {'num_leaves': 147, 'min_data_in_leaf': 5, 'max_bin': 386, 'bagging_fraction': 0.9043387402199995, 'feature_fraction': 0.49541772256555716, 'min_gain_to_split': 0.01124721142426725, 'lambda_l1': 0.08295700814550322, 'lambda_l2': 0.34000881897753527}. Best is trial 126 with value: 234.31528099473687.\u001b[0m\n"
     ]
    },
    {
     "name": "stdout",
     "output_type": "stream",
     "text": [
      "\n",
      "Training until validation scores don't improve for 100 rounds\n",
      "[500]\ttrain's l1: 211.779\tvalid's l1: 240.2\n",
      "[1000]\ttrain's l1: 172.821\tvalid's l1: 236.647\n",
      "[1500]\ttrain's l1: 156.394\tvalid's l1: 235.776\n",
      "[2000]\ttrain's l1: 144.366\tvalid's l1: 235.212\n",
      "Early stopping, best iteration is:\n",
      "[2101]\ttrain's l1: 142.28\tvalid's l1: 235.153\n"
     ]
    },
    {
     "name": "stderr",
     "output_type": "stream",
     "text": [
      "\u001b[32m[I 2023-05-27 15:03:23,334]\u001b[0m Trial 175 finished with value: 235.15287205111764 and parameters: {'num_leaves': 135, 'min_data_in_leaf': 6, 'max_bin': 381, 'bagging_fraction': 0.9060121376972345, 'feature_fraction': 0.4697600194147344, 'min_gain_to_split': 0.017478026095170945, 'lambda_l1': 0.11374099939393448, 'lambda_l2': 0.45158784932221485}. Best is trial 126 with value: 234.31528099473687.\u001b[0m\n"
     ]
    },
    {
     "name": "stdout",
     "output_type": "stream",
     "text": [
      "\n",
      "Training until validation scores don't improve for 100 rounds\n",
      "[500]\ttrain's l1: 212.493\tvalid's l1: 240.848\n",
      "[1000]\ttrain's l1: 177.155\tvalid's l1: 237.242\n",
      "[1500]\ttrain's l1: 156.77\tvalid's l1: 236.026\n",
      "Early stopping, best iteration is:\n",
      "[1751]\ttrain's l1: 149.87\tvalid's l1: 235.664\n"
     ]
    },
    {
     "name": "stderr",
     "output_type": "stream",
     "text": [
      "\u001b[32m[I 2023-05-27 15:03:55,354]\u001b[0m Trial 176 finished with value: 235.6638811573168 and parameters: {'num_leaves': 132, 'min_data_in_leaf': 7, 'max_bin': 388, 'bagging_fraction': 0.9011804056856967, 'feature_fraction': 0.481566952606078, 'min_gain_to_split': 0.014408752465286763, 'lambda_l1': 0.12692295418955693, 'lambda_l2': 0.5423758938726894}. Best is trial 126 with value: 234.31528099473687.\u001b[0m\n"
     ]
    },
    {
     "name": "stdout",
     "output_type": "stream",
     "text": [
      "\n",
      "Training until validation scores don't improve for 100 rounds\n",
      "[500]\ttrain's l1: 209.981\tvalid's l1: 240.279\n",
      "[1000]\ttrain's l1: 174.513\tvalid's l1: 236.996\n",
      "[1500]\ttrain's l1: 155.749\tvalid's l1: 236.254\n",
      "[2000]\ttrain's l1: 143.958\tvalid's l1: 235.911\n",
      "[2500]\ttrain's l1: 134.697\tvalid's l1: 235.492\n",
      "Early stopping, best iteration is:\n",
      "[2749]\ttrain's l1: 130.596\tvalid's l1: 235.272\n"
     ]
    },
    {
     "name": "stderr",
     "output_type": "stream",
     "text": [
      "\u001b[32m[I 2023-05-27 15:04:47,271]\u001b[0m Trial 177 finished with value: 235.2723154960424 and parameters: {'num_leaves': 138, 'min_data_in_leaf': 6, 'max_bin': 400, 'bagging_fraction': 0.9194233002959246, 'feature_fraction': 0.517199209792949, 'min_gain_to_split': 0.016299329490027235, 'lambda_l1': 0.09820563038382986, 'lambda_l2': 0.37635065571881765}. Best is trial 126 with value: 234.31528099473687.\u001b[0m\n"
     ]
    },
    {
     "name": "stdout",
     "output_type": "stream",
     "text": [
      "\n",
      "Training until validation scores don't improve for 100 rounds\n",
      "[500]\ttrain's l1: 212.166\tvalid's l1: 240.743\n",
      "[1000]\ttrain's l1: 173.531\tvalid's l1: 237.166\n",
      "[1500]\ttrain's l1: 157.11\tvalid's l1: 236.407\n",
      "[2000]\ttrain's l1: 146.009\tvalid's l1: 236.045\n",
      "Early stopping, best iteration is:\n",
      "[2045]\ttrain's l1: 145.301\tvalid's l1: 236.041\n"
     ]
    },
    {
     "name": "stderr",
     "output_type": "stream",
     "text": [
      "\u001b[32m[I 2023-05-27 15:05:22,687]\u001b[0m Trial 178 finished with value: 236.04084171986239 and parameters: {'num_leaves': 136, 'min_data_in_leaf': 5, 'max_bin': 297, 'bagging_fraction': 0.9118664515253151, 'feature_fraction': 0.49200248607407043, 'min_gain_to_split': 0.013333238347762521, 'lambda_l1': 0.07736770472640092, 'lambda_l2': 0.49113629959195476}. Best is trial 126 with value: 234.31528099473687.\u001b[0m\n"
     ]
    },
    {
     "name": "stdout",
     "output_type": "stream",
     "text": [
      "\n",
      "Training until validation scores don't improve for 100 rounds\n",
      "[500]\ttrain's l1: 206.674\tvalid's l1: 240.235\n",
      "[1000]\ttrain's l1: 167.731\tvalid's l1: 236.686\n",
      "[1500]\ttrain's l1: 149.942\tvalid's l1: 235.659\n",
      "[2000]\ttrain's l1: 138.062\tvalid's l1: 235.278\n",
      "Early stopping, best iteration is:\n",
      "[2105]\ttrain's l1: 136.094\tvalid's l1: 235.14\n"
     ]
    },
    {
     "name": "stderr",
     "output_type": "stream",
     "text": [
      "\u001b[32m[I 2023-05-27 15:06:04,757]\u001b[0m Trial 179 finished with value: 235.14005436133772 and parameters: {'num_leaves': 153, 'min_data_in_leaf': 7, 'max_bin': 393, 'bagging_fraction': 0.9075231181639478, 'feature_fraction': 0.47569883802158763, 'min_gain_to_split': 0.015022301915358973, 'lambda_l1': 0.18295276343236797, 'lambda_l2': 0.43588833317479386}. Best is trial 126 with value: 234.31528099473687.\u001b[0m\n"
     ]
    },
    {
     "name": "stdout",
     "output_type": "stream",
     "text": [
      "\n",
      "Training until validation scores don't improve for 100 rounds\n",
      "[500]\ttrain's l1: 209.185\tvalid's l1: 240.611\n",
      "[1000]\ttrain's l1: 173.632\tvalid's l1: 237.122\n",
      "[1500]\ttrain's l1: 155.019\tvalid's l1: 236.341\n",
      "[2000]\ttrain's l1: 143.103\tvalid's l1: 235.758\n",
      "Early stopping, best iteration is:\n",
      "[2367]\ttrain's l1: 136.412\tvalid's l1: 235.552\n"
     ]
    },
    {
     "name": "stderr",
     "output_type": "stream",
     "text": [
      "\u001b[32m[I 2023-05-27 15:06:46,038]\u001b[0m Trial 180 finished with value: 235.55216837926625 and parameters: {'num_leaves': 144, 'min_data_in_leaf': 8, 'max_bin': 383, 'bagging_fraction': 0.8886340623754844, 'feature_fraction': 0.46273688280571373, 'min_gain_to_split': 0.011819667047409214, 'lambda_l1': 0.13972901297388135, 'lambda_l2': 0.5652236886990557}. Best is trial 126 with value: 234.31528099473687.\u001b[0m\n"
     ]
    },
    {
     "name": "stdout",
     "output_type": "stream",
     "text": [
      "\n",
      "Training until validation scores don't improve for 100 rounds\n",
      "[500]\ttrain's l1: 209.087\tvalid's l1: 241.086\n",
      "[1000]\ttrain's l1: 169.92\tvalid's l1: 237.309\n",
      "[1500]\ttrain's l1: 152.679\tvalid's l1: 236.329\n",
      "Early stopping, best iteration is:\n",
      "[1581]\ttrain's l1: 149.987\tvalid's l1: 236.27\n"
     ]
    },
    {
     "name": "stderr",
     "output_type": "stream",
     "text": [
      "\u001b[32m[I 2023-05-27 15:07:16,029]\u001b[0m Trial 181 finished with value: 236.2704919659919 and parameters: {'num_leaves': 144, 'min_data_in_leaf': 5, 'max_bin': 394, 'bagging_fraction': 0.8968080432834731, 'feature_fraction': 0.48048157655795004, 'min_gain_to_split': 0.014257607344192201, 'lambda_l1': 0.10921965206651452, 'lambda_l2': 0.37903929251746427}. Best is trial 126 with value: 234.31528099473687.\u001b[0m\n"
     ]
    },
    {
     "name": "stdout",
     "output_type": "stream",
     "text": [
      "\n",
      "Training until validation scores don't improve for 100 rounds\n",
      "[500]\ttrain's l1: 206.997\tvalid's l1: 240.059\n",
      "[1000]\ttrain's l1: 165.984\tvalid's l1: 236.939\n",
      "[1500]\ttrain's l1: 148.961\tvalid's l1: 236.164\n",
      "Early stopping, best iteration is:\n",
      "[1781]\ttrain's l1: 141.993\tvalid's l1: 235.984\n"
     ]
    },
    {
     "name": "stderr",
     "output_type": "stream",
     "text": [
      "\u001b[32m[I 2023-05-27 15:07:51,950]\u001b[0m Trial 182 finished with value: 235.98397452719695 and parameters: {'num_leaves': 150, 'min_data_in_leaf': 4, 'max_bin': 378, 'bagging_fraction': 0.9039266260492024, 'feature_fraction': 0.498488108404746, 'min_gain_to_split': 0.01823712940261984, 'lambda_l1': 0.10678178283850732, 'lambda_l2': 0.39257541051358796}. Best is trial 126 with value: 234.31528099473687.\u001b[0m\n"
     ]
    },
    {
     "name": "stdout",
     "output_type": "stream",
     "text": [
      "\n",
      "Training until validation scores don't improve for 100 rounds\n",
      "[500]\ttrain's l1: 208.896\tvalid's l1: 240.764\n",
      "[1000]\ttrain's l1: 170.659\tvalid's l1: 237.81\n",
      "[1500]\ttrain's l1: 152.31\tvalid's l1: 236.885\n",
      "[2000]\ttrain's l1: 139.84\tvalid's l1: 236.366\n",
      "[2500]\ttrain's l1: 131.461\tvalid's l1: 236.012\n",
      "Early stopping, best iteration is:\n",
      "[2567]\ttrain's l1: 130.545\tvalid's l1: 235.981\n"
     ]
    },
    {
     "name": "stderr",
     "output_type": "stream",
     "text": [
      "\u001b[32m[I 2023-05-27 15:08:37,028]\u001b[0m Trial 183 finished with value: 235.98057434648643 and parameters: {'num_leaves': 147, 'min_data_in_leaf': 6, 'max_bin': 289, 'bagging_fraction': 0.9007712160253729, 'feature_fraction': 0.48333135265224997, 'min_gain_to_split': 0.01620567683480643, 'lambda_l1': 0.09987921436796471, 'lambda_l2': 0.16391963910512802}. Best is trial 126 with value: 234.31528099473687.\u001b[0m\n"
     ]
    },
    {
     "name": "stdout",
     "output_type": "stream",
     "text": [
      "\n",
      "Training until validation scores don't improve for 100 rounds\n",
      "[500]\ttrain's l1: 209.33\tvalid's l1: 240.807\n",
      "[1000]\ttrain's l1: 175.218\tvalid's l1: 237.34\n",
      "[1500]\ttrain's l1: 157.228\tvalid's l1: 236.33\n",
      "Early stopping, best iteration is:\n",
      "[1747]\ttrain's l1: 151.412\tvalid's l1: 236.118\n"
     ]
    },
    {
     "name": "stderr",
     "output_type": "stream",
     "text": [
      "\u001b[32m[I 2023-05-27 15:09:08,892]\u001b[0m Trial 184 finished with value: 236.11762834927828 and parameters: {'num_leaves': 141, 'min_data_in_leaf': 7, 'max_bin': 396, 'bagging_fraction': 0.9030612537769395, 'feature_fraction': 0.4897410723909457, 'min_gain_to_split': 0.010604774823776973, 'lambda_l1': 0.12369691657636755, 'lambda_l2': 0.10495512964448095}. Best is trial 126 with value: 234.31528099473687.\u001b[0m\n"
     ]
    },
    {
     "name": "stdout",
     "output_type": "stream",
     "text": [
      "\n",
      "Training until validation scores don't improve for 100 rounds\n",
      "[500]\ttrain's l1: 212.972\tvalid's l1: 240.801\n",
      "[1000]\ttrain's l1: 174.09\tvalid's l1: 236.486\n",
      "[1500]\ttrain's l1: 159.469\tvalid's l1: 235.729\n",
      "[2000]\ttrain's l1: 147.345\tvalid's l1: 235.225\n",
      "Early stopping, best iteration is:\n",
      "[2058]\ttrain's l1: 146.162\tvalid's l1: 235.199\n"
     ]
    },
    {
     "name": "stderr",
     "output_type": "stream",
     "text": [
      "\u001b[32m[I 2023-05-27 15:09:45,296]\u001b[0m Trial 185 finished with value: 235.19891766014567 and parameters: {'num_leaves': 132, 'min_data_in_leaf': 5, 'max_bin': 310, 'bagging_fraction': 0.9104872626791762, 'feature_fraction': 0.5099970272303747, 'min_gain_to_split': 0.01232324465216323, 'lambda_l1': 0.11419217313440787, 'lambda_l2': 0.34322136111932283}. Best is trial 126 with value: 234.31528099473687.\u001b[0m\n"
     ]
    },
    {
     "name": "stdout",
     "output_type": "stream",
     "text": [
      "\n",
      "Training until validation scores don't improve for 100 rounds\n",
      "[500]\ttrain's l1: 214.452\tvalid's l1: 241.112\n",
      "[1000]\ttrain's l1: 177.942\tvalid's l1: 237.41\n",
      "[1500]\ttrain's l1: 158.488\tvalid's l1: 236.141\n",
      "[2000]\ttrain's l1: 147.022\tvalid's l1: 235.676\n",
      "[2500]\ttrain's l1: 138.327\tvalid's l1: 235.521\n",
      "[3000]\ttrain's l1: 132.301\tvalid's l1: 235.239\n",
      "Early stopping, best iteration is:\n",
      "[2988]\ttrain's l1: 132.42\tvalid's l1: 235.23\n"
     ]
    },
    {
     "name": "stderr",
     "output_type": "stream",
     "text": [
      "\u001b[32m[I 2023-05-27 15:10:37,069]\u001b[0m Trial 186 finished with value: 235.23044945632324 and parameters: {'num_leaves': 122, 'min_data_in_leaf': 6, 'max_bin': 394, 'bagging_fraction': 0.9158342559036338, 'feature_fraction': 0.5222659093937684, 'min_gain_to_split': 0.013329607049699767, 'lambda_l1': 0.09000125106589038, 'lambda_l2': 0.4124271947633905}. Best is trial 126 with value: 234.31528099473687.\u001b[0m\n"
     ]
    },
    {
     "name": "stdout",
     "output_type": "stream",
     "text": [
      "\n",
      "Training until validation scores don't improve for 100 rounds\n",
      "[500]\ttrain's l1: 210.055\tvalid's l1: 239.881\n",
      "[1000]\ttrain's l1: 172.917\tvalid's l1: 237.285\n",
      "Early stopping, best iteration is:\n",
      "[1388]\ttrain's l1: 159.75\tvalid's l1: 236.555\n"
     ]
    },
    {
     "name": "stderr",
     "output_type": "stream",
     "text": [
      "\u001b[32m[I 2023-05-27 15:11:05,086]\u001b[0m Trial 187 finished with value: 236.55473359699042 and parameters: {'num_leaves': 139, 'min_data_in_leaf': 8, 'max_bin': 388, 'bagging_fraction': 0.8959036527289266, 'feature_fraction': 0.5012864996876313, 'min_gain_to_split': 0.019195703627113574, 'lambda_l1': 0.15166016530996548, 'lambda_l2': 0.607197451199167}. Best is trial 126 with value: 234.31528099473687.\u001b[0m\n"
     ]
    },
    {
     "name": "stdout",
     "output_type": "stream",
     "text": [
      "\n",
      "Training until validation scores don't improve for 100 rounds\n",
      "[500]\ttrain's l1: 208.433\tvalid's l1: 240.343\n",
      "[1000]\ttrain's l1: 168.755\tvalid's l1: 236.958\n",
      "Early stopping, best iteration is:\n",
      "[1210]\ttrain's l1: 160.206\tvalid's l1: 236.433\n"
     ]
    },
    {
     "name": "stderr",
     "output_type": "stream",
     "text": [
      "\u001b[32m[I 2023-05-27 15:11:29,181]\u001b[0m Trial 188 finished with value: 236.4333148518179 and parameters: {'num_leaves': 144, 'min_data_in_leaf': 5, 'max_bin': 377, 'bagging_fraction': 0.8808810632634458, 'feature_fraction': 0.5145891090413207, 'min_gain_to_split': 0.014678657591428203, 'lambda_l1': 0.12930143609399156, 'lambda_l2': 0.46978924585182663}. Best is trial 126 with value: 234.31528099473687.\u001b[0m\n"
     ]
    },
    {
     "name": "stdout",
     "output_type": "stream",
     "text": [
      "\n",
      "Training until validation scores don't improve for 100 rounds\n",
      "[500]\ttrain's l1: 208.437\tvalid's l1: 240.276\n",
      "[1000]\ttrain's l1: 169.116\tvalid's l1: 237.216\n",
      "[1500]\ttrain's l1: 151.333\tvalid's l1: 236.422\n",
      "[2000]\ttrain's l1: 141.557\tvalid's l1: 235.984\n",
      "[2500]\ttrain's l1: 133.819\tvalid's l1: 235.714\n",
      "Early stopping, best iteration is:\n",
      "[2813]\ttrain's l1: 129.333\tvalid's l1: 235.581\n"
     ]
    },
    {
     "name": "stderr",
     "output_type": "stream",
     "text": [
      "\u001b[32m[I 2023-05-27 15:12:21,781]\u001b[0m Trial 189 finished with value: 235.58138983724086 and parameters: {'num_leaves': 146, 'min_data_in_leaf': 7, 'max_bin': 390, 'bagging_fraction': 0.9076305181604475, 'feature_fraction': 0.49328878349472066, 'min_gain_to_split': 0.010638795605564254, 'lambda_l1': 0.041547770916459704, 'lambda_l2': 0.3010861970496422}. Best is trial 126 with value: 234.31528099473687.\u001b[0m\n"
     ]
    },
    {
     "name": "stdout",
     "output_type": "stream",
     "text": [
      "\n",
      "Training until validation scores don't improve for 100 rounds\n",
      "[500]\ttrain's l1: 210.97\tvalid's l1: 240.178\n",
      "[1000]\ttrain's l1: 171.642\tvalid's l1: 236.991\n",
      "[1500]\ttrain's l1: 154.967\tvalid's l1: 236.228\n",
      "[2000]\ttrain's l1: 142.836\tvalid's l1: 235.801\n",
      "Early stopping, best iteration is:\n",
      "[2119]\ttrain's l1: 140.792\tvalid's l1: 235.677\n"
     ]
    },
    {
     "name": "stderr",
     "output_type": "stream",
     "text": [
      "\u001b[32m[I 2023-05-27 15:13:00,691]\u001b[0m Trial 190 finished with value: 235.6770437797036 and parameters: {'num_leaves': 135, 'min_data_in_leaf': 8, 'max_bin': 400, 'bagging_fraction': 0.924228133083343, 'feature_fraction': 0.5088447855096753, 'min_gain_to_split': 0.016553277323256867, 'lambda_l1': 0.22361969224238695, 'lambda_l2': 0.513920427755755}. Best is trial 126 with value: 234.31528099473687.\u001b[0m\n"
     ]
    },
    {
     "name": "stdout",
     "output_type": "stream",
     "text": [
      "\n",
      "Training until validation scores don't improve for 100 rounds\n",
      "[500]\ttrain's l1: 213.135\tvalid's l1: 241.108\n",
      "[1000]\ttrain's l1: 174.35\tvalid's l1: 237.051\n",
      "Early stopping, best iteration is:\n",
      "[1262]\ttrain's l1: 163.003\tvalid's l1: 236.341\n"
     ]
    },
    {
     "name": "stderr",
     "output_type": "stream",
     "text": [
      "\u001b[32m[I 2023-05-27 15:13:23,698]\u001b[0m Trial 191 finished with value: 236.3410181378794 and parameters: {'num_leaves': 127, 'min_data_in_leaf': 4, 'max_bin': 385, 'bagging_fraction': 0.9189098818461678, 'feature_fraction': 0.4885572646328358, 'min_gain_to_split': 0.017661601586988197, 'lambda_l1': 0.14406684599256117, 'lambda_l2': 0.6648106468318546}. Best is trial 126 with value: 234.31528099473687.\u001b[0m\n"
     ]
    },
    {
     "name": "stdout",
     "output_type": "stream",
     "text": [
      "\n",
      "Training until validation scores don't improve for 100 rounds\n",
      "[500]\ttrain's l1: 212.592\tvalid's l1: 239.91\n",
      "[1000]\ttrain's l1: 174.199\tvalid's l1: 236.544\n",
      "[1500]\ttrain's l1: 157.443\tvalid's l1: 235.663\n",
      "[2000]\ttrain's l1: 146.446\tvalid's l1: 235.421\n",
      "Early stopping, best iteration is:\n",
      "[1910]\ttrain's l1: 147.752\tvalid's l1: 235.37\n"
     ]
    },
    {
     "name": "stderr",
     "output_type": "stream",
     "text": [
      "\u001b[32m[I 2023-05-27 15:13:57,579]\u001b[0m Trial 192 finished with value: 235.36998723685952 and parameters: {'num_leaves': 130, 'min_data_in_leaf': 7, 'max_bin': 395, 'bagging_fraction': 0.9164715289455914, 'feature_fraction': 0.5033749589109908, 'min_gain_to_split': 0.014203025499527492, 'lambda_l1': 0.13489190835905135, 'lambda_l2': 0.7055689871062533}. Best is trial 126 with value: 234.31528099473687.\u001b[0m\n"
     ]
    },
    {
     "name": "stdout",
     "output_type": "stream",
     "text": [
      "\n",
      "Training until validation scores don't improve for 100 rounds\n",
      "[500]\ttrain's l1: 214.994\tvalid's l1: 240.272\n",
      "[1000]\ttrain's l1: 177.587\tvalid's l1: 236.629\n",
      "[1500]\ttrain's l1: 161.665\tvalid's l1: 235.454\n",
      "[2000]\ttrain's l1: 148.624\tvalid's l1: 235.018\n",
      "[2500]\ttrain's l1: 139.66\tvalid's l1: 234.436\n",
      "[3000]\ttrain's l1: 133.163\tvalid's l1: 234.357\n",
      "Early stopping, best iteration is:\n",
      "[2918]\ttrain's l1: 134.245\tvalid's l1: 234.307\n"
     ]
    },
    {
     "name": "stderr",
     "output_type": "stream",
     "text": [
      "\u001b[32m[I 2023-05-27 15:14:44,996]\u001b[0m Trial 193 finished with value: 234.30678073900222 and parameters: {'num_leaves': 122, 'min_data_in_leaf': 8, 'max_bin': 365, 'bagging_fraction': 0.9213182882380164, 'feature_fraction': 0.4980655277580941, 'min_gain_to_split': 0.012265096895607893, 'lambda_l1': 0.16090519318037727, 'lambda_l2': 0.5600789957105483}. Best is trial 193 with value: 234.30678073900222.\u001b[0m\n"
     ]
    },
    {
     "name": "stdout",
     "output_type": "stream",
     "text": [
      "\n",
      "Training until validation scores don't improve for 100 rounds\n",
      "[500]\ttrain's l1: 215.901\tvalid's l1: 240.907\n",
      "[1000]\ttrain's l1: 177.513\tvalid's l1: 237.396\n",
      "[1500]\ttrain's l1: 161.441\tvalid's l1: 236.309\n",
      "[2000]\ttrain's l1: 149.694\tvalid's l1: 235.653\n",
      "Early stopping, best iteration is:\n",
      "[2026]\ttrain's l1: 149.25\tvalid's l1: 235.63\n"
     ]
    },
    {
     "name": "stderr",
     "output_type": "stream",
     "text": [
      "\u001b[32m[I 2023-05-27 15:15:18,506]\u001b[0m Trial 194 finished with value: 235.63017601604705 and parameters: {'num_leaves': 119, 'min_data_in_leaf': 8, 'max_bin': 374, 'bagging_fraction': 0.9224454162869316, 'feature_fraction': 0.4972825311898521, 'min_gain_to_split': 0.011904767281777955, 'lambda_l1': 0.17274531155626843, 'lambda_l2': 0.5486757402096633}. Best is trial 193 with value: 234.30678073900222.\u001b[0m\n"
     ]
    },
    {
     "name": "stdout",
     "output_type": "stream",
     "text": [
      "\n",
      "Training until validation scores don't improve for 100 rounds\n",
      "[500]\ttrain's l1: 213.616\tvalid's l1: 240.23\n",
      "[1000]\ttrain's l1: 181.646\tvalid's l1: 237.383\n",
      "[1500]\ttrain's l1: 159.08\tvalid's l1: 235.955\n",
      "[2000]\ttrain's l1: 149.316\tvalid's l1: 235.703\n",
      "[2500]\ttrain's l1: 140.924\tvalid's l1: 235.517\n",
      "Early stopping, best iteration is:\n",
      "[2408]\ttrain's l1: 142.214\tvalid's l1: 235.512\n"
     ]
    },
    {
     "name": "stderr",
     "output_type": "stream",
     "text": [
      "\u001b[32m[I 2023-05-27 15:15:58,958]\u001b[0m Trial 195 finished with value: 235.5116996506125 and parameters: {'num_leaves': 122, 'min_data_in_leaf': 6, 'max_bin': 365, 'bagging_fraction': 0.9292922263903945, 'feature_fraction': 0.5294483506462806, 'min_gain_to_split': 0.01124511445846513, 'lambda_l1': 0.1607205410915235, 'lambda_l2': 0.6024975386040003}. Best is trial 193 with value: 234.30678073900222.\u001b[0m\n"
     ]
    },
    {
     "name": "stdout",
     "output_type": "stream",
     "text": [
      "\n",
      "Training until validation scores don't improve for 100 rounds\n",
      "[500]\ttrain's l1: 216.404\tvalid's l1: 240.994\n",
      "[1000]\ttrain's l1: 181.689\tvalid's l1: 237.315\n",
      "[1500]\ttrain's l1: 163.46\tvalid's l1: 236.334\n",
      "Early stopping, best iteration is:\n",
      "[1764]\ttrain's l1: 157.587\tvalid's l1: 235.953\n"
     ]
    },
    {
     "name": "stderr",
     "output_type": "stream",
     "text": [
      "\u001b[32m[I 2023-05-27 15:16:28,114]\u001b[0m Trial 196 finished with value: 235.95330273887066 and parameters: {'num_leaves': 116, 'min_data_in_leaf': 7, 'max_bin': 370, 'bagging_fraction': 0.9118891563526075, 'feature_fraction': 0.4840534478437207, 'min_gain_to_split': 0.010018607497710523, 'lambda_l1': 0.11102519042452533, 'lambda_l2': 0.4385362582498008}. Best is trial 193 with value: 234.30678073900222.\u001b[0m\n"
     ]
    },
    {
     "name": "stdout",
     "output_type": "stream",
     "text": [
      "\n",
      "Training until validation scores don't improve for 100 rounds\n",
      "[500]\ttrain's l1: 214.137\tvalid's l1: 240.677\n",
      "[1000]\ttrain's l1: 178.088\tvalid's l1: 237.114\n",
      "[1500]\ttrain's l1: 159.014\tvalid's l1: 236.024\n",
      "Early stopping, best iteration is:\n",
      "[1767]\ttrain's l1: 151.815\tvalid's l1: 235.785\n"
     ]
    },
    {
     "name": "stderr",
     "output_type": "stream",
     "text": [
      "\u001b[32m[I 2023-05-27 15:16:59,221]\u001b[0m Trial 197 finished with value: 235.78522251773134 and parameters: {'num_leaves': 125, 'min_data_in_leaf': 8, 'max_bin': 383, 'bagging_fraction': 0.9207517434939783, 'feature_fraction': 0.5165994489732738, 'min_gain_to_split': 0.012880666148786048, 'lambda_l1': 0.09873118596021105, 'lambda_l2': 0.49466881433659615}. Best is trial 193 with value: 234.30678073900222.\u001b[0m\n"
     ]
    },
    {
     "name": "stdout",
     "output_type": "stream",
     "text": [
      "\n",
      "Training until validation scores don't improve for 100 rounds\n",
      "[500]\ttrain's l1: 210.737\tvalid's l1: 240.414\n",
      "[1000]\ttrain's l1: 171.867\tvalid's l1: 237.063\n",
      "[1500]\ttrain's l1: 154.769\tvalid's l1: 236.198\n",
      "Early stopping, best iteration is:\n",
      "[1611]\ttrain's l1: 152.364\tvalid's l1: 236.078\n"
     ]
    },
    {
     "name": "stderr",
     "output_type": "stream",
     "text": [
      "\u001b[32m[I 2023-05-27 15:17:26,862]\u001b[0m Trial 198 finished with value: 236.07838897092924 and parameters: {'num_leaves': 141, 'min_data_in_leaf': 7, 'max_bin': 302, 'bagging_fraction': 0.9252548989483816, 'feature_fraction': 0.4749991854757097, 'min_gain_to_split': 0.015221003375386285, 'lambda_l1': 0.19464647809344163, 'lambda_l2': 0.37578398411620556}. Best is trial 193 with value: 234.30678073900222.\u001b[0m\n"
     ]
    },
    {
     "name": "stdout",
     "output_type": "stream",
     "text": [
      "\n",
      "Training until validation scores don't improve for 100 rounds\n",
      "[500]\ttrain's l1: 212.551\tvalid's l1: 239.932\n",
      "[1000]\ttrain's l1: 178.038\tvalid's l1: 236.222\n",
      "[1500]\ttrain's l1: 161.641\tvalid's l1: 235.398\n",
      "Early stopping, best iteration is:\n",
      "[1721]\ttrain's l1: 155.981\tvalid's l1: 235.132\n"
     ]
    },
    {
     "name": "stderr",
     "output_type": "stream",
     "text": [
      "\u001b[32m[I 2023-05-27 15:17:59,200]\u001b[0m Trial 199 finished with value: 235.13199198165518 and parameters: {'num_leaves': 132, 'min_data_in_leaf': 14, 'max_bin': 396, 'bagging_fraction': 0.9339353787108529, 'feature_fraction': 0.5063327206632194, 'min_gain_to_split': 0.01593624135698739, 'lambda_l1': 0.11948842448395215, 'lambda_l2': 0.5498961652435753}. Best is trial 193 with value: 234.30678073900222.\u001b[0m\n"
     ]
    },
    {
     "name": "stdout",
     "output_type": "stream",
     "text": [
      "\n"
     ]
    }
   ],
   "source": [
    "# ハイパーパラメータ最適化の実行\n",
    "import optuna\n",
    "study = optuna.create_study(sampler=optuna.samplers.TPESampler(seed=0), direction='minimize')\n",
    "study.optimize(objective, n_trials=200)"
   ]
  },
  {
   "cell_type": "code",
   "execution_count": null,
   "metadata": {
    "colab": {
     "base_uri": "https://localhost:8080/",
     "height": 197
    },
    "executionInfo": {
     "elapsed": 282,
     "status": "ok",
     "timestamp": 1685202676072,
     "user": {
      "displayName": "毛利拓也",
      "userId": "17854120745961292401"
     },
     "user_tz": -540
    },
    "id": "2lP8_7HKQApt",
    "outputId": "27f07a36-280e-4451-928e-b8a1fbc6c24c"
   },
   "outputs": [
    {
     "name": "stdout",
     "output_type": "stream",
     "text": [
      "trial 193\n",
      "MAE bset: 234.31\n"
     ]
    },
    {
     "data": {
      "text/plain": [
       "{'num_leaves': 122,\n",
       " 'min_data_in_leaf': 8,\n",
       " 'max_bin': 365,\n",
       " 'bagging_fraction': 0.9213182882380164,\n",
       " 'feature_fraction': 0.4980655277580941,\n",
       " 'min_gain_to_split': 0.012265096895607893,\n",
       " 'lambda_l1': 0.16090519318037727,\n",
       " 'lambda_l2': 0.5600789957105483}"
      ]
     },
     "metadata": {},
     "output_type": "display_data"
    }
   ],
   "source": [
    "# 最適化の結果確認\n",
    "trial = study.best_trial\n",
    "print(f'trial {trial.number}')\n",
    "print('MAE bset: %.2f'% trial.value)\n",
    "display(trial.params)"
   ]
  },
  {
   "cell_type": "code",
   "execution_count": null,
   "metadata": {
    "colab": {
     "base_uri": "https://localhost:8080/",
     "height": 287
    },
    "executionInfo": {
     "elapsed": 278,
     "status": "ok",
     "timestamp": 1685202686857,
     "user": {
      "displayName": "毛利拓也",
      "userId": "17854120745961292401"
     },
     "user_tz": -540
    },
    "id": "L_rj9FXGNTHP",
    "outputId": "9d0c742c-2dc4-47a0-f272-ae7f14bb54dc"
   },
   "outputs": [
    {
     "data": {
      "text/plain": [
       "{'num_leaves': 122,\n",
       " 'min_data_in_leaf': 8,\n",
       " 'max_bin': 365,\n",
       " 'bagging_fraction': 0.9213182882380164,\n",
       " 'feature_fraction': 0.4980655277580941,\n",
       " 'min_gain_to_split': 0.012265096895607893,\n",
       " 'lambda_l1': 0.16090519318037727,\n",
       " 'lambda_l2': 0.5600789957105483,\n",
       " 'objective': 'mae',\n",
       " 'random_seed': 1234,\n",
       " 'learning_rate': 0.02,\n",
       " 'min_data_in_bin': 3,\n",
       " 'bagging_freq': 1,\n",
       " 'bagging_seed': 0,\n",
       " 'verbose': -1}"
      ]
     },
     "metadata": {},
     "output_type": "display_data"
    }
   ],
   "source": [
    "# 最適化ハイパーパラメータの設定\n",
    "params_best = trial.params\n",
    "params_best.update(params_base)\n",
    "display(params_best)"
   ]
  },
  {
   "cell_type": "code",
   "execution_count": null,
   "metadata": {
    "colab": {
     "base_uri": "https://localhost:8080/",
     "height": 542
    },
    "executionInfo": {
     "elapsed": 10025,
     "status": "ok",
     "timestamp": 1685202699313,
     "user": {
      "displayName": "毛利拓也",
      "userId": "17854120745961292401"
     },
     "user_tz": -540
    },
    "id": "prDR3d0vyI_s",
    "outputId": "c3a2e230-b60f-4173-c161-ded9b375c2d2"
   },
   "outputs": [
    {
     "data": {
      "text/html": [
       "<html>\n",
       "<head><meta charset=\"utf-8\" /></head>\n",
       "<body>\n",
       "    <div>            <script src=\"https://cdnjs.cloudflare.com/ajax/libs/mathjax/2.7.5/MathJax.js?config=TeX-AMS-MML_SVG\"></script><script type=\"text/javascript\">if (window.MathJax && window.MathJax.Hub && window.MathJax.Hub.Config) {window.MathJax.Hub.Config({SVG: {font: \"STIX-Web\"}});}</script>                <script type=\"text/javascript\">window.PlotlyConfig = {MathJaxConfig: 'local'};</script>\n",
       "        <script src=\"https://cdn.plot.ly/plotly-2.18.2.min.js\"></script>                <div id=\"8393c9e5-ee19-44f8-8de4-faaba351c549\" class=\"plotly-graph-div\" style=\"height:525px; width:100%;\"></div>            <script type=\"text/javascript\">                                    window.PLOTLYENV=window.PLOTLYENV || {};                                    if (document.getElementById(\"8393c9e5-ee19-44f8-8de4-faaba351c549\")) {                    Plotly.newPlot(                        \"8393c9e5-ee19-44f8-8de4-faaba351c549\",                        [{\"cliponaxis\":false,\"hovertemplate\":[\"feature_fraction (FloatDistribution): 0.053742573159006914<extra></extra>\",\"lambda_l1 (FloatDistribution): 0.05497684260965189<extra></extra>\",\"bagging_fraction (FloatDistribution): 0.06531130632767777<extra></extra>\",\"min_data_in_leaf (IntDistribution): 0.10516197590563933<extra></extra>\",\"min_gain_to_split (FloatDistribution): 0.10666475693470108<extra></extra>\",\"max_bin (IntDistribution): 0.14007988157757414<extra></extra>\",\"lambda_l2 (FloatDistribution): 0.17556829033104213<extra></extra>\",\"num_leaves (IntDistribution): 0.2984943731547067<extra></extra>\"],\"marker\":{\"color\":\"rgb(66,146,198)\"},\"orientation\":\"h\",\"text\":[\"0.05\",\"0.05\",\"0.07\",\"0.11\",\"0.11\",\"0.14\",\"0.18\",\"0.30\"],\"textposition\":\"outside\",\"x\":[0.053742573159006914,0.05497684260965189,0.06531130632767777,0.10516197590563933,0.10666475693470108,0.14007988157757414,0.17556829033104213,0.2984943731547067],\"y\":[\"feature_fraction\",\"lambda_l1\",\"bagging_fraction\",\"min_data_in_leaf\",\"min_gain_to_split\",\"max_bin\",\"lambda_l2\",\"num_leaves\"],\"type\":\"bar\"}],                        {\"showlegend\":false,\"title\":{\"text\":\"Hyperparameter Importances\"},\"xaxis\":{\"title\":{\"text\":\"Importance for Objective Value\"}},\"yaxis\":{\"title\":{\"text\":\"Hyperparameter\"}},\"template\":{\"data\":{\"histogram2dcontour\":[{\"type\":\"histogram2dcontour\",\"colorbar\":{\"outlinewidth\":0,\"ticks\":\"\"},\"colorscale\":[[0.0,\"#0d0887\"],[0.1111111111111111,\"#46039f\"],[0.2222222222222222,\"#7201a8\"],[0.3333333333333333,\"#9c179e\"],[0.4444444444444444,\"#bd3786\"],[0.5555555555555556,\"#d8576b\"],[0.6666666666666666,\"#ed7953\"],[0.7777777777777778,\"#fb9f3a\"],[0.8888888888888888,\"#fdca26\"],[1.0,\"#f0f921\"]]}],\"choropleth\":[{\"type\":\"choropleth\",\"colorbar\":{\"outlinewidth\":0,\"ticks\":\"\"}}],\"histogram2d\":[{\"type\":\"histogram2d\",\"colorbar\":{\"outlinewidth\":0,\"ticks\":\"\"},\"colorscale\":[[0.0,\"#0d0887\"],[0.1111111111111111,\"#46039f\"],[0.2222222222222222,\"#7201a8\"],[0.3333333333333333,\"#9c179e\"],[0.4444444444444444,\"#bd3786\"],[0.5555555555555556,\"#d8576b\"],[0.6666666666666666,\"#ed7953\"],[0.7777777777777778,\"#fb9f3a\"],[0.8888888888888888,\"#fdca26\"],[1.0,\"#f0f921\"]]}],\"heatmap\":[{\"type\":\"heatmap\",\"colorbar\":{\"outlinewidth\":0,\"ticks\":\"\"},\"colorscale\":[[0.0,\"#0d0887\"],[0.1111111111111111,\"#46039f\"],[0.2222222222222222,\"#7201a8\"],[0.3333333333333333,\"#9c179e\"],[0.4444444444444444,\"#bd3786\"],[0.5555555555555556,\"#d8576b\"],[0.6666666666666666,\"#ed7953\"],[0.7777777777777778,\"#fb9f3a\"],[0.8888888888888888,\"#fdca26\"],[1.0,\"#f0f921\"]]}],\"heatmapgl\":[{\"type\":\"heatmapgl\",\"colorbar\":{\"outlinewidth\":0,\"ticks\":\"\"},\"colorscale\":[[0.0,\"#0d0887\"],[0.1111111111111111,\"#46039f\"],[0.2222222222222222,\"#7201a8\"],[0.3333333333333333,\"#9c179e\"],[0.4444444444444444,\"#bd3786\"],[0.5555555555555556,\"#d8576b\"],[0.6666666666666666,\"#ed7953\"],[0.7777777777777778,\"#fb9f3a\"],[0.8888888888888888,\"#fdca26\"],[1.0,\"#f0f921\"]]}],\"contourcarpet\":[{\"type\":\"contourcarpet\",\"colorbar\":{\"outlinewidth\":0,\"ticks\":\"\"}}],\"contour\":[{\"type\":\"contour\",\"colorbar\":{\"outlinewidth\":0,\"ticks\":\"\"},\"colorscale\":[[0.0,\"#0d0887\"],[0.1111111111111111,\"#46039f\"],[0.2222222222222222,\"#7201a8\"],[0.3333333333333333,\"#9c179e\"],[0.4444444444444444,\"#bd3786\"],[0.5555555555555556,\"#d8576b\"],[0.6666666666666666,\"#ed7953\"],[0.7777777777777778,\"#fb9f3a\"],[0.8888888888888888,\"#fdca26\"],[1.0,\"#f0f921\"]]}],\"surface\":[{\"type\":\"surface\",\"colorbar\":{\"outlinewidth\":0,\"ticks\":\"\"},\"colorscale\":[[0.0,\"#0d0887\"],[0.1111111111111111,\"#46039f\"],[0.2222222222222222,\"#7201a8\"],[0.3333333333333333,\"#9c179e\"],[0.4444444444444444,\"#bd3786\"],[0.5555555555555556,\"#d8576b\"],[0.6666666666666666,\"#ed7953\"],[0.7777777777777778,\"#fb9f3a\"],[0.8888888888888888,\"#fdca26\"],[1.0,\"#f0f921\"]]}],\"mesh3d\":[{\"type\":\"mesh3d\",\"colorbar\":{\"outlinewidth\":0,\"ticks\":\"\"}}],\"scatter\":[{\"fillpattern\":{\"fillmode\":\"overlay\",\"size\":10,\"solidity\":0.2},\"type\":\"scatter\"}],\"parcoords\":[{\"type\":\"parcoords\",\"line\":{\"colorbar\":{\"outlinewidth\":0,\"ticks\":\"\"}}}],\"scatterpolargl\":[{\"type\":\"scatterpolargl\",\"marker\":{\"colorbar\":{\"outlinewidth\":0,\"ticks\":\"\"}}}],\"bar\":[{\"error_x\":{\"color\":\"#2a3f5f\"},\"error_y\":{\"color\":\"#2a3f5f\"},\"marker\":{\"line\":{\"color\":\"#E5ECF6\",\"width\":0.5},\"pattern\":{\"fillmode\":\"overlay\",\"size\":10,\"solidity\":0.2}},\"type\":\"bar\"}],\"scattergeo\":[{\"type\":\"scattergeo\",\"marker\":{\"colorbar\":{\"outlinewidth\":0,\"ticks\":\"\"}}}],\"scatterpolar\":[{\"type\":\"scatterpolar\",\"marker\":{\"colorbar\":{\"outlinewidth\":0,\"ticks\":\"\"}}}],\"histogram\":[{\"marker\":{\"pattern\":{\"fillmode\":\"overlay\",\"size\":10,\"solidity\":0.2}},\"type\":\"histogram\"}],\"scattergl\":[{\"type\":\"scattergl\",\"marker\":{\"colorbar\":{\"outlinewidth\":0,\"ticks\":\"\"}}}],\"scatter3d\":[{\"type\":\"scatter3d\",\"line\":{\"colorbar\":{\"outlinewidth\":0,\"ticks\":\"\"}},\"marker\":{\"colorbar\":{\"outlinewidth\":0,\"ticks\":\"\"}}}],\"scattermapbox\":[{\"type\":\"scattermapbox\",\"marker\":{\"colorbar\":{\"outlinewidth\":0,\"ticks\":\"\"}}}],\"scatterternary\":[{\"type\":\"scatterternary\",\"marker\":{\"colorbar\":{\"outlinewidth\":0,\"ticks\":\"\"}}}],\"scattercarpet\":[{\"type\":\"scattercarpet\",\"marker\":{\"colorbar\":{\"outlinewidth\":0,\"ticks\":\"\"}}}],\"carpet\":[{\"aaxis\":{\"endlinecolor\":\"#2a3f5f\",\"gridcolor\":\"white\",\"linecolor\":\"white\",\"minorgridcolor\":\"white\",\"startlinecolor\":\"#2a3f5f\"},\"baxis\":{\"endlinecolor\":\"#2a3f5f\",\"gridcolor\":\"white\",\"linecolor\":\"white\",\"minorgridcolor\":\"white\",\"startlinecolor\":\"#2a3f5f\"},\"type\":\"carpet\"}],\"table\":[{\"cells\":{\"fill\":{\"color\":\"#EBF0F8\"},\"line\":{\"color\":\"white\"}},\"header\":{\"fill\":{\"color\":\"#C8D4E3\"},\"line\":{\"color\":\"white\"}},\"type\":\"table\"}],\"barpolar\":[{\"marker\":{\"line\":{\"color\":\"#E5ECF6\",\"width\":0.5},\"pattern\":{\"fillmode\":\"overlay\",\"size\":10,\"solidity\":0.2}},\"type\":\"barpolar\"}],\"pie\":[{\"automargin\":true,\"type\":\"pie\"}]},\"layout\":{\"autotypenumbers\":\"strict\",\"colorway\":[\"#636efa\",\"#EF553B\",\"#00cc96\",\"#ab63fa\",\"#FFA15A\",\"#19d3f3\",\"#FF6692\",\"#B6E880\",\"#FF97FF\",\"#FECB52\"],\"font\":{\"color\":\"#2a3f5f\"},\"hovermode\":\"closest\",\"hoverlabel\":{\"align\":\"left\"},\"paper_bgcolor\":\"white\",\"plot_bgcolor\":\"#E5ECF6\",\"polar\":{\"bgcolor\":\"#E5ECF6\",\"angularaxis\":{\"gridcolor\":\"white\",\"linecolor\":\"white\",\"ticks\":\"\"},\"radialaxis\":{\"gridcolor\":\"white\",\"linecolor\":\"white\",\"ticks\":\"\"}},\"ternary\":{\"bgcolor\":\"#E5ECF6\",\"aaxis\":{\"gridcolor\":\"white\",\"linecolor\":\"white\",\"ticks\":\"\"},\"baxis\":{\"gridcolor\":\"white\",\"linecolor\":\"white\",\"ticks\":\"\"},\"caxis\":{\"gridcolor\":\"white\",\"linecolor\":\"white\",\"ticks\":\"\"}},\"coloraxis\":{\"colorbar\":{\"outlinewidth\":0,\"ticks\":\"\"}},\"colorscale\":{\"sequential\":[[0.0,\"#0d0887\"],[0.1111111111111111,\"#46039f\"],[0.2222222222222222,\"#7201a8\"],[0.3333333333333333,\"#9c179e\"],[0.4444444444444444,\"#bd3786\"],[0.5555555555555556,\"#d8576b\"],[0.6666666666666666,\"#ed7953\"],[0.7777777777777778,\"#fb9f3a\"],[0.8888888888888888,\"#fdca26\"],[1.0,\"#f0f921\"]],\"sequentialminus\":[[0.0,\"#0d0887\"],[0.1111111111111111,\"#46039f\"],[0.2222222222222222,\"#7201a8\"],[0.3333333333333333,\"#9c179e\"],[0.4444444444444444,\"#bd3786\"],[0.5555555555555556,\"#d8576b\"],[0.6666666666666666,\"#ed7953\"],[0.7777777777777778,\"#fb9f3a\"],[0.8888888888888888,\"#fdca26\"],[1.0,\"#f0f921\"]],\"diverging\":[[0,\"#8e0152\"],[0.1,\"#c51b7d\"],[0.2,\"#de77ae\"],[0.3,\"#f1b6da\"],[0.4,\"#fde0ef\"],[0.5,\"#f7f7f7\"],[0.6,\"#e6f5d0\"],[0.7,\"#b8e186\"],[0.8,\"#7fbc41\"],[0.9,\"#4d9221\"],[1,\"#276419\"]]},\"xaxis\":{\"gridcolor\":\"white\",\"linecolor\":\"white\",\"ticks\":\"\",\"title\":{\"standoff\":15},\"zerolinecolor\":\"white\",\"automargin\":true,\"zerolinewidth\":2},\"yaxis\":{\"gridcolor\":\"white\",\"linecolor\":\"white\",\"ticks\":\"\",\"title\":{\"standoff\":15},\"zerolinecolor\":\"white\",\"automargin\":true,\"zerolinewidth\":2},\"scene\":{\"xaxis\":{\"backgroundcolor\":\"#E5ECF6\",\"gridcolor\":\"white\",\"linecolor\":\"white\",\"showbackground\":true,\"ticks\":\"\",\"zerolinecolor\":\"white\",\"gridwidth\":2},\"yaxis\":{\"backgroundcolor\":\"#E5ECF6\",\"gridcolor\":\"white\",\"linecolor\":\"white\",\"showbackground\":true,\"ticks\":\"\",\"zerolinecolor\":\"white\",\"gridwidth\":2},\"zaxis\":{\"backgroundcolor\":\"#E5ECF6\",\"gridcolor\":\"white\",\"linecolor\":\"white\",\"showbackground\":true,\"ticks\":\"\",\"zerolinecolor\":\"white\",\"gridwidth\":2}},\"shapedefaults\":{\"line\":{\"color\":\"#2a3f5f\"}},\"annotationdefaults\":{\"arrowcolor\":\"#2a3f5f\",\"arrowhead\":0,\"arrowwidth\":1},\"geo\":{\"bgcolor\":\"white\",\"landcolor\":\"#E5ECF6\",\"subunitcolor\":\"white\",\"showland\":true,\"showlakes\":true,\"lakecolor\":\"white\"},\"title\":{\"x\":0.05},\"mapbox\":{\"style\":\"light\"}}}},                        {\"responsive\": true}                    ).then(function(){\n",
       "                            \n",
       "var gd = document.getElementById('8393c9e5-ee19-44f8-8de4-faaba351c549');\n",
       "var x = new MutationObserver(function (mutations, observer) {{\n",
       "        var display = window.getComputedStyle(gd).display;\n",
       "        if (!display || display === 'none') {{\n",
       "            console.log([gd, 'removed!']);\n",
       "            Plotly.purge(gd);\n",
       "            observer.disconnect();\n",
       "        }}\n",
       "}});\n",
       "\n",
       "// Listen for the removal of the full notebook cells\n",
       "var notebookContainer = gd.closest('#notebook-container');\n",
       "if (notebookContainer) {{\n",
       "    x.observe(notebookContainer, {childList: true});\n",
       "}}\n",
       "\n",
       "// Listen for the clearing of the current output cell\n",
       "var outputEl = gd.closest('.output');\n",
       "if (outputEl) {{\n",
       "    x.observe(outputEl, {childList: true});\n",
       "}}\n",
       "\n",
       "                        })                };                            </script>        </div>\n",
       "</body>\n",
       "</html>"
      ]
     },
     "metadata": {},
     "output_type": "display_data"
    }
   ],
   "source": [
    "optuna.visualization.plot_param_importances(study).show()"
   ]
  },
  {
   "cell_type": "code",
   "execution_count": null,
   "metadata": {
    "colab": {
     "base_uri": "https://localhost:8080/",
     "height": 542
    },
    "executionInfo": {
     "elapsed": 440,
     "status": "ok",
     "timestamp": 1685202703370,
     "user": {
      "displayName": "毛利拓也",
      "userId": "17854120745961292401"
     },
     "user_tz": -540
    },
    "id": "ImUER-uJn67y",
    "outputId": "fe57b5ba-acbc-4a6f-9f12-580f875d4ed9"
   },
   "outputs": [
    {
     "data": {
      "text/html": [
       "<html>\n",
       "<head><meta charset=\"utf-8\" /></head>\n",
       "<body>\n",
       "    <div>            <script src=\"https://cdnjs.cloudflare.com/ajax/libs/mathjax/2.7.5/MathJax.js?config=TeX-AMS-MML_SVG\"></script><script type=\"text/javascript\">if (window.MathJax && window.MathJax.Hub && window.MathJax.Hub.Config) {window.MathJax.Hub.Config({SVG: {font: \"STIX-Web\"}});}</script>                <script type=\"text/javascript\">window.PlotlyConfig = {MathJaxConfig: 'local'};</script>\n",
       "        <script src=\"https://cdn.plot.ly/plotly-2.18.2.min.js\"></script>                <div id=\"708898c3-bef9-4bea-b1c2-7862c724d167\" class=\"plotly-graph-div\" style=\"height:525px; width:100%;\"></div>            <script type=\"text/javascript\">                                    window.PLOTLYENV=window.PLOTLYENV || {};                                    if (document.getElementById(\"708898c3-bef9-4bea-b1c2-7862c724d167\")) {                    Plotly.newPlot(                        \"708898c3-bef9-4bea-b1c2-7862c724d167\",                        [{\"marker\":{\"color\":[0,1,2,3,4,5,6,7,8,9,10,11,12,13,14,15,16,17,18,19,20,21,22,23,24,25,26,27,28,29,30,31,32,33,34,35,36,37,38,39,40,41,42,43,44,45,46,47,48,49,50,51,52,53,54,55,56,57,58,59,60,61,62,63,64,65,66,67,68,69,70,71,72,73,74,75,76,77,78,79,80,81,82,83,84,85,86,87,88,89,90,91,92,93,94,95,96,97,98,99,100,101,102,103,104,105,106,107,108,109,110,111,112,113,114,115,116,117,118,119,120,121,122,123,124,125,126,127,128,129,130,131,132,133,134,135,136,137,138,139,140,141,142,143,144,145,146,147,148,149,150,151,152,153,154,155,156,157,158,159,160,161,162,163,164,165,166,167,168,169,170,171,172,173,174,175,176,177,178,179,180,181,182,183,184,185,186,187,188,189,190,191,192,193,194,195,196,197,198,199],\"colorbar\":{\"title\":{\"text\":\"Trial\"},\"x\":1.0,\"xpad\":40},\"colorscale\":[[0.0,\"rgb(247,251,255)\"],[0.125,\"rgb(222,235,247)\"],[0.25,\"rgb(198,219,239)\"],[0.375,\"rgb(158,202,225)\"],[0.5,\"rgb(107,174,214)\"],[0.625,\"rgb(66,146,198)\"],[0.75,\"rgb(33,113,181)\"],[0.875,\"rgb(8,81,156)\"],[1.0,\"rgb(8,48,107)\"]],\"line\":{\"color\":\"Grey\",\"width\":0.5},\"showscale\":true},\"mode\":\"markers\",\"showlegend\":false,\"x\":[22,13,26,20,18,14,12,9,12,19,4,3,2,29,7,17,24,8,19,2,17,23,24,30,26,27,16,21,6,5,5,6,9,2,10,5,5,14,14,11,7,5,15,13,4,19,9,7,11,4,3,4,6,8,18,3,21,6,17,8,3,18,18,15,20,20,22,5,4,20,25,4,2,7,5,4,22,6,16,8,10,11,12,13,10,10,11,14,12,16,9,9,9,9,10,11,9,9,13,8,7,7,8,7,8,7,10,6,9,11,7,8,8,5,8,7,12,9,9,10,7,6,8,10,9,11,7,7,8,8,6,8,8,7,8,7,6,9,7,8,8,9,9,9,7,10,8,9,6,11,8,9,10,7,8,9,10,7,8,6,15,6,5,7,6,6,6,6,5,6,5,6,6,7,5,6,7,6,5,7,8,5,4,6,7,5,6,8,5,7,8,4,7,8,8,6,7,8,7,14],\"y\":[236.3953978396676,237.08390346573412,237.41216752547192,236.89405915464317,235.6009181590289,236.56553064240038,236.123526792667,236.14758156608585,236.57602513147754,236.3942096446911,235.91394457126538,236.1528459013989,235.68553113118287,237.3899085824166,237.27354021337538,236.23688167002803,235.69945903444273,237.39336158750473,236.40222841349112,236.78755514565904,236.01696839322625,236.51771269205193,236.46668748000158,235.8282290356868,236.80326152629874,236.79136994999135,235.90044337473424,236.4145270822498,235.48753634958118,235.17709720588138,237.04358990522704,237.03928275892304,236.14949159391298,236.7165691174425,235.9156451443252,235.25408281519756,237.14692436780257,234.41296880280794,235.77178891481037,235.7636199741035,235.96420144650077,236.3488006042655,236.2303634996909,236.41806652730392,236.50509414661113,236.5996424821209,236.41350581202397,235.90928319731995,235.83556200694437,235.47594377980306,237.467489597021,236.38619844127527,235.9797432700678,235.86569925835084,235.45446832223047,235.95720213340545,235.62609790340434,237.1700300408721,236.78905592040462,235.77190767166238,237.05331148402425,236.55078168235704,236.07574688343587,236.02754664417515,235.3316030258016,235.95594350095516,236.25280138451686,236.43656581331376,235.59451295673952,236.2082561770278,236.13013217067413,235.60368722707753,236.32520517317303,235.72049953936258,236.57564374099408,237.46148231105565,236.10789988192082,235.99173937996397,235.94560019883963,235.56380265951293,235.13847752443206,234.86954381280646,236.01520439619455,236.6236020430035,235.5624661691177,236.06034600913105,235.52454093055346,236.20604798337914,235.8989260379897,236.0570530062523,234.69012692807635,235.42734372634052,235.04078297260943,235.61235089979186,235.85146498113065,235.76496773134295,235.09270459383734,235.35774746066176,236.54960192104693,235.65369384337907,234.3653179309017,234.88664647829424,234.9695928609206,235.79192853126582,236.37202486605008,236.01474936092447,235.6052540920504,235.6341088407682,235.45011809624955,235.42076260380998,237.38309059214313,234.9889012267549,235.96982203803475,236.1742883840556,235.60429545876138,234.96705478280433,235.4435596188044,235.0764456425818,237.3130008076344,235.8927656880547,235.8957786788501,236.45494983716642,235.9069119624472,235.70571430141078,235.47793789813315,235.40449673348905,234.31528099473687,236.61952338810616,234.90373624090876,234.43815297047513,235.9758177833684,234.9627017577553,235.38587621641636,235.24388791030043,235.35834250829205,235.78786001959023,237.29082495558626,234.80686051592144,235.34438877747462,235.64497091467356,235.34988927349443,235.99531679776695,235.19259771011573,235.91371391979115,235.9547337623743,236.08918826525078,235.22582821235503,235.5558501734134,237.18089028470243,236.2032930588034,236.30293336598143,235.11204227875493,235.31768292904854,236.11533509112132,236.04780967782702,235.7690608571406,235.61864752824786,236.884707527901,235.11671827232422,234.7665796581116,235.6692237103764,234.97758247853835,236.11984730706382,236.7296234523758,234.9434418606933,236.13476107928523,234.78670292176471,235.11020929725106,234.99760268915085,235.67961049034665,235.93800289392675,234.56379789977896,235.49840751128235,235.55788635508745,235.74662228459562,235.15287205111764,235.6638811573168,235.2723154960424,236.04084171986239,235.14005436133772,235.55216837926625,236.2704919659919,235.98397452719695,235.98057434648643,236.11762834927828,235.19891766014567,235.23044945632324,236.55473359699042,236.4333148518179,235.58138983724086,235.6770437797036,236.3410181378794,235.36998723685952,234.30678073900222,235.63017601604705,235.5116996506125,235.95330273887066,235.78522251773134,236.07838897092924,235.13199198165518],\"type\":\"scatter\",\"xaxis\":\"x\",\"yaxis\":\"y\"},{\"marker\":{\"color\":[0,1,2,3,4,5,6,7,8,9,10,11,12,13,14,15,16,17,18,19,20,21,22,23,24,25,26,27,28,29,30,31,32,33,34,35,36,37,38,39,40,41,42,43,44,45,46,47,48,49,50,51,52,53,54,55,56,57,58,59,60,61,62,63,64,65,66,67,68,69,70,71,72,73,74,75,76,77,78,79,80,81,82,83,84,85,86,87,88,89,90,91,92,93,94,95,96,97,98,99,100,101,102,103,104,105,106,107,108,109,110,111,112,113,114,115,116,117,118,119,120,121,122,123,124,125,126,127,128,129,130,131,132,133,134,135,136,137,138,139,140,141,142,143,144,145,146,147,148,149,150,151,152,153,154,155,156,157,158,159,160,161,162,163,164,165,166,167,168,169,170,171,172,173,174,175,176,177,178,179,180,181,182,183,184,185,186,187,188,189,190,191,192,193,194,195,196,197,198,199],\"colorbar\":{\"title\":{\"text\":\"Trial\"},\"x\":1.0,\"xpad\":40},\"colorscale\":[[0.0,\"rgb(247,251,255)\"],[0.125,\"rgb(222,235,247)\"],[0.25,\"rgb(198,219,239)\"],[0.375,\"rgb(158,202,225)\"],[0.5,\"rgb(107,174,214)\"],[0.625,\"rgb(66,146,198)\"],[0.75,\"rgb(33,113,181)\"],[0.875,\"rgb(8,81,156)\"],[1.0,\"rgb(8,48,107)\"]],\"line\":{\"color\":\"Grey\",\"width\":0.5},\"showscale\":false},\"mode\":\"markers\",\"showlegend\":false,\"x\":[132,195,53,67,118,104,97,148,79,197,154,161,164,172,120,130,175,105,139,120,178,178,166,143,185,156,92,117,165,135,131,139,150,187,111,164,85,127,136,125,189,111,149,60,98,159,167,143,127,199,200,192,171,114,182,185,179,182,194,170,162,123,104,198,156,175,144,153,135,158,168,135,163,152,129,147,138,174,190,132,144,143,155,145,149,141,159,179,165,121,132,134,126,132,126,140,129,115,117,109,127,122,128,123,128,124,120,130,136,127,113,142,132,141,137,120,117,108,107,96,100,122,126,146,130,119,134,134,142,139,139,129,123,142,133,137,74,125,126,151,119,130,115,124,128,111,139,133,51,147,120,129,136,126,131,124,143,88,128,137,140,135,134,137,145,148,143,141,145,142,150,144,144,139,147,135,132,138,136,153,144,144,150,147,141,132,122,139,144,146,135,127,130,122,119,122,116,125,141,132],\"y\":[236.3953978396676,237.08390346573412,237.41216752547192,236.89405915464317,235.6009181590289,236.56553064240038,236.123526792667,236.14758156608585,236.57602513147754,236.3942096446911,235.91394457126538,236.1528459013989,235.68553113118287,237.3899085824166,237.27354021337538,236.23688167002803,235.69945903444273,237.39336158750473,236.40222841349112,236.78755514565904,236.01696839322625,236.51771269205193,236.46668748000158,235.8282290356868,236.80326152629874,236.79136994999135,235.90044337473424,236.4145270822498,235.48753634958118,235.17709720588138,237.04358990522704,237.03928275892304,236.14949159391298,236.7165691174425,235.9156451443252,235.25408281519756,237.14692436780257,234.41296880280794,235.77178891481037,235.7636199741035,235.96420144650077,236.3488006042655,236.2303634996909,236.41806652730392,236.50509414661113,236.5996424821209,236.41350581202397,235.90928319731995,235.83556200694437,235.47594377980306,237.467489597021,236.38619844127527,235.9797432700678,235.86569925835084,235.45446832223047,235.95720213340545,235.62609790340434,237.1700300408721,236.78905592040462,235.77190767166238,237.05331148402425,236.55078168235704,236.07574688343587,236.02754664417515,235.3316030258016,235.95594350095516,236.25280138451686,236.43656581331376,235.59451295673952,236.2082561770278,236.13013217067413,235.60368722707753,236.32520517317303,235.72049953936258,236.57564374099408,237.46148231105565,236.10789988192082,235.99173937996397,235.94560019883963,235.56380265951293,235.13847752443206,234.86954381280646,236.01520439619455,236.6236020430035,235.5624661691177,236.06034600913105,235.52454093055346,236.20604798337914,235.8989260379897,236.0570530062523,234.69012692807635,235.42734372634052,235.04078297260943,235.61235089979186,235.85146498113065,235.76496773134295,235.09270459383734,235.35774746066176,236.54960192104693,235.65369384337907,234.3653179309017,234.88664647829424,234.9695928609206,235.79192853126582,236.37202486605008,236.01474936092447,235.6052540920504,235.6341088407682,235.45011809624955,235.42076260380998,237.38309059214313,234.9889012267549,235.96982203803475,236.1742883840556,235.60429545876138,234.96705478280433,235.4435596188044,235.0764456425818,237.3130008076344,235.8927656880547,235.8957786788501,236.45494983716642,235.9069119624472,235.70571430141078,235.47793789813315,235.40449673348905,234.31528099473687,236.61952338810616,234.90373624090876,234.43815297047513,235.9758177833684,234.9627017577553,235.38587621641636,235.24388791030043,235.35834250829205,235.78786001959023,237.29082495558626,234.80686051592144,235.34438877747462,235.64497091467356,235.34988927349443,235.99531679776695,235.19259771011573,235.91371391979115,235.9547337623743,236.08918826525078,235.22582821235503,235.5558501734134,237.18089028470243,236.2032930588034,236.30293336598143,235.11204227875493,235.31768292904854,236.11533509112132,236.04780967782702,235.7690608571406,235.61864752824786,236.884707527901,235.11671827232422,234.7665796581116,235.6692237103764,234.97758247853835,236.11984730706382,236.7296234523758,234.9434418606933,236.13476107928523,234.78670292176471,235.11020929725106,234.99760268915085,235.67961049034665,235.93800289392675,234.56379789977896,235.49840751128235,235.55788635508745,235.74662228459562,235.15287205111764,235.6638811573168,235.2723154960424,236.04084171986239,235.14005436133772,235.55216837926625,236.2704919659919,235.98397452719695,235.98057434648643,236.11762834927828,235.19891766014567,235.23044945632324,236.55473359699042,236.4333148518179,235.58138983724086,235.6770437797036,236.3410181378794,235.36998723685952,234.30678073900222,235.63017601604705,235.5116996506125,235.95330273887066,235.78522251773134,236.07838897092924,235.13199198165518],\"type\":\"scatter\",\"xaxis\":\"x2\",\"yaxis\":\"y2\"}],                        {\"template\":{\"data\":{\"histogram2dcontour\":[{\"type\":\"histogram2dcontour\",\"colorbar\":{\"outlinewidth\":0,\"ticks\":\"\"},\"colorscale\":[[0.0,\"#0d0887\"],[0.1111111111111111,\"#46039f\"],[0.2222222222222222,\"#7201a8\"],[0.3333333333333333,\"#9c179e\"],[0.4444444444444444,\"#bd3786\"],[0.5555555555555556,\"#d8576b\"],[0.6666666666666666,\"#ed7953\"],[0.7777777777777778,\"#fb9f3a\"],[0.8888888888888888,\"#fdca26\"],[1.0,\"#f0f921\"]]}],\"choropleth\":[{\"type\":\"choropleth\",\"colorbar\":{\"outlinewidth\":0,\"ticks\":\"\"}}],\"histogram2d\":[{\"type\":\"histogram2d\",\"colorbar\":{\"outlinewidth\":0,\"ticks\":\"\"},\"colorscale\":[[0.0,\"#0d0887\"],[0.1111111111111111,\"#46039f\"],[0.2222222222222222,\"#7201a8\"],[0.3333333333333333,\"#9c179e\"],[0.4444444444444444,\"#bd3786\"],[0.5555555555555556,\"#d8576b\"],[0.6666666666666666,\"#ed7953\"],[0.7777777777777778,\"#fb9f3a\"],[0.8888888888888888,\"#fdca26\"],[1.0,\"#f0f921\"]]}],\"heatmap\":[{\"type\":\"heatmap\",\"colorbar\":{\"outlinewidth\":0,\"ticks\":\"\"},\"colorscale\":[[0.0,\"#0d0887\"],[0.1111111111111111,\"#46039f\"],[0.2222222222222222,\"#7201a8\"],[0.3333333333333333,\"#9c179e\"],[0.4444444444444444,\"#bd3786\"],[0.5555555555555556,\"#d8576b\"],[0.6666666666666666,\"#ed7953\"],[0.7777777777777778,\"#fb9f3a\"],[0.8888888888888888,\"#fdca26\"],[1.0,\"#f0f921\"]]}],\"heatmapgl\":[{\"type\":\"heatmapgl\",\"colorbar\":{\"outlinewidth\":0,\"ticks\":\"\"},\"colorscale\":[[0.0,\"#0d0887\"],[0.1111111111111111,\"#46039f\"],[0.2222222222222222,\"#7201a8\"],[0.3333333333333333,\"#9c179e\"],[0.4444444444444444,\"#bd3786\"],[0.5555555555555556,\"#d8576b\"],[0.6666666666666666,\"#ed7953\"],[0.7777777777777778,\"#fb9f3a\"],[0.8888888888888888,\"#fdca26\"],[1.0,\"#f0f921\"]]}],\"contourcarpet\":[{\"type\":\"contourcarpet\",\"colorbar\":{\"outlinewidth\":0,\"ticks\":\"\"}}],\"contour\":[{\"type\":\"contour\",\"colorbar\":{\"outlinewidth\":0,\"ticks\":\"\"},\"colorscale\":[[0.0,\"#0d0887\"],[0.1111111111111111,\"#46039f\"],[0.2222222222222222,\"#7201a8\"],[0.3333333333333333,\"#9c179e\"],[0.4444444444444444,\"#bd3786\"],[0.5555555555555556,\"#d8576b\"],[0.6666666666666666,\"#ed7953\"],[0.7777777777777778,\"#fb9f3a\"],[0.8888888888888888,\"#fdca26\"],[1.0,\"#f0f921\"]]}],\"surface\":[{\"type\":\"surface\",\"colorbar\":{\"outlinewidth\":0,\"ticks\":\"\"},\"colorscale\":[[0.0,\"#0d0887\"],[0.1111111111111111,\"#46039f\"],[0.2222222222222222,\"#7201a8\"],[0.3333333333333333,\"#9c179e\"],[0.4444444444444444,\"#bd3786\"],[0.5555555555555556,\"#d8576b\"],[0.6666666666666666,\"#ed7953\"],[0.7777777777777778,\"#fb9f3a\"],[0.8888888888888888,\"#fdca26\"],[1.0,\"#f0f921\"]]}],\"mesh3d\":[{\"type\":\"mesh3d\",\"colorbar\":{\"outlinewidth\":0,\"ticks\":\"\"}}],\"scatter\":[{\"fillpattern\":{\"fillmode\":\"overlay\",\"size\":10,\"solidity\":0.2},\"type\":\"scatter\"}],\"parcoords\":[{\"type\":\"parcoords\",\"line\":{\"colorbar\":{\"outlinewidth\":0,\"ticks\":\"\"}}}],\"scatterpolargl\":[{\"type\":\"scatterpolargl\",\"marker\":{\"colorbar\":{\"outlinewidth\":0,\"ticks\":\"\"}}}],\"bar\":[{\"error_x\":{\"color\":\"#2a3f5f\"},\"error_y\":{\"color\":\"#2a3f5f\"},\"marker\":{\"line\":{\"color\":\"#E5ECF6\",\"width\":0.5},\"pattern\":{\"fillmode\":\"overlay\",\"size\":10,\"solidity\":0.2}},\"type\":\"bar\"}],\"scattergeo\":[{\"type\":\"scattergeo\",\"marker\":{\"colorbar\":{\"outlinewidth\":0,\"ticks\":\"\"}}}],\"scatterpolar\":[{\"type\":\"scatterpolar\",\"marker\":{\"colorbar\":{\"outlinewidth\":0,\"ticks\":\"\"}}}],\"histogram\":[{\"marker\":{\"pattern\":{\"fillmode\":\"overlay\",\"size\":10,\"solidity\":0.2}},\"type\":\"histogram\"}],\"scattergl\":[{\"type\":\"scattergl\",\"marker\":{\"colorbar\":{\"outlinewidth\":0,\"ticks\":\"\"}}}],\"scatter3d\":[{\"type\":\"scatter3d\",\"line\":{\"colorbar\":{\"outlinewidth\":0,\"ticks\":\"\"}},\"marker\":{\"colorbar\":{\"outlinewidth\":0,\"ticks\":\"\"}}}],\"scattermapbox\":[{\"type\":\"scattermapbox\",\"marker\":{\"colorbar\":{\"outlinewidth\":0,\"ticks\":\"\"}}}],\"scatterternary\":[{\"type\":\"scatterternary\",\"marker\":{\"colorbar\":{\"outlinewidth\":0,\"ticks\":\"\"}}}],\"scattercarpet\":[{\"type\":\"scattercarpet\",\"marker\":{\"colorbar\":{\"outlinewidth\":0,\"ticks\":\"\"}}}],\"carpet\":[{\"aaxis\":{\"endlinecolor\":\"#2a3f5f\",\"gridcolor\":\"white\",\"linecolor\":\"white\",\"minorgridcolor\":\"white\",\"startlinecolor\":\"#2a3f5f\"},\"baxis\":{\"endlinecolor\":\"#2a3f5f\",\"gridcolor\":\"white\",\"linecolor\":\"white\",\"minorgridcolor\":\"white\",\"startlinecolor\":\"#2a3f5f\"},\"type\":\"carpet\"}],\"table\":[{\"cells\":{\"fill\":{\"color\":\"#EBF0F8\"},\"line\":{\"color\":\"white\"}},\"header\":{\"fill\":{\"color\":\"#C8D4E3\"},\"line\":{\"color\":\"white\"}},\"type\":\"table\"}],\"barpolar\":[{\"marker\":{\"line\":{\"color\":\"#E5ECF6\",\"width\":0.5},\"pattern\":{\"fillmode\":\"overlay\",\"size\":10,\"solidity\":0.2}},\"type\":\"barpolar\"}],\"pie\":[{\"automargin\":true,\"type\":\"pie\"}]},\"layout\":{\"autotypenumbers\":\"strict\",\"colorway\":[\"#636efa\",\"#EF553B\",\"#00cc96\",\"#ab63fa\",\"#FFA15A\",\"#19d3f3\",\"#FF6692\",\"#B6E880\",\"#FF97FF\",\"#FECB52\"],\"font\":{\"color\":\"#2a3f5f\"},\"hovermode\":\"closest\",\"hoverlabel\":{\"align\":\"left\"},\"paper_bgcolor\":\"white\",\"plot_bgcolor\":\"#E5ECF6\",\"polar\":{\"bgcolor\":\"#E5ECF6\",\"angularaxis\":{\"gridcolor\":\"white\",\"linecolor\":\"white\",\"ticks\":\"\"},\"radialaxis\":{\"gridcolor\":\"white\",\"linecolor\":\"white\",\"ticks\":\"\"}},\"ternary\":{\"bgcolor\":\"#E5ECF6\",\"aaxis\":{\"gridcolor\":\"white\",\"linecolor\":\"white\",\"ticks\":\"\"},\"baxis\":{\"gridcolor\":\"white\",\"linecolor\":\"white\",\"ticks\":\"\"},\"caxis\":{\"gridcolor\":\"white\",\"linecolor\":\"white\",\"ticks\":\"\"}},\"coloraxis\":{\"colorbar\":{\"outlinewidth\":0,\"ticks\":\"\"}},\"colorscale\":{\"sequential\":[[0.0,\"#0d0887\"],[0.1111111111111111,\"#46039f\"],[0.2222222222222222,\"#7201a8\"],[0.3333333333333333,\"#9c179e\"],[0.4444444444444444,\"#bd3786\"],[0.5555555555555556,\"#d8576b\"],[0.6666666666666666,\"#ed7953\"],[0.7777777777777778,\"#fb9f3a\"],[0.8888888888888888,\"#fdca26\"],[1.0,\"#f0f921\"]],\"sequentialminus\":[[0.0,\"#0d0887\"],[0.1111111111111111,\"#46039f\"],[0.2222222222222222,\"#7201a8\"],[0.3333333333333333,\"#9c179e\"],[0.4444444444444444,\"#bd3786\"],[0.5555555555555556,\"#d8576b\"],[0.6666666666666666,\"#ed7953\"],[0.7777777777777778,\"#fb9f3a\"],[0.8888888888888888,\"#fdca26\"],[1.0,\"#f0f921\"]],\"diverging\":[[0,\"#8e0152\"],[0.1,\"#c51b7d\"],[0.2,\"#de77ae\"],[0.3,\"#f1b6da\"],[0.4,\"#fde0ef\"],[0.5,\"#f7f7f7\"],[0.6,\"#e6f5d0\"],[0.7,\"#b8e186\"],[0.8,\"#7fbc41\"],[0.9,\"#4d9221\"],[1,\"#276419\"]]},\"xaxis\":{\"gridcolor\":\"white\",\"linecolor\":\"white\",\"ticks\":\"\",\"title\":{\"standoff\":15},\"zerolinecolor\":\"white\",\"automargin\":true,\"zerolinewidth\":2},\"yaxis\":{\"gridcolor\":\"white\",\"linecolor\":\"white\",\"ticks\":\"\",\"title\":{\"standoff\":15},\"zerolinecolor\":\"white\",\"automargin\":true,\"zerolinewidth\":2},\"scene\":{\"xaxis\":{\"backgroundcolor\":\"#E5ECF6\",\"gridcolor\":\"white\",\"linecolor\":\"white\",\"showbackground\":true,\"ticks\":\"\",\"zerolinecolor\":\"white\",\"gridwidth\":2},\"yaxis\":{\"backgroundcolor\":\"#E5ECF6\",\"gridcolor\":\"white\",\"linecolor\":\"white\",\"showbackground\":true,\"ticks\":\"\",\"zerolinecolor\":\"white\",\"gridwidth\":2},\"zaxis\":{\"backgroundcolor\":\"#E5ECF6\",\"gridcolor\":\"white\",\"linecolor\":\"white\",\"showbackground\":true,\"ticks\":\"\",\"zerolinecolor\":\"white\",\"gridwidth\":2}},\"shapedefaults\":{\"line\":{\"color\":\"#2a3f5f\"}},\"annotationdefaults\":{\"arrowcolor\":\"#2a3f5f\",\"arrowhead\":0,\"arrowwidth\":1},\"geo\":{\"bgcolor\":\"white\",\"landcolor\":\"#E5ECF6\",\"subunitcolor\":\"white\",\"showland\":true,\"showlakes\":true,\"lakecolor\":\"white\"},\"title\":{\"x\":0.05},\"mapbox\":{\"style\":\"light\"}}},\"xaxis\":{\"anchor\":\"y\",\"domain\":[0.0,0.45],\"title\":{\"text\":\"min_data_in_leaf\"}},\"yaxis\":{\"anchor\":\"x\",\"domain\":[0.0,1.0],\"title\":{\"text\":\"Objective Value\"}},\"xaxis2\":{\"anchor\":\"y2\",\"domain\":[0.55,1.0],\"title\":{\"text\":\"num_leaves\"}},\"yaxis2\":{\"anchor\":\"x2\",\"domain\":[0.0,1.0],\"matches\":\"y\",\"showticklabels\":false},\"title\":{\"text\":\"Slice Plot\"}},                        {\"responsive\": true}                    ).then(function(){\n",
       "                            \n",
       "var gd = document.getElementById('708898c3-bef9-4bea-b1c2-7862c724d167');\n",
       "var x = new MutationObserver(function (mutations, observer) {{\n",
       "        var display = window.getComputedStyle(gd).display;\n",
       "        if (!display || display === 'none') {{\n",
       "            console.log([gd, 'removed!']);\n",
       "            Plotly.purge(gd);\n",
       "            observer.disconnect();\n",
       "        }}\n",
       "}});\n",
       "\n",
       "// Listen for the removal of the full notebook cells\n",
       "var notebookContainer = gd.closest('#notebook-container');\n",
       "if (notebookContainer) {{\n",
       "    x.observe(notebookContainer, {childList: true});\n",
       "}}\n",
       "\n",
       "// Listen for the clearing of the current output cell\n",
       "var outputEl = gd.closest('.output');\n",
       "if (outputEl) {{\n",
       "    x.observe(outputEl, {childList: true});\n",
       "}}\n",
       "\n",
       "                        })                };                            </script>        </div>\n",
       "</body>\n",
       "</html>"
      ]
     },
     "metadata": {},
     "output_type": "display_data"
    }
   ],
   "source": [
    "optuna.visualization.plot_slice(study, params=['min_data_in_leaf', 'num_leaves']).show()"
   ]
  },
  {
   "cell_type": "code",
   "execution_count": null,
   "metadata": {
    "colab": {
     "base_uri": "https://localhost:8080/",
     "height": 542
    },
    "executionInfo": {
     "elapsed": 4,
     "status": "ok",
     "timestamp": 1685202706039,
     "user": {
      "displayName": "毛利拓也",
      "userId": "17854120745961292401"
     },
     "user_tz": -540
    },
    "id": "TIB5xvA_pGVy",
    "outputId": "d8d11360-a4dd-47fd-e242-a0137702e241"
   },
   "outputs": [
    {
     "data": {
      "text/html": [
       "<html>\n",
       "<head><meta charset=\"utf-8\" /></head>\n",
       "<body>\n",
       "    <div>            <script src=\"https://cdnjs.cloudflare.com/ajax/libs/mathjax/2.7.5/MathJax.js?config=TeX-AMS-MML_SVG\"></script><script type=\"text/javascript\">if (window.MathJax && window.MathJax.Hub && window.MathJax.Hub.Config) {window.MathJax.Hub.Config({SVG: {font: \"STIX-Web\"}});}</script>                <script type=\"text/javascript\">window.PlotlyConfig = {MathJaxConfig: 'local'};</script>\n",
       "        <script src=\"https://cdn.plot.ly/plotly-2.18.2.min.js\"></script>                <div id=\"ab9e4885-fb96-413f-a51f-c6c67f868710\" class=\"plotly-graph-div\" style=\"height:525px; width:100%;\"></div>            <script type=\"text/javascript\">                                    window.PLOTLYENV=window.PLOTLYENV || {};                                    if (document.getElementById(\"ab9e4885-fb96-413f-a51f-c6c67f868710\")) {                    Plotly.newPlot(                        \"ab9e4885-fb96-413f-a51f-c6c67f868710\",                        [{\"marker\":{\"color\":[0,1,2,3,4,5,6,7,8,9,10,11,12,13,14,15,16,17,18,19,20,21,22,23,24,25,26,27,28,29,30,31,32,33,34,35,36,37,38,39,40,41,42,43,44,45,46,47,48,49,50,51,52,53,54,55,56,57,58,59,60,61,62,63,64,65,66,67,68,69,70,71,72,73,74,75,76,77,78,79,80,81,82,83,84,85,86,87,88,89,90,91,92,93,94,95,96,97,98,99,100,101,102,103,104,105,106,107,108,109,110,111,112,113,114,115,116,117,118,119,120,121,122,123,124,125,126,127,128,129,130,131,132,133,134,135,136,137,138,139,140,141,142,143,144,145,146,147,148,149,150,151,152,153,154,155,156,157,158,159,160,161,162,163,164,165,166,167,168,169,170,171,172,173,174,175,176,177,178,179,180,181,182,183,184,185,186,187,188,189,190,191,192,193,194,195,196,197,198,199],\"colorbar\":{\"title\":{\"text\":\"Trial\"},\"x\":1.0,\"xpad\":40},\"colorscale\":[[0.0,\"rgb(247,251,255)\"],[0.125,\"rgb(222,235,247)\"],[0.25,\"rgb(198,219,239)\"],[0.375,\"rgb(158,202,225)\"],[0.5,\"rgb(107,174,214)\"],[0.625,\"rgb(66,146,198)\"],[0.75,\"rgb(33,113,181)\"],[0.875,\"rgb(8,81,156)\"],[1.0,\"rgb(8,48,107)\"]],\"line\":{\"color\":\"Grey\",\"width\":0.5},\"showscale\":true},\"mode\":\"markers\",\"showlegend\":false,\"x\":[321,359,356,228,203,340,314,293,365,348,204,200,251,258,258,247,287,398,229,276,224,283,264,304,240,214,277,239,295,327,329,305,317,374,328,267,340,297,296,270,313,292,331,311,346,299,369,323,285,213,216,209,201,222,253,257,268,237,247,290,281,234,216,228,252,258,272,249,264,306,243,260,253,276,233,265,263,301,281,355,359,356,364,375,353,399,386,341,321,332,360,349,360,359,348,377,359,361,361,368,382,388,390,382,393,390,370,383,336,378,393,353,344,352,365,370,357,369,380,371,385,365,372,388,395,352,367,360,365,376,375,370,366,379,372,389,368,376,382,376,400,362,373,367,385,356,375,381,370,390,364,358,350,355,379,362,368,345,373,395,394,386,386,391,395,398,396,398,395,386,390,396,392,397,386,381,388,400,297,393,383,394,378,289,396,310,394,388,377,390,400,385,395,365,374,365,370,383,302,396],\"y\":[236.3953978396676,237.08390346573412,237.41216752547192,236.89405915464317,235.6009181590289,236.56553064240038,236.123526792667,236.14758156608585,236.57602513147754,236.3942096446911,235.91394457126538,236.1528459013989,235.68553113118287,237.3899085824166,237.27354021337538,236.23688167002803,235.69945903444273,237.39336158750473,236.40222841349112,236.78755514565904,236.01696839322625,236.51771269205193,236.46668748000158,235.8282290356868,236.80326152629874,236.79136994999135,235.90044337473424,236.4145270822498,235.48753634958118,235.17709720588138,237.04358990522704,237.03928275892304,236.14949159391298,236.7165691174425,235.9156451443252,235.25408281519756,237.14692436780257,234.41296880280794,235.77178891481037,235.7636199741035,235.96420144650077,236.3488006042655,236.2303634996909,236.41806652730392,236.50509414661113,236.5996424821209,236.41350581202397,235.90928319731995,235.83556200694437,235.47594377980306,237.467489597021,236.38619844127527,235.9797432700678,235.86569925835084,235.45446832223047,235.95720213340545,235.62609790340434,237.1700300408721,236.78905592040462,235.77190767166238,237.05331148402425,236.55078168235704,236.07574688343587,236.02754664417515,235.3316030258016,235.95594350095516,236.25280138451686,236.43656581331376,235.59451295673952,236.2082561770278,236.13013217067413,235.60368722707753,236.32520517317303,235.72049953936258,236.57564374099408,237.46148231105565,236.10789988192082,235.99173937996397,235.94560019883963,235.56380265951293,235.13847752443206,234.86954381280646,236.01520439619455,236.6236020430035,235.5624661691177,236.06034600913105,235.52454093055346,236.20604798337914,235.8989260379897,236.0570530062523,234.69012692807635,235.42734372634052,235.04078297260943,235.61235089979186,235.85146498113065,235.76496773134295,235.09270459383734,235.35774746066176,236.54960192104693,235.65369384337907,234.3653179309017,234.88664647829424,234.9695928609206,235.79192853126582,236.37202486605008,236.01474936092447,235.6052540920504,235.6341088407682,235.45011809624955,235.42076260380998,237.38309059214313,234.9889012267549,235.96982203803475,236.1742883840556,235.60429545876138,234.96705478280433,235.4435596188044,235.0764456425818,237.3130008076344,235.8927656880547,235.8957786788501,236.45494983716642,235.9069119624472,235.70571430141078,235.47793789813315,235.40449673348905,234.31528099473687,236.61952338810616,234.90373624090876,234.43815297047513,235.9758177833684,234.9627017577553,235.38587621641636,235.24388791030043,235.35834250829205,235.78786001959023,237.29082495558626,234.80686051592144,235.34438877747462,235.64497091467356,235.34988927349443,235.99531679776695,235.19259771011573,235.91371391979115,235.9547337623743,236.08918826525078,235.22582821235503,235.5558501734134,237.18089028470243,236.2032930588034,236.30293336598143,235.11204227875493,235.31768292904854,236.11533509112132,236.04780967782702,235.7690608571406,235.61864752824786,236.884707527901,235.11671827232422,234.7665796581116,235.6692237103764,234.97758247853835,236.11984730706382,236.7296234523758,234.9434418606933,236.13476107928523,234.78670292176471,235.11020929725106,234.99760268915085,235.67961049034665,235.93800289392675,234.56379789977896,235.49840751128235,235.55788635508745,235.74662228459562,235.15287205111764,235.6638811573168,235.2723154960424,236.04084171986239,235.14005436133772,235.55216837926625,236.2704919659919,235.98397452719695,235.98057434648643,236.11762834927828,235.19891766014567,235.23044945632324,236.55473359699042,236.4333148518179,235.58138983724086,235.6770437797036,236.3410181378794,235.36998723685952,234.30678073900222,235.63017601604705,235.5116996506125,235.95330273887066,235.78522251773134,236.07838897092924,235.13199198165518],\"type\":\"scatter\",\"xaxis\":\"x\",\"yaxis\":\"y\"},{\"marker\":{\"color\":[0,1,2,3,4,5,6,7,8,9,10,11,12,13,14,15,16,17,18,19,20,21,22,23,24,25,26,27,28,29,30,31,32,33,34,35,36,37,38,39,40,41,42,43,44,45,46,47,48,49,50,51,52,53,54,55,56,57,58,59,60,61,62,63,64,65,66,67,68,69,70,71,72,73,74,75,76,77,78,79,80,81,82,83,84,85,86,87,88,89,90,91,92,93,94,95,96,97,98,99,100,101,102,103,104,105,106,107,108,109,110,111,112,113,114,115,116,117,118,119,120,121,122,123,124,125,126,127,128,129,130,131,132,133,134,135,136,137,138,139,140,141,142,143,144,145,146,147,148,149,150,151,152,153,154,155,156,157,158,159,160,161,162,163,164,165,166,167,168,169,170,171,172,173,174,175,176,177,178,179,180,181,182,183,184,185,186,187,188,189,190,191,192,193,194,195,196,197,198,199],\"colorbar\":{\"title\":{\"text\":\"Trial\"},\"x\":1.0,\"xpad\":40},\"colorscale\":[[0.0,\"rgb(247,251,255)\"],[0.125,\"rgb(222,235,247)\"],[0.25,\"rgb(198,219,239)\"],[0.375,\"rgb(158,202,225)\"],[0.5,\"rgb(107,174,214)\"],[0.625,\"rgb(66,146,198)\"],[0.75,\"rgb(33,113,181)\"],[0.875,\"rgb(8,81,156)\"],[1.0,\"rgb(8,48,107)\"]],\"line\":{\"color\":\"Grey\",\"width\":0.5},\"showscale\":false},\"mode\":\"markers\",\"showlegend\":false,\"x\":[0.19578897201213002,0.70989362574059,0.39656750817710085,0.06750312521595925,0.17134364197119656,0.21941976179005757,0.015998881492631498,0.016624564693643644,0.015566709318481201,0.017393745944806985,0.08252107415938004,0.07815734384464,0.045633217357811416,0.040737968063305305,0.1529220407506137,0.047559629409628185,0.13210830891978242,0.0310126106429662,0.11668351840179578,0.2582871168920084,0.1023521311292633,0.1343243572313044,0.3025379820560162,0.1442233766053911,0.053198645348470325,0.02945350423286838,0.0849881040071979,0.17612756579151906,0.10120622622408634,0.06202766830060309,0.10603692943911319,0.061477585565174256,0.0627218569861772,0.18665268890575423,0.09468446613394528,0.6314531807446231,0.7877627834111007,0.5166029648484202,0.6477692886767676,0.5768765211947031,0.4651994696603268,0.9915981145945189,0.36245838522129414,0.2502286185172951,0.4572983613718482,0.34541248265168645,0.2085460377072825,0.5389345170821803,0.7388983006626217,0.4093342355851561,0.45087375864532286,0.29340499169955114,0.38001033123800787,0.17057784266829054,0.07777499993972242,0.07320556160713743,0.11322778510258653,0.08291624387901819,0.22576802160996834,0.5572113108572773,0.126174254100528,0.1505126828072653,0.07428300208013808,0.09857924927485572,0.06659042740363115,0.05405425704605733,0.0664714311479451,0.04141041094570072,0.09080835338941673,0.07833303490161096,0.12682524219523472,0.09294737554401743,0.08738338112482244,0.05701816628918534,0.06888683148808972,0.05015103691793913,0.09899080921037137,0.06193446995939999,0.11805533075374525,0.04515170750894194,0.036674601848762665,0.036715826491327326,0.04005353473204588,0.02391595665817192,0.03499707335520646,0.05685349343711253,0.04953862243009979,0.06662398765167717,0.6290566709890986,0.4260519193990437,0.028763819244545484,0.025851016213443764,0.025451147469958513,0.02513745297158016,0.033324707093159364,0.026955497778317045,0.021897976434116936,0.021814793129567342,0.02151771176288619,0.02185956535820035,0.0189496047447567,0.01873325752171942,0.017811475581290204,0.018729948855793432,0.015446569277888464,0.014378147388052733,0.018400733521501126,0.028781083471757226,0.013023781993240115,0.029140278455179885,0.03199006856278138,0.01947884673045323,0.019781878425960797,0.017077914914111536,0.023798460827929125,0.01645561247612155,0.01654104667487885,0.020358948841575214,0.02050194361548721,0.019062879806970738,0.0181215524448023,0.022953674203709588,0.020138971791654418,0.02548771472718914,0.017018228483669164,0.027508535636566116,0.015431669799012589,0.015057563236687794,0.013556245041050114,0.010856385771312057,0.010173831481789701,0.013530169258906627,0.013697804704666519,0.012391259308609388,0.015582727723129368,0.016416689694949298,0.012309184499866519,0.018055244529156605,0.014202121961551139,0.017124211840916587,0.011199063147690485,0.01513098761795304,0.013703980705399478,0.018610100164297524,0.01995164231628457,0.01598523619480129,0.01157428032890519,0.013768324434789026,0.01775195537752298,0.023110458221018575,0.020599542008835844,0.023567226426266623,0.03044764371601208,0.022339607834582376,0.014690032813216581,0.01881845546178387,0.02593158561594079,0.02129401853853333,0.017055205533191845,0.013243544006830765,0.012950834629266727,0.015782325977123077,0.01566361485174779,0.011352702129277734,0.0124770885382549,0.01293363469633302,0.014724732539526449,0.010216100548077428,0.01437372019653684,0.012092860523963569,0.012644873571500912,0.014567261652206178,0.01545070556270015,0.013629215728922475,0.01124721142426725,0.017478026095170945,0.014408752465286763,0.016299329490027235,0.013333238347762521,0.015022301915358973,0.011819667047409214,0.014257607344192201,0.01823712940261984,0.01620567683480643,0.010604774823776973,0.01232324465216323,0.013329607049699767,0.019195703627113574,0.014678657591428203,0.010638795605564254,0.016553277323256867,0.017661601586988197,0.014203025499527492,0.012265096895607893,0.011904767281777955,0.01124511445846513,0.010018607497710523,0.012880666148786048,0.015221003375386285,0.01593624135698739],\"y\":[236.3953978396676,237.08390346573412,237.41216752547192,236.89405915464317,235.6009181590289,236.56553064240038,236.123526792667,236.14758156608585,236.57602513147754,236.3942096446911,235.91394457126538,236.1528459013989,235.68553113118287,237.3899085824166,237.27354021337538,236.23688167002803,235.69945903444273,237.39336158750473,236.40222841349112,236.78755514565904,236.01696839322625,236.51771269205193,236.46668748000158,235.8282290356868,236.80326152629874,236.79136994999135,235.90044337473424,236.4145270822498,235.48753634958118,235.17709720588138,237.04358990522704,237.03928275892304,236.14949159391298,236.7165691174425,235.9156451443252,235.25408281519756,237.14692436780257,234.41296880280794,235.77178891481037,235.7636199741035,235.96420144650077,236.3488006042655,236.2303634996909,236.41806652730392,236.50509414661113,236.5996424821209,236.41350581202397,235.90928319731995,235.83556200694437,235.47594377980306,237.467489597021,236.38619844127527,235.9797432700678,235.86569925835084,235.45446832223047,235.95720213340545,235.62609790340434,237.1700300408721,236.78905592040462,235.77190767166238,237.05331148402425,236.55078168235704,236.07574688343587,236.02754664417515,235.3316030258016,235.95594350095516,236.25280138451686,236.43656581331376,235.59451295673952,236.2082561770278,236.13013217067413,235.60368722707753,236.32520517317303,235.72049953936258,236.57564374099408,237.46148231105565,236.10789988192082,235.99173937996397,235.94560019883963,235.56380265951293,235.13847752443206,234.86954381280646,236.01520439619455,236.6236020430035,235.5624661691177,236.06034600913105,235.52454093055346,236.20604798337914,235.8989260379897,236.0570530062523,234.69012692807635,235.42734372634052,235.04078297260943,235.61235089979186,235.85146498113065,235.76496773134295,235.09270459383734,235.35774746066176,236.54960192104693,235.65369384337907,234.3653179309017,234.88664647829424,234.9695928609206,235.79192853126582,236.37202486605008,236.01474936092447,235.6052540920504,235.6341088407682,235.45011809624955,235.42076260380998,237.38309059214313,234.9889012267549,235.96982203803475,236.1742883840556,235.60429545876138,234.96705478280433,235.4435596188044,235.0764456425818,237.3130008076344,235.8927656880547,235.8957786788501,236.45494983716642,235.9069119624472,235.70571430141078,235.47793789813315,235.40449673348905,234.31528099473687,236.61952338810616,234.90373624090876,234.43815297047513,235.9758177833684,234.9627017577553,235.38587621641636,235.24388791030043,235.35834250829205,235.78786001959023,237.29082495558626,234.80686051592144,235.34438877747462,235.64497091467356,235.34988927349443,235.99531679776695,235.19259771011573,235.91371391979115,235.9547337623743,236.08918826525078,235.22582821235503,235.5558501734134,237.18089028470243,236.2032930588034,236.30293336598143,235.11204227875493,235.31768292904854,236.11533509112132,236.04780967782702,235.7690608571406,235.61864752824786,236.884707527901,235.11671827232422,234.7665796581116,235.6692237103764,234.97758247853835,236.11984730706382,236.7296234523758,234.9434418606933,236.13476107928523,234.78670292176471,235.11020929725106,234.99760268915085,235.67961049034665,235.93800289392675,234.56379789977896,235.49840751128235,235.55788635508745,235.74662228459562,235.15287205111764,235.6638811573168,235.2723154960424,236.04084171986239,235.14005436133772,235.55216837926625,236.2704919659919,235.98397452719695,235.98057434648643,236.11762834927828,235.19891766014567,235.23044945632324,236.55473359699042,236.4333148518179,235.58138983724086,235.6770437797036,236.3410181378794,235.36998723685952,234.30678073900222,235.63017601604705,235.5116996506125,235.95330273887066,235.78522251773134,236.07838897092924,235.13199198165518],\"type\":\"scatter\",\"xaxis\":\"x2\",\"yaxis\":\"y2\"}],                        {\"template\":{\"data\":{\"histogram2dcontour\":[{\"type\":\"histogram2dcontour\",\"colorbar\":{\"outlinewidth\":0,\"ticks\":\"\"},\"colorscale\":[[0.0,\"#0d0887\"],[0.1111111111111111,\"#46039f\"],[0.2222222222222222,\"#7201a8\"],[0.3333333333333333,\"#9c179e\"],[0.4444444444444444,\"#bd3786\"],[0.5555555555555556,\"#d8576b\"],[0.6666666666666666,\"#ed7953\"],[0.7777777777777778,\"#fb9f3a\"],[0.8888888888888888,\"#fdca26\"],[1.0,\"#f0f921\"]]}],\"choropleth\":[{\"type\":\"choropleth\",\"colorbar\":{\"outlinewidth\":0,\"ticks\":\"\"}}],\"histogram2d\":[{\"type\":\"histogram2d\",\"colorbar\":{\"outlinewidth\":0,\"ticks\":\"\"},\"colorscale\":[[0.0,\"#0d0887\"],[0.1111111111111111,\"#46039f\"],[0.2222222222222222,\"#7201a8\"],[0.3333333333333333,\"#9c179e\"],[0.4444444444444444,\"#bd3786\"],[0.5555555555555556,\"#d8576b\"],[0.6666666666666666,\"#ed7953\"],[0.7777777777777778,\"#fb9f3a\"],[0.8888888888888888,\"#fdca26\"],[1.0,\"#f0f921\"]]}],\"heatmap\":[{\"type\":\"heatmap\",\"colorbar\":{\"outlinewidth\":0,\"ticks\":\"\"},\"colorscale\":[[0.0,\"#0d0887\"],[0.1111111111111111,\"#46039f\"],[0.2222222222222222,\"#7201a8\"],[0.3333333333333333,\"#9c179e\"],[0.4444444444444444,\"#bd3786\"],[0.5555555555555556,\"#d8576b\"],[0.6666666666666666,\"#ed7953\"],[0.7777777777777778,\"#fb9f3a\"],[0.8888888888888888,\"#fdca26\"],[1.0,\"#f0f921\"]]}],\"heatmapgl\":[{\"type\":\"heatmapgl\",\"colorbar\":{\"outlinewidth\":0,\"ticks\":\"\"},\"colorscale\":[[0.0,\"#0d0887\"],[0.1111111111111111,\"#46039f\"],[0.2222222222222222,\"#7201a8\"],[0.3333333333333333,\"#9c179e\"],[0.4444444444444444,\"#bd3786\"],[0.5555555555555556,\"#d8576b\"],[0.6666666666666666,\"#ed7953\"],[0.7777777777777778,\"#fb9f3a\"],[0.8888888888888888,\"#fdca26\"],[1.0,\"#f0f921\"]]}],\"contourcarpet\":[{\"type\":\"contourcarpet\",\"colorbar\":{\"outlinewidth\":0,\"ticks\":\"\"}}],\"contour\":[{\"type\":\"contour\",\"colorbar\":{\"outlinewidth\":0,\"ticks\":\"\"},\"colorscale\":[[0.0,\"#0d0887\"],[0.1111111111111111,\"#46039f\"],[0.2222222222222222,\"#7201a8\"],[0.3333333333333333,\"#9c179e\"],[0.4444444444444444,\"#bd3786\"],[0.5555555555555556,\"#d8576b\"],[0.6666666666666666,\"#ed7953\"],[0.7777777777777778,\"#fb9f3a\"],[0.8888888888888888,\"#fdca26\"],[1.0,\"#f0f921\"]]}],\"surface\":[{\"type\":\"surface\",\"colorbar\":{\"outlinewidth\":0,\"ticks\":\"\"},\"colorscale\":[[0.0,\"#0d0887\"],[0.1111111111111111,\"#46039f\"],[0.2222222222222222,\"#7201a8\"],[0.3333333333333333,\"#9c179e\"],[0.4444444444444444,\"#bd3786\"],[0.5555555555555556,\"#d8576b\"],[0.6666666666666666,\"#ed7953\"],[0.7777777777777778,\"#fb9f3a\"],[0.8888888888888888,\"#fdca26\"],[1.0,\"#f0f921\"]]}],\"mesh3d\":[{\"type\":\"mesh3d\",\"colorbar\":{\"outlinewidth\":0,\"ticks\":\"\"}}],\"scatter\":[{\"fillpattern\":{\"fillmode\":\"overlay\",\"size\":10,\"solidity\":0.2},\"type\":\"scatter\"}],\"parcoords\":[{\"type\":\"parcoords\",\"line\":{\"colorbar\":{\"outlinewidth\":0,\"ticks\":\"\"}}}],\"scatterpolargl\":[{\"type\":\"scatterpolargl\",\"marker\":{\"colorbar\":{\"outlinewidth\":0,\"ticks\":\"\"}}}],\"bar\":[{\"error_x\":{\"color\":\"#2a3f5f\"},\"error_y\":{\"color\":\"#2a3f5f\"},\"marker\":{\"line\":{\"color\":\"#E5ECF6\",\"width\":0.5},\"pattern\":{\"fillmode\":\"overlay\",\"size\":10,\"solidity\":0.2}},\"type\":\"bar\"}],\"scattergeo\":[{\"type\":\"scattergeo\",\"marker\":{\"colorbar\":{\"outlinewidth\":0,\"ticks\":\"\"}}}],\"scatterpolar\":[{\"type\":\"scatterpolar\",\"marker\":{\"colorbar\":{\"outlinewidth\":0,\"ticks\":\"\"}}}],\"histogram\":[{\"marker\":{\"pattern\":{\"fillmode\":\"overlay\",\"size\":10,\"solidity\":0.2}},\"type\":\"histogram\"}],\"scattergl\":[{\"type\":\"scattergl\",\"marker\":{\"colorbar\":{\"outlinewidth\":0,\"ticks\":\"\"}}}],\"scatter3d\":[{\"type\":\"scatter3d\",\"line\":{\"colorbar\":{\"outlinewidth\":0,\"ticks\":\"\"}},\"marker\":{\"colorbar\":{\"outlinewidth\":0,\"ticks\":\"\"}}}],\"scattermapbox\":[{\"type\":\"scattermapbox\",\"marker\":{\"colorbar\":{\"outlinewidth\":0,\"ticks\":\"\"}}}],\"scatterternary\":[{\"type\":\"scatterternary\",\"marker\":{\"colorbar\":{\"outlinewidth\":0,\"ticks\":\"\"}}}],\"scattercarpet\":[{\"type\":\"scattercarpet\",\"marker\":{\"colorbar\":{\"outlinewidth\":0,\"ticks\":\"\"}}}],\"carpet\":[{\"aaxis\":{\"endlinecolor\":\"#2a3f5f\",\"gridcolor\":\"white\",\"linecolor\":\"white\",\"minorgridcolor\":\"white\",\"startlinecolor\":\"#2a3f5f\"},\"baxis\":{\"endlinecolor\":\"#2a3f5f\",\"gridcolor\":\"white\",\"linecolor\":\"white\",\"minorgridcolor\":\"white\",\"startlinecolor\":\"#2a3f5f\"},\"type\":\"carpet\"}],\"table\":[{\"cells\":{\"fill\":{\"color\":\"#EBF0F8\"},\"line\":{\"color\":\"white\"}},\"header\":{\"fill\":{\"color\":\"#C8D4E3\"},\"line\":{\"color\":\"white\"}},\"type\":\"table\"}],\"barpolar\":[{\"marker\":{\"line\":{\"color\":\"#E5ECF6\",\"width\":0.5},\"pattern\":{\"fillmode\":\"overlay\",\"size\":10,\"solidity\":0.2}},\"type\":\"barpolar\"}],\"pie\":[{\"automargin\":true,\"type\":\"pie\"}]},\"layout\":{\"autotypenumbers\":\"strict\",\"colorway\":[\"#636efa\",\"#EF553B\",\"#00cc96\",\"#ab63fa\",\"#FFA15A\",\"#19d3f3\",\"#FF6692\",\"#B6E880\",\"#FF97FF\",\"#FECB52\"],\"font\":{\"color\":\"#2a3f5f\"},\"hovermode\":\"closest\",\"hoverlabel\":{\"align\":\"left\"},\"paper_bgcolor\":\"white\",\"plot_bgcolor\":\"#E5ECF6\",\"polar\":{\"bgcolor\":\"#E5ECF6\",\"angularaxis\":{\"gridcolor\":\"white\",\"linecolor\":\"white\",\"ticks\":\"\"},\"radialaxis\":{\"gridcolor\":\"white\",\"linecolor\":\"white\",\"ticks\":\"\"}},\"ternary\":{\"bgcolor\":\"#E5ECF6\",\"aaxis\":{\"gridcolor\":\"white\",\"linecolor\":\"white\",\"ticks\":\"\"},\"baxis\":{\"gridcolor\":\"white\",\"linecolor\":\"white\",\"ticks\":\"\"},\"caxis\":{\"gridcolor\":\"white\",\"linecolor\":\"white\",\"ticks\":\"\"}},\"coloraxis\":{\"colorbar\":{\"outlinewidth\":0,\"ticks\":\"\"}},\"colorscale\":{\"sequential\":[[0.0,\"#0d0887\"],[0.1111111111111111,\"#46039f\"],[0.2222222222222222,\"#7201a8\"],[0.3333333333333333,\"#9c179e\"],[0.4444444444444444,\"#bd3786\"],[0.5555555555555556,\"#d8576b\"],[0.6666666666666666,\"#ed7953\"],[0.7777777777777778,\"#fb9f3a\"],[0.8888888888888888,\"#fdca26\"],[1.0,\"#f0f921\"]],\"sequentialminus\":[[0.0,\"#0d0887\"],[0.1111111111111111,\"#46039f\"],[0.2222222222222222,\"#7201a8\"],[0.3333333333333333,\"#9c179e\"],[0.4444444444444444,\"#bd3786\"],[0.5555555555555556,\"#d8576b\"],[0.6666666666666666,\"#ed7953\"],[0.7777777777777778,\"#fb9f3a\"],[0.8888888888888888,\"#fdca26\"],[1.0,\"#f0f921\"]],\"diverging\":[[0,\"#8e0152\"],[0.1,\"#c51b7d\"],[0.2,\"#de77ae\"],[0.3,\"#f1b6da\"],[0.4,\"#fde0ef\"],[0.5,\"#f7f7f7\"],[0.6,\"#e6f5d0\"],[0.7,\"#b8e186\"],[0.8,\"#7fbc41\"],[0.9,\"#4d9221\"],[1,\"#276419\"]]},\"xaxis\":{\"gridcolor\":\"white\",\"linecolor\":\"white\",\"ticks\":\"\",\"title\":{\"standoff\":15},\"zerolinecolor\":\"white\",\"automargin\":true,\"zerolinewidth\":2},\"yaxis\":{\"gridcolor\":\"white\",\"linecolor\":\"white\",\"ticks\":\"\",\"title\":{\"standoff\":15},\"zerolinecolor\":\"white\",\"automargin\":true,\"zerolinewidth\":2},\"scene\":{\"xaxis\":{\"backgroundcolor\":\"#E5ECF6\",\"gridcolor\":\"white\",\"linecolor\":\"white\",\"showbackground\":true,\"ticks\":\"\",\"zerolinecolor\":\"white\",\"gridwidth\":2},\"yaxis\":{\"backgroundcolor\":\"#E5ECF6\",\"gridcolor\":\"white\",\"linecolor\":\"white\",\"showbackground\":true,\"ticks\":\"\",\"zerolinecolor\":\"white\",\"gridwidth\":2},\"zaxis\":{\"backgroundcolor\":\"#E5ECF6\",\"gridcolor\":\"white\",\"linecolor\":\"white\",\"showbackground\":true,\"ticks\":\"\",\"zerolinecolor\":\"white\",\"gridwidth\":2}},\"shapedefaults\":{\"line\":{\"color\":\"#2a3f5f\"}},\"annotationdefaults\":{\"arrowcolor\":\"#2a3f5f\",\"arrowhead\":0,\"arrowwidth\":1},\"geo\":{\"bgcolor\":\"white\",\"landcolor\":\"#E5ECF6\",\"subunitcolor\":\"white\",\"showland\":true,\"showlakes\":true,\"lakecolor\":\"white\"},\"title\":{\"x\":0.05},\"mapbox\":{\"style\":\"light\"}}},\"xaxis\":{\"anchor\":\"y\",\"domain\":[0.0,0.45],\"title\":{\"text\":\"max_bin\"}},\"yaxis\":{\"anchor\":\"x\",\"domain\":[0.0,1.0],\"title\":{\"text\":\"Objective Value\"}},\"xaxis2\":{\"anchor\":\"y2\",\"domain\":[0.55,1.0],\"title\":{\"text\":\"min_gain_to_split\"},\"type\":\"log\"},\"yaxis2\":{\"anchor\":\"x2\",\"domain\":[0.0,1.0],\"matches\":\"y\",\"showticklabels\":false},\"title\":{\"text\":\"Slice Plot\"}},                        {\"responsive\": true}                    ).then(function(){\n",
       "                            \n",
       "var gd = document.getElementById('ab9e4885-fb96-413f-a51f-c6c67f868710');\n",
       "var x = new MutationObserver(function (mutations, observer) {{\n",
       "        var display = window.getComputedStyle(gd).display;\n",
       "        if (!display || display === 'none') {{\n",
       "            console.log([gd, 'removed!']);\n",
       "            Plotly.purge(gd);\n",
       "            observer.disconnect();\n",
       "        }}\n",
       "}});\n",
       "\n",
       "// Listen for the removal of the full notebook cells\n",
       "var notebookContainer = gd.closest('#notebook-container');\n",
       "if (notebookContainer) {{\n",
       "    x.observe(notebookContainer, {childList: true});\n",
       "}}\n",
       "\n",
       "// Listen for the clearing of the current output cell\n",
       "var outputEl = gd.closest('.output');\n",
       "if (outputEl) {{\n",
       "    x.observe(outputEl, {childList: true});\n",
       "}}\n",
       "\n",
       "                        })                };                            </script>        </div>\n",
       "</body>\n",
       "</html>"
      ]
     },
     "metadata": {},
     "output_type": "display_data"
    }
   ],
   "source": [
    "fig = optuna.visualization.plot_slice(study, params=['max_bin', 'min_gain_to_split'])\n",
    "fig.show()"
   ]
  },
  {
   "cell_type": "code",
   "execution_count": null,
   "metadata": {
    "colab": {
     "base_uri": "https://localhost:8080/",
     "height": 542
    },
    "executionInfo": {
     "elapsed": 4,
     "status": "ok",
     "timestamp": 1685202706847,
     "user": {
      "displayName": "毛利拓也",
      "userId": "17854120745961292401"
     },
     "user_tz": -540
    },
    "id": "0sI17wh6ph3D",
    "outputId": "8b368e57-1b40-44d6-c542-72ebbd14ae60"
   },
   "outputs": [
    {
     "data": {
      "text/html": [
       "<html>\n",
       "<head><meta charset=\"utf-8\" /></head>\n",
       "<body>\n",
       "    <div>            <script src=\"https://cdnjs.cloudflare.com/ajax/libs/mathjax/2.7.5/MathJax.js?config=TeX-AMS-MML_SVG\"></script><script type=\"text/javascript\">if (window.MathJax && window.MathJax.Hub && window.MathJax.Hub.Config) {window.MathJax.Hub.Config({SVG: {font: \"STIX-Web\"}});}</script>                <script type=\"text/javascript\">window.PlotlyConfig = {MathJaxConfig: 'local'};</script>\n",
       "        <script src=\"https://cdn.plot.ly/plotly-2.18.2.min.js\"></script>                <div id=\"d2425870-9943-4e02-a124-352c56478935\" class=\"plotly-graph-div\" style=\"height:525px; width:100%;\"></div>            <script type=\"text/javascript\">                                    window.PLOTLYENV=window.PLOTLYENV || {};                                    if (document.getElementById(\"d2425870-9943-4e02-a124-352c56478935\")) {                    Plotly.newPlot(                        \"d2425870-9943-4e02-a124-352c56478935\",                        [{\"marker\":{\"color\":[0,1,2,3,4,5,6,7,8,9,10,11,12,13,14,15,16,17,18,19,20,21,22,23,24,25,26,27,28,29,30,31,32,33,34,35,36,37,38,39,40,41,42,43,44,45,46,47,48,49,50,51,52,53,54,55,56,57,58,59,60,61,62,63,64,65,66,67,68,69,70,71,72,73,74,75,76,77,78,79,80,81,82,83,84,85,86,87,88,89,90,91,92,93,94,95,96,97,98,99,100,101,102,103,104,105,106,107,108,109,110,111,112,113,114,115,116,117,118,119,120,121,122,123,124,125,126,127,128,129,130,131,132,133,134,135,136,137,138,139,140,141,142,143,144,145,146,147,148,149,150,151,152,153,154,155,156,157,158,159,160,161,162,163,164,165,166,167,168,169,170,171,172,173,174,175,176,177,178,179,180,181,182,183,184,185,186,187,188,189,190,191,192,193,194,195,196,197,198,199],\"colorbar\":{\"title\":{\"text\":\"Trial\"},\"x\":1.0,\"xpad\":40},\"colorscale\":[[0.0,\"rgb(247,251,255)\"],[0.125,\"rgb(222,235,247)\"],[0.25,\"rgb(198,219,239)\"],[0.375,\"rgb(158,202,225)\"],[0.5,\"rgb(107,174,214)\"],[0.625,\"rgb(66,146,198)\"],[0.75,\"rgb(33,113,181)\"],[0.875,\"rgb(8,81,156)\"],[1.0,\"rgb(8,48,107)\"]],\"line\":{\"color\":\"Grey\",\"width\":0.5},\"showscale\":true},\"mode\":\"markers\",\"showlegend\":false,\"x\":[0.07501954443620121,0.013869861245357327,0.08374496868436809,0.0338151426782029,0.7717846862118062,0.02634905974115613,0.02616697456085447,0.20542778286285945,0.8972612866432508,0.0391093317225106,0.5598399615905776,0.6726718629744891,0.4346927884140068,0.2798675701008754,0.3779035671373287,0.9911601661341324,0.16886809576184567,0.41501975738259267,0.5078607604949326,0.29191412719171156,0.6658789850898248,0.1896775427307254,0.15317741927382614,0.3464376079237488,0.13731223360419856,0.24733101820866787,0.44191873709606294,0.6738588062123299,0.12012106552227265,0.11323937682508285,0.11490639381431361,0.09760359563050637,0.07045093946703014,0.2328205541084547,0.3035337051127354,0.07969290948830793,0.06574975751589127,0.11716523412122254,0.116231948103089,0.09416799203307273,0.0576618838215508,0.07975804736374541,0.13639102226138564,0.19509398905005093,0.04768209949353405,0.09265434608850716,0.11532220957487231,0.08042549874109639,0.05669907497044008,0.16282888994522546,0.13169363278290963,0.1724793087872038,0.15597861907956237,0.21823841895975837,0.09496357041775656,0.10714020946773775,0.0815991590476476,0.09150557228886856,0.1295224092392249,0.17595746270698,0.1066217154876133,0.15685280941105503,0.06944528258215166,0.25181715636876933,0.21310680848617258,0.14557375086196614,0.2087151795983084,0.18388207231199716,0.1253389861561017,0.09743173015973054,0.11264217832132328,0.1260901877327898,0.14942311759207086,0.08460837208030907,0.12614073697956033,0.1685808030174543,0.10555039160411815,0.19792536076402414,0.08961138523402191,0.07187296582706294,0.06942225407139492,0.06188793359830297,0.0630037838764898,0.07639224101332698,0.10000839954777639,0.04877770772704963,0.08406745660260703,0.07297835658565534,0.06454517495140112,0.10087553038646979,0.1436826287440217,0.1421817167024058,0.13881728886842962,0.13980713470050982,0.1456634542532695,0.11605674531909461,0.09077884304347525,0.0862865418212511,0.0849791277869136,0.058728534259476745,0.1073434059557852,0.10721074103435371,0.11026961773997762,0.10873770802825013,0.1180254134457969,0.07739991195557275,0.09434099413094078,0.10497220913656995,0.1323583199441346,0.11970219946353972,0.07675703801296795,0.15706634378845358,0.15492584217199187,0.09073522189043605,0.10857662247300072,0.1308828729114026,0.16987660247892733,0.13263790712507936,0.13564753305355792,0.1260004969997743,0.1558701509736687,0.17690178028964126,0.10188670528024457,0.11570131414451651,0.13692960422783468,0.12308016029781474,0.19436911150369224,0.19050651268838825,0.1557033646236086,0.1597280782737156,0.16244273750307398,0.14714381328528875,0.18520649631425182,0.1571924901755162,0.1447260841107211,0.2306129817712219,0.1741488422441376,0.20066843375037238,0.19406355638575562,0.20927379933516685,0.14836433459345022,0.1281250577572384,0.1408213760554385,0.1670692605737401,0.1795286894951943,0.1318730725350629,0.2526753784535592,0.15457925693863242,0.1950805391748018,0.1116238872717833,0.12283945086878241,0.09952743886524955,0.14328043167155444,0.16851559589671156,0.13382739086750794,0.10916321773539835,0.20917402447414538,0.15130740414243346,0.12145019772899988,0.09214679490015242,0.16277762691450326,0.09388239546681033,0.09573087335456296,0.1033045289533138,0.11686941057000942,0.11783455100903796,0.11158117427210808,0.08577514001408437,0.10728002691860915,0.09330094022974067,0.1169558690937859,0.10432710272459055,0.10322536897163152,0.08986819885369488,0.08295700814550322,0.11374099939393448,0.12692295418955693,0.09820563038382986,0.07736770472640092,0.18295276343236797,0.13972901297388135,0.10921965206651452,0.10678178283850732,0.09987921436796471,0.12369691657636755,0.11419217313440787,0.09000125106589038,0.15166016530996548,0.12930143609399156,0.041547770916459704,0.22361969224238695,0.14406684599256117,0.13489190835905135,0.16090519318037727,0.17274531155626843,0.1607205410915235,0.11102519042452533,0.09873118596021105,0.19464647809344163,0.11948842448395215],\"y\":[236.3953978396676,237.08390346573412,237.41216752547192,236.89405915464317,235.6009181590289,236.56553064240038,236.123526792667,236.14758156608585,236.57602513147754,236.3942096446911,235.91394457126538,236.1528459013989,235.68553113118287,237.3899085824166,237.27354021337538,236.23688167002803,235.69945903444273,237.39336158750473,236.40222841349112,236.78755514565904,236.01696839322625,236.51771269205193,236.46668748000158,235.8282290356868,236.80326152629874,236.79136994999135,235.90044337473424,236.4145270822498,235.48753634958118,235.17709720588138,237.04358990522704,237.03928275892304,236.14949159391298,236.7165691174425,235.9156451443252,235.25408281519756,237.14692436780257,234.41296880280794,235.77178891481037,235.7636199741035,235.96420144650077,236.3488006042655,236.2303634996909,236.41806652730392,236.50509414661113,236.5996424821209,236.41350581202397,235.90928319731995,235.83556200694437,235.47594377980306,237.467489597021,236.38619844127527,235.9797432700678,235.86569925835084,235.45446832223047,235.95720213340545,235.62609790340434,237.1700300408721,236.78905592040462,235.77190767166238,237.05331148402425,236.55078168235704,236.07574688343587,236.02754664417515,235.3316030258016,235.95594350095516,236.25280138451686,236.43656581331376,235.59451295673952,236.2082561770278,236.13013217067413,235.60368722707753,236.32520517317303,235.72049953936258,236.57564374099408,237.46148231105565,236.10789988192082,235.99173937996397,235.94560019883963,235.56380265951293,235.13847752443206,234.86954381280646,236.01520439619455,236.6236020430035,235.5624661691177,236.06034600913105,235.52454093055346,236.20604798337914,235.8989260379897,236.0570530062523,234.69012692807635,235.42734372634052,235.04078297260943,235.61235089979186,235.85146498113065,235.76496773134295,235.09270459383734,235.35774746066176,236.54960192104693,235.65369384337907,234.3653179309017,234.88664647829424,234.9695928609206,235.79192853126582,236.37202486605008,236.01474936092447,235.6052540920504,235.6341088407682,235.45011809624955,235.42076260380998,237.38309059214313,234.9889012267549,235.96982203803475,236.1742883840556,235.60429545876138,234.96705478280433,235.4435596188044,235.0764456425818,237.3130008076344,235.8927656880547,235.8957786788501,236.45494983716642,235.9069119624472,235.70571430141078,235.47793789813315,235.40449673348905,234.31528099473687,236.61952338810616,234.90373624090876,234.43815297047513,235.9758177833684,234.9627017577553,235.38587621641636,235.24388791030043,235.35834250829205,235.78786001959023,237.29082495558626,234.80686051592144,235.34438877747462,235.64497091467356,235.34988927349443,235.99531679776695,235.19259771011573,235.91371391979115,235.9547337623743,236.08918826525078,235.22582821235503,235.5558501734134,237.18089028470243,236.2032930588034,236.30293336598143,235.11204227875493,235.31768292904854,236.11533509112132,236.04780967782702,235.7690608571406,235.61864752824786,236.884707527901,235.11671827232422,234.7665796581116,235.6692237103764,234.97758247853835,236.11984730706382,236.7296234523758,234.9434418606933,236.13476107928523,234.78670292176471,235.11020929725106,234.99760268915085,235.67961049034665,235.93800289392675,234.56379789977896,235.49840751128235,235.55788635508745,235.74662228459562,235.15287205111764,235.6638811573168,235.2723154960424,236.04084171986239,235.14005436133772,235.55216837926625,236.2704919659919,235.98397452719695,235.98057434648643,236.11762834927828,235.19891766014567,235.23044945632324,236.55473359699042,236.4333148518179,235.58138983724086,235.6770437797036,236.3410181378794,235.36998723685952,234.30678073900222,235.63017601604705,235.5116996506125,235.95330273887066,235.78522251773134,236.07838897092924,235.13199198165518],\"type\":\"scatter\",\"xaxis\":\"x\",\"yaxis\":\"y\"},{\"marker\":{\"color\":[0,1,2,3,4,5,6,7,8,9,10,11,12,13,14,15,16,17,18,19,20,21,22,23,24,25,26,27,28,29,30,31,32,33,34,35,36,37,38,39,40,41,42,43,44,45,46,47,48,49,50,51,52,53,54,55,56,57,58,59,60,61,62,63,64,65,66,67,68,69,70,71,72,73,74,75,76,77,78,79,80,81,82,83,84,85,86,87,88,89,90,91,92,93,94,95,96,97,98,99,100,101,102,103,104,105,106,107,108,109,110,111,112,113,114,115,116,117,118,119,120,121,122,123,124,125,126,127,128,129,130,131,132,133,134,135,136,137,138,139,140,141,142,143,144,145,146,147,148,149,150,151,152,153,154,155,156,157,158,159,160,161,162,163,164,165,166,167,168,169,170,171,172,173,174,175,176,177,178,179,180,181,182,183,184,185,186,187,188,189,190,191,192,193,194,195,196,197,198,199],\"colorbar\":{\"title\":{\"text\":\"Trial\"},\"x\":1.0,\"xpad\":40},\"colorscale\":[[0.0,\"rgb(247,251,255)\"],[0.125,\"rgb(222,235,247)\"],[0.25,\"rgb(198,219,239)\"],[0.375,\"rgb(158,202,225)\"],[0.5,\"rgb(107,174,214)\"],[0.625,\"rgb(66,146,198)\"],[0.75,\"rgb(33,113,181)\"],[0.875,\"rgb(8,81,156)\"],[1.0,\"rgb(8,48,107)\"]],\"line\":{\"color\":\"Grey\",\"width\":0.5},\"showscale\":false},\"mode\":\"markers\",\"showlegend\":false,\"x\":[0.6074996073425692,0.014936835544198456,0.3639639356786389,0.35356346291488117,0.23101522250182369,0.01810725406663109,0.021019338091154416,0.018895826938026012,0.08655704137361815,0.0172764870082179,0.12445301121282816,0.12802682779428146,0.1445025316423963,0.19571069755873455,0.05278815998892529,0.8246121758434628,0.2003439108428562,0.061190967368831166,0.27006978718199,0.5619894231929886,0.19984603613947474,0.1776719474424689,0.3182464855865804,0.09348377646353946,0.22790001981641927,0.15072430857308144,0.25732798689552966,0.1497631262722014,0.44296903607547156,0.48825038707469653,0.5601482210847503,0.41719596274031034,0.8213731940518559,0.441702166310134,0.326950323258154,0.47271904824597616,0.47323588742168954,0.6797911192146948,0.994266076117514,0.6571573911930445,0.36207209227152304,0.49307358133880086,0.6518136552864724,0.4176618580039829,0.30815619635586944,0.3700656839447752,0.552392870644522,0.7244510441752132,0.46755385021838786,0.9937991051754348,0.8104578800922081,0.631766518418124,0.9371617585383798,0.7484823361616656,0.5464224327017554,0.954463804014921,0.6111254672582065,0.5339734343409654,0.7073882845096596,0.8261862580691814,0.38265187922347993,0.5312087770365671,0.2786834323115021,0.4104262342704583,0.6112076575933905,0.6127672864478076,0.46106663285046595,0.715797716706045,0.5085727912650996,0.583558979719748,0.8866496528058796,0.4845251257110983,0.7539901311424566,0.5278139476408781,0.9989930058777192,0.3446764221836932,0.6701163457564199,0.4251607847230794,0.826105128426872,0.5977224599703806,0.5916708209829082,0.6134105147082113,0.6285616689557156,0.8517395050867785,0.7011549504915408,0.386338517135062,0.47980310935498627,0.5684407556505198,0.7742472204704067,0.8869235618812175,0.42101903328213924,0.4483748109313516,0.6645850010332645,0.534940468966033,0.4442312192163529,0.34345065281511944,0.650668869861866,0.6491017159532547,0.6682676793731975,0.7571727543842045,0.6591894323328803,0.6389530878302974,0.5045163366565252,0.49688873205926665,0.567532146878547,0.7031296910867809,0.38467094684023906,0.5786906724894164,0.5020396846583386,0.7775444966494808,0.6741088006339195,0.6205534036321724,0.6363224628265582,0.417946285904901,0.9011598052018871,0.5864846360927767,0.7878205502710935,0.5890958716793793,0.5866814863376774,0.7385895176669159,0.5367952243529571,0.6810034059320115,0.5976808418265518,0.504405243234627,0.6293349396189558,0.8315611452747934,0.4700522911962741,0.7116505873087976,0.45502687625533705,0.46388797535736187,0.40399369444009064,0.44661193694390894,0.44154717448237146,0.47852412609306094,0.37069027161320917,0.3089584060221835,0.5283006656837023,0.44468015702484,0.3999661785080078,0.35285898899604984,0.4663707393124525,0.5415259468549997,0.4596801911611989,0.3292357986216379,0.42547016112302527,0.5115739055094712,0.5676012590963402,0.42631228885796907,0.27014234846071494,0.36362765480808684,0.6336694472332907,0.6678024117843291,0.5635571701816229,0.5003878634139068,0.7334651243415429,0.6293487639018692,0.4632558936293684,0.2258150185179562,0.5944265909906549,0.5419745286827817,0.528620032012783,0.6999744058185422,0.7875147987982278,0.7062262963927914,0.5832978169014995,0.8793141893882548,0.39835534516715243,0.42577997056487316,0.3860975554351688,0.2985975629454291,0.5060636025492122,0.3813482339325881,0.4039069929761203,0.47580083757564284,0.34000881897753527,0.45158784932221485,0.5423758938726894,0.37635065571881765,0.49113629959195476,0.43588833317479386,0.5652236886990557,0.37903929251746427,0.39257541051358796,0.16391963910512802,0.10495512964448095,0.34322136111932283,0.4124271947633905,0.607197451199167,0.46978924585182663,0.3010861970496422,0.513920427755755,0.6648106468318546,0.7055689871062533,0.5600789957105483,0.5486757402096633,0.6024975386040003,0.4385362582498008,0.49466881433659615,0.37578398411620556,0.5498961652435753],\"y\":[236.3953978396676,237.08390346573412,237.41216752547192,236.89405915464317,235.6009181590289,236.56553064240038,236.123526792667,236.14758156608585,236.57602513147754,236.3942096446911,235.91394457126538,236.1528459013989,235.68553113118287,237.3899085824166,237.27354021337538,236.23688167002803,235.69945903444273,237.39336158750473,236.40222841349112,236.78755514565904,236.01696839322625,236.51771269205193,236.46668748000158,235.8282290356868,236.80326152629874,236.79136994999135,235.90044337473424,236.4145270822498,235.48753634958118,235.17709720588138,237.04358990522704,237.03928275892304,236.14949159391298,236.7165691174425,235.9156451443252,235.25408281519756,237.14692436780257,234.41296880280794,235.77178891481037,235.7636199741035,235.96420144650077,236.3488006042655,236.2303634996909,236.41806652730392,236.50509414661113,236.5996424821209,236.41350581202397,235.90928319731995,235.83556200694437,235.47594377980306,237.467489597021,236.38619844127527,235.9797432700678,235.86569925835084,235.45446832223047,235.95720213340545,235.62609790340434,237.1700300408721,236.78905592040462,235.77190767166238,237.05331148402425,236.55078168235704,236.07574688343587,236.02754664417515,235.3316030258016,235.95594350095516,236.25280138451686,236.43656581331376,235.59451295673952,236.2082561770278,236.13013217067413,235.60368722707753,236.32520517317303,235.72049953936258,236.57564374099408,237.46148231105565,236.10789988192082,235.99173937996397,235.94560019883963,235.56380265951293,235.13847752443206,234.86954381280646,236.01520439619455,236.6236020430035,235.5624661691177,236.06034600913105,235.52454093055346,236.20604798337914,235.8989260379897,236.0570530062523,234.69012692807635,235.42734372634052,235.04078297260943,235.61235089979186,235.85146498113065,235.76496773134295,235.09270459383734,235.35774746066176,236.54960192104693,235.65369384337907,234.3653179309017,234.88664647829424,234.9695928609206,235.79192853126582,236.37202486605008,236.01474936092447,235.6052540920504,235.6341088407682,235.45011809624955,235.42076260380998,237.38309059214313,234.9889012267549,235.96982203803475,236.1742883840556,235.60429545876138,234.96705478280433,235.4435596188044,235.0764456425818,237.3130008076344,235.8927656880547,235.8957786788501,236.45494983716642,235.9069119624472,235.70571430141078,235.47793789813315,235.40449673348905,234.31528099473687,236.61952338810616,234.90373624090876,234.43815297047513,235.9758177833684,234.9627017577553,235.38587621641636,235.24388791030043,235.35834250829205,235.78786001959023,237.29082495558626,234.80686051592144,235.34438877747462,235.64497091467356,235.34988927349443,235.99531679776695,235.19259771011573,235.91371391979115,235.9547337623743,236.08918826525078,235.22582821235503,235.5558501734134,237.18089028470243,236.2032930588034,236.30293336598143,235.11204227875493,235.31768292904854,236.11533509112132,236.04780967782702,235.7690608571406,235.61864752824786,236.884707527901,235.11671827232422,234.7665796581116,235.6692237103764,234.97758247853835,236.11984730706382,236.7296234523758,234.9434418606933,236.13476107928523,234.78670292176471,235.11020929725106,234.99760268915085,235.67961049034665,235.93800289392675,234.56379789977896,235.49840751128235,235.55788635508745,235.74662228459562,235.15287205111764,235.6638811573168,235.2723154960424,236.04084171986239,235.14005436133772,235.55216837926625,236.2704919659919,235.98397452719695,235.98057434648643,236.11762834927828,235.19891766014567,235.23044945632324,236.55473359699042,236.4333148518179,235.58138983724086,235.6770437797036,236.3410181378794,235.36998723685952,234.30678073900222,235.63017601604705,235.5116996506125,235.95330273887066,235.78522251773134,236.07838897092924,235.13199198165518],\"type\":\"scatter\",\"xaxis\":\"x2\",\"yaxis\":\"y2\"}],                        {\"template\":{\"data\":{\"histogram2dcontour\":[{\"type\":\"histogram2dcontour\",\"colorbar\":{\"outlinewidth\":0,\"ticks\":\"\"},\"colorscale\":[[0.0,\"#0d0887\"],[0.1111111111111111,\"#46039f\"],[0.2222222222222222,\"#7201a8\"],[0.3333333333333333,\"#9c179e\"],[0.4444444444444444,\"#bd3786\"],[0.5555555555555556,\"#d8576b\"],[0.6666666666666666,\"#ed7953\"],[0.7777777777777778,\"#fb9f3a\"],[0.8888888888888888,\"#fdca26\"],[1.0,\"#f0f921\"]]}],\"choropleth\":[{\"type\":\"choropleth\",\"colorbar\":{\"outlinewidth\":0,\"ticks\":\"\"}}],\"histogram2d\":[{\"type\":\"histogram2d\",\"colorbar\":{\"outlinewidth\":0,\"ticks\":\"\"},\"colorscale\":[[0.0,\"#0d0887\"],[0.1111111111111111,\"#46039f\"],[0.2222222222222222,\"#7201a8\"],[0.3333333333333333,\"#9c179e\"],[0.4444444444444444,\"#bd3786\"],[0.5555555555555556,\"#d8576b\"],[0.6666666666666666,\"#ed7953\"],[0.7777777777777778,\"#fb9f3a\"],[0.8888888888888888,\"#fdca26\"],[1.0,\"#f0f921\"]]}],\"heatmap\":[{\"type\":\"heatmap\",\"colorbar\":{\"outlinewidth\":0,\"ticks\":\"\"},\"colorscale\":[[0.0,\"#0d0887\"],[0.1111111111111111,\"#46039f\"],[0.2222222222222222,\"#7201a8\"],[0.3333333333333333,\"#9c179e\"],[0.4444444444444444,\"#bd3786\"],[0.5555555555555556,\"#d8576b\"],[0.6666666666666666,\"#ed7953\"],[0.7777777777777778,\"#fb9f3a\"],[0.8888888888888888,\"#fdca26\"],[1.0,\"#f0f921\"]]}],\"heatmapgl\":[{\"type\":\"heatmapgl\",\"colorbar\":{\"outlinewidth\":0,\"ticks\":\"\"},\"colorscale\":[[0.0,\"#0d0887\"],[0.1111111111111111,\"#46039f\"],[0.2222222222222222,\"#7201a8\"],[0.3333333333333333,\"#9c179e\"],[0.4444444444444444,\"#bd3786\"],[0.5555555555555556,\"#d8576b\"],[0.6666666666666666,\"#ed7953\"],[0.7777777777777778,\"#fb9f3a\"],[0.8888888888888888,\"#fdca26\"],[1.0,\"#f0f921\"]]}],\"contourcarpet\":[{\"type\":\"contourcarpet\",\"colorbar\":{\"outlinewidth\":0,\"ticks\":\"\"}}],\"contour\":[{\"type\":\"contour\",\"colorbar\":{\"outlinewidth\":0,\"ticks\":\"\"},\"colorscale\":[[0.0,\"#0d0887\"],[0.1111111111111111,\"#46039f\"],[0.2222222222222222,\"#7201a8\"],[0.3333333333333333,\"#9c179e\"],[0.4444444444444444,\"#bd3786\"],[0.5555555555555556,\"#d8576b\"],[0.6666666666666666,\"#ed7953\"],[0.7777777777777778,\"#fb9f3a\"],[0.8888888888888888,\"#fdca26\"],[1.0,\"#f0f921\"]]}],\"surface\":[{\"type\":\"surface\",\"colorbar\":{\"outlinewidth\":0,\"ticks\":\"\"},\"colorscale\":[[0.0,\"#0d0887\"],[0.1111111111111111,\"#46039f\"],[0.2222222222222222,\"#7201a8\"],[0.3333333333333333,\"#9c179e\"],[0.4444444444444444,\"#bd3786\"],[0.5555555555555556,\"#d8576b\"],[0.6666666666666666,\"#ed7953\"],[0.7777777777777778,\"#fb9f3a\"],[0.8888888888888888,\"#fdca26\"],[1.0,\"#f0f921\"]]}],\"mesh3d\":[{\"type\":\"mesh3d\",\"colorbar\":{\"outlinewidth\":0,\"ticks\":\"\"}}],\"scatter\":[{\"fillpattern\":{\"fillmode\":\"overlay\",\"size\":10,\"solidity\":0.2},\"type\":\"scatter\"}],\"parcoords\":[{\"type\":\"parcoords\",\"line\":{\"colorbar\":{\"outlinewidth\":0,\"ticks\":\"\"}}}],\"scatterpolargl\":[{\"type\":\"scatterpolargl\",\"marker\":{\"colorbar\":{\"outlinewidth\":0,\"ticks\":\"\"}}}],\"bar\":[{\"error_x\":{\"color\":\"#2a3f5f\"},\"error_y\":{\"color\":\"#2a3f5f\"},\"marker\":{\"line\":{\"color\":\"#E5ECF6\",\"width\":0.5},\"pattern\":{\"fillmode\":\"overlay\",\"size\":10,\"solidity\":0.2}},\"type\":\"bar\"}],\"scattergeo\":[{\"type\":\"scattergeo\",\"marker\":{\"colorbar\":{\"outlinewidth\":0,\"ticks\":\"\"}}}],\"scatterpolar\":[{\"type\":\"scatterpolar\",\"marker\":{\"colorbar\":{\"outlinewidth\":0,\"ticks\":\"\"}}}],\"histogram\":[{\"marker\":{\"pattern\":{\"fillmode\":\"overlay\",\"size\":10,\"solidity\":0.2}},\"type\":\"histogram\"}],\"scattergl\":[{\"type\":\"scattergl\",\"marker\":{\"colorbar\":{\"outlinewidth\":0,\"ticks\":\"\"}}}],\"scatter3d\":[{\"type\":\"scatter3d\",\"line\":{\"colorbar\":{\"outlinewidth\":0,\"ticks\":\"\"}},\"marker\":{\"colorbar\":{\"outlinewidth\":0,\"ticks\":\"\"}}}],\"scattermapbox\":[{\"type\":\"scattermapbox\",\"marker\":{\"colorbar\":{\"outlinewidth\":0,\"ticks\":\"\"}}}],\"scatterternary\":[{\"type\":\"scatterternary\",\"marker\":{\"colorbar\":{\"outlinewidth\":0,\"ticks\":\"\"}}}],\"scattercarpet\":[{\"type\":\"scattercarpet\",\"marker\":{\"colorbar\":{\"outlinewidth\":0,\"ticks\":\"\"}}}],\"carpet\":[{\"aaxis\":{\"endlinecolor\":\"#2a3f5f\",\"gridcolor\":\"white\",\"linecolor\":\"white\",\"minorgridcolor\":\"white\",\"startlinecolor\":\"#2a3f5f\"},\"baxis\":{\"endlinecolor\":\"#2a3f5f\",\"gridcolor\":\"white\",\"linecolor\":\"white\",\"minorgridcolor\":\"white\",\"startlinecolor\":\"#2a3f5f\"},\"type\":\"carpet\"}],\"table\":[{\"cells\":{\"fill\":{\"color\":\"#EBF0F8\"},\"line\":{\"color\":\"white\"}},\"header\":{\"fill\":{\"color\":\"#C8D4E3\"},\"line\":{\"color\":\"white\"}},\"type\":\"table\"}],\"barpolar\":[{\"marker\":{\"line\":{\"color\":\"#E5ECF6\",\"width\":0.5},\"pattern\":{\"fillmode\":\"overlay\",\"size\":10,\"solidity\":0.2}},\"type\":\"barpolar\"}],\"pie\":[{\"automargin\":true,\"type\":\"pie\"}]},\"layout\":{\"autotypenumbers\":\"strict\",\"colorway\":[\"#636efa\",\"#EF553B\",\"#00cc96\",\"#ab63fa\",\"#FFA15A\",\"#19d3f3\",\"#FF6692\",\"#B6E880\",\"#FF97FF\",\"#FECB52\"],\"font\":{\"color\":\"#2a3f5f\"},\"hovermode\":\"closest\",\"hoverlabel\":{\"align\":\"left\"},\"paper_bgcolor\":\"white\",\"plot_bgcolor\":\"#E5ECF6\",\"polar\":{\"bgcolor\":\"#E5ECF6\",\"angularaxis\":{\"gridcolor\":\"white\",\"linecolor\":\"white\",\"ticks\":\"\"},\"radialaxis\":{\"gridcolor\":\"white\",\"linecolor\":\"white\",\"ticks\":\"\"}},\"ternary\":{\"bgcolor\":\"#E5ECF6\",\"aaxis\":{\"gridcolor\":\"white\",\"linecolor\":\"white\",\"ticks\":\"\"},\"baxis\":{\"gridcolor\":\"white\",\"linecolor\":\"white\",\"ticks\":\"\"},\"caxis\":{\"gridcolor\":\"white\",\"linecolor\":\"white\",\"ticks\":\"\"}},\"coloraxis\":{\"colorbar\":{\"outlinewidth\":0,\"ticks\":\"\"}},\"colorscale\":{\"sequential\":[[0.0,\"#0d0887\"],[0.1111111111111111,\"#46039f\"],[0.2222222222222222,\"#7201a8\"],[0.3333333333333333,\"#9c179e\"],[0.4444444444444444,\"#bd3786\"],[0.5555555555555556,\"#d8576b\"],[0.6666666666666666,\"#ed7953\"],[0.7777777777777778,\"#fb9f3a\"],[0.8888888888888888,\"#fdca26\"],[1.0,\"#f0f921\"]],\"sequentialminus\":[[0.0,\"#0d0887\"],[0.1111111111111111,\"#46039f\"],[0.2222222222222222,\"#7201a8\"],[0.3333333333333333,\"#9c179e\"],[0.4444444444444444,\"#bd3786\"],[0.5555555555555556,\"#d8576b\"],[0.6666666666666666,\"#ed7953\"],[0.7777777777777778,\"#fb9f3a\"],[0.8888888888888888,\"#fdca26\"],[1.0,\"#f0f921\"]],\"diverging\":[[0,\"#8e0152\"],[0.1,\"#c51b7d\"],[0.2,\"#de77ae\"],[0.3,\"#f1b6da\"],[0.4,\"#fde0ef\"],[0.5,\"#f7f7f7\"],[0.6,\"#e6f5d0\"],[0.7,\"#b8e186\"],[0.8,\"#7fbc41\"],[0.9,\"#4d9221\"],[1,\"#276419\"]]},\"xaxis\":{\"gridcolor\":\"white\",\"linecolor\":\"white\",\"ticks\":\"\",\"title\":{\"standoff\":15},\"zerolinecolor\":\"white\",\"automargin\":true,\"zerolinewidth\":2},\"yaxis\":{\"gridcolor\":\"white\",\"linecolor\":\"white\",\"ticks\":\"\",\"title\":{\"standoff\":15},\"zerolinecolor\":\"white\",\"automargin\":true,\"zerolinewidth\":2},\"scene\":{\"xaxis\":{\"backgroundcolor\":\"#E5ECF6\",\"gridcolor\":\"white\",\"linecolor\":\"white\",\"showbackground\":true,\"ticks\":\"\",\"zerolinecolor\":\"white\",\"gridwidth\":2},\"yaxis\":{\"backgroundcolor\":\"#E5ECF6\",\"gridcolor\":\"white\",\"linecolor\":\"white\",\"showbackground\":true,\"ticks\":\"\",\"zerolinecolor\":\"white\",\"gridwidth\":2},\"zaxis\":{\"backgroundcolor\":\"#E5ECF6\",\"gridcolor\":\"white\",\"linecolor\":\"white\",\"showbackground\":true,\"ticks\":\"\",\"zerolinecolor\":\"white\",\"gridwidth\":2}},\"shapedefaults\":{\"line\":{\"color\":\"#2a3f5f\"}},\"annotationdefaults\":{\"arrowcolor\":\"#2a3f5f\",\"arrowhead\":0,\"arrowwidth\":1},\"geo\":{\"bgcolor\":\"white\",\"landcolor\":\"#E5ECF6\",\"subunitcolor\":\"white\",\"showland\":true,\"showlakes\":true,\"lakecolor\":\"white\"},\"title\":{\"x\":0.05},\"mapbox\":{\"style\":\"light\"}}},\"xaxis\":{\"anchor\":\"y\",\"domain\":[0.0,0.45],\"title\":{\"text\":\"lambda_l1\"},\"type\":\"log\"},\"yaxis\":{\"anchor\":\"x\",\"domain\":[0.0,1.0],\"title\":{\"text\":\"Objective Value\"}},\"xaxis2\":{\"anchor\":\"y2\",\"domain\":[0.55,1.0],\"title\":{\"text\":\"lambda_l2\"},\"type\":\"log\"},\"yaxis2\":{\"anchor\":\"x2\",\"domain\":[0.0,1.0],\"matches\":\"y\",\"showticklabels\":false},\"title\":{\"text\":\"Slice Plot\"}},                        {\"responsive\": true}                    ).then(function(){\n",
       "                            \n",
       "var gd = document.getElementById('d2425870-9943-4e02-a124-352c56478935');\n",
       "var x = new MutationObserver(function (mutations, observer) {{\n",
       "        var display = window.getComputedStyle(gd).display;\n",
       "        if (!display || display === 'none') {{\n",
       "            console.log([gd, 'removed!']);\n",
       "            Plotly.purge(gd);\n",
       "            observer.disconnect();\n",
       "        }}\n",
       "}});\n",
       "\n",
       "// Listen for the removal of the full notebook cells\n",
       "var notebookContainer = gd.closest('#notebook-container');\n",
       "if (notebookContainer) {{\n",
       "    x.observe(notebookContainer, {childList: true});\n",
       "}}\n",
       "\n",
       "// Listen for the clearing of the current output cell\n",
       "var outputEl = gd.closest('.output');\n",
       "if (outputEl) {{\n",
       "    x.observe(outputEl, {childList: true});\n",
       "}}\n",
       "\n",
       "                        })                };                            </script>        </div>\n",
       "</body>\n",
       "</html>"
      ]
     },
     "metadata": {},
     "output_type": "display_data"
    }
   ],
   "source": [
    "fig = optuna.visualization.plot_slice(study, params=['lambda_l1', 'lambda_l2'])\n",
    "fig.show()"
   ]
  },
  {
   "cell_type": "code",
   "execution_count": null,
   "metadata": {
    "colab": {
     "base_uri": "https://localhost:8080/",
     "height": 542
    },
    "executionInfo": {
     "elapsed": 6,
     "status": "ok",
     "timestamp": 1685202708552,
     "user": {
      "displayName": "毛利拓也",
      "userId": "17854120745961292401"
     },
     "user_tz": -540
    },
    "id": "T7zP3uStqFKc",
    "outputId": "97502d2f-6834-4baf-daee-bc24c86ffe09"
   },
   "outputs": [
    {
     "data": {
      "text/html": [
       "<html>\n",
       "<head><meta charset=\"utf-8\" /></head>\n",
       "<body>\n",
       "    <div>            <script src=\"https://cdnjs.cloudflare.com/ajax/libs/mathjax/2.7.5/MathJax.js?config=TeX-AMS-MML_SVG\"></script><script type=\"text/javascript\">if (window.MathJax && window.MathJax.Hub && window.MathJax.Hub.Config) {window.MathJax.Hub.Config({SVG: {font: \"STIX-Web\"}});}</script>                <script type=\"text/javascript\">window.PlotlyConfig = {MathJaxConfig: 'local'};</script>\n",
       "        <script src=\"https://cdn.plot.ly/plotly-2.18.2.min.js\"></script>                <div id=\"9f8de17a-3ce6-41ba-9a0e-028eebec4bb2\" class=\"plotly-graph-div\" style=\"height:525px; width:100%;\"></div>            <script type=\"text/javascript\">                                    window.PLOTLYENV=window.PLOTLYENV || {};                                    if (document.getElementById(\"9f8de17a-3ce6-41ba-9a0e-028eebec4bb2\")) {                    Plotly.newPlot(                        \"9f8de17a-3ce6-41ba-9a0e-028eebec4bb2\",                        [{\"marker\":{\"color\":[0,1,2,3,4,5,6,7,8,9,10,11,12,13,14,15,16,17,18,19,20,21,22,23,24,25,26,27,28,29,30,31,32,33,34,35,36,37,38,39,40,41,42,43,44,45,46,47,48,49,50,51,52,53,54,55,56,57,58,59,60,61,62,63,64,65,66,67,68,69,70,71,72,73,74,75,76,77,78,79,80,81,82,83,84,85,86,87,88,89,90,91,92,93,94,95,96,97,98,99,100,101,102,103,104,105,106,107,108,109,110,111,112,113,114,115,116,117,118,119,120,121,122,123,124,125,126,127,128,129,130,131,132,133,134,135,136,137,138,139,140,141,142,143,144,145,146,147,148,149,150,151,152,153,154,155,156,157,158,159,160,161,162,163,164,165,166,167,168,169,170,171,172,173,174,175,176,177,178,179,180,181,182,183,184,185,186,187,188,189,190,191,192,193,194,195,196,197,198,199],\"colorbar\":{\"title\":{\"text\":\"Trial\"},\"x\":1.0,\"xpad\":40},\"colorscale\":[[0.0,\"rgb(247,251,255)\"],[0.125,\"rgb(222,235,247)\"],[0.25,\"rgb(198,219,239)\"],[0.375,\"rgb(158,202,225)\"],[0.5,\"rgb(107,174,214)\"],[0.625,\"rgb(66,146,198)\"],[0.75,\"rgb(33,113,181)\"],[0.875,\"rgb(8,81,156)\"],[1.0,\"rgb(8,48,107)\"]],\"line\":{\"color\":\"Grey\",\"width\":0.5},\"showscale\":true},\"mode\":\"markers\",\"showlegend\":false,\"x\":[0.8817324774495345,0.8793342379629356,0.9305018222370228,0.9417003375574375,0.8926453245613816,0.8090338207443906,0.865790227019348,0.8366638388002404,0.8145651913689592,0.8058781688381481,0.9086211983673774,0.9120148167627737,0.9084389567643958,0.9044426307401884,0.9283676420226169,0.8933430012731872,0.8576893224108879,0.8934927484849413,0.9479002250665678,0.9210372782626467,0.8952254346710644,0.8552106717956344,0.862326173556545,0.8762167362028344,0.8507553850687664,0.8835438057443663,0.8690899355080036,0.9010607573290178,0.9139953493523135,0.9163117720883667,0.9183437821555693,0.917356959043202,0.9053902161715692,0.9252106774771798,0.9367997566583147,0.9318776444492488,0.9302593352723131,0.9345596067832406,0.9429977124167308,0.9379487099652445,0.9492228630003567,0.9359939827568055,0.9162209559645557,0.9247986197439474,0.9126617701767394,0.9324967526547067,0.9221928707161064,0.9282366178868434,0.9123622957110145,0.9396575769161083,0.9424561455493412,0.9332800533162745,0.9256130577395421,0.9409022046619588,0.9206313297511809,0.9316828648098506,0.9212432996017361,0.9455215625928849,0.9384647930073038,0.9290742527994809,0.9477428609129517,0.9093611988112353,0.9012463115516147,0.9161864688957234,0.9227289501480012,0.9218063156953519,0.9346010997113515,0.9281565145902311,0.9410562133785136,0.9170722476785111,0.9252330166271845,0.9381439047595209,0.9437727051349635,0.9337757264887728,0.9496289319040362,0.9387580268153912,0.9428258300629961,0.929609030295018,0.9342832153628629,0.9211999710126189,0.9135082355226031,0.9140449024271587,0.9126873041748984,0.9085338366920012,0.9052492992226165,0.9184982198173612,0.9255637068271375,0.9140747855512152,0.8984483025880052,0.9096842496530819,0.9198170565047781,0.9198278503839958,0.9179926710184153,0.9203013388408626,0.91683047894714,0.9239025932929175,0.9187222838969903,0.9059764874247065,0.9106915142732448,0.9063202766062499,0.9156240372938954,0.9158390929688238,0.9155197333455705,0.9144923953097016,0.915260509116694,0.9117836563168955,0.9180674926018292,0.9280528581266766,0.9027384275954047,0.9085742879713489,0.9240600786698977,0.9150090170141486,0.9185859037072097,0.9314754032282313,0.9141021161972352,0.9267413238649407,0.9113397096272803,0.9263741713610358,0.9275437745942999,0.9260111162150141,0.9204201165132417,0.9228715099011189,0.9178315284716871,0.914766837084161,0.929526004823274,0.9227541812677391,0.9070588052646318,0.9071698784694755,0.9036448237802567,0.9038990954551257,0.8987567041820881,0.9020351822652066,0.8919770142114658,0.9047264289216088,0.9098847805270662,0.9022879381804768,0.9082584332533145,0.9034097418637818,0.8984705019763651,0.9056180056039635,0.9027141670917721,0.9111836292674484,0.8946334502195693,0.9157579980341629,0.9122112715761881,0.9081450396791266,0.9026406288259895,0.920754846160054,0.8993015956978346,0.892046371943157,0.9259393685029207,0.9168191395584536,0.9192601975995374,0.9126577737007742,0.923526839386924,0.9099912778855292,0.9154857420054286,0.9356538537957383,0.9066607679774046,0.9307869495354698,0.9313105580059411,0.9192469222868266,0.928206149006828,0.922111800707762,0.9259133305036867,0.9321289768591907,0.9140231086846925,0.9132524136314334,0.9040023644404448,0.9096339284822409,0.9149841075571766,0.8962227684800297,0.8968245474754863,0.9008778919416097,0.9043387402199995,0.9060121376972345,0.9011804056856967,0.9194233002959246,0.9118664515253151,0.9075231181639478,0.8886340623754844,0.8968080432834731,0.9039266260492024,0.9007712160253729,0.9030612537769395,0.9104872626791762,0.9158342559036338,0.8959036527289266,0.8808810632634458,0.9076305181604475,0.924228133083343,0.9189098818461678,0.9164715289455914,0.9213182882380164,0.9224454162869316,0.9292922263903945,0.9118891563526075,0.9207517434939783,0.9252548989483816,0.9339353787108529],\"y\":[236.3953978396676,237.08390346573412,237.41216752547192,236.89405915464317,235.6009181590289,236.56553064240038,236.123526792667,236.14758156608585,236.57602513147754,236.3942096446911,235.91394457126538,236.1528459013989,235.68553113118287,237.3899085824166,237.27354021337538,236.23688167002803,235.69945903444273,237.39336158750473,236.40222841349112,236.78755514565904,236.01696839322625,236.51771269205193,236.46668748000158,235.8282290356868,236.80326152629874,236.79136994999135,235.90044337473424,236.4145270822498,235.48753634958118,235.17709720588138,237.04358990522704,237.03928275892304,236.14949159391298,236.7165691174425,235.9156451443252,235.25408281519756,237.14692436780257,234.41296880280794,235.77178891481037,235.7636199741035,235.96420144650077,236.3488006042655,236.2303634996909,236.41806652730392,236.50509414661113,236.5996424821209,236.41350581202397,235.90928319731995,235.83556200694437,235.47594377980306,237.467489597021,236.38619844127527,235.9797432700678,235.86569925835084,235.45446832223047,235.95720213340545,235.62609790340434,237.1700300408721,236.78905592040462,235.77190767166238,237.05331148402425,236.55078168235704,236.07574688343587,236.02754664417515,235.3316030258016,235.95594350095516,236.25280138451686,236.43656581331376,235.59451295673952,236.2082561770278,236.13013217067413,235.60368722707753,236.32520517317303,235.72049953936258,236.57564374099408,237.46148231105565,236.10789988192082,235.99173937996397,235.94560019883963,235.56380265951293,235.13847752443206,234.86954381280646,236.01520439619455,236.6236020430035,235.5624661691177,236.06034600913105,235.52454093055346,236.20604798337914,235.8989260379897,236.0570530062523,234.69012692807635,235.42734372634052,235.04078297260943,235.61235089979186,235.85146498113065,235.76496773134295,235.09270459383734,235.35774746066176,236.54960192104693,235.65369384337907,234.3653179309017,234.88664647829424,234.9695928609206,235.79192853126582,236.37202486605008,236.01474936092447,235.6052540920504,235.6341088407682,235.45011809624955,235.42076260380998,237.38309059214313,234.9889012267549,235.96982203803475,236.1742883840556,235.60429545876138,234.96705478280433,235.4435596188044,235.0764456425818,237.3130008076344,235.8927656880547,235.8957786788501,236.45494983716642,235.9069119624472,235.70571430141078,235.47793789813315,235.40449673348905,234.31528099473687,236.61952338810616,234.90373624090876,234.43815297047513,235.9758177833684,234.9627017577553,235.38587621641636,235.24388791030043,235.35834250829205,235.78786001959023,237.29082495558626,234.80686051592144,235.34438877747462,235.64497091467356,235.34988927349443,235.99531679776695,235.19259771011573,235.91371391979115,235.9547337623743,236.08918826525078,235.22582821235503,235.5558501734134,237.18089028470243,236.2032930588034,236.30293336598143,235.11204227875493,235.31768292904854,236.11533509112132,236.04780967782702,235.7690608571406,235.61864752824786,236.884707527901,235.11671827232422,234.7665796581116,235.6692237103764,234.97758247853835,236.11984730706382,236.7296234523758,234.9434418606933,236.13476107928523,234.78670292176471,235.11020929725106,234.99760268915085,235.67961049034665,235.93800289392675,234.56379789977896,235.49840751128235,235.55788635508745,235.74662228459562,235.15287205111764,235.6638811573168,235.2723154960424,236.04084171986239,235.14005436133772,235.55216837926625,236.2704919659919,235.98397452719695,235.98057434648643,236.11762834927828,235.19891766014567,235.23044945632324,236.55473359699042,236.4333148518179,235.58138983724086,235.6770437797036,236.3410181378794,235.36998723685952,234.30678073900222,235.63017601604705,235.5116996506125,235.95330273887066,235.78522251773134,236.07838897092924,235.13199198165518],\"type\":\"scatter\",\"xaxis\":\"x\",\"yaxis\":\"y\"},{\"marker\":{\"color\":[0,1,2,3,4,5,6,7,8,9,10,11,12,13,14,15,16,17,18,19,20,21,22,23,24,25,26,27,28,29,30,31,32,33,34,35,36,37,38,39,40,41,42,43,44,45,46,47,48,49,50,51,52,53,54,55,56,57,58,59,60,61,62,63,64,65,66,67,68,69,70,71,72,73,74,75,76,77,78,79,80,81,82,83,84,85,86,87,88,89,90,91,92,93,94,95,96,97,98,99,100,101,102,103,104,105,106,107,108,109,110,111,112,113,114,115,116,117,118,119,120,121,122,123,124,125,126,127,128,129,130,131,132,133,134,135,136,137,138,139,140,141,142,143,144,145,146,147,148,149,150,151,152,153,154,155,156,157,158,159,160,161,162,163,164,165,166,167,168,169,170,171,172,173,174,175,176,177,178,179,180,181,182,183,184,185,186,187,188,189,190,191,192,193,194,195,196,197,198,199],\"colorbar\":{\"title\":{\"text\":\"Trial\"},\"x\":1.0,\"xpad\":40},\"colorscale\":[[0.0,\"rgb(247,251,255)\"],[0.125,\"rgb(222,235,247)\"],[0.25,\"rgb(198,219,239)\"],[0.375,\"rgb(158,202,225)\"],[0.5,\"rgb(107,174,214)\"],[0.625,\"rgb(66,146,198)\"],[0.75,\"rgb(33,113,181)\"],[0.875,\"rgb(8,81,156)\"],[1.0,\"rgb(8,48,107)\"]],\"line\":{\"color\":\"Grey\",\"width\":0.5},\"showscale\":false},\"mode\":\"markers\",\"showlegend\":false,\"x\":[0.4770964398016714,0.5204133683281797,0.6435855026698292,0.5065544965250215,0.5336287168167264,0.5500300146337003,0.6465121514177679,0.3976908750936559,0.6013834722496412,0.43484208877292285,0.3583168079743905,0.37029317112273297,0.3521798778434926,0.4474335292541353,0.41516346028194895,0.46965408751749665,0.5469329207049305,0.3933140908384598,0.3562213984416137,0.4728075531086831,0.43175242479942444,0.539166653857351,0.5677552487259899,0.5024731673800711,0.5291115435163672,0.566327980037316,0.4938413605378538,0.5165115058468236,0.5520856297043926,0.47856213986883034,0.4915362802784666,0.4541942902080607,0.4785073062812195,0.5189324560255442,0.5750358931493015,0.509539913547553,0.5128942301463881,0.5302787935550751,0.49847919145103275,0.5283423593590241,0.5506294667258881,0.5324528821480918,0.5157689794453436,0.505721614750542,0.5910457340276731,0.5442383769223265,0.4813389238242606,0.5242916123527519,0.556614129825321,0.5313459161263152,0.4897228750626488,0.5369797820103986,0.5074381475090526,0.5381503888915864,0.5549014857746786,0.5555813956531737,0.5201336732871154,0.5300170587993217,0.546876038861662,0.5858110057728207,0.5624613334703814,0.5073898960543757,0.5427282760466912,0.5550631678969029,0.5302974824098641,0.5303348619870375,0.5239760844070704,0.49804442479822814,0.5683926655768982,0.511155450946985,0.5421067742746162,0.5694241530819248,0.577995500504454,0.562006347434518,0.549276681440851,0.5354894222697131,0.6087436102700724,0.5215969416872762,0.5033754193950054,0.5140929603676656,0.4657833978167425,0.48834584370381534,0.47116720774317966,0.46495396591294685,0.48964211508090755,0.4850261571315615,0.49645079078402277,0.4809212677273023,0.4753678683378159,0.45486485767898693,0.49954619013064055,0.5003789540317495,0.5022496293188852,0.5006094055360084,0.49558312335089294,0.48705804386450025,0.5119645558866412,0.5091150286211593,0.5108838601799645,0.4930610270285375,0.5163304632500211,0.5172245335935914,0.5172788398276775,0.5172969319728176,0.5245820251987235,0.5061859194293373,0.48544431847267894,0.5162092220458853,0.5042738680429122,0.49278829288723525,0.5143599361691287,0.5241745254078338,0.5237936017920561,0.48057194371917494,0.5199996764531247,0.500664868190234,0.49758281914268554,0.5059828927331715,0.5023854211478084,0.5102062890941241,0.5251926075764176,0.49299675021582556,0.536426175639666,0.5178610207937426,0.4864542142329578,0.5046548657726674,0.4750198527703644,0.4660495578956078,0.5125162045874171,0.5275286471882689,0.5300520728516483,0.5122550855764767,0.5202754200006328,0.5270605412533749,0.5373338762801648,0.5001807547905819,0.5143583063128884,0.5094275099302235,0.5215776017877138,0.5323035384916004,0.5119465258854723,0.5061735135334087,0.49620832977101675,0.5078130575868085,0.5181696782847962,0.5262447207575689,0.4909713690373425,0.5038113186779289,0.49992825911442945,0.5421314610422918,0.47802900279795235,0.5128753320856851,0.5110834666376209,0.5171105562872768,0.5272771085725242,0.5077381603924849,0.522413445259488,0.5329716683785907,0.48816415789959067,0.49604330809891684,0.49790105387921896,0.5024090568403093,0.5026432170957116,0.4940932588405077,0.4866528948816523,0.4735016082738555,0.48598356637778656,0.48911994039750983,0.48774388154296067,0.48580650613175524,0.47912171540926146,0.473540188575119,0.4841779624972808,0.4744091196387119,0.49541772256555716,0.4697600194147344,0.481566952606078,0.517199209792949,0.49200248607407043,0.47569883802158763,0.46273688280571373,0.48048157655795004,0.498488108404746,0.48333135265224997,0.4897410723909457,0.5099970272303747,0.5222659093937684,0.5012864996876313,0.5145891090413207,0.49328878349472066,0.5088447855096753,0.4885572646328358,0.5033749589109908,0.4980655277580941,0.4972825311898521,0.5294483506462806,0.4840534478437207,0.5165994489732738,0.4749991854757097,0.5063327206632194],\"y\":[236.3953978396676,237.08390346573412,237.41216752547192,236.89405915464317,235.6009181590289,236.56553064240038,236.123526792667,236.14758156608585,236.57602513147754,236.3942096446911,235.91394457126538,236.1528459013989,235.68553113118287,237.3899085824166,237.27354021337538,236.23688167002803,235.69945903444273,237.39336158750473,236.40222841349112,236.78755514565904,236.01696839322625,236.51771269205193,236.46668748000158,235.8282290356868,236.80326152629874,236.79136994999135,235.90044337473424,236.4145270822498,235.48753634958118,235.17709720588138,237.04358990522704,237.03928275892304,236.14949159391298,236.7165691174425,235.9156451443252,235.25408281519756,237.14692436780257,234.41296880280794,235.77178891481037,235.7636199741035,235.96420144650077,236.3488006042655,236.2303634996909,236.41806652730392,236.50509414661113,236.5996424821209,236.41350581202397,235.90928319731995,235.83556200694437,235.47594377980306,237.467489597021,236.38619844127527,235.9797432700678,235.86569925835084,235.45446832223047,235.95720213340545,235.62609790340434,237.1700300408721,236.78905592040462,235.77190767166238,237.05331148402425,236.55078168235704,236.07574688343587,236.02754664417515,235.3316030258016,235.95594350095516,236.25280138451686,236.43656581331376,235.59451295673952,236.2082561770278,236.13013217067413,235.60368722707753,236.32520517317303,235.72049953936258,236.57564374099408,237.46148231105565,236.10789988192082,235.99173937996397,235.94560019883963,235.56380265951293,235.13847752443206,234.86954381280646,236.01520439619455,236.6236020430035,235.5624661691177,236.06034600913105,235.52454093055346,236.20604798337914,235.8989260379897,236.0570530062523,234.69012692807635,235.42734372634052,235.04078297260943,235.61235089979186,235.85146498113065,235.76496773134295,235.09270459383734,235.35774746066176,236.54960192104693,235.65369384337907,234.3653179309017,234.88664647829424,234.9695928609206,235.79192853126582,236.37202486605008,236.01474936092447,235.6052540920504,235.6341088407682,235.45011809624955,235.42076260380998,237.38309059214313,234.9889012267549,235.96982203803475,236.1742883840556,235.60429545876138,234.96705478280433,235.4435596188044,235.0764456425818,237.3130008076344,235.8927656880547,235.8957786788501,236.45494983716642,235.9069119624472,235.70571430141078,235.47793789813315,235.40449673348905,234.31528099473687,236.61952338810616,234.90373624090876,234.43815297047513,235.9758177833684,234.9627017577553,235.38587621641636,235.24388791030043,235.35834250829205,235.78786001959023,237.29082495558626,234.80686051592144,235.34438877747462,235.64497091467356,235.34988927349443,235.99531679776695,235.19259771011573,235.91371391979115,235.9547337623743,236.08918826525078,235.22582821235503,235.5558501734134,237.18089028470243,236.2032930588034,236.30293336598143,235.11204227875493,235.31768292904854,236.11533509112132,236.04780967782702,235.7690608571406,235.61864752824786,236.884707527901,235.11671827232422,234.7665796581116,235.6692237103764,234.97758247853835,236.11984730706382,236.7296234523758,234.9434418606933,236.13476107928523,234.78670292176471,235.11020929725106,234.99760268915085,235.67961049034665,235.93800289392675,234.56379789977896,235.49840751128235,235.55788635508745,235.74662228459562,235.15287205111764,235.6638811573168,235.2723154960424,236.04084171986239,235.14005436133772,235.55216837926625,236.2704919659919,235.98397452719695,235.98057434648643,236.11762834927828,235.19891766014567,235.23044945632324,236.55473359699042,236.4333148518179,235.58138983724086,235.6770437797036,236.3410181378794,235.36998723685952,234.30678073900222,235.63017601604705,235.5116996506125,235.95330273887066,235.78522251773134,236.07838897092924,235.13199198165518],\"type\":\"scatter\",\"xaxis\":\"x2\",\"yaxis\":\"y2\"}],                        {\"template\":{\"data\":{\"histogram2dcontour\":[{\"type\":\"histogram2dcontour\",\"colorbar\":{\"outlinewidth\":0,\"ticks\":\"\"},\"colorscale\":[[0.0,\"#0d0887\"],[0.1111111111111111,\"#46039f\"],[0.2222222222222222,\"#7201a8\"],[0.3333333333333333,\"#9c179e\"],[0.4444444444444444,\"#bd3786\"],[0.5555555555555556,\"#d8576b\"],[0.6666666666666666,\"#ed7953\"],[0.7777777777777778,\"#fb9f3a\"],[0.8888888888888888,\"#fdca26\"],[1.0,\"#f0f921\"]]}],\"choropleth\":[{\"type\":\"choropleth\",\"colorbar\":{\"outlinewidth\":0,\"ticks\":\"\"}}],\"histogram2d\":[{\"type\":\"histogram2d\",\"colorbar\":{\"outlinewidth\":0,\"ticks\":\"\"},\"colorscale\":[[0.0,\"#0d0887\"],[0.1111111111111111,\"#46039f\"],[0.2222222222222222,\"#7201a8\"],[0.3333333333333333,\"#9c179e\"],[0.4444444444444444,\"#bd3786\"],[0.5555555555555556,\"#d8576b\"],[0.6666666666666666,\"#ed7953\"],[0.7777777777777778,\"#fb9f3a\"],[0.8888888888888888,\"#fdca26\"],[1.0,\"#f0f921\"]]}],\"heatmap\":[{\"type\":\"heatmap\",\"colorbar\":{\"outlinewidth\":0,\"ticks\":\"\"},\"colorscale\":[[0.0,\"#0d0887\"],[0.1111111111111111,\"#46039f\"],[0.2222222222222222,\"#7201a8\"],[0.3333333333333333,\"#9c179e\"],[0.4444444444444444,\"#bd3786\"],[0.5555555555555556,\"#d8576b\"],[0.6666666666666666,\"#ed7953\"],[0.7777777777777778,\"#fb9f3a\"],[0.8888888888888888,\"#fdca26\"],[1.0,\"#f0f921\"]]}],\"heatmapgl\":[{\"type\":\"heatmapgl\",\"colorbar\":{\"outlinewidth\":0,\"ticks\":\"\"},\"colorscale\":[[0.0,\"#0d0887\"],[0.1111111111111111,\"#46039f\"],[0.2222222222222222,\"#7201a8\"],[0.3333333333333333,\"#9c179e\"],[0.4444444444444444,\"#bd3786\"],[0.5555555555555556,\"#d8576b\"],[0.6666666666666666,\"#ed7953\"],[0.7777777777777778,\"#fb9f3a\"],[0.8888888888888888,\"#fdca26\"],[1.0,\"#f0f921\"]]}],\"contourcarpet\":[{\"type\":\"contourcarpet\",\"colorbar\":{\"outlinewidth\":0,\"ticks\":\"\"}}],\"contour\":[{\"type\":\"contour\",\"colorbar\":{\"outlinewidth\":0,\"ticks\":\"\"},\"colorscale\":[[0.0,\"#0d0887\"],[0.1111111111111111,\"#46039f\"],[0.2222222222222222,\"#7201a8\"],[0.3333333333333333,\"#9c179e\"],[0.4444444444444444,\"#bd3786\"],[0.5555555555555556,\"#d8576b\"],[0.6666666666666666,\"#ed7953\"],[0.7777777777777778,\"#fb9f3a\"],[0.8888888888888888,\"#fdca26\"],[1.0,\"#f0f921\"]]}],\"surface\":[{\"type\":\"surface\",\"colorbar\":{\"outlinewidth\":0,\"ticks\":\"\"},\"colorscale\":[[0.0,\"#0d0887\"],[0.1111111111111111,\"#46039f\"],[0.2222222222222222,\"#7201a8\"],[0.3333333333333333,\"#9c179e\"],[0.4444444444444444,\"#bd3786\"],[0.5555555555555556,\"#d8576b\"],[0.6666666666666666,\"#ed7953\"],[0.7777777777777778,\"#fb9f3a\"],[0.8888888888888888,\"#fdca26\"],[1.0,\"#f0f921\"]]}],\"mesh3d\":[{\"type\":\"mesh3d\",\"colorbar\":{\"outlinewidth\":0,\"ticks\":\"\"}}],\"scatter\":[{\"fillpattern\":{\"fillmode\":\"overlay\",\"size\":10,\"solidity\":0.2},\"type\":\"scatter\"}],\"parcoords\":[{\"type\":\"parcoords\",\"line\":{\"colorbar\":{\"outlinewidth\":0,\"ticks\":\"\"}}}],\"scatterpolargl\":[{\"type\":\"scatterpolargl\",\"marker\":{\"colorbar\":{\"outlinewidth\":0,\"ticks\":\"\"}}}],\"bar\":[{\"error_x\":{\"color\":\"#2a3f5f\"},\"error_y\":{\"color\":\"#2a3f5f\"},\"marker\":{\"line\":{\"color\":\"#E5ECF6\",\"width\":0.5},\"pattern\":{\"fillmode\":\"overlay\",\"size\":10,\"solidity\":0.2}},\"type\":\"bar\"}],\"scattergeo\":[{\"type\":\"scattergeo\",\"marker\":{\"colorbar\":{\"outlinewidth\":0,\"ticks\":\"\"}}}],\"scatterpolar\":[{\"type\":\"scatterpolar\",\"marker\":{\"colorbar\":{\"outlinewidth\":0,\"ticks\":\"\"}}}],\"histogram\":[{\"marker\":{\"pattern\":{\"fillmode\":\"overlay\",\"size\":10,\"solidity\":0.2}},\"type\":\"histogram\"}],\"scattergl\":[{\"type\":\"scattergl\",\"marker\":{\"colorbar\":{\"outlinewidth\":0,\"ticks\":\"\"}}}],\"scatter3d\":[{\"type\":\"scatter3d\",\"line\":{\"colorbar\":{\"outlinewidth\":0,\"ticks\":\"\"}},\"marker\":{\"colorbar\":{\"outlinewidth\":0,\"ticks\":\"\"}}}],\"scattermapbox\":[{\"type\":\"scattermapbox\",\"marker\":{\"colorbar\":{\"outlinewidth\":0,\"ticks\":\"\"}}}],\"scatterternary\":[{\"type\":\"scatterternary\",\"marker\":{\"colorbar\":{\"outlinewidth\":0,\"ticks\":\"\"}}}],\"scattercarpet\":[{\"type\":\"scattercarpet\",\"marker\":{\"colorbar\":{\"outlinewidth\":0,\"ticks\":\"\"}}}],\"carpet\":[{\"aaxis\":{\"endlinecolor\":\"#2a3f5f\",\"gridcolor\":\"white\",\"linecolor\":\"white\",\"minorgridcolor\":\"white\",\"startlinecolor\":\"#2a3f5f\"},\"baxis\":{\"endlinecolor\":\"#2a3f5f\",\"gridcolor\":\"white\",\"linecolor\":\"white\",\"minorgridcolor\":\"white\",\"startlinecolor\":\"#2a3f5f\"},\"type\":\"carpet\"}],\"table\":[{\"cells\":{\"fill\":{\"color\":\"#EBF0F8\"},\"line\":{\"color\":\"white\"}},\"header\":{\"fill\":{\"color\":\"#C8D4E3\"},\"line\":{\"color\":\"white\"}},\"type\":\"table\"}],\"barpolar\":[{\"marker\":{\"line\":{\"color\":\"#E5ECF6\",\"width\":0.5},\"pattern\":{\"fillmode\":\"overlay\",\"size\":10,\"solidity\":0.2}},\"type\":\"barpolar\"}],\"pie\":[{\"automargin\":true,\"type\":\"pie\"}]},\"layout\":{\"autotypenumbers\":\"strict\",\"colorway\":[\"#636efa\",\"#EF553B\",\"#00cc96\",\"#ab63fa\",\"#FFA15A\",\"#19d3f3\",\"#FF6692\",\"#B6E880\",\"#FF97FF\",\"#FECB52\"],\"font\":{\"color\":\"#2a3f5f\"},\"hovermode\":\"closest\",\"hoverlabel\":{\"align\":\"left\"},\"paper_bgcolor\":\"white\",\"plot_bgcolor\":\"#E5ECF6\",\"polar\":{\"bgcolor\":\"#E5ECF6\",\"angularaxis\":{\"gridcolor\":\"white\",\"linecolor\":\"white\",\"ticks\":\"\"},\"radialaxis\":{\"gridcolor\":\"white\",\"linecolor\":\"white\",\"ticks\":\"\"}},\"ternary\":{\"bgcolor\":\"#E5ECF6\",\"aaxis\":{\"gridcolor\":\"white\",\"linecolor\":\"white\",\"ticks\":\"\"},\"baxis\":{\"gridcolor\":\"white\",\"linecolor\":\"white\",\"ticks\":\"\"},\"caxis\":{\"gridcolor\":\"white\",\"linecolor\":\"white\",\"ticks\":\"\"}},\"coloraxis\":{\"colorbar\":{\"outlinewidth\":0,\"ticks\":\"\"}},\"colorscale\":{\"sequential\":[[0.0,\"#0d0887\"],[0.1111111111111111,\"#46039f\"],[0.2222222222222222,\"#7201a8\"],[0.3333333333333333,\"#9c179e\"],[0.4444444444444444,\"#bd3786\"],[0.5555555555555556,\"#d8576b\"],[0.6666666666666666,\"#ed7953\"],[0.7777777777777778,\"#fb9f3a\"],[0.8888888888888888,\"#fdca26\"],[1.0,\"#f0f921\"]],\"sequentialminus\":[[0.0,\"#0d0887\"],[0.1111111111111111,\"#46039f\"],[0.2222222222222222,\"#7201a8\"],[0.3333333333333333,\"#9c179e\"],[0.4444444444444444,\"#bd3786\"],[0.5555555555555556,\"#d8576b\"],[0.6666666666666666,\"#ed7953\"],[0.7777777777777778,\"#fb9f3a\"],[0.8888888888888888,\"#fdca26\"],[1.0,\"#f0f921\"]],\"diverging\":[[0,\"#8e0152\"],[0.1,\"#c51b7d\"],[0.2,\"#de77ae\"],[0.3,\"#f1b6da\"],[0.4,\"#fde0ef\"],[0.5,\"#f7f7f7\"],[0.6,\"#e6f5d0\"],[0.7,\"#b8e186\"],[0.8,\"#7fbc41\"],[0.9,\"#4d9221\"],[1,\"#276419\"]]},\"xaxis\":{\"gridcolor\":\"white\",\"linecolor\":\"white\",\"ticks\":\"\",\"title\":{\"standoff\":15},\"zerolinecolor\":\"white\",\"automargin\":true,\"zerolinewidth\":2},\"yaxis\":{\"gridcolor\":\"white\",\"linecolor\":\"white\",\"ticks\":\"\",\"title\":{\"standoff\":15},\"zerolinecolor\":\"white\",\"automargin\":true,\"zerolinewidth\":2},\"scene\":{\"xaxis\":{\"backgroundcolor\":\"#E5ECF6\",\"gridcolor\":\"white\",\"linecolor\":\"white\",\"showbackground\":true,\"ticks\":\"\",\"zerolinecolor\":\"white\",\"gridwidth\":2},\"yaxis\":{\"backgroundcolor\":\"#E5ECF6\",\"gridcolor\":\"white\",\"linecolor\":\"white\",\"showbackground\":true,\"ticks\":\"\",\"zerolinecolor\":\"white\",\"gridwidth\":2},\"zaxis\":{\"backgroundcolor\":\"#E5ECF6\",\"gridcolor\":\"white\",\"linecolor\":\"white\",\"showbackground\":true,\"ticks\":\"\",\"zerolinecolor\":\"white\",\"gridwidth\":2}},\"shapedefaults\":{\"line\":{\"color\":\"#2a3f5f\"}},\"annotationdefaults\":{\"arrowcolor\":\"#2a3f5f\",\"arrowhead\":0,\"arrowwidth\":1},\"geo\":{\"bgcolor\":\"white\",\"landcolor\":\"#E5ECF6\",\"subunitcolor\":\"white\",\"showland\":true,\"showlakes\":true,\"lakecolor\":\"white\"},\"title\":{\"x\":0.05},\"mapbox\":{\"style\":\"light\"}}},\"xaxis\":{\"anchor\":\"y\",\"domain\":[0.0,0.45],\"title\":{\"text\":\"bagging_fraction\"}},\"yaxis\":{\"anchor\":\"x\",\"domain\":[0.0,1.0],\"title\":{\"text\":\"Objective Value\"}},\"xaxis2\":{\"anchor\":\"y2\",\"domain\":[0.55,1.0],\"title\":{\"text\":\"feature_fraction\"}},\"yaxis2\":{\"anchor\":\"x2\",\"domain\":[0.0,1.0],\"matches\":\"y\",\"showticklabels\":false},\"title\":{\"text\":\"Slice Plot\"}},                        {\"responsive\": true}                    ).then(function(){\n",
       "                            \n",
       "var gd = document.getElementById('9f8de17a-3ce6-41ba-9a0e-028eebec4bb2');\n",
       "var x = new MutationObserver(function (mutations, observer) {{\n",
       "        var display = window.getComputedStyle(gd).display;\n",
       "        if (!display || display === 'none') {{\n",
       "            console.log([gd, 'removed!']);\n",
       "            Plotly.purge(gd);\n",
       "            observer.disconnect();\n",
       "        }}\n",
       "}});\n",
       "\n",
       "// Listen for the removal of the full notebook cells\n",
       "var notebookContainer = gd.closest('#notebook-container');\n",
       "if (notebookContainer) {{\n",
       "    x.observe(notebookContainer, {childList: true});\n",
       "}}\n",
       "\n",
       "// Listen for the clearing of the current output cell\n",
       "var outputEl = gd.closest('.output');\n",
       "if (outputEl) {{\n",
       "    x.observe(outputEl, {childList: true});\n",
       "}}\n",
       "\n",
       "                        })                };                            </script>        </div>\n",
       "</body>\n",
       "</html>"
      ]
     },
     "metadata": {},
     "output_type": "display_data"
    }
   ],
   "source": [
    "fig = optuna.visualization.plot_slice(study, params=['bagging_fraction', 'feature_fraction'])\n",
    "fig.show()"
   ]
  },
  {
   "cell_type": "markdown",
   "metadata": {
    "id": "AN4er0v8evjn"
   },
   "source": [
    "# LightGBM（特徴量エンジニアリングあり×ハイパーパラメータ最適値）"
   ]
  },
  {
   "cell_type": "code",
   "execution_count": null,
   "metadata": {
    "colab": {
     "base_uri": "https://localhost:8080/"
    },
    "executionInfo": {
     "elapsed": 2,
     "status": "ok",
     "timestamp": 1685202709835,
     "user": {
      "displayName": "毛利拓也",
      "userId": "17854120745961292401"
     },
     "user_tz": -540
    },
    "id": "JxZA8b6FiMpa",
    "outputId": "df5d8e23-07b0-4fb1-8703-937f40a54ede"
   },
   "outputs": [
    {
     "name": "stdout",
     "output_type": "stream",
     "text": [
      "X_trの形状： (34502, 31)  y_trの形状： (34502,)  X_vaの形状： (8626, 31)  y_vaの形状： (8626,)\n"
     ]
    }
   ],
   "source": [
    "# 学習データの一部を検証データに分割\n",
    "X_tr, X_va, y_tr, y_va = train_test_split(X_train, y_train, test_size=0.2, shuffle=True, random_state=0)\n",
    "print('X_trの形状：', X_tr.shape, ' y_trの形状：', y_tr.shape, ' X_vaの形状：', X_va.shape, ' y_vaの形状：', y_va.shape)"
   ]
  },
  {
   "cell_type": "code",
   "execution_count": null,
   "metadata": {
    "colab": {
     "base_uri": "https://localhost:8080/"
    },
    "executionInfo": {
     "elapsed": 30150,
     "status": "ok",
     "timestamp": 1685202748183,
     "user": {
      "displayName": "毛利拓也",
      "userId": "17854120745961292401"
     },
     "user_tz": -540
    },
    "id": "-4ozjOKBRJ4B",
    "outputId": "4104424d-a2e4-4d1d-ae0f-56387112220b"
   },
   "outputs": [
    {
     "name": "stdout",
     "output_type": "stream",
     "text": [
      "Training until validation scores don't improve for 100 rounds\n",
      "[500]\ttrain's l1: 214.444\tvalid's l1: 246.515\n",
      "[1000]\ttrain's l1: 176.938\tvalid's l1: 242.022\n",
      "[1500]\ttrain's l1: 159.092\tvalid's l1: 241.43\n",
      "Early stopping, best iteration is:\n",
      "[1709]\ttrain's l1: 153.582\tvalid's l1: 241.337\n",
      "MAE valid: 241.34\n"
     ]
    }
   ],
   "source": [
    "# 最適化ハイパーパラメータを用いた学習\n",
    "lgb_train = lgb.Dataset(X_tr, y_tr)\n",
    "lgb_eval = lgb.Dataset(X_va, y_va, reference=lgb_train)\n",
    "\n",
    "# 最適化ハイパーパラメータを読み込み\n",
    "model = lgb.train(params_best,\n",
    "                  lgb_train,\n",
    "                  num_boost_round=10000,\n",
    "                  valid_sets=[lgb_train, lgb_eval],\n",
    "                  valid_names=['train', 'valid'],\n",
    "                  callbacks=[lgb.early_stopping(100),\n",
    "                             lgb.log_evaluation(500)])\n",
    "\n",
    "y_va_pred = model.predict(X_va, num_iteration=model.best_iteration)\n",
    "score = mean_absolute_error(y_va, y_va_pred)\n",
    "print(f'MAE valid: {score:.2f}')"
   ]
  },
  {
   "cell_type": "code",
   "execution_count": null,
   "metadata": {
    "colab": {
     "base_uri": "https://localhost:8080/"
    },
    "executionInfo": {
     "elapsed": 2142,
     "status": "ok",
     "timestamp": 1685202884691,
     "user": {
      "displayName": "毛利拓也",
      "userId": "17854120745961292401"
     },
     "user_tz": -540
    },
    "id": "X8WHy-MEOxN4",
    "outputId": "ccc7c993-4b75-493f-c43b-abb092b87e60"
   },
   "outputs": [
    {
     "name": "stdout",
     "output_type": "stream",
     "text": [
      "MAE valid: 241.34\n"
     ]
    }
   ],
   "source": [
    "# 検証データの予測と評価\n",
    "y_va_pred = model.predict(X_va, num_iteration=model.best_iteration) \n",
    "print('MAE valid: %.2f' % (mean_absolute_error(y_va, y_va_pred)))"
   ]
  },
  {
   "cell_type": "code",
   "execution_count": null,
   "metadata": {
    "colab": {
     "base_uri": "https://localhost:8080/"
    },
    "executionInfo": {
     "elapsed": 2143,
     "status": "ok",
     "timestamp": 1685202886831,
     "user": {
      "displayName": "毛利拓也",
      "userId": "17854120745961292401"
     },
     "user_tz": -540
    },
    "id": "884qdTBLOtPT",
    "outputId": "9e205980-6abc-4df4-f7fd-6df5e8c9d0b3"
   },
   "outputs": [
    {
     "name": "stdout",
     "output_type": "stream",
     "text": [
      "MAE test: 240.81\n"
     ]
    }
   ],
   "source": [
    "# テストデータの予測と評価\n",
    "y_test_pred = model.predict(X_test, num_iteration=model.best_iteration) \n",
    "print('MAE test: %.2f' % (mean_absolute_error(y_test, y_test_pred)))"
   ]
  },
  {
   "cell_type": "code",
   "execution_count": null,
   "metadata": {
    "colab": {
     "base_uri": "https://localhost:8080/",
     "height": 587
    },
    "executionInfo": {
     "elapsed": 1480,
     "status": "ok",
     "timestamp": 1685202891468,
     "user": {
      "displayName": "毛利拓也",
      "userId": "17854120745961292401"
     },
     "user_tz": -540
    },
    "id": "Rtnt8QmKy95M",
    "outputId": "f1fca1ae-efbf-494c-b07b-8998fe9a13f6"
   },
   "outputs": [
    {
     "data": {
      "image/png": "[encoded data removed]",
      "text/plain": [
       "<Figure size 800x400 with 1 Axes>"
      ]
     },
     "metadata": {},
     "output_type": "display_data"
    }
   ],
   "source": [
    "# 特徴量重要度の可視化\n",
    "importances = model.feature_importance(importance_type='gain') # 特徴量重要度\n",
    "indices = np.argsort(importances)[::-1] # 特徴量重要度を降順にソート\n",
    "\n",
    "plt.figure(figsize=(8, 4)) #プロットのサイズ指定\n",
    "plt.title('Feature Importance') # プロットのタイトルを作成\n",
    "plt.bar(range(len(indices)), importances[indices]) # 棒グラフを追加\n",
    "plt.xticks(range(len(indices)), X.columns[indices], rotation=90) # X軸に特徴量の名前を追加\n",
    "plt.show() # プロットを表示"
   ]
  },
  {
   "cell_type": "code",
   "execution_count": null,
   "metadata": {
    "id": "rfmXnDFwy97k"
   },
   "outputs": [],
   "source": []
  },
  {
   "cell_type": "markdown",
   "metadata": {
    "id": "xQfYzXdneaQw"
   },
   "source": [
    "# クロスバリデーション"
   ]
  },
  {
   "cell_type": "code",
   "execution_count": null,
   "metadata": {
    "colab": {
     "base_uri": "https://localhost:8080/"
    },
    "executionInfo": {
     "elapsed": 217316,
     "status": "ok",
     "timestamp": 1684260021425,
     "user": {
      "displayName": "毛利拓也",
      "userId": "17854120745961292401"
     },
     "user_tz": -540
    },
    "id": "aI3Yea7cTCCb",
    "outputId": "d55082ae-e3f4-44a7-e1a6-ff7a1bbce21e"
   },
   "outputs": [
    {
     "name": "stdout",
     "output_type": "stream",
     "text": [
      "Training until validation scores don't improve for 100 rounds\n",
      "[500]\ttrain's l1: 214.164\tvalid's l1: 246.749\n",
      "[1000]\ttrain's l1: 177.886\tvalid's l1: 242.937\n",
      "[1500]\ttrain's l1: 158.366\tvalid's l1: 242.278\n",
      "[2000]\ttrain's l1: 147.191\tvalid's l1: 241.943\n",
      "Early stopping, best iteration is:\n",
      "[1989]\ttrain's l1: 147.405\tvalid's l1: 241.928\n",
      "fold 1 MAE valid: 241.93\n",
      "\n",
      "Training until validation scores don't improve for 100 rounds\n",
      "[500]\ttrain's l1: 212.626\tvalid's l1: 249.24\n",
      "[1000]\ttrain's l1: 176.42\tvalid's l1: 246.118\n",
      "[1500]\ttrain's l1: 156.094\tvalid's l1: 245.163\n",
      "[2000]\ttrain's l1: 146.313\tvalid's l1: 244.693\n",
      "[2500]\ttrain's l1: 139.223\tvalid's l1: 244.41\n",
      "[3000]\ttrain's l1: 133.348\tvalid's l1: 244.237\n",
      "Early stopping, best iteration is:\n",
      "[3034]\ttrain's l1: 132.964\tvalid's l1: 244.22\n",
      "fold 2 MAE valid: 244.22\n",
      "\n",
      "Training until validation scores don't improve for 100 rounds\n",
      "[500]\ttrain's l1: 213.699\tvalid's l1: 251.944\n",
      "[1000]\ttrain's l1: 179.891\tvalid's l1: 247.809\n",
      "[1500]\ttrain's l1: 159.422\tvalid's l1: 246.727\n",
      "[2000]\ttrain's l1: 147.827\tvalid's l1: 246.21\n",
      "[2500]\ttrain's l1: 141.056\tvalid's l1: 245.888\n",
      "Early stopping, best iteration is:\n",
      "[2673]\ttrain's l1: 138.947\tvalid's l1: 245.782\n",
      "fold 3 MAE valid: 245.78\n",
      "\n",
      "Training until validation scores don't improve for 100 rounds\n",
      "[500]\ttrain's l1: 213.989\tvalid's l1: 254.117\n",
      "[1000]\ttrain's l1: 180.963\tvalid's l1: 249.291\n",
      "[1500]\ttrain's l1: 161.151\tvalid's l1: 247.374\n",
      "[2000]\ttrain's l1: 149.88\tvalid's l1: 246.518\n",
      "[2500]\ttrain's l1: 143.05\tvalid's l1: 246.067\n",
      "[3000]\ttrain's l1: 136.031\tvalid's l1: 245.768\n",
      "Early stopping, best iteration is:\n",
      "[3273]\ttrain's l1: 132.795\tvalid's l1: 245.598\n",
      "fold 4 MAE valid: 245.60\n",
      "\n",
      "Training until validation scores don't improve for 100 rounds\n",
      "[500]\ttrain's l1: 213.37\tvalid's l1: 250.681\n",
      "[1000]\ttrain's l1: 178.746\tvalid's l1: 247.014\n",
      "[1500]\ttrain's l1: 159.403\tvalid's l1: 245.93\n",
      "Early stopping, best iteration is:\n",
      "[1602]\ttrain's l1: 156.668\tvalid's l1: 245.789\n",
      "fold 5 MAE valid: 245.79\n",
      "\n",
      "CV score: 244.66\n"
     ]
    }
   ],
   "source": [
    "# 最適化ハイパーパラメータを用いたクロスバリデーション\n",
    "from sklearn.model_selection import KFold\n",
    "\n",
    "# 格納用データの作成\n",
    "valid_scores = []\n",
    "models = []\n",
    "oof = np.zeros(len(X_train))\n",
    "\n",
    "# KFoldを用いて学習データを5分割してモデルを作成\n",
    "kf = KFold(n_splits=5, shuffle=True, random_state=0)\n",
    "for fold, (tr_idx, va_idx) in enumerate(kf.split(X_train)):\n",
    "    X_tr = X_train.iloc[tr_idx]\n",
    "    X_va = X_train.iloc[va_idx]\n",
    "    y_tr = y_train.iloc[tr_idx]\n",
    "    y_va = y_train.iloc[va_idx]\n",
    "    \n",
    "    lgb_train = lgb.Dataset(X_tr, y_tr)\n",
    "    lgb_eval = lgb.Dataset(X_va, y_va, reference=lgb_train)\n",
    "\n",
    "    # 最適化ハイパーパラメータを読み込み\n",
    "    model = lgb.train(params_best,\n",
    "                      lgb_train,\n",
    "                      num_boost_round=10000,\n",
    "                      valid_sets=[lgb_train, lgb_eval],\n",
    "                      valid_names=['train', 'valid'],\n",
    "                      callbacks=[lgb.early_stopping(100),\n",
    "                      lgb.log_evaluation(500)])\n",
    "\n",
    "    y_va_pred = model.predict(X_va, num_iteration=model.best_iteration)\n",
    "    score = mean_absolute_error(y_va, y_va_pred)\n",
    "    print(f'fold {fold+1} MAE valid: {score:.2f}')\n",
    "    print('')\n",
    "\n",
    "    # スコア、モデル、予測値の格納\n",
    "    valid_scores.append(score)\n",
    "    models.append(model)\n",
    "    oof[va_idx] = y_va_pred\n",
    "\n",
    "# クロスバリデーションの平均スコア\n",
    "cv_score = np.mean(valid_scores)\n",
    "print(f'CV score: {cv_score:.2f}')"
   ]
  },
  {
   "cell_type": "code",
   "execution_count": null,
   "metadata": {
    "colab": {
     "base_uri": "https://localhost:8080/"
    },
    "executionInfo": {
     "elapsed": 16,
     "status": "ok",
     "timestamp": 1684260021425,
     "user": {
      "displayName": "毛利拓也",
      "userId": "17854120745961292401"
     },
     "user_tz": -540
    },
    "id": "KoBHTbv4TgFu",
    "outputId": "347405e3-7909-4286-a1c7-883e294d825d"
   },
   "outputs": [
    {
     "data": {
      "text/plain": [
       "[241.92787340734705,\n",
       " 244.2196698204141,\n",
       " 245.78150048457576,\n",
       " 245.59781386253843,\n",
       " 245.78883698359985]"
      ]
     },
     "execution_count": 33,
     "metadata": {},
     "output_type": "execute_result"
    }
   ],
   "source": [
    "# 検証データの誤差\n",
    "valid_scores"
   ]
  },
  {
   "cell_type": "code",
   "execution_count": null,
   "metadata": {
    "colab": {
     "base_uri": "https://localhost:8080/"
    },
    "executionInfo": {
     "elapsed": 14,
     "status": "ok",
     "timestamp": 1684260021425,
     "user": {
      "displayName": "毛利拓也",
      "userId": "17854120745961292401"
     },
     "user_tz": -540
    },
    "id": "asEURz_baIXh",
    "outputId": "2a4f9cd9-d5b6-4bc3-f9ed-e1e09adc7aa0"
   },
   "outputs": [
    {
     "data": {
      "text/plain": [
       "244.66313891169503"
      ]
     },
     "execution_count": 34,
     "metadata": {},
     "output_type": "execute_result"
    }
   ],
   "source": [
    "# 検証データの誤差平均\n",
    "cv_score"
   ]
  },
  {
   "cell_type": "code",
   "execution_count": null,
   "metadata": {
    "colab": {
     "base_uri": "https://localhost:8080/"
    },
    "executionInfo": {
     "elapsed": 12,
     "status": "ok",
     "timestamp": 1684260021426,
     "user": {
      "displayName": "毛利拓也",
      "userId": "17854120745961292401"
     },
     "user_tz": -540
    },
    "id": "5bIdeQ82BV_f",
    "outputId": "3b540fe8-fc1a-4e05-efaf-95a57b28d3f1"
   },
   "outputs": [
    {
     "name": "stdout",
     "output_type": "stream",
     "text": [
      "MAE CV: 244.66\n"
     ]
    }
   ],
   "source": [
    "# 検証データの誤差平均\n",
    "print('MAE CV: %.2f' % (\n",
    "      mean_absolute_error(y_train, oof)))"
   ]
  },
  {
   "cell_type": "code",
   "execution_count": null,
   "metadata": {
    "id": "5rP9AnxtbYrv"
   },
   "outputs": [],
   "source": []
  }
 ],
 "metadata": {
  "colab": {
   "provenance": []
  },
  "kernelspec": {
   "display_name": "Python 3 (ipykernel)",
   "language": "python",
   "name": "python3"
  },
  "language_info": {
   "codemirror_mode": {
    "name": "ipython",
    "version": 3
   },
   "file_extension": ".py",
   "mimetype": "text/x-python",
   "name": "python",
   "nbconvert_exporter": "python",
   "pygments_lexer": "ipython3",
   "version": "3.10.11"
  }
 },
 "nbformat": 4,
 "nbformat_minor": 4
}
