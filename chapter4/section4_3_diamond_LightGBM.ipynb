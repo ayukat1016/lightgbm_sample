{
 "cells": [
  {
   "cell_type": "markdown",
   "metadata": {
    "id": "qfTJBDaa1LfX"
   },
   "source": [
    "# LightGBM（特徴量エンジニアリングなし×ハイパーパラメータ初期値）"
   ]
  },
  {
   "cell_type": "code",
   "execution_count": null,
   "metadata": {
    "id": "BkcIda10zvc3",
    "vscode": {
     "languageId": "python"
    }
   },
   "outputs": [],
   "source": [
    "# # Colabでバージョンを変更するとき、コメントアウトして実行してください\n",
    "# !pip install pandas==1.5.3\n",
    "# !pip install numpy==1.22.4\n",
    "# !pip install matplotlib==3.7.1\n",
    "# !pip install seaborn==0.12.2\n",
    "# !pip install scikit-learn==1.2.2\n",
    "# !pip install lightgbm==3.3.5\n",
    "# !pip install shap==0.41.0"
   ]
  },
  {
   "cell_type": "code",
   "execution_count": 1,
   "metadata": {
    "id": "q2p1g_5H7CeY",
    "vscode": {
     "languageId": "python"
    }
   },
   "outputs": [],
   "source": [
    "# ライブラリのインポート\n",
    "%matplotlib inline\n",
    "import pandas as pd\n",
    "import numpy as np\n",
    "import matplotlib.pyplot as plt\n",
    "import seaborn as sns\n",
    "from sklearn.model_selection import train_test_split\n",
    "from sklearn.metrics import mean_absolute_error\n",
    "import warnings\n",
    "warnings.filterwarnings('ignore', category=UserWarning)"
   ]
  },
  {
   "cell_type": "code",
   "execution_count": 2,
   "metadata": {
    "colab": {
     "base_uri": "https://localhost:8080/"
    },
    "executionInfo": {
     "elapsed": 2174,
     "status": "ok",
     "timestamp": 1685694706610,
     "user": {
      "displayName": "毛利拓也",
      "userId": "17854120745961292401"
     },
     "user_tz": -540
    },
    "id": "z_cqi5kFzvRJ",
    "outputId": "946f857d-547b-43bf-b9df-f1db58abd902",
    "vscode": {
     "languageId": "python"
    }
   },
   "outputs": [
    {
     "name": "stdout",
     "output_type": "stream",
     "text": [
      "1.5.3\n",
      "1.22.4\n",
      "3.7.1\n",
      "0.12.2\n",
      "1.2.2\n",
      "3.3.5\n"
     ]
    }
   ],
   "source": [
    "# バージョンの確認\n",
    "import matplotlib\n",
    "import sklearn\n",
    "import lightgbm as lgb\n",
    "print(pd.__version__) \n",
    "print(np.__version__)\n",
    "print(matplotlib.__version__)\n",
    "print(sns.__version__)\n",
    "print(sklearn.__version__) \n",
    "print(lgb.__version__)"
   ]
  },
  {
   "cell_type": "code",
   "execution_count": 3,
   "metadata": {
    "colab": {
     "base_uri": "https://localhost:8080/",
     "height": 224
    },
    "executionInfo": {
     "elapsed": 372,
     "status": "ok",
     "timestamp": 1685694709622,
     "user": {
      "displayName": "毛利拓也",
      "userId": "17854120745961292401"
     },
     "user_tz": -540
    },
    "id": "QrdwuiHM-8N5",
    "outputId": "a5ffe58b-2585-4c3e-b8fa-7696c9ee890b",
    "vscode": {
     "languageId": "python"
    }
   },
   "outputs": [
    {
     "name": "stdout",
     "output_type": "stream",
     "text": [
      "(53911, 10)\n"
     ]
    },
    {
     "data": {
      "text/html": [
       "<div>\n",
       "<style scoped>\n",
       "    .dataframe tbody tr th:only-of-type {\n",
       "        vertical-align: middle;\n",
       "    }\n",
       "\n",
       "    .dataframe tbody tr th {\n",
       "        vertical-align: top;\n",
       "    }\n",
       "\n",
       "    .dataframe thead th {\n",
       "        text-align: right;\n",
       "    }\n",
       "</style>\n",
       "<table border=\"1\" class=\"dataframe\">\n",
       "  <thead>\n",
       "    <tr style=\"text-align: right;\">\n",
       "      <th></th>\n",
       "      <th>carat</th>\n",
       "      <th>cut</th>\n",
       "      <th>color</th>\n",
       "      <th>clarity</th>\n",
       "      <th>depth</th>\n",
       "      <th>table</th>\n",
       "      <th>price</th>\n",
       "      <th>x</th>\n",
       "      <th>y</th>\n",
       "      <th>z</th>\n",
       "    </tr>\n",
       "  </thead>\n",
       "  <tbody>\n",
       "    <tr>\n",
       "      <th>0</th>\n",
       "      <td>0.23</td>\n",
       "      <td>Ideal</td>\n",
       "      <td>E</td>\n",
       "      <td>SI2</td>\n",
       "      <td>61.5</td>\n",
       "      <td>55.0</td>\n",
       "      <td>326</td>\n",
       "      <td>3.95</td>\n",
       "      <td>3.98</td>\n",
       "      <td>2.43</td>\n",
       "    </tr>\n",
       "    <tr>\n",
       "      <th>1</th>\n",
       "      <td>0.21</td>\n",
       "      <td>Premium</td>\n",
       "      <td>E</td>\n",
       "      <td>SI1</td>\n",
       "      <td>59.8</td>\n",
       "      <td>61.0</td>\n",
       "      <td>326</td>\n",
       "      <td>3.89</td>\n",
       "      <td>3.84</td>\n",
       "      <td>2.31</td>\n",
       "    </tr>\n",
       "    <tr>\n",
       "      <th>2</th>\n",
       "      <td>0.23</td>\n",
       "      <td>Good</td>\n",
       "      <td>E</td>\n",
       "      <td>VS1</td>\n",
       "      <td>56.9</td>\n",
       "      <td>65.0</td>\n",
       "      <td>327</td>\n",
       "      <td>4.05</td>\n",
       "      <td>4.07</td>\n",
       "      <td>2.31</td>\n",
       "    </tr>\n",
       "    <tr>\n",
       "      <th>3</th>\n",
       "      <td>0.29</td>\n",
       "      <td>Premium</td>\n",
       "      <td>I</td>\n",
       "      <td>VS2</td>\n",
       "      <td>62.4</td>\n",
       "      <td>58.0</td>\n",
       "      <td>334</td>\n",
       "      <td>4.20</td>\n",
       "      <td>4.23</td>\n",
       "      <td>2.63</td>\n",
       "    </tr>\n",
       "    <tr>\n",
       "      <th>4</th>\n",
       "      <td>0.31</td>\n",
       "      <td>Good</td>\n",
       "      <td>J</td>\n",
       "      <td>SI2</td>\n",
       "      <td>63.3</td>\n",
       "      <td>58.0</td>\n",
       "      <td>335</td>\n",
       "      <td>4.34</td>\n",
       "      <td>4.35</td>\n",
       "      <td>2.75</td>\n",
       "    </tr>\n",
       "  </tbody>\n",
       "</table>\n",
       "</div>"
      ],
      "text/plain": [
       "   carat      cut color clarity  depth  table  price     x     y     z\n",
       "0   0.23    Ideal     E     SI2   61.5   55.0    326  3.95  3.98  2.43\n",
       "1   0.21  Premium     E     SI1   59.8   61.0    326  3.89  3.84  2.31\n",
       "2   0.23     Good     E     VS1   56.9   65.0    327  4.05  4.07  2.31\n",
       "3   0.29  Premium     I     VS2   62.4   58.0    334  4.20  4.23  2.63\n",
       "4   0.31     Good     J     SI2   63.3   58.0    335  4.34  4.35  2.75"
      ]
     },
     "execution_count": 3,
     "metadata": {},
     "output_type": "execute_result"
    }
   ],
   "source": [
    "# データ読み込み、外れ値の除外\n",
    "\n",
    "# データセットの読み込み\n",
    "df = sns.load_dataset('diamonds')\n",
    "\n",
    "# 外れ値除外の前処理\n",
    "df = df.drop(df[(df['x'] == 0) | (df['y'] == 0)| (df['z'] == 0)].index, axis=0)\n",
    "df = df.drop(df[(df['x'] >= 10) | (df['y'] >= 10) | (df['z'] >= 10)].index, axis=0)\n",
    "df.reset_index(inplace=True, drop=True)\n",
    "print(df.shape)\n",
    "df.head()"
   ]
  },
  {
   "cell_type": "code",
   "execution_count": 4,
   "metadata": {
    "id": "Wnt0YvAZKega",
    "vscode": {
     "languageId": "python"
    }
   },
   "outputs": [],
   "source": [
    "# 特徴量と目的変数の設定\n",
    "X = df.drop(['price'], axis=1)\n",
    "y = df['price']"
   ]
  },
  {
   "cell_type": "code",
   "execution_count": 5,
   "metadata": {
    "colab": {
     "base_uri": "https://localhost:8080/"
    },
    "executionInfo": {
     "elapsed": 906,
     "status": "ok",
     "timestamp": 1685694794796,
     "user": {
      "displayName": "毛利拓也",
      "userId": "17854120745961292401"
     },
     "user_tz": -540
    },
    "id": "xH4tp8iFTH9N",
    "outputId": "3124903a-0b0e-4dc0-b3ac-40270fe023d1",
    "vscode": {
     "languageId": "python"
    }
   },
   "outputs": [
    {
     "name": "stdout",
     "output_type": "stream",
     "text": [
      "X_trainの形状： (43128, 9)  y_trainの形状： (43128,)  X_testの形状： (10783, 9)  y_testの形状： (10783,)\n"
     ]
    }
   ],
   "source": [
    "# 学習データとテストデータに分割\n",
    "X_train, X_test, y_train, y_test = train_test_split(X, y, test_size=0.2, shuffle=True, random_state=0)\n",
    "print('X_trainの形状：', X_train.shape, ' y_trainの形状：', y_train.shape, ' X_testの形状：', X_test.shape, ' y_testの形状：', y_test.shape)"
   ]
  },
  {
   "cell_type": "code",
   "execution_count": 6,
   "metadata": {
    "colab": {
     "base_uri": "https://localhost:8080/"
    },
    "executionInfo": {
     "elapsed": 484,
     "status": "ok",
     "timestamp": 1685694795276,
     "user": {
      "displayName": "毛利拓也",
      "userId": "17854120745961292401"
     },
     "user_tz": -540
    },
    "id": "2nvscWnuhAHP",
    "outputId": "1807ea6f-b02d-488a-c25f-24ecb7cab2d0",
    "vscode": {
     "languageId": "python"
    }
   },
   "outputs": [
    {
     "data": {
      "text/plain": [
       "carat         1.06\n",
       "cut        Premium\n",
       "color            D\n",
       "clarity        SI2\n",
       "depth         60.9\n",
       "table         60.0\n",
       "x             6.55\n",
       "y             6.52\n",
       "z             3.98\n",
       "Name: 6999, dtype: object"
      ]
     },
     "execution_count": 6,
     "metadata": {},
     "output_type": "execute_result"
    }
   ],
   "source": [
    "# テストデータ3件目の特徴量（label encoding前）\n",
    "X_test.iloc[2]"
   ]
  },
  {
   "cell_type": "code",
   "execution_count": 7,
   "metadata": {
    "colab": {
     "base_uri": "https://localhost:8080/"
    },
    "executionInfo": {
     "elapsed": 9,
     "status": "ok",
     "timestamp": 1685694795278,
     "user": {
      "displayName": "毛利拓也",
      "userId": "17854120745961292401"
     },
     "user_tz": -540
    },
    "id": "IcoKZ4MAfZ1R",
    "outputId": "cbe4e3b2-e841-47a9-94fd-e6d984329ae8",
    "vscode": {
     "languageId": "python"
    }
   },
   "outputs": [
    {
     "name": "stdout",
     "output_type": "stream",
     "text": [
      "<class 'pandas.core.frame.DataFrame'>\n",
      "Int64Index: 43128 entries, 2640 to 2732\n",
      "Data columns (total 9 columns):\n",
      " #   Column   Non-Null Count  Dtype  \n",
      "---  ------   --------------  -----  \n",
      " 0   carat    43128 non-null  float64\n",
      " 1   cut      43128 non-null  int64  \n",
      " 2   color    43128 non-null  int64  \n",
      " 3   clarity  43128 non-null  int64  \n",
      " 4   depth    43128 non-null  float64\n",
      " 5   table    43128 non-null  float64\n",
      " 6   x        43128 non-null  float64\n",
      " 7   y        43128 non-null  float64\n",
      " 8   z        43128 non-null  float64\n",
      "dtypes: float64(6), int64(3)\n",
      "memory usage: 3.3 MB\n"
     ]
    }
   ],
   "source": [
    "# カテゴリ変数のlabel encoding\n",
    "from sklearn.preprocessing import LabelEncoder\n",
    "\n",
    "cat_cols = ['cut', 'color', 'clarity']\n",
    "\n",
    "for c in cat_cols:\n",
    "    le = LabelEncoder()\n",
    "    le.fit(X_train[c])\n",
    "    X_train[c] = le.transform(X_train[c])\n",
    "    X_test[c] = le.transform(X_test[c])\n",
    "\n",
    "X_train.info() "
   ]
  },
  {
   "cell_type": "code",
   "execution_count": 8,
   "metadata": {
    "colab": {
     "base_uri": "https://localhost:8080/"
    },
    "executionInfo": {
     "elapsed": 4,
     "status": "ok",
     "timestamp": 1685694802535,
     "user": {
      "displayName": "毛利拓也",
      "userId": "17854120745961292401"
     },
     "user_tz": -540
    },
    "id": "B6WFCu1V5lUe",
    "outputId": "25058868-8cec-46b3-9234-38191089d047",
    "vscode": {
     "languageId": "python"
    }
   },
   "outputs": [
    {
     "name": "stdout",
     "output_type": "stream",
     "text": [
      "<class 'pandas.core.frame.DataFrame'>\n",
      "Int64Index: 43128 entries, 2640 to 2732\n",
      "Data columns (total 9 columns):\n",
      " #   Column   Non-Null Count  Dtype   \n",
      "---  ------   --------------  -----   \n",
      " 0   carat    43128 non-null  float64 \n",
      " 1   cut      43128 non-null  category\n",
      " 2   color    43128 non-null  category\n",
      " 3   clarity  43128 non-null  category\n",
      " 4   depth    43128 non-null  float64 \n",
      " 5   table    43128 non-null  float64 \n",
      " 6   x        43128 non-null  float64 \n",
      " 7   y        43128 non-null  float64 \n",
      " 8   z        43128 non-null  float64 \n",
      "dtypes: category(3), float64(6)\n",
      "memory usage: 2.4 MB\n"
     ]
    }
   ],
   "source": [
    "# カテゴリ変数のデータ型をcategory型に変換\n",
    "cat_cols = ['cut', 'color', 'clarity']\n",
    "\n",
    "for c in cat_cols:\n",
    "    X_train[c] = X_train[c].astype('category')\n",
    "    X_test[c] = X_test[c].astype('category')\n",
    "\n",
    "X_train.info()"
   ]
  },
  {
   "cell_type": "code",
   "execution_count": 9,
   "metadata": {
    "colab": {
     "base_uri": "https://localhost:8080/"
    },
    "executionInfo": {
     "elapsed": 4,
     "status": "ok",
     "timestamp": 1685694804693,
     "user": {
      "displayName": "毛利拓也",
      "userId": "17854120745961292401"
     },
     "user_tz": -540
    },
    "id": "9igrJA6lL8iN",
    "outputId": "d8f25c4f-46a3-4b60-9ac3-154d51f7c962",
    "vscode": {
     "languageId": "python"
    }
   },
   "outputs": [
    {
     "name": "stdout",
     "output_type": "stream",
     "text": [
      "X_trの形状： (34502, 9)  y_trの形状： (34502,)  X_vaの形状： (8626, 9)  y_vaの形状： (8626,)\n"
     ]
    }
   ],
   "source": [
    "# 学習データの一部を検証データに分割\n",
    "X_tr, X_va, y_tr, y_va = train_test_split(X_train, y_train, test_size=0.2, shuffle=True, random_state=0)\n",
    "print('X_trの形状：', X_tr.shape, ' y_trの形状：', y_tr.shape, ' X_vaの形状：', X_va.shape, ' y_vaの形状：', y_va.shape)"
   ]
  },
  {
   "cell_type": "code",
   "execution_count": 10,
   "metadata": {
    "id": "9ZjrP87K7aOo",
    "vscode": {
     "languageId": "python"
    }
   },
   "outputs": [],
   "source": [
    "# ハイパーパラメータの設定\n",
    "import lightgbm as lgb\n",
    "\n",
    "lgb_train = lgb.Dataset(X_tr, y_tr)\n",
    "lgb_eval = lgb.Dataset(X_va, y_va, reference=lgb_train)\n",
    "\n",
    "params = {\n",
    "    'objective': 'mae',\n",
    "    'seed': 0,\n",
    "    'verbose': -1,\n",
    "}\n",
    "\n",
    "# 誤差プロットの格納用データ\n",
    "evals_result = {}"
   ]
  },
  {
   "cell_type": "code",
   "execution_count": 11,
   "metadata": {
    "colab": {
     "base_uri": "https://localhost:8080/"
    },
    "executionInfo": {
     "elapsed": 7959,
     "status": "ok",
     "timestamp": 1685694833967,
     "user": {
      "displayName": "毛利拓也",
      "userId": "17854120745961292401"
     },
     "user_tz": -540
    },
    "id": "D191VN5b_8hF",
    "outputId": "97f3d00b-26dc-4869-f526-72a2b55e114c",
    "vscode": {
     "languageId": "python"
    }
   },
   "outputs": [
    {
     "name": "stdout",
     "output_type": "stream",
     "text": [
      "Training until validation scores don't improve for 100 rounds\n",
      "[500]\ttrain's l1: 230.356\tvalid's l1: 260.634\n",
      "[1000]\ttrain's l1: 208.097\tvalid's l1: 257.966\n",
      "Early stopping, best iteration is:\n",
      "[1258]\ttrain's l1: 203.107\tvalid's l1: 257.68\n",
      "MAE valid: 257.68\n"
     ]
    }
   ],
   "source": [
    "# モデルの学習\n",
    "model = lgb.train(params,\n",
    "                  lgb_train,\n",
    "                  num_boost_round=10000,\n",
    "                  valid_sets=[lgb_train, lgb_eval],\n",
    "                  valid_names=['train', 'valid'],\n",
    "                  callbacks=[lgb.early_stopping(100),\n",
    "                             lgb.log_evaluation(500),\n",
    "                             lgb.record_evaluation(evals_result)])\n",
    "\n",
    "y_va_pred = model.predict(X_va, num_iteration=model.best_iteration)\n",
    "score = mean_absolute_error(y_va, y_va_pred)\n",
    "print(f'MAE valid: {score:.2f}')"
   ]
  },
  {
   "cell_type": "code",
   "execution_count": 12,
   "metadata": {
    "colab": {
     "base_uri": "https://localhost:8080/",
     "height": 490
    },
    "executionInfo": {
     "elapsed": 445,
     "status": "ok",
     "timestamp": 1685694834400,
     "user": {
      "displayName": "毛利拓也",
      "userId": "17854120745961292401"
     },
     "user_tz": -540
    },
    "id": "dEl6duONSn28",
    "outputId": "921c2d8a-e630-45b2-deb6-cbe1bed3b54e",
    "vscode": {
     "languageId": "python"
    }
   },
   "outputs": [
    {
     "data": {
      "text/plain": [
       "<Axes: title={'center': 'Metric during training'}, xlabel='Iterations', ylabel='l1'>"
      ]
     },
     "execution_count": 12,
     "metadata": {},
     "output_type": "execute_result"
    },
    {
     "data": {
      "image/png": "[encoded data removed]",
      "text/plain": [
       "<Figure size 640x480 with 1 Axes>"
      ]
     },
     "metadata": {},
     "output_type": "display_data"
    }
   ],
   "source": [
    "# 学習データと検証データの誤差プロット\n",
    "lgb.plot_metric(evals_result)"
   ]
  },
  {
   "cell_type": "code",
   "execution_count": 13,
   "metadata": {
    "colab": {
     "base_uri": "https://localhost:8080/"
    },
    "executionInfo": {
     "elapsed": 12,
     "status": "ok",
     "timestamp": 1685694834401,
     "user": {
      "displayName": "毛利拓也",
      "userId": "17854120745961292401"
     },
     "user_tz": -540
    },
    "id": "Oa8jd-hk6fUO",
    "outputId": "87dac134-820b-43f9-f299-c10bcf11d92c",
    "vscode": {
     "languageId": "python"
    }
   },
   "outputs": [
    {
     "data": {
      "text/plain": [
       "1258"
      ]
     },
     "execution_count": 13,
     "metadata": {},
     "output_type": "execute_result"
    }
   ],
   "source": [
    "# 学習が停止したブースティング回数\n",
    "model.best_iteration"
   ]
  },
  {
   "cell_type": "code",
   "execution_count": 14,
   "metadata": {
    "colab": {
     "base_uri": "https://localhost:8080/"
    },
    "executionInfo": {
     "elapsed": 888,
     "status": "ok",
     "timestamp": 1685694840677,
     "user": {
      "displayName": "毛利拓也",
      "userId": "17854120745961292401"
     },
     "user_tz": -540
    },
    "id": "Z1v_-TSQFxwN",
    "outputId": "59ba9ed7-b2f6-4334-f8e3-380c1d1a6fcc",
    "vscode": {
     "languageId": "python"
    }
   },
   "outputs": [
    {
     "name": "stdout",
     "output_type": "stream",
     "text": [
      "MAE valid: 257.68\n"
     ]
    }
   ],
   "source": [
    "# 検証データの予測と評価\n",
    "y_va_pred = model.predict(X_va, num_iteration=model.best_iteration) \n",
    "print('MAE valid: %.2f' % (mean_absolute_error(y_va, y_va_pred)))"
   ]
  },
  {
   "cell_type": "code",
   "execution_count": 15,
   "metadata": {
    "colab": {
     "base_uri": "https://localhost:8080/"
    },
    "executionInfo": {
     "elapsed": 580,
     "status": "ok",
     "timestamp": 1685694846633,
     "user": {
      "displayName": "毛利拓也",
      "userId": "17854120745961292401"
     },
     "user_tz": -540
    },
    "id": "ZGpVrj7Tq8pC",
    "outputId": "6db486a5-3eee-44d7-f78a-ce0bf7aed510",
    "vscode": {
     "languageId": "python"
    }
   },
   "outputs": [
    {
     "name": "stdout",
     "output_type": "stream",
     "text": [
      "MAE test: 262.61\n"
     ]
    }
   ],
   "source": [
    "# テストデータの予測と評価\n",
    "y_test_pred = model.predict(X_test, num_iteration=model.best_iteration) \n",
    "print('MAE test: %.2f' % (mean_absolute_error(y_test, y_test_pred)))"
   ]
  },
  {
   "cell_type": "code",
   "execution_count": 16,
   "metadata": {
    "colab": {
     "base_uri": "https://localhost:8080/"
    },
    "executionInfo": {
     "elapsed": 518,
     "status": "ok",
     "timestamp": 1685694848854,
     "user": {
      "displayName": "毛利拓也",
      "userId": "17854120745961292401"
     },
     "user_tz": -540
    },
    "id": "GiRNsacZTmyG",
    "outputId": "5d9746c2-bfe7-442b-b99c-e156584ce9c7",
    "vscode": {
     "languageId": "python"
    }
   },
   "outputs": [
    {
     "name": "stdout",
     "output_type": "stream",
     "text": [
      "正解値： [3353 2930 4155 2780  684]\n",
      "予測値： [3357.55731496 2933.55703446 4789.28650622 2939.79413242  748.33015008]\n",
      "残差=正解値-予測値： [  -4.55731496   -3.55703446 -634.28650622 -159.79413242  -64.33015008]\n"
     ]
    }
   ],
   "source": [
    "# テストデータの正解値と予測値の比較\n",
    "print('正解値：', y_test[:5].values)\n",
    "print('予測値：', y_test_pred[:5])\n",
    "print('残差=正解値-予測値：', y_test[:5].values - y_test_pred[:5])"
   ]
  },
  {
   "cell_type": "code",
   "execution_count": 17,
   "metadata": {
    "colab": {
     "base_uri": "https://localhost:8080/",
     "height": 417
    },
    "executionInfo": {
     "elapsed": 705,
     "status": "ok",
     "timestamp": 1685694855058,
     "user": {
      "displayName": "毛利拓也",
      "userId": "17854120745961292401"
     },
     "user_tz": -540
    },
    "id": "FxG8t5OlwTja",
    "outputId": "978043f3-9785-4075-dbc9-b1c4f577c4c6",
    "vscode": {
     "languageId": "python"
    }
   },
   "outputs": [
    {
     "data": {
      "image/png": "[encoded data removed]",
      "text/plain": [
       "<Figure size 800x400 with 1 Axes>"
      ]
     },
     "metadata": {},
     "output_type": "display_data"
    }
   ],
   "source": [
    "# 残差のプロット\n",
    "\n",
    "# 残差の計算\n",
    "residuals = y_test - y_test_pred\n",
    "# 残差と予測値の散布図\n",
    "plt.figure(figsize=(8, 4)) #プロットのサイズ指定\n",
    "plt.scatter(y_test_pred, residuals, s=3)\n",
    "plt.xlabel('Predicted values', fontsize=14)\n",
    "plt.ylabel('Residuals', fontsize=14)\n",
    "plt.title('Residuals vs Predicted values', fontsize=16)\n",
    "plt.grid()\n",
    "plt.show()"
   ]
  },
  {
   "cell_type": "code",
   "execution_count": 18,
   "metadata": {
    "colab": {
     "base_uri": "https://localhost:8080/",
     "height": 420
    },
    "executionInfo": {
     "elapsed": 565,
     "status": "ok",
     "timestamp": 1685694859264,
     "user": {
      "displayName": "毛利拓也",
      "userId": "17854120745961292401"
     },
     "user_tz": -540
    },
    "id": "5KhsjqDeUY2k",
    "outputId": "9fff7dfb-508d-4b5e-e4c1-f1df43215e9b",
    "vscode": {
     "languageId": "python"
    }
   },
   "outputs": [
    {
     "data": {
      "image/png": "[encoded data removed]",
      "text/plain": [
       "<Figure size 800x400 with 1 Axes>"
      ]
     },
     "metadata": {},
     "output_type": "display_data"
    }
   ],
   "source": [
    "# 特徴量の重要度の可視化\n",
    "importances = model.feature_importance(importance_type='gain') # 特徴量の重要度\n",
    "indices = np.argsort(importances)[::-1] # 特徴量の重要度を降順にソート\n",
    "\n",
    "plt.figure(figsize=(8, 4)) #プロットのサイズ指定\n",
    "plt.title('Feature Importance') # プロットのタイトルを作成\n",
    "plt.bar(range(len(indices)), importances[indices]) # 棒グラフを追加\n",
    "plt.xticks(range(len(indices)), X.columns[indices], rotation=90) # X軸に特徴量の名前を追加\n",
    "plt.show() # プロットを表示"
   ]
  },
  {
   "cell_type": "code",
   "execution_count": null,
   "metadata": {
    "id": "_w_4bxGTu4uH",
    "vscode": {
     "languageId": "python"
    }
   },
   "outputs": [],
   "source": []
  },
  {
   "cell_type": "code",
   "execution_count": null,
   "metadata": {
    "id": "ert4X5LQvGlc",
    "vscode": {
     "languageId": "python"
    }
   },
   "outputs": [],
   "source": []
  },
  {
   "cell_type": "markdown",
   "metadata": {
    "id": "8kBNMMbsvkuL"
   },
   "source": [
    "# SHAP"
   ]
  },
  {
   "cell_type": "code",
   "execution_count": null,
   "metadata": {
    "colab": {
     "base_uri": "https://localhost:8080/"
    },
    "executionInfo": {
     "elapsed": 6182,
     "status": "ok",
     "timestamp": 1685694883511,
     "user": {
      "displayName": "毛利拓也",
      "userId": "17854120745961292401"
     },
     "user_tz": -540
    },
    "id": "0Zfi2g28u4wz",
    "outputId": "ab218260-5346-4091-a85f-2fae38d29fe2",
    "vscode": {
     "languageId": "python"
    }
   },
   "outputs": [
    {
     "name": "stdout",
     "output_type": "stream",
     "text": [
      "Looking in indexes: https://pypi.org/simple, https://us-python.pkg.dev/colab-wheels/public/simple/\n",
      "Collecting shap\n",
      "  Downloading shap-0.41.0-cp310-cp310-manylinux_2_12_x86_64.manylinux2010_x86_64.whl (572 kB)\n",
      "\u001b[2K     \u001b[90m━━━━━━━━━━━━━━━━━━━━━━━━━━━━━━━━━━━━━━\u001b[0m \u001b[32m572.6/572.6 kB\u001b[0m \u001b[31m19.3 MB/s\u001b[0m eta \u001b[36m0:00:00\u001b[0m\n",
      "\u001b[?25hRequirement already satisfied: numpy in /usr/local/lib/python3.10/dist-packages (from shap) (1.22.4)\n",
      "Requirement already satisfied: scipy in /usr/local/lib/python3.10/dist-packages (from shap) (1.10.1)\n",
      "Requirement already satisfied: scikit-learn in /usr/local/lib/python3.10/dist-packages (from shap) (1.2.2)\n",
      "Requirement already satisfied: pandas in /usr/local/lib/python3.10/dist-packages (from shap) (1.5.3)\n",
      "Requirement already satisfied: tqdm>4.25.0 in /usr/local/lib/python3.10/dist-packages (from shap) (4.65.0)\n",
      "Requirement already satisfied: packaging>20.9 in /usr/local/lib/python3.10/dist-packages (from shap) (23.1)\n",
      "Collecting slicer==0.0.7 (from shap)\n",
      "  Downloading slicer-0.0.7-py3-none-any.whl (14 kB)\n",
      "Requirement already satisfied: numba in /usr/local/lib/python3.10/dist-packages (from shap) (0.56.4)\n",
      "Requirement already satisfied: cloudpickle in /usr/local/lib/python3.10/dist-packages (from shap) (2.2.1)\n",
      "Requirement already satisfied: llvmlite<0.40,>=0.39.0dev0 in /usr/local/lib/python3.10/dist-packages (from numba->shap) (0.39.1)\n",
      "Requirement already satisfied: setuptools in /usr/local/lib/python3.10/dist-packages (from numba->shap) (67.7.2)\n",
      "Requirement already satisfied: python-dateutil>=2.8.1 in /usr/local/lib/python3.10/dist-packages (from pandas->shap) (2.8.2)\n",
      "Requirement already satisfied: pytz>=2020.1 in /usr/local/lib/python3.10/dist-packages (from pandas->shap) (2022.7.1)\n",
      "Requirement already satisfied: joblib>=1.1.1 in /usr/local/lib/python3.10/dist-packages (from scikit-learn->shap) (1.2.0)\n",
      "Requirement already satisfied: threadpoolctl>=2.0.0 in /usr/local/lib/python3.10/dist-packages (from scikit-learn->shap) (3.1.0)\n",
      "Requirement already satisfied: six>=1.5 in /usr/local/lib/python3.10/dist-packages (from python-dateutil>=2.8.1->pandas->shap) (1.16.0)\n",
      "Installing collected packages: slicer, shap\n",
      "Successfully installed shap-0.41.0 slicer-0.0.7\n"
     ]
    }
   ],
   "source": [
    "# ライブラリshapのインストール\n",
    "!pip install shap"
   ]
  },
  {
   "cell_type": "code",
   "execution_count": 19,
   "metadata": {
    "colab": {
     "base_uri": "https://localhost:8080/",
     "height": 36
    },
    "executionInfo": {
     "elapsed": 8529,
     "status": "ok",
     "timestamp": 1685694892022,
     "user": {
      "displayName": "毛利拓也",
      "userId": "17854120745961292401"
     },
     "user_tz": -540
    },
    "id": "_tCb3SH5GGOH",
    "outputId": "c0ff595d-228c-48cd-f7f8-ff3f08f713d8",
    "vscode": {
     "languageId": "python"
    }
   },
   "outputs": [
    {
     "name": "stderr",
     "output_type": "stream",
     "text": [
      "/usr/local/lib/python3.10/site-packages/tqdm/auto.py:21: TqdmWarning: IProgress not found. Please update jupyter and ipywidgets. See https://ipywidgets.readthedocs.io/en/stable/user_install.html\n",
      "  from .autonotebook import tqdm as notebook_tqdm\n"
     ]
    },
    {
     "data": {
      "text/plain": [
       "'0.41.0'"
      ]
     },
     "execution_count": 19,
     "metadata": {},
     "output_type": "execute_result"
    }
   ],
   "source": [
    "# shapのバージョン確認\n",
    "import shap\n",
    "shap.__version__"
   ]
  },
  {
   "cell_type": "code",
   "execution_count": 20,
   "metadata": {
    "id": "45McEUkGHuVq",
    "vscode": {
     "languageId": "python"
    }
   },
   "outputs": [],
   "source": [
    "# explainerの作成\n",
    "import shap\n",
    "explainer = shap.TreeExplainer(\n",
    "    model = model,\n",
    "    feature_pertubation = 'tree_path_dependent')"
   ]
  },
  {
   "cell_type": "code",
   "execution_count": 21,
   "metadata": {
    "id": "nSIfTVgFIA6s",
    "vscode": {
     "languageId": "python"
    }
   },
   "outputs": [],
   "source": [
    "# SHAP値の計算\n",
    "shap_values = explainer(X_test)"
   ]
  },
  {
   "cell_type": "code",
   "execution_count": 22,
   "metadata": {
    "colab": {
     "base_uri": "https://localhost:8080/"
    },
    "executionInfo": {
     "elapsed": 410,
     "status": "ok",
     "timestamp": 1685695074819,
     "user": {
      "displayName": "毛利拓也",
      "userId": "17854120745961292401"
     },
     "user_tz": -540
    },
    "id": "LEQQ7wLCHMp5",
    "outputId": "8c6a284b-706b-460b-d0bd-08e4d1af4279",
    "vscode": {
     "languageId": "python"
    }
   },
   "outputs": [
    {
     "data": {
      "text/plain": [
       "array([3357.55731496, 2933.55703446, 4789.28650622, ...,  596.68289062,\n",
       "        461.34164749,  611.27708734])"
      ]
     },
     "execution_count": 22,
     "metadata": {},
     "output_type": "execute_result"
    }
   ],
   "source": [
    "# テストデータの予測値\n",
    "y_test_pred"
   ]
  },
  {
   "cell_type": "code",
   "execution_count": 23,
   "metadata": {
    "colab": {
     "base_uri": "https://localhost:8080/"
    },
    "executionInfo": {
     "elapsed": 4,
     "status": "ok",
     "timestamp": 1685695078257,
     "user": {
      "displayName": "毛利拓也",
      "userId": "17854120745961292401"
     },
     "user_tz": -540
    },
    "id": "KlTYYMU9vHUt",
    "outputId": "2cd79357-1589-4b1a-d70f-a1f40789ca8a",
    "vscode": {
     "languageId": "python"
    }
   },
   "outputs": [
    {
     "data": {
      "text/plain": [
       "4789.286506223028"
      ]
     },
     "execution_count": 23,
     "metadata": {},
     "output_type": "execute_result"
    }
   ],
   "source": [
    "# 3件目の予測値\n",
    "y_test_pred[2]"
   ]
  },
  {
   "cell_type": "code",
   "execution_count": 24,
   "metadata": {
    "colab": {
     "base_uri": "https://localhost:8080/",
     "height": 579
    },
    "executionInfo": {
     "elapsed": 1371,
     "status": "ok",
     "timestamp": 1685695087940,
     "user": {
      "displayName": "毛利拓也",
      "userId": "17854120745961292401"
     },
     "user_tz": -540
    },
    "id": "nh76FtSNvHXM",
    "outputId": "9d6845b2-6b33-4a46-b4a0-7a922b4cdcee",
    "vscode": {
     "languageId": "python"
    }
   },
   "outputs": [
    {
     "data": {
      "image/png": "[encoded data removed]",
      "text/plain": [
       "<Figure size 800x600 with 3 Axes>"
      ]
     },
     "metadata": {},
     "output_type": "display_data"
    }
   ],
   "source": [
    "# 3件目のSHAP値の可視化\n",
    "shap.plots.waterfall(shap_values[2])"
   ]
  },
  {
   "cell_type": "code",
   "execution_count": 25,
   "metadata": {
    "colab": {
     "base_uri": "https://localhost:8080/",
     "height": 547
    },
    "executionInfo": {
     "elapsed": 437,
     "status": "ok",
     "timestamp": 1685695097729,
     "user": {
      "displayName": "毛利拓也",
      "userId": "17854120745961292401"
     },
     "user_tz": -540
    },
    "id": "GfRfoF4KvHaA",
    "outputId": "791c3f3a-bb8a-47ed-d847-218ed6d79110",
    "vscode": {
     "languageId": "python"
    }
   },
   "outputs": [
    {
     "data": {
      "image/png": "[encoded data removed]",
      "text/plain": [
       "<Figure size 800x600 with 1 Axes>"
      ]
     },
     "metadata": {},
     "output_type": "display_data"
    }
   ],
   "source": [
    "# 重要度の可視化\n",
    "shap.plots.bar(shap_values)"
   ]
  },
  {
   "cell_type": "code",
   "execution_count": null,
   "metadata": {
    "id": "UfCqiUxuV6Gq",
    "vscode": {
     "languageId": "python"
    }
   },
   "outputs": [],
   "source": []
  },
  {
   "cell_type": "markdown",
   "metadata": {
    "id": "9kIO7v2m05Bi"
   },
   "source": [
    "# クロスバリデーション"
   ]
  },
  {
   "cell_type": "code",
   "execution_count": 26,
   "metadata": {
    "colab": {
     "base_uri": "https://localhost:8080/"
    },
    "executionInfo": {
     "elapsed": 40409,
     "status": "ok",
     "timestamp": 1685695162230,
     "user": {
      "displayName": "毛利拓也",
      "userId": "17854120745961292401"
     },
     "user_tz": -540
    },
    "id": "cDW9Elcdxv0g",
    "outputId": "c274ba71-ef8b-4d70-9a43-38aceafc0c81",
    "vscode": {
     "languageId": "python"
    }
   },
   "outputs": [
    {
     "name": "stdout",
     "output_type": "stream",
     "text": [
      "Training until validation scores don't improve for 100 rounds\n",
      "[500]\ttrain's l1: 230.356\tvalid's l1: 260.634\n",
      "[1000]\ttrain's l1: 208.097\tvalid's l1: 257.966\n",
      "Early stopping, best iteration is:\n",
      "[1258]\ttrain's l1: 203.107\tvalid's l1: 257.68\n",
      "fold 1 MAE valid: 257.68\n",
      "\n",
      "Training until validation scores don't improve for 100 rounds\n",
      "[500]\ttrain's l1: 227.67\tvalid's l1: 267.78\n",
      "[1000]\ttrain's l1: 214.526\tvalid's l1: 264.82\n",
      "Early stopping, best iteration is:\n",
      "[1373]\ttrain's l1: 205.323\tvalid's l1: 264.019\n",
      "fold 2 MAE valid: 264.02\n",
      "\n",
      "Training until validation scores don't improve for 100 rounds\n",
      "[500]\ttrain's l1: 227.854\tvalid's l1: 268.653\n",
      "[1000]\ttrain's l1: 212.041\tvalid's l1: 266.975\n",
      "Early stopping, best iteration is:\n",
      "[976]\ttrain's l1: 212.466\tvalid's l1: 266.921\n",
      "fold 3 MAE valid: 266.92\n",
      "\n",
      "Training until validation scores don't improve for 100 rounds\n",
      "[500]\ttrain's l1: 231.676\tvalid's l1: 272.794\n",
      "[1000]\ttrain's l1: 212.137\tvalid's l1: 268.951\n",
      "[1500]\ttrain's l1: 201.575\tvalid's l1: 267.066\n",
      "Early stopping, best iteration is:\n",
      "[1850]\ttrain's l1: 195.874\tvalid's l1: 266.616\n",
      "fold 4 MAE valid: 266.62\n",
      "\n",
      "Training until validation scores don't improve for 100 rounds\n",
      "[500]\ttrain's l1: 228.828\tvalid's l1: 269.547\n",
      "[1000]\ttrain's l1: 209.893\tvalid's l1: 266.498\n",
      "[1500]\ttrain's l1: 203.483\tvalid's l1: 265.871\n",
      "[2000]\ttrain's l1: 196.885\tvalid's l1: 265.36\n",
      "Early stopping, best iteration is:\n",
      "[2206]\ttrain's l1: 195.817\tvalid's l1: 265.265\n",
      "fold 5 MAE valid: 265.27\n",
      "\n",
      "CV score: 264.10\n"
     ]
    }
   ],
   "source": [
    "# クロスバリデーション\n",
    "from sklearn.model_selection import KFold\n",
    "\n",
    "params = {\n",
    "    'objective': 'mae',\n",
    "    'seed': 0,\n",
    "    'verbose': -1,\n",
    "}\n",
    "\n",
    "# 格納用データの作成\n",
    "valid_scores = []\n",
    "models = []\n",
    "oof = np.zeros(len(X_train))\n",
    "\n",
    "# KFoldを用いて学習データを5分割してモデルを作成\n",
    "kf = KFold(n_splits=5, shuffle=True, random_state=0)\n",
    "for fold, (tr_idx, va_idx) in enumerate(kf.split(X_train)):\n",
    "    X_tr = X_train.iloc[tr_idx]\n",
    "    X_va = X_train.iloc[va_idx]\n",
    "    y_tr = y_train.iloc[tr_idx]\n",
    "    y_va = y_train.iloc[va_idx]\n",
    "    \n",
    "    lgb_train = lgb.Dataset(X_tr, y_tr)\n",
    "    lgb_eval = lgb.Dataset(X_va, y_va, reference=lgb_train)\n",
    "\n",
    "    model = lgb.train(params,\n",
    "                      lgb_train,\n",
    "                      num_boost_round=10000,\n",
    "                      valid_sets=[lgb_train, lgb_eval],\n",
    "                      valid_names=['train', 'valid'],\n",
    "                      callbacks=[lgb.early_stopping(100),\n",
    "                                 lgb.log_evaluation(500)])\n",
    "    \n",
    "    y_va_pred = model.predict(X_va, num_iteration=model.best_iteration)\n",
    "    score = mean_absolute_error(y_va, y_va_pred)\n",
    "    print(f'fold {fold+1} MAE valid: {score:.2f}')\n",
    "    print('')\n",
    "\n",
    "    # スコア、モデル、予測値の格納\n",
    "    valid_scores.append(score)\n",
    "    models.append(model)\n",
    "    oof[va_idx] = y_va_pred\n",
    "\n",
    "# クロスバリデーションの平均スコア\n",
    "cv_score = np.mean(valid_scores)\n",
    "print(f'CV score: {cv_score:.2f}')"
   ]
  },
  {
   "cell_type": "code",
   "execution_count": 27,
   "metadata": {
    "colab": {
     "base_uri": "https://localhost:8080/"
    },
    "executionInfo": {
     "elapsed": 346,
     "status": "ok",
     "timestamp": 1685695193288,
     "user": {
      "displayName": "毛利拓也",
      "userId": "17854120745961292401"
     },
     "user_tz": -540
    },
    "id": "v4HCKtLB1NNf",
    "outputId": "2efc4368-fa0e-45f7-d27d-e966fb06515a",
    "vscode": {
     "languageId": "python"
    }
   },
   "outputs": [
    {
     "data": {
      "text/plain": [
       "[257.6803136357446,\n",
       " 264.0191748647657,\n",
       " 266.9213824925146,\n",
       " 266.61596704243175,\n",
       " 265.26537176018445]"
      ]
     },
     "execution_count": 27,
     "metadata": {},
     "output_type": "execute_result"
    }
   ],
   "source": [
    "# foldごとの検証データの誤差\n",
    "valid_scores"
   ]
  },
  {
   "cell_type": "code",
   "execution_count": 28,
   "metadata": {
    "colab": {
     "base_uri": "https://localhost:8080/"
    },
    "executionInfo": {
     "elapsed": 389,
     "status": "ok",
     "timestamp": 1685695197838,
     "user": {
      "displayName": "毛利拓也",
      "userId": "17854120745961292401"
     },
     "user_tz": -540
    },
    "id": "f50ZAv8P1vKb",
    "outputId": "66ade5c9-2627-436c-d819-e396b22f5618",
    "vscode": {
     "languageId": "python"
    }
   },
   "outputs": [
    {
     "name": "stdout",
     "output_type": "stream",
     "text": [
      "MAE CV: 264.10\n"
     ]
    }
   ],
   "source": [
    "# 検証データの誤差平均\n",
    "print('MAE CV: %.2f' % (\n",
    "      mean_absolute_error(y_train, oof)))"
   ]
  },
  {
   "cell_type": "code",
   "execution_count": null,
   "metadata": {
    "id": "KGEagANJ0q0d",
    "vscode": {
     "languageId": "python"
    }
   },
   "outputs": [],
   "source": []
  },
  {
   "cell_type": "markdown",
   "metadata": {
    "id": "FR-dxTor0t09"
   },
   "source": [
    "# 予測モデルの平均値"
   ]
  },
  {
   "cell_type": "code",
   "execution_count": 29,
   "metadata": {
    "colab": {
     "base_uri": "https://localhost:8080/"
    },
    "executionInfo": {
     "elapsed": 6685,
     "status": "ok",
     "timestamp": 1685695268921,
     "user": {
      "displayName": "毛利拓也",
      "userId": "17854120745961292401"
     },
     "user_tz": -540
    },
    "id": "AwTCMVA32euQ",
    "outputId": "0c09b46c-6e08-422c-b77d-5592513f6621",
    "vscode": {
     "languageId": "python"
    }
   },
   "outputs": [
    {
     "name": "stdout",
     "output_type": "stream",
     "text": [
      "モデルごとの予測： (5, 10783)\n",
      "[[3357.55731496 2933.55703446 4789.28650622 ...  596.68289062\n",
      "   461.34164749  611.27708734]\n",
      " [3046.89423838 3009.72448027 4783.18206834 ...  615.30171861\n",
      "   456.22082331  627.25542305]\n",
      " [3194.00064914 3034.97563635 4747.57165566 ...  618.65409256\n",
      "   452.95556076  627.44648992]\n",
      " [3281.33379662 3051.24444092 4787.61204173 ...  595.67280357\n",
      "   453.43456254  635.09512176]\n",
      " [3010.85446123 3028.76361108 4697.9380019  ...  622.24429962\n",
      "   454.05096045  637.08895486]]\n"
     ]
    }
   ],
   "source": [
    "# モデルごとのテストデータの予測\n",
    "preds = []\n",
    "for model in models:\n",
    "  # クロスバリデーションで作成したモデルで予測\n",
    "  y_test_pred = model.predict(X_test, num_iteration=model.best_iteration)\n",
    "  preds.append(y_test_pred)\n",
    "\n",
    "y_test_preds = np.array(preds)\n",
    "print('モデルごとの予測：', y_test_preds.shape)\n",
    "print(y_test_preds)"
   ]
  },
  {
   "cell_type": "code",
   "execution_count": 30,
   "metadata": {
    "colab": {
     "base_uri": "https://localhost:8080/"
    },
    "executionInfo": {
     "elapsed": 116,
     "status": "ok",
     "timestamp": 1685695268927,
     "user": {
      "displayName": "毛利拓也",
      "userId": "17854120745961292401"
     },
     "user_tz": -540
    },
    "id": "YIiJtZ8jIr5s",
    "outputId": "b829b3db-69aa-4f1b-fae9-a40f9328ca9a",
    "vscode": {
     "languageId": "python"
    }
   },
   "outputs": [
    {
     "name": "stdout",
     "output_type": "stream",
     "text": [
      "全モデルの予測平均： (10783,)\n",
      "[3178.12809207 3011.65304062 4761.11805477 ...  609.71116099  455.60071091\n",
      "  627.63261539]\n"
     ]
    }
   ],
   "source": [
    "# 全モデルの予測平均\n",
    "y_test_pred_mean = np.mean(y_test_preds ,axis=0)\n",
    "print('全モデルの予測平均：', y_test_pred_mean.shape)\n",
    "print(y_test_pred_mean)"
   ]
  },
  {
   "cell_type": "code",
   "execution_count": 31,
   "metadata": {
    "colab": {
     "base_uri": "https://localhost:8080/"
    },
    "executionInfo": {
     "elapsed": 106,
     "status": "ok",
     "timestamp": 1685695268931,
     "user": {
      "displayName": "毛利拓也",
      "userId": "17854120745961292401"
     },
     "user_tz": -540
    },
    "id": "eYocT7fgzggF",
    "outputId": "f306aaaf-1874-47d2-fbfb-52d76af5d28a",
    "vscode": {
     "languageId": "python"
    }
   },
   "outputs": [
    {
     "name": "stdout",
     "output_type": "stream",
     "text": [
      "MAE test: 254.55\n"
     ]
    }
   ],
   "source": [
    "# 正解と予測平均の誤差\n",
    "print('MAE test: %.2f' % (\n",
    "      mean_absolute_error(y_test, y_test_pred_mean)))"
   ]
  },
  {
   "cell_type": "code",
   "execution_count": null,
   "metadata": {
    "id": "fbQ1DkGpK4Hn",
    "vscode": {
     "languageId": "python"
    }
   },
   "outputs": [],
   "source": []
  }
 ],
 "metadata": {
  "colab": {
   "provenance": []
  },
  "kernelspec": {
   "display_name": "Python 3 (ipykernel)",
   "language": "python",
   "name": "python3"
  },
  "language_info": {
   "codemirror_mode": {
    "name": "ipython",
    "version": 3
   },
   "file_extension": ".py",
   "mimetype": "text/x-python",
   "name": "python",
   "nbconvert_exporter": "python",
   "pygments_lexer": "ipython3",
   "version": "3.10.11"
  }
 },
 "nbformat": 4,
 "nbformat_minor": 4
}
